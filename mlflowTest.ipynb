{
 "cells": [
  {
   "cell_type": "code",
   "execution_count": 3,
   "metadata": {},
   "outputs": [],
   "source": [
    "from ultralytics import YOLO\n",
    "import cv2\n",
    "from IPython.display import Image as Im\n",
    "import numpy as np\n",
    "import os \n",
    "import pandas as pd\n",
    "import matplotlib.pyplot as plt\n",
    "import csv"
   ]
  },
  {
   "cell_type": "code",
   "execution_count": 2,
   "metadata": {},
   "outputs": [
    {
     "data": {
      "text/plain": [
       "YOLO(\n",
       "  (model): PoseModel(\n",
       "    (model): Sequential(\n",
       "      (0): Conv(\n",
       "        (conv): Conv2d(3, 16, kernel_size=(3, 3), stride=(2, 2), padding=(1, 1), bias=False)\n",
       "        (bn): BatchNorm2d(16, eps=0.001, momentum=0.03, affine=True, track_running_stats=True)\n",
       "        (act): SiLU(inplace=True)\n",
       "      )\n",
       "      (1): Conv(\n",
       "        (conv): Conv2d(16, 32, kernel_size=(3, 3), stride=(2, 2), padding=(1, 1), bias=False)\n",
       "        (bn): BatchNorm2d(32, eps=0.001, momentum=0.03, affine=True, track_running_stats=True)\n",
       "        (act): SiLU(inplace=True)\n",
       "      )\n",
       "      (2): C2f(\n",
       "        (cv1): Conv(\n",
       "          (conv): Conv2d(32, 32, kernel_size=(1, 1), stride=(1, 1), bias=False)\n",
       "          (bn): BatchNorm2d(32, eps=0.001, momentum=0.03, affine=True, track_running_stats=True)\n",
       "          (act): SiLU(inplace=True)\n",
       "        )\n",
       "        (cv2): Conv(\n",
       "          (conv): Conv2d(48, 32, kernel_size=(1, 1), stride=(1, 1), bias=False)\n",
       "          (bn): BatchNorm2d(32, eps=0.001, momentum=0.03, affine=True, track_running_stats=True)\n",
       "          (act): SiLU(inplace=True)\n",
       "        )\n",
       "        (m): ModuleList(\n",
       "          (0): Bottleneck(\n",
       "            (cv1): Conv(\n",
       "              (conv): Conv2d(16, 16, kernel_size=(3, 3), stride=(1, 1), padding=(1, 1), bias=False)\n",
       "              (bn): BatchNorm2d(16, eps=0.001, momentum=0.03, affine=True, track_running_stats=True)\n",
       "              (act): SiLU(inplace=True)\n",
       "            )\n",
       "            (cv2): Conv(\n",
       "              (conv): Conv2d(16, 16, kernel_size=(3, 3), stride=(1, 1), padding=(1, 1), bias=False)\n",
       "              (bn): BatchNorm2d(16, eps=0.001, momentum=0.03, affine=True, track_running_stats=True)\n",
       "              (act): SiLU(inplace=True)\n",
       "            )\n",
       "          )\n",
       "        )\n",
       "      )\n",
       "      (3): Conv(\n",
       "        (conv): Conv2d(32, 64, kernel_size=(3, 3), stride=(2, 2), padding=(1, 1), bias=False)\n",
       "        (bn): BatchNorm2d(64, eps=0.001, momentum=0.03, affine=True, track_running_stats=True)\n",
       "        (act): SiLU(inplace=True)\n",
       "      )\n",
       "      (4): C2f(\n",
       "        (cv1): Conv(\n",
       "          (conv): Conv2d(64, 64, kernel_size=(1, 1), stride=(1, 1), bias=False)\n",
       "          (bn): BatchNorm2d(64, eps=0.001, momentum=0.03, affine=True, track_running_stats=True)\n",
       "          (act): SiLU(inplace=True)\n",
       "        )\n",
       "        (cv2): Conv(\n",
       "          (conv): Conv2d(128, 64, kernel_size=(1, 1), stride=(1, 1), bias=False)\n",
       "          (bn): BatchNorm2d(64, eps=0.001, momentum=0.03, affine=True, track_running_stats=True)\n",
       "          (act): SiLU(inplace=True)\n",
       "        )\n",
       "        (m): ModuleList(\n",
       "          (0): Bottleneck(\n",
       "            (cv1): Conv(\n",
       "              (conv): Conv2d(32, 32, kernel_size=(3, 3), stride=(1, 1), padding=(1, 1), bias=False)\n",
       "              (bn): BatchNorm2d(32, eps=0.001, momentum=0.03, affine=True, track_running_stats=True)\n",
       "              (act): SiLU(inplace=True)\n",
       "            )\n",
       "            (cv2): Conv(\n",
       "              (conv): Conv2d(32, 32, kernel_size=(3, 3), stride=(1, 1), padding=(1, 1), bias=False)\n",
       "              (bn): BatchNorm2d(32, eps=0.001, momentum=0.03, affine=True, track_running_stats=True)\n",
       "              (act): SiLU(inplace=True)\n",
       "            )\n",
       "          )\n",
       "          (1): Bottleneck(\n",
       "            (cv1): Conv(\n",
       "              (conv): Conv2d(32, 32, kernel_size=(3, 3), stride=(1, 1), padding=(1, 1), bias=False)\n",
       "              (bn): BatchNorm2d(32, eps=0.001, momentum=0.03, affine=True, track_running_stats=True)\n",
       "              (act): SiLU(inplace=True)\n",
       "            )\n",
       "            (cv2): Conv(\n",
       "              (conv): Conv2d(32, 32, kernel_size=(3, 3), stride=(1, 1), padding=(1, 1), bias=False)\n",
       "              (bn): BatchNorm2d(32, eps=0.001, momentum=0.03, affine=True, track_running_stats=True)\n",
       "              (act): SiLU(inplace=True)\n",
       "            )\n",
       "          )\n",
       "        )\n",
       "      )\n",
       "      (5): Conv(\n",
       "        (conv): Conv2d(64, 128, kernel_size=(3, 3), stride=(2, 2), padding=(1, 1), bias=False)\n",
       "        (bn): BatchNorm2d(128, eps=0.001, momentum=0.03, affine=True, track_running_stats=True)\n",
       "        (act): SiLU(inplace=True)\n",
       "      )\n",
       "      (6): C2f(\n",
       "        (cv1): Conv(\n",
       "          (conv): Conv2d(128, 128, kernel_size=(1, 1), stride=(1, 1), bias=False)\n",
       "          (bn): BatchNorm2d(128, eps=0.001, momentum=0.03, affine=True, track_running_stats=True)\n",
       "          (act): SiLU(inplace=True)\n",
       "        )\n",
       "        (cv2): Conv(\n",
       "          (conv): Conv2d(256, 128, kernel_size=(1, 1), stride=(1, 1), bias=False)\n",
       "          (bn): BatchNorm2d(128, eps=0.001, momentum=0.03, affine=True, track_running_stats=True)\n",
       "          (act): SiLU(inplace=True)\n",
       "        )\n",
       "        (m): ModuleList(\n",
       "          (0): Bottleneck(\n",
       "            (cv1): Conv(\n",
       "              (conv): Conv2d(64, 64, kernel_size=(3, 3), stride=(1, 1), padding=(1, 1), bias=False)\n",
       "              (bn): BatchNorm2d(64, eps=0.001, momentum=0.03, affine=True, track_running_stats=True)\n",
       "              (act): SiLU(inplace=True)\n",
       "            )\n",
       "            (cv2): Conv(\n",
       "              (conv): Conv2d(64, 64, kernel_size=(3, 3), stride=(1, 1), padding=(1, 1), bias=False)\n",
       "              (bn): BatchNorm2d(64, eps=0.001, momentum=0.03, affine=True, track_running_stats=True)\n",
       "              (act): SiLU(inplace=True)\n",
       "            )\n",
       "          )\n",
       "          (1): Bottleneck(\n",
       "            (cv1): Conv(\n",
       "              (conv): Conv2d(64, 64, kernel_size=(3, 3), stride=(1, 1), padding=(1, 1), bias=False)\n",
       "              (bn): BatchNorm2d(64, eps=0.001, momentum=0.03, affine=True, track_running_stats=True)\n",
       "              (act): SiLU(inplace=True)\n",
       "            )\n",
       "            (cv2): Conv(\n",
       "              (conv): Conv2d(64, 64, kernel_size=(3, 3), stride=(1, 1), padding=(1, 1), bias=False)\n",
       "              (bn): BatchNorm2d(64, eps=0.001, momentum=0.03, affine=True, track_running_stats=True)\n",
       "              (act): SiLU(inplace=True)\n",
       "            )\n",
       "          )\n",
       "        )\n",
       "      )\n",
       "      (7): Conv(\n",
       "        (conv): Conv2d(128, 256, kernel_size=(3, 3), stride=(2, 2), padding=(1, 1), bias=False)\n",
       "        (bn): BatchNorm2d(256, eps=0.001, momentum=0.03, affine=True, track_running_stats=True)\n",
       "        (act): SiLU(inplace=True)\n",
       "      )\n",
       "      (8): C2f(\n",
       "        (cv1): Conv(\n",
       "          (conv): Conv2d(256, 256, kernel_size=(1, 1), stride=(1, 1), bias=False)\n",
       "          (bn): BatchNorm2d(256, eps=0.001, momentum=0.03, affine=True, track_running_stats=True)\n",
       "          (act): SiLU(inplace=True)\n",
       "        )\n",
       "        (cv2): Conv(\n",
       "          (conv): Conv2d(384, 256, kernel_size=(1, 1), stride=(1, 1), bias=False)\n",
       "          (bn): BatchNorm2d(256, eps=0.001, momentum=0.03, affine=True, track_running_stats=True)\n",
       "          (act): SiLU(inplace=True)\n",
       "        )\n",
       "        (m): ModuleList(\n",
       "          (0): Bottleneck(\n",
       "            (cv1): Conv(\n",
       "              (conv): Conv2d(128, 128, kernel_size=(3, 3), stride=(1, 1), padding=(1, 1), bias=False)\n",
       "              (bn): BatchNorm2d(128, eps=0.001, momentum=0.03, affine=True, track_running_stats=True)\n",
       "              (act): SiLU(inplace=True)\n",
       "            )\n",
       "            (cv2): Conv(\n",
       "              (conv): Conv2d(128, 128, kernel_size=(3, 3), stride=(1, 1), padding=(1, 1), bias=False)\n",
       "              (bn): BatchNorm2d(128, eps=0.001, momentum=0.03, affine=True, track_running_stats=True)\n",
       "              (act): SiLU(inplace=True)\n",
       "            )\n",
       "          )\n",
       "        )\n",
       "      )\n",
       "      (9): SPPF(\n",
       "        (cv1): Conv(\n",
       "          (conv): Conv2d(256, 128, kernel_size=(1, 1), stride=(1, 1), bias=False)\n",
       "          (bn): BatchNorm2d(128, eps=0.001, momentum=0.03, affine=True, track_running_stats=True)\n",
       "          (act): SiLU(inplace=True)\n",
       "        )\n",
       "        (cv2): Conv(\n",
       "          (conv): Conv2d(512, 256, kernel_size=(1, 1), stride=(1, 1), bias=False)\n",
       "          (bn): BatchNorm2d(256, eps=0.001, momentum=0.03, affine=True, track_running_stats=True)\n",
       "          (act): SiLU(inplace=True)\n",
       "        )\n",
       "        (m): MaxPool2d(kernel_size=5, stride=1, padding=2, dilation=1, ceil_mode=False)\n",
       "      )\n",
       "      (10): Upsample(scale_factor=2.0, mode=nearest)\n",
       "      (11): Concat()\n",
       "      (12): C2f(\n",
       "        (cv1): Conv(\n",
       "          (conv): Conv2d(384, 128, kernel_size=(1, 1), stride=(1, 1), bias=False)\n",
       "          (bn): BatchNorm2d(128, eps=0.001, momentum=0.03, affine=True, track_running_stats=True)\n",
       "          (act): SiLU(inplace=True)\n",
       "        )\n",
       "        (cv2): Conv(\n",
       "          (conv): Conv2d(192, 128, kernel_size=(1, 1), stride=(1, 1), bias=False)\n",
       "          (bn): BatchNorm2d(128, eps=0.001, momentum=0.03, affine=True, track_running_stats=True)\n",
       "          (act): SiLU(inplace=True)\n",
       "        )\n",
       "        (m): ModuleList(\n",
       "          (0): Bottleneck(\n",
       "            (cv1): Conv(\n",
       "              (conv): Conv2d(64, 64, kernel_size=(3, 3), stride=(1, 1), padding=(1, 1), bias=False)\n",
       "              (bn): BatchNorm2d(64, eps=0.001, momentum=0.03, affine=True, track_running_stats=True)\n",
       "              (act): SiLU(inplace=True)\n",
       "            )\n",
       "            (cv2): Conv(\n",
       "              (conv): Conv2d(64, 64, kernel_size=(3, 3), stride=(1, 1), padding=(1, 1), bias=False)\n",
       "              (bn): BatchNorm2d(64, eps=0.001, momentum=0.03, affine=True, track_running_stats=True)\n",
       "              (act): SiLU(inplace=True)\n",
       "            )\n",
       "          )\n",
       "        )\n",
       "      )\n",
       "      (13): Upsample(scale_factor=2.0, mode=nearest)\n",
       "      (14): Concat()\n",
       "      (15): C2f(\n",
       "        (cv1): Conv(\n",
       "          (conv): Conv2d(192, 64, kernel_size=(1, 1), stride=(1, 1), bias=False)\n",
       "          (bn): BatchNorm2d(64, eps=0.001, momentum=0.03, affine=True, track_running_stats=True)\n",
       "          (act): SiLU(inplace=True)\n",
       "        )\n",
       "        (cv2): Conv(\n",
       "          (conv): Conv2d(96, 64, kernel_size=(1, 1), stride=(1, 1), bias=False)\n",
       "          (bn): BatchNorm2d(64, eps=0.001, momentum=0.03, affine=True, track_running_stats=True)\n",
       "          (act): SiLU(inplace=True)\n",
       "        )\n",
       "        (m): ModuleList(\n",
       "          (0): Bottleneck(\n",
       "            (cv1): Conv(\n",
       "              (conv): Conv2d(32, 32, kernel_size=(3, 3), stride=(1, 1), padding=(1, 1), bias=False)\n",
       "              (bn): BatchNorm2d(32, eps=0.001, momentum=0.03, affine=True, track_running_stats=True)\n",
       "              (act): SiLU(inplace=True)\n",
       "            )\n",
       "            (cv2): Conv(\n",
       "              (conv): Conv2d(32, 32, kernel_size=(3, 3), stride=(1, 1), padding=(1, 1), bias=False)\n",
       "              (bn): BatchNorm2d(32, eps=0.001, momentum=0.03, affine=True, track_running_stats=True)\n",
       "              (act): SiLU(inplace=True)\n",
       "            )\n",
       "          )\n",
       "        )\n",
       "      )\n",
       "      (16): Conv(\n",
       "        (conv): Conv2d(64, 64, kernel_size=(3, 3), stride=(2, 2), padding=(1, 1), bias=False)\n",
       "        (bn): BatchNorm2d(64, eps=0.001, momentum=0.03, affine=True, track_running_stats=True)\n",
       "        (act): SiLU(inplace=True)\n",
       "      )\n",
       "      (17): Concat()\n",
       "      (18): C2f(\n",
       "        (cv1): Conv(\n",
       "          (conv): Conv2d(192, 128, kernel_size=(1, 1), stride=(1, 1), bias=False)\n",
       "          (bn): BatchNorm2d(128, eps=0.001, momentum=0.03, affine=True, track_running_stats=True)\n",
       "          (act): SiLU(inplace=True)\n",
       "        )\n",
       "        (cv2): Conv(\n",
       "          (conv): Conv2d(192, 128, kernel_size=(1, 1), stride=(1, 1), bias=False)\n",
       "          (bn): BatchNorm2d(128, eps=0.001, momentum=0.03, affine=True, track_running_stats=True)\n",
       "          (act): SiLU(inplace=True)\n",
       "        )\n",
       "        (m): ModuleList(\n",
       "          (0): Bottleneck(\n",
       "            (cv1): Conv(\n",
       "              (conv): Conv2d(64, 64, kernel_size=(3, 3), stride=(1, 1), padding=(1, 1), bias=False)\n",
       "              (bn): BatchNorm2d(64, eps=0.001, momentum=0.03, affine=True, track_running_stats=True)\n",
       "              (act): SiLU(inplace=True)\n",
       "            )\n",
       "            (cv2): Conv(\n",
       "              (conv): Conv2d(64, 64, kernel_size=(3, 3), stride=(1, 1), padding=(1, 1), bias=False)\n",
       "              (bn): BatchNorm2d(64, eps=0.001, momentum=0.03, affine=True, track_running_stats=True)\n",
       "              (act): SiLU(inplace=True)\n",
       "            )\n",
       "          )\n",
       "        )\n",
       "      )\n",
       "      (19): Conv(\n",
       "        (conv): Conv2d(128, 128, kernel_size=(3, 3), stride=(2, 2), padding=(1, 1), bias=False)\n",
       "        (bn): BatchNorm2d(128, eps=0.001, momentum=0.03, affine=True, track_running_stats=True)\n",
       "        (act): SiLU(inplace=True)\n",
       "      )\n",
       "      (20): Concat()\n",
       "      (21): C2f(\n",
       "        (cv1): Conv(\n",
       "          (conv): Conv2d(384, 256, kernel_size=(1, 1), stride=(1, 1), bias=False)\n",
       "          (bn): BatchNorm2d(256, eps=0.001, momentum=0.03, affine=True, track_running_stats=True)\n",
       "          (act): SiLU(inplace=True)\n",
       "        )\n",
       "        (cv2): Conv(\n",
       "          (conv): Conv2d(384, 256, kernel_size=(1, 1), stride=(1, 1), bias=False)\n",
       "          (bn): BatchNorm2d(256, eps=0.001, momentum=0.03, affine=True, track_running_stats=True)\n",
       "          (act): SiLU(inplace=True)\n",
       "        )\n",
       "        (m): ModuleList(\n",
       "          (0): Bottleneck(\n",
       "            (cv1): Conv(\n",
       "              (conv): Conv2d(128, 128, kernel_size=(3, 3), stride=(1, 1), padding=(1, 1), bias=False)\n",
       "              (bn): BatchNorm2d(128, eps=0.001, momentum=0.03, affine=True, track_running_stats=True)\n",
       "              (act): SiLU(inplace=True)\n",
       "            )\n",
       "            (cv2): Conv(\n",
       "              (conv): Conv2d(128, 128, kernel_size=(3, 3), stride=(1, 1), padding=(1, 1), bias=False)\n",
       "              (bn): BatchNorm2d(128, eps=0.001, momentum=0.03, affine=True, track_running_stats=True)\n",
       "              (act): SiLU(inplace=True)\n",
       "            )\n",
       "          )\n",
       "        )\n",
       "      )\n",
       "      (22): Pose(\n",
       "        (cv2): ModuleList(\n",
       "          (0): Sequential(\n",
       "            (0): Conv(\n",
       "              (conv): Conv2d(64, 64, kernel_size=(3, 3), stride=(1, 1), padding=(1, 1), bias=False)\n",
       "              (bn): BatchNorm2d(64, eps=0.001, momentum=0.03, affine=True, track_running_stats=True)\n",
       "              (act): SiLU(inplace=True)\n",
       "            )\n",
       "            (1): Conv(\n",
       "              (conv): Conv2d(64, 64, kernel_size=(3, 3), stride=(1, 1), padding=(1, 1), bias=False)\n",
       "              (bn): BatchNorm2d(64, eps=0.001, momentum=0.03, affine=True, track_running_stats=True)\n",
       "              (act): SiLU(inplace=True)\n",
       "            )\n",
       "            (2): Conv2d(64, 64, kernel_size=(1, 1), stride=(1, 1))\n",
       "          )\n",
       "          (1): Sequential(\n",
       "            (0): Conv(\n",
       "              (conv): Conv2d(128, 64, kernel_size=(3, 3), stride=(1, 1), padding=(1, 1), bias=False)\n",
       "              (bn): BatchNorm2d(64, eps=0.001, momentum=0.03, affine=True, track_running_stats=True)\n",
       "              (act): SiLU(inplace=True)\n",
       "            )\n",
       "            (1): Conv(\n",
       "              (conv): Conv2d(64, 64, kernel_size=(3, 3), stride=(1, 1), padding=(1, 1), bias=False)\n",
       "              (bn): BatchNorm2d(64, eps=0.001, momentum=0.03, affine=True, track_running_stats=True)\n",
       "              (act): SiLU(inplace=True)\n",
       "            )\n",
       "            (2): Conv2d(64, 64, kernel_size=(1, 1), stride=(1, 1))\n",
       "          )\n",
       "          (2): Sequential(\n",
       "            (0): Conv(\n",
       "              (conv): Conv2d(256, 64, kernel_size=(3, 3), stride=(1, 1), padding=(1, 1), bias=False)\n",
       "              (bn): BatchNorm2d(64, eps=0.001, momentum=0.03, affine=True, track_running_stats=True)\n",
       "              (act): SiLU(inplace=True)\n",
       "            )\n",
       "            (1): Conv(\n",
       "              (conv): Conv2d(64, 64, kernel_size=(3, 3), stride=(1, 1), padding=(1, 1), bias=False)\n",
       "              (bn): BatchNorm2d(64, eps=0.001, momentum=0.03, affine=True, track_running_stats=True)\n",
       "              (act): SiLU(inplace=True)\n",
       "            )\n",
       "            (2): Conv2d(64, 64, kernel_size=(1, 1), stride=(1, 1))\n",
       "          )\n",
       "        )\n",
       "        (cv3): ModuleList(\n",
       "          (0): Sequential(\n",
       "            (0): Conv(\n",
       "              (conv): Conv2d(64, 64, kernel_size=(3, 3), stride=(1, 1), padding=(1, 1), bias=False)\n",
       "              (bn): BatchNorm2d(64, eps=0.001, momentum=0.03, affine=True, track_running_stats=True)\n",
       "              (act): SiLU(inplace=True)\n",
       "            )\n",
       "            (1): Conv(\n",
       "              (conv): Conv2d(64, 64, kernel_size=(3, 3), stride=(1, 1), padding=(1, 1), bias=False)\n",
       "              (bn): BatchNorm2d(64, eps=0.001, momentum=0.03, affine=True, track_running_stats=True)\n",
       "              (act): SiLU(inplace=True)\n",
       "            )\n",
       "            (2): Conv2d(64, 1, kernel_size=(1, 1), stride=(1, 1))\n",
       "          )\n",
       "          (1): Sequential(\n",
       "            (0): Conv(\n",
       "              (conv): Conv2d(128, 64, kernel_size=(3, 3), stride=(1, 1), padding=(1, 1), bias=False)\n",
       "              (bn): BatchNorm2d(64, eps=0.001, momentum=0.03, affine=True, track_running_stats=True)\n",
       "              (act): SiLU(inplace=True)\n",
       "            )\n",
       "            (1): Conv(\n",
       "              (conv): Conv2d(64, 64, kernel_size=(3, 3), stride=(1, 1), padding=(1, 1), bias=False)\n",
       "              (bn): BatchNorm2d(64, eps=0.001, momentum=0.03, affine=True, track_running_stats=True)\n",
       "              (act): SiLU(inplace=True)\n",
       "            )\n",
       "            (2): Conv2d(64, 1, kernel_size=(1, 1), stride=(1, 1))\n",
       "          )\n",
       "          (2): Sequential(\n",
       "            (0): Conv(\n",
       "              (conv): Conv2d(256, 64, kernel_size=(3, 3), stride=(1, 1), padding=(1, 1), bias=False)\n",
       "              (bn): BatchNorm2d(64, eps=0.001, momentum=0.03, affine=True, track_running_stats=True)\n",
       "              (act): SiLU(inplace=True)\n",
       "            )\n",
       "            (1): Conv(\n",
       "              (conv): Conv2d(64, 64, kernel_size=(3, 3), stride=(1, 1), padding=(1, 1), bias=False)\n",
       "              (bn): BatchNorm2d(64, eps=0.001, momentum=0.03, affine=True, track_running_stats=True)\n",
       "              (act): SiLU(inplace=True)\n",
       "            )\n",
       "            (2): Conv2d(64, 1, kernel_size=(1, 1), stride=(1, 1))\n",
       "          )\n",
       "        )\n",
       "        (dfl): DFL(\n",
       "          (conv): Conv2d(16, 1, kernel_size=(1, 1), stride=(1, 1), bias=False)\n",
       "        )\n",
       "        (cv4): ModuleList(\n",
       "          (0): Sequential(\n",
       "            (0): Conv(\n",
       "              (conv): Conv2d(64, 48, kernel_size=(3, 3), stride=(1, 1), padding=(1, 1), bias=False)\n",
       "              (bn): BatchNorm2d(48, eps=0.001, momentum=0.03, affine=True, track_running_stats=True)\n",
       "              (act): SiLU(inplace=True)\n",
       "            )\n",
       "            (1): Conv(\n",
       "              (conv): Conv2d(48, 48, kernel_size=(3, 3), stride=(1, 1), padding=(1, 1), bias=False)\n",
       "              (bn): BatchNorm2d(48, eps=0.001, momentum=0.03, affine=True, track_running_stats=True)\n",
       "              (act): SiLU(inplace=True)\n",
       "            )\n",
       "            (2): Conv2d(48, 48, kernel_size=(1, 1), stride=(1, 1))\n",
       "          )\n",
       "          (1): Sequential(\n",
       "            (0): Conv(\n",
       "              (conv): Conv2d(128, 48, kernel_size=(3, 3), stride=(1, 1), padding=(1, 1), bias=False)\n",
       "              (bn): BatchNorm2d(48, eps=0.001, momentum=0.03, affine=True, track_running_stats=True)\n",
       "              (act): SiLU(inplace=True)\n",
       "            )\n",
       "            (1): Conv(\n",
       "              (conv): Conv2d(48, 48, kernel_size=(3, 3), stride=(1, 1), padding=(1, 1), bias=False)\n",
       "              (bn): BatchNorm2d(48, eps=0.001, momentum=0.03, affine=True, track_running_stats=True)\n",
       "              (act): SiLU(inplace=True)\n",
       "            )\n",
       "            (2): Conv2d(48, 48, kernel_size=(1, 1), stride=(1, 1))\n",
       "          )\n",
       "          (2): Sequential(\n",
       "            (0): Conv(\n",
       "              (conv): Conv2d(256, 48, kernel_size=(3, 3), stride=(1, 1), padding=(1, 1), bias=False)\n",
       "              (bn): BatchNorm2d(48, eps=0.001, momentum=0.03, affine=True, track_running_stats=True)\n",
       "              (act): SiLU(inplace=True)\n",
       "            )\n",
       "            (1): Conv(\n",
       "              (conv): Conv2d(48, 48, kernel_size=(3, 3), stride=(1, 1), padding=(1, 1), bias=False)\n",
       "              (bn): BatchNorm2d(48, eps=0.001, momentum=0.03, affine=True, track_running_stats=True)\n",
       "              (act): SiLU(inplace=True)\n",
       "            )\n",
       "            (2): Conv2d(48, 48, kernel_size=(1, 1), stride=(1, 1))\n",
       "          )\n",
       "        )\n",
       "      )\n",
       "    )\n",
       "  )\n",
       ")"
      ]
     },
     "execution_count": 2,
     "metadata": {},
     "output_type": "execute_result"
    }
   ],
   "source": [
    "train_no = 44\n",
    "model_path = f'runs15Jan/train{train_no}/weights/best.pt'\n",
    "import torch\n",
    "device = torch.device('cpu')\n",
    "model = YOLO(model_path)  # Or 'path/to/best.pt'\n",
    "model.to(device)"
   ]
  },
  {
   "cell_type": "code",
   "execution_count": 4,
   "metadata": {},
   "outputs": [],
   "source": [
    "csv_path = \"csv/New_test_2.csv\"\n",
    "df = pd.read_csv(csv_path)"
   ]
  },
  {
   "cell_type": "code",
   "execution_count": 5,
   "metadata": {},
   "outputs": [],
   "source": [
    "def findValue(filename , folder_path , label_path , model):\n",
    "        image_path = os.path.join(folder_path, filename)\n",
    "        keypoints_path = os.path.join(label_path, filename.replace('.jpg', '.txt').replace('.png', '.txt').replace('.jpeg', '.txt'))\n",
    "        if not os.path.exists(keypoints_path):\n",
    "            print(f\"Keypoints file not found for {filename}. Skipping...\")\n",
    "            return \"Not\"\n",
    "        results = model(image_path)[0]\n",
    "        \n",
    "        keypoints_model = results.keypoints.xy[0].numpy()\n",
    "        img = cv2.imread(image_path)\n",
    "\n",
    "        print(filename)\n",
    "        with open(keypoints_path, 'r') as file:\n",
    "            lines = file.readlines()\n",
    "        keypoints_data = list(map(float, lines[0].split(\" \")))\n",
    "        keypoints = np.array(keypoints_data[5:]).reshape(-1, 3)\n",
    "        if not results.keypoints.xy[0].any():\n",
    "            # Handle the case where no keypoints are detected\n",
    "            print(f\"No keypoints detected in {filename}\")\n",
    "            return \"Not\"\n",
    "        \n",
    "        # print(keypoints)\n",
    "        height, width, _ = img.shape\n",
    "        keypoints_model[:,0]/=width\n",
    "        keypoints_model[:,1]/=height\n",
    "        distances = np.linalg.norm(keypoints[:, :2] - keypoints_model, axis=1)\n",
    "\n",
    "        not_visible_keypoints_model = [i for i, keypoint in enumerate(keypoints[:, :2]) if np.all(keypoint == [0, 0])]\n",
    "        not_visible_keypoints_label = [i for i, keypoint in enumerate(keypoints_model) if np.all(keypoint == [0, 0])]\n",
    "\n",
    "        # Filter out distances for not visible points\n",
    "        visible_distances = [distance for i, distance in enumerate(distances) if i not in not_visible_keypoints_model and i not in not_visible_keypoints_label]\n",
    "\n",
    "        # Calculate statistics only for visible points\n",
    "        if visible_distances:\n",
    "            average_distance = np.mean(visible_distances)\n",
    "            max_closeness = np.max(visible_distances)\n",
    "            min_closeness = np.min(visible_distances)\n",
    "        else:\n",
    "            average_distance = 0\n",
    "            max_closeness = 0\n",
    "            min_closeness = 0\n",
    "        return average_distance , max_closeness , min_closeness , not_visible_keypoints_model , not_visible_keypoints_label"
   ]
  },
  {
   "cell_type": "code",
   "execution_count": 6,
   "metadata": {},
   "outputs": [],
   "source": [
    "def check_avg_dis(model):\n",
    "    count = 0 \n",
    "    sum = 0 \n",
    "    def update_row(row, filename, folder_path, label_path , model):\n",
    "        new_values = findValue(filename, folder_path, label_path ,model)\n",
    "        if new_values != \"Not\":  # Check if keypoints were detected\n",
    "            row['Average Distance'] = new_values[0]\n",
    "            row['Max Closeness'] = new_values[1]\n",
    "            row['Min Closeness'] = new_values[2]\n",
    "            row['Not Visible Points Model'] = new_values[3]\n",
    "            row['Not Visible Points Label'] = new_values[4]\n",
    "        return row\n",
    "    folder_path = 'New_test_img_2/images'\n",
    "    label_path = 'New_test_img_2/labels'\n",
    "    # Iterate through the DataFrame and update values\n",
    "    for index, row in df.iterrows():\n",
    "        filename = row['Image']  # Assuming filename is in the 'Image' column\n",
    "        df.loc[index] = update_row(row, filename, folder_path, label_path , model)\n",
    "        sum+=df.loc[index]['Average Distance']\n",
    "        count+=1\n",
    "    return sum/count\n",
    "\n"
   ]
  },
  {
   "cell_type": "code",
   "execution_count": 7,
   "metadata": {},
   "outputs": [
    {
     "data": {
      "text/html": [
       "<pre style=\"white-space:pre;overflow-x:auto;line-height:normal;font-family:Menlo,'DejaVu Sans Mono',consolas,'Courier New',monospace\">Initialized MLflow to track repo <span style=\"color: #008000; text-decoration-color: #008000\">\"ishant/test2\"</span>\n",
       "</pre>\n"
      ],
      "text/plain": [
       "Initialized MLflow to track repo \u001b[32m\"ishant/test2\"\u001b[0m\n"
      ]
     },
     "metadata": {},
     "output_type": "display_data"
    },
    {
     "data": {
      "text/html": [
       "<pre style=\"white-space:pre;overflow-x:auto;line-height:normal;font-family:Menlo,'DejaVu Sans Mono',consolas,'Courier New',monospace\">Repository ishant/test2 initialized!\n",
       "</pre>\n"
      ],
      "text/plain": [
       "Repository ishant/test2 initialized!\n"
      ]
     },
     "metadata": {},
     "output_type": "display_data"
    }
   ],
   "source": [
    "from ultralytics import settings\n",
    "import dagshub\n",
    "dagshub.init(repo_owner='ishant', repo_name='test2', mlflow=True)\n",
    "# Update a setting\n",
    "settings.update({'mlflow': True})"
   ]
  },
  {
   "cell_type": "code",
   "execution_count": 13,
   "metadata": {},
   "outputs": [
    {
     "name": "stderr",
     "output_type": "stream",
     "text": [
      "\n",
      "image 1/1 /home/ishant/Desktop/KeypointModelTest/New_test_img_2/images/cover_image-20230108161822.jpeg: 480x640 1 car, 78.5ms\n",
      "Speed: 2.8ms preprocess, 78.5ms inference, 0.9ms postprocess per image at shape (1, 3, 480, 640)\n",
      "\n",
      "image 1/1 /home/ishant/Desktop/KeypointModelTest/New_test_img_2/images/right_side_view-20230822192008.jpeg: 480x640 1 car, 91.3ms\n",
      "Speed: 3.3ms preprocess, 91.3ms inference, 2.2ms postprocess per image at shape (1, 3, 480, 640)\n",
      "\n"
     ]
    },
    {
     "name": "stdout",
     "output_type": "stream",
     "text": [
      "cover_image-20230108161822.jpeg\n",
      "right_side_view-20230822192008.jpeg\n"
     ]
    },
    {
     "name": "stderr",
     "output_type": "stream",
     "text": [
      "image 1/1 /home/ishant/Desktop/KeypointModelTest/New_test_img_2/images/front_right_view-20221223114144.jpeg: 480x640 1 car, 102.6ms\n",
      "Speed: 6.6ms preprocess, 102.6ms inference, 1.2ms postprocess per image at shape (1, 3, 480, 640)\n",
      "\n",
      "image 1/1 /home/ishant/Desktop/KeypointModelTest/New_test_img_2/images/rear_left_view-20230113131454.jpeg: 480x640 1 car, 109.2ms\n",
      "Speed: 3.0ms preprocess, 109.2ms inference, 3.3ms postprocess per image at shape (1, 3, 480, 640)\n",
      "\n"
     ]
    },
    {
     "name": "stdout",
     "output_type": "stream",
     "text": [
      "front_right_view-20221223114144.jpeg\n",
      "rear_left_view-20230113131454.jpeg\n"
     ]
    },
    {
     "name": "stderr",
     "output_type": "stream",
     "text": [
      "image 1/1 /home/ishant/Desktop/KeypointModelTest/New_test_img_2/images/left_side_view-20230424151412.jpg: 512x640 1 car, 128.8ms\n",
      "Speed: 4.2ms preprocess, 128.8ms inference, 1.5ms postprocess per image at shape (1, 3, 512, 640)\n",
      "\n",
      "image 1/1 /home/ishant/Desktop/KeypointModelTest/New_test_img_2/images/rear_right_view-20231202151813.jpeg: 480x640 1 car, 98.0ms\n",
      "Speed: 3.4ms preprocess, 98.0ms inference, 1.0ms postprocess per image at shape (1, 3, 480, 640)\n"
     ]
    },
    {
     "name": "stdout",
     "output_type": "stream",
     "text": [
      "left_side_view-20230424151412.jpg\n",
      "rear_right_view-20231202151813.jpeg\n"
     ]
    },
    {
     "name": "stderr",
     "output_type": "stream",
     "text": [
      "\n",
      "image 1/1 /home/ishant/Desktop/KeypointModelTest/New_test_img_2/images/cover_image-20230524174344.jpeg: 384x640 1 car, 68.5ms\n",
      "Speed: 3.0ms preprocess, 68.5ms inference, 0.8ms postprocess per image at shape (1, 3, 384, 640)\n",
      "\n",
      "image 1/1 /home/ishant/Desktop/KeypointModelTest/New_test_img_2/images/left_side_view-20230505154931.jpg: 480x640 1 car, 81.7ms\n",
      "Speed: 2.7ms preprocess, 81.7ms inference, 1.8ms postprocess per image at shape (1, 3, 480, 640)\n",
      "\n"
     ]
    },
    {
     "name": "stdout",
     "output_type": "stream",
     "text": [
      "cover_image-20230524174344.jpeg\n",
      "left_side_view-20230505154931.jpg\n"
     ]
    },
    {
     "name": "stderr",
     "output_type": "stream",
     "text": [
      "image 1/1 /home/ishant/Desktop/KeypointModelTest/New_test_img_2/images/right_side_view-20230122230748.jpeg: 480x640 1 car, 74.5ms\n",
      "Speed: 2.5ms preprocess, 74.5ms inference, 1.1ms postprocess per image at shape (1, 3, 480, 640)\n",
      "\n",
      "image 1/1 /home/ishant/Desktop/KeypointModelTest/New_test_img_2/images/cover_image-20221210190446.jpeg: 480x640 1 car, 89.2ms\n",
      "Speed: 3.5ms preprocess, 89.2ms inference, 2.3ms postprocess per image at shape (1, 3, 480, 640)\n",
      "\n"
     ]
    },
    {
     "name": "stdout",
     "output_type": "stream",
     "text": [
      "right_side_view-20230122230748.jpeg\n",
      "cover_image-20221210190446.jpeg\n"
     ]
    },
    {
     "name": "stderr",
     "output_type": "stream",
     "text": [
      "image 1/1 /home/ishant/Desktop/KeypointModelTest/New_test_img_2/images/right_side_view-20240103184831.jpg: 480x640 1 car, 71.4ms\n",
      "Speed: 3.2ms preprocess, 71.4ms inference, 0.9ms postprocess per image at shape (1, 3, 480, 640)\n",
      "\n",
      "image 1/1 /home/ishant/Desktop/KeypointModelTest/New_test_img_2/images/front_right_view-20230113131505.jpeg: 480x640 1 car, 79.9ms\n",
      "Speed: 3.4ms preprocess, 79.9ms inference, 1.0ms postprocess per image at shape (1, 3, 480, 640)\n",
      "\n"
     ]
    },
    {
     "name": "stdout",
     "output_type": "stream",
     "text": [
      "right_side_view-20240103184831.jpg\n",
      "front_right_view-20230113131505.jpeg\n"
     ]
    },
    {
     "name": "stderr",
     "output_type": "stream",
     "text": [
      "image 1/1 /home/ishant/Desktop/KeypointModelTest/New_test_img_2/images/rear_right_view-20230113131528.jpeg: 480x640 1 car, 73.2ms\n",
      "Speed: 3.3ms preprocess, 73.2ms inference, 1.1ms postprocess per image at shape (1, 3, 480, 640)\n",
      "\n",
      "image 1/1 /home/ishant/Desktop/KeypointModelTest/New_test_img_2/images/front_right_view-20230612171611.jpeg: 480x640 1 car, 86.6ms\n",
      "Speed: 4.2ms preprocess, 86.6ms inference, 1.0ms postprocess per image at shape (1, 3, 480, 640)\n",
      "\n"
     ]
    },
    {
     "name": "stdout",
     "output_type": "stream",
     "text": [
      "rear_right_view-20230113131528.jpeg\n",
      "front_right_view-20230612171611.jpeg\n"
     ]
    },
    {
     "name": "stderr",
     "output_type": "stream",
     "text": [
      "image 1/1 /home/ishant/Desktop/KeypointModelTest/New_test_img_2/images/front_right_view-20230424151425.jpg: 512x640 1 car, 105.8ms\n",
      "Speed: 2.8ms preprocess, 105.8ms inference, 1.1ms postprocess per image at shape (1, 3, 512, 640)\n",
      "\n",
      "image 1/1 /home/ishant/Desktop/KeypointModelTest/New_test_img_2/images/rear_left_view-20230819134348.jpg: 480x640 1 car, 84.8ms\n",
      "Speed: 10.8ms preprocess, 84.8ms inference, 1.1ms postprocess per image at shape (1, 3, 480, 640)\n",
      "\n"
     ]
    },
    {
     "name": "stdout",
     "output_type": "stream",
     "text": [
      "front_right_view-20230424151425.jpg\n",
      "rear_left_view-20230819134348.jpg\n"
     ]
    },
    {
     "name": "stderr",
     "output_type": "stream",
     "text": [
      "image 1/1 /home/ishant/Desktop/KeypointModelTest/New_test_img_2/images/left_side_view-20230612171512.jpeg: 480x640 1 car, 91.6ms\n",
      "Speed: 6.4ms preprocess, 91.6ms inference, 0.9ms postprocess per image at shape (1, 3, 480, 640)\n",
      "\n",
      "image 1/1 /home/ishant/Desktop/KeypointModelTest/New_test_img_2/images/front_right_view-20230221182625.jpeg: 480x640 1 car, 78.3ms\n",
      "Speed: 2.5ms preprocess, 78.3ms inference, 0.7ms postprocess per image at shape (1, 3, 480, 640)\n",
      "\n"
     ]
    },
    {
     "name": "stdout",
     "output_type": "stream",
     "text": [
      "left_side_view-20230612171512.jpeg\n",
      "front_right_view-20230221182625.jpeg\n"
     ]
    },
    {
     "name": "stderr",
     "output_type": "stream",
     "text": [
      "image 1/1 /home/ishant/Desktop/KeypointModelTest/New_test_img_2/images/front_right_view-20230822192036.jpeg: 480x640 1 car, 79.1ms\n",
      "Speed: 2.2ms preprocess, 79.1ms inference, 1.0ms postprocess per image at shape (1, 3, 480, 640)\n",
      "\n",
      "image 1/1 /home/ishant/Desktop/KeypointModelTest/New_test_img_2/images/rear_right_view-20221223114154.jpeg: 480x640 1 car, 77.0ms\n",
      "Speed: 3.4ms preprocess, 77.0ms inference, 1.0ms postprocess per image at shape (1, 3, 480, 640)\n"
     ]
    },
    {
     "name": "stdout",
     "output_type": "stream",
     "text": [
      "front_right_view-20230822192036.jpeg\n"
     ]
    },
    {
     "name": "stderr",
     "output_type": "stream",
     "text": [
      "\n",
      "image 1/1 /home/ishant/Desktop/KeypointModelTest/New_test_img_2/images/right_side_view-20230819134335.jpg: 480x640 1 car, 111.2ms\n",
      "Speed: 3.2ms preprocess, 111.2ms inference, 3.2ms postprocess per image at shape (1, 3, 480, 640)\n",
      "\n"
     ]
    },
    {
     "name": "stdout",
     "output_type": "stream",
     "text": [
      "rear_right_view-20221223114154.jpeg\n",
      "right_side_view-20230819134335.jpg\n"
     ]
    },
    {
     "name": "stderr",
     "output_type": "stream",
     "text": [
      "image 1/1 /home/ishant/Desktop/KeypointModelTest/New_test_img_2/images/rear_right_view-20221210190639.jpeg: 480x640 1 car, 127.7ms\n",
      "Speed: 2.9ms preprocess, 127.7ms inference, 1.1ms postprocess per image at shape (1, 3, 480, 640)\n",
      "\n",
      "image 1/1 /home/ishant/Desktop/KeypointModelTest/New_test_img_2/images/rear_right_view-20230505154952.jpg: 480x640 1 car, 115.0ms\n",
      "Speed: 5.4ms preprocess, 115.0ms inference, 1.5ms postprocess per image at shape (1, 3, 480, 640)\n",
      "\n"
     ]
    },
    {
     "name": "stdout",
     "output_type": "stream",
     "text": [
      "rear_right_view-20221210190639.jpeg\n",
      "rear_right_view-20230505154952.jpg\n"
     ]
    },
    {
     "name": "stderr",
     "output_type": "stream",
     "text": [
      "image 1/1 /home/ishant/Desktop/KeypointModelTest/New_test_img_2/images/left_side_view-20230819134319.jpg: 480x640 1 car, 122.9ms\n",
      "Speed: 3.7ms preprocess, 122.9ms inference, 1.2ms postprocess per image at shape (1, 3, 480, 640)\n",
      "\n",
      "image 1/1 /home/ishant/Desktop/KeypointModelTest/New_test_img_2/images/cover_image-20240103184802.jpg: 480x640 1 car, 112.3ms\n",
      "Speed: 4.1ms preprocess, 112.3ms inference, 1.4ms postprocess per image at shape (1, 3, 480, 640)\n",
      "\n"
     ]
    },
    {
     "name": "stdout",
     "output_type": "stream",
     "text": [
      "left_side_view-20230819134319.jpg\n",
      "cover_image-20240103184802.jpg\n"
     ]
    },
    {
     "name": "stderr",
     "output_type": "stream",
     "text": [
      "image 1/1 /home/ishant/Desktop/KeypointModelTest/New_test_img_2/images/rear_left_view-20230122230818.jpeg: 480x640 1 car, 109.6ms\n",
      "Speed: 5.8ms preprocess, 109.6ms inference, 1.8ms postprocess per image at shape (1, 3, 480, 640)\n",
      "\n",
      "image 1/1 /home/ishant/Desktop/KeypointModelTest/New_test_img_2/images/left_side_view-20230302145907.jpg: 512x640 1 car, 116.2ms\n",
      "Speed: 3.3ms preprocess, 116.2ms inference, 2.3ms postprocess per image at shape (1, 3, 512, 640)\n",
      "\n"
     ]
    },
    {
     "name": "stdout",
     "output_type": "stream",
     "text": [
      "rear_left_view-20230122230818.jpeg\n",
      "left_side_view-20230302145907.jpg\n"
     ]
    },
    {
     "name": "stderr",
     "output_type": "stream",
     "text": [
      "image 1/1 /home/ishant/Desktop/KeypointModelTest/New_test_img_2/images/front_right_view-20221210190629.jpeg: 480x640 1 car, 121.5ms\n",
      "Speed: 3.5ms preprocess, 121.5ms inference, 1.1ms postprocess per image at shape (1, 3, 480, 640)\n",
      "\n",
      "image 1/1 /home/ishant/Desktop/KeypointModelTest/New_test_img_2/images/cover_image-20231202151725.jpeg: 480x640 1 car, 104.3ms\n",
      "Speed: 4.0ms preprocess, 104.3ms inference, 1.1ms postprocess per image at shape (1, 3, 480, 640)\n"
     ]
    },
    {
     "name": "stdout",
     "output_type": "stream",
     "text": [
      "front_right_view-20221210190629.jpeg\n"
     ]
    },
    {
     "name": "stderr",
     "output_type": "stream",
     "text": [
      "\n"
     ]
    },
    {
     "name": "stdout",
     "output_type": "stream",
     "text": [
      "cover_image-20231202151725.jpeg\n"
     ]
    },
    {
     "name": "stderr",
     "output_type": "stream",
     "text": [
      "image 1/1 /home/ishant/Desktop/KeypointModelTest/New_test_img_2/images/rear_left_view-20230927134157.jpeg: 640x480 1 car, 140.0ms\n",
      "Speed: 5.6ms preprocess, 140.0ms inference, 4.3ms postprocess per image at shape (1, 3, 640, 480)\n",
      "\n",
      "image 1/1 /home/ishant/Desktop/KeypointModelTest/New_test_img_2/images/front_right_view-20230108161943.jpeg: 480x640 1 car, 99.5ms\n",
      "Speed: 3.5ms preprocess, 99.5ms inference, 1.4ms postprocess per image at shape (1, 3, 480, 640)\n"
     ]
    },
    {
     "name": "stdout",
     "output_type": "stream",
     "text": [
      "rear_left_view-20230927134157.jpeg\n"
     ]
    },
    {
     "name": "stderr",
     "output_type": "stream",
     "text": [
      "\n",
      "image 1/1 /home/ishant/Desktop/KeypointModelTest/New_test_img_2/images/front_right_view-20230705185128.jpeg: 480x640 1 car, 102.5ms\n",
      "Speed: 4.1ms preprocess, 102.5ms inference, 1.4ms postprocess per image at shape (1, 3, 480, 640)\n"
     ]
    },
    {
     "name": "stdout",
     "output_type": "stream",
     "text": [
      "front_right_view-20230108161943.jpeg\n"
     ]
    },
    {
     "name": "stderr",
     "output_type": "stream",
     "text": [
      "\n",
      "image 1/1 /home/ishant/Desktop/KeypointModelTest/New_test_img_2/images/rear_left_view-20230822192017.jpeg: 480x640 1 car, 110.9ms\n",
      "Speed: 4.8ms preprocess, 110.9ms inference, 2.8ms postprocess per image at shape (1, 3, 480, 640)\n",
      "\n"
     ]
    },
    {
     "name": "stdout",
     "output_type": "stream",
     "text": [
      "front_right_view-20230705185128.jpeg\n",
      "rear_left_view-20230822192017.jpeg\n"
     ]
    },
    {
     "name": "stderr",
     "output_type": "stream",
     "text": [
      "image 1/1 /home/ishant/Desktop/KeypointModelTest/New_test_img_2/images/right_side_view-20230524174418.jpeg: 384x640 1 car, 113.8ms\n",
      "Speed: 4.3ms preprocess, 113.8ms inference, 0.9ms postprocess per image at shape (1, 3, 384, 640)\n",
      "\n",
      "image 1/1 /home/ishant/Desktop/KeypointModelTest/New_test_img_2/images/right_side_view-20230307161432.jpg: 384x640 1 car, 87.8ms\n",
      "Speed: 2.4ms preprocess, 87.8ms inference, 1.4ms postprocess per image at shape (1, 3, 384, 640)\n",
      "\n"
     ]
    },
    {
     "name": "stdout",
     "output_type": "stream",
     "text": [
      "right_side_view-20230524174418.jpeg\n",
      "right_side_view-20230307161432.jpg\n"
     ]
    },
    {
     "name": "stderr",
     "output_type": "stream",
     "text": [
      "image 1/1 /home/ishant/Desktop/KeypointModelTest/New_test_img_2/images/rear_right_view-20230302145940.jpg: 512x640 1 car, 130.6ms\n",
      "Speed: 4.1ms preprocess, 130.6ms inference, 1.1ms postprocess per image at shape (1, 3, 512, 640)\n",
      "\n",
      "image 1/1 /home/ishant/Desktop/KeypointModelTest/New_test_img_2/images/left_side_view-20230201172302.jpg: 480x640 1 car, 98.2ms\n",
      "Speed: 6.0ms preprocess, 98.2ms inference, 0.7ms postprocess per image at shape (1, 3, 480, 640)\n",
      "\n"
     ]
    },
    {
     "name": "stdout",
     "output_type": "stream",
     "text": [
      "rear_right_view-20230302145940.jpg\n",
      "left_side_view-20230201172302.jpg\n"
     ]
    },
    {
     "name": "stderr",
     "output_type": "stream",
     "text": [
      "image 1/1 /home/ishant/Desktop/KeypointModelTest/New_test_img_2/images/cover_image-20230302155603.jpeg: 384x640 1 car, 76.9ms\n",
      "Speed: 2.6ms preprocess, 76.9ms inference, 0.9ms postprocess per image at shape (1, 3, 384, 640)\n",
      "\n",
      "image 1/1 /home/ishant/Desktop/KeypointModelTest/New_test_img_2/images/left_side_view-20230927134142.jpeg: 480x640 1 car, 82.8ms\n",
      "Speed: 2.6ms preprocess, 82.8ms inference, 1.9ms postprocess per image at shape (1, 3, 480, 640)\n",
      "\n"
     ]
    },
    {
     "name": "stdout",
     "output_type": "stream",
     "text": [
      "cover_image-20230302155603.jpeg\n",
      "left_side_view-20230927134142.jpeg\n"
     ]
    },
    {
     "name": "stderr",
     "output_type": "stream",
     "text": [
      "image 1/1 /home/ishant/Desktop/KeypointModelTest/New_test_img_2/images/cover_image-20230612171440.jpeg: 480x640 1 car, 75.3ms\n",
      "Speed: 2.2ms preprocess, 75.3ms inference, 0.8ms postprocess per image at shape (1, 3, 480, 640)\n",
      "\n",
      "image 1/1 /home/ishant/Desktop/KeypointModelTest/New_test_img_2/images/rear_left_view-20221223114117.jpeg: 480x640 1 car, 80.1ms\n",
      "Speed: 2.5ms preprocess, 80.1ms inference, 1.0ms postprocess per image at shape (1, 3, 480, 640)\n",
      "\n"
     ]
    },
    {
     "name": "stdout",
     "output_type": "stream",
     "text": [
      "cover_image-20230612171440.jpeg\n",
      "rear_left_view-20221223114117.jpeg\n"
     ]
    },
    {
     "name": "stderr",
     "output_type": "stream",
     "text": [
      "image 1/1 /home/ishant/Desktop/KeypointModelTest/New_test_img_2/images/cover_image-20231214125357.jpeg: 480x640 1 car, 86.9ms\n",
      "Speed: 2.5ms preprocess, 86.9ms inference, 2.1ms postprocess per image at shape (1, 3, 480, 640)\n",
      "\n",
      "image 1/1 /home/ishant/Desktop/KeypointModelTest/New_test_img_2/images/rear_left_view-20230201172332.jpg: 480x640 1 car, 72.0ms\n",
      "Speed: 2.6ms preprocess, 72.0ms inference, 0.8ms postprocess per image at shape (1, 3, 480, 640)\n",
      "\n"
     ]
    },
    {
     "name": "stdout",
     "output_type": "stream",
     "text": [
      "cover_image-20231214125357.jpeg\n",
      "rear_left_view-20230201172332.jpg\n"
     ]
    },
    {
     "name": "stderr",
     "output_type": "stream",
     "text": [
      "image 1/1 /home/ishant/Desktop/KeypointModelTest/New_test_img_2/images/cover_image-20230819134257.jpg: 480x640 1 car, 81.6ms\n",
      "Speed: 4.0ms preprocess, 81.6ms inference, 1.3ms postprocess per image at shape (1, 3, 480, 640)\n",
      "\n",
      "image 1/1 /home/ishant/Desktop/KeypointModelTest/New_test_img_2/images/right_side_view-20231202151746.jpeg: 480x640 1 car, 87.0ms\n",
      "Speed: 2.9ms preprocess, 87.0ms inference, 0.8ms postprocess per image at shape (1, 3, 480, 640)\n"
     ]
    },
    {
     "name": "stdout",
     "output_type": "stream",
     "text": [
      "cover_image-20230819134257.jpg\n",
      "right_side_view-20231202151746.jpeg\n"
     ]
    },
    {
     "name": "stderr",
     "output_type": "stream",
     "text": [
      "\n",
      "image 1/1 /home/ishant/Desktop/KeypointModelTest/New_test_img_2/images/left_side_view-20230108161859.jpeg: 480x640 1 car, 80.1ms\n",
      "Speed: 3.1ms preprocess, 80.1ms inference, 0.9ms postprocess per image at shape (1, 3, 480, 640)\n",
      "\n",
      "image 1/1 /home/ishant/Desktop/KeypointModelTest/New_test_img_2/images/right_side_view-20221210190611.jpeg: 480x640 1 car, 81.5ms\n",
      "Speed: 2.7ms preprocess, 81.5ms inference, 1.9ms postprocess per image at shape (1, 3, 480, 640)\n",
      "\n"
     ]
    },
    {
     "name": "stdout",
     "output_type": "stream",
     "text": [
      "left_side_view-20230108161859.jpeg\n",
      "right_side_view-20221210190611.jpeg\n"
     ]
    },
    {
     "name": "stderr",
     "output_type": "stream",
     "text": [
      "image 1/1 /home/ishant/Desktop/KeypointModelTest/New_test_img_2/images/rear_left_view-20230108161928.jpeg: 480x640 1 car, 77.7ms\n",
      "Speed: 3.0ms preprocess, 77.7ms inference, 1.1ms postprocess per image at shape (1, 3, 480, 640)\n",
      "\n",
      "image 1/1 /home/ishant/Desktop/KeypointModelTest/New_test_img_2/images/cover_image-20221223114019.jpeg: 480x640 1 car, 71.8ms\n",
      "Speed: 2.4ms preprocess, 71.8ms inference, 1.0ms postprocess per image at shape (1, 3, 480, 640)\n",
      "\n"
     ]
    },
    {
     "name": "stdout",
     "output_type": "stream",
     "text": [
      "rear_left_view-20230108161928.jpeg\n",
      "cover_image-20221223114019.jpeg\n"
     ]
    },
    {
     "name": "stderr",
     "output_type": "stream",
     "text": [
      "image 1/1 /home/ishant/Desktop/KeypointModelTest/New_test_img_2/images/rear_left_view-20230705185120.jpeg: 512x640 1 car, 96.4ms\n",
      "Speed: 5.6ms preprocess, 96.4ms inference, 2.6ms postprocess per image at shape (1, 3, 512, 640)\n",
      "\n",
      "image 1/1 /home/ishant/Desktop/KeypointModelTest/New_test_img_2/images/rear_right_view-20230524174509.jpeg: 384x640 1 car, 59.4ms\n",
      "Speed: 2.0ms preprocess, 59.4ms inference, 0.9ms postprocess per image at shape (1, 3, 384, 640)\n",
      "\n"
     ]
    },
    {
     "name": "stdout",
     "output_type": "stream",
     "text": [
      "rear_left_view-20230705185120.jpeg\n",
      "rear_right_view-20230524174509.jpeg\n"
     ]
    },
    {
     "name": "stderr",
     "output_type": "stream",
     "text": [
      "image 1/1 /home/ishant/Desktop/KeypointModelTest/New_test_img_2/images/cover_image-20230221182537.jpeg: 480x640 1 car, 84.9ms\n",
      "Speed: 2.7ms preprocess, 84.9ms inference, 2.1ms postprocess per image at shape (1, 3, 480, 640)\n",
      "\n",
      "image 1/1 /home/ishant/Desktop/KeypointModelTest/New_test_img_2/images/right_side_view-20230108161912.jpeg: 480x640 1 car, 72.0ms\n",
      "Speed: 3.3ms preprocess, 72.0ms inference, 1.1ms postprocess per image at shape (1, 3, 480, 640)\n",
      "\n"
     ]
    },
    {
     "name": "stdout",
     "output_type": "stream",
     "text": [
      "cover_image-20230221182537.jpeg\n",
      "right_side_view-20230108161912.jpeg\n"
     ]
    },
    {
     "name": "stderr",
     "output_type": "stream",
     "text": [
      "image 1/1 /home/ishant/Desktop/KeypointModelTest/New_test_img_2/images/left_side_view-20230307161424.jpg: 384x640 1 car, 71.1ms\n",
      "Speed: 2.0ms preprocess, 71.1ms inference, 3.0ms postprocess per image at shape (1, 3, 384, 640)\n",
      "\n",
      "image 1/1 /home/ishant/Desktop/KeypointModelTest/New_test_img_2/images/left_side_view-20230302155640.jpeg: 384x640 1 car, 57.7ms\n",
      "Speed: 2.3ms preprocess, 57.7ms inference, 0.7ms postprocess per image at shape (1, 3, 384, 640)\n",
      "\n"
     ]
    },
    {
     "name": "stdout",
     "output_type": "stream",
     "text": [
      "left_side_view-20230307161424.jpg\n",
      "left_side_view-20230302155640.jpeg\n"
     ]
    },
    {
     "name": "stderr",
     "output_type": "stream",
     "text": [
      "image 1/1 /home/ishant/Desktop/KeypointModelTest/New_test_img_2/images/rear_right_view-20230307161515.jpg: 384x640 1 car, 71.5ms\n",
      "Speed: 2.0ms preprocess, 71.5ms inference, 1.1ms postprocess per image at shape (1, 3, 384, 640)\n",
      "\n",
      "image 1/1 /home/ishant/Desktop/KeypointModelTest/New_test_img_2/images/left_side_view-20230221182558.jpeg: 480x640 1 car, 69.0ms\n",
      "Speed: 3.2ms preprocess, 69.0ms inference, 0.7ms postprocess per image at shape (1, 3, 480, 640)\n",
      "\n"
     ]
    },
    {
     "name": "stdout",
     "output_type": "stream",
     "text": [
      "rear_right_view-20230307161515.jpg\n",
      "left_side_view-20230221182558.jpeg\n"
     ]
    },
    {
     "name": "stderr",
     "output_type": "stream",
     "text": [
      "image 1/1 /home/ishant/Desktop/KeypointModelTest/New_test_img_2/images/left_side_view-20230705185101.jpeg: 480x640 1 car, 72.7ms\n",
      "Speed: 3.2ms preprocess, 72.7ms inference, 0.8ms postprocess per image at shape (1, 3, 480, 640)\n",
      "\n",
      "image 1/1 /home/ishant/Desktop/KeypointModelTest/New_test_img_2/images/right_side_view-20221223114105.jpeg: 480x640 1 car, 73.7ms\n",
      "Speed: 2.4ms preprocess, 73.7ms inference, 0.8ms postprocess per image at shape (1, 3, 480, 640)\n",
      "\n"
     ]
    },
    {
     "name": "stdout",
     "output_type": "stream",
     "text": [
      "left_side_view-20230705185101.jpeg\n",
      "right_side_view-20221223114105.jpeg\n"
     ]
    },
    {
     "name": "stderr",
     "output_type": "stream",
     "text": [
      "image 1/1 /home/ishant/Desktop/KeypointModelTest/New_test_img_2/images/cover_image-20230705185042.jpeg: 480x640 2 cars, 111.8ms\n",
      "Speed: 18.5ms preprocess, 111.8ms inference, 0.8ms postprocess per image at shape (1, 3, 480, 640)\n",
      "\n",
      "image 1/1 /home/ishant/Desktop/KeypointModelTest/New_test_img_2/images/front_right_view-20230505154942.jpg: 480x640 1 car, 76.9ms\n",
      "Speed: 3.2ms preprocess, 76.9ms inference, 2.2ms postprocess per image at shape (1, 3, 480, 640)\n",
      "\n"
     ]
    },
    {
     "name": "stdout",
     "output_type": "stream",
     "text": [
      "cover_image-20230705185042.jpeg\n",
      "front_right_view-20230505154942.jpg\n"
     ]
    },
    {
     "name": "stderr",
     "output_type": "stream",
     "text": [
      "image 1/1 /home/ishant/Desktop/KeypointModelTest/New_test_img_2/images/right_side_view-20230505154937.jpg: 480x640 1 car, 63.0ms\n",
      "Speed: 3.9ms preprocess, 63.0ms inference, 0.7ms postprocess per image at shape (1, 3, 480, 640)\n",
      "\n",
      "image 1/1 /home/ishant/Desktop/KeypointModelTest/New_test_img_2/images/rear_right_view-20231205165549.jpeg: 480x640 1 car, 73.7ms\n",
      "Speed: 3.3ms preprocess, 73.7ms inference, 0.7ms postprocess per image at shape (1, 3, 480, 640)\n",
      "\n"
     ]
    },
    {
     "name": "stdout",
     "output_type": "stream",
     "text": [
      "right_side_view-20230505154937.jpg\n",
      "rear_right_view-20231205165549.jpeg\n"
     ]
    },
    {
     "name": "stderr",
     "output_type": "stream",
     "text": [
      "image 1/1 /home/ishant/Desktop/KeypointModelTest/New_test_img_2/images/rear_left_view-20230302145917.jpg: 512x640 1 car, 88.2ms\n",
      "Speed: 2.8ms preprocess, 88.2ms inference, 1.8ms postprocess per image at shape (1, 3, 512, 640)\n",
      "\n",
      "image 1/1 /home/ishant/Desktop/KeypointModelTest/New_test_img_2/images/rear_right_view-20230424151441.jpg: 512x640 1 car, 84.7ms\n",
      "Speed: 4.2ms preprocess, 84.7ms inference, 0.8ms postprocess per image at shape (1, 3, 512, 640)\n",
      "\n"
     ]
    },
    {
     "name": "stdout",
     "output_type": "stream",
     "text": [
      "rear_left_view-20230302145917.jpg\n",
      "rear_right_view-20230424151441.jpg\n"
     ]
    },
    {
     "name": "stderr",
     "output_type": "stream",
     "text": [
      "image 1/1 /home/ishant/Desktop/KeypointModelTest/New_test_img_2/images/left_side_view-20221223114100.jpeg: 480x640 1 car, 82.9ms\n",
      "Speed: 2.5ms preprocess, 82.9ms inference, 0.8ms postprocess per image at shape (1, 3, 480, 640)\n",
      "\n",
      "image 1/1 /home/ishant/Desktop/KeypointModelTest/New_test_img_2/images/front_right_view-20231214125444.jpeg: 480x640 1 car, 71.0ms\n",
      "Speed: 3.3ms preprocess, 71.0ms inference, 2.0ms postprocess per image at shape (1, 3, 480, 640)\n",
      "\n"
     ]
    },
    {
     "name": "stdout",
     "output_type": "stream",
     "text": [
      "left_side_view-20221223114100.jpeg\n",
      "front_right_view-20231214125444.jpeg\n"
     ]
    },
    {
     "name": "stderr",
     "output_type": "stream",
     "text": [
      "image 1/1 /home/ishant/Desktop/KeypointModelTest/New_test_img_2/images/cover_image-20230822191933.jpeg: 480x640 1 car, 67.6ms\n",
      "Speed: 3.7ms preprocess, 67.6ms inference, 1.0ms postprocess per image at shape (1, 3, 480, 640)\n",
      "\n",
      "image 1/1 /home/ishant/Desktop/KeypointModelTest/New_test_img_2/images/cover_image-20231205165445.jpeg: 480x640 1 car, 75.6ms\n",
      "Speed: 3.3ms preprocess, 75.6ms inference, 0.8ms postprocess per image at shape (1, 3, 480, 640)\n",
      "\n"
     ]
    },
    {
     "name": "stdout",
     "output_type": "stream",
     "text": [
      "cover_image-20230822191933.jpeg\n",
      "cover_image-20231205165445.jpeg\n"
     ]
    },
    {
     "name": "stderr",
     "output_type": "stream",
     "text": [
      "image 1/1 /home/ishant/Desktop/KeypointModelTest/New_test_img_2/images/rear_left_view-20230424151433.jpg: 512x640 1 car, 92.1ms\n",
      "Speed: 2.6ms preprocess, 92.1ms inference, 2.8ms postprocess per image at shape (1, 3, 512, 640)\n",
      "\n",
      "image 1/1 /home/ishant/Desktop/KeypointModelTest/New_test_img_2/images/left_side_view-20240103184824.jpg: 480x640 1 car, 84.4ms\n",
      "Speed: 3.5ms preprocess, 84.4ms inference, 1.0ms postprocess per image at shape (1, 3, 480, 640)\n",
      "\n"
     ]
    },
    {
     "name": "stdout",
     "output_type": "stream",
     "text": [
      "rear_left_view-20230424151433.jpg\n",
      "left_side_view-20240103184824.jpg\n"
     ]
    },
    {
     "name": "stderr",
     "output_type": "stream",
     "text": [
      "image 1/1 /home/ishant/Desktop/KeypointModelTest/New_test_img_2/images/right_side_view-20230302145952.jpg: 512x640 1 car, 95.0ms\n",
      "Speed: 2.6ms preprocess, 95.0ms inference, 1.1ms postprocess per image at shape (1, 3, 512, 640)\n",
      "\n",
      "image 1/1 /home/ishant/Desktop/KeypointModelTest/New_test_img_2/images/right_side_view-20230705185113.jpeg: 480x640 1 car, 79.4ms\n",
      "Speed: 2.6ms preprocess, 79.4ms inference, 0.7ms postprocess per image at shape (1, 3, 480, 640)\n",
      "\n"
     ]
    },
    {
     "name": "stdout",
     "output_type": "stream",
     "text": [
      "right_side_view-20230302145952.jpg\n",
      "right_side_view-20230705185113.jpeg\n"
     ]
    },
    {
     "name": "stderr",
     "output_type": "stream",
     "text": [
      "image 1/1 /home/ishant/Desktop/KeypointModelTest/New_test_img_2/images/left_side_view-20230524174353.jpeg: 384x640 1 car, 70.5ms\n",
      "Speed: 2.5ms preprocess, 70.5ms inference, 1.1ms postprocess per image at shape (1, 3, 384, 640)\n",
      "\n",
      "image 1/1 /home/ishant/Desktop/KeypointModelTest/New_test_img_2/images/right_side_view-20231214125428.jpeg: 480x640 1 car, 95.1ms\n",
      "Speed: 3.2ms preprocess, 95.1ms inference, 3.9ms postprocess per image at shape (1, 3, 480, 640)\n",
      "\n"
     ]
    },
    {
     "name": "stdout",
     "output_type": "stream",
     "text": [
      "left_side_view-20230524174353.jpeg\n",
      "right_side_view-20231214125428.jpeg\n"
     ]
    },
    {
     "name": "stderr",
     "output_type": "stream",
     "text": [
      "image 1/1 /home/ishant/Desktop/KeypointModelTest/New_test_img_2/images/rear_left_view-20230524174505.jpeg: 384x640 1 car, 85.8ms\n",
      "Speed: 3.2ms preprocess, 85.8ms inference, 1.3ms postprocess per image at shape (1, 3, 384, 640)\n",
      "\n",
      "image 1/1 /home/ishant/Desktop/KeypointModelTest/New_test_img_2/images/front_right_view-20230201172323.jpg: 480x640 1 car, 99.8ms\n",
      "Speed: 2.7ms preprocess, 99.8ms inference, 2.3ms postprocess per image at shape (1, 3, 480, 640)\n",
      "\n"
     ]
    },
    {
     "name": "stdout",
     "output_type": "stream",
     "text": [
      "rear_left_view-20230524174505.jpeg\n",
      "front_right_view-20230201172323.jpg\n"
     ]
    },
    {
     "name": "stderr",
     "output_type": "stream",
     "text": [
      "image 1/1 /home/ishant/Desktop/KeypointModelTest/New_test_img_2/images/cover_image-20230302145830.jpg: 512x640 1 car, 114.1ms\n",
      "Speed: 3.9ms preprocess, 114.1ms inference, 1.1ms postprocess per image at shape (1, 3, 512, 640)\n",
      "\n",
      "image 1/1 /home/ishant/Desktop/KeypointModelTest/New_test_img_2/images/right_side_view-20230201172315.jpg: 480x640 1 car, 91.1ms\n",
      "Speed: 3.7ms preprocess, 91.1ms inference, 1.3ms postprocess per image at shape (1, 3, 480, 640)\n",
      "\n"
     ]
    },
    {
     "name": "stdout",
     "output_type": "stream",
     "text": [
      "cover_image-20230302145830.jpg\n",
      "right_side_view-20230201172315.jpg\n"
     ]
    },
    {
     "name": "stderr",
     "output_type": "stream",
     "text": [
      "image 1/1 /home/ishant/Desktop/KeypointModelTest/New_test_img_2/images/front_right_view-20230302150003.jpg: 512x640 1 car, 106.9ms\n",
      "Speed: 2.5ms preprocess, 106.9ms inference, 1.0ms postprocess per image at shape (1, 3, 512, 640)\n",
      "\n",
      "image 1/1 /home/ishant/Desktop/KeypointModelTest/New_test_img_2/images/rear_right_view-20230822192049.jpeg: 480x640 1 car, 123.0ms\n",
      "Speed: 21.0ms preprocess, 123.0ms inference, 1.1ms postprocess per image at shape (1, 3, 480, 640)\n"
     ]
    },
    {
     "name": "stdout",
     "output_type": "stream",
     "text": [
      "front_right_view-20230302150003.jpg\n"
     ]
    },
    {
     "name": "stderr",
     "output_type": "stream",
     "text": [
      "\n",
      "image 1/1 /home/ishant/Desktop/KeypointModelTest/New_test_img_2/images/left_side_view-20231214125416.jpeg: 480x640 1 car, 147.3ms\n",
      "Speed: 4.7ms preprocess, 147.3ms inference, 1.0ms postprocess per image at shape (1, 3, 480, 640)\n"
     ]
    },
    {
     "name": "stdout",
     "output_type": "stream",
     "text": [
      "rear_right_view-20230822192049.jpeg\n"
     ]
    },
    {
     "name": "stderr",
     "output_type": "stream",
     "text": [
      "\n",
      "image 1/1 /home/ishant/Desktop/KeypointModelTest/New_test_img_2/images/wheels_tyres-20230612171643.jpeg: 480x640 1 car, 84.4ms\n",
      "Speed: 8.0ms preprocess, 84.4ms inference, 0.9ms postprocess per image at shape (1, 3, 480, 640)\n",
      "\n"
     ]
    },
    {
     "name": "stdout",
     "output_type": "stream",
     "text": [
      "left_side_view-20231214125416.jpeg\n",
      "wheels_tyres-20230612171643.jpeg\n"
     ]
    },
    {
     "name": "stderr",
     "output_type": "stream",
     "text": [
      "image 1/1 /home/ishant/Desktop/KeypointModelTest/New_test_img_2/images/left_side_view-20231205165505.jpeg: 480x640 1 car, 88.1ms\n",
      "Speed: 3.3ms preprocess, 88.1ms inference, 0.9ms postprocess per image at shape (1, 3, 480, 640)\n",
      "\n",
      "image 1/1 /home/ishant/Desktop/KeypointModelTest/New_test_img_2/images/rear_right_view-20231214125451.jpeg: 480x640 2 cars, 89.6ms\n",
      "Speed: 9.5ms preprocess, 89.6ms inference, 2.1ms postprocess per image at shape (1, 3, 480, 640)\n",
      "\n"
     ]
    },
    {
     "name": "stdout",
     "output_type": "stream",
     "text": [
      "left_side_view-20231205165505.jpeg\n",
      "rear_right_view-20231214125451.jpeg\n"
     ]
    },
    {
     "name": "stderr",
     "output_type": "stream",
     "text": [
      "image 1/1 /home/ishant/Desktop/KeypointModelTest/New_test_img_2/images/rear_right_view-20240103184924.jpg: 480x640 1 car, 115.3ms\n",
      "Speed: 2.6ms preprocess, 115.3ms inference, 1.2ms postprocess per image at shape (1, 3, 480, 640)\n",
      "\n",
      "image 1/1 /home/ishant/Desktop/KeypointModelTest/New_test_img_2/images/rear_left_view-20231202151756.jpeg: 480x640 1 car, 95.9ms\n",
      "Speed: 3.7ms preprocess, 95.9ms inference, 0.7ms postprocess per image at shape (1, 3, 480, 640)\n",
      "\n"
     ]
    },
    {
     "name": "stdout",
     "output_type": "stream",
     "text": [
      "rear_right_view-20240103184924.jpg\n",
      "rear_left_view-20231202151756.jpeg\n"
     ]
    },
    {
     "name": "stderr",
     "output_type": "stream",
     "text": [
      "image 1/1 /home/ishant/Desktop/KeypointModelTest/New_test_img_2/images/rear_left_view-20240103184914.jpg: 480x640 1 car, 107.5ms\n",
      "Speed: 3.4ms preprocess, 107.5ms inference, 1.8ms postprocess per image at shape (1, 3, 480, 640)\n",
      "\n",
      "image 1/1 /home/ishant/Desktop/KeypointModelTest/New_test_img_2/images/rear_left_view-20231214125438.jpeg: 480x640 1 car, 122.1ms\n",
      "Speed: 8.3ms preprocess, 122.1ms inference, 1.4ms postprocess per image at shape (1, 3, 480, 640)\n"
     ]
    },
    {
     "name": "stdout",
     "output_type": "stream",
     "text": [
      "rear_left_view-20240103184914.jpg\n",
      "rear_left_view-20231214125438.jpeg\n"
     ]
    },
    {
     "name": "stderr",
     "output_type": "stream",
     "text": [
      "\n",
      "image 1/1 /home/ishant/Desktop/KeypointModelTest/New_test_img_2/images/left_side_view-20230122230433.jpeg: 480x640 1 car, 240.8ms\n",
      "Speed: 12.3ms preprocess, 240.8ms inference, 1.2ms postprocess per image at shape (1, 3, 480, 640)\n",
      "\n",
      "image 1/1 /home/ishant/Desktop/KeypointModelTest/New_test_img_2/images/right_side_view-20230113131436.jpeg: 480x640 1 car, 97.1ms\n",
      "Speed: 5.4ms preprocess, 97.1ms inference, 1.8ms postprocess per image at shape (1, 3, 480, 640)\n",
      "\n"
     ]
    },
    {
     "name": "stdout",
     "output_type": "stream",
     "text": [
      "left_side_view-20230122230433.jpeg\n",
      "right_side_view-20230113131436.jpeg\n"
     ]
    },
    {
     "name": "stderr",
     "output_type": "stream",
     "text": [
      "image 1/1 /home/ishant/Desktop/KeypointModelTest/New_test_img_2/images/rear_left_view-20230612171549.jpeg: 480x640 1 car, 118.7ms\n",
      "Speed: 3.1ms preprocess, 118.7ms inference, 1.5ms postprocess per image at shape (1, 3, 480, 640)\n",
      "\n",
      "image 1/1 /home/ishant/Desktop/KeypointModelTest/New_test_img_2/images/front_right_view-20240103184839.jpg: 480x640 1 car, 135.2ms\n",
      "Speed: 5.3ms preprocess, 135.2ms inference, 1.1ms postprocess per image at shape (1, 3, 480, 640)\n"
     ]
    },
    {
     "name": "stdout",
     "output_type": "stream",
     "text": [
      "rear_left_view-20230612171549.jpeg\n",
      "front_right_view-20240103184839.jpg\n"
     ]
    },
    {
     "name": "stderr",
     "output_type": "stream",
     "text": [
      "\n",
      "image 1/1 /home/ishant/Desktop/KeypointModelTest/New_test_img_2/images/rear_left_view-20231205165530.jpeg: 480x640 1 car, 135.5ms\n",
      "Speed: 17.6ms preprocess, 135.5ms inference, 1.5ms postprocess per image at shape (1, 3, 480, 640)\n",
      "\n",
      "image 1/1 /home/ishant/Desktop/KeypointModelTest/New_test_img_2/images/left_side_view-20221210190605.jpeg: 480x640 1 car, 137.4ms\n",
      "Speed: 4.2ms preprocess, 137.4ms inference, 3.3ms postprocess per image at shape (1, 3, 480, 640)\n"
     ]
    },
    {
     "name": "stdout",
     "output_type": "stream",
     "text": [
      "rear_left_view-20231205165530.jpeg\n"
     ]
    },
    {
     "name": "stderr",
     "output_type": "stream",
     "text": [
      "\n",
      "image 1/1 /home/ishant/Desktop/KeypointModelTest/New_test_img_2/images/right_side_view-20230612171532.jpeg: 480x640 1 car, 143.1ms\n",
      "Speed: 6.8ms preprocess, 143.1ms inference, 1.3ms postprocess per image at shape (1, 3, 480, 640)\n"
     ]
    },
    {
     "name": "stdout",
     "output_type": "stream",
     "text": [
      "left_side_view-20221210190605.jpeg\n"
     ]
    },
    {
     "name": "stderr",
     "output_type": "stream",
     "text": [
      "\n",
      "image 1/1 /home/ishant/Desktop/KeypointModelTest/New_test_img_2/images/front_right_view-20230927134206.jpeg: 640x480 1 car, 141.2ms\n",
      "Speed: 5.3ms preprocess, 141.2ms inference, 1.9ms postprocess per image at shape (1, 3, 640, 480)\n"
     ]
    },
    {
     "name": "stdout",
     "output_type": "stream",
     "text": [
      "right_side_view-20230612171532.jpeg\n"
     ]
    },
    {
     "name": "stderr",
     "output_type": "stream",
     "text": [
      "\n",
      "image 1/1 /home/ishant/Desktop/KeypointModelTest/New_test_img_2/images/rear_right_view-20230612171623.jpeg: 480x640 1 car, 144.6ms\n",
      "Speed: 7.5ms preprocess, 144.6ms inference, 1.7ms postprocess per image at shape (1, 3, 480, 640)\n"
     ]
    },
    {
     "name": "stdout",
     "output_type": "stream",
     "text": [
      "front_right_view-20230927134206.jpeg\n"
     ]
    },
    {
     "name": "stderr",
     "output_type": "stream",
     "text": [
      "\n"
     ]
    },
    {
     "name": "stdout",
     "output_type": "stream",
     "text": [
      "rear_right_view-20230612171623.jpeg\n"
     ]
    },
    {
     "name": "stderr",
     "output_type": "stream",
     "text": [
      "image 1/1 /home/ishant/Desktop/KeypointModelTest/New_test_img_2/images/cover_image-20230505154915.jpg: 480x640 1 car, 201.9ms\n",
      "Speed: 31.9ms preprocess, 201.9ms inference, 1.7ms postprocess per image at shape (1, 3, 480, 640)\n",
      "\n",
      "image 1/1 /home/ishant/Desktop/KeypointModelTest/New_test_img_2/images/left_side_view-20230822191952.jpeg: 480x640 1 car, 130.6ms\n",
      "Speed: 5.5ms preprocess, 130.6ms inference, 1.2ms postprocess per image at shape (1, 3, 480, 640)\n"
     ]
    },
    {
     "name": "stdout",
     "output_type": "stream",
     "text": [
      "cover_image-20230505154915.jpg\n",
      "left_side_view-20230822191952.jpeg\n"
     ]
    },
    {
     "name": "stderr",
     "output_type": "stream",
     "text": [
      "\n",
      "image 1/1 /home/ishant/Desktop/KeypointModelTest/New_test_img_2/images/cover_image-20230927134120.jpeg: 640x480 1 car, 143.3ms\n",
      "Speed: 5.4ms preprocess, 143.3ms inference, 1.6ms postprocess per image at shape (1, 3, 640, 480)\n",
      "\n",
      "image 1/1 /home/ishant/Desktop/KeypointModelTest/New_test_img_2/images/cover_image-20230201172212.jpg: 480x640 1 car, 154.3ms\n"
     ]
    },
    {
     "name": "stdout",
     "output_type": "stream",
     "text": [
      "cover_image-20230927134120.jpeg\n"
     ]
    },
    {
     "name": "stderr",
     "output_type": "stream",
     "text": [
      "Speed: 5.8ms preprocess, 154.3ms inference, 1.9ms postprocess per image at shape (1, 3, 480, 640)\n",
      "\n",
      "image 1/1 /home/ishant/Desktop/KeypointModelTest/New_test_img_2/images/rear_right_view-20230221182634.jpeg: 480x640 1 car, 155.1ms\n",
      "Speed: 5.5ms preprocess, 155.1ms inference, 1.3ms postprocess per image at shape (1, 3, 480, 640)\n"
     ]
    },
    {
     "name": "stdout",
     "output_type": "stream",
     "text": [
      "cover_image-20230201172212.jpg\n"
     ]
    },
    {
     "name": "stderr",
     "output_type": "stream",
     "text": [
      "\n"
     ]
    },
    {
     "name": "stdout",
     "output_type": "stream",
     "text": [
      "rear_right_view-20230221182634.jpeg\n"
     ]
    },
    {
     "name": "stderr",
     "output_type": "stream",
     "text": [
      "image 1/1 /home/ishant/Desktop/KeypointModelTest/New_test_img_2/images/right_side_view-20231205165516.jpeg: 480x640 1 car, 141.2ms\n",
      "Speed: 6.6ms preprocess, 141.2ms inference, 1.5ms postprocess per image at shape (1, 3, 480, 640)\n",
      "\n"
     ]
    },
    {
     "name": "stdout",
     "output_type": "stream",
     "text": [
      "right_side_view-20231205165516.jpeg\n"
     ]
    },
    {
     "name": "stderr",
     "output_type": "stream",
     "text": [
      "image 1/1 /home/ishant/Desktop/KeypointModelTest/New_test_img_2/images/rear_right_view-20230705185137.jpeg: 512x640 1 car, 147.0ms\n",
      "Speed: 4.7ms preprocess, 147.0ms inference, 10.9ms postprocess per image at shape (1, 3, 512, 640)\n",
      "\n"
     ]
    },
    {
     "name": "stdout",
     "output_type": "stream",
     "text": [
      "rear_right_view-20230705185137.jpeg\n"
     ]
    },
    {
     "name": "stderr",
     "output_type": "stream",
     "text": [
      "image 1/1 /home/ishant/Desktop/KeypointModelTest/New_test_img_2/images/rear_left_view-20221210190621.jpeg: 480x640 1 car, 247.6ms\n",
      "Speed: 4.0ms preprocess, 247.6ms inference, 1.2ms postprocess per image at shape (1, 3, 480, 640)\n",
      "\n",
      "image 1/1 /home/ishant/Desktop/KeypointModelTest/New_test_img_2/images/front_right_view-20231205165540.jpeg: 480x640 1 car, 89.4ms\n",
      "Speed: 3.1ms preprocess, 89.4ms inference, 1.0ms postprocess per image at shape (1, 3, 480, 640)\n",
      "\n"
     ]
    },
    {
     "name": "stdout",
     "output_type": "stream",
     "text": [
      "rear_left_view-20221210190621.jpeg\n",
      "front_right_view-20231205165540.jpeg\n"
     ]
    },
    {
     "name": "stderr",
     "output_type": "stream",
     "text": [
      "image 1/1 /home/ishant/Desktop/KeypointModelTest/New_test_img_2/images/right_side_view-20230221182606.jpeg: 480x640 1 car, 99.9ms\n",
      "Speed: 3.3ms preprocess, 99.9ms inference, 2.7ms postprocess per image at shape (1, 3, 480, 640)\n",
      "\n",
      "image 1/1 /home/ishant/Desktop/KeypointModelTest/New_test_img_2/images/rear_right_view-20230201172342.jpg: 480x640 1 car, 100.9ms\n",
      "Speed: 4.6ms preprocess, 100.9ms inference, 1.1ms postprocess per image at shape (1, 3, 480, 640)\n",
      "\n"
     ]
    },
    {
     "name": "stdout",
     "output_type": "stream",
     "text": [
      "right_side_view-20230221182606.jpeg\n",
      "rear_right_view-20230201172342.jpg\n"
     ]
    },
    {
     "name": "stderr",
     "output_type": "stream",
     "text": [
      "image 1/1 /home/ishant/Desktop/KeypointModelTest/New_test_img_2/images/rear_right_view-20230819134354.jpg: 480x640 1 car, 101.6ms\n",
      "Speed: 4.3ms preprocess, 101.6ms inference, 1.0ms postprocess per image at shape (1, 3, 480, 640)\n",
      "\n",
      "image 1/1 /home/ishant/Desktop/KeypointModelTest/New_test_img_2/images/cover_image-20230122230340.jpeg: 480x640 1 car, 96.5ms\n",
      "Speed: 3.5ms preprocess, 96.5ms inference, 1.1ms postprocess per image at shape (1, 3, 480, 640)\n"
     ]
    },
    {
     "name": "stdout",
     "output_type": "stream",
     "text": [
      "rear_right_view-20230819134354.jpg\n",
      "cover_image-20230122230340.jpeg\n"
     ]
    },
    {
     "name": "stderr",
     "output_type": "stream",
     "text": [
      "\n",
      "image 1/1 /home/ishant/Desktop/KeypointModelTest/New_test_img_2/images/right_side_view-20230424151418.jpg: 512x640 1 car, 109.8ms\n",
      "Speed: 4.0ms preprocess, 109.8ms inference, 2.4ms postprocess per image at shape (1, 3, 512, 640)\n",
      "\n",
      "image 1/1 /home/ishant/Desktop/KeypointModelTest/New_test_img_2/images/rear_left_view-20230221182616.jpeg: 480x640 1 car, 80.6ms\n",
      "Speed: 3.1ms preprocess, 80.6ms inference, 1.1ms postprocess per image at shape (1, 3, 480, 640)\n",
      "\n"
     ]
    },
    {
     "name": "stdout",
     "output_type": "stream",
     "text": [
      "right_side_view-20230424151418.jpg\n",
      "rear_left_view-20230221182616.jpeg\n"
     ]
    },
    {
     "name": "stderr",
     "output_type": "stream",
     "text": [
      "image 1/1 /home/ishant/Desktop/KeypointModelTest/New_test_img_2/images/front_right_view-20231202151806.jpeg: 480x640 1 car, 82.7ms\n",
      "Speed: 2.3ms preprocess, 82.7ms inference, 0.8ms postprocess per image at shape (1, 3, 480, 640)\n",
      "\n",
      "image 1/1 /home/ishant/Desktop/KeypointModelTest/New_test_img_2/images/left_side_view-20230113131414.jpeg: 480x640 1 car, 84.7ms\n",
      "Speed: 2.3ms preprocess, 84.7ms inference, 2.0ms postprocess per image at shape (1, 3, 480, 640)\n",
      "\n"
     ]
    },
    {
     "name": "stdout",
     "output_type": "stream",
     "text": [
      "front_right_view-20231202151806.jpeg\n",
      "left_side_view-20230113131414.jpeg\n"
     ]
    },
    {
     "name": "stderr",
     "output_type": "stream",
     "text": [
      "image 1/1 /home/ishant/Desktop/KeypointModelTest/New_test_img_2/images/rear_left_view-20230307161503.jpg: 384x640 1 car, 68.3ms\n",
      "Speed: 2.0ms preprocess, 68.3ms inference, 1.1ms postprocess per image at shape (1, 3, 384, 640)\n",
      "\n",
      "image 1/1 /home/ishant/Desktop/KeypointModelTest/New_test_img_2/images/front_right_view-20230122230835.jpeg: 480x640 1 car, 81.0ms\n",
      "Speed: 3.3ms preprocess, 81.0ms inference, 1.2ms postprocess per image at shape (1, 3, 480, 640)\n",
      "\n"
     ]
    },
    {
     "name": "stdout",
     "output_type": "stream",
     "text": [
      "rear_left_view-20230307161503.jpg\n",
      "front_right_view-20230122230835.jpeg\n"
     ]
    },
    {
     "name": "stderr",
     "output_type": "stream",
     "text": [
      "image 1/1 /home/ishant/Desktop/KeypointModelTest/New_test_img_2/images/cover_image-20230424151340.jpg: 512x640 1 car, 90.6ms\n",
      "Speed: 3.5ms preprocess, 90.6ms inference, 2.8ms postprocess per image at shape (1, 3, 512, 640)\n",
      "\n",
      "image 1/1 /home/ishant/Desktop/KeypointModelTest/New_test_img_2/images/rear_left_view-20230505154947.jpg: 480x640 1 car, 93.7ms\n",
      "Speed: 2.3ms preprocess, 93.7ms inference, 2.1ms postprocess per image at shape (1, 3, 480, 640)\n",
      "\n"
     ]
    },
    {
     "name": "stdout",
     "output_type": "stream",
     "text": [
      "cover_image-20230424151340.jpg\n",
      "rear_left_view-20230505154947.jpg\n"
     ]
    },
    {
     "name": "stderr",
     "output_type": "stream",
     "text": [
      "image 1/1 /home/ishant/Desktop/KeypointModelTest/New_test_img_2/images/left_side_view-20231202151741.jpeg: 480x640 1 car, 111.9ms\n",
      "Speed: 2.9ms preprocess, 111.9ms inference, 1.1ms postprocess per image at shape (1, 3, 480, 640)\n",
      "\n",
      "image 1/1 /home/ishant/Desktop/KeypointModelTest/New_test_img_2/images/rear_right_view-20230927134215.jpeg: 640x480 1 car, 96.5ms\n",
      "Speed: 3.3ms preprocess, 96.5ms inference, 2.9ms postprocess per image at shape (1, 3, 640, 480)\n",
      "\n"
     ]
    },
    {
     "name": "stdout",
     "output_type": "stream",
     "text": [
      "left_side_view-20231202151741.jpeg\n",
      "rear_right_view-20230927134215.jpeg\n"
     ]
    },
    {
     "name": "stderr",
     "output_type": "stream",
     "text": [
      "image 1/1 /home/ishant/Desktop/KeypointModelTest/New_test_img_2/images/right_side_view-20230927134146.jpeg: 480x640 1 car, 98.1ms\n",
      "Speed: 2.7ms preprocess, 98.1ms inference, 0.9ms postprocess per image at shape (1, 3, 480, 640)\n",
      "\n",
      "image 1/1 /home/ishant/Desktop/KeypointModelTest/New_test_img_2/images/PART_1477528098494460.jpg: 384x640 1 car, 83.3ms\n",
      "Speed: 2.8ms preprocess, 83.3ms inference, 0.9ms postprocess per image at shape (1, 3, 384, 640)\n",
      "\n"
     ]
    },
    {
     "name": "stdout",
     "output_type": "stream",
     "text": [
      "right_side_view-20230927134146.jpeg\n",
      "PART_1477528098494460.jpg\n"
     ]
    },
    {
     "name": "stderr",
     "output_type": "stream",
     "text": [
      "image 1/1 /home/ishant/Desktop/KeypointModelTest/New_test_img_2/images/PART_1477534685641985.jpg: 480x640 1 car, 89.5ms\n",
      "Speed: 2.8ms preprocess, 89.5ms inference, 0.8ms postprocess per image at shape (1, 3, 480, 640)\n",
      "\n",
      "image 1/1 /home/ishant/Desktop/KeypointModelTest/New_test_img_2/images/in642120231213085757-3.jpg: 384x640 1 car, 71.9ms\n",
      "Speed: 2.1ms preprocess, 71.9ms inference, 0.9ms postprocess per image at shape (1, 3, 384, 640)\n",
      "\n"
     ]
    },
    {
     "name": "stdout",
     "output_type": "stream",
     "text": [
      "PART_1477534685641985.jpg\n",
      "in642120231213085757-3.jpg\n"
     ]
    },
    {
     "name": "stderr",
     "output_type": "stream",
     "text": [
      "image 1/1 /home/ishant/Desktop/KeypointModelTest/New_test_img_2/images/PART_1481212012786903.jpg: 448x640 1 car, 87.4ms\n",
      "Speed: 3.0ms preprocess, 87.4ms inference, 1.3ms postprocess per image at shape (1, 3, 448, 640)\n",
      "\n",
      "image 1/1 /home/ishant/Desktop/KeypointModelTest/New_test_img_2/images/in214320231205082545-2.jpg: 384x640 1 car, 67.0ms\n",
      "Speed: 2.1ms preprocess, 67.0ms inference, 1.4ms postprocess per image at shape (1, 3, 384, 640)\n",
      "\n"
     ]
    },
    {
     "name": "stdout",
     "output_type": "stream",
     "text": [
      "PART_1481212012786903.jpg\n",
      "in214320231205082545-2.jpg\n"
     ]
    },
    {
     "name": "stderr",
     "output_type": "stream",
     "text": [
      "image 1/1 /home/ishant/Desktop/KeypointModelTest/New_test_img_2/images/PART_1477281278514983.jpg: 480x640 1 car, 80.6ms\n",
      "Speed: 3.0ms preprocess, 80.6ms inference, 0.8ms postprocess per image at shape (1, 3, 480, 640)\n",
      "\n",
      "image 1/1 /home/ishant/Desktop/KeypointModelTest/New_test_img_2/images/in301020231219125953-2.jpg: 384x640 1 car, 81.9ms\n",
      "Speed: 1.9ms preprocess, 81.9ms inference, 1.1ms postprocess per image at shape (1, 3, 384, 640)\n",
      "\n"
     ]
    },
    {
     "name": "stdout",
     "output_type": "stream",
     "text": [
      "PART_1477281278514983.jpg\n",
      "in301020231219125953-2.jpg\n"
     ]
    },
    {
     "name": "stderr",
     "output_type": "stream",
     "text": [
      "image 1/1 /home/ishant/Desktop/KeypointModelTest/New_test_img_2/images/in502720231123120621-2.jpg: 384x640 1 car, 83.1ms\n",
      "Speed: 2.4ms preprocess, 83.1ms inference, 1.1ms postprocess per image at shape (1, 3, 384, 640)\n",
      "\n",
      "image 1/1 /home/ishant/Desktop/KeypointModelTest/New_test_img_2/images/PART_1481583051684227.jpg: 480x640 1 car, 89.0ms\n",
      "Speed: 2.2ms preprocess, 89.0ms inference, 0.8ms postprocess per image at shape (1, 3, 480, 640)\n",
      "\n"
     ]
    },
    {
     "name": "stdout",
     "output_type": "stream",
     "text": [
      "in502720231123120621-2.jpg\n",
      "PART_1481583051684227.jpg\n"
     ]
    },
    {
     "name": "stderr",
     "output_type": "stream",
     "text": [
      "image 1/1 /home/ishant/Desktop/KeypointModelTest/New_test_img_2/images/PART_1477441913947488.jpg: 480x640 1 car, 102.1ms\n",
      "Speed: 2.4ms preprocess, 102.1ms inference, 1.4ms postprocess per image at shape (1, 3, 480, 640)\n",
      "\n",
      "image 1/1 /home/ishant/Desktop/KeypointModelTest/New_test_img_2/images/in826820231213123248-3.jpg: 384x640 1 car, 94.4ms\n",
      "Speed: 2.3ms preprocess, 94.4ms inference, 0.9ms postprocess per image at shape (1, 3, 384, 640)\n",
      "\n"
     ]
    },
    {
     "name": "stdout",
     "output_type": "stream",
     "text": [
      "PART_1477441913947488.jpg\n",
      "in826820231213123248-3.jpg\n"
     ]
    },
    {
     "name": "stderr",
     "output_type": "stream",
     "text": [
      "image 1/1 /home/ishant/Desktop/KeypointModelTest/New_test_img_2/images/PART_1478534944389907.jpg: 480x640 1 car, 135.8ms\n",
      "Speed: 33.1ms preprocess, 135.8ms inference, 1.2ms postprocess per image at shape (1, 3, 480, 640)\n",
      "\n",
      "image 1/1 /home/ishant/Desktop/KeypointModelTest/New_test_img_2/images/in873320231124095011-2.jpg: 384x640 1 car, 92.8ms\n",
      "Speed: 4.7ms preprocess, 92.8ms inference, 1.2ms postprocess per image at shape (1, 3, 384, 640)\n",
      "\n"
     ]
    },
    {
     "name": "stdout",
     "output_type": "stream",
     "text": [
      "PART_1478534944389907.jpg\n",
      "in873320231124095011-2.jpg\n"
     ]
    },
    {
     "name": "stderr",
     "output_type": "stream",
     "text": [
      "image 1/1 /home/ishant/Desktop/KeypointModelTest/New_test_img_2/images/part160016857709169136791652.jpg: 480x640 1 car, 106.4ms\n",
      "Speed: 2.3ms preprocess, 106.4ms inference, 1.3ms postprocess per image at shape (1, 3, 480, 640)\n",
      "\n",
      "image 1/1 /home/ishant/Desktop/KeypointModelTest/New_test_img_2/images/PART_1477426201017406.jpg: 480x640 1 car, 80.9ms\n",
      "Speed: 2.5ms preprocess, 80.9ms inference, 0.9ms postprocess per image at shape (1, 3, 480, 640)\n",
      "\n"
     ]
    },
    {
     "name": "stdout",
     "output_type": "stream",
     "text": [
      "part160016857709169136791652.jpg\n",
      "PART_1477426201017406.jpg\n"
     ]
    },
    {
     "name": "stderr",
     "output_type": "stream",
     "text": [
      "image 1/1 /home/ishant/Desktop/KeypointModelTest/New_test_img_2/images/part1600168907093361914891819.jpg: 480x640 1 car, 107.0ms\n",
      "Speed: 2.7ms preprocess, 107.0ms inference, 0.8ms postprocess per image at shape (1, 3, 480, 640)\n",
      "\n",
      "image 1/1 /home/ishant/Desktop/KeypointModelTest/New_test_img_2/images/in243120231121121717-9.jpg: 384x640 1 car, 79.1ms\n",
      "Speed: 2.0ms preprocess, 79.1ms inference, 1.6ms postprocess per image at shape (1, 3, 384, 640)\n",
      "\n"
     ]
    },
    {
     "name": "stdout",
     "output_type": "stream",
     "text": [
      "part1600168907093361914891819.jpg\n",
      "in243120231121121717-9.jpg\n"
     ]
    },
    {
     "name": "stderr",
     "output_type": "stream",
     "text": [
      "image 1/1 /home/ishant/Desktop/KeypointModelTest/New_test_img_2/images/part160016897900455272268222.jpg: 480x640 1 car, 100.7ms\n",
      "Speed: 2.7ms preprocess, 100.7ms inference, 0.7ms postprocess per image at shape (1, 3, 480, 640)\n",
      "\n",
      "image 1/1 /home/ishant/Desktop/KeypointModelTest/New_test_img_2/images/in975420231211105726-7.jpg: 384x640 1 car, 72.0ms\n",
      "Speed: 2.0ms preprocess, 72.0ms inference, 2.8ms postprocess per image at shape (1, 3, 384, 640)\n",
      "\n"
     ]
    },
    {
     "name": "stdout",
     "output_type": "stream",
     "text": [
      "part160016897900455272268222.jpg\n",
      "in975420231211105726-7.jpg\n"
     ]
    },
    {
     "name": "stderr",
     "output_type": "stream",
     "text": [
      "image 1/1 /home/ishant/Desktop/KeypointModelTest/New_test_img_2/images/in214320231205082545-6.jpg: 384x640 1 car, 82.9ms\n",
      "Speed: 1.7ms preprocess, 82.9ms inference, 1.2ms postprocess per image at shape (1, 3, 384, 640)\n",
      "\n",
      "image 1/1 /home/ishant/Desktop/KeypointModelTest/New_test_img_2/images/in745620231211145159-4.jpg: 384x640 1 car, 103.1ms\n",
      "Speed: 5.7ms preprocess, 103.1ms inference, 1.1ms postprocess per image at shape (1, 3, 384, 640)\n",
      "\n"
     ]
    },
    {
     "name": "stdout",
     "output_type": "stream",
     "text": [
      "in214320231205082545-6.jpg\n",
      "in745620231211145159-4.jpg\n"
     ]
    },
    {
     "name": "stderr",
     "output_type": "stream",
     "text": [
      "image 1/1 /home/ishant/Desktop/KeypointModelTest/New_test_img_2/images/PART_1481745169403126.jpg: 640x480 1 car, 92.0ms\n",
      "Speed: 2.4ms preprocess, 92.0ms inference, 0.7ms postprocess per image at shape (1, 3, 640, 480)\n",
      "\n",
      "image 1/1 /home/ishant/Desktop/KeypointModelTest/New_test_img_2/images/in214320231205082545-1.jpg: 384x640 1 car, 80.1ms\n",
      "Speed: 2.5ms preprocess, 80.1ms inference, 1.2ms postprocess per image at shape (1, 3, 384, 640)\n",
      "\n",
      "image 1/1 /home/ishant/Desktop/KeypointModelTest/New_test_img_2/images/PART_1481723760991902.jpg: 384x640 1 car, 57.4ms\n",
      "Speed: 3.2ms preprocess, 57.4ms inference, 1.2ms postprocess per image at shape (1, 3, 384, 640)\n"
     ]
    },
    {
     "name": "stdout",
     "output_type": "stream",
     "text": [
      "PART_1481745169403126.jpg\n",
      "in214320231205082545-1.jpg\n"
     ]
    },
    {
     "name": "stderr",
     "output_type": "stream",
     "text": [
      "\n",
      "image 1/1 /home/ishant/Desktop/KeypointModelTest/New_test_img_2/images/PART_1477934840240950.jpg: 480x640 1 car, 106.0ms\n",
      "Speed: 2.6ms preprocess, 106.0ms inference, 0.9ms postprocess per image at shape (1, 3, 480, 640)\n",
      "\n"
     ]
    },
    {
     "name": "stdout",
     "output_type": "stream",
     "text": [
      "PART_1481723760991902.jpg\n",
      "PART_1477934840240950.jpg\n"
     ]
    },
    {
     "name": "stderr",
     "output_type": "stream",
     "text": [
      "image 1/1 /home/ishant/Desktop/KeypointModelTest/New_test_img_2/images/PART_1479184799422426.jpg: 480x640 1 car, 105.4ms\n",
      "Speed: 2.8ms preprocess, 105.4ms inference, 0.9ms postprocess per image at shape (1, 3, 480, 640)\n",
      "\n",
      "image 1/1 /home/ishant/Desktop/KeypointModelTest/New_test_img_2/images/in265220231119103239-1.jpg: 384x640 1 car, 63.0ms\n",
      "Speed: 1.6ms preprocess, 63.0ms inference, 2.0ms postprocess per image at shape (1, 3, 384, 640)\n",
      "\n"
     ]
    },
    {
     "name": "stdout",
     "output_type": "stream",
     "text": [
      "PART_1479184799422426.jpg\n",
      "in265220231119103239-1.jpg\n"
     ]
    },
    {
     "name": "stderr",
     "output_type": "stream",
     "text": [
      "image 1/1 /home/ishant/Desktop/KeypointModelTest/New_test_img_2/images/in799620231218081737-1.jpg: 384x640 1 car, 81.0ms\n",
      "Speed: 1.7ms preprocess, 81.0ms inference, 0.9ms postprocess per image at shape (1, 3, 384, 640)\n",
      "\n",
      "image 1/1 /home/ishant/Desktop/KeypointModelTest/New_test_img_2/images/in411620231220133737-6.jpg: 384x640 1 car, 71.4ms\n",
      "Speed: 2.1ms preprocess, 71.4ms inference, 1.1ms postprocess per image at shape (1, 3, 384, 640)\n",
      "\n"
     ]
    },
    {
     "name": "stdout",
     "output_type": "stream",
     "text": [
      "in799620231218081737-1.jpg\n",
      "in411620231220133737-6.jpg\n"
     ]
    },
    {
     "name": "stderr",
     "output_type": "stream",
     "text": [
      "image 1/1 /home/ishant/Desktop/KeypointModelTest/New_test_img_2/images/in646920231218133357-3.jpg: 384x640 1 car, 77.9ms\n",
      "Speed: 3.1ms preprocess, 77.9ms inference, 0.9ms postprocess per image at shape (1, 3, 384, 640)\n",
      "\n",
      "image 1/1 /home/ishant/Desktop/KeypointModelTest/New_test_img_2/images/in873320231124095011-7.jpg: 384x640 1 car, 80.3ms\n",
      "Speed: 2.4ms preprocess, 80.3ms inference, 1.2ms postprocess per image at shape (1, 3, 384, 640)\n",
      "\n"
     ]
    },
    {
     "name": "stdout",
     "output_type": "stream",
     "text": [
      "in646920231218133357-3.jpg\n",
      "in873320231124095011-7.jpg\n"
     ]
    },
    {
     "name": "stderr",
     "output_type": "stream",
     "text": [
      "image 1/1 /home/ishant/Desktop/KeypointModelTest/New_test_img_2/images/PART_1482487534261722.jpg: 480x640 1 car, 91.4ms\n",
      "Speed: 3.1ms preprocess, 91.4ms inference, 1.2ms postprocess per image at shape (1, 3, 480, 640)\n",
      "\n",
      "image 1/1 /home/ishant/Desktop/KeypointModelTest/New_test_img_2/images/PART_1482852216802389.jpg: 480x640 1 car, 87.1ms\n",
      "Speed: 3.4ms preprocess, 87.1ms inference, 1.0ms postprocess per image at shape (1, 3, 480, 640)\n",
      "\n"
     ]
    },
    {
     "name": "stdout",
     "output_type": "stream",
     "text": [
      "PART_1482487534261722.jpg\n",
      "PART_1482852216802389.jpg\n"
     ]
    },
    {
     "name": "stderr",
     "output_type": "stream",
     "text": [
      "image 1/1 /home/ishant/Desktop/KeypointModelTest/New_test_img_2/images/part1600168252609604631156929.jpg: 480x640 1 car, 91.4ms\n",
      "Speed: 3.3ms preprocess, 91.4ms inference, 2.2ms postprocess per image at shape (1, 3, 480, 640)\n",
      "\n",
      "image 1/1 /home/ishant/Desktop/KeypointModelTest/New_test_img_2/images/in292820231124100518-2.jpg: 384x640 1 car, 77.3ms\n",
      "Speed: 2.4ms preprocess, 77.3ms inference, 1.2ms postprocess per image at shape (1, 3, 384, 640)\n",
      "\n"
     ]
    },
    {
     "name": "stdout",
     "output_type": "stream",
     "text": [
      "part1600168252609604631156929.jpg\n",
      "in292820231124100518-2.jpg\n"
     ]
    },
    {
     "name": "stderr",
     "output_type": "stream",
     "text": [
      "image 1/1 /home/ishant/Desktop/KeypointModelTest/New_test_img_2/images/in161920231119111435-2.jpg: 384x640 1 car, 83.1ms\n",
      "Speed: 2.4ms preprocess, 83.1ms inference, 1.1ms postprocess per image at shape (1, 3, 384, 640)\n",
      "\n",
      "image 1/1 /home/ishant/Desktop/KeypointModelTest/New_test_img_2/images/PART_1483803963334515.jpg: 384x640 1 car, 75.5ms\n",
      "Speed: 3.1ms preprocess, 75.5ms inference, 0.9ms postprocess per image at shape (1, 3, 384, 640)\n",
      "\n"
     ]
    },
    {
     "name": "stdout",
     "output_type": "stream",
     "text": [
      "in161920231119111435-2.jpg\n",
      "PART_1483803963334515.jpg\n"
     ]
    },
    {
     "name": "stderr",
     "output_type": "stream",
     "text": [
      "image 1/1 /home/ishant/Desktop/KeypointModelTest/New_test_img_2/images/in642120231213085757-5.jpg: 384x640 1 car, 76.6ms\n",
      "Speed: 2.9ms preprocess, 76.6ms inference, 0.9ms postprocess per image at shape (1, 3, 384, 640)\n",
      "\n",
      "image 1/1 /home/ishant/Desktop/KeypointModelTest/New_test_img_2/images/part1600168662435360421798415.jpg: 480x640 1 car, 90.5ms\n",
      "Speed: 3.3ms preprocess, 90.5ms inference, 1.0ms postprocess per image at shape (1, 3, 480, 640)\n",
      "\n"
     ]
    },
    {
     "name": "stdout",
     "output_type": "stream",
     "text": [
      "in642120231213085757-5.jpg\n",
      "part1600168662435360421798415.jpg\n"
     ]
    },
    {
     "name": "stderr",
     "output_type": "stream",
     "text": [
      "image 1/1 /home/ishant/Desktop/KeypointModelTest/New_test_img_2/images/PART_1482366796132742.jpg: 480x640 1 car, 152.8ms\n",
      "Speed: 23.7ms preprocess, 152.8ms inference, 0.9ms postprocess per image at shape (1, 3, 480, 640)\n",
      "\n",
      "image 1/1 /home/ishant/Desktop/KeypointModelTest/New_test_img_2/images/PART_3558863405494105.jpg: 480x640 1 car, 91.1ms\n",
      "Speed: 3.2ms preprocess, 91.1ms inference, 1.0ms postprocess per image at shape (1, 3, 480, 640)\n",
      "\n"
     ]
    },
    {
     "name": "stdout",
     "output_type": "stream",
     "text": [
      "PART_1482366796132742.jpg\n",
      "PART_3558863405494105.jpg\n"
     ]
    },
    {
     "name": "stderr",
     "output_type": "stream",
     "text": [
      "image 1/1 /home/ishant/Desktop/KeypointModelTest/New_test_img_2/images/in547220231123124841-7.jpg: 384x640 1 car, 74.0ms\n",
      "Speed: 3.0ms preprocess, 74.0ms inference, 0.9ms postprocess per image at shape (1, 3, 384, 640)\n",
      "\n",
      "image 1/1 /home/ishant/Desktop/KeypointModelTest/New_test_img_2/images/PART_1481545463689331.jpg: 480x640 1 car, 102.5ms\n",
      "Speed: 3.0ms preprocess, 102.5ms inference, 1.1ms postprocess per image at shape (1, 3, 480, 640)\n",
      "\n"
     ]
    },
    {
     "name": "stdout",
     "output_type": "stream",
     "text": [
      "in547220231123124841-7.jpg\n",
      "PART_1481545463689331.jpg\n"
     ]
    },
    {
     "name": "stderr",
     "output_type": "stream",
     "text": [
      "image 1/1 /home/ishant/Desktop/KeypointModelTest/New_test_img_2/images/part1600168283154369834518600.jpg: 480x640 1 car, 98.5ms\n",
      "Speed: 3.9ms preprocess, 98.5ms inference, 1.2ms postprocess per image at shape (1, 3, 480, 640)\n",
      "\n",
      "image 1/1 /home/ishant/Desktop/KeypointModelTest/New_test_img_2/images/in411620231220133737-1.jpg: 384x640 1 car, 83.5ms\n",
      "Speed: 2.6ms preprocess, 83.5ms inference, 1.4ms postprocess per image at shape (1, 3, 384, 640)\n",
      "\n"
     ]
    },
    {
     "name": "stdout",
     "output_type": "stream",
     "text": [
      "part1600168283154369834518600.jpg\n",
      "in411620231220133737-1.jpg\n"
     ]
    },
    {
     "name": "stderr",
     "output_type": "stream",
     "text": [
      "image 1/1 /home/ishant/Desktop/KeypointModelTest/New_test_img_2/images/PART_1477167228078692.jpg: 384x640 1 car, 91.7ms\n",
      "Speed: 2.2ms preprocess, 91.7ms inference, 1.4ms postprocess per image at shape (1, 3, 384, 640)\n",
      "\n",
      "image 1/1 /home/ishant/Desktop/KeypointModelTest/New_test_img_2/images/in547220231123124841-2.jpg: 384x640 1 car, 82.4ms\n",
      "Speed: 2.1ms preprocess, 82.4ms inference, 1.1ms postprocess per image at shape (1, 3, 384, 640)\n",
      "\n"
     ]
    },
    {
     "name": "stdout",
     "output_type": "stream",
     "text": [
      "PART_1477167228078692.jpg\n",
      "in547220231123124841-2.jpg\n"
     ]
    },
    {
     "name": "stderr",
     "output_type": "stream",
     "text": [
      "image 1/1 /home/ishant/Desktop/KeypointModelTest/New_test_img_2/images/PART_1479768679758253.jpg: 480x640 1 car, 110.1ms\n",
      "Speed: 3.7ms preprocess, 110.1ms inference, 2.3ms postprocess per image at shape (1, 3, 480, 640)\n",
      "\n",
      "image 1/1 /home/ishant/Desktop/KeypointModelTest/New_test_img_2/images/part1600168923838974728586003.jpg: 480x640 1 car, 99.1ms\n",
      "Speed: 4.0ms preprocess, 99.1ms inference, 1.1ms postprocess per image at shape (1, 3, 480, 640)\n",
      "\n"
     ]
    },
    {
     "name": "stdout",
     "output_type": "stream",
     "text": [
      "PART_1479768679758253.jpg\n",
      "part1600168923838974728586003.jpg\n"
     ]
    },
    {
     "name": "stderr",
     "output_type": "stream",
     "text": [
      "image 1/1 /home/ishant/Desktop/KeypointModelTest/New_test_img_2/images/PART_1482595858580953.jpg: 480x640 1 car, 98.2ms\n",
      "Speed: 3.3ms preprocess, 98.2ms inference, 1.1ms postprocess per image at shape (1, 3, 480, 640)\n",
      "\n",
      "image 1/1 /home/ishant/Desktop/KeypointModelTest/New_test_img_2/images/part1600169062422420571213895.jpg: 480x640 1 car, 92.9ms\n",
      "Speed: 3.2ms preprocess, 92.9ms inference, 1.5ms postprocess per image at shape (1, 3, 480, 640)\n",
      "\n"
     ]
    },
    {
     "name": "stdout",
     "output_type": "stream",
     "text": [
      "PART_1482595858580953.jpg\n",
      "part1600169062422420571213895.jpg\n"
     ]
    },
    {
     "name": "stderr",
     "output_type": "stream",
     "text": [
      "image 1/1 /home/ishant/Desktop/KeypointModelTest/New_test_img_2/images/in646920231218133357-9.jpg: 384x640 1 car, 66.3ms\n",
      "Speed: 1.7ms preprocess, 66.3ms inference, 1.1ms postprocess per image at shape (1, 3, 384, 640)\n",
      "\n",
      "image 1/1 /home/ishant/Desktop/KeypointModelTest/New_test_img_2/images/PART_1483788146793608.jpg: 480x640 1 car, 71.6ms\n",
      "Speed: 2.4ms preprocess, 71.6ms inference, 1.2ms postprocess per image at shape (1, 3, 480, 640)\n",
      "\n",
      "image 1/1 /home/ishant/Desktop/KeypointModelTest/New_test_img_2/images/in975420231211105726-3.jpg: 384x640 1 car, 71.6ms\n",
      "Speed: 1.6ms preprocess, 71.6ms inference, 1.0ms postprocess per image at shape (1, 3, 384, 640)\n"
     ]
    },
    {
     "name": "stdout",
     "output_type": "stream",
     "text": [
      "in646920231218133357-9.jpg\n",
      "PART_1483788146793608.jpg\n"
     ]
    },
    {
     "name": "stderr",
     "output_type": "stream",
     "text": [
      "\n",
      "image 1/1 /home/ishant/Desktop/KeypointModelTest/New_test_img_2/images/PART_1479382118154593.jpg: 480x640 1 car, 73.9ms\n",
      "Speed: 2.9ms preprocess, 73.9ms inference, 0.7ms postprocess per image at shape (1, 3, 480, 640)\n",
      "\n"
     ]
    },
    {
     "name": "stdout",
     "output_type": "stream",
     "text": [
      "in975420231211105726-3.jpg\n",
      "PART_1479382118154593.jpg\n"
     ]
    },
    {
     "name": "stderr",
     "output_type": "stream",
     "text": [
      "image 1/1 /home/ishant/Desktop/KeypointModelTest/New_test_img_2/images/PART_1482640794032106.jpg: 480x640 1 car, 91.6ms\n",
      "Speed: 2.4ms preprocess, 91.6ms inference, 1.0ms postprocess per image at shape (1, 3, 480, 640)\n",
      "\n",
      "image 1/1 /home/ishant/Desktop/KeypointModelTest/New_test_img_2/images/part160016837502979981204271.jpg: 480x640 1 car, 90.8ms\n",
      "Speed: 21.9ms preprocess, 90.8ms inference, 1.0ms postprocess per image at shape (1, 3, 480, 640)\n",
      "\n"
     ]
    },
    {
     "name": "stdout",
     "output_type": "stream",
     "text": [
      "PART_1482640794032106.jpg\n",
      "part160016837502979981204271.jpg\n"
     ]
    },
    {
     "name": "stderr",
     "output_type": "stream",
     "text": [
      "image 1/1 /home/ishant/Desktop/KeypointModelTest/New_test_img_2/images/in821820231219130304-2.jpg: 384x640 1 car, 83.0ms\n",
      "Speed: 2.0ms preprocess, 83.0ms inference, 3.5ms postprocess per image at shape (1, 3, 384, 640)\n",
      "\n",
      "image 1/1 /home/ishant/Desktop/KeypointModelTest/New_test_img_2/images/PART_1478464287971743.jpg: 480x640 1 car, 131.9ms\n",
      "Speed: 6.8ms preprocess, 131.9ms inference, 1.2ms postprocess per image at shape (1, 3, 480, 640)\n",
      "\n"
     ]
    },
    {
     "name": "stdout",
     "output_type": "stream",
     "text": [
      "in821820231219130304-2.jpg\n",
      "PART_1478464287971743.jpg\n"
     ]
    },
    {
     "name": "stderr",
     "output_type": "stream",
     "text": [
      "image 1/1 /home/ishant/Desktop/KeypointModelTest/New_test_img_2/images/in821820231219130304-5.jpg: 384x640 1 car, 107.9ms\n",
      "Speed: 5.1ms preprocess, 107.9ms inference, 1.0ms postprocess per image at shape (1, 3, 384, 640)\n",
      "\n",
      "image 1/1 /home/ishant/Desktop/KeypointModelTest/New_test_img_2/images/PART_1482847017922559.jpg: 480x640 1 car, 97.4ms\n",
      "Speed: 2.4ms preprocess, 97.4ms inference, 1.4ms postprocess per image at shape (1, 3, 480, 640)\n",
      "\n"
     ]
    },
    {
     "name": "stdout",
     "output_type": "stream",
     "text": [
      "in821820231219130304-5.jpg\n",
      "PART_1482847017922559.jpg\n"
     ]
    },
    {
     "name": "stderr",
     "output_type": "stream",
     "text": [
      "image 1/1 /home/ishant/Desktop/KeypointModelTest/New_test_img_2/images/in646920231218133357-4.jpg: 384x640 1 car, 76.0ms\n",
      "Speed: 1.8ms preprocess, 76.0ms inference, 1.0ms postprocess per image at shape (1, 3, 384, 640)\n",
      "\n",
      "image 1/1 /home/ishant/Desktop/KeypointModelTest/New_test_img_2/images/PART_1480002566827727.jpg: 480x640 1 car, 79.6ms\n",
      "Speed: 2.8ms preprocess, 79.6ms inference, 1.3ms postprocess per image at shape (1, 3, 480, 640)\n",
      "\n"
     ]
    },
    {
     "name": "stdout",
     "output_type": "stream",
     "text": [
      "in646920231218133357-4.jpg\n",
      "PART_1480002566827727.jpg\n"
     ]
    },
    {
     "name": "stderr",
     "output_type": "stream",
     "text": [
      "image 1/1 /home/ishant/Desktop/KeypointModelTest/New_test_img_2/images/PART_1481908693906672.jpg: 480x640 1 car, 112.1ms\n",
      "Speed: 3.9ms preprocess, 112.1ms inference, 1.1ms postprocess per image at shape (1, 3, 480, 640)\n",
      "\n",
      "image 1/1 /home/ishant/Desktop/KeypointModelTest/New_test_img_2/images/in214320231205082545-3.jpg: 384x640 1 car, 66.9ms\n",
      "Speed: 2.3ms preprocess, 66.9ms inference, 1.2ms postprocess per image at shape (1, 3, 384, 640)\n",
      "\n",
      "image 1/1 /home/ishant/Desktop/KeypointModelTest/New_test_img_2/images/in745620231211145159-5.jpg: 384x640 1 car, 71.2ms\n",
      "Speed: 2.1ms preprocess, 71.2ms inference, 1.1ms postprocess per image at shape (1, 3, 384, 640)\n"
     ]
    },
    {
     "name": "stdout",
     "output_type": "stream",
     "text": [
      "PART_1481908693906672.jpg\n",
      "in214320231205082545-3.jpg\n"
     ]
    },
    {
     "name": "stderr",
     "output_type": "stream",
     "text": [
      "\n",
      "image 1/1 /home/ishant/Desktop/KeypointModelTest/New_test_img_2/images/in292820231124100518-7.jpg: 384x640 2 cars, 112.4ms\n",
      "Speed: 3.6ms preprocess, 112.4ms inference, 1.8ms postprocess per image at shape (1, 3, 384, 640)\n",
      "\n"
     ]
    },
    {
     "name": "stdout",
     "output_type": "stream",
     "text": [
      "in745620231211145159-5.jpg\n",
      "in292820231124100518-7.jpg\n"
     ]
    },
    {
     "name": "stderr",
     "output_type": "stream",
     "text": [
      "image 1/1 /home/ishant/Desktop/KeypointModelTest/New_test_img_2/images/PART_1478058867586331.jpg: 480x640 1 car, 159.5ms\n",
      "Speed: 6.5ms preprocess, 159.5ms inference, 1.7ms postprocess per image at shape (1, 3, 480, 640)\n",
      "\n"
     ]
    },
    {
     "name": "stdout",
     "output_type": "stream",
     "text": [
      "PART_1478058867586331.jpg\n"
     ]
    },
    {
     "name": "stderr",
     "output_type": "stream",
     "text": [
      "image 1/1 /home/ishant/Desktop/KeypointModelTest/New_test_img_2/images/in642120231213085757-6.jpg: 384x640 1 car, 285.3ms\n",
      "Speed: 3.0ms preprocess, 285.3ms inference, 2.8ms postprocess per image at shape (1, 3, 384, 640)\n",
      "\n",
      "image 1/1 /home/ishant/Desktop/KeypointModelTest/New_test_img_2/images/PART_1479466445456510.jpg: 480x640 1 car, 64.0ms\n",
      "Speed: 3.0ms preprocess, 64.0ms inference, 0.8ms postprocess per image at shape (1, 3, 480, 640)\n",
      "\n",
      "image 1/1 /home/ishant/Desktop/KeypointModelTest/New_test_img_2/images/in411620231220133737-7.jpg: 384x640 1 car, 66.0ms\n",
      "Speed: 1.9ms preprocess, 66.0ms inference, 0.9ms postprocess per image at shape (1, 3, 384, 640)\n"
     ]
    },
    {
     "name": "stdout",
     "output_type": "stream",
     "text": [
      "in642120231213085757-6.jpg\n",
      "PART_1479466445456510.jpg\n",
      "in411620231220133737-7.jpg\n"
     ]
    },
    {
     "name": "stderr",
     "output_type": "stream",
     "text": [
      "\n",
      "image 1/1 /home/ishant/Desktop/KeypointModelTest/New_test_img_2/images/PART_3562436545529405.jpg: 480x640 1 car, 63.9ms\n",
      "Speed: 2.6ms preprocess, 63.9ms inference, 0.9ms postprocess per image at shape (1, 3, 480, 640)\n",
      "\n",
      "image 1/1 /home/ishant/Desktop/KeypointModelTest/New_test_img_2/images/PART_1478189478050087.jpg: 480x640 1 car, 73.4ms\n",
      "Speed: 2.4ms preprocess, 73.4ms inference, 0.7ms postprocess per image at shape (1, 3, 480, 640)\n",
      "\n",
      "image 1/1 /home/ishant/Desktop/KeypointModelTest/New_test_img_2/images/PART_1478299856204165.jpg: 480x640 1 car, 79.6ms\n",
      "Speed: 2.4ms preprocess, 79.6ms inference, 0.8ms postprocess per image at shape (1, 3, 480, 640)\n"
     ]
    },
    {
     "name": "stdout",
     "output_type": "stream",
     "text": [
      "PART_3562436545529405.jpg\n",
      "PART_1478189478050087.jpg\n"
     ]
    },
    {
     "name": "stderr",
     "output_type": "stream",
     "text": [
      "\n",
      "image 1/1 /home/ishant/Desktop/KeypointModelTest/New_test_img_2/images/in535020231211135109-2.jpg: 384x640 1 car, 51.1ms\n",
      "Speed: 2.2ms preprocess, 51.1ms inference, 0.9ms postprocess per image at shape (1, 3, 384, 640)\n",
      "\n",
      "image 1/1 /home/ishant/Desktop/KeypointModelTest/New_test_img_2/images/part1600168588606433457854332.jpg: 480x640 1 car, 72.3ms\n",
      "Speed: 2.2ms preprocess, 72.3ms inference, 0.8ms postprocess per image at shape (1, 3, 480, 640)\n",
      "\n"
     ]
    },
    {
     "name": "stdout",
     "output_type": "stream",
     "text": [
      "PART_1478299856204165.jpg\n",
      "in535020231211135109-2.jpg\n",
      "part1600168588606433457854332.jpg\n"
     ]
    },
    {
     "name": "stderr",
     "output_type": "stream",
     "text": [
      "image 1/1 /home/ishant/Desktop/KeypointModelTest/New_test_img_2/images/in502720231123120621-1.jpg: 384x640 1 car, 101.5ms\n",
      "Speed: 2.1ms preprocess, 101.5ms inference, 2.0ms postprocess per image at shape (1, 3, 384, 640)\n",
      "\n",
      "image 1/1 /home/ishant/Desktop/KeypointModelTest/New_test_img_2/images/in755420231116153659-3.jpg: 384x640 1 car, 49.3ms\n",
      "Speed: 2.0ms preprocess, 49.3ms inference, 0.8ms postprocess per image at shape (1, 3, 384, 640)\n",
      "\n",
      "image 1/1 /home/ishant/Desktop/KeypointModelTest/New_test_img_2/images/PART_1477405746854617.jpg: 480x640 1 car, 58.8ms\n",
      "Speed: 2.3ms preprocess, 58.8ms inference, 0.7ms postprocess per image at shape (1, 3, 480, 640)\n",
      "\n"
     ]
    },
    {
     "name": "stdout",
     "output_type": "stream",
     "text": [
      "in502720231123120621-1.jpg\n",
      "in755420231116153659-3.jpg\n",
      "PART_1477405746854617.jpg\n"
     ]
    },
    {
     "name": "stderr",
     "output_type": "stream",
     "text": [
      "image 1/1 /home/ishant/Desktop/KeypointModelTest/New_test_img_2/images/part1600168350220297825094927.jpg: 480x640 1 car, 79.7ms\n",
      "Speed: 2.4ms preprocess, 79.7ms inference, 0.9ms postprocess per image at shape (1, 3, 480, 640)\n",
      "\n",
      "image 1/1 /home/ishant/Desktop/KeypointModelTest/New_test_img_2/images/in763620231121114511-2.jpg: 384x640 1 car, 67.5ms\n",
      "Speed: 1.5ms preprocess, 67.5ms inference, 0.7ms postprocess per image at shape (1, 3, 384, 640)\n",
      "\n",
      "image 1/1 /home/ishant/Desktop/KeypointModelTest/New_test_img_2/images/in957620231218121623-7.jpg: 384x640 1 car, 63.7ms\n",
      "Speed: 2.2ms preprocess, 63.7ms inference, 0.9ms postprocess per image at shape (1, 3, 384, 640)\n",
      "\n"
     ]
    },
    {
     "name": "stdout",
     "output_type": "stream",
     "text": [
      "part1600168350220297825094927.jpg\n",
      "in763620231121114511-2.jpg\n",
      "in957620231218121623-7.jpg\n"
     ]
    },
    {
     "name": "stderr",
     "output_type": "stream",
     "text": [
      "image 1/1 /home/ishant/Desktop/KeypointModelTest/New_test_img_2/images/in535020231211135109-6.jpg: 384x640 1 car, 65.5ms\n",
      "Speed: 1.8ms preprocess, 65.5ms inference, 0.7ms postprocess per image at shape (1, 3, 384, 640)\n",
      "\n",
      "image 1/1 /home/ishant/Desktop/KeypointModelTest/New_test_img_2/images/PART_3559764612050941.jpg: 480x640 1 car, 66.4ms\n",
      "Speed: 2.2ms preprocess, 66.4ms inference, 0.7ms postprocess per image at shape (1, 3, 480, 640)\n",
      "\n",
      "image 1/1 /home/ishant/Desktop/KeypointModelTest/New_test_img_2/images/PART_1480738532743538.jpg: 512x640 1 car, 61.4ms\n",
      "Speed: 2.6ms preprocess, 61.4ms inference, 0.8ms postprocess per image at shape (1, 3, 512, 640)\n",
      "\n"
     ]
    },
    {
     "name": "stdout",
     "output_type": "stream",
     "text": [
      "in535020231211135109-6.jpg\n",
      "PART_3559764612050941.jpg\n",
      "PART_1480738532743538.jpg\n"
     ]
    },
    {
     "name": "stderr",
     "output_type": "stream",
     "text": [
      "image 1/1 /home/ishant/Desktop/KeypointModelTest/New_test_img_2/images/part160016877186097642093317.jpg: 480x640 1 car, 82.4ms\n",
      "Speed: 2.4ms preprocess, 82.4ms inference, 0.8ms postprocess per image at shape (1, 3, 480, 640)\n",
      "\n",
      "image 1/1 /home/ishant/Desktop/KeypointModelTest/New_test_img_2/images/part1600168293598191588001496.jpg: 480x640 1 car, 70.0ms\n",
      "Speed: 2.2ms preprocess, 70.0ms inference, 0.8ms postprocess per image at shape (1, 3, 480, 640)\n",
      "\n",
      "image 1/1 /home/ishant/Desktop/KeypointModelTest/New_test_img_2/images/PART_1480453911124456.jpg: 480x640 1 car, 59.0ms\n",
      "Speed: 2.4ms preprocess, 59.0ms inference, 0.9ms postprocess per image at shape (1, 3, 480, 640)\n"
     ]
    },
    {
     "name": "stdout",
     "output_type": "stream",
     "text": [
      "part160016877186097642093317.jpg\n",
      "part1600168293598191588001496.jpg\n"
     ]
    },
    {
     "name": "stderr",
     "output_type": "stream",
     "text": [
      "\n",
      "image 1/1 /home/ishant/Desktop/KeypointModelTest/New_test_img_2/images/in265220231119103239-6.jpg: 384x640 1 car, 67.1ms\n",
      "Speed: 2.5ms preprocess, 67.1ms inference, 2.1ms postprocess per image at shape (1, 3, 384, 640)\n",
      "\n",
      "image 1/1 /home/ishant/Desktop/KeypointModelTest/New_test_img_2/images/in836320231214150909-7.jpg: 384x640 1 car, 64.5ms\n",
      "Speed: 2.0ms preprocess, 64.5ms inference, 0.9ms postprocess per image at shape (1, 3, 384, 640)\n"
     ]
    },
    {
     "name": "stdout",
     "output_type": "stream",
     "text": [
      "PART_1480453911124456.jpg\n",
      "in265220231119103239-6.jpg\n"
     ]
    },
    {
     "name": "stderr",
     "output_type": "stream",
     "text": [
      "\n",
      "image 1/1 /home/ishant/Desktop/KeypointModelTest/New_test_img_2/images/in161920231119111435-6.jpg: 384x640 1 car, 52.5ms\n",
      "Speed: 1.9ms preprocess, 52.5ms inference, 1.0ms postprocess per image at shape (1, 3, 384, 640)\n",
      "\n",
      "image 1/1 /home/ishant/Desktop/KeypointModelTest/New_test_img_2/images/in502720231123120621-3.jpg: 384x640 1 car, 50.4ms\n",
      "Speed: 1.7ms preprocess, 50.4ms inference, 0.9ms postprocess per image at shape (1, 3, 384, 640)\n",
      "\n"
     ]
    },
    {
     "name": "stdout",
     "output_type": "stream",
     "text": [
      "in836320231214150909-7.jpg\n",
      "in161920231119111435-6.jpg\n",
      "in502720231123120621-3.jpg\n"
     ]
    },
    {
     "name": "stderr",
     "output_type": "stream",
     "text": [
      "image 1/1 /home/ishant/Desktop/KeypointModelTest/New_test_img_2/images/part16001690477971644463261.jpg: 480x640 1 car, 63.0ms\n",
      "Speed: 2.6ms preprocess, 63.0ms inference, 1.0ms postprocess per image at shape (1, 3, 480, 640)\n",
      "\n",
      "image 1/1 /home/ishant/Desktop/KeypointModelTest/New_test_img_2/images/in265220231119103239-7.jpg: 384x640 1 car, 49.7ms\n",
      "Speed: 1.7ms preprocess, 49.7ms inference, 0.7ms postprocess per image at shape (1, 3, 384, 640)\n",
      "\n",
      "image 1/1 /home/ishant/Desktop/KeypointModelTest/New_test_img_2/images/PART_4395181456302878.jpg: 480x640 1 car, 57.2ms\n",
      "Speed: 1.9ms preprocess, 57.2ms inference, 0.7ms postprocess per image at shape (1, 3, 480, 640)\n",
      "\n"
     ]
    },
    {
     "name": "stdout",
     "output_type": "stream",
     "text": [
      "part16001690477971644463261.jpg\n",
      "in265220231119103239-7.jpg\n",
      "PART_4395181456302878.jpg\n"
     ]
    },
    {
     "name": "stderr",
     "output_type": "stream",
     "text": [
      "image 1/1 /home/ishant/Desktop/KeypointModelTest/New_test_img_2/images/PART_1478870985931474.jpg: 480x640 1 car, 61.2ms\n",
      "Speed: 2.1ms preprocess, 61.2ms inference, 0.9ms postprocess per image at shape (1, 3, 480, 640)\n",
      "\n",
      "image 1/1 /home/ishant/Desktop/KeypointModelTest/New_test_img_2/images/in957620231218121623-6.jpg: 384x640 2 cars, 94.5ms\n",
      "Speed: 5.0ms preprocess, 94.5ms inference, 0.9ms postprocess per image at shape (1, 3, 384, 640)\n",
      "\n"
     ]
    },
    {
     "name": "stdout",
     "output_type": "stream",
     "text": [
      "PART_1478870985931474.jpg\n",
      "in957620231218121623-6.jpg\n"
     ]
    },
    {
     "name": "stderr",
     "output_type": "stream",
     "text": [
      "image 1/1 /home/ishant/Desktop/KeypointModelTest/New_test_img_2/images/in763620231121114511-5.jpg: 384x640 1 car, 70.9ms\n",
      "Speed: 2.0ms preprocess, 70.9ms inference, 0.8ms postprocess per image at shape (1, 3, 384, 640)\n",
      "\n",
      "image 1/1 /home/ishant/Desktop/KeypointModelTest/New_test_img_2/images/PART_1484079026295772.jpg: 480x640 1 car, 67.6ms\n",
      "Speed: 2.8ms preprocess, 67.6ms inference, 1.0ms postprocess per image at shape (1, 3, 480, 640)\n",
      "\n",
      "image 1/1 /home/ishant/Desktop/KeypointModelTest/New_test_img_2/images/part1600168224745465570190870.jpg: 640x480 1 car, 64.8ms\n",
      "Speed: 3.1ms preprocess, 64.8ms inference, 0.9ms postprocess per image at shape (1, 3, 640, 480)\n"
     ]
    },
    {
     "name": "stdout",
     "output_type": "stream",
     "text": [
      "in763620231121114511-5.jpg\n",
      "PART_1484079026295772.jpg\n",
      "part1600168224745465570190870.jpg\n"
     ]
    },
    {
     "name": "stderr",
     "output_type": "stream",
     "text": [
      "\n",
      "image 1/1 /home/ishant/Desktop/KeypointModelTest/New_test_img_2/images/PART_1478441604224371.jpg: 384x640 1 car, 50.0ms\n",
      "Speed: 2.0ms preprocess, 50.0ms inference, 0.7ms postprocess per image at shape (1, 3, 384, 640)\n",
      "\n",
      "image 1/1 /home/ishant/Desktop/KeypointModelTest/New_test_img_2/images/in642120231213085757-2.jpg: 384x640 1 car, 63.6ms\n",
      "Speed: 1.8ms preprocess, 63.6ms inference, 0.9ms postprocess per image at shape (1, 3, 384, 640)\n",
      "\n",
      "image 1/1 /home/ishant/Desktop/KeypointModelTest/New_test_img_2/images/in799620231218081737-2.jpg: 384x640 1 car, 55.2ms\n",
      "Speed: 2.0ms preprocess, 55.2ms inference, 0.7ms postprocess per image at shape (1, 3, 384, 640)\n",
      "\n"
     ]
    },
    {
     "name": "stdout",
     "output_type": "stream",
     "text": [
      "PART_1478441604224371.jpg\n",
      "in642120231213085757-2.jpg\n",
      "in799620231218081737-2.jpg\n"
     ]
    },
    {
     "name": "stderr",
     "output_type": "stream",
     "text": [
      "image 1/1 /home/ishant/Desktop/KeypointModelTest/New_test_img_2/images/PART_1477785823946919.jpg: 480x640 1 car, 78.0ms\n",
      "Speed: 2.6ms preprocess, 78.0ms inference, 0.8ms postprocess per image at shape (1, 3, 480, 640)\n",
      "\n",
      "image 1/1 /home/ishant/Desktop/KeypointModelTest/New_test_img_2/images/PART_1481910397927490.jpg: 480x640 1 car, 57.2ms\n",
      "Speed: 2.6ms preprocess, 57.2ms inference, 0.8ms postprocess per image at shape (1, 3, 480, 640)\n",
      "\n",
      "image 1/1 /home/ishant/Desktop/KeypointModelTest/New_test_img_2/images/in646920231218133357-7.jpg: 384x640 1 car, 57.9ms\n",
      "Speed: 2.0ms preprocess, 57.9ms inference, 0.9ms postprocess per image at shape (1, 3, 384, 640)\n",
      "\n"
     ]
    },
    {
     "name": "stdout",
     "output_type": "stream",
     "text": [
      "PART_1477785823946919.jpg\n",
      "PART_1481910397927490.jpg\n",
      "in646920231218133357-7.jpg\n"
     ]
    },
    {
     "name": "stderr",
     "output_type": "stream",
     "text": [
      "image 1/1 /home/ishant/Desktop/KeypointModelTest/New_test_img_2/images/PART_1479255219713006.jpg: 480x640 1 car, 67.6ms\n",
      "Speed: 2.3ms preprocess, 67.6ms inference, 0.7ms postprocess per image at shape (1, 3, 480, 640)\n",
      "\n",
      "image 1/1 /home/ishant/Desktop/KeypointModelTest/New_test_img_2/images/in821820231219130304-7.jpg: 384x640 1 car, 55.3ms\n",
      "Speed: 2.4ms preprocess, 55.3ms inference, 2.0ms postprocess per image at shape (1, 3, 384, 640)\n",
      "\n",
      "image 1/1 /home/ishant/Desktop/KeypointModelTest/New_test_img_2/images/PART_4495593076167055.jpg: 480x640 1 car, 86.7ms\n",
      "Speed: 2.5ms preprocess, 86.7ms inference, 0.8ms postprocess per image at shape (1, 3, 480, 640)\n"
     ]
    },
    {
     "name": "stdout",
     "output_type": "stream",
     "text": [
      "PART_1479255219713006.jpg\n",
      "in821820231219130304-7.jpg\n"
     ]
    },
    {
     "name": "stderr",
     "output_type": "stream",
     "text": [
      "\n",
      "image 1/1 /home/ishant/Desktop/KeypointModelTest/New_test_img_2/images/in411620231220133737-3.jpg: 384x640 1 car, 51.3ms\n",
      "Speed: 2.2ms preprocess, 51.3ms inference, 1.7ms postprocess per image at shape (1, 3, 384, 640)\n",
      "\n",
      "image 1/1 /home/ishant/Desktop/KeypointModelTest/New_test_img_2/images/PART_1479952879597662.jpg: 480x640 1 car, 61.6ms\n",
      "Speed: 2.5ms preprocess, 61.6ms inference, 1.1ms postprocess per image at shape (1, 3, 480, 640)\n",
      "\n"
     ]
    },
    {
     "name": "stdout",
     "output_type": "stream",
     "text": [
      "PART_4495593076167055.jpg\n",
      "in411620231220133737-3.jpg\n",
      "PART_1479952879597662.jpg\n"
     ]
    },
    {
     "name": "stderr",
     "output_type": "stream",
     "text": [
      "image 1/1 /home/ishant/Desktop/KeypointModelTest/New_test_img_2/images/in547220231123124841-5.jpg: 384x640 1 car, 67.1ms\n",
      "Speed: 2.4ms preprocess, 67.1ms inference, 0.9ms postprocess per image at shape (1, 3, 384, 640)\n",
      "\n",
      "image 1/1 /home/ishant/Desktop/KeypointModelTest/New_test_img_2/images/in928020231220093827-2.jpg: 384x640 1 car, 48.5ms\n",
      "Speed: 1.7ms preprocess, 48.5ms inference, 0.7ms postprocess per image at shape (1, 3, 384, 640)\n",
      "\n",
      "image 1/1 /home/ishant/Desktop/KeypointModelTest/New_test_img_2/images/part1600168487347574271567380.jpg: 480x640 1 car, 59.8ms\n",
      "Speed: 2.7ms preprocess, 59.8ms inference, 0.8ms postprocess per image at shape (1, 3, 480, 640)\n",
      "\n"
     ]
    },
    {
     "name": "stdout",
     "output_type": "stream",
     "text": [
      "in547220231123124841-5.jpg\n",
      "in928020231220093827-2.jpg\n",
      "part1600168487347574271567380.jpg\n"
     ]
    },
    {
     "name": "stderr",
     "output_type": "stream",
     "text": [
      "image 1/1 /home/ishant/Desktop/KeypointModelTest/New_test_img_2/images/PART_3560588209651776.jpg: 352x640 1 car, 65.8ms\n",
      "Speed: 1.9ms preprocess, 65.8ms inference, 0.8ms postprocess per image at shape (1, 3, 352, 640)\n",
      "\n",
      "image 1/1 /home/ishant/Desktop/KeypointModelTest/New_test_img_2/images/PART_1478411529869910.jpg: 480x640 1 car, 73.9ms\n",
      "Speed: 1.9ms preprocess, 73.9ms inference, 1.0ms postprocess per image at shape (1, 3, 480, 640)\n",
      "\n"
     ]
    },
    {
     "name": "stdout",
     "output_type": "stream",
     "text": [
      "PART_3560588209651776.jpg\n",
      "PART_1478411529869910.jpg\n"
     ]
    },
    {
     "name": "stderr",
     "output_type": "stream",
     "text": [
      "image 1/1 /home/ishant/Desktop/KeypointModelTest/New_test_img_2/images/in957620231218121623-2.jpg: 384x640 1 car, 65.7ms\n",
      "Speed: 3.3ms preprocess, 65.7ms inference, 1.6ms postprocess per image at shape (1, 3, 384, 640)\n",
      "\n",
      "image 1/1 /home/ishant/Desktop/KeypointModelTest/New_test_img_2/images/in836320231214150909-5.jpg: 384x640 1 car, 64.1ms\n",
      "Speed: 2.0ms preprocess, 64.1ms inference, 1.0ms postprocess per image at shape (1, 3, 384, 640)\n",
      "\n",
      "image 1/1 /home/ishant/Desktop/KeypointModelTest/New_test_img_2/images/in755420231116153659-2.jpg: 384x640 1 car, 65.8ms\n",
      "Speed: 2.0ms preprocess, 65.8ms inference, 0.9ms postprocess per image at shape (1, 3, 384, 640)\n",
      "\n"
     ]
    },
    {
     "name": "stdout",
     "output_type": "stream",
     "text": [
      "in957620231218121623-2.jpg\n",
      "in836320231214150909-5.jpg\n",
      "in755420231116153659-2.jpg\n"
     ]
    },
    {
     "name": "stderr",
     "output_type": "stream",
     "text": [
      "image 1/1 /home/ishant/Desktop/KeypointModelTest/New_test_img_2/images/in292820231124100518-1.jpg: 384x640 1 car, 69.0ms\n",
      "Speed: 1.9ms preprocess, 69.0ms inference, 0.8ms postprocess per image at shape (1, 3, 384, 640)\n",
      "\n",
      "image 1/1 /home/ishant/Desktop/KeypointModelTest/New_test_img_2/images/part1600168263144558438189588.jpg: 480x640 1 car, 57.7ms\n",
      "Speed: 2.5ms preprocess, 57.7ms inference, 0.9ms postprocess per image at shape (1, 3, 480, 640)\n",
      "\n",
      "image 1/1 /home/ishant/Desktop/KeypointModelTest/New_test_img_2/images/PART_1479354265937997.jpg: 480x640 1 car, 78.4ms\n",
      "Speed: 2.5ms preprocess, 78.4ms inference, 0.8ms postprocess per image at shape (1, 3, 480, 640)\n"
     ]
    },
    {
     "name": "stdout",
     "output_type": "stream",
     "text": [
      "in292820231124100518-1.jpg\n",
      "part1600168263144558438189588.jpg\n"
     ]
    },
    {
     "name": "stderr",
     "output_type": "stream",
     "text": [
      "\n",
      "image 1/1 /home/ishant/Desktop/KeypointModelTest/New_test_img_2/images/PART_1482606483220424.jpg: 384x640 1 car, 70.5ms\n",
      "Speed: 2.6ms preprocess, 70.5ms inference, 1.9ms postprocess per image at shape (1, 3, 384, 640)\n",
      "\n",
      "image 1/1 /home/ishant/Desktop/KeypointModelTest/New_test_img_2/images/PART_1483210320995706.jpg: 512x640 1 car, 61.8ms\n",
      "Speed: 2.4ms preprocess, 61.8ms inference, 0.8ms postprocess per image at shape (1, 3, 512, 640)\n"
     ]
    },
    {
     "name": "stdout",
     "output_type": "stream",
     "text": [
      "PART_1479354265937997.jpg\n",
      "PART_1482606483220424.jpg\n"
     ]
    },
    {
     "name": "stderr",
     "output_type": "stream",
     "text": [
      "\n",
      "image 1/1 /home/ishant/Desktop/KeypointModelTest/New_test_img_2/images/in799620231218081737-5.jpg: 384x640 1 car, 48.1ms\n",
      "Speed: 1.4ms preprocess, 48.1ms inference, 0.7ms postprocess per image at shape (1, 3, 384, 640)\n",
      "\n",
      "image 1/1 /home/ishant/Desktop/KeypointModelTest/New_test_img_2/images/PART_1483841811166102.jpg: 320x640 1 car, 56.1ms\n",
      "Speed: 2.2ms preprocess, 56.1ms inference, 0.7ms postprocess per image at shape (1, 3, 320, 640)\n",
      "\n"
     ]
    },
    {
     "name": "stdout",
     "output_type": "stream",
     "text": [
      "PART_1483210320995706.jpg\n",
      "in799620231218081737-5.jpg\n",
      "PART_1483841811166102.jpg\n"
     ]
    },
    {
     "name": "stderr",
     "output_type": "stream",
     "text": [
      "image 1/1 /home/ishant/Desktop/KeypointModelTest/New_test_img_2/images/PART_3559628291981744.jpg: 480x640 1 car, 76.8ms\n",
      "Speed: 2.4ms preprocess, 76.8ms inference, 0.8ms postprocess per image at shape (1, 3, 480, 640)\n",
      "\n",
      "image 1/1 /home/ishant/Desktop/KeypointModelTest/New_test_img_2/images/PART_1483616823760075.jpg: 384x640 1 car, 62.6ms\n",
      "Speed: 1.6ms preprocess, 62.6ms inference, 0.7ms postprocess per image at shape (1, 3, 384, 640)\n",
      "\n",
      "image 1/1 /home/ishant/Desktop/KeypointModelTest/New_test_img_2/images/PART_3560577313968785.jpg: 480x640 1 car, 79.5ms\n",
      "Speed: 2.2ms preprocess, 79.5ms inference, 1.2ms postprocess per image at shape (1, 3, 480, 640)\n"
     ]
    },
    {
     "name": "stdout",
     "output_type": "stream",
     "text": [
      "PART_3559628291981744.jpg\n",
      "PART_1483616823760075.jpg\n"
     ]
    },
    {
     "name": "stderr",
     "output_type": "stream",
     "text": [
      "\n",
      "image 1/1 /home/ishant/Desktop/KeypointModelTest/New_test_img_2/images/PART_4408179695317297.jpg: 480x640 1 car, 57.8ms\n",
      "Speed: 2.5ms preprocess, 57.8ms inference, 0.7ms postprocess per image at shape (1, 3, 480, 640)\n",
      "\n",
      "image 1/1 /home/ishant/Desktop/KeypointModelTest/New_test_img_2/images/PART_4394079952521361.jpg: 384x640 1 car, 66.6ms\n",
      "Speed: 1.9ms preprocess, 66.6ms inference, 2.2ms postprocess per image at shape (1, 3, 384, 640)\n"
     ]
    },
    {
     "name": "stdout",
     "output_type": "stream",
     "text": [
      "PART_3560577313968785.jpg\n",
      "PART_4408179695317297.jpg\n"
     ]
    },
    {
     "name": "stderr",
     "output_type": "stream",
     "text": [
      "\n",
      "image 1/1 /home/ishant/Desktop/KeypointModelTest/New_test_img_2/images/in502720231123120621-7.jpg: 384x640 1 car, 54.8ms\n",
      "Speed: 2.0ms preprocess, 54.8ms inference, 0.9ms postprocess per image at shape (1, 3, 384, 640)\n",
      "\n",
      "image 1/1 /home/ishant/Desktop/KeypointModelTest/New_test_img_2/images/part1600168470297537621523720.jpg: 480x640 1 car, 57.6ms\n",
      "Speed: 2.7ms preprocess, 57.6ms inference, 0.9ms postprocess per image at shape (1, 3, 480, 640)\n",
      "\n"
     ]
    },
    {
     "name": "stdout",
     "output_type": "stream",
     "text": [
      "PART_4394079952521361.jpg\n",
      "in502720231123120621-7.jpg\n",
      "part1600168470297537621523720.jpg\n"
     ]
    },
    {
     "name": "stderr",
     "output_type": "stream",
     "text": [
      "image 1/1 /home/ishant/Desktop/KeypointModelTest/New_test_img_2/images/in873320231124095011-3.jpg: 384x640 2 cars, 76.5ms\n",
      "Speed: 1.9ms preprocess, 76.5ms inference, 0.9ms postprocess per image at shape (1, 3, 384, 640)\n",
      "\n",
      "image 1/1 /home/ishant/Desktop/KeypointModelTest/New_test_img_2/images/PART_1479475397923700.jpg: 480x640 1 car, 57.2ms\n",
      "Speed: 2.0ms preprocess, 57.2ms inference, 0.8ms postprocess per image at shape (1, 3, 480, 640)\n",
      "\n",
      "image 1/1 /home/ishant/Desktop/KeypointModelTest/New_test_img_2/images/in214320231205082545-7.jpg: 384x640 1 car, 71.8ms\n",
      "Speed: 1.6ms preprocess, 71.8ms inference, 2.3ms postprocess per image at shape (1, 3, 384, 640)\n"
     ]
    },
    {
     "name": "stdout",
     "output_type": "stream",
     "text": [
      "in873320231124095011-3.jpg\n",
      "PART_1479475397923700.jpg\n"
     ]
    },
    {
     "name": "stderr",
     "output_type": "stream",
     "text": [
      "\n",
      "image 1/1 /home/ishant/Desktop/KeypointModelTest/New_test_img_2/images/in975420231211105726-6.jpg: 384x640 1 car, 45.4ms\n",
      "Speed: 1.9ms preprocess, 45.4ms inference, 0.9ms postprocess per image at shape (1, 3, 384, 640)\n",
      "\n",
      "image 1/1 /home/ishant/Desktop/KeypointModelTest/New_test_img_2/images/in646920231218133357-5.jpg: 384x640 1 car, 60.8ms\n",
      "Speed: 2.0ms preprocess, 60.8ms inference, 0.7ms postprocess per image at shape (1, 3, 384, 640)\n",
      "\n"
     ]
    },
    {
     "name": "stdout",
     "output_type": "stream",
     "text": [
      "in214320231205082545-7.jpg\n",
      "in975420231211105726-6.jpg\n",
      "in646920231218133357-5.jpg\n"
     ]
    },
    {
     "name": "stderr",
     "output_type": "stream",
     "text": [
      "image 1/1 /home/ishant/Desktop/KeypointModelTest/New_test_img_2/images/in836320231214150909-1.jpg: 384x640 1 car, 49.4ms\n",
      "Speed: 1.5ms preprocess, 49.4ms inference, 0.8ms postprocess per image at shape (1, 3, 384, 640)\n",
      "\n",
      "image 1/1 /home/ishant/Desktop/KeypointModelTest/New_test_img_2/images/part1600168340251687826694940.jpg: 480x640 1 car, 70.9ms\n",
      "Speed: 2.5ms preprocess, 70.9ms inference, 0.7ms postprocess per image at shape (1, 3, 480, 640)\n",
      "\n",
      "image 1/1 /home/ishant/Desktop/KeypointModelTest/New_test_img_2/images/in502720231123120621-5.jpg: 384x640 1 car, 44.4ms\n",
      "Speed: 1.4ms preprocess, 44.4ms inference, 0.7ms postprocess per image at shape (1, 3, 384, 640)\n",
      "\n"
     ]
    },
    {
     "name": "stdout",
     "output_type": "stream",
     "text": [
      "in836320231214150909-1.jpg\n",
      "part1600168340251687826694940.jpg\n",
      "in502720231123120621-5.jpg\n"
     ]
    },
    {
     "name": "stderr",
     "output_type": "stream",
     "text": [
      "image 1/1 /home/ishant/Desktop/KeypointModelTest/New_test_img_2/images/PART_1483248120468209.jpg: 480x640 1 car, 76.9ms\n",
      "Speed: 2.0ms preprocess, 76.9ms inference, 0.8ms postprocess per image at shape (1, 3, 480, 640)\n",
      "\n",
      "image 1/1 /home/ishant/Desktop/KeypointModelTest/New_test_img_2/images/PART_1478558445769340.jpg: 480x640 1 car, 58.4ms\n",
      "Speed: 2.1ms preprocess, 58.4ms inference, 0.7ms postprocess per image at shape (1, 3, 480, 640)\n",
      "\n",
      "image 1/1 /home/ishant/Desktop/KeypointModelTest/New_test_img_2/images/PART_1482225318351645.jpg: 320x640 1 car, 49.5ms\n",
      "Speed: 1.4ms preprocess, 49.5ms inference, 0.8ms postprocess per image at shape (1, 3, 320, 640)\n",
      "\n"
     ]
    },
    {
     "name": "stdout",
     "output_type": "stream",
     "text": [
      "PART_1483248120468209.jpg\n",
      "PART_1478558445769340.jpg\n",
      "PART_1482225318351645.jpg\n"
     ]
    },
    {
     "name": "stderr",
     "output_type": "stream",
     "text": [
      "image 1/1 /home/ishant/Desktop/KeypointModelTest/New_test_img_2/images/in799620231218081737-3.jpg: 384x640 1 car, 47.7ms\n",
      "Speed: 1.6ms preprocess, 47.7ms inference, 0.7ms postprocess per image at shape (1, 3, 384, 640)\n",
      "\n",
      "image 1/1 /home/ishant/Desktop/KeypointModelTest/New_test_img_2/images/PART_1483496885531519.jpg: 480x640 1 car, 67.6ms\n",
      "Speed: 2.3ms preprocess, 67.6ms inference, 0.7ms postprocess per image at shape (1, 3, 480, 640)\n",
      "\n",
      "image 1/1 /home/ishant/Desktop/KeypointModelTest/New_test_img_2/images/PART_3561229220430928.jpg: 384x640 1 car, 43.7ms\n",
      "Speed: 1.5ms preprocess, 43.7ms inference, 0.7ms postprocess per image at shape (1, 3, 384, 640)\n",
      "\n"
     ]
    },
    {
     "name": "stdout",
     "output_type": "stream",
     "text": [
      "in799620231218081737-3.jpg\n",
      "PART_1483496885531519.jpg\n",
      "PART_3561229220430928.jpg\n"
     ]
    },
    {
     "name": "stderr",
     "output_type": "stream",
     "text": [
      "image 1/1 /home/ishant/Desktop/KeypointModelTest/New_test_img_2/images/part1600168535186414285141985.jpg: 480x640 1 car, 58.3ms\n",
      "Speed: 2.3ms preprocess, 58.3ms inference, 0.7ms postprocess per image at shape (1, 3, 480, 640)\n",
      "\n",
      "image 1/1 /home/ishant/Desktop/KeypointModelTest/New_test_img_2/images/part160016883371158994760719.jpg: 384x640 1 car, 43.6ms\n",
      "Speed: 1.8ms preprocess, 43.6ms inference, 0.7ms postprocess per image at shape (1, 3, 384, 640)\n",
      "\n",
      "image 1/1 /home/ishant/Desktop/KeypointModelTest/New_test_img_2/images/PART_1478134314872619.jpg: 480x640 1 car, 51.8ms\n",
      "Speed: 1.8ms preprocess, 51.8ms inference, 0.8ms postprocess per image at shape (1, 3, 480, 640)\n",
      "\n"
     ]
    },
    {
     "name": "stdout",
     "output_type": "stream",
     "text": [
      "part1600168535186414285141985.jpg\n",
      "part160016883371158994760719.jpg\n",
      "PART_1478134314872619.jpg\n"
     ]
    },
    {
     "name": "stderr",
     "output_type": "stream",
     "text": [
      "image 1/1 /home/ishant/Desktop/KeypointModelTest/New_test_img_2/images/PART_3496373593011785.jpg: 320x640 1 car, 47.0ms\n",
      "Speed: 1.9ms preprocess, 47.0ms inference, 0.7ms postprocess per image at shape (1, 3, 320, 640)\n",
      "\n",
      "image 1/1 /home/ishant/Desktop/KeypointModelTest/New_test_img_2/images/PART_1477414637212916.jpg: 480x640 1 car, 52.4ms\n",
      "Speed: 2.1ms preprocess, 52.4ms inference, 0.9ms postprocess per image at shape (1, 3, 480, 640)\n",
      "\n"
     ]
    },
    {
     "name": "stdout",
     "output_type": "stream",
     "text": [
      "PART_3496373593011785.jpg\n",
      "PART_1477414637212916.jpg\n"
     ]
    },
    {
     "name": "stderr",
     "output_type": "stream",
     "text": [
      "image 1/1 /home/ishant/Desktop/KeypointModelTest/New_test_img_2/images/part1600168313507412441456967.jpg: 480x640 1 car, 105.3ms\n",
      "Speed: 31.9ms preprocess, 105.3ms inference, 0.7ms postprocess per image at shape (1, 3, 480, 640)\n",
      "\n",
      "image 1/1 /home/ishant/Desktop/KeypointModelTest/New_test_img_2/images/PART_1481117392640398.jpg: 480x640 1 car, 77.8ms\n",
      "Speed: 5.5ms preprocess, 77.8ms inference, 0.7ms postprocess per image at shape (1, 3, 480, 640)\n",
      "\n",
      "image 1/1 /home/ishant/Desktop/KeypointModelTest/New_test_img_2/images/PART_1480147557590644.jpg: 384x640 1 car, 44.6ms\n",
      "Speed: 1.7ms preprocess, 44.6ms inference, 0.8ms postprocess per image at shape (1, 3, 384, 640)\n",
      "\n"
     ]
    },
    {
     "name": "stdout",
     "output_type": "stream",
     "text": [
      "part1600168313507412441456967.jpg\n",
      "PART_1481117392640398.jpg\n",
      "PART_1480147557590644.jpg\n"
     ]
    },
    {
     "name": "stderr",
     "output_type": "stream",
     "text": [
      "image 1/1 /home/ishant/Desktop/KeypointModelTest/New_test_img_2/images/PART_4411723625968720.jpg: 480x640 1 car, 86.2ms\n",
      "Speed: 1.9ms preprocess, 86.2ms inference, 0.9ms postprocess per image at shape (1, 3, 480, 640)\n",
      "\n",
      "image 1/1 /home/ishant/Desktop/KeypointModelTest/New_test_img_2/images/PART_1479099483545485.jpg: 480x640 1 car, 96.3ms\n",
      "Speed: 3.7ms preprocess, 96.3ms inference, 0.9ms postprocess per image at shape (1, 3, 480, 640)\n",
      "\n"
     ]
    },
    {
     "name": "stdout",
     "output_type": "stream",
     "text": [
      "PART_4411723625968720.jpg\n",
      "PART_1479099483545485.jpg\n"
     ]
    },
    {
     "name": "stderr",
     "output_type": "stream",
     "text": [
      "image 1/1 /home/ishant/Desktop/KeypointModelTest/New_test_img_2/images/PART_1483923120256926.jpg: 512x640 1 car, 85.1ms\n",
      "Speed: 3.0ms preprocess, 85.1ms inference, 2.1ms postprocess per image at shape (1, 3, 512, 640)\n",
      "\n",
      "image 1/1 /home/ishant/Desktop/KeypointModelTest/New_test_img_2/images/in161920231119111435-7.jpg: 384x640 1 car, 58.5ms\n",
      "Speed: 1.6ms preprocess, 58.5ms inference, 0.9ms postprocess per image at shape (1, 3, 384, 640)\n",
      "\n",
      "image 1/1 /home/ishant/Desktop/KeypointModelTest/New_test_img_2/images/part160016863579581974467775.jpg: 480x640 1 car, 84.6ms\n",
      "Speed: 3.2ms preprocess, 84.6ms inference, 1.0ms postprocess per image at shape (1, 3, 480, 640)\n"
     ]
    },
    {
     "name": "stdout",
     "output_type": "stream",
     "text": [
      "PART_1483923120256926.jpg\n",
      "in161920231119111435-7.jpg\n"
     ]
    },
    {
     "name": "stderr",
     "output_type": "stream",
     "text": [
      "\n",
      "image 1/1 /home/ishant/Desktop/KeypointModelTest/New_test_img_2/images/PART_1480786645946999.jpg: 384x640 1 car, 60.7ms\n",
      "Speed: 2.3ms preprocess, 60.7ms inference, 0.8ms postprocess per image at shape (1, 3, 384, 640)\n",
      "\n",
      "image 1/1 /home/ishant/Desktop/KeypointModelTest/New_test_img_2/images/PART_1484033936623199.jpg: 480x640 1 car, 56.3ms\n",
      "Speed: 2.0ms preprocess, 56.3ms inference, 0.7ms postprocess per image at shape (1, 3, 480, 640)\n",
      "\n"
     ]
    },
    {
     "name": "stdout",
     "output_type": "stream",
     "text": [
      "part160016863579581974467775.jpg\n",
      "PART_1480786645946999.jpg\n",
      "PART_1484033936623199.jpg\n"
     ]
    },
    {
     "name": "stderr",
     "output_type": "stream",
     "text": [
      "image 1/1 /home/ishant/Desktop/KeypointModelTest/New_test_img_2/images/PART_1478701545065743.jpg: 480x640 1 car, 109.4ms\n",
      "Speed: 4.8ms preprocess, 109.4ms inference, 1.1ms postprocess per image at shape (1, 3, 480, 640)\n",
      "\n",
      "image 1/1 /home/ishant/Desktop/KeypointModelTest/New_test_img_2/images/PART_4396074210422407.jpg: 320x640 1 car, 81.5ms\n",
      "Speed: 8.6ms preprocess, 81.5ms inference, 1.8ms postprocess per image at shape (1, 3, 320, 640)\n",
      "\n"
     ]
    },
    {
     "name": "stdout",
     "output_type": "stream",
     "text": [
      "PART_1478701545065743.jpg\n",
      "PART_4396074210422407.jpg\n"
     ]
    },
    {
     "name": "stderr",
     "output_type": "stream",
     "text": [
      "image 1/1 /home/ishant/Desktop/KeypointModelTest/New_test_img_2/images/in292820231124100518-3.jpg: 384x640 1 car, 55.4ms\n",
      "Speed: 5.9ms preprocess, 55.4ms inference, 0.8ms postprocess per image at shape (1, 3, 384, 640)\n",
      "\n",
      "image 1/1 /home/ishant/Desktop/KeypointModelTest/New_test_img_2/images/in799620231218081737-7.jpg: 384x640 1 car, 65.4ms\n",
      "Speed: 2.0ms preprocess, 65.4ms inference, 0.9ms postprocess per image at shape (1, 3, 384, 640)\n",
      "\n",
      "image 1/1 /home/ishant/Desktop/KeypointModelTest/New_test_img_2/images/in957620231218121623-3.jpg: 384x640 1 car, 46.5ms\n",
      "Speed: 2.5ms preprocess, 46.5ms inference, 0.7ms postprocess per image at shape (1, 3, 384, 640)\n",
      "\n"
     ]
    },
    {
     "name": "stdout",
     "output_type": "stream",
     "text": [
      "in292820231124100518-3.jpg\n",
      "in799620231218081737-7.jpg\n",
      "in957620231218121623-3.jpg\n"
     ]
    },
    {
     "name": "stderr",
     "output_type": "stream",
     "text": [
      "image 1/1 /home/ishant/Desktop/KeypointModelTest/New_test_img_2/images/PART_1481724691739913.jpg: 480x640 1 car, 56.6ms\n",
      "Speed: 1.9ms preprocess, 56.6ms inference, 0.7ms postprocess per image at shape (1, 3, 480, 640)\n",
      "\n",
      "image 1/1 /home/ishant/Desktop/KeypointModelTest/New_test_img_2/images/PART_1478705006293172.jpg: 448x640 1 car, 50.2ms\n",
      "Speed: 1.9ms preprocess, 50.2ms inference, 1.6ms postprocess per image at shape (1, 3, 448, 640)\n",
      "\n",
      "image 1/1 /home/ishant/Desktop/KeypointModelTest/New_test_img_2/images/PART_1478630273066489.jpg: 480x640 1 car, 53.2ms\n",
      "Speed: 2.4ms preprocess, 53.2ms inference, 0.7ms postprocess per image at shape (1, 3, 480, 640)\n",
      "\n"
     ]
    },
    {
     "name": "stdout",
     "output_type": "stream",
     "text": [
      "PART_1481724691739913.jpg\n",
      "PART_1478705006293172.jpg\n",
      "PART_1478630273066489.jpg\n"
     ]
    },
    {
     "name": "stderr",
     "output_type": "stream",
     "text": [
      "image 1/1 /home/ishant/Desktop/KeypointModelTest/New_test_img_2/images/PART_1481478716227158.jpg: 480x640 1 car, 64.6ms\n",
      "Speed: 2.8ms preprocess, 64.6ms inference, 0.7ms postprocess per image at shape (1, 3, 480, 640)\n",
      "\n",
      "image 1/1 /home/ishant/Desktop/KeypointModelTest/New_test_img_2/images/in836320231214150909-2.jpg: 384x640 1 car, 60.3ms\n",
      "Speed: 2.1ms preprocess, 60.3ms inference, 1.8ms postprocess per image at shape (1, 3, 384, 640)\n",
      "\n",
      "image 1/1 /home/ishant/Desktop/KeypointModelTest/New_test_img_2/images/PART_3559026759844316.jpg: 480x640 1 car, 71.2ms\n",
      "Speed: 2.9ms preprocess, 71.2ms inference, 0.7ms postprocess per image at shape (1, 3, 480, 640)\n",
      "\n"
     ]
    },
    {
     "name": "stdout",
     "output_type": "stream",
     "text": [
      "PART_1481478716227158.jpg\n",
      "in836320231214150909-2.jpg\n",
      "PART_3559026759844316.jpg\n"
     ]
    },
    {
     "name": "stderr",
     "output_type": "stream",
     "text": [
      "image 1/1 /home/ishant/Desktop/KeypointModelTest/New_test_img_2/images/in799620231218081737-6.jpg: 384x640 1 car, 51.2ms\n",
      "Speed: 1.9ms preprocess, 51.2ms inference, 0.7ms postprocess per image at shape (1, 3, 384, 640)\n",
      "\n",
      "image 1/1 /home/ishant/Desktop/KeypointModelTest/New_test_img_2/images/in821820231219130304-3.jpg: 384x640 1 car, 50.0ms\n",
      "Speed: 1.8ms preprocess, 50.0ms inference, 0.9ms postprocess per image at shape (1, 3, 384, 640)\n",
      "\n",
      "image 1/1 /home/ishant/Desktop/KeypointModelTest/New_test_img_2/images/in873320231124095011-6.jpg: 384x640 1 car, 57.3ms\n",
      "Speed: 1.8ms preprocess, 57.3ms inference, 0.8ms postprocess per image at shape (1, 3, 384, 640)\n",
      "\n"
     ]
    },
    {
     "name": "stdout",
     "output_type": "stream",
     "text": [
      "in799620231218081737-6.jpg\n",
      "in821820231219130304-3.jpg\n",
      "in873320231124095011-6.jpg\n"
     ]
    },
    {
     "name": "stderr",
     "output_type": "stream",
     "text": [
      "image 1/1 /home/ishant/Desktop/KeypointModelTest/New_test_img_2/images/PART_1482832106532585.jpg: 480x640 1 car, 75.3ms\n",
      "Speed: 2.1ms preprocess, 75.3ms inference, 0.8ms postprocess per image at shape (1, 3, 480, 640)\n",
      "\n",
      "image 1/1 /home/ishant/Desktop/KeypointModelTest/New_test_img_2/images/in642120231213085757-7.jpg: 384x640 1 car, 60.9ms\n",
      "Speed: 1.7ms preprocess, 60.9ms inference, 0.8ms postprocess per image at shape (1, 3, 384, 640)\n",
      "\n",
      "image 1/1 /home/ishant/Desktop/KeypointModelTest/New_test_img_2/images/in745620231211145159-7.jpg: 384x640 1 car, 58.0ms\n",
      "Speed: 1.5ms preprocess, 58.0ms inference, 0.7ms postprocess per image at shape (1, 3, 384, 640)\n",
      "\n"
     ]
    },
    {
     "name": "stdout",
     "output_type": "stream",
     "text": [
      "PART_1482832106532585.jpg\n",
      "in642120231213085757-7.jpg\n",
      "in745620231211145159-7.jpg\n"
     ]
    },
    {
     "name": "stderr",
     "output_type": "stream",
     "text": [
      "image 1/1 /home/ishant/Desktop/KeypointModelTest/New_test_img_2/images/PART_1477607400418254.jpg: 448x640 1 car, 51.3ms\n",
      "Speed: 2.4ms preprocess, 51.3ms inference, 0.8ms postprocess per image at shape (1, 3, 448, 640)\n",
      "\n",
      "image 1/1 /home/ishant/Desktop/KeypointModelTest/New_test_img_2/images/PART_4397024580852166.jpg: 480x640 1 car, 76.0ms\n",
      "Speed: 2.3ms preprocess, 76.0ms inference, 0.8ms postprocess per image at shape (1, 3, 480, 640)\n",
      "\n",
      "image 1/1 /home/ishant/Desktop/KeypointModelTest/New_test_img_2/images/PART_3558690236844843.jpg: 384x640 1 car, 43.8ms\n",
      "Speed: 2.0ms preprocess, 43.8ms inference, 0.7ms postprocess per image at shape (1, 3, 384, 640)\n",
      "\n"
     ]
    },
    {
     "name": "stdout",
     "output_type": "stream",
     "text": [
      "PART_1477607400418254.jpg\n",
      "PART_4397024580852166.jpg\n",
      "PART_3558690236844843.jpg\n"
     ]
    },
    {
     "name": "stderr",
     "output_type": "stream",
     "text": [
      "image 1/1 /home/ishant/Desktop/KeypointModelTest/New_test_img_2/images/in502720231123120621-6.jpg: 384x640 1 car, 45.5ms\n",
      "Speed: 1.6ms preprocess, 45.5ms inference, 0.9ms postprocess per image at shape (1, 3, 384, 640)\n",
      "\n",
      "image 1/1 /home/ishant/Desktop/KeypointModelTest/New_test_img_2/images/PART_1479759940598498.jpg: 480x640 1 car, 64.6ms\n",
      "Speed: 2.4ms preprocess, 64.6ms inference, 0.7ms postprocess per image at shape (1, 3, 480, 640)\n",
      "\n",
      "image 1/1 /home/ishant/Desktop/KeypointModelTest/New_test_img_2/images/in975420231211105726-2.jpg: 384x640 1 car, 42.4ms\n",
      "Speed: 2.1ms preprocess, 42.4ms inference, 0.8ms postprocess per image at shape (1, 3, 384, 640)\n",
      "\n"
     ]
    },
    {
     "name": "stdout",
     "output_type": "stream",
     "text": [
      "in502720231123120621-6.jpg\n",
      "PART_1479759940598498.jpg\n",
      "in975420231211105726-2.jpg\n"
     ]
    },
    {
     "name": "stderr",
     "output_type": "stream",
     "text": [
      "image 1/1 /home/ishant/Desktop/KeypointModelTest/New_test_img_2/images/in763620231121114511-3.jpg: 384x640 1 car, 49.2ms\n",
      "Speed: 1.4ms preprocess, 49.2ms inference, 0.7ms postprocess per image at shape (1, 3, 384, 640)\n",
      "\n",
      "image 1/1 /home/ishant/Desktop/KeypointModelTest/New_test_img_2/images/in957620231218121623-8.jpg: 384x640 1 car, 43.4ms\n",
      "Speed: 2.2ms preprocess, 43.4ms inference, 0.8ms postprocess per image at shape (1, 3, 384, 640)\n",
      "\n",
      "image 1/1 /home/ishant/Desktop/KeypointModelTest/New_test_img_2/images/in646920231218133357-8.jpg: 384x640 1 car, 54.2ms\n",
      "Speed: 1.5ms preprocess, 54.2ms inference, 1.0ms postprocess per image at shape (1, 3, 384, 640)\n",
      "\n"
     ]
    },
    {
     "name": "stdout",
     "output_type": "stream",
     "text": [
      "in763620231121114511-3.jpg\n",
      "in957620231218121623-8.jpg\n",
      "in646920231218133357-8.jpg\n"
     ]
    },
    {
     "name": "stderr",
     "output_type": "stream",
     "text": [
      "image 1/1 /home/ishant/Desktop/KeypointModelTest/New_test_img_2/images/in928020231220093827-6.jpg: 384x640 1 car, 49.8ms\n",
      "Speed: 1.8ms preprocess, 49.8ms inference, 0.9ms postprocess per image at shape (1, 3, 384, 640)\n",
      "\n",
      "image 1/1 /home/ishant/Desktop/KeypointModelTest/New_test_img_2/images/in821820231219130304-1.jpg: 384x640 1 car, 71.6ms\n",
      "Speed: 1.4ms preprocess, 71.6ms inference, 1.1ms postprocess per image at shape (1, 3, 384, 640)\n",
      "\n"
     ]
    },
    {
     "name": "stdout",
     "output_type": "stream",
     "text": [
      "in928020231220093827-6.jpg\n",
      "in821820231219130304-1.jpg\n"
     ]
    },
    {
     "name": "stderr",
     "output_type": "stream",
     "text": [
      "image 1/1 /home/ishant/Desktop/KeypointModelTest/New_test_img_2/images/part1600168555366341865634231.jpg: 320x640 1 car, 141.2ms\n",
      "Speed: 35.8ms preprocess, 141.2ms inference, 1.0ms postprocess per image at shape (1, 3, 320, 640)\n",
      "\n",
      "image 1/1 /home/ishant/Desktop/KeypointModelTest/New_test_img_2/images/PART_1479562395975901.jpg: 480x640 1 car, 131.3ms\n",
      "Speed: 4.0ms preprocess, 131.3ms inference, 1.3ms postprocess per image at shape (1, 3, 480, 640)\n",
      "\n"
     ]
    },
    {
     "name": "stdout",
     "output_type": "stream",
     "text": [
      "part1600168555366341865634231.jpg\n",
      "PART_1479562395975901.jpg\n"
     ]
    },
    {
     "name": "stderr",
     "output_type": "stream",
     "text": [
      "image 1/1 /home/ishant/Desktop/KeypointModelTest/New_test_img_2/images/in779120231119152124-6.jpg: 384x640 1 car, 90.5ms\n",
      "Speed: 5.2ms preprocess, 90.5ms inference, 1.6ms postprocess per image at shape (1, 3, 384, 640)\n",
      "\n",
      "image 1/1 /home/ishant/Desktop/KeypointModelTest/New_test_img_2/images/part1600168503074404727423169.jpg: 480x640 1 car, 77.4ms\n",
      "Speed: 2.4ms preprocess, 77.4ms inference, 0.7ms postprocess per image at shape (1, 3, 480, 640)\n",
      "\n"
     ]
    },
    {
     "name": "stdout",
     "output_type": "stream",
     "text": [
      "in779120231119152124-6.jpg\n",
      "part1600168503074404727423169.jpg\n"
     ]
    },
    {
     "name": "stderr",
     "output_type": "stream",
     "text": [
      "image 1/1 /home/ishant/Desktop/KeypointModelTest/New_test_img_2/images/in755420231116153659-5.jpg: 384x640 1 car, 71.0ms\n",
      "Speed: 2.1ms preprocess, 71.0ms inference, 1.1ms postprocess per image at shape (1, 3, 384, 640)\n",
      "\n"
     ]
    },
    {
     "name": "stdout",
     "output_type": "stream",
     "text": [
      "in755420231116153659-5.jpg\n"
     ]
    },
    {
     "name": "stderr",
     "output_type": "stream",
     "text": [
      "image 1/1 /home/ishant/Desktop/KeypointModelTest/New_test_img_2/images/PART_1481672883470520.jpg: 480x640 1 car, 363.5ms\n",
      "Speed: 50.6ms preprocess, 363.5ms inference, 1.1ms postprocess per image at shape (1, 3, 480, 640)\n",
      "\n",
      "image 1/1 /home/ishant/Desktop/KeypointModelTest/New_test_img_2/images/PART_1478486328015152.jpg: 480x640 1 car, 72.2ms\n",
      "Speed: 2.3ms preprocess, 72.2ms inference, 0.7ms postprocess per image at shape (1, 3, 480, 640)\n",
      "\n"
     ]
    },
    {
     "name": "stdout",
     "output_type": "stream",
     "text": [
      "PART_1481672883470520.jpg\n",
      "PART_1478486328015152.jpg\n"
     ]
    },
    {
     "name": "stderr",
     "output_type": "stream",
     "text": [
      "image 1/1 /home/ishant/Desktop/KeypointModelTest/New_test_img_2/images/in779120231119152124-7.jpg: 384x640 1 car, 58.1ms\n",
      "Speed: 1.8ms preprocess, 58.1ms inference, 4.2ms postprocess per image at shape (1, 3, 384, 640)\n",
      "\n",
      "image 1/1 /home/ishant/Desktop/KeypointModelTest/New_test_img_2/images/in928020231220093827-1.jpg: 384x640 1 car, 136.9ms\n",
      "Speed: 2.8ms preprocess, 136.9ms inference, 1.1ms postprocess per image at shape (1, 3, 384, 640)\n",
      "\n"
     ]
    },
    {
     "name": "stdout",
     "output_type": "stream",
     "text": [
      "in779120231119152124-7.jpg\n",
      "in928020231220093827-1.jpg\n"
     ]
    },
    {
     "name": "stderr",
     "output_type": "stream",
     "text": [
      "image 1/1 /home/ishant/Desktop/KeypointModelTest/New_test_img_2/images/in292820231124100518-6.jpg: 384x640 1 car, 120.4ms\n",
      "Speed: 4.2ms preprocess, 120.4ms inference, 1.1ms postprocess per image at shape (1, 3, 384, 640)\n",
      "\n",
      "image 1/1 /home/ishant/Desktop/KeypointModelTest/New_test_img_2/images/in642120231213085757-1.jpg: 384x640 1 car, 138.6ms\n",
      "Speed: 3.1ms preprocess, 138.6ms inference, 1.6ms postprocess per image at shape (1, 3, 384, 640)\n"
     ]
    },
    {
     "name": "stdout",
     "output_type": "stream",
     "text": [
      "in292820231124100518-6.jpg\n",
      "in642120231213085757-1.jpg\n"
     ]
    },
    {
     "name": "stderr",
     "output_type": "stream",
     "text": [
      "\n",
      "image 1/1 /home/ishant/Desktop/KeypointModelTest/New_test_img_2/images/in265220231119103239-3.jpg: 384x640 1 car, 142.6ms\n",
      "Speed: 9.3ms preprocess, 142.6ms inference, 1.3ms postprocess per image at shape (1, 3, 384, 640)\n",
      "\n"
     ]
    },
    {
     "name": "stdout",
     "output_type": "stream",
     "text": [
      "in265220231119103239-3.jpg\n"
     ]
    },
    {
     "name": "stderr",
     "output_type": "stream",
     "text": [
      "image 1/1 /home/ishant/Desktop/KeypointModelTest/New_test_img_2/images/part160016850320663952748547.jpg: 480x640 1 car, 181.9ms\n",
      "Speed: 14.6ms preprocess, 181.9ms inference, 1.2ms postprocess per image at shape (1, 3, 480, 640)\n",
      "\n"
     ]
    },
    {
     "name": "stdout",
     "output_type": "stream",
     "text": [
      "part160016850320663952748547.jpg\n"
     ]
    },
    {
     "name": "stderr",
     "output_type": "stream",
     "text": [
      "image 1/1 /home/ishant/Desktop/KeypointModelTest/New_test_img_2/images/in826820231213123248-2.jpg: 384x640 1 car, 357.3ms\n",
      "Speed: 18.2ms preprocess, 357.3ms inference, 3.9ms postprocess per image at shape (1, 3, 384, 640)\n",
      "\n",
      "image 1/1 /home/ishant/Desktop/KeypointModelTest/New_test_img_2/images/in755420231116153659-7.jpg: 384x640 1 car, 99.6ms\n",
      "Speed: 3.1ms preprocess, 99.6ms inference, 0.9ms postprocess per image at shape (1, 3, 384, 640)\n",
      "\n"
     ]
    },
    {
     "name": "stdout",
     "output_type": "stream",
     "text": [
      "in826820231213123248-2.jpg\n",
      "in755420231116153659-7.jpg\n"
     ]
    },
    {
     "name": "stderr",
     "output_type": "stream",
     "text": [
      "image 1/1 /home/ishant/Desktop/KeypointModelTest/New_test_img_2/images/PART_1483040902570112.jpg: 512x640 1 car, 141.1ms\n",
      "Speed: 5.9ms preprocess, 141.1ms inference, 1.1ms postprocess per image at shape (1, 3, 512, 640)\n",
      "\n",
      "image 1/1 /home/ishant/Desktop/KeypointModelTest/New_test_img_2/images/part1600168748451614186364646.jpg: 480x640 1 car, 135.1ms\n",
      "Speed: 4.0ms preprocess, 135.1ms inference, 0.8ms postprocess per image at shape (1, 3, 480, 640)\n",
      "\n"
     ]
    },
    {
     "name": "stdout",
     "output_type": "stream",
     "text": [
      "PART_1483040902570112.jpg\n",
      "part1600168748451614186364646.jpg\n"
     ]
    },
    {
     "name": "stderr",
     "output_type": "stream",
     "text": [
      "image 1/1 /home/ishant/Desktop/KeypointModelTest/New_test_img_2/images/PART_4409875392172994.jpg: 480x640 1 car, 71.4ms\n",
      "Speed: 2.3ms preprocess, 71.4ms inference, 0.7ms postprocess per image at shape (1, 3, 480, 640)\n",
      "\n",
      "image 1/1 /home/ishant/Desktop/KeypointModelTest/New_test_img_2/images/PART_1481902021627340.jpg: 480x640 1 car, 67.9ms\n",
      "Speed: 2.1ms preprocess, 67.9ms inference, 0.8ms postprocess per image at shape (1, 3, 480, 640)\n",
      "\n"
     ]
    },
    {
     "name": "stdout",
     "output_type": "stream",
     "text": [
      "PART_4409875392172994.jpg\n",
      "PART_1481902021627340.jpg\n"
     ]
    },
    {
     "name": "stderr",
     "output_type": "stream",
     "text": [
      "image 1/1 /home/ishant/Desktop/KeypointModelTest/New_test_img_2/images/PART_3564205062841876.jpg: 480x640 1 car, 82.2ms\n",
      "Speed: 2.9ms preprocess, 82.2ms inference, 1.2ms postprocess per image at shape (1, 3, 480, 640)\n",
      "\n",
      "image 1/1 /home/ishant/Desktop/KeypointModelTest/New_test_img_2/images/PART_1480211880582672.jpg: 480x640 1 car, 52.4ms\n",
      "Speed: 2.4ms preprocess, 52.4ms inference, 0.7ms postprocess per image at shape (1, 3, 480, 640)\n",
      "\n",
      "image 1/1 /home/ishant/Desktop/KeypointModelTest/New_test_img_2/images/in243120231121121717-8.jpg: 384x640 1 car, 45.1ms\n",
      "Speed: 2.2ms preprocess, 45.1ms inference, 0.8ms postprocess per image at shape (1, 3, 384, 640)\n",
      "\n"
     ]
    },
    {
     "name": "stdout",
     "output_type": "stream",
     "text": [
      "PART_3564205062841876.jpg\n",
      "PART_1480211880582672.jpg\n",
      "in243120231121121717-8.jpg\n"
     ]
    },
    {
     "name": "stderr",
     "output_type": "stream",
     "text": [
      "image 1/1 /home/ishant/Desktop/KeypointModelTest/New_test_img_2/images/in292820231124100518-5.jpg: 384x640 1 car, 61.4ms\n",
      "Speed: 1.7ms preprocess, 61.4ms inference, 0.8ms postprocess per image at shape (1, 3, 384, 640)\n",
      "\n",
      "image 1/1 /home/ishant/Desktop/KeypointModelTest/New_test_img_2/images/in826820231213123248-6.jpg: 384x640 1 car, 61.0ms\n",
      "Speed: 1.7ms preprocess, 61.0ms inference, 0.8ms postprocess per image at shape (1, 3, 384, 640)\n",
      "\n",
      "image 1/1 /home/ishant/Desktop/KeypointModelTest/New_test_img_2/images/part160016854286321624513875.jpg: 480x640 1 car, 74.4ms\n",
      "Speed: 2.2ms preprocess, 74.4ms inference, 1.0ms postprocess per image at shape (1, 3, 480, 640)\n",
      "\n"
     ]
    },
    {
     "name": "stdout",
     "output_type": "stream",
     "text": [
      "in292820231124100518-5.jpg\n",
      "in826820231213123248-6.jpg\n",
      "part160016854286321624513875.jpg\n"
     ]
    },
    {
     "name": "stderr",
     "output_type": "stream",
     "text": [
      "image 1/1 /home/ishant/Desktop/KeypointModelTest/New_test_img_2/images/PART_1479059081086908.jpg: 480x640 1 car, 110.8ms\n",
      "Speed: 2.6ms preprocess, 110.8ms inference, 1.7ms postprocess per image at shape (1, 3, 480, 640)\n",
      "\n",
      "image 1/1 /home/ishant/Desktop/KeypointModelTest/New_test_img_2/images/part1600168366004084637756878.jpg: 480x640 1 car, 87.8ms\n",
      "Speed: 4.6ms preprocess, 87.8ms inference, 0.7ms postprocess per image at shape (1, 3, 480, 640)\n",
      "\n"
     ]
    },
    {
     "name": "stdout",
     "output_type": "stream",
     "text": [
      "PART_1479059081086908.jpg\n",
      "part1600168366004084637756878.jpg\n"
     ]
    },
    {
     "name": "stderr",
     "output_type": "stream",
     "text": [
      "image 1/1 /home/ishant/Desktop/KeypointModelTest/New_test_img_2/images/in755420231116153659-6.jpg: 384x640 1 car, 60.7ms\n",
      "Speed: 1.7ms preprocess, 60.7ms inference, 0.7ms postprocess per image at shape (1, 3, 384, 640)\n",
      "\n",
      "image 1/1 /home/ishant/Desktop/KeypointModelTest/New_test_img_2/images/in821820231219130304-6.jpg: 384x640 1 car, 103.4ms\n",
      "Speed: 3.7ms preprocess, 103.4ms inference, 1.8ms postprocess per image at shape (1, 3, 384, 640)\n",
      "\n"
     ]
    },
    {
     "name": "stdout",
     "output_type": "stream",
     "text": [
      "in755420231116153659-6.jpg\n",
      "in821820231219130304-6.jpg\n"
     ]
    },
    {
     "name": "stderr",
     "output_type": "stream",
     "text": [
      "image 1/1 /home/ishant/Desktop/KeypointModelTest/New_test_img_2/images/PART_1481593495821827.jpg: 480x640 1 car, 113.1ms\n",
      "Speed: 5.2ms preprocess, 113.1ms inference, 0.7ms postprocess per image at shape (1, 3, 480, 640)\n",
      "\n",
      "image 1/1 /home/ishant/Desktop/KeypointModelTest/New_test_img_2/images/in411620231220133737-5.jpg: 384x640 1 car, 111.5ms\n",
      "Speed: 2.3ms preprocess, 111.5ms inference, 1.4ms postprocess per image at shape (1, 3, 384, 640)\n",
      "\n"
     ]
    },
    {
     "name": "stdout",
     "output_type": "stream",
     "text": [
      "PART_1481593495821827.jpg\n",
      "in411620231220133737-5.jpg\n"
     ]
    },
    {
     "name": "stderr",
     "output_type": "stream",
     "text": [
      "image 1/1 /home/ishant/Desktop/KeypointModelTest/New_test_img_2/images/PART_1478329502958288.jpg: 480x640 1 car, 102.0ms\n",
      "Speed: 4.0ms preprocess, 102.0ms inference, 1.0ms postprocess per image at shape (1, 3, 480, 640)\n",
      "\n"
     ]
    },
    {
     "name": "stdout",
     "output_type": "stream",
     "text": [
      "PART_1478329502958288.jpg\n"
     ]
    },
    {
     "name": "stderr",
     "output_type": "stream",
     "text": [
      "image 1/1 /home/ishant/Desktop/KeypointModelTest/New_test_img_2/images/PART_3560027113760653.jpg: 480x640 1 car, 186.2ms\n",
      "Speed: 38.6ms preprocess, 186.2ms inference, 1.2ms postprocess per image at shape (1, 3, 480, 640)\n",
      "\n",
      "image 1/1 /home/ishant/Desktop/KeypointModelTest/New_test_img_2/images/in763620231121114511-7.jpg: 384x640 1 car, 57.9ms\n",
      "Speed: 1.8ms preprocess, 57.9ms inference, 1.7ms postprocess per image at shape (1, 3, 384, 640)\n",
      "\n",
      "image 1/1 /home/ishant/Desktop/KeypointModelTest/New_test_img_2/images/in826820231213123248-5.jpg: 384x640 1 car, 53.1ms\n",
      "Speed: 1.5ms preprocess, 53.1ms inference, 0.9ms postprocess per image at shape (1, 3, 384, 640)\n",
      "\n"
     ]
    },
    {
     "name": "stdout",
     "output_type": "stream",
     "text": [
      "PART_3560027113760653.jpg\n",
      "in763620231121114511-7.jpg\n",
      "in826820231213123248-5.jpg\n"
     ]
    },
    {
     "name": "stderr",
     "output_type": "stream",
     "text": [
      "image 1/1 /home/ishant/Desktop/KeypointModelTest/New_test_img_2/images/PART_1480293754514517.jpg: 480x640 1 car, 125.3ms\n",
      "Speed: 3.4ms preprocess, 125.3ms inference, 0.8ms postprocess per image at shape (1, 3, 480, 640)\n",
      "\n",
      "image 1/1 /home/ishant/Desktop/KeypointModelTest/New_test_img_2/images/in836320231214150909-6.jpg: 384x640 1 car, 62.9ms\n",
      "Speed: 1.9ms preprocess, 62.9ms inference, 1.0ms postprocess per image at shape (1, 3, 384, 640)\n",
      "\n"
     ]
    },
    {
     "name": "stdout",
     "output_type": "stream",
     "text": [
      "PART_1480293754514517.jpg\n",
      "in836320231214150909-6.jpg\n"
     ]
    },
    {
     "name": "stderr",
     "output_type": "stream",
     "text": [
      "image 1/1 /home/ishant/Desktop/KeypointModelTest/New_test_img_2/images/PART_1481446473131123.jpg: 480x640 1 car, 120.7ms\n",
      "Speed: 2.3ms preprocess, 120.7ms inference, 1.6ms postprocess per image at shape (1, 3, 480, 640)\n",
      "\n",
      "image 1/1 /home/ishant/Desktop/KeypointModelTest/New_test_img_2/images/in265220231119103239-2.jpg: 384x640 1 car, 100.6ms\n",
      "Speed: 6.7ms preprocess, 100.6ms inference, 2.2ms postprocess per image at shape (1, 3, 384, 640)\n",
      "\n"
     ]
    },
    {
     "name": "stdout",
     "output_type": "stream",
     "text": [
      "PART_1481446473131123.jpg\n",
      "in265220231119103239-2.jpg\n"
     ]
    },
    {
     "name": "stderr",
     "output_type": "stream",
     "text": [
      "image 1/1 /home/ishant/Desktop/KeypointModelTest/New_test_img_2/images/PART_1478141726362045.jpg: 480x640 1 car, 148.9ms\n",
      "Speed: 28.2ms preprocess, 148.9ms inference, 1.1ms postprocess per image at shape (1, 3, 480, 640)\n",
      "\n",
      "image 1/1 /home/ishant/Desktop/KeypointModelTest/New_test_img_2/images/in763620231121114511-6.jpg: 384x640 1 car, 57.5ms\n",
      "Speed: 1.8ms preprocess, 57.5ms inference, 0.8ms postprocess per image at shape (1, 3, 384, 640)\n",
      "\n",
      "image 1/1 /home/ishant/Desktop/KeypointModelTest/New_test_img_2/images/in535020231211135109-7.jpg: 384x640 1 car, 50.0ms\n",
      "Speed: 1.4ms preprocess, 50.0ms inference, 0.8ms postprocess per image at shape (1, 3, 384, 640)\n",
      "\n"
     ]
    },
    {
     "name": "stdout",
     "output_type": "stream",
     "text": [
      "PART_1478141726362045.jpg\n",
      "in763620231121114511-6.jpg\n",
      "in535020231211135109-7.jpg\n"
     ]
    },
    {
     "name": "stderr",
     "output_type": "stream",
     "text": [
      "image 1/1 /home/ishant/Desktop/KeypointModelTest/New_test_img_2/images/in411620231220133737-4.jpg: 384x640 1 car, 47.5ms\n",
      "Speed: 1.9ms preprocess, 47.5ms inference, 0.8ms postprocess per image at shape (1, 3, 384, 640)\n",
      "\n",
      "image 1/1 /home/ishant/Desktop/KeypointModelTest/New_test_img_2/images/part1600168372784216486895332.jpg: 448x640 1 car, 78.4ms\n",
      "Speed: 2.2ms preprocess, 78.4ms inference, 0.9ms postprocess per image at shape (1, 3, 448, 640)\n",
      "\n",
      "image 1/1 /home/ishant/Desktop/KeypointModelTest/New_test_img_2/images/in535020231211135109-3.jpg: 384x640 1 car, 62.6ms\n",
      "Speed: 2.2ms preprocess, 62.6ms inference, 0.8ms postprocess per image at shape (1, 3, 384, 640)\n"
     ]
    },
    {
     "name": "stdout",
     "output_type": "stream",
     "text": [
      "in411620231220133737-4.jpg\n",
      "part1600168372784216486895332.jpg\n"
     ]
    },
    {
     "name": "stderr",
     "output_type": "stream",
     "text": [
      "\n",
      "image 1/1 /home/ishant/Desktop/KeypointModelTest/New_test_img_2/images/PART_1477472546470809.jpg: 480x640 1 car, 76.4ms\n",
      "Speed: 3.6ms preprocess, 76.4ms inference, 0.8ms postprocess per image at shape (1, 3, 480, 640)\n",
      "\n"
     ]
    },
    {
     "name": "stdout",
     "output_type": "stream",
     "text": [
      "in535020231211135109-3.jpg\n",
      "PART_1477472546470809.jpg\n"
     ]
    },
    {
     "name": "stderr",
     "output_type": "stream",
     "text": [
      "image 1/1 /home/ishant/Desktop/KeypointModelTest/New_test_img_2/images/in243120231121121717-4.jpg: 384x640 1 car, 121.7ms\n",
      "Speed: 3.5ms preprocess, 121.7ms inference, 1.4ms postprocess per image at shape (1, 3, 384, 640)\n",
      "\n",
      "image 1/1 /home/ishant/Desktop/KeypointModelTest/New_test_img_2/images/PART_1483643331452636.jpg: 384x640 1 car, 108.4ms\n",
      "Speed: 2.9ms preprocess, 108.4ms inference, 1.2ms postprocess per image at shape (1, 3, 384, 640)\n",
      "\n"
     ]
    },
    {
     "name": "stdout",
     "output_type": "stream",
     "text": [
      "in243120231121121717-4.jpg\n",
      "PART_1483643331452636.jpg\n"
     ]
    },
    {
     "name": "stderr",
     "output_type": "stream",
     "text": [
      "image 1/1 /home/ishant/Desktop/KeypointModelTest/New_test_img_2/images/PART_1479515160134545.jpg: 480x640 1 car, 129.9ms\n",
      "Speed: 3.2ms preprocess, 129.9ms inference, 1.4ms postprocess per image at shape (1, 3, 480, 640)\n",
      "\n",
      "image 1/1 /home/ishant/Desktop/KeypointModelTest/New_test_img_2/images/PART_1482641886229208.jpg: 480x640 1 car, 83.4ms\n",
      "Speed: 3.0ms preprocess, 83.4ms inference, 1.2ms postprocess per image at shape (1, 3, 480, 640)\n",
      "\n"
     ]
    },
    {
     "name": "stdout",
     "output_type": "stream",
     "text": [
      "PART_1479515160134545.jpg\n",
      "PART_1482641886229208.jpg\n"
     ]
    },
    {
     "name": "stderr",
     "output_type": "stream",
     "text": [
      "image 1/1 /home/ishant/Desktop/KeypointModelTest/New_test_img_2/images/in779120231119152124-2.jpg: 384x640 2 cars, 133.2ms\n",
      "Speed: 2.5ms preprocess, 133.2ms inference, 1.2ms postprocess per image at shape (1, 3, 384, 640)\n",
      "\n",
      "image 1/1 /home/ishant/Desktop/KeypointModelTest/New_test_img_2/images/PART_1477786870210365.jpg: 480x640 1 car, 133.7ms\n",
      "Speed: 5.1ms preprocess, 133.7ms inference, 1.1ms postprocess per image at shape (1, 3, 480, 640)\n"
     ]
    },
    {
     "name": "stdout",
     "output_type": "stream",
     "text": [
      "in779120231119152124-2.jpg\n"
     ]
    },
    {
     "name": "stderr",
     "output_type": "stream",
     "text": [
      "\n",
      "image 1/1 /home/ishant/Desktop/KeypointModelTest/New_test_img_2/images/in214320231205082545-5.jpg: 384x640 1 car, 75.4ms\n",
      "Speed: 2.3ms preprocess, 75.4ms inference, 0.8ms postprocess per image at shape (1, 3, 384, 640)\n",
      "\n"
     ]
    },
    {
     "name": "stdout",
     "output_type": "stream",
     "text": [
      "PART_1477786870210365.jpg\n",
      "in214320231205082545-5.jpg\n"
     ]
    },
    {
     "name": "stderr",
     "output_type": "stream",
     "text": [
      "image 1/1 /home/ishant/Desktop/KeypointModelTest/New_test_img_2/images/PART_1481664768556479.jpg: 448x640 1 car, 84.3ms\n",
      "Speed: 2.7ms preprocess, 84.3ms inference, 1.2ms postprocess per image at shape (1, 3, 448, 640)\n",
      "\n",
      "image 1/1 /home/ishant/Desktop/KeypointModelTest/New_test_img_2/images/PART_1483441612726530.jpg: 320x640 1 car, 99.0ms\n",
      "Speed: 3.0ms preprocess, 99.0ms inference, 1.0ms postprocess per image at shape (1, 3, 320, 640)\n",
      "\n"
     ]
    },
    {
     "name": "stdout",
     "output_type": "stream",
     "text": [
      "PART_1481664768556479.jpg\n",
      "PART_1483441612726530.jpg\n"
     ]
    },
    {
     "name": "stderr",
     "output_type": "stream",
     "text": [
      "image 1/1 /home/ishant/Desktop/KeypointModelTest/New_test_img_2/images/in836320231214150909-3.jpg: 384x640 1 car, 96.3ms\n",
      "Speed: 3.1ms preprocess, 96.3ms inference, 1.0ms postprocess per image at shape (1, 3, 384, 640)\n",
      "\n",
      "image 1/1 /home/ishant/Desktop/KeypointModelTest/New_test_img_2/images/part1600169077456680518725884.jpg: 480x640 1 car, 84.6ms\n",
      "Speed: 3.0ms preprocess, 84.6ms inference, 1.3ms postprocess per image at shape (1, 3, 480, 640)\n",
      "\n"
     ]
    },
    {
     "name": "stdout",
     "output_type": "stream",
     "text": [
      "in836320231214150909-3.jpg\n",
      "part1600169077456680518725884.jpg\n"
     ]
    },
    {
     "name": "stderr",
     "output_type": "stream",
     "text": [
      "image 1/1 /home/ishant/Desktop/KeypointModelTest/New_test_img_2/images/PART_1483108249233619.jpg: 512x640 1 car, 60.1ms\n",
      "Speed: 3.1ms preprocess, 60.1ms inference, 0.8ms postprocess per image at shape (1, 3, 512, 640)\n",
      "\n",
      "image 1/1 /home/ishant/Desktop/KeypointModelTest/New_test_img_2/images/part1600169090973281685103148.jpg: 480x640 1 car, 61.3ms\n",
      "Speed: 2.6ms preprocess, 61.3ms inference, 0.9ms postprocess per image at shape (1, 3, 480, 640)\n",
      "\n",
      "image 1/1 /home/ishant/Desktop/KeypointModelTest/New_test_img_2/images/part1600169008038940490818014.jpg: 480x640 1 car, 61.6ms\n",
      "Speed: 2.5ms preprocess, 61.6ms inference, 0.7ms postprocess per image at shape (1, 3, 480, 640)\n"
     ]
    },
    {
     "name": "stdout",
     "output_type": "stream",
     "text": [
      "PART_1483108249233619.jpg\n",
      "part1600169090973281685103148.jpg\n",
      "part1600169008038940490818014.jpg\n"
     ]
    },
    {
     "name": "stderr",
     "output_type": "stream",
     "text": [
      "\n",
      "image 1/1 /home/ishant/Desktop/KeypointModelTest/New_test_img_2/images/rear_right_view-20230803123236.jpeg: 384x640 1 car, 48.0ms\n",
      "Speed: 1.6ms preprocess, 48.0ms inference, 0.7ms postprocess per image at shape (1, 3, 384, 640)\n",
      "\n",
      "image 1/1 /home/ishant/Desktop/KeypointModelTest/New_test_img_2/images/cover_image-20231008101255.jpg: 384x640 1 car, 43.7ms\n",
      "Speed: 1.9ms preprocess, 43.7ms inference, 0.7ms postprocess per image at shape (1, 3, 384, 640)\n",
      "\n",
      "image 1/1 /home/ishant/Desktop/KeypointModelTest/New_test_img_2/images/cover_image-20230808130147.jpeg: 384x640 1 car, 60.8ms\n",
      "Speed: 2.8ms preprocess, 60.8ms inference, 0.8ms postprocess per image at shape (1, 3, 384, 640)\n",
      "\n"
     ]
    },
    {
     "name": "stdout",
     "output_type": "stream",
     "text": [
      "rear_right_view-20230803123236.jpeg\n",
      "cover_image-20231008101255.jpg\n",
      "cover_image-20230808130147.jpeg\n"
     ]
    },
    {
     "name": "stderr",
     "output_type": "stream",
     "text": [
      "image 1/1 /home/ishant/Desktop/KeypointModelTest/New_test_img_2/images/cover_image-20230922181923.jpeg: 384x640 1 car, 82.2ms\n",
      "Speed: 6.5ms preprocess, 82.2ms inference, 1.1ms postprocess per image at shape (1, 3, 384, 640)\n",
      "\n",
      "image 1/1 /home/ishant/Desktop/KeypointModelTest/New_test_img_2/images/front_right_view-20231129110435.jpg: 384x640 1 car, 72.8ms\n",
      "Speed: 2.1ms preprocess, 72.8ms inference, 0.7ms postprocess per image at shape (1, 3, 384, 640)\n",
      "\n"
     ]
    },
    {
     "name": "stdout",
     "output_type": "stream",
     "text": [
      "cover_image-20230922181923.jpeg\n",
      "front_right_view-20231129110435.jpg\n"
     ]
    },
    {
     "name": "stderr",
     "output_type": "stream",
     "text": [
      "image 1/1 /home/ishant/Desktop/KeypointModelTest/New_test_img_2/images/rear_right_view-20230811143949.jpeg: 384x640 1 car, 108.4ms\n",
      "Speed: 3.4ms preprocess, 108.4ms inference, 1.0ms postprocess per image at shape (1, 3, 384, 640)\n",
      "\n",
      "image 1/1 /home/ishant/Desktop/KeypointModelTest/New_test_img_2/images/front_right_view-20231010184313.jpg: 384x640 1 car, 156.0ms\n"
     ]
    },
    {
     "name": "stdout",
     "output_type": "stream",
     "text": [
      "rear_right_view-20230811143949.jpeg\n"
     ]
    },
    {
     "name": "stderr",
     "output_type": "stream",
     "text": [
      "Speed: 13.8ms preprocess, 156.0ms inference, 1.7ms postprocess per image at shape (1, 3, 384, 640)\n",
      "\n",
      "image 1/1 /home/ishant/Desktop/KeypointModelTest/New_test_img_2/images/rear_left_view-20231214103426.jpg: 384x640 1 car, 113.8ms\n",
      "Speed: 4.4ms preprocess, 113.8ms inference, 1.3ms postprocess per image at shape (1, 3, 384, 640)\n",
      "\n"
     ]
    },
    {
     "name": "stdout",
     "output_type": "stream",
     "text": [
      "front_right_view-20231010184313.jpg\n",
      "rear_left_view-20231214103426.jpg\n"
     ]
    },
    {
     "name": "stderr",
     "output_type": "stream",
     "text": [
      "image 1/1 /home/ishant/Desktop/KeypointModelTest/New_test_img_2/images/rear_right_view-20230808130415.jpeg: 384x640 1 car, 144.7ms\n",
      "Speed: 3.8ms preprocess, 144.7ms inference, 1.2ms postprocess per image at shape (1, 3, 384, 640)\n",
      "\n",
      "image 1/1 /home/ishant/Desktop/KeypointModelTest/New_test_img_2/images/rear_right_view-20230611142129.jpg: 384x640 1 car, 126.4ms\n",
      "Speed: 4.5ms preprocess, 126.4ms inference, 1.3ms postprocess per image at shape (1, 3, 384, 640)\n",
      "\n"
     ]
    },
    {
     "name": "stdout",
     "output_type": "stream",
     "text": [
      "rear_right_view-20230808130415.jpeg\n",
      "rear_right_view-20230611142129.jpg\n"
     ]
    },
    {
     "name": "stderr",
     "output_type": "stream",
     "text": [
      "image 1/1 /home/ishant/Desktop/KeypointModelTest/New_test_img_2/images/rear_left_view-20230910101658.jpg: 384x640 1 car, 73.9ms\n",
      "Speed: 2.8ms preprocess, 73.9ms inference, 0.7ms postprocess per image at shape (1, 3, 384, 640)\n",
      "\n",
      "image 1/1 /home/ishant/Desktop/KeypointModelTest/New_test_img_2/images/cover_image-20231006135947.jpeg: 384x640 1 car, 62.1ms\n",
      "Speed: 1.8ms preprocess, 62.1ms inference, 0.7ms postprocess per image at shape (1, 3, 384, 640)\n",
      "\n",
      "image 1/1 /home/ishant/Desktop/KeypointModelTest/New_test_img_2/images/rear_left_view-20231016185751.jpg: 384x640 1 car, 51.4ms\n",
      "Speed: 1.5ms preprocess, 51.4ms inference, 1.0ms postprocess per image at shape (1, 3, 384, 640)\n",
      "\n"
     ]
    },
    {
     "name": "stdout",
     "output_type": "stream",
     "text": [
      "rear_left_view-20230910101658.jpg\n",
      "cover_image-20231006135947.jpeg\n",
      "rear_left_view-20231016185751.jpg\n"
     ]
    },
    {
     "name": "stderr",
     "output_type": "stream",
     "text": [
      "image 1/1 /home/ishant/Desktop/KeypointModelTest/New_test_img_2/images/front_right_view-20240103130714.jpg: 384x640 1 car, 48.3ms\n",
      "Speed: 1.5ms preprocess, 48.3ms inference, 0.7ms postprocess per image at shape (1, 3, 384, 640)\n",
      "\n",
      "image 1/1 /home/ishant/Desktop/KeypointModelTest/New_test_img_2/images/rear_right_view-20230929231239.jpg: 384x640 1 car, 63.6ms\n",
      "Speed: 2.3ms preprocess, 63.6ms inference, 0.7ms postprocess per image at shape (1, 3, 384, 640)\n",
      "\n",
      "image 1/1 /home/ishant/Desktop/KeypointModelTest/New_test_img_2/images/rear_right_view-20230522160751.jpg: 384x640 1 car, 54.0ms\n",
      "Speed: 1.8ms preprocess, 54.0ms inference, 0.8ms postprocess per image at shape (1, 3, 384, 640)\n",
      "\n"
     ]
    },
    {
     "name": "stdout",
     "output_type": "stream",
     "text": [
      "front_right_view-20240103130714.jpg\n",
      "rear_right_view-20230929231239.jpg\n",
      "rear_right_view-20230522160751.jpg\n"
     ]
    },
    {
     "name": "stderr",
     "output_type": "stream",
     "text": [
      "image 1/1 /home/ishant/Desktop/KeypointModelTest/New_test_img_2/images/left_side_view-20231010184240.jpg: 384x640 1 car, 66.8ms\n",
      "Speed: 2.6ms preprocess, 66.8ms inference, 0.8ms postprocess per image at shape (1, 3, 384, 640)\n",
      "\n",
      "image 1/1 /home/ishant/Desktop/KeypointModelTest/New_test_img_2/images/cover_image-20231005124746.jpeg: 384x640 1 car, 53.2ms\n",
      "Speed: 2.0ms preprocess, 53.2ms inference, 0.7ms postprocess per image at shape (1, 3, 384, 640)\n",
      "\n",
      "image 1/1 /home/ishant/Desktop/KeypointModelTest/New_test_img_2/images/rear_left_view-20230331174028.jpg: 384x640 1 car, 60.1ms\n",
      "Speed: 1.9ms preprocess, 60.1ms inference, 0.7ms postprocess per image at shape (1, 3, 384, 640)\n",
      "\n"
     ]
    },
    {
     "name": "stdout",
     "output_type": "stream",
     "text": [
      "left_side_view-20231010184240.jpg\n",
      "cover_image-20231005124746.jpeg\n",
      "rear_left_view-20230331174028.jpg\n"
     ]
    },
    {
     "name": "stderr",
     "output_type": "stream",
     "text": [
      "image 1/1 /home/ishant/Desktop/KeypointModelTest/New_test_img_2/images/right_side_view-20231121170009.jpg: 384x640 1 car, 59.9ms\n",
      "Speed: 1.9ms preprocess, 59.9ms inference, 0.7ms postprocess per image at shape (1, 3, 384, 640)\n",
      "\n",
      "image 1/1 /home/ishant/Desktop/KeypointModelTest/New_test_img_2/images/right_side_view-20230611142059.jpg: 384x640 1 car, 65.4ms\n",
      "Speed: 1.7ms preprocess, 65.4ms inference, 1.0ms postprocess per image at shape (1, 3, 384, 640)\n",
      "\n"
     ]
    },
    {
     "name": "stdout",
     "output_type": "stream",
     "text": [
      "right_side_view-20231121170009.jpg\n",
      "right_side_view-20230611142059.jpg\n"
     ]
    },
    {
     "name": "stderr",
     "output_type": "stream",
     "text": [
      "image 1/1 /home/ishant/Desktop/KeypointModelTest/New_test_img_2/images/left_side_view-20231129104249.jpg: 384x640 1 car, 77.9ms\n",
      "Speed: 29.9ms preprocess, 77.9ms inference, 0.9ms postprocess per image at shape (1, 3, 384, 640)\n",
      "\n",
      "image 1/1 /home/ishant/Desktop/KeypointModelTest/New_test_img_2/images/right_side_view-20230519173548.jpeg: 384x640 1 car, 50.6ms\n",
      "Speed: 2.2ms preprocess, 50.6ms inference, 0.7ms postprocess per image at shape (1, 3, 384, 640)\n",
      "\n",
      "image 1/1 /home/ishant/Desktop/KeypointModelTest/New_test_img_2/images/rear_left_view-20230215190012.jpeg: 384x640 1 car, 44.7ms\n",
      "Speed: 1.6ms preprocess, 44.7ms inference, 0.8ms postprocess per image at shape (1, 3, 384, 640)\n",
      "\n"
     ]
    },
    {
     "name": "stdout",
     "output_type": "stream",
     "text": [
      "left_side_view-20231129104249.jpg\n",
      "right_side_view-20230519173548.jpeg\n",
      "rear_left_view-20230215190012.jpeg\n"
     ]
    },
    {
     "name": "stderr",
     "output_type": "stream",
     "text": [
      "image 1/1 /home/ishant/Desktop/KeypointModelTest/New_test_img_2/images/rear_left_view-20221104130948.jpeg: 384x640 1 car, 59.4ms\n",
      "Speed: 1.5ms preprocess, 59.4ms inference, 0.9ms postprocess per image at shape (1, 3, 384, 640)\n",
      "\n",
      "image 1/1 /home/ishant/Desktop/KeypointModelTest/New_test_img_2/images/cover_image-20231219133353.jpeg: 384x640 1 car, 59.0ms\n",
      "Speed: 2.1ms preprocess, 59.0ms inference, 0.8ms postprocess per image at shape (1, 3, 384, 640)\n",
      "\n",
      "image 1/1 /home/ishant/Desktop/KeypointModelTest/New_test_img_2/images/left_side_view-20231229091312.jpg: 384x640 1 car, 68.9ms\n",
      "Speed: 1.8ms preprocess, 68.9ms inference, 0.8ms postprocess per image at shape (1, 3, 384, 640)\n"
     ]
    },
    {
     "name": "stdout",
     "output_type": "stream",
     "text": [
      "rear_left_view-20221104130948.jpeg\n",
      "cover_image-20231219133353.jpeg\n",
      "left_side_view-20231229091312.jpg\n"
     ]
    },
    {
     "name": "stderr",
     "output_type": "stream",
     "text": [
      "\n",
      "image 1/1 /home/ishant/Desktop/KeypointModelTest/New_test_img_2/images/left_side_view-20231129110404.jpg: 384x640 1 car, 64.3ms\n",
      "Speed: 2.3ms preprocess, 64.3ms inference, 0.8ms postprocess per image at shape (1, 3, 384, 640)\n",
      "\n",
      "image 1/1 /home/ishant/Desktop/KeypointModelTest/New_test_img_2/images/rear_right_view-20230526143323.jpeg: 384x640 1 car, 70.0ms\n",
      "Speed: 1.8ms preprocess, 70.0ms inference, 0.9ms postprocess per image at shape (1, 3, 384, 640)\n",
      "\n",
      "image 1/1 /home/ishant/Desktop/KeypointModelTest/New_test_img_2/images/rear_left_view-20240109213150.jpg: 384x640 1 car, 67.4ms\n",
      "Speed: 1.9ms preprocess, 67.4ms inference, 1.0ms postprocess per image at shape (1, 3, 384, 640)\n"
     ]
    },
    {
     "name": "stdout",
     "output_type": "stream",
     "text": [
      "left_side_view-20231129110404.jpg\n",
      "rear_right_view-20230526143323.jpeg\n"
     ]
    },
    {
     "name": "stderr",
     "output_type": "stream",
     "text": [
      "\n",
      "image 1/1 /home/ishant/Desktop/KeypointModelTest/New_test_img_2/images/rear_left_view-20231229091423.jpg: 384x640 1 car, 69.9ms\n",
      "Speed: 2.1ms preprocess, 69.9ms inference, 1.2ms postprocess per image at shape (1, 3, 384, 640)\n",
      "\n",
      "image 1/1 /home/ishant/Desktop/KeypointModelTest/New_test_img_2/images/rear_right_view-20230623143227.jpg: 384x640 1 car, 68.2ms\n",
      "Speed: 1.9ms preprocess, 68.2ms inference, 0.8ms postprocess per image at shape (1, 3, 384, 640)\n"
     ]
    },
    {
     "name": "stdout",
     "output_type": "stream",
     "text": [
      "rear_left_view-20240109213150.jpg\n",
      "rear_left_view-20231229091423.jpg\n"
     ]
    },
    {
     "name": "stderr",
     "output_type": "stream",
     "text": [
      "\n",
      "image 1/1 /home/ishant/Desktop/KeypointModelTest/New_test_img_2/images/left_side_view-20230903153432.jpg: 384x640 1 car, 78.7ms\n",
      "Speed: 1.7ms preprocess, 78.7ms inference, 1.3ms postprocess per image at shape (1, 3, 384, 640)\n",
      "\n"
     ]
    },
    {
     "name": "stdout",
     "output_type": "stream",
     "text": [
      "rear_right_view-20230623143227.jpg\n",
      "left_side_view-20230903153432.jpg\n"
     ]
    },
    {
     "name": "stderr",
     "output_type": "stream",
     "text": [
      "image 1/1 /home/ishant/Desktop/KeypointModelTest/New_test_img_2/images/rear_left_view-20230922182127.jpeg: 384x640 1 car, 76.5ms\n",
      "Speed: 2.8ms preprocess, 76.5ms inference, 0.7ms postprocess per image at shape (1, 3, 384, 640)\n",
      "\n",
      "image 1/1 /home/ishant/Desktop/KeypointModelTest/New_test_img_2/images/rear_right_view-20231016185803.jpg: 384x640 1 car, 77.6ms\n",
      "Speed: 2.2ms preprocess, 77.6ms inference, 0.9ms postprocess per image at shape (1, 3, 384, 640)\n",
      "\n"
     ]
    },
    {
     "name": "stdout",
     "output_type": "stream",
     "text": [
      "rear_left_view-20230922182127.jpeg\n",
      "rear_right_view-20231016185803.jpg\n"
     ]
    },
    {
     "name": "stderr",
     "output_type": "stream",
     "text": [
      "image 1/1 /home/ishant/Desktop/KeypointModelTest/New_test_img_2/images/right_side_view-20231008101347.jpg: 384x640 1 car, 71.7ms\n",
      "Speed: 1.6ms preprocess, 71.7ms inference, 0.9ms postprocess per image at shape (1, 3, 384, 640)\n",
      "\n",
      "image 1/1 /home/ishant/Desktop/KeypointModelTest/New_test_img_2/images/right_side_view-20230929231204.jpg: 384x640 1 car, 49.7ms\n",
      "Speed: 2.0ms preprocess, 49.7ms inference, 0.7ms postprocess per image at shape (1, 3, 384, 640)\n",
      "\n",
      "image 1/1 /home/ishant/Desktop/KeypointModelTest/New_test_img_2/images/rear_right_view-20221221130716.jpg: 384x640 1 car, 52.7ms\n",
      "Speed: 1.9ms preprocess, 52.7ms inference, 1.0ms postprocess per image at shape (1, 3, 384, 640)\n",
      "\n"
     ]
    },
    {
     "name": "stdout",
     "output_type": "stream",
     "text": [
      "right_side_view-20231008101347.jpg\n",
      "right_side_view-20230929231204.jpg\n",
      "rear_right_view-20221221130716.jpg\n"
     ]
    },
    {
     "name": "stderr",
     "output_type": "stream",
     "text": [
      "image 1/1 /home/ishant/Desktop/KeypointModelTest/New_test_img_2/images/right_side_view-20230307161432.jpg: 384x640 1 car, 67.8ms\n",
      "Speed: 2.1ms preprocess, 67.8ms inference, 1.1ms postprocess per image at shape (1, 3, 384, 640)\n",
      "\n",
      "image 1/1 /home/ishant/Desktop/KeypointModelTest/New_test_img_2/images/rear_left_view-20230611142123.jpg: 384x640 1 car, 64.7ms\n",
      "Speed: 1.7ms preprocess, 64.7ms inference, 0.8ms postprocess per image at shape (1, 3, 384, 640)\n",
      "\n",
      "image 1/1 /home/ishant/Desktop/KeypointModelTest/New_test_img_2/images/right_side_view-20230111141846.jpeg: 384x640 1 car, 65.9ms\n",
      "Speed: 1.9ms preprocess, 65.9ms inference, 0.9ms postprocess per image at shape (1, 3, 384, 640)\n"
     ]
    },
    {
     "name": "stdout",
     "output_type": "stream",
     "text": [
      "right_side_view-20230307161432.jpg\n",
      "rear_left_view-20230611142123.jpg\n"
     ]
    },
    {
     "name": "stderr",
     "output_type": "stream",
     "text": [
      "\n",
      "image 1/1 /home/ishant/Desktop/KeypointModelTest/New_test_img_2/images/front_right_view-20230215190023.jpeg: 384x640 1 car, 90.3ms\n",
      "Speed: 3.7ms preprocess, 90.3ms inference, 0.9ms postprocess per image at shape (1, 3, 384, 640)\n",
      "\n"
     ]
    },
    {
     "name": "stdout",
     "output_type": "stream",
     "text": [
      "right_side_view-20230111141846.jpeg\n",
      "front_right_view-20230215190023.jpeg\n"
     ]
    },
    {
     "name": "stderr",
     "output_type": "stream",
     "text": [
      "image 1/1 /home/ishant/Desktop/KeypointModelTest/New_test_img_2/images/left_side_view-20240111121000.jpg: 384x640 1 car, 75.8ms\n",
      "Speed: 2.0ms preprocess, 75.8ms inference, 1.0ms postprocess per image at shape (1, 3, 384, 640)\n",
      "\n",
      "image 1/1 /home/ishant/Desktop/KeypointModelTest/New_test_img_2/images/rear_right_view-20231129104342.jpg: 384x640 1 car, 58.1ms\n",
      "Speed: 1.7ms preprocess, 58.1ms inference, 0.9ms postprocess per image at shape (1, 3, 384, 640)\n",
      "\n",
      "image 1/1 /home/ishant/Desktop/KeypointModelTest/New_test_img_2/images/cover_image-20230331173829.jpg: 384x640 1 car, 67.6ms\n",
      "Speed: 1.5ms preprocess, 67.6ms inference, 0.9ms postprocess per image at shape (1, 3, 384, 640)\n",
      "\n"
     ]
    },
    {
     "name": "stdout",
     "output_type": "stream",
     "text": [
      "left_side_view-20240111121000.jpg\n",
      "rear_right_view-20231129104342.jpg\n",
      "cover_image-20230331173829.jpg\n"
     ]
    },
    {
     "name": "stderr",
     "output_type": "stream",
     "text": [
      "image 1/1 /home/ishant/Desktop/KeypointModelTest/New_test_img_2/images/wheels_tyres-20230808130429.jpeg: 384x640 1 car, 69.8ms\n",
      "Speed: 1.9ms preprocess, 69.8ms inference, 1.1ms postprocess per image at shape (1, 3, 384, 640)\n",
      "\n",
      "image 1/1 /home/ishant/Desktop/KeypointModelTest/New_test_img_2/images/front_right_view-20230808130406.jpeg: 384x640 1 car, 42.5ms\n",
      "Speed: 1.4ms preprocess, 42.5ms inference, 0.7ms postprocess per image at shape (1, 3, 384, 640)\n",
      "\n",
      "image 1/1 /home/ishant/Desktop/KeypointModelTest/New_test_img_2/images/cover_image-20240109213019.jpg: 384x640 1 car, 60.0ms\n",
      "Speed: 1.9ms preprocess, 60.0ms inference, 0.9ms postprocess per image at shape (1, 3, 384, 640)\n",
      "\n"
     ]
    },
    {
     "name": "stdout",
     "output_type": "stream",
     "text": [
      "wheels_tyres-20230808130429.jpeg\n",
      "front_right_view-20230808130406.jpeg\n",
      "cover_image-20240109213019.jpg\n"
     ]
    },
    {
     "name": "stderr",
     "output_type": "stream",
     "text": [
      "image 1/1 /home/ishant/Desktop/KeypointModelTest/New_test_img_2/images/right_side_view-20230623143216.jpg: 384x640 1 car, 59.5ms\n",
      "Speed: 1.8ms preprocess, 59.5ms inference, 1.0ms postprocess per image at shape (1, 3, 384, 640)\n",
      "\n",
      "image 1/1 /home/ishant/Desktop/KeypointModelTest/New_test_img_2/images/cover_image-20240103130638.jpg: 384x640 1 car, 45.1ms\n",
      "Speed: 1.9ms preprocess, 45.1ms inference, 0.7ms postprocess per image at shape (1, 3, 384, 640)\n",
      "\n",
      "image 1/1 /home/ishant/Desktop/KeypointModelTest/New_test_img_2/images/rear_left_view-20230111141859.jpeg: 384x640 1 car, 53.7ms\n",
      "Speed: 1.5ms preprocess, 53.7ms inference, 0.7ms postprocess per image at shape (1, 3, 384, 640)\n",
      "\n"
     ]
    },
    {
     "name": "stdout",
     "output_type": "stream",
     "text": [
      "right_side_view-20230623143216.jpg\n",
      "cover_image-20240103130638.jpg\n",
      "rear_left_view-20230111141859.jpeg\n"
     ]
    },
    {
     "name": "stderr",
     "output_type": "stream",
     "text": [
      "image 1/1 /home/ishant/Desktop/KeypointModelTest/New_test_img_2/images/right_side_view-20231129104301.jpg: 384x640 1 car, 72.7ms\n",
      "Speed: 1.7ms preprocess, 72.7ms inference, 0.8ms postprocess per image at shape (1, 3, 384, 640)\n",
      "\n",
      "image 1/1 /home/ishant/Desktop/KeypointModelTest/New_test_img_2/images/right_side_view-20240103130705.jpg: 384x640 1 car, 51.9ms\n",
      "Speed: 1.7ms preprocess, 51.9ms inference, 0.7ms postprocess per image at shape (1, 3, 384, 640)\n",
      "\n",
      "image 1/1 /home/ishant/Desktop/KeypointModelTest/New_test_img_2/images/cover_image-20231010184204.jpg: 384x640 1 car, 42.4ms\n",
      "Speed: 2.3ms preprocess, 42.4ms inference, 0.7ms postprocess per image at shape (1, 3, 384, 640)\n",
      "\n"
     ]
    },
    {
     "name": "stdout",
     "output_type": "stream",
     "text": [
      "right_side_view-20231129104301.jpg\n",
      "right_side_view-20240103130705.jpg\n",
      "cover_image-20231010184204.jpg\n"
     ]
    },
    {
     "name": "stderr",
     "output_type": "stream",
     "text": [
      "image 1/1 /home/ishant/Desktop/KeypointModelTest/New_test_img_2/images/cover_image-20220502122645.jpg: 384x640 1 car, 61.1ms\n",
      "Speed: 1.7ms preprocess, 61.1ms inference, 0.6ms postprocess per image at shape (1, 3, 384, 640)\n",
      "\n",
      "image 1/1 /home/ishant/Desktop/KeypointModelTest/New_test_img_2/images/rear_left_view-20231129110445.jpg: 384x640 1 car, 48.4ms\n",
      "Speed: 1.7ms preprocess, 48.4ms inference, 0.8ms postprocess per image at shape (1, 3, 384, 640)\n",
      "\n",
      "image 1/1 /home/ishant/Desktop/KeypointModelTest/New_test_img_2/images/rear_left_view-20231129104327.jpg: 384x640 1 car, 44.8ms\n",
      "Speed: 1.5ms preprocess, 44.8ms inference, 0.8ms postprocess per image at shape (1, 3, 384, 640)\n",
      "\n"
     ]
    },
    {
     "name": "stdout",
     "output_type": "stream",
     "text": [
      "cover_image-20220502122645.jpg\n",
      "rear_left_view-20231129110445.jpg\n",
      "rear_left_view-20231129104327.jpg\n"
     ]
    },
    {
     "name": "stderr",
     "output_type": "stream",
     "text": [
      "image 1/1 /home/ishant/Desktop/KeypointModelTest/New_test_img_2/images/front_right_view-20230331173917.jpg: 384x640 1 car, 102.7ms\n",
      "Speed: 3.9ms preprocess, 102.7ms inference, 0.8ms postprocess per image at shape (1, 3, 384, 640)\n",
      "\n",
      "image 1/1 /home/ishant/Desktop/KeypointModelTest/New_test_img_2/images/rear_left_view-20231008101403.jpg: 384x640 1 car, 61.2ms\n",
      "Speed: 1.8ms preprocess, 61.2ms inference, 0.8ms postprocess per image at shape (1, 3, 384, 640)\n",
      "\n",
      "image 1/1 /home/ishant/Desktop/KeypointModelTest/New_test_img_2/images/rear_left_view-20230811143930.jpeg: 384x640 1 car, 47.5ms\n",
      "Speed: 1.5ms preprocess, 47.5ms inference, 0.7ms postprocess per image at shape (1, 3, 384, 640)\n",
      "\n"
     ]
    },
    {
     "name": "stdout",
     "output_type": "stream",
     "text": [
      "front_right_view-20230331173917.jpg\n",
      "rear_left_view-20231008101403.jpg\n",
      "rear_left_view-20230811143930.jpeg\n"
     ]
    },
    {
     "name": "stderr",
     "output_type": "stream",
     "text": [
      "image 1/1 /home/ishant/Desktop/KeypointModelTest/New_test_img_2/images/left_side_view-20230522160726.jpg: 384x640 1 car, 47.9ms\n",
      "Speed: 1.6ms preprocess, 47.9ms inference, 0.8ms postprocess per image at shape (1, 3, 384, 640)\n",
      "\n",
      "image 1/1 /home/ishant/Desktop/KeypointModelTest/New_test_img_2/images/right_side_view-20221224131311.jpeg: 384x640 1 car, 59.4ms\n",
      "Speed: 1.6ms preprocess, 59.4ms inference, 0.9ms postprocess per image at shape (1, 3, 384, 640)\n",
      "\n",
      "image 1/1 /home/ishant/Desktop/KeypointModelTest/New_test_img_2/images/rear_left_view-20230519173630.jpeg: 384x640 1 car, 63.4ms\n",
      "Speed: 1.7ms preprocess, 63.4ms inference, 0.9ms postprocess per image at shape (1, 3, 384, 640)\n",
      "\n"
     ]
    },
    {
     "name": "stdout",
     "output_type": "stream",
     "text": [
      "left_side_view-20230522160726.jpg\n",
      "right_side_view-20221224131311.jpeg\n",
      "rear_left_view-20230519173630.jpeg\n"
     ]
    },
    {
     "name": "stderr",
     "output_type": "stream",
     "text": [
      "image 1/1 /home/ishant/Desktop/KeypointModelTest/New_test_img_2/images/right_side_view-20230922182114.jpeg: 384x640 1 car, 45.4ms\n",
      "Speed: 1.7ms preprocess, 45.4ms inference, 0.8ms postprocess per image at shape (1, 3, 384, 640)\n",
      "\n",
      "image 1/1 /home/ishant/Desktop/KeypointModelTest/New_test_img_2/images/rear_left_view-20230522160746.jpg: 384x640 1 car, 43.8ms\n",
      "Speed: 1.4ms preprocess, 43.8ms inference, 0.7ms postprocess per image at shape (1, 3, 384, 640)\n",
      "\n",
      "image 1/1 /home/ishant/Desktop/KeypointModelTest/New_test_img_2/images/rear_left_view-20230531180130.jpg: 384x640 1 car, 46.2ms\n",
      "Speed: 1.5ms preprocess, 46.2ms inference, 0.8ms postprocess per image at shape (1, 3, 384, 640)\n",
      "\n"
     ]
    },
    {
     "name": "stdout",
     "output_type": "stream",
     "text": [
      "right_side_view-20230922182114.jpeg\n",
      "rear_left_view-20230522160746.jpg\n",
      "rear_left_view-20230531180130.jpg\n"
     ]
    },
    {
     "name": "stderr",
     "output_type": "stream",
     "text": [
      "image 1/1 /home/ishant/Desktop/KeypointModelTest/New_test_img_2/images/left_side_view-20230803123121.jpeg: 384x640 1 car, 43.5ms\n",
      "Speed: 2.0ms preprocess, 43.5ms inference, 0.7ms postprocess per image at shape (1, 3, 384, 640)\n",
      "\n",
      "image 1/1 /home/ishant/Desktop/KeypointModelTest/New_test_img_2/images/rear_left_view-20230331155119.jpeg: 384x640 2 cars, 60.0ms\n",
      "Speed: 1.9ms preprocess, 60.0ms inference, 0.7ms postprocess per image at shape (1, 3, 384, 640)\n",
      "\n",
      "image 1/1 /home/ishant/Desktop/KeypointModelTest/New_test_img_2/images/cover_image-20210922134927.jpg: 384x640 1 car, 51.7ms\n",
      "Speed: 1.7ms preprocess, 51.7ms inference, 1.5ms postprocess per image at shape (1, 3, 384, 640)\n",
      "\n"
     ]
    },
    {
     "name": "stdout",
     "output_type": "stream",
     "text": [
      "left_side_view-20230803123121.jpeg\n",
      "rear_left_view-20230331155119.jpeg\n",
      "cover_image-20210922134927.jpg\n"
     ]
    },
    {
     "name": "stderr",
     "output_type": "stream",
     "text": [
      "image 1/1 /home/ishant/Desktop/KeypointModelTest/New_test_img_2/images/left_side_view-20231008101326.jpg: 384x640 1 car, 63.1ms\n",
      "Speed: 1.7ms preprocess, 63.1ms inference, 0.7ms postprocess per image at shape (1, 3, 384, 640)\n",
      "\n",
      "image 1/1 /home/ishant/Desktop/KeypointModelTest/New_test_img_2/images/front_right_view-20231229091358.jpg: 384x640 1 car, 49.3ms\n",
      "Speed: 1.4ms preprocess, 49.3ms inference, 0.8ms postprocess per image at shape (1, 3, 384, 640)\n",
      "\n",
      "image 1/1 /home/ishant/Desktop/KeypointModelTest/New_test_img_2/images/left_side_view-20230531180105.jpg: 384x640 1 car, 45.1ms\n",
      "Speed: 1.6ms preprocess, 45.1ms inference, 0.7ms postprocess per image at shape (1, 3, 384, 640)\n",
      "\n"
     ]
    },
    {
     "name": "stdout",
     "output_type": "stream",
     "text": [
      "left_side_view-20231008101326.jpg\n",
      "front_right_view-20231229091358.jpg\n",
      "left_side_view-20230531180105.jpg\n"
     ]
    },
    {
     "name": "stderr",
     "output_type": "stream",
     "text": [
      "image 1/1 /home/ishant/Desktop/KeypointModelTest/New_test_img_2/images/left_side_view-20230307161424.jpg: 384x640 1 car, 52.7ms\n",
      "Speed: 1.5ms preprocess, 52.7ms inference, 0.7ms postprocess per image at shape (1, 3, 384, 640)\n",
      "\n",
      "image 1/1 /home/ishant/Desktop/KeypointModelTest/New_test_img_2/images/rear_left_view-20231219133604.jpeg: 384x640 1 car, 65.4ms\n",
      "Speed: 15.9ms preprocess, 65.4ms inference, 0.7ms postprocess per image at shape (1, 3, 384, 640)\n",
      "\n",
      "image 1/1 /home/ishant/Desktop/KeypointModelTest/New_test_img_2/images/front_right_view-20230331155111.jpeg: 384x640 1 car, 49.4ms\n",
      "Speed: 1.6ms preprocess, 49.4ms inference, 0.9ms postprocess per image at shape (1, 3, 384, 640)\n",
      "\n"
     ]
    },
    {
     "name": "stdout",
     "output_type": "stream",
     "text": [
      "left_side_view-20230307161424.jpg\n",
      "rear_left_view-20231219133604.jpeg\n",
      "front_right_view-20230331155111.jpeg\n"
     ]
    },
    {
     "name": "stderr",
     "output_type": "stream",
     "text": [
      "image 1/1 /home/ishant/Desktop/KeypointModelTest/New_test_img_2/images/front_right_view-20230522160738.jpg: 384x640 1 car, 46.8ms\n",
      "Speed: 1.6ms preprocess, 46.8ms inference, 0.7ms postprocess per image at shape (1, 3, 384, 640)\n",
      "\n",
      "image 1/1 /home/ishant/Desktop/KeypointModelTest/New_test_img_2/images/front_right_view-20231129104316.jpg: 384x640 1 car, 60.4ms\n",
      "Speed: 1.5ms preprocess, 60.4ms inference, 0.9ms postprocess per image at shape (1, 3, 384, 640)\n",
      "\n",
      "image 1/1 /home/ishant/Desktop/KeypointModelTest/New_test_img_2/images/right_side_view-20231214103357.jpg: 384x640 1 car, 43.7ms\n",
      "Speed: 1.4ms preprocess, 43.7ms inference, 0.7ms postprocess per image at shape (1, 3, 384, 640)\n",
      "\n"
     ]
    },
    {
     "name": "stdout",
     "output_type": "stream",
     "text": [
      "front_right_view-20230522160738.jpg\n",
      "front_right_view-20231129104316.jpg\n",
      "right_side_view-20231214103357.jpg\n"
     ]
    },
    {
     "name": "stderr",
     "output_type": "stream",
     "text": [
      "image 1/1 /home/ishant/Desktop/KeypointModelTest/New_test_img_2/images/rear_right_view-20230307161515.jpg: 384x640 1 car, 63.1ms\n",
      "Speed: 1.9ms preprocess, 63.1ms inference, 1.0ms postprocess per image at shape (1, 3, 384, 640)\n",
      "\n",
      "image 1/1 /home/ishant/Desktop/KeypointModelTest/New_test_img_2/images/rear_right_view-20231121170053.jpg: 384x640 1 car, 45.5ms\n",
      "Speed: 1.6ms preprocess, 45.5ms inference, 0.9ms postprocess per image at shape (1, 3, 384, 640)\n",
      "\n",
      "image 1/1 /home/ishant/Desktop/KeypointModelTest/New_test_img_2/images/rear_left_view-20230803123208.jpeg: 384x640 1 car, 55.0ms\n",
      "Speed: 1.5ms preprocess, 55.0ms inference, 0.9ms postprocess per image at shape (1, 3, 384, 640)\n",
      "\n"
     ]
    },
    {
     "name": "stdout",
     "output_type": "stream",
     "text": [
      "rear_right_view-20230307161515.jpg\n",
      "rear_right_view-20231121170053.jpg\n",
      "rear_left_view-20230803123208.jpeg\n"
     ]
    },
    {
     "name": "stderr",
     "output_type": "stream",
     "text": [
      "image 1/1 /home/ishant/Desktop/KeypointModelTest/New_test_img_2/images/rear_right_view-20220502122742.jpg: 384x640 1 car, 50.9ms\n",
      "Speed: 1.5ms preprocess, 50.9ms inference, 0.8ms postprocess per image at shape (1, 3, 384, 640)\n",
      "\n",
      "image 1/1 /home/ishant/Desktop/KeypointModelTest/New_test_img_2/images/left_side_view-20240103130659.jpg: 384x640 1 car, 58.2ms\n",
      "Speed: 1.9ms preprocess, 58.2ms inference, 0.9ms postprocess per image at shape (1, 3, 384, 640)\n",
      "\n",
      "image 1/1 /home/ishant/Desktop/KeypointModelTest/New_test_img_2/images/left_side_view-20221104130944.jpeg: 384x640 1 car, 44.8ms\n",
      "Speed: 1.5ms preprocess, 44.8ms inference, 0.7ms postprocess per image at shape (1, 3, 384, 640)\n",
      "\n"
     ]
    },
    {
     "name": "stdout",
     "output_type": "stream",
     "text": [
      "rear_right_view-20220502122742.jpg\n",
      "left_side_view-20240103130659.jpg\n",
      "left_side_view-20221104130944.jpeg\n"
     ]
    },
    {
     "name": "stderr",
     "output_type": "stream",
     "text": [
      "image 1/1 /home/ishant/Desktop/KeypointModelTest/New_test_img_2/images/front_right_view-20231219133614.jpeg: 384x640 1 car, 62.5ms\n",
      "Speed: 1.6ms preprocess, 62.5ms inference, 0.9ms postprocess per image at shape (1, 3, 384, 640)\n",
      "\n",
      "image 1/1 /home/ishant/Desktop/KeypointModelTest/New_test_img_2/images/rear_right_view-20240103130737.jpg: 384x640 1 car, 52.2ms\n",
      "Speed: 1.6ms preprocess, 52.2ms inference, 0.6ms postprocess per image at shape (1, 3, 384, 640)\n",
      "\n",
      "image 1/1 /home/ishant/Desktop/KeypointModelTest/New_test_img_2/images/left_side_view-20230215185956.jpeg: 384x640 1 car, 50.1ms\n",
      "Speed: 1.5ms preprocess, 50.1ms inference, 0.7ms postprocess per image at shape (1, 3, 384, 640)\n",
      "\n"
     ]
    },
    {
     "name": "stdout",
     "output_type": "stream",
     "text": [
      "front_right_view-20231219133614.jpeg\n",
      "rear_right_view-20240103130737.jpg\n",
      "left_side_view-20230215185956.jpeg\n"
     ]
    },
    {
     "name": "stderr",
     "output_type": "stream",
     "text": [
      "image 1/1 /home/ishant/Desktop/KeypointModelTest/New_test_img_2/images/cover_image-20221104130902.jpeg: 384x640 1 car, 51.8ms\n",
      "Speed: 2.0ms preprocess, 51.8ms inference, 0.7ms postprocess per image at shape (1, 3, 384, 640)\n",
      "\n",
      "image 1/1 /home/ishant/Desktop/KeypointModelTest/New_test_img_2/images/rear_left_view-20221221130641.jpg: 384x640 1 car, 59.5ms\n",
      "Speed: 2.2ms preprocess, 59.5ms inference, 0.8ms postprocess per image at shape (1, 3, 384, 640)\n",
      "\n",
      "image 1/1 /home/ishant/Desktop/KeypointModelTest/New_test_img_2/images/cover_image-20231214103315.jpg: 384x640 1 car, 58.2ms\n",
      "Speed: 1.7ms preprocess, 58.2ms inference, 0.7ms postprocess per image at shape (1, 3, 384, 640)\n",
      "\n"
     ]
    },
    {
     "name": "stdout",
     "output_type": "stream",
     "text": [
      "cover_image-20221104130902.jpeg\n",
      "rear_left_view-20221221130641.jpg\n",
      "cover_image-20231214103315.jpg\n"
     ]
    },
    {
     "name": "stderr",
     "output_type": "stream",
     "text": [
      "image 1/1 /home/ishant/Desktop/KeypointModelTest/New_test_img_2/images/cover_image-20230526143234.jpeg: 384x640 1 car, 55.5ms\n",
      "Speed: 1.7ms preprocess, 55.5ms inference, 1.2ms postprocess per image at shape (1, 3, 384, 640)\n",
      "\n",
      "image 1/1 /home/ishant/Desktop/KeypointModelTest/New_test_img_2/images/right_side_view-20230803123157.jpeg: 384x640 1 car, 62.7ms\n",
      "Speed: 2.4ms preprocess, 62.7ms inference, 0.7ms postprocess per image at shape (1, 3, 384, 640)\n",
      "\n",
      "image 1/1 /home/ishant/Desktop/KeypointModelTest/New_test_img_2/images/front_right_view-20230910101650.jpg: 384x640 1 car, 47.4ms\n",
      "Speed: 1.7ms preprocess, 47.4ms inference, 0.8ms postprocess per image at shape (1, 3, 384, 640)\n",
      "\n"
     ]
    },
    {
     "name": "stdout",
     "output_type": "stream",
     "text": [
      "cover_image-20230526143234.jpeg\n",
      "right_side_view-20230803123157.jpeg\n",
      "front_right_view-20230910101650.jpg\n"
     ]
    },
    {
     "name": "stderr",
     "output_type": "stream",
     "text": [
      "image 1/1 /home/ishant/Desktop/KeypointModelTest/New_test_img_2/images/front_right_view-20230611142105.jpg: 384x640 1 car, 56.6ms\n",
      "Speed: 1.9ms preprocess, 56.6ms inference, 0.8ms postprocess per image at shape (1, 3, 384, 640)\n",
      "\n",
      "image 1/1 /home/ishant/Desktop/KeypointModelTest/New_test_img_2/images/wheels_tyres-20231219133652.jpeg: 384x640 1 car, 44.5ms\n",
      "Speed: 1.4ms preprocess, 44.5ms inference, 0.7ms postprocess per image at shape (1, 3, 384, 640)\n",
      "\n",
      "image 1/1 /home/ishant/Desktop/KeypointModelTest/New_test_img_2/images/cover_image-20221224131231.jpeg: 384x640 1 car, 57.2ms\n",
      "Speed: 1.7ms preprocess, 57.2ms inference, 0.6ms postprocess per image at shape (1, 3, 384, 640)\n",
      "\n"
     ]
    },
    {
     "name": "stdout",
     "output_type": "stream",
     "text": [
      "front_right_view-20230611142105.jpg\n",
      "wheels_tyres-20231219133652.jpeg\n",
      "cover_image-20221224131231.jpeg\n"
     ]
    },
    {
     "name": "stderr",
     "output_type": "stream",
     "text": [
      "image 1/1 /home/ishant/Desktop/KeypointModelTest/New_test_img_2/images/front_right_view-20230903153500.jpg: 384x640 1 car, 53.9ms\n",
      "Speed: 1.9ms preprocess, 53.9ms inference, 0.7ms postprocess per image at shape (1, 3, 384, 640)\n",
      "\n",
      "image 1/1 /home/ishant/Desktop/KeypointModelTest/New_test_img_2/images/cover_image-20240111120936.jpg: 384x640 1 car, 44.1ms\n",
      "Speed: 2.1ms preprocess, 44.1ms inference, 0.7ms postprocess per image at shape (1, 3, 384, 640)\n",
      "\n",
      "image 1/1 /home/ishant/Desktop/KeypointModelTest/New_test_img_2/images/left_side_view-20230922182100.jpeg: 384x640 1 car, 52.6ms\n",
      "Speed: 1.5ms preprocess, 52.6ms inference, 0.9ms postprocess per image at shape (1, 3, 384, 640)\n",
      "\n"
     ]
    },
    {
     "name": "stdout",
     "output_type": "stream",
     "text": [
      "front_right_view-20230903153500.jpg\n",
      "cover_image-20240111120936.jpg\n",
      "left_side_view-20230922182100.jpeg\n"
     ]
    },
    {
     "name": "stderr",
     "output_type": "stream",
     "text": [
      "image 1/1 /home/ishant/Desktop/KeypointModelTest/New_test_img_2/images/left_side_view-20231102120437.jpg: 384x640 1 car, 62.7ms\n",
      "Speed: 1.7ms preprocess, 62.7ms inference, 0.9ms postprocess per image at shape (1, 3, 384, 640)\n",
      "\n",
      "image 1/1 /home/ishant/Desktop/KeypointModelTest/New_test_img_2/images/rear_right_view-20230111141949.jpeg: 384x640 1 car, 53.7ms\n",
      "Speed: 1.6ms preprocess, 53.7ms inference, 0.7ms postprocess per image at shape (1, 3, 384, 640)\n",
      "\n",
      "image 1/1 /home/ishant/Desktop/KeypointModelTest/New_test_img_2/images/rear_left_view-20230903153516.jpg: 384x640 1 car, 58.1ms\n",
      "Speed: 2.3ms preprocess, 58.1ms inference, 0.8ms postprocess per image at shape (1, 3, 384, 640)\n",
      "\n"
     ]
    },
    {
     "name": "stdout",
     "output_type": "stream",
     "text": [
      "left_side_view-20231102120437.jpg\n",
      "rear_right_view-20230111141949.jpeg\n",
      "rear_left_view-20230903153516.jpg\n"
     ]
    },
    {
     "name": "stderr",
     "output_type": "stream",
     "text": [
      "image 1/1 /home/ishant/Desktop/KeypointModelTest/New_test_img_2/images/rear_right_view-20231006140120.jpeg: 384x640 1 car, 61.2ms\n",
      "Speed: 1.5ms preprocess, 61.2ms inference, 0.8ms postprocess per image at shape (1, 3, 384, 640)\n",
      "\n",
      "image 1/1 /home/ishant/Desktop/KeypointModelTest/New_test_img_2/images/rear_left_view-20231121170028.jpg: 384x640 1 car, 43.2ms\n",
      "Speed: 2.3ms preprocess, 43.2ms inference, 0.7ms postprocess per image at shape (1, 3, 384, 640)\n",
      "\n",
      "image 1/1 /home/ishant/Desktop/KeypointModelTest/New_test_img_2/images/cover_image-20230611142028.jpg: 384x640 1 car, 45.9ms\n",
      "Speed: 2.0ms preprocess, 45.9ms inference, 0.8ms postprocess per image at shape (1, 3, 384, 640)\n",
      "\n"
     ]
    },
    {
     "name": "stdout",
     "output_type": "stream",
     "text": [
      "rear_right_view-20231006140120.jpeg\n",
      "rear_left_view-20231121170028.jpg\n",
      "cover_image-20230611142028.jpg\n"
     ]
    },
    {
     "name": "stderr",
     "output_type": "stream",
     "text": [
      "image 1/1 /home/ishant/Desktop/KeypointModelTest/New_test_img_2/images/right_side_view-20221221130554.jpg: 384x640 1 car, 48.4ms\n",
      "Speed: 1.4ms preprocess, 48.4ms inference, 0.9ms postprocess per image at shape (1, 3, 384, 640)\n",
      "\n",
      "image 1/1 /home/ishant/Desktop/KeypointModelTest/New_test_img_2/images/right_side_view-20231010184251.jpg: 384x640 1 car, 71.2ms\n",
      "Speed: 17.7ms preprocess, 71.2ms inference, 0.7ms postprocess per image at shape (1, 3, 384, 640)\n",
      "\n",
      "image 1/1 /home/ishant/Desktop/KeypointModelTest/New_test_img_2/images/right_side_view-20231102120441.jpg: 384x640 1 car, 47.2ms\n",
      "Speed: 1.7ms preprocess, 47.2ms inference, 0.7ms postprocess per image at shape (1, 3, 384, 640)\n"
     ]
    },
    {
     "name": "stdout",
     "output_type": "stream",
     "text": [
      "right_side_view-20221221130554.jpg\n",
      "right_side_view-20231010184251.jpg\n"
     ]
    },
    {
     "name": "stderr",
     "output_type": "stream",
     "text": [
      "\n",
      "image 1/1 /home/ishant/Desktop/KeypointModelTest/New_test_img_2/images/left_side_view-20230623143209.jpg: 384x640 1 car, 61.4ms\n",
      "Speed: 1.7ms preprocess, 61.4ms inference, 0.7ms postprocess per image at shape (1, 3, 384, 640)\n",
      "\n",
      "image 1/1 /home/ishant/Desktop/KeypointModelTest/New_test_img_2/images/right_side_view-20231229091334.jpg: 384x640 1 car, 56.9ms\n",
      "Speed: 1.6ms preprocess, 56.9ms inference, 0.7ms postprocess per image at shape (1, 3, 384, 640)\n",
      "\n"
     ]
    },
    {
     "name": "stdout",
     "output_type": "stream",
     "text": [
      "right_side_view-20231102120441.jpg\n",
      "left_side_view-20230623143209.jpg\n",
      "right_side_view-20231229091334.jpg\n"
     ]
    },
    {
     "name": "stderr",
     "output_type": "stream",
     "text": [
      "image 1/1 /home/ishant/Desktop/KeypointModelTest/New_test_img_2/images/right_side_view-20231005125331.jpeg: 384x640 1 car, 53.1ms\n",
      "Speed: 1.5ms preprocess, 53.1ms inference, 0.7ms postprocess per image at shape (1, 3, 384, 640)\n",
      "\n",
      "image 1/1 /home/ishant/Desktop/KeypointModelTest/New_test_img_2/images/rear_right_view-20230903153523.jpg: 384x640 1 car, 47.8ms\n",
      "Speed: 1.5ms preprocess, 47.8ms inference, 0.7ms postprocess per image at shape (1, 3, 384, 640)\n",
      "\n",
      "image 1/1 /home/ishant/Desktop/KeypointModelTest/New_test_img_2/images/left_side_view-20240109213118.jpg: 384x640 1 car, 50.2ms\n",
      "Speed: 2.2ms preprocess, 50.2ms inference, 0.8ms postprocess per image at shape (1, 3, 384, 640)\n",
      "\n"
     ]
    },
    {
     "name": "stdout",
     "output_type": "stream",
     "text": [
      "right_side_view-20231005125331.jpeg\n",
      "rear_right_view-20230903153523.jpg\n",
      "left_side_view-20240109213118.jpg\n"
     ]
    },
    {
     "name": "stderr",
     "output_type": "stream",
     "text": [
      "image 1/1 /home/ishant/Desktop/KeypointModelTest/New_test_img_2/images/left_side_view-20231219133450.jpeg: 384x640 1 car, 45.4ms\n",
      "Speed: 1.5ms preprocess, 45.4ms inference, 1.0ms postprocess per image at shape (1, 3, 384, 640)\n",
      "\n",
      "image 1/1 /home/ishant/Desktop/KeypointModelTest/New_test_img_2/images/cover_image-20231129110331.jpg: 384x640 1 car, 53.0ms\n",
      "Speed: 1.4ms preprocess, 53.0ms inference, 0.7ms postprocess per image at shape (1, 3, 384, 640)\n",
      "\n",
      "image 1/1 /home/ishant/Desktop/KeypointModelTest/New_test_img_2/images/rear_left_view-20230929231222.jpg: 384x640 1 car, 88.3ms\n",
      "Speed: 1.8ms preprocess, 88.3ms inference, 0.9ms postprocess per image at shape (1, 3, 384, 640)\n"
     ]
    },
    {
     "name": "stdout",
     "output_type": "stream",
     "text": [
      "left_side_view-20231219133450.jpeg\n",
      "cover_image-20231129110331.jpg\n"
     ]
    },
    {
     "name": "stderr",
     "output_type": "stream",
     "text": [
      "\n",
      "image 1/1 /home/ishant/Desktop/KeypointModelTest/New_test_img_2/images/front_right_view-20230811143939.jpeg: 384x640 1 car, 99.0ms\n",
      "Speed: 5.4ms preprocess, 99.0ms inference, 1.2ms postprocess per image at shape (1, 3, 384, 640)\n",
      "\n"
     ]
    },
    {
     "name": "stdout",
     "output_type": "stream",
     "text": [
      "rear_left_view-20230929231222.jpg\n",
      "front_right_view-20230811143939.jpeg\n"
     ]
    },
    {
     "name": "stderr",
     "output_type": "stream",
     "text": [
      "image 1/1 /home/ishant/Desktop/KeypointModelTest/New_test_img_2/images/left_side_view-20220502122711.jpg: 384x640 1 car, 117.1ms\n",
      "Speed: 4.9ms preprocess, 117.1ms inference, 1.0ms postprocess per image at shape (1, 3, 384, 640)\n",
      "\n",
      "image 1/1 /home/ishant/Desktop/KeypointModelTest/New_test_img_2/images/left_side_view-20230611142053.jpg: 384x640 1 car, 96.5ms\n",
      "Speed: 2.1ms preprocess, 96.5ms inference, 1.0ms postprocess per image at shape (1, 3, 384, 640)\n",
      "\n"
     ]
    },
    {
     "name": "stdout",
     "output_type": "stream",
     "text": [
      "left_side_view-20220502122711.jpg\n",
      "left_side_view-20230611142053.jpg\n"
     ]
    },
    {
     "name": "stderr",
     "output_type": "stream",
     "text": [
      "image 1/1 /home/ishant/Desktop/KeypointModelTest/New_test_img_2/images/rear_left_view-20231006140051.jpeg: 384x640 1 car, 75.4ms\n",
      "Speed: 2.1ms preprocess, 75.4ms inference, 0.8ms postprocess per image at shape (1, 3, 384, 640)\n",
      "\n",
      "image 1/1 /home/ishant/Desktop/KeypointModelTest/New_test_img_2/images/right_side_view-20230811143924.jpeg: 384x640 1 car, 49.0ms\n",
      "Speed: 1.8ms preprocess, 49.0ms inference, 0.7ms postprocess per image at shape (1, 3, 384, 640)\n",
      "\n",
      "image 1/1 /home/ishant/Desktop/KeypointModelTest/New_test_img_2/images/right_side_view-20231006140031.jpeg: 384x640 1 car, 68.1ms\n",
      "Speed: 2.1ms preprocess, 68.1ms inference, 1.0ms postprocess per image at shape (1, 3, 384, 640)\n"
     ]
    },
    {
     "name": "stdout",
     "output_type": "stream",
     "text": [
      "rear_left_view-20231006140051.jpeg\n",
      "right_side_view-20230811143924.jpeg\n",
      "right_side_view-20231006140031.jpeg\n"
     ]
    },
    {
     "name": "stderr",
     "output_type": "stream",
     "text": [
      "\n",
      "image 1/1 /home/ishant/Desktop/KeypointModelTest/New_test_img_2/images/rear_left_view-20231102120451.jpg: 384x640 1 car, 47.5ms\n",
      "Speed: 1.7ms preprocess, 47.5ms inference, 0.7ms postprocess per image at shape (1, 3, 384, 640)\n",
      "\n",
      "image 1/1 /home/ishant/Desktop/KeypointModelTest/New_test_img_2/images/left_side_view-20231214103340.jpg: 384x640 1 car, 63.0ms\n",
      "Speed: 2.0ms preprocess, 63.0ms inference, 0.8ms postprocess per image at shape (1, 3, 384, 640)\n",
      "\n",
      "image 1/1 /home/ishant/Desktop/KeypointModelTest/New_test_img_2/images/cover_image-20230215185935.jpeg: 384x640 1 car, 67.5ms\n",
      "Speed: 1.7ms preprocess, 67.5ms inference, 0.8ms postprocess per image at shape (1, 3, 384, 640)\n",
      "\n"
     ]
    },
    {
     "name": "stdout",
     "output_type": "stream",
     "text": [
      "rear_left_view-20231102120451.jpg\n",
      "left_side_view-20231214103340.jpg\n",
      "cover_image-20230215185935.jpeg\n"
     ]
    },
    {
     "name": "stderr",
     "output_type": "stream",
     "text": [
      "image 1/1 /home/ishant/Desktop/KeypointModelTest/New_test_img_2/images/rear_right_view-20230215190038.jpeg: 384x640 1 car, 61.6ms\n",
      "Speed: 2.1ms preprocess, 61.6ms inference, 0.7ms postprocess per image at shape (1, 3, 384, 640)\n",
      "\n",
      "image 1/1 /home/ishant/Desktop/KeypointModelTest/New_test_img_2/images/front_right_view-20230922182140.jpeg: 384x640 1 car, 61.8ms\n",
      "Speed: 1.5ms preprocess, 61.8ms inference, 0.7ms postprocess per image at shape (1, 3, 384, 640)\n",
      "\n",
      "image 1/1 /home/ishant/Desktop/KeypointModelTest/New_test_img_2/images/cover_image-20231129104222.jpg: 384x640 1 car, 68.2ms\n",
      "Speed: 2.1ms preprocess, 68.2ms inference, 1.1ms postprocess per image at shape (1, 3, 384, 640)\n"
     ]
    },
    {
     "name": "stdout",
     "output_type": "stream",
     "text": [
      "rear_right_view-20230215190038.jpeg\n",
      "front_right_view-20230922182140.jpeg\n",
      "cover_image-20231129104222.jpg\n"
     ]
    },
    {
     "name": "stderr",
     "output_type": "stream",
     "text": [
      "\n",
      "image 1/1 /home/ishant/Desktop/KeypointModelTest/New_test_img_2/images/right_side_view-20230526143254.jpeg: 384x640 1 car, 94.3ms\n",
      "Speed: 2.6ms preprocess, 94.3ms inference, 0.9ms postprocess per image at shape (1, 3, 384, 640)\n",
      "\n",
      "image 1/1 /home/ishant/Desktop/KeypointModelTest/New_test_img_2/images/rear_right_view-20240111121050.jpg: 384x640 1 car, 67.4ms\n",
      "Speed: 1.9ms preprocess, 67.4ms inference, 0.9ms postprocess per image at shape (1, 3, 384, 640)\n",
      "\n"
     ]
    },
    {
     "name": "stdout",
     "output_type": "stream",
     "text": [
      "right_side_view-20230526143254.jpeg\n",
      "rear_right_view-20240111121050.jpg\n"
     ]
    },
    {
     "name": "stderr",
     "output_type": "stream",
     "text": [
      "image 1/1 /home/ishant/Desktop/KeypointModelTest/New_test_img_2/images/rear_left_view-20230526143302.jpeg: 384x640 1 car, 127.0ms\n",
      "Speed: 3.8ms preprocess, 127.0ms inference, 1.4ms postprocess per image at shape (1, 3, 384, 640)\n",
      "\n",
      "image 1/1 /home/ishant/Desktop/KeypointModelTest/New_test_img_2/images/cover_image-20230623143127.jpg: 384x640 1 car, 86.7ms\n",
      "Speed: 1.9ms preprocess, 86.7ms inference, 1.1ms postprocess per image at shape (1, 3, 384, 640)\n",
      "\n"
     ]
    },
    {
     "name": "stdout",
     "output_type": "stream",
     "text": [
      "rear_left_view-20230526143302.jpeg\n",
      "cover_image-20230623143127.jpg\n"
     ]
    },
    {
     "name": "stderr",
     "output_type": "stream",
     "text": [
      "image 1/1 /home/ishant/Desktop/KeypointModelTest/New_test_img_2/images/front_right_view-20221224131334.jpeg: 384x640 1 car, 110.3ms\n",
      "Speed: 1.8ms preprocess, 110.3ms inference, 1.1ms postprocess per image at shape (1, 3, 384, 640)\n",
      "\n",
      "image 1/1 /home/ishant/Desktop/KeypointModelTest/New_test_img_2/images/rear_right_view-20240109213215.jpg: 384x640 1 car, 81.7ms\n",
      "Speed: 2.1ms preprocess, 81.7ms inference, 1.2ms postprocess per image at shape (1, 3, 384, 640)\n",
      "\n"
     ]
    },
    {
     "name": "stdout",
     "output_type": "stream",
     "text": [
      "front_right_view-20221224131334.jpeg\n",
      "rear_right_view-20240109213215.jpg\n"
     ]
    },
    {
     "name": "stderr",
     "output_type": "stream",
     "text": [
      "image 1/1 /home/ishant/Desktop/KeypointModelTest/New_test_img_2/images/right_side_view-20230808130237.jpeg: 384x640 1 car, 94.7ms\n",
      "Speed: 3.3ms preprocess, 94.7ms inference, 1.1ms postprocess per image at shape (1, 3, 384, 640)\n",
      "\n",
      "image 1/1 /home/ishant/Desktop/KeypointModelTest/New_test_img_2/images/right_side_view-20221104130944.jpeg: 384x640 1 car, 141.3ms\n",
      "Speed: 2.8ms preprocess, 141.3ms inference, 1.1ms postprocess per image at shape (1, 3, 384, 640)\n",
      "\n"
     ]
    },
    {
     "name": "stdout",
     "output_type": "stream",
     "text": [
      "right_side_view-20230808130237.jpeg\n",
      "right_side_view-20221104130944.jpeg\n"
     ]
    },
    {
     "name": "stderr",
     "output_type": "stream",
     "text": [
      "image 1/1 /home/ishant/Desktop/KeypointModelTest/New_test_img_2/images/rear_right_view-20230910101708.jpg: 384x640 1 car, 59.8ms\n",
      "Speed: 1.9ms preprocess, 59.8ms inference, 0.7ms postprocess per image at shape (1, 3, 384, 640)\n",
      "\n",
      "image 1/1 /home/ishant/Desktop/KeypointModelTest/New_test_img_2/images/rear_right_view-20221104131019.jpeg: 384x640 1 car, 51.5ms\n",
      "Speed: 1.5ms preprocess, 51.5ms inference, 0.7ms postprocess per image at shape (1, 3, 384, 640)\n",
      "\n",
      "image 1/1 /home/ishant/Desktop/KeypointModelTest/New_test_img_2/images/right_side_view-20230910101643.jpg: 384x640 1 car, 76.0ms\n",
      "Speed: 1.5ms preprocess, 76.0ms inference, 1.1ms postprocess per image at shape (1, 3, 384, 640)\n",
      "\n"
     ]
    },
    {
     "name": "stdout",
     "output_type": "stream",
     "text": [
      "rear_right_view-20230910101708.jpg\n",
      "rear_right_view-20221104131019.jpeg\n",
      "right_side_view-20230910101643.jpg\n"
     ]
    },
    {
     "name": "stderr",
     "output_type": "stream",
     "text": [
      "image 1/1 /home/ishant/Desktop/KeypointModelTest/New_test_img_2/images/cover_image-20230910101613.jpg: 384x640 1 car, 92.2ms\n",
      "Speed: 1.9ms preprocess, 92.2ms inference, 1.1ms postprocess per image at shape (1, 3, 384, 640)\n",
      "\n",
      "image 1/1 /home/ishant/Desktop/KeypointModelTest/New_test_img_2/images/right_side_view-20231016185726.jpg: 384x640 1 car, 72.6ms\n",
      "Speed: 2.0ms preprocess, 72.6ms inference, 1.2ms postprocess per image at shape (1, 3, 384, 640)\n",
      "\n"
     ]
    },
    {
     "name": "stdout",
     "output_type": "stream",
     "text": [
      "cover_image-20230910101613.jpg\n",
      "right_side_view-20231016185726.jpg\n"
     ]
    },
    {
     "name": "stderr",
     "output_type": "stream",
     "text": [
      "image 1/1 /home/ishant/Desktop/KeypointModelTest/New_test_img_2/images/right_side_view-20240109213133.jpg: 384x640 1 car, 80.2ms\n",
      "Speed: 3.4ms preprocess, 80.2ms inference, 0.8ms postprocess per image at shape (1, 3, 384, 640)\n",
      "\n",
      "image 1/1 /home/ishant/Desktop/KeypointModelTest/New_test_img_2/images/cover_image-20231102120422.jpg: 384x640 1 car, 71.5ms\n",
      "Speed: 2.3ms preprocess, 71.5ms inference, 0.8ms postprocess per image at shape (1, 3, 384, 640)\n",
      "\n",
      "image 1/1 /home/ishant/Desktop/KeypointModelTest/New_test_img_2/images/front_right_view-20240111121017.jpg: 384x640 1 car, 58.0ms\n",
      "Speed: 1.7ms preprocess, 58.0ms inference, 0.6ms postprocess per image at shape (1, 3, 384, 640)\n",
      "\n"
     ]
    },
    {
     "name": "stdout",
     "output_type": "stream",
     "text": [
      "right_side_view-20240109213133.jpg\n",
      "cover_image-20231102120422.jpg\n",
      "front_right_view-20240111121017.jpg\n"
     ]
    },
    {
     "name": "stderr",
     "output_type": "stream",
     "text": [
      "image 1/1 /home/ishant/Desktop/KeypointModelTest/New_test_img_2/images/front_right_view-20231008101414.jpg: 384x640 1 car, 53.3ms\n",
      "Speed: 2.1ms preprocess, 53.3ms inference, 0.8ms postprocess per image at shape (1, 3, 384, 640)\n",
      "\n",
      "image 1/1 /home/ishant/Desktop/KeypointModelTest/New_test_img_2/images/front_right_view-20230111141916.jpeg: 384x640 1 car, 55.0ms\n",
      "Speed: 1.9ms preprocess, 55.0ms inference, 0.9ms postprocess per image at shape (1, 3, 384, 640)\n",
      "\n",
      "image 1/1 /home/ishant/Desktop/KeypointModelTest/New_test_img_2/images/rear_view-20230903153427.jpg: 384x640 1 car, 55.7ms\n",
      "Speed: 1.5ms preprocess, 55.7ms inference, 0.7ms postprocess per image at shape (1, 3, 384, 640)\n",
      "\n"
     ]
    },
    {
     "name": "stdout",
     "output_type": "stream",
     "text": [
      "front_right_view-20231008101414.jpg\n",
      "front_right_view-20230111141916.jpeg\n",
      "rear_view-20230903153427.jpg\n"
     ]
    },
    {
     "name": "stderr",
     "output_type": "stream",
     "text": [
      "image 1/1 /home/ishant/Desktop/KeypointModelTest/New_test_img_2/images/right_side_view-20240111121008.jpg: 384x640 1 car, 47.7ms\n",
      "Speed: 1.6ms preprocess, 47.7ms inference, 0.7ms postprocess per image at shape (1, 3, 384, 640)\n",
      "\n",
      "image 1/1 /home/ishant/Desktop/KeypointModelTest/New_test_img_2/images/rear_left_view-20231005125343.jpeg: 384x640 1 car, 60.3ms\n",
      "Speed: 2.0ms preprocess, 60.3ms inference, 0.8ms postprocess per image at shape (1, 3, 384, 640)\n",
      "\n"
     ]
    },
    {
     "name": "stdout",
     "output_type": "stream",
     "text": [
      "right_side_view-20240111121008.jpg\n",
      "rear_left_view-20231005125343.jpeg\n"
     ]
    },
    {
     "name": "stderr",
     "output_type": "stream",
     "text": [
      "image 1/1 /home/ishant/Desktop/KeypointModelTest/New_test_img_2/images/rear_right_view-20231102120457.jpg: 384x640 1 car, 119.4ms\n",
      "Speed: 2.3ms preprocess, 119.4ms inference, 0.8ms postprocess per image at shape (1, 3, 384, 640)\n",
      "\n",
      "image 1/1 /home/ishant/Desktop/KeypointModelTest/New_test_img_2/images/rear_left_view-20231010184301.jpg: 384x640 1 car, 59.1ms\n",
      "Speed: 3.8ms preprocess, 59.1ms inference, 0.7ms postprocess per image at shape (1, 3, 384, 640)\n",
      "\n",
      "image 1/1 /home/ishant/Desktop/KeypointModelTest/New_test_img_2/images/right_side_view-20231129110422.jpg: 384x640 1 car, 66.8ms\n",
      "Speed: 1.7ms preprocess, 66.8ms inference, 0.9ms postprocess per image at shape (1, 3, 384, 640)\n"
     ]
    },
    {
     "name": "stdout",
     "output_type": "stream",
     "text": [
      "rear_right_view-20231102120457.jpg\n",
      "rear_left_view-20231010184301.jpg\n",
      "right_side_view-20231129110422.jpg\n"
     ]
    },
    {
     "name": "stderr",
     "output_type": "stream",
     "text": [
      "\n",
      "image 1/1 /home/ishant/Desktop/KeypointModelTest/New_test_img_2/images/front_right_view-20231005125356.jpeg: 384x640 1 car, 111.7ms\n",
      "Speed: 2.8ms preprocess, 111.7ms inference, 1.6ms postprocess per image at shape (1, 3, 384, 640)\n",
      "\n",
      "image 1/1 /home/ishant/Desktop/KeypointModelTest/New_test_img_2/images/right_side_view-20230215190002.jpeg: 384x640 1 car, 71.1ms\n",
      "Speed: 1.7ms preprocess, 71.1ms inference, 0.7ms postprocess per image at shape (1, 3, 384, 640)\n",
      "\n",
      "image 1/1 /home/ishant/Desktop/KeypointModelTest/New_test_img_2/images/rear_right_view-20230922182154.jpeg: 384x640 1 car, 53.7ms\n",
      "Speed: 2.1ms preprocess, 53.7ms inference, 0.7ms postprocess per image at shape (1, 3, 384, 640)\n",
      "\n"
     ]
    },
    {
     "name": "stdout",
     "output_type": "stream",
     "text": [
      "front_right_view-20231005125356.jpeg\n",
      "right_side_view-20230215190002.jpeg\n",
      "rear_right_view-20230922182154.jpeg\n"
     ]
    },
    {
     "name": "stderr",
     "output_type": "stream",
     "text": [
      "image 1/1 /home/ishant/Desktop/KeypointModelTest/New_test_img_2/images/left_side_view-20231006140020.jpeg: 384x640 1 car, 56.1ms\n",
      "Speed: 2.1ms preprocess, 56.1ms inference, 1.3ms postprocess per image at shape (1, 3, 384, 640)\n",
      "\n",
      "image 1/1 /home/ishant/Desktop/KeypointModelTest/New_test_img_2/images/left_side_view-20230929231153.jpg: 384x640 1 car, 65.7ms\n",
      "Speed: 1.8ms preprocess, 65.7ms inference, 0.9ms postprocess per image at shape (1, 3, 384, 640)\n",
      "\n",
      "image 1/1 /home/ishant/Desktop/KeypointModelTest/New_test_img_2/images/left_side_view-20221221130603.jpg: 384x640 1 car, 60.4ms\n",
      "Speed: 2.3ms preprocess, 60.4ms inference, 0.8ms postprocess per image at shape (1, 3, 384, 640)\n"
     ]
    },
    {
     "name": "stdout",
     "output_type": "stream",
     "text": [
      "left_side_view-20231006140020.jpeg\n",
      "left_side_view-20230929231153.jpg\n"
     ]
    },
    {
     "name": "stderr",
     "output_type": "stream",
     "text": [
      "\n",
      "image 1/1 /home/ishant/Desktop/KeypointModelTest/New_test_img_2/images/left_side_view-20230910101636.jpg: 384x640 1 car, 84.8ms\n",
      "Speed: 2.5ms preprocess, 84.8ms inference, 1.1ms postprocess per image at shape (1, 3, 384, 640)\n",
      "\n"
     ]
    },
    {
     "name": "stdout",
     "output_type": "stream",
     "text": [
      "left_side_view-20221221130603.jpg\n",
      "left_side_view-20230910101636.jpg\n"
     ]
    },
    {
     "name": "stderr",
     "output_type": "stream",
     "text": [
      "image 1/1 /home/ishant/Desktop/KeypointModelTest/New_test_img_2/images/left_side_view-20231121165959.jpg: 384x640 1 car, 116.3ms\n",
      "Speed: 1.8ms preprocess, 116.3ms inference, 1.2ms postprocess per image at shape (1, 3, 384, 640)\n",
      "\n",
      "image 1/1 /home/ishant/Desktop/KeypointModelTest/New_test_img_2/images/front_right_view-20231016185738.jpg: 384x640 1 car, 125.1ms\n",
      "Speed: 4.9ms preprocess, 125.1ms inference, 1.1ms postprocess per image at shape (1, 3, 384, 640)\n",
      "\n"
     ]
    },
    {
     "name": "stdout",
     "output_type": "stream",
     "text": [
      "left_side_view-20231121165959.jpg\n",
      "front_right_view-20231016185738.jpg\n"
     ]
    },
    {
     "name": "stderr",
     "output_type": "stream",
     "text": [
      "image 1/1 /home/ishant/Desktop/KeypointModelTest/New_test_img_2/images/rear_right_view-20231129110454.jpg: 384x640 1 car, 119.0ms\n",
      "Speed: 3.0ms preprocess, 119.0ms inference, 1.1ms postprocess per image at shape (1, 3, 384, 640)\n",
      "\n",
      "image 1/1 /home/ishant/Desktop/KeypointModelTest/New_test_img_2/images/front_right_view-20230531180122.jpg: 384x640 1 car, 105.8ms\n",
      "Speed: 2.1ms preprocess, 105.8ms inference, 1.3ms postprocess per image at shape (1, 3, 384, 640)\n",
      "\n"
     ]
    },
    {
     "name": "stdout",
     "output_type": "stream",
     "text": [
      "rear_right_view-20231129110454.jpg\n",
      "front_right_view-20230531180122.jpg\n"
     ]
    },
    {
     "name": "stderr",
     "output_type": "stream",
     "text": [
      "image 1/1 /home/ishant/Desktop/KeypointModelTest/New_test_img_2/images/left_side_view-20230526143246.jpeg: 384x640 1 car, 201.4ms\n",
      "Speed: 3.3ms preprocess, 201.4ms inference, 1.8ms postprocess per image at shape (1, 3, 384, 640)\n",
      "\n",
      "image 1/1 /home/ishant/Desktop/KeypointModelTest/New_test_img_2/images/right_side_view-20230903153440.jpg: 384x640 1 car, 105.3ms\n",
      "Speed: 2.7ms preprocess, 105.3ms inference, 1.3ms postprocess per image at shape (1, 3, 384, 640)\n",
      "\n"
     ]
    },
    {
     "name": "stdout",
     "output_type": "stream",
     "text": [
      "left_side_view-20230526143246.jpeg\n",
      "right_side_view-20230903153440.jpg\n"
     ]
    },
    {
     "name": "stderr",
     "output_type": "stream",
     "text": [
      "image 1/1 /home/ishant/Desktop/KeypointModelTest/New_test_img_2/images/left_side_view-20230811143910.jpeg: 384x640 1 car, 128.1ms\n",
      "Speed: 1.9ms preprocess, 128.1ms inference, 2.1ms postprocess per image at shape (1, 3, 384, 640)\n",
      "\n",
      "image 1/1 /home/ishant/Desktop/KeypointModelTest/New_test_img_2/images/right_side_view-20231219133504.jpeg: 384x640 1 car, 96.1ms\n",
      "Speed: 2.4ms preprocess, 96.1ms inference, 1.5ms postprocess per image at shape (1, 3, 384, 640)\n",
      "\n"
     ]
    },
    {
     "name": "stdout",
     "output_type": "stream",
     "text": [
      "left_side_view-20230811143910.jpeg\n",
      "right_side_view-20231219133504.jpeg\n"
     ]
    },
    {
     "name": "stderr",
     "output_type": "stream",
     "text": [
      "image 1/1 /home/ishant/Desktop/KeypointModelTest/New_test_img_2/images/right_side_view-20230522160731.jpg: 384x640 1 car, 121.3ms\n",
      "Speed: 3.8ms preprocess, 121.3ms inference, 1.4ms postprocess per image at shape (1, 3, 384, 640)\n",
      "\n",
      "image 1/1 /home/ishant/Desktop/KeypointModelTest/New_test_img_2/images/left_side_view-20231005125319.jpeg: 384x640 1 car, 94.1ms\n",
      "Speed: 2.3ms preprocess, 94.1ms inference, 1.0ms postprocess per image at shape (1, 3, 384, 640)\n",
      "\n"
     ]
    },
    {
     "name": "stdout",
     "output_type": "stream",
     "text": [
      "right_side_view-20230522160731.jpg\n",
      "left_side_view-20231005125319.jpeg\n"
     ]
    },
    {
     "name": "stderr",
     "output_type": "stream",
     "text": [
      "image 1/1 /home/ishant/Desktop/KeypointModelTest/New_test_img_2/images/left_side_view-20221224131258.jpeg: 384x640 1 car, 74.3ms\n",
      "Speed: 8.0ms preprocess, 74.3ms inference, 1.5ms postprocess per image at shape (1, 3, 384, 640)\n",
      "\n",
      "image 1/1 /home/ishant/Desktop/KeypointModelTest/New_test_img_2/images/front_right_view-20221221130635.jpg: 384x640 1 car, 88.7ms\n",
      "Speed: 2.1ms preprocess, 88.7ms inference, 1.0ms postprocess per image at shape (1, 3, 384, 640)\n",
      "\n"
     ]
    },
    {
     "name": "stdout",
     "output_type": "stream",
     "text": [
      "left_side_view-20221224131258.jpeg\n",
      "front_right_view-20221221130635.jpg\n"
     ]
    },
    {
     "name": "stderr",
     "output_type": "stream",
     "text": [
      "image 1/1 /home/ishant/Desktop/KeypointModelTest/New_test_img_2/images/cover_image-20230111141706.jpeg: 384x640 1 car, 59.7ms\n",
      "Speed: 1.9ms preprocess, 59.7ms inference, 0.9ms postprocess per image at shape (1, 3, 384, 640)\n",
      "\n",
      "image 1/1 /home/ishant/Desktop/KeypointModelTest/New_test_img_2/images/left_side_view-20230331173857.jpg: 384x640 1 car, 61.4ms\n",
      "Speed: 1.6ms preprocess, 61.4ms inference, 0.7ms postprocess per image at shape (1, 3, 384, 640)\n",
      "\n",
      "image 1/1 /home/ishant/Desktop/KeypointModelTest/New_test_img_2/images/front_right_view-20231006140106.jpeg: 384x640 1 car, 50.8ms\n",
      "Speed: 1.8ms preprocess, 50.8ms inference, 0.6ms postprocess per image at shape (1, 3, 384, 640)\n",
      "\n"
     ]
    },
    {
     "name": "stdout",
     "output_type": "stream",
     "text": [
      "cover_image-20230111141706.jpeg\n",
      "left_side_view-20230331173857.jpg\n",
      "front_right_view-20231006140106.jpeg\n"
     ]
    },
    {
     "name": "stderr",
     "output_type": "stream",
     "text": [
      "image 1/1 /home/ishant/Desktop/KeypointModelTest/New_test_img_2/images/cover_image-20231016185638.jpg: 384x640 1 car, 66.5ms\n",
      "Speed: 1.4ms preprocess, 66.5ms inference, 0.8ms postprocess per image at shape (1, 3, 384, 640)\n",
      "\n",
      "image 1/1 /home/ishant/Desktop/KeypointModelTest/New_test_img_2/images/front_right_view-20230803123230.jpeg: 384x640 1 car, 66.7ms\n",
      "Speed: 1.7ms preprocess, 66.7ms inference, 0.9ms postprocess per image at shape (1, 3, 384, 640)\n",
      "\n",
      "image 1/1 /home/ishant/Desktop/KeypointModelTest/New_test_img_2/images/cover_image-20230929231111.jpg: 384x640 1 car, 56.7ms\n",
      "Speed: 2.1ms preprocess, 56.7ms inference, 0.7ms postprocess per image at shape (1, 3, 384, 640)\n"
     ]
    },
    {
     "name": "stdout",
     "output_type": "stream",
     "text": [
      "cover_image-20231016185638.jpg\n",
      "front_right_view-20230803123230.jpeg\n",
      "cover_image-20230929231111.jpg\n"
     ]
    },
    {
     "name": "stderr",
     "output_type": "stream",
     "text": [
      "\n",
      "image 1/1 /home/ishant/Desktop/KeypointModelTest/New_test_img_2/images/right_side_view-20230531180111.jpg: 384x640 1 car, 92.5ms\n",
      "Speed: 2.0ms preprocess, 92.5ms inference, 0.9ms postprocess per image at shape (1, 3, 384, 640)\n",
      "\n",
      "image 1/1 /home/ishant/Desktop/KeypointModelTest/New_test_img_2/images/right_side_view-20220502122718.jpg: 384x640 1 car, 113.0ms\n",
      "Speed: 2.4ms preprocess, 113.0ms inference, 1.3ms postprocess per image at shape (1, 3, 384, 640)\n",
      "\n"
     ]
    },
    {
     "name": "stdout",
     "output_type": "stream",
     "text": [
      "right_side_view-20230531180111.jpg\n",
      "right_side_view-20220502122718.jpg\n"
     ]
    },
    {
     "name": "stderr",
     "output_type": "stream",
     "text": [
      "image 1/1 /home/ishant/Desktop/KeypointModelTest/New_test_img_2/images/cover_image-20230519172809.jpeg: 384x640 1 car, 140.5ms\n",
      "Speed: 6.0ms preprocess, 140.5ms inference, 1.2ms postprocess per image at shape (1, 3, 384, 640)\n",
      "\n",
      "image 1/1 /home/ishant/Desktop/KeypointModelTest/New_test_img_2/images/rear_left_view-20230307161503.jpg: 384x640 1 car, 71.5ms\n",
      "Speed: 2.4ms preprocess, 71.5ms inference, 1.0ms postprocess per image at shape (1, 3, 384, 640)\n",
      "\n"
     ]
    },
    {
     "name": "stdout",
     "output_type": "stream",
     "text": [
      "cover_image-20230519172809.jpeg\n",
      "rear_left_view-20230307161503.jpg\n"
     ]
    },
    {
     "name": "stderr",
     "output_type": "stream",
     "text": [
      "image 1/1 /home/ishant/Desktop/KeypointModelTest/New_test_img_2/images/cover_image-20230803123021.jpeg: 384x640 1 car, 142.6ms\n",
      "Speed: 2.6ms preprocess, 142.6ms inference, 1.3ms postprocess per image at shape (1, 3, 384, 640)\n",
      "\n",
      "image 1/1 /home/ishant/Desktop/KeypointModelTest/New_test_img_2/images/left_side_view-20231016185714.jpg: 384x640 1 car, 63.4ms\n",
      "Speed: 4.2ms preprocess, 63.4ms inference, 0.7ms postprocess per image at shape (1, 3, 384, 640)\n",
      "\n",
      "image 1/1 /home/ishant/Desktop/KeypointModelTest/New_test_img_2/images/front_right_view-20240109213214.jpg: 384x640 1 car, 54.2ms\n",
      "Speed: 2.3ms preprocess, 54.2ms inference, 0.7ms postprocess per image at shape (1, 3, 384, 640)\n",
      "\n"
     ]
    },
    {
     "name": "stdout",
     "output_type": "stream",
     "text": [
      "cover_image-20230803123021.jpeg\n",
      "left_side_view-20231016185714.jpg\n",
      "front_right_view-20240109213214.jpg\n"
     ]
    },
    {
     "name": "stderr",
     "output_type": "stream",
     "text": [
      "image 1/1 /home/ishant/Desktop/KeypointModelTest/New_test_img_2/images/cover_image-20230811143856.jpeg: 384x640 1 car, 61.9ms\n",
      "Speed: 1.6ms preprocess, 61.9ms inference, 0.7ms postprocess per image at shape (1, 3, 384, 640)\n",
      "\n",
      "image 1/1 /home/ishant/Desktop/KeypointModelTest/New_test_img_2/images/rear_right_view-20231005125408.jpeg: 384x640 1 car, 57.0ms\n",
      "Speed: 1.9ms preprocess, 57.0ms inference, 0.8ms postprocess per image at shape (1, 3, 384, 640)\n",
      "\n",
      "image 1/1 /home/ishant/Desktop/KeypointModelTest/New_test_img_2/images/rear_left_view-20221224131323.jpeg: 384x640 1 car, 47.9ms\n",
      "Speed: 1.4ms preprocess, 47.9ms inference, 0.7ms postprocess per image at shape (1, 3, 384, 640)\n",
      "\n"
     ]
    },
    {
     "name": "stdout",
     "output_type": "stream",
     "text": [
      "cover_image-20230811143856.jpeg\n",
      "rear_right_view-20231005125408.jpeg\n",
      "rear_left_view-20221224131323.jpeg\n"
     ]
    },
    {
     "name": "stderr",
     "output_type": "stream",
     "text": [
      "image 1/1 /home/ishant/Desktop/KeypointModelTest/New_test_img_2/images/right_side_view-20230331173906.jpg: 384x640 1 car, 62.5ms\n",
      "Speed: 2.5ms preprocess, 62.5ms inference, 0.8ms postprocess per image at shape (1, 3, 384, 640)\n",
      "\n",
      "image 1/1 /home/ishant/Desktop/KeypointModelTest/New_test_img_2/images/front_right_view-20220502122727.jpg: 384x640 1 car, 64.5ms\n",
      "Speed: 1.8ms preprocess, 64.5ms inference, 0.8ms postprocess per image at shape (1, 3, 384, 640)\n",
      "\n",
      "image 1/1 /home/ishant/Desktop/KeypointModelTest/New_test_img_2/images/rear_right_view-20221224131344.jpeg: 384x640 1 car, 46.7ms\n",
      "Speed: 1.6ms preprocess, 46.7ms inference, 0.7ms postprocess per image at shape (1, 3, 384, 640)\n",
      "\n"
     ]
    },
    {
     "name": "stdout",
     "output_type": "stream",
     "text": [
      "right_side_view-20230331173906.jpg\n",
      "front_right_view-20220502122727.jpg\n",
      "rear_right_view-20221224131344.jpeg\n"
     ]
    },
    {
     "name": "stderr",
     "output_type": "stream",
     "text": [
      "image 1/1 /home/ishant/Desktop/KeypointModelTest/New_test_img_2/images/cover_image-20230522160657.jpg: 384x640 1 car, 61.4ms\n",
      "Speed: 2.1ms preprocess, 61.4ms inference, 0.8ms postprocess per image at shape (1, 3, 384, 640)\n",
      "\n",
      "image 1/1 /home/ishant/Desktop/KeypointModelTest/New_test_img_2/images/front_right_view-20230526143309.jpeg: 384x640 1 car, 69.6ms\n",
      "Speed: 23.8ms preprocess, 69.6ms inference, 1.0ms postprocess per image at shape (1, 3, 384, 640)\n",
      "\n"
     ]
    },
    {
     "name": "stdout",
     "output_type": "stream",
     "text": [
      "cover_image-20230522160657.jpg\n",
      "front_right_view-20230526143309.jpeg\n"
     ]
    },
    {
     "name": "stderr",
     "output_type": "stream",
     "text": [
      "image 1/1 /home/ishant/Desktop/KeypointModelTest/New_test_img_2/images/rear_left_view-20240103130723.jpg: 384x640 1 car, 96.7ms\n",
      "Speed: 1.9ms preprocess, 96.7ms inference, 2.1ms postprocess per image at shape (1, 3, 384, 640)\n",
      "\n",
      "image 1/1 /home/ishant/Desktop/KeypointModelTest/New_test_img_2/images/rear_right_view-20230331174019.jpg: 384x640 1 car, 135.0ms\n",
      "Speed: 3.3ms preprocess, 135.0ms inference, 3.7ms postprocess per image at shape (1, 3, 384, 640)\n"
     ]
    },
    {
     "name": "stdout",
     "output_type": "stream",
     "text": [
      "rear_left_view-20240103130723.jpg\n",
      "rear_right_view-20230331174019.jpg\n"
     ]
    },
    {
     "data": {
      "text/html": [
       "Finishing last run (ID:asoveaip) before initializing another..."
      ],
      "text/plain": [
       "<IPython.core.display.HTML object>"
      ]
     },
     "metadata": {},
     "output_type": "display_data"
    },
    {
     "data": {
      "text/html": [
       "Waiting for W&B process to finish... <strong style=\"color:green\">(success).</strong>"
      ],
      "text/plain": [
       "<IPython.core.display.HTML object>"
      ]
     },
     "metadata": {},
     "output_type": "display_data"
    },
    {
     "data": {
      "text/html": [
       "<style>\n",
       "    table.wandb td:nth-child(1) { padding: 0 10px; text-align: left ; width: auto;} td:nth-child(2) {text-align: left ; width: 100%}\n",
       "    .wandb-row { display: flex; flex-direction: row; flex-wrap: wrap; justify-content: flex-start; width: 100% }\n",
       "    .wandb-col { display: flex; flex-direction: column; flex-basis: 100%; flex: 1; padding: 10px; }\n",
       "    </style>\n",
       "<div class=\"wandb-row\"><div class=\"wandb-col\"><h3>Run history:</h3><br/><table class=\"wandb\"><tr><td>105_avg_distance</td><td>▁</td></tr><tr><td>120_avg_distance</td><td>▁</td></tr><tr><td>135_avg_distance</td><td>▁</td></tr><tr><td>150_avg_distance</td><td>▁</td></tr><tr><td>210_avg_distance</td><td>▁</td></tr><tr><td>225_avg_distance</td><td>▁</td></tr><tr><td>240_avg_distance</td><td>▁</td></tr><tr><td>255_avg_distance</td><td>▁</td></tr><tr><td>270_avg_distance</td><td>▁</td></tr><tr><td>285_avg_distance</td><td>▁</td></tr><tr><td>300_avg_distance</td><td>▁</td></tr><tr><td>30_avg_distance</td><td>▁</td></tr><tr><td>315_avg_distance</td><td>▁</td></tr><tr><td>45_avg_distance</td><td>▁</td></tr><tr><td>60_avg_distance</td><td>▁</td></tr><tr><td>75_avg_distance</td><td>▁</td></tr><tr><td>90_avg_distance</td><td>▁</td></tr><tr><td>test_avg_distance</td><td>▁</td></tr></table><br/></div><div class=\"wandb-col\"><h3>Run summary:</h3><br/><table class=\"wandb\"><tr><td>105_avg_distance</td><td>0.06139</td></tr><tr><td>120_avg_distance</td><td>0.03863</td></tr><tr><td>135_avg_distance</td><td>0.05067</td></tr><tr><td>150_avg_distance</td><td>0.04979</td></tr><tr><td>210_avg_distance</td><td>0.07439</td></tr><tr><td>225_avg_distance</td><td>0.07933</td></tr><tr><td>240_avg_distance</td><td>0.05386</td></tr><tr><td>255_avg_distance</td><td>0.04859</td></tr><tr><td>270_avg_distance</td><td>0.05855</td></tr><tr><td>285_avg_distance</td><td>0.04481</td></tr><tr><td>300_avg_distance</td><td>0.0755</td></tr><tr><td>30_avg_distance</td><td>0.1967</td></tr><tr><td>315_avg_distance</td><td>0.05347</td></tr><tr><td>45_avg_distance</td><td>0.06109</td></tr><tr><td>60_avg_distance</td><td>0.05555</td></tr><tr><td>75_avg_distance</td><td>0.05243</td></tr><tr><td>90_avg_distance</td><td>0.0642</td></tr><tr><td>test_avg_distance</td><td>0.05755</td></tr></table><br/></div></div>"
      ],
      "text/plain": [
       "<IPython.core.display.HTML object>"
      ]
     },
     "metadata": {},
     "output_type": "display_data"
    },
    {
     "data": {
      "text/html": [
       " View run <strong style=\"color:#cdcd00\">ishantkukreti2000</strong> at: <a href='https://wandb.ai/ik_zone/keypoint_test/runs/asoveaip' target=\"_blank\">https://wandb.ai/ik_zone/keypoint_test/runs/asoveaip</a><br/>Synced 5 W&B file(s), 0 media file(s), 0 artifact file(s) and 0 other file(s)"
      ],
      "text/plain": [
       "<IPython.core.display.HTML object>"
      ]
     },
     "metadata": {},
     "output_type": "display_data"
    },
    {
     "data": {
      "text/html": [
       "Find logs at: <code>./wandb/run-20240312_175011-asoveaip/logs</code>"
      ],
      "text/plain": [
       "<IPython.core.display.HTML object>"
      ]
     },
     "metadata": {},
     "output_type": "display_data"
    },
    {
     "data": {
      "text/html": [
       "Successfully finished last run (ID:asoveaip). Initializing new run:<br/>"
      ],
      "text/plain": [
       "<IPython.core.display.HTML object>"
      ]
     },
     "metadata": {},
     "output_type": "display_data"
    },
    {
     "data": {
      "application/vnd.jupyter.widget-view+json": {
       "model_id": "b900e0f13a4c4ab3be14f29d3da74a27",
       "version_major": 2,
       "version_minor": 0
      },
      "text/plain": [
       "VBox(children=(Label(value='Waiting for wandb.init()...\\r'), FloatProgress(value=0.011123396377822954, max=1.0…"
      ]
     },
     "metadata": {},
     "output_type": "display_data"
    },
    {
     "data": {
      "text/html": [
       "wandb version 0.16.4 is available!  To upgrade, please run:\n",
       " $ pip install wandb --upgrade"
      ],
      "text/plain": [
       "<IPython.core.display.HTML object>"
      ]
     },
     "metadata": {},
     "output_type": "display_data"
    },
    {
     "data": {
      "text/html": [
       "Tracking run with wandb version 0.15.10"
      ],
      "text/plain": [
       "<IPython.core.display.HTML object>"
      ]
     },
     "metadata": {},
     "output_type": "display_data"
    },
    {
     "data": {
      "text/html": [
       "Run data is saved locally in <code>/home/ishant/Desktop/KeypointModelTest/wandb/run-20240312_175616-anyxsmn4</code>"
      ],
      "text/plain": [
       "<IPython.core.display.HTML object>"
      ]
     },
     "metadata": {},
     "output_type": "display_data"
    },
    {
     "data": {
      "text/html": [
       "Syncing run <strong><a href='https://wandb.ai/ik_zone/keypoint_test/runs/anyxsmn4' target=\"_blank\">Train_No_38</a></strong> to <a href='https://wandb.ai/ik_zone/keypoint_test' target=\"_blank\">Weights & Biases</a> (<a href='https://wandb.me/run' target=\"_blank\">docs</a>)<br/>"
      ],
      "text/plain": [
       "<IPython.core.display.HTML object>"
      ]
     },
     "metadata": {},
     "output_type": "display_data"
    },
    {
     "data": {
      "text/html": [
       " View project at <a href='https://wandb.ai/ik_zone/keypoint_test' target=\"_blank\">https://wandb.ai/ik_zone/keypoint_test</a>"
      ],
      "text/plain": [
       "<IPython.core.display.HTML object>"
      ]
     },
     "metadata": {},
     "output_type": "display_data"
    },
    {
     "data": {
      "text/html": [
       " View run at <a href='https://wandb.ai/ik_zone/keypoint_test/runs/anyxsmn4' target=\"_blank\">https://wandb.ai/ik_zone/keypoint_test/runs/anyxsmn4</a>"
      ],
      "text/plain": [
       "<IPython.core.display.HTML object>"
      ]
     },
     "metadata": {},
     "output_type": "display_data"
    },
    {
     "data": {
      "text/html": [
       "<button onClick=\"this.nextSibling.style.display='block';this.style.display='none';\">Display W&B run</button><iframe src='https://wandb.ai/ik_zone/keypoint_test/runs/anyxsmn4?jupyter=true' style='border:none;width:100%;height:420px;display:none;'></iframe>"
      ],
      "text/plain": [
       "<wandb.sdk.wandb_run.Run at 0x7fc26444dc70>"
      ]
     },
     "execution_count": 13,
     "metadata": {},
     "output_type": "execute_result"
    }
   ],
   "source": [
    "import mlflow.pytorch\n",
    "import mlflow\n",
    "# mlflow.set_tracking_uri(\"https://dagshub.com/ishant/test2.mlflow\")\n",
    "# mlflow.set_experiment(\"keypoint_test_New\")\n",
    "\n",
    "train_no = 38\n",
    "model_path = f'runs15Jan/train{train_no}/weights/best.pt'\n",
    "import torch\n",
    "device = torch.device('cpu')\n",
    "model = YOLO(model_path)  # Or 'path/to/best.pt'\n",
    "model.to(device)\n",
    "dis = check_avg_dis(model)\n",
    "# print(dis)\n",
    "name = f\"Train_No_{train_no}\"\n",
    "wandb.init(project='keypoint_test', name=name)\n",
    "# Log the PyTorch model with MLflow\n",
    "\n",
    "\n"
   ]
  },
  {
   "cell_type": "code",
   "execution_count": 17,
   "metadata": {},
   "outputs": [
    {
     "name": "stdout",
     "output_type": "stream",
     "text": [
      "0.015620127866140934\n"
     ]
    }
   ],
   "source": [
    "print(dis)"
   ]
  },
  {
   "cell_type": "code",
   "execution_count": 18,
   "metadata": {},
   "outputs": [
    {
     "data": {
      "image/png": "[encoded data removed]",
      "text/plain": [
       "<Figure size 1000x600 with 2 Axes>"
      ]
     },
     "metadata": {},
     "output_type": "display_data"
    }
   ],
   "source": [
    "custom_ticks = list(range(45, 361, 15))\n",
    "\n",
    "with mlflow.start_run(run_name=name):\n",
    "    # Log model parameters if needed\n",
    "    # Log the PyTorch model\n",
    "    mlflow.pytorch.log_model(model, \"keypoint_model\")\n",
    "    \n",
    "    mlflow.log_metrics({\n",
    "        \"test_avg_distance\":dis \n",
    "    })\n",
    "\n",
    "    # Your plotting code\n",
    "    summary_data = df.groupby('Angle')['Average Distance'].agg(['mean', 'count'])\n",
    "\n",
    "    custom_ticks = list(range(45, 361, 15))\n",
    "\n",
    "    fig, ax1 = plt.subplots(figsize=(10, 6))\n",
    "\n",
    "    color = 'tab:blue'\n",
    "    ax1.set_xlabel('Angle')\n",
    "    ax1.set_ylabel('Average Distance', color=color)\n",
    "    ax1.bar(summary_data.index, summary_data['mean'], color=color, edgecolor='black')\n",
    "    ax1.tick_params(axis='y', labelcolor=color)\n",
    "    ax1.set_xticks(custom_ticks)\n",
    "\n",
    "    ax2 = ax1.twinx()\n",
    "    color = 'tab:red'\n",
    "    ax2.set_ylabel('Count', color=color)\n",
    "    ax2.plot(summary_data.index, summary_data['count'], color=color, marker='o')\n",
    "    ax2.tick_params(axis='y', labelcolor=color)\n",
    "\n",
    "    plt.title('Average Distance and Count for Different Angles')\n",
    "\n",
    "    # Save the figure\n",
    "    plt.savefig('plot.png')\n",
    "\n",
    "    # Log the figure\n",
    "    mlflow.log_artifact('plot.png')\n",
    "\n",
    "    for angle, values in summary_data.iterrows():\n",
    "        mlflow.log_metrics({\n",
    "            f\"mean_{angle}\": values['mean']\n",
    "        })"
   ]
  },
  {
   "cell_type": "code",
   "execution_count": 10,
   "metadata": {},
   "outputs": [
    {
     "name": "stderr",
     "output_type": "stream",
     "text": [
      "\n",
      "image 1/1 /home/ishant/Desktop/KeypointModelTest/New_test_img_2/images/cover_image-20230108161822.jpeg: 480x640 4 cars, 104.0ms\n",
      "Speed: 5.8ms preprocess, 104.0ms inference, 0.9ms postprocess per image at shape (1, 3, 480, 640)\n",
      "\n",
      "image 1/1 /home/ishant/Desktop/KeypointModelTest/New_test_img_2/images/right_side_view-20230822192008.jpeg: 480x640 3 cars, 116.4ms\n",
      "Speed: 7.1ms preprocess, 116.4ms inference, 1.9ms postprocess per image at shape (1, 3, 480, 640)\n",
      "\n"
     ]
    },
    {
     "name": "stdout",
     "output_type": "stream",
     "text": [
      "cover_image-20230108161822.jpeg\n",
      "right_side_view-20230822192008.jpeg\n"
     ]
    },
    {
     "name": "stderr",
     "output_type": "stream",
     "text": [
      "image 1/1 /home/ishant/Desktop/KeypointModelTest/New_test_img_2/images/front_right_view-20221223114144.jpeg: 480x640 2 cars, 122.3ms\n",
      "Speed: 10.5ms preprocess, 122.3ms inference, 0.9ms postprocess per image at shape (1, 3, 480, 640)\n",
      "\n",
      "image 1/1 /home/ishant/Desktop/KeypointModelTest/New_test_img_2/images/rear_left_view-20230113131454.jpeg: 480x640 2 cars, 90.3ms\n",
      "Speed: 3.9ms preprocess, 90.3ms inference, 2.1ms postprocess per image at shape (1, 3, 480, 640)\n",
      "\n"
     ]
    },
    {
     "name": "stdout",
     "output_type": "stream",
     "text": [
      "front_right_view-20221223114144.jpeg\n",
      "rear_left_view-20230113131454.jpeg\n"
     ]
    },
    {
     "name": "stderr",
     "output_type": "stream",
     "text": [
      "image 1/1 /home/ishant/Desktop/KeypointModelTest/New_test_img_2/images/left_side_view-20230424151412.jpg: 512x640 1 car, 124.7ms\n",
      "Speed: 4.4ms preprocess, 124.7ms inference, 0.8ms postprocess per image at shape (1, 3, 512, 640)\n",
      "\n",
      "image 1/1 /home/ishant/Desktop/KeypointModelTest/New_test_img_2/images/rear_right_view-20231202151813.jpeg: 480x640 3 cars, 119.9ms\n",
      "Speed: 4.3ms preprocess, 119.9ms inference, 1.5ms postprocess per image at shape (1, 3, 480, 640)\n"
     ]
    },
    {
     "name": "stdout",
     "output_type": "stream",
     "text": [
      "left_side_view-20230424151412.jpg\n"
     ]
    },
    {
     "name": "stderr",
     "output_type": "stream",
     "text": [
      "\n",
      "image 1/1 /home/ishant/Desktop/KeypointModelTest/New_test_img_2/images/cover_image-20230524174344.jpeg: 384x640 3 cars, 98.5ms\n",
      "Speed: 3.6ms preprocess, 98.5ms inference, 1.2ms postprocess per image at shape (1, 3, 384, 640)\n",
      "\n"
     ]
    },
    {
     "name": "stdout",
     "output_type": "stream",
     "text": [
      "rear_right_view-20231202151813.jpeg\n",
      "cover_image-20230524174344.jpeg\n"
     ]
    },
    {
     "name": "stderr",
     "output_type": "stream",
     "text": [
      "image 1/1 /home/ishant/Desktop/KeypointModelTest/New_test_img_2/images/left_side_view-20230505154931.jpg: 480x640 2 cars, 135.2ms\n",
      "Speed: 5.2ms preprocess, 135.2ms inference, 3.0ms postprocess per image at shape (1, 3, 480, 640)\n",
      "\n"
     ]
    },
    {
     "name": "stdout",
     "output_type": "stream",
     "text": [
      "left_side_view-20230505154931.jpg\n"
     ]
    },
    {
     "name": "stderr",
     "output_type": "stream",
     "text": [
      "image 1/1 /home/ishant/Desktop/KeypointModelTest/New_test_img_2/images/right_side_view-20230122230748.jpeg: 480x640 2 cars, 145.0ms\n",
      "Speed: 5.2ms preprocess, 145.0ms inference, 1.8ms postprocess per image at shape (1, 3, 480, 640)\n",
      "\n",
      "image 1/1 /home/ishant/Desktop/KeypointModelTest/New_test_img_2/images/cover_image-20221210190446.jpeg: 480x640 4 cars, 151.4ms\n",
      "Speed: 5.2ms preprocess, 151.4ms inference, 2.7ms postprocess per image at shape (1, 3, 480, 640)\n"
     ]
    },
    {
     "name": "stdout",
     "output_type": "stream",
     "text": [
      "right_side_view-20230122230748.jpeg\n"
     ]
    },
    {
     "name": "stderr",
     "output_type": "stream",
     "text": [
      "\n",
      "image 1/1 /home/ishant/Desktop/KeypointModelTest/New_test_img_2/images/right_side_view-20240103184831.jpg: 480x640 2 cars, 119.4ms\n",
      "Speed: 5.4ms preprocess, 119.4ms inference, 1.0ms postprocess per image at shape (1, 3, 480, 640)\n",
      "\n"
     ]
    },
    {
     "name": "stdout",
     "output_type": "stream",
     "text": [
      "cover_image-20221210190446.jpeg\n",
      "right_side_view-20240103184831.jpg\n"
     ]
    },
    {
     "name": "stderr",
     "output_type": "stream",
     "text": [
      "image 1/1 /home/ishant/Desktop/KeypointModelTest/New_test_img_2/images/front_right_view-20230113131505.jpeg: 480x640 3 cars, 123.5ms\n",
      "Speed: 4.5ms preprocess, 123.5ms inference, 1.3ms postprocess per image at shape (1, 3, 480, 640)\n",
      "\n",
      "image 1/1 /home/ishant/Desktop/KeypointModelTest/New_test_img_2/images/rear_right_view-20230113131528.jpeg: 480x640 2 cars, 121.1ms\n",
      "Speed: 8.2ms preprocess, 121.1ms inference, 1.1ms postprocess per image at shape (1, 3, 480, 640)\n",
      "\n"
     ]
    },
    {
     "name": "stdout",
     "output_type": "stream",
     "text": [
      "front_right_view-20230113131505.jpeg\n",
      "rear_right_view-20230113131528.jpeg\n"
     ]
    },
    {
     "name": "stderr",
     "output_type": "stream",
     "text": [
      "image 1/1 /home/ishant/Desktop/KeypointModelTest/New_test_img_2/images/front_right_view-20230612171611.jpeg: 480x640 3 cars, 148.7ms\n",
      "Speed: 40.8ms preprocess, 148.7ms inference, 1.0ms postprocess per image at shape (1, 3, 480, 640)\n",
      "\n",
      "image 1/1 /home/ishant/Desktop/KeypointModelTest/New_test_img_2/images/front_right_view-20230424151425.jpg: 512x640 2 cars, 127.5ms\n",
      "Speed: 3.9ms preprocess, 127.5ms inference, 1.4ms postprocess per image at shape (1, 3, 512, 640)\n",
      "\n"
     ]
    },
    {
     "name": "stdout",
     "output_type": "stream",
     "text": [
      "front_right_view-20230612171611.jpeg\n",
      "No keypoints detected in front_right_view-20230612171611.jpeg\n",
      "front_right_view-20230424151425.jpg\n"
     ]
    },
    {
     "name": "stderr",
     "output_type": "stream",
     "text": [
      "image 1/1 /home/ishant/Desktop/KeypointModelTest/New_test_img_2/images/rear_left_view-20230819134348.jpg: 480x640 1 car, 108.5ms\n",
      "Speed: 4.8ms preprocess, 108.5ms inference, 1.2ms postprocess per image at shape (1, 3, 480, 640)\n",
      "\n",
      "image 1/1 /home/ishant/Desktop/KeypointModelTest/New_test_img_2/images/left_side_view-20230612171512.jpeg: 480x640 2 cars, 113.0ms\n",
      "Speed: 4.9ms preprocess, 113.0ms inference, 1.2ms postprocess per image at shape (1, 3, 480, 640)\n",
      "\n"
     ]
    },
    {
     "name": "stdout",
     "output_type": "stream",
     "text": [
      "rear_left_view-20230819134348.jpg\n",
      "left_side_view-20230612171512.jpeg\n",
      "No keypoints detected in left_side_view-20230612171512.jpeg\n"
     ]
    },
    {
     "name": "stderr",
     "output_type": "stream",
     "text": [
      "image 1/1 /home/ishant/Desktop/KeypointModelTest/New_test_img_2/images/front_right_view-20230221182625.jpeg: 480x640 4 cars, 120.9ms\n",
      "Speed: 6.0ms preprocess, 120.9ms inference, 1.3ms postprocess per image at shape (1, 3, 480, 640)\n",
      "\n",
      "image 1/1 /home/ishant/Desktop/KeypointModelTest/New_test_img_2/images/front_right_view-20230822192036.jpeg: 480x640 5 cars, 106.5ms\n",
      "Speed: 2.6ms preprocess, 106.5ms inference, 1.2ms postprocess per image at shape (1, 3, 480, 640)\n",
      "\n"
     ]
    },
    {
     "name": "stdout",
     "output_type": "stream",
     "text": [
      "front_right_view-20230221182625.jpeg\n",
      "front_right_view-20230822192036.jpeg\n"
     ]
    },
    {
     "name": "stderr",
     "output_type": "stream",
     "text": [
      "image 1/1 /home/ishant/Desktop/KeypointModelTest/New_test_img_2/images/rear_right_view-20221223114154.jpeg: 480x640 3 cars, 108.6ms\n",
      "Speed: 4.8ms preprocess, 108.6ms inference, 1.5ms postprocess per image at shape (1, 3, 480, 640)\n",
      "\n",
      "image 1/1 /home/ishant/Desktop/KeypointModelTest/New_test_img_2/images/right_side_view-20230819134335.jpg: 480x640 2 cars, 130.3ms\n",
      "Speed: 4.2ms preprocess, 130.3ms inference, 2.9ms postprocess per image at shape (1, 3, 480, 640)\n",
      "\n"
     ]
    },
    {
     "name": "stdout",
     "output_type": "stream",
     "text": [
      "rear_right_view-20221223114154.jpeg\n",
      "right_side_view-20230819134335.jpg\n"
     ]
    },
    {
     "name": "stderr",
     "output_type": "stream",
     "text": [
      "image 1/1 /home/ishant/Desktop/KeypointModelTest/New_test_img_2/images/rear_right_view-20221210190639.jpeg: 480x640 1 car, 114.2ms\n",
      "Speed: 3.3ms preprocess, 114.2ms inference, 1.1ms postprocess per image at shape (1, 3, 480, 640)\n",
      "\n",
      "image 1/1 /home/ishant/Desktop/KeypointModelTest/New_test_img_2/images/rear_right_view-20230505154952.jpg: 480x640 2 cars, 100.2ms\n",
      "Speed: 3.9ms preprocess, 100.2ms inference, 1.0ms postprocess per image at shape (1, 3, 480, 640)\n",
      "\n"
     ]
    },
    {
     "name": "stdout",
     "output_type": "stream",
     "text": [
      "rear_right_view-20221210190639.jpeg\n",
      "rear_right_view-20230505154952.jpg\n"
     ]
    },
    {
     "name": "stderr",
     "output_type": "stream",
     "text": [
      "image 1/1 /home/ishant/Desktop/KeypointModelTest/New_test_img_2/images/left_side_view-20230819134319.jpg: 480x640 3 cars, 128.5ms\n",
      "Speed: 4.3ms preprocess, 128.5ms inference, 1.2ms postprocess per image at shape (1, 3, 480, 640)\n",
      "\n",
      "image 1/1 /home/ishant/Desktop/KeypointModelTest/New_test_img_2/images/cover_image-20240103184802.jpg: 480x640 1 car, 152.0ms\n",
      "Speed: 3.8ms preprocess, 152.0ms inference, 1.6ms postprocess per image at shape (1, 3, 480, 640)\n"
     ]
    },
    {
     "name": "stdout",
     "output_type": "stream",
     "text": [
      "left_side_view-20230819134319.jpg\n"
     ]
    },
    {
     "name": "stderr",
     "output_type": "stream",
     "text": [
      "\n"
     ]
    },
    {
     "name": "stdout",
     "output_type": "stream",
     "text": [
      "cover_image-20240103184802.jpg\n"
     ]
    },
    {
     "name": "stderr",
     "output_type": "stream",
     "text": [
      "image 1/1 /home/ishant/Desktop/KeypointModelTest/New_test_img_2/images/rear_left_view-20230122230818.jpeg: 480x640 2 cars, 343.8ms\n",
      "Speed: 6.9ms preprocess, 343.8ms inference, 1.1ms postprocess per image at shape (1, 3, 480, 640)\n",
      "\n",
      "image 1/1 /home/ishant/Desktop/KeypointModelTest/New_test_img_2/images/left_side_view-20230302145907.jpg: 512x640 1 car, 120.5ms\n",
      "Speed: 4.4ms preprocess, 120.5ms inference, 2.4ms postprocess per image at shape (1, 3, 512, 640)\n",
      "\n"
     ]
    },
    {
     "name": "stdout",
     "output_type": "stream",
     "text": [
      "rear_left_view-20230122230818.jpeg\n",
      "left_side_view-20230302145907.jpg\n"
     ]
    },
    {
     "name": "stderr",
     "output_type": "stream",
     "text": [
      "image 1/1 /home/ishant/Desktop/KeypointModelTest/New_test_img_2/images/front_right_view-20221210190629.jpeg: 480x640 1 car, 131.6ms\n",
      "Speed: 4.2ms preprocess, 131.6ms inference, 1.3ms postprocess per image at shape (1, 3, 480, 640)\n",
      "\n"
     ]
    },
    {
     "name": "stdout",
     "output_type": "stream",
     "text": [
      "front_right_view-20221210190629.jpeg\n"
     ]
    },
    {
     "name": "stderr",
     "output_type": "stream",
     "text": [
      "image 1/1 /home/ishant/Desktop/KeypointModelTest/New_test_img_2/images/cover_image-20231202151725.jpeg: 480x640 1 car, 124.8ms\n",
      "Speed: 5.4ms preprocess, 124.8ms inference, 2.0ms postprocess per image at shape (1, 3, 480, 640)\n",
      "\n",
      "image 1/1 /home/ishant/Desktop/KeypointModelTest/New_test_img_2/images/rear_left_view-20230927134157.jpeg: 640x480 3 cars, 129.6ms\n",
      "Speed: 5.3ms preprocess, 129.6ms inference, 2.5ms postprocess per image at shape (1, 3, 640, 480)\n"
     ]
    },
    {
     "name": "stdout",
     "output_type": "stream",
     "text": [
      "cover_image-20231202151725.jpeg\n"
     ]
    },
    {
     "name": "stderr",
     "output_type": "stream",
     "text": [
      "\n"
     ]
    },
    {
     "name": "stdout",
     "output_type": "stream",
     "text": [
      "rear_left_view-20230927134157.jpeg\n"
     ]
    },
    {
     "name": "stderr",
     "output_type": "stream",
     "text": [
      "image 1/1 /home/ishant/Desktop/KeypointModelTest/New_test_img_2/images/front_right_view-20230108161943.jpeg: 480x640 3 cars, 143.1ms\n",
      "Speed: 6.3ms preprocess, 143.1ms inference, 1.3ms postprocess per image at shape (1, 3, 480, 640)\n",
      "\n"
     ]
    },
    {
     "name": "stdout",
     "output_type": "stream",
     "text": [
      "front_right_view-20230108161943.jpeg\n"
     ]
    },
    {
     "name": "stderr",
     "output_type": "stream",
     "text": [
      "image 1/1 /home/ishant/Desktop/KeypointModelTest/New_test_img_2/images/front_right_view-20230705185128.jpeg: 480x640 4 cars, 127.3ms\n",
      "Speed: 3.8ms preprocess, 127.3ms inference, 1.7ms postprocess per image at shape (1, 3, 480, 640)\n",
      "\n",
      "image 1/1 /home/ishant/Desktop/KeypointModelTest/New_test_img_2/images/rear_left_view-20230822192017.jpeg: 480x640 2 cars, 121.4ms\n",
      "Speed: 3.3ms preprocess, 121.4ms inference, 2.5ms postprocess per image at shape (1, 3, 480, 640)\n",
      "\n"
     ]
    },
    {
     "name": "stdout",
     "output_type": "stream",
     "text": [
      "front_right_view-20230705185128.jpeg\n",
      "rear_left_view-20230822192017.jpeg\n"
     ]
    },
    {
     "name": "stderr",
     "output_type": "stream",
     "text": [
      "image 1/1 /home/ishant/Desktop/KeypointModelTest/New_test_img_2/images/right_side_view-20230524174418.jpeg: 384x640 1 car, 137.8ms\n",
      "Speed: 4.6ms preprocess, 137.8ms inference, 1.1ms postprocess per image at shape (1, 3, 384, 640)\n",
      "\n",
      "image 1/1 /home/ishant/Desktop/KeypointModelTest/New_test_img_2/images/right_side_view-20230307161432.jpg: 384x640 1 car, 100.9ms\n",
      "Speed: 3.4ms preprocess, 100.9ms inference, 2.2ms postprocess per image at shape (1, 3, 384, 640)\n",
      "\n"
     ]
    },
    {
     "name": "stdout",
     "output_type": "stream",
     "text": [
      "right_side_view-20230524174418.jpeg\n",
      "right_side_view-20230307161432.jpg\n"
     ]
    },
    {
     "name": "stderr",
     "output_type": "stream",
     "text": [
      "image 1/1 /home/ishant/Desktop/KeypointModelTest/New_test_img_2/images/rear_right_view-20230302145940.jpg: 512x640 3 cars, 131.8ms\n",
      "Speed: 4.8ms preprocess, 131.8ms inference, 1.3ms postprocess per image at shape (1, 3, 512, 640)\n",
      "\n",
      "image 1/1 /home/ishant/Desktop/KeypointModelTest/New_test_img_2/images/left_side_view-20230201172302.jpg: 480x640 4 cars, 99.4ms\n",
      "Speed: 3.8ms preprocess, 99.4ms inference, 0.9ms postprocess per image at shape (1, 3, 480, 640)\n",
      "\n"
     ]
    },
    {
     "name": "stdout",
     "output_type": "stream",
     "text": [
      "rear_right_view-20230302145940.jpg\n",
      "left_side_view-20230201172302.jpg\n"
     ]
    },
    {
     "name": "stderr",
     "output_type": "stream",
     "text": [
      "image 1/1 /home/ishant/Desktop/KeypointModelTest/New_test_img_2/images/cover_image-20230302155603.jpeg: 384x640 1 car, 120.2ms\n",
      "Speed: 4.0ms preprocess, 120.2ms inference, 1.2ms postprocess per image at shape (1, 3, 384, 640)\n",
      "\n",
      "image 1/1 /home/ishant/Desktop/KeypointModelTest/New_test_img_2/images/left_side_view-20230927134142.jpeg: 480x640 3 cars, 148.7ms\n"
     ]
    },
    {
     "name": "stdout",
     "output_type": "stream",
     "text": [
      "cover_image-20230302155603.jpeg\n"
     ]
    },
    {
     "name": "stderr",
     "output_type": "stream",
     "text": [
      "Speed: 11.9ms preprocess, 148.7ms inference, 3.0ms postprocess per image at shape (1, 3, 480, 640)\n",
      "\n",
      "image 1/1 /home/ishant/Desktop/KeypointModelTest/New_test_img_2/images/cover_image-20230612171440.jpeg: 480x640 5 cars, 148.6ms\n",
      "Speed: 4.6ms preprocess, 148.6ms inference, 1.6ms postprocess per image at shape (1, 3, 480, 640)\n"
     ]
    },
    {
     "name": "stdout",
     "output_type": "stream",
     "text": [
      "left_side_view-20230927134142.jpeg\n"
     ]
    },
    {
     "name": "stderr",
     "output_type": "stream",
     "text": [
      "\n",
      "image 1/1 /home/ishant/Desktop/KeypointModelTest/New_test_img_2/images/rear_left_view-20221223114117.jpeg: 480x640 3 cars, 127.2ms\n",
      "Speed: 4.1ms preprocess, 127.2ms inference, 1.3ms postprocess per image at shape (1, 3, 480, 640)\n"
     ]
    },
    {
     "name": "stdout",
     "output_type": "stream",
     "text": [
      "cover_image-20230612171440.jpeg\n"
     ]
    },
    {
     "name": "stderr",
     "output_type": "stream",
     "text": [
      "\n",
      "image 1/1 /home/ishant/Desktop/KeypointModelTest/New_test_img_2/images/cover_image-20231214125357.jpeg: 480x640 4 cars, 125.8ms\n",
      "Speed: 5.8ms preprocess, 125.8ms inference, 2.7ms postprocess per image at shape (1, 3, 480, 640)\n",
      "\n"
     ]
    },
    {
     "name": "stdout",
     "output_type": "stream",
     "text": [
      "rear_left_view-20221223114117.jpeg\n",
      "cover_image-20231214125357.jpeg\n"
     ]
    },
    {
     "name": "stderr",
     "output_type": "stream",
     "text": [
      "image 1/1 /home/ishant/Desktop/KeypointModelTest/New_test_img_2/images/rear_left_view-20230201172332.jpg: 480x640 1 car, 183.6ms\n",
      "Speed: 4.2ms preprocess, 183.6ms inference, 0.9ms postprocess per image at shape (1, 3, 480, 640)\n",
      "\n",
      "image 1/1 /home/ishant/Desktop/KeypointModelTest/New_test_img_2/images/cover_image-20230819134257.jpg: 480x640 1 car, 125.9ms\n",
      "Speed: 4.3ms preprocess, 125.9ms inference, 1.4ms postprocess per image at shape (1, 3, 480, 640)\n",
      "\n"
     ]
    },
    {
     "name": "stdout",
     "output_type": "stream",
     "text": [
      "rear_left_view-20230201172332.jpg\n",
      "cover_image-20230819134257.jpg\n"
     ]
    },
    {
     "name": "stderr",
     "output_type": "stream",
     "text": [
      "image 1/1 /home/ishant/Desktop/KeypointModelTest/New_test_img_2/images/right_side_view-20231202151746.jpeg: 480x640 3 cars, 125.9ms\n",
      "Speed: 3.2ms preprocess, 125.9ms inference, 1.2ms postprocess per image at shape (1, 3, 480, 640)\n",
      "\n",
      "image 1/1 /home/ishant/Desktop/KeypointModelTest/New_test_img_2/images/left_side_view-20230108161859.jpeg: 480x640 3 cars, 90.6ms\n",
      "Speed: 3.4ms preprocess, 90.6ms inference, 1.0ms postprocess per image at shape (1, 3, 480, 640)\n",
      "\n"
     ]
    },
    {
     "name": "stdout",
     "output_type": "stream",
     "text": [
      "right_side_view-20231202151746.jpeg\n",
      "left_side_view-20230108161859.jpeg\n"
     ]
    },
    {
     "name": "stderr",
     "output_type": "stream",
     "text": [
      "image 1/1 /home/ishant/Desktop/KeypointModelTest/New_test_img_2/images/right_side_view-20221210190611.jpeg: 480x640 1 car, 105.3ms\n",
      "Speed: 3.2ms preprocess, 105.3ms inference, 4.7ms postprocess per image at shape (1, 3, 480, 640)\n",
      "\n",
      "image 1/1 /home/ishant/Desktop/KeypointModelTest/New_test_img_2/images/rear_left_view-20230108161928.jpeg: 480x640 2 cars, 120.5ms\n",
      "Speed: 3.0ms preprocess, 120.5ms inference, 1.2ms postprocess per image at shape (1, 3, 480, 640)\n"
     ]
    },
    {
     "name": "stdout",
     "output_type": "stream",
     "text": [
      "right_side_view-20221210190611.jpeg\n"
     ]
    },
    {
     "name": "stderr",
     "output_type": "stream",
     "text": [
      "\n",
      "image 1/1 /home/ishant/Desktop/KeypointModelTest/New_test_img_2/images/cover_image-20221223114019.jpeg: 480x640 4 cars, 122.2ms\n",
      "Speed: 4.6ms preprocess, 122.2ms inference, 1.3ms postprocess per image at shape (1, 3, 480, 640)\n"
     ]
    },
    {
     "name": "stdout",
     "output_type": "stream",
     "text": [
      "rear_left_view-20230108161928.jpeg\n"
     ]
    },
    {
     "name": "stderr",
     "output_type": "stream",
     "text": [
      "\n",
      "image 1/1 /home/ishant/Desktop/KeypointModelTest/New_test_img_2/images/rear_left_view-20230705185120.jpeg: 512x640 2 cars, 139.6ms\n",
      "Speed: 3.7ms preprocess, 139.6ms inference, 3.0ms postprocess per image at shape (1, 3, 512, 640)\n"
     ]
    },
    {
     "name": "stdout",
     "output_type": "stream",
     "text": [
      "cover_image-20221223114019.jpeg\n"
     ]
    },
    {
     "name": "stderr",
     "output_type": "stream",
     "text": [
      "\n",
      "image 1/1 /home/ishant/Desktop/KeypointModelTest/New_test_img_2/images/rear_right_view-20230524174509.jpeg: 384x640 4 cars, 89.7ms\n",
      "Speed: 2.7ms preprocess, 89.7ms inference, 1.1ms postprocess per image at shape (1, 3, 384, 640)\n",
      "\n"
     ]
    },
    {
     "name": "stdout",
     "output_type": "stream",
     "text": [
      "rear_left_view-20230705185120.jpeg\n",
      "rear_right_view-20230524174509.jpeg\n"
     ]
    },
    {
     "name": "stderr",
     "output_type": "stream",
     "text": [
      "image 1/1 /home/ishant/Desktop/KeypointModelTest/New_test_img_2/images/cover_image-20230221182537.jpeg: 480x640 5 cars, 94.5ms\n",
      "Speed: 2.7ms preprocess, 94.5ms inference, 1.6ms postprocess per image at shape (1, 3, 480, 640)\n",
      "\n",
      "image 1/1 /home/ishant/Desktop/KeypointModelTest/New_test_img_2/images/right_side_view-20230108161912.jpeg: 480x640 2 cars, 104.8ms\n",
      "Speed: 4.4ms preprocess, 104.8ms inference, 1.5ms postprocess per image at shape (1, 3, 480, 640)\n"
     ]
    },
    {
     "name": "stdout",
     "output_type": "stream",
     "text": [
      "cover_image-20230221182537.jpeg\n",
      "right_side_view-20230108161912.jpeg\n"
     ]
    },
    {
     "name": "stderr",
     "output_type": "stream",
     "text": [
      "\n",
      "image 1/1 /home/ishant/Desktop/KeypointModelTest/New_test_img_2/images/left_side_view-20230307161424.jpg: 384x640 1 car, 95.7ms\n",
      "Speed: 2.6ms preprocess, 95.7ms inference, 3.6ms postprocess per image at shape (1, 3, 384, 640)\n",
      "\n",
      "image 1/1 /home/ishant/Desktop/KeypointModelTest/New_test_img_2/images/left_side_view-20230302155640.jpeg: 384x640 1 car, 73.7ms\n",
      "Speed: 3.8ms preprocess, 73.7ms inference, 0.8ms postprocess per image at shape (1, 3, 384, 640)\n",
      "\n"
     ]
    },
    {
     "name": "stdout",
     "output_type": "stream",
     "text": [
      "left_side_view-20230307161424.jpg\n",
      "left_side_view-20230302155640.jpeg\n"
     ]
    },
    {
     "name": "stderr",
     "output_type": "stream",
     "text": [
      "image 1/1 /home/ishant/Desktop/KeypointModelTest/New_test_img_2/images/rear_right_view-20230307161515.jpg: 384x640 1 car, 98.7ms\n",
      "Speed: 2.7ms preprocess, 98.7ms inference, 1.7ms postprocess per image at shape (1, 3, 384, 640)\n",
      "\n",
      "image 1/1 /home/ishant/Desktop/KeypointModelTest/New_test_img_2/images/left_side_view-20230221182558.jpeg: 480x640 2 cars, 112.4ms\n",
      "Speed: 4.8ms preprocess, 112.4ms inference, 1.0ms postprocess per image at shape (1, 3, 480, 640)\n",
      "\n"
     ]
    },
    {
     "name": "stdout",
     "output_type": "stream",
     "text": [
      "rear_right_view-20230307161515.jpg\n",
      "left_side_view-20230221182558.jpeg\n"
     ]
    },
    {
     "name": "stderr",
     "output_type": "stream",
     "text": [
      "image 1/1 /home/ishant/Desktop/KeypointModelTest/New_test_img_2/images/left_side_view-20230705185101.jpeg: 480x640 4 cars, 105.0ms\n",
      "Speed: 4.0ms preprocess, 105.0ms inference, 1.1ms postprocess per image at shape (1, 3, 480, 640)\n",
      "\n",
      "image 1/1 /home/ishant/Desktop/KeypointModelTest/New_test_img_2/images/right_side_view-20221223114105.jpeg: 480x640 3 cars, 128.9ms\n",
      "Speed: 4.0ms preprocess, 128.9ms inference, 1.9ms postprocess per image at shape (1, 3, 480, 640)\n"
     ]
    },
    {
     "name": "stdout",
     "output_type": "stream",
     "text": [
      "left_side_view-20230705185101.jpeg\n"
     ]
    },
    {
     "name": "stderr",
     "output_type": "stream",
     "text": [
      "\n"
     ]
    },
    {
     "name": "stdout",
     "output_type": "stream",
     "text": [
      "right_side_view-20221223114105.jpeg\n",
      "No keypoints detected in right_side_view-20221223114105.jpeg\n"
     ]
    },
    {
     "name": "stderr",
     "output_type": "stream",
     "text": [
      "image 1/1 /home/ishant/Desktop/KeypointModelTest/New_test_img_2/images/cover_image-20230705185042.jpeg: 480x640 4 cars, 127.3ms\n",
      "Speed: 5.2ms preprocess, 127.3ms inference, 3.0ms postprocess per image at shape (1, 3, 480, 640)\n",
      "\n",
      "image 1/1 /home/ishant/Desktop/KeypointModelTest/New_test_img_2/images/front_right_view-20230505154942.jpg: 480x640 1 car, 114.9ms\n",
      "Speed: 4.9ms preprocess, 114.9ms inference, 2.4ms postprocess per image at shape (1, 3, 480, 640)\n",
      "\n"
     ]
    },
    {
     "name": "stdout",
     "output_type": "stream",
     "text": [
      "cover_image-20230705185042.jpeg\n",
      "front_right_view-20230505154942.jpg\n"
     ]
    },
    {
     "name": "stderr",
     "output_type": "stream",
     "text": [
      "image 1/1 /home/ishant/Desktop/KeypointModelTest/New_test_img_2/images/right_side_view-20230505154937.jpg: 480x640 3 cars, 117.9ms\n",
      "Speed: 3.7ms preprocess, 117.9ms inference, 0.9ms postprocess per image at shape (1, 3, 480, 640)\n",
      "\n",
      "image 1/1 /home/ishant/Desktop/KeypointModelTest/New_test_img_2/images/rear_right_view-20231205165549.jpeg: 480x640 1 car, 108.7ms\n",
      "Speed: 4.1ms preprocess, 108.7ms inference, 1.1ms postprocess per image at shape (1, 3, 480, 640)\n"
     ]
    },
    {
     "name": "stdout",
     "output_type": "stream",
     "text": [
      "right_side_view-20230505154937.jpg\n"
     ]
    },
    {
     "name": "stderr",
     "output_type": "stream",
     "text": [
      "\n",
      "image 1/1 /home/ishant/Desktop/KeypointModelTest/New_test_img_2/images/rear_left_view-20230302145917.jpg: 512x640 3 cars, 117.2ms\n",
      "Speed: 3.8ms preprocess, 117.2ms inference, 2.2ms postprocess per image at shape (1, 3, 512, 640)\n",
      "\n"
     ]
    },
    {
     "name": "stdout",
     "output_type": "stream",
     "text": [
      "rear_right_view-20231205165549.jpeg\n",
      "rear_left_view-20230302145917.jpg\n"
     ]
    },
    {
     "name": "stderr",
     "output_type": "stream",
     "text": [
      "image 1/1 /home/ishant/Desktop/KeypointModelTest/New_test_img_2/images/rear_right_view-20230424151441.jpg: 512x640 2 cars, 119.4ms\n",
      "Speed: 3.8ms preprocess, 119.4ms inference, 1.2ms postprocess per image at shape (1, 3, 512, 640)\n",
      "\n",
      "image 1/1 /home/ishant/Desktop/KeypointModelTest/New_test_img_2/images/left_side_view-20221223114100.jpeg: 480x640 2 cars, 94.6ms\n",
      "Speed: 4.7ms preprocess, 94.6ms inference, 1.0ms postprocess per image at shape (1, 3, 480, 640)\n"
     ]
    },
    {
     "name": "stdout",
     "output_type": "stream",
     "text": [
      "rear_right_view-20230424151441.jpg\n",
      "left_side_view-20221223114100.jpeg\n",
      "No keypoints detected in left_side_view-20221223114100.jpeg\n"
     ]
    },
    {
     "name": "stderr",
     "output_type": "stream",
     "text": [
      "\n",
      "image 1/1 /home/ishant/Desktop/KeypointModelTest/New_test_img_2/images/front_right_view-20231214125444.jpeg: 480x640 3 cars, 78.4ms\n",
      "Speed: 3.9ms preprocess, 78.4ms inference, 1.7ms postprocess per image at shape (1, 3, 480, 640)\n",
      "\n",
      "image 1/1 /home/ishant/Desktop/KeypointModelTest/New_test_img_2/images/cover_image-20230822191933.jpeg: 480x640 3 cars, 91.2ms\n",
      "Speed: 3.2ms preprocess, 91.2ms inference, 1.2ms postprocess per image at shape (1, 3, 480, 640)\n",
      "\n"
     ]
    },
    {
     "name": "stdout",
     "output_type": "stream",
     "text": [
      "front_right_view-20231214125444.jpeg\n",
      "cover_image-20230822191933.jpeg\n"
     ]
    },
    {
     "name": "stderr",
     "output_type": "stream",
     "text": [
      "image 1/1 /home/ishant/Desktop/KeypointModelTest/New_test_img_2/images/cover_image-20231205165445.jpeg: 480x640 3 cars, 79.0ms\n",
      "Speed: 3.0ms preprocess, 79.0ms inference, 0.9ms postprocess per image at shape (1, 3, 480, 640)\n",
      "\n",
      "image 1/1 /home/ishant/Desktop/KeypointModelTest/New_test_img_2/images/rear_left_view-20230424151433.jpg: 512x640 3 cars, 98.8ms\n",
      "Speed: 4.0ms preprocess, 98.8ms inference, 2.0ms postprocess per image at shape (1, 3, 512, 640)\n",
      "\n"
     ]
    },
    {
     "name": "stdout",
     "output_type": "stream",
     "text": [
      "cover_image-20231205165445.jpeg\n",
      "rear_left_view-20230424151433.jpg\n"
     ]
    },
    {
     "name": "stderr",
     "output_type": "stream",
     "text": [
      "image 1/1 /home/ishant/Desktop/KeypointModelTest/New_test_img_2/images/left_side_view-20240103184824.jpg: 480x640 1 car, 94.2ms\n",
      "Speed: 2.6ms preprocess, 94.2ms inference, 1.2ms postprocess per image at shape (1, 3, 480, 640)\n",
      "\n",
      "image 1/1 /home/ishant/Desktop/KeypointModelTest/New_test_img_2/images/right_side_view-20230302145952.jpg: 512x640 2 cars, 95.6ms\n",
      "Speed: 3.2ms preprocess, 95.6ms inference, 1.4ms postprocess per image at shape (1, 3, 512, 640)\n",
      "\n"
     ]
    },
    {
     "name": "stdout",
     "output_type": "stream",
     "text": [
      "left_side_view-20240103184824.jpg\n",
      "right_side_view-20230302145952.jpg\n"
     ]
    },
    {
     "name": "stderr",
     "output_type": "stream",
     "text": [
      "image 1/1 /home/ishant/Desktop/KeypointModelTest/New_test_img_2/images/right_side_view-20230705185113.jpeg: 480x640 2 cars, 102.7ms\n",
      "Speed: 3.5ms preprocess, 102.7ms inference, 1.1ms postprocess per image at shape (1, 3, 480, 640)\n",
      "\n"
     ]
    },
    {
     "name": "stdout",
     "output_type": "stream",
     "text": [
      "right_side_view-20230705185113.jpeg\n"
     ]
    },
    {
     "name": "stderr",
     "output_type": "stream",
     "text": [
      "image 1/1 /home/ishant/Desktop/KeypointModelTest/New_test_img_2/images/left_side_view-20230524174353.jpeg: 384x640 2 cars, 470.2ms\n",
      "Speed: 2.9ms preprocess, 470.2ms inference, 2.2ms postprocess per image at shape (1, 3, 384, 640)\n",
      "\n",
      "image 1/1 /home/ishant/Desktop/KeypointModelTest/New_test_img_2/images/right_side_view-20231214125428.jpeg: 480x640 2 cars, 103.5ms\n",
      "Speed: 3.8ms preprocess, 103.5ms inference, 2.4ms postprocess per image at shape (1, 3, 480, 640)\n",
      "\n"
     ]
    },
    {
     "name": "stdout",
     "output_type": "stream",
     "text": [
      "left_side_view-20230524174353.jpeg\n",
      "right_side_view-20231214125428.jpeg\n"
     ]
    },
    {
     "name": "stderr",
     "output_type": "stream",
     "text": [
      "image 1/1 /home/ishant/Desktop/KeypointModelTest/New_test_img_2/images/rear_left_view-20230524174505.jpeg: 384x640 5 cars, 86.0ms\n",
      "Speed: 3.5ms preprocess, 86.0ms inference, 0.7ms postprocess per image at shape (1, 3, 384, 640)\n",
      "\n",
      "image 1/1 /home/ishant/Desktop/KeypointModelTest/New_test_img_2/images/front_right_view-20230201172323.jpg: 480x640 1 car, 92.3ms\n",
      "Speed: 3.6ms preprocess, 92.3ms inference, 1.9ms postprocess per image at shape (1, 3, 480, 640)\n",
      "\n"
     ]
    },
    {
     "name": "stdout",
     "output_type": "stream",
     "text": [
      "rear_left_view-20230524174505.jpeg\n",
      "front_right_view-20230201172323.jpg\n"
     ]
    },
    {
     "name": "stderr",
     "output_type": "stream",
     "text": [
      "image 1/1 /home/ishant/Desktop/KeypointModelTest/New_test_img_2/images/cover_image-20230302145830.jpg: 512x640 3 cars, 177.2ms\n",
      "Speed: 5.8ms preprocess, 177.2ms inference, 1.6ms postprocess per image at shape (1, 3, 512, 640)\n",
      "\n",
      "image 1/1 /home/ishant/Desktop/KeypointModelTest/New_test_img_2/images/right_side_view-20230201172315.jpg: 480x640 2 cars, 96.1ms\n",
      "Speed: 4.1ms preprocess, 96.1ms inference, 1.0ms postprocess per image at shape (1, 3, 480, 640)\n",
      "\n"
     ]
    },
    {
     "name": "stdout",
     "output_type": "stream",
     "text": [
      "cover_image-20230302145830.jpg\n",
      "right_side_view-20230201172315.jpg\n"
     ]
    },
    {
     "name": "stderr",
     "output_type": "stream",
     "text": [
      "image 1/1 /home/ishant/Desktop/KeypointModelTest/New_test_img_2/images/front_right_view-20230302150003.jpg: 512x640 2 cars, 103.9ms\n",
      "Speed: 5.4ms preprocess, 103.9ms inference, 1.2ms postprocess per image at shape (1, 3, 512, 640)\n",
      "\n",
      "image 1/1 /home/ishant/Desktop/KeypointModelTest/New_test_img_2/images/rear_right_view-20230822192049.jpeg: 480x640 1 car, 87.6ms\n",
      "Speed: 2.9ms preprocess, 87.6ms inference, 0.8ms postprocess per image at shape (1, 3, 480, 640)\n",
      "\n"
     ]
    },
    {
     "name": "stdout",
     "output_type": "stream",
     "text": [
      "front_right_view-20230302150003.jpg\n",
      "rear_right_view-20230822192049.jpeg\n"
     ]
    },
    {
     "name": "stderr",
     "output_type": "stream",
     "text": [
      "image 1/1 /home/ishant/Desktop/KeypointModelTest/New_test_img_2/images/left_side_view-20231214125416.jpeg: 480x640 3 cars, 123.0ms\n",
      "Speed: 2.7ms preprocess, 123.0ms inference, 1.2ms postprocess per image at shape (1, 3, 480, 640)\n",
      "\n",
      "image 1/1 /home/ishant/Desktop/KeypointModelTest/New_test_img_2/images/wheels_tyres-20230612171643.jpeg: 480x640 2 cars, 94.3ms\n",
      "Speed: 4.6ms preprocess, 94.3ms inference, 1.2ms postprocess per image at shape (1, 3, 480, 640)\n",
      "\n"
     ]
    },
    {
     "name": "stdout",
     "output_type": "stream",
     "text": [
      "left_side_view-20231214125416.jpeg\n",
      "wheels_tyres-20230612171643.jpeg\n",
      "No keypoints detected in wheels_tyres-20230612171643.jpeg\n"
     ]
    },
    {
     "name": "stderr",
     "output_type": "stream",
     "text": [
      "image 1/1 /home/ishant/Desktop/KeypointModelTest/New_test_img_2/images/left_side_view-20231205165505.jpeg: 480x640 2 cars, 114.3ms\n",
      "Speed: 3.4ms preprocess, 114.3ms inference, 1.1ms postprocess per image at shape (1, 3, 480, 640)\n",
      "\n",
      "image 1/1 /home/ishant/Desktop/KeypointModelTest/New_test_img_2/images/rear_right_view-20231214125451.jpeg: 480x640 3 cars, 83.5ms\n",
      "Speed: 2.7ms preprocess, 83.5ms inference, 1.9ms postprocess per image at shape (1, 3, 480, 640)\n",
      "\n"
     ]
    },
    {
     "name": "stdout",
     "output_type": "stream",
     "text": [
      "left_side_view-20231205165505.jpeg\n",
      "rear_right_view-20231214125451.jpeg\n"
     ]
    },
    {
     "name": "stderr",
     "output_type": "stream",
     "text": [
      "image 1/1 /home/ishant/Desktop/KeypointModelTest/New_test_img_2/images/rear_right_view-20240103184924.jpg: 480x640 1 car, 95.0ms\n",
      "Speed: 2.4ms preprocess, 95.0ms inference, 1.0ms postprocess per image at shape (1, 3, 480, 640)\n",
      "\n",
      "image 1/1 /home/ishant/Desktop/KeypointModelTest/New_test_img_2/images/rear_left_view-20231202151756.jpeg: 480x640 3 cars, 100.8ms\n",
      "Speed: 3.1ms preprocess, 100.8ms inference, 1.0ms postprocess per image at shape (1, 3, 480, 640)\n",
      "\n"
     ]
    },
    {
     "name": "stdout",
     "output_type": "stream",
     "text": [
      "rear_right_view-20240103184924.jpg\n",
      "rear_left_view-20231202151756.jpeg\n"
     ]
    },
    {
     "name": "stderr",
     "output_type": "stream",
     "text": [
      "image 1/1 /home/ishant/Desktop/KeypointModelTest/New_test_img_2/images/rear_left_view-20240103184914.jpg: 480x640 1 car, 90.9ms\n",
      "Speed: 3.7ms preprocess, 90.9ms inference, 1.9ms postprocess per image at shape (1, 3, 480, 640)\n",
      "\n",
      "image 1/1 /home/ishant/Desktop/KeypointModelTest/New_test_img_2/images/rear_left_view-20231214125438.jpeg: 480x640 2 cars, 81.7ms\n",
      "Speed: 2.3ms preprocess, 81.7ms inference, 0.9ms postprocess per image at shape (1, 3, 480, 640)\n",
      "\n"
     ]
    },
    {
     "name": "stdout",
     "output_type": "stream",
     "text": [
      "rear_left_view-20240103184914.jpg\n",
      "rear_left_view-20231214125438.jpeg\n"
     ]
    },
    {
     "name": "stderr",
     "output_type": "stream",
     "text": [
      "image 1/1 /home/ishant/Desktop/KeypointModelTest/New_test_img_2/images/left_side_view-20230122230433.jpeg: 480x640 4 cars, 76.7ms\n",
      "Speed: 2.7ms preprocess, 76.7ms inference, 1.0ms postprocess per image at shape (1, 3, 480, 640)\n",
      "\n",
      "image 1/1 /home/ishant/Desktop/KeypointModelTest/New_test_img_2/images/right_side_view-20230113131436.jpeg: 480x640 3 cars, 142.3ms\n",
      "Speed: 6.9ms preprocess, 142.3ms inference, 2.3ms postprocess per image at shape (1, 3, 480, 640)\n"
     ]
    },
    {
     "name": "stdout",
     "output_type": "stream",
     "text": [
      "left_side_view-20230122230433.jpeg\n"
     ]
    },
    {
     "name": "stderr",
     "output_type": "stream",
     "text": [
      "\n",
      "image 1/1 /home/ishant/Desktop/KeypointModelTest/New_test_img_2/images/rear_left_view-20230612171549.jpeg: 480x640 3 cars, 96.2ms\n",
      "Speed: 2.9ms preprocess, 96.2ms inference, 1.0ms postprocess per image at shape (1, 3, 480, 640)\n",
      "\n"
     ]
    },
    {
     "name": "stdout",
     "output_type": "stream",
     "text": [
      "right_side_view-20230113131436.jpeg\n",
      "rear_left_view-20230612171549.jpeg\n"
     ]
    },
    {
     "name": "stderr",
     "output_type": "stream",
     "text": [
      "image 1/1 /home/ishant/Desktop/KeypointModelTest/New_test_img_2/images/front_right_view-20240103184839.jpg: 480x640 1 car, 246.0ms\n",
      "Speed: 37.2ms preprocess, 246.0ms inference, 1.0ms postprocess per image at shape (1, 3, 480, 640)\n",
      "\n",
      "image 1/1 /home/ishant/Desktop/KeypointModelTest/New_test_img_2/images/rear_left_view-20231205165530.jpeg: 480x640 2 cars, 85.4ms\n",
      "Speed: 3.2ms preprocess, 85.4ms inference, 0.9ms postprocess per image at shape (1, 3, 480, 640)\n",
      "\n"
     ]
    },
    {
     "name": "stdout",
     "output_type": "stream",
     "text": [
      "front_right_view-20240103184839.jpg\n",
      "rear_left_view-20231205165530.jpeg\n"
     ]
    },
    {
     "name": "stderr",
     "output_type": "stream",
     "text": [
      "image 1/1 /home/ishant/Desktop/KeypointModelTest/New_test_img_2/images/left_side_view-20221210190605.jpeg: 480x640 2 cars, 78.1ms\n",
      "Speed: 2.7ms preprocess, 78.1ms inference, 1.3ms postprocess per image at shape (1, 3, 480, 640)\n",
      "\n",
      "image 1/1 /home/ishant/Desktop/KeypointModelTest/New_test_img_2/images/right_side_view-20230612171532.jpeg: 480x640 2 cars, 84.8ms\n",
      "Speed: 3.1ms preprocess, 84.8ms inference, 1.0ms postprocess per image at shape (1, 3, 480, 640)\n",
      "\n"
     ]
    },
    {
     "name": "stdout",
     "output_type": "stream",
     "text": [
      "left_side_view-20221210190605.jpeg\n",
      "right_side_view-20230612171532.jpeg\n",
      "No keypoints detected in right_side_view-20230612171532.jpeg\n"
     ]
    },
    {
     "name": "stderr",
     "output_type": "stream",
     "text": [
      "image 1/1 /home/ishant/Desktop/KeypointModelTest/New_test_img_2/images/front_right_view-20230927134206.jpeg: 640x480 3 cars, 97.1ms\n",
      "Speed: 2.6ms preprocess, 97.1ms inference, 1.0ms postprocess per image at shape (1, 3, 640, 480)\n",
      "\n",
      "image 1/1 /home/ishant/Desktop/KeypointModelTest/New_test_img_2/images/rear_right_view-20230612171623.jpeg: 480x640 3 cars, 148.5ms\n",
      "Speed: 3.8ms preprocess, 148.5ms inference, 1.2ms postprocess per image at shape (1, 3, 480, 640)\n"
     ]
    },
    {
     "name": "stdout",
     "output_type": "stream",
     "text": [
      "front_right_view-20230927134206.jpeg\n",
      "No keypoints detected in front_right_view-20230927134206.jpeg\n",
      "rear_right_view-20230612171623.jpeg\n"
     ]
    },
    {
     "name": "stderr",
     "output_type": "stream",
     "text": [
      "\n",
      "image 1/1 /home/ishant/Desktop/KeypointModelTest/New_test_img_2/images/cover_image-20230505154915.jpg: 480x640 1 car, 73.7ms\n",
      "Speed: 2.6ms preprocess, 73.7ms inference, 0.7ms postprocess per image at shape (1, 3, 480, 640)\n",
      "\n",
      "image 1/1 /home/ishant/Desktop/KeypointModelTest/New_test_img_2/images/left_side_view-20230822191952.jpeg: 480x640 4 cars, 75.5ms\n",
      "Speed: 2.5ms preprocess, 75.5ms inference, 0.7ms postprocess per image at shape (1, 3, 480, 640)\n",
      "\n"
     ]
    },
    {
     "name": "stdout",
     "output_type": "stream",
     "text": [
      "cover_image-20230505154915.jpg\n",
      "left_side_view-20230822191952.jpeg\n"
     ]
    },
    {
     "name": "stderr",
     "output_type": "stream",
     "text": [
      "image 1/1 /home/ishant/Desktop/KeypointModelTest/New_test_img_2/images/cover_image-20230927134120.jpeg: 640x480 2 cars, 79.3ms\n",
      "Speed: 3.1ms preprocess, 79.3ms inference, 0.8ms postprocess per image at shape (1, 3, 640, 480)\n",
      "\n",
      "image 1/1 /home/ishant/Desktop/KeypointModelTest/New_test_img_2/images/cover_image-20230201172212.jpg: 480x640 2 cars, 76.2ms\n",
      "Speed: 2.8ms preprocess, 76.2ms inference, 0.7ms postprocess per image at shape (1, 3, 480, 640)\n",
      "\n"
     ]
    },
    {
     "name": "stdout",
     "output_type": "stream",
     "text": [
      "cover_image-20230927134120.jpeg\n",
      "cover_image-20230201172212.jpg\n"
     ]
    },
    {
     "name": "stderr",
     "output_type": "stream",
     "text": [
      "image 1/1 /home/ishant/Desktop/KeypointModelTest/New_test_img_2/images/rear_right_view-20230221182634.jpeg: 480x640 1 car, 75.9ms\n",
      "Speed: 2.7ms preprocess, 75.9ms inference, 0.8ms postprocess per image at shape (1, 3, 480, 640)\n",
      "\n",
      "image 1/1 /home/ishant/Desktop/KeypointModelTest/New_test_img_2/images/right_side_view-20231205165516.jpeg: 480x640 2 cars, 64.8ms\n",
      "Speed: 2.9ms preprocess, 64.8ms inference, 0.9ms postprocess per image at shape (1, 3, 480, 640)\n",
      "\n"
     ]
    },
    {
     "name": "stdout",
     "output_type": "stream",
     "text": [
      "rear_right_view-20230221182634.jpeg\n",
      "right_side_view-20231205165516.jpeg\n"
     ]
    },
    {
     "name": "stderr",
     "output_type": "stream",
     "text": [
      "image 1/1 /home/ishant/Desktop/KeypointModelTest/New_test_img_2/images/rear_right_view-20230705185137.jpeg: 512x640 2 cars, 69.4ms\n",
      "Speed: 2.4ms preprocess, 69.4ms inference, 1.5ms postprocess per image at shape (1, 3, 512, 640)\n",
      "\n",
      "image 1/1 /home/ishant/Desktop/KeypointModelTest/New_test_img_2/images/rear_left_view-20221210190621.jpeg: 480x640 2 cars, 68.6ms\n",
      "Speed: 2.2ms preprocess, 68.6ms inference, 1.0ms postprocess per image at shape (1, 3, 480, 640)\n",
      "\n"
     ]
    },
    {
     "name": "stdout",
     "output_type": "stream",
     "text": [
      "rear_right_view-20230705185137.jpeg\n",
      "rear_left_view-20221210190621.jpeg\n"
     ]
    },
    {
     "name": "stderr",
     "output_type": "stream",
     "text": [
      "image 1/1 /home/ishant/Desktop/KeypointModelTest/New_test_img_2/images/front_right_view-20231205165540.jpeg: 480x640 3 cars, 59.8ms\n",
      "Speed: 2.9ms preprocess, 59.8ms inference, 1.1ms postprocess per image at shape (1, 3, 480, 640)\n",
      "\n",
      "image 1/1 /home/ishant/Desktop/KeypointModelTest/New_test_img_2/images/right_side_view-20230221182606.jpeg: 480x640 3 cars, 72.6ms\n",
      "Speed: 2.3ms preprocess, 72.6ms inference, 1.3ms postprocess per image at shape (1, 3, 480, 640)\n",
      "\n"
     ]
    },
    {
     "name": "stdout",
     "output_type": "stream",
     "text": [
      "front_right_view-20231205165540.jpeg\n",
      "right_side_view-20230221182606.jpeg\n",
      "No keypoints detected in right_side_view-20230221182606.jpeg\n"
     ]
    },
    {
     "name": "stderr",
     "output_type": "stream",
     "text": [
      "image 1/1 /home/ishant/Desktop/KeypointModelTest/New_test_img_2/images/rear_right_view-20230201172342.jpg: 480x640 1 car, 67.3ms\n",
      "Speed: 2.6ms preprocess, 67.3ms inference, 1.0ms postprocess per image at shape (1, 3, 480, 640)\n",
      "\n",
      "image 1/1 /home/ishant/Desktop/KeypointModelTest/New_test_img_2/images/rear_right_view-20230819134354.jpg: 480x640 1 car, 82.9ms\n",
      "Speed: 8.7ms preprocess, 82.9ms inference, 0.8ms postprocess per image at shape (1, 3, 480, 640)\n",
      "\n"
     ]
    },
    {
     "name": "stdout",
     "output_type": "stream",
     "text": [
      "rear_right_view-20230201172342.jpg\n",
      "rear_right_view-20230819134354.jpg\n"
     ]
    },
    {
     "name": "stderr",
     "output_type": "stream",
     "text": [
      "image 1/1 /home/ishant/Desktop/KeypointModelTest/New_test_img_2/images/cover_image-20230122230340.jpeg: 480x640 4 cars, 69.4ms\n",
      "Speed: 2.7ms preprocess, 69.4ms inference, 1.1ms postprocess per image at shape (1, 3, 480, 640)\n",
      "\n",
      "image 1/1 /home/ishant/Desktop/KeypointModelTest/New_test_img_2/images/right_side_view-20230424151418.jpg: 512x640 1 car, 117.7ms\n",
      "Speed: 2.3ms preprocess, 117.7ms inference, 2.6ms postprocess per image at shape (1, 3, 512, 640)\n",
      "\n"
     ]
    },
    {
     "name": "stdout",
     "output_type": "stream",
     "text": [
      "cover_image-20230122230340.jpeg\n",
      "right_side_view-20230424151418.jpg\n"
     ]
    },
    {
     "name": "stderr",
     "output_type": "stream",
     "text": [
      "image 1/1 /home/ishant/Desktop/KeypointModelTest/New_test_img_2/images/rear_left_view-20230221182616.jpeg: 480x640 3 cars, 135.8ms\n",
      "Speed: 5.7ms preprocess, 135.8ms inference, 0.9ms postprocess per image at shape (1, 3, 480, 640)\n",
      "\n",
      "image 1/1 /home/ishant/Desktop/KeypointModelTest/New_test_img_2/images/front_right_view-20231202151806.jpeg: 480x640 1 car, 86.2ms\n",
      "Speed: 2.9ms preprocess, 86.2ms inference, 0.9ms postprocess per image at shape (1, 3, 480, 640)\n",
      "\n"
     ]
    },
    {
     "name": "stdout",
     "output_type": "stream",
     "text": [
      "rear_left_view-20230221182616.jpeg\n",
      "front_right_view-20231202151806.jpeg\n"
     ]
    },
    {
     "name": "stderr",
     "output_type": "stream",
     "text": [
      "image 1/1 /home/ishant/Desktop/KeypointModelTest/New_test_img_2/images/left_side_view-20230113131414.jpeg: 480x640 4 cars, 72.9ms\n",
      "Speed: 2.4ms preprocess, 72.9ms inference, 1.3ms postprocess per image at shape (1, 3, 480, 640)\n",
      "\n",
      "image 1/1 /home/ishant/Desktop/KeypointModelTest/New_test_img_2/images/rear_left_view-20230307161503.jpg: 384x640 1 car, 54.7ms\n",
      "Speed: 2.6ms preprocess, 54.7ms inference, 0.7ms postprocess per image at shape (1, 3, 384, 640)\n",
      "\n",
      "image 1/1 /home/ishant/Desktop/KeypointModelTest/New_test_img_2/images/front_right_view-20230122230835.jpeg: 480x640 1 car, 71.8ms\n",
      "Speed: 2.9ms preprocess, 71.8ms inference, 0.7ms postprocess per image at shape (1, 3, 480, 640)\n"
     ]
    },
    {
     "name": "stdout",
     "output_type": "stream",
     "text": [
      "left_side_view-20230113131414.jpeg\n",
      "rear_left_view-20230307161503.jpg\n"
     ]
    },
    {
     "name": "stderr",
     "output_type": "stream",
     "text": [
      "\n",
      "image 1/1 /home/ishant/Desktop/KeypointModelTest/New_test_img_2/images/cover_image-20230424151340.jpg: 512x640 1 car, 73.3ms\n",
      "Speed: 2.4ms preprocess, 73.3ms inference, 1.4ms postprocess per image at shape (1, 3, 512, 640)\n",
      "\n"
     ]
    },
    {
     "name": "stdout",
     "output_type": "stream",
     "text": [
      "front_right_view-20230122230835.jpeg\n",
      "cover_image-20230424151340.jpg\n"
     ]
    },
    {
     "name": "stderr",
     "output_type": "stream",
     "text": [
      "image 1/1 /home/ishant/Desktop/KeypointModelTest/New_test_img_2/images/rear_left_view-20230505154947.jpg: 480x640 2 cars, 80.3ms\n",
      "Speed: 2.3ms preprocess, 80.3ms inference, 1.1ms postprocess per image at shape (1, 3, 480, 640)\n",
      "\n",
      "image 1/1 /home/ishant/Desktop/KeypointModelTest/New_test_img_2/images/left_side_view-20231202151741.jpeg: 480x640 2 cars, 139.7ms\n",
      "Speed: 4.9ms preprocess, 139.7ms inference, 1.3ms postprocess per image at shape (1, 3, 480, 640)\n"
     ]
    },
    {
     "name": "stdout",
     "output_type": "stream",
     "text": [
      "rear_left_view-20230505154947.jpg\n"
     ]
    },
    {
     "name": "stderr",
     "output_type": "stream",
     "text": [
      "\n",
      "image 1/1 /home/ishant/Desktop/KeypointModelTest/New_test_img_2/images/rear_right_view-20230927134215.jpeg: 640x480 5 cars, 90.1ms\n",
      "Speed: 2.4ms preprocess, 90.1ms inference, 1.4ms postprocess per image at shape (1, 3, 640, 480)\n",
      "\n"
     ]
    },
    {
     "name": "stdout",
     "output_type": "stream",
     "text": [
      "left_side_view-20231202151741.jpeg\n",
      "rear_right_view-20230927134215.jpeg\n"
     ]
    },
    {
     "name": "stderr",
     "output_type": "stream",
     "text": [
      "image 1/1 /home/ishant/Desktop/KeypointModelTest/New_test_img_2/images/right_side_view-20230927134146.jpeg: 480x640 4 cars, 66.7ms\n",
      "Speed: 2.3ms preprocess, 66.7ms inference, 0.7ms postprocess per image at shape (1, 3, 480, 640)\n",
      "\n",
      "image 1/1 /home/ishant/Desktop/KeypointModelTest/New_test_img_2/images/PART_1477528098494460.jpg: 384x640 1 car, 57.4ms\n",
      "Speed: 2.4ms preprocess, 57.4ms inference, 1.0ms postprocess per image at shape (1, 3, 384, 640)\n",
      "\n",
      "image 1/1 /home/ishant/Desktop/KeypointModelTest/New_test_img_2/images/PART_1477534685641985.jpg: 480x640 3 cars, 60.2ms\n",
      "Speed: 2.2ms preprocess, 60.2ms inference, 1.0ms postprocess per image at shape (1, 3, 480, 640)\n",
      "\n"
     ]
    },
    {
     "name": "stdout",
     "output_type": "stream",
     "text": [
      "right_side_view-20230927134146.jpeg\n",
      "No keypoints detected in right_side_view-20230927134146.jpeg\n",
      "PART_1477528098494460.jpg\n",
      "PART_1477534685641985.jpg\n",
      "No keypoints detected in PART_1477534685641985.jpg\n"
     ]
    },
    {
     "name": "stderr",
     "output_type": "stream",
     "text": [
      "image 1/1 /home/ishant/Desktop/KeypointModelTest/New_test_img_2/images/in642120231213085757-3.jpg: 384x640 3 cars, 59.5ms\n",
      "Speed: 1.5ms preprocess, 59.5ms inference, 0.9ms postprocess per image at shape (1, 3, 384, 640)\n",
      "\n",
      "image 1/1 /home/ishant/Desktop/KeypointModelTest/New_test_img_2/images/PART_1481212012786903.jpg: 448x640 1 car, 65.2ms\n",
      "Speed: 3.4ms preprocess, 65.2ms inference, 1.1ms postprocess per image at shape (1, 3, 448, 640)\n",
      "\n",
      "image 1/1 /home/ishant/Desktop/KeypointModelTest/New_test_img_2/images/in214320231205082545-2.jpg: 384x640 1 car, 71.0ms\n",
      "Speed: 1.8ms preprocess, 71.0ms inference, 1.0ms postprocess per image at shape (1, 3, 384, 640)\n"
     ]
    },
    {
     "name": "stdout",
     "output_type": "stream",
     "text": [
      "in642120231213085757-3.jpg\n",
      "PART_1481212012786903.jpg\n"
     ]
    },
    {
     "name": "stderr",
     "output_type": "stream",
     "text": [
      "\n",
      "image 1/1 /home/ishant/Desktop/KeypointModelTest/New_test_img_2/images/PART_1477281278514983.jpg: 480x640 4 cars, 73.5ms\n",
      "Speed: 2.4ms preprocess, 73.5ms inference, 0.7ms postprocess per image at shape (1, 3, 480, 640)\n",
      "\n",
      "image 1/1 /home/ishant/Desktop/KeypointModelTest/New_test_img_2/images/in301020231219125953-2.jpg: 384x640 1 car, 66.6ms\n",
      "Speed: 1.7ms preprocess, 66.6ms inference, 0.7ms postprocess per image at shape (1, 3, 384, 640)\n"
     ]
    },
    {
     "name": "stdout",
     "output_type": "stream",
     "text": [
      "in214320231205082545-2.jpg\n",
      "PART_1477281278514983.jpg\n"
     ]
    },
    {
     "name": "stderr",
     "output_type": "stream",
     "text": [
      "\n",
      "image 1/1 /home/ishant/Desktop/KeypointModelTest/New_test_img_2/images/in502720231123120621-2.jpg: 384x640 3 cars, 61.4ms\n",
      "Speed: 1.8ms preprocess, 61.4ms inference, 0.9ms postprocess per image at shape (1, 3, 384, 640)\n",
      "\n",
      "image 1/1 /home/ishant/Desktop/KeypointModelTest/New_test_img_2/images/PART_1481583051684227.jpg: 480x640 3 cars, 82.9ms\n",
      "Speed: 2.7ms preprocess, 82.9ms inference, 1.0ms postprocess per image at shape (1, 3, 480, 640)\n"
     ]
    },
    {
     "name": "stdout",
     "output_type": "stream",
     "text": [
      "in301020231219125953-2.jpg\n",
      "in502720231123120621-2.jpg\n"
     ]
    },
    {
     "name": "stderr",
     "output_type": "stream",
     "text": [
      "\n",
      "image 1/1 /home/ishant/Desktop/KeypointModelTest/New_test_img_2/images/PART_1477441913947488.jpg: 480x640 1 car, 70.5ms\n",
      "Speed: 2.6ms preprocess, 70.5ms inference, 0.7ms postprocess per image at shape (1, 3, 480, 640)\n",
      "\n",
      "image 1/1 /home/ishant/Desktop/KeypointModelTest/New_test_img_2/images/in826820231213123248-3.jpg: 384x640 1 car, 68.8ms\n",
      "Speed: 2.0ms preprocess, 68.8ms inference, 0.9ms postprocess per image at shape (1, 3, 384, 640)\n"
     ]
    },
    {
     "name": "stdout",
     "output_type": "stream",
     "text": [
      "PART_1481583051684227.jpg\n",
      "PART_1477441913947488.jpg\n",
      "in826820231213123248-3.jpg\n"
     ]
    },
    {
     "name": "stderr",
     "output_type": "stream",
     "text": [
      "\n",
      "image 1/1 /home/ishant/Desktop/KeypointModelTest/New_test_img_2/images/PART_1478534944389907.jpg: 480x640 2 cars, 123.6ms\n",
      "Speed: 2.4ms preprocess, 123.6ms inference, 1.0ms postprocess per image at shape (1, 3, 480, 640)\n",
      "\n",
      "image 1/1 /home/ishant/Desktop/KeypointModelTest/New_test_img_2/images/in873320231124095011-2.jpg: 384x640 1 car, 74.4ms\n",
      "Speed: 2.4ms preprocess, 74.4ms inference, 0.8ms postprocess per image at shape (1, 3, 384, 640)\n",
      "\n",
      "image 1/1 /home/ishant/Desktop/KeypointModelTest/New_test_img_2/images/part160016857709169136791652.jpg: 480x640 3 cars, 63.6ms\n",
      "Speed: 2.7ms preprocess, 63.6ms inference, 1.0ms postprocess per image at shape (1, 3, 480, 640)\n"
     ]
    },
    {
     "name": "stdout",
     "output_type": "stream",
     "text": [
      "PART_1478534944389907.jpg\n",
      "in873320231124095011-2.jpg\n",
      "part160016857709169136791652.jpg\n"
     ]
    },
    {
     "name": "stderr",
     "output_type": "stream",
     "text": [
      "\n",
      "image 1/1 /home/ishant/Desktop/KeypointModelTest/New_test_img_2/images/PART_1477426201017406.jpg: 480x640 2 cars, 80.0ms\n",
      "Speed: 2.0ms preprocess, 80.0ms inference, 0.9ms postprocess per image at shape (1, 3, 480, 640)\n",
      "\n",
      "image 1/1 /home/ishant/Desktop/KeypointModelTest/New_test_img_2/images/part1600168907093361914891819.jpg: 480x640 1 car, 64.3ms\n",
      "Speed: 3.7ms preprocess, 64.3ms inference, 0.7ms postprocess per image at shape (1, 3, 480, 640)\n",
      "\n",
      "image 1/1 /home/ishant/Desktop/KeypointModelTest/New_test_img_2/images/in243120231121121717-9.jpg: 384x640 1 car, 60.3ms\n",
      "Speed: 1.8ms preprocess, 60.3ms inference, 0.7ms postprocess per image at shape (1, 3, 384, 640)\n",
      "\n"
     ]
    },
    {
     "name": "stdout",
     "output_type": "stream",
     "text": [
      "PART_1477426201017406.jpg\n",
      "part1600168907093361914891819.jpg\n",
      "in243120231121121717-9.jpg\n"
     ]
    },
    {
     "name": "stderr",
     "output_type": "stream",
     "text": [
      "image 1/1 /home/ishant/Desktop/KeypointModelTest/New_test_img_2/images/part160016897900455272268222.jpg: 480x640 3 cars, 62.7ms\n",
      "Speed: 2.1ms preprocess, 62.7ms inference, 0.7ms postprocess per image at shape (1, 3, 480, 640)\n",
      "\n",
      "image 1/1 /home/ishant/Desktop/KeypointModelTest/New_test_img_2/images/in975420231211105726-7.jpg: 384x640 1 car, 68.9ms\n",
      "Speed: 1.6ms preprocess, 68.9ms inference, 1.0ms postprocess per image at shape (1, 3, 384, 640)\n",
      "\n",
      "image 1/1 /home/ishant/Desktop/KeypointModelTest/New_test_img_2/images/in214320231205082545-6.jpg: 384x640 1 car, 48.4ms\n",
      "Speed: 1.6ms preprocess, 48.4ms inference, 0.8ms postprocess per image at shape (1, 3, 384, 640)\n",
      "\n"
     ]
    },
    {
     "name": "stdout",
     "output_type": "stream",
     "text": [
      "part160016897900455272268222.jpg\n",
      "in975420231211105726-7.jpg\n",
      "in214320231205082545-6.jpg\n"
     ]
    },
    {
     "name": "stderr",
     "output_type": "stream",
     "text": [
      "image 1/1 /home/ishant/Desktop/KeypointModelTest/New_test_img_2/images/in745620231211145159-4.jpg: 384x640 2 cars, 64.5ms\n",
      "Speed: 1.8ms preprocess, 64.5ms inference, 0.8ms postprocess per image at shape (1, 3, 384, 640)\n",
      "\n",
      "image 1/1 /home/ishant/Desktop/KeypointModelTest/New_test_img_2/images/PART_1481745169403126.jpg: 640x480 2 cars, 72.5ms\n",
      "Speed: 3.5ms preprocess, 72.5ms inference, 0.8ms postprocess per image at shape (1, 3, 640, 480)\n",
      "\n",
      "image 1/1 /home/ishant/Desktop/KeypointModelTest/New_test_img_2/images/in214320231205082545-1.jpg: 384x640 1 car, 62.7ms\n",
      "Speed: 1.9ms preprocess, 62.7ms inference, 1.4ms postprocess per image at shape (1, 3, 384, 640)\n"
     ]
    },
    {
     "name": "stdout",
     "output_type": "stream",
     "text": [
      "in745620231211145159-4.jpg\n",
      "No keypoints detected in in745620231211145159-4.jpg\n",
      "PART_1481745169403126.jpg\n",
      "No keypoints detected in PART_1481745169403126.jpg\n",
      "in214320231205082545-1.jpg\n"
     ]
    },
    {
     "name": "stderr",
     "output_type": "stream",
     "text": [
      "\n",
      "image 1/1 /home/ishant/Desktop/KeypointModelTest/New_test_img_2/images/PART_1481723760991902.jpg: 384x640 1 car, 69.0ms\n",
      "Speed: 1.8ms preprocess, 69.0ms inference, 1.3ms postprocess per image at shape (1, 3, 384, 640)\n",
      "\n",
      "image 1/1 /home/ishant/Desktop/KeypointModelTest/New_test_img_2/images/PART_1477934840240950.jpg: 480x640 2 cars, 108.0ms\n",
      "Speed: 9.2ms preprocess, 108.0ms inference, 0.8ms postprocess per image at shape (1, 3, 480, 640)\n",
      "\n"
     ]
    },
    {
     "name": "stdout",
     "output_type": "stream",
     "text": [
      "PART_1481723760991902.jpg\n",
      "PART_1477934840240950.jpg\n"
     ]
    },
    {
     "name": "stderr",
     "output_type": "stream",
     "text": [
      "image 1/1 /home/ishant/Desktop/KeypointModelTest/New_test_img_2/images/PART_1479184799422426.jpg: 480x640 3 cars, 97.5ms\n",
      "Speed: 2.4ms preprocess, 97.5ms inference, 2.1ms postprocess per image at shape (1, 3, 480, 640)\n",
      "\n",
      "image 1/1 /home/ishant/Desktop/KeypointModelTest/New_test_img_2/images/in265220231119103239-1.jpg: 384x640 5 cars, 49.6ms\n",
      "Speed: 1.6ms preprocess, 49.6ms inference, 0.9ms postprocess per image at shape (1, 3, 384, 640)\n",
      "\n",
      "image 1/1 /home/ishant/Desktop/KeypointModelTest/New_test_img_2/images/in799620231218081737-1.jpg: 384x640 1 car, 54.4ms\n",
      "Speed: 2.1ms preprocess, 54.4ms inference, 0.7ms postprocess per image at shape (1, 3, 384, 640)\n",
      "\n"
     ]
    },
    {
     "name": "stdout",
     "output_type": "stream",
     "text": [
      "PART_1479184799422426.jpg\n",
      "in265220231119103239-1.jpg\n",
      "in799620231218081737-1.jpg\n"
     ]
    },
    {
     "name": "stderr",
     "output_type": "stream",
     "text": [
      "image 1/1 /home/ishant/Desktop/KeypointModelTest/New_test_img_2/images/in411620231220133737-6.jpg: 384x640 1 car, 70.0ms\n",
      "Speed: 1.9ms preprocess, 70.0ms inference, 0.9ms postprocess per image at shape (1, 3, 384, 640)\n",
      "\n",
      "image 1/1 /home/ishant/Desktop/KeypointModelTest/New_test_img_2/images/in646920231218133357-3.jpg: 384x640 1 car, 44.9ms\n",
      "Speed: 1.6ms preprocess, 44.9ms inference, 0.8ms postprocess per image at shape (1, 3, 384, 640)\n",
      "\n",
      "image 1/1 /home/ishant/Desktop/KeypointModelTest/New_test_img_2/images/in873320231124095011-7.jpg: 384x640 1 car, 42.7ms\n",
      "Speed: 1.6ms preprocess, 42.7ms inference, 0.9ms postprocess per image at shape (1, 3, 384, 640)\n",
      "\n"
     ]
    },
    {
     "name": "stdout",
     "output_type": "stream",
     "text": [
      "in411620231220133737-6.jpg\n",
      "in646920231218133357-3.jpg\n",
      "in873320231124095011-7.jpg\n"
     ]
    },
    {
     "name": "stderr",
     "output_type": "stream",
     "text": [
      "image 1/1 /home/ishant/Desktop/KeypointModelTest/New_test_img_2/images/PART_1482487534261722.jpg: 480x640 2 cars, 72.8ms\n",
      "Speed: 2.7ms preprocess, 72.8ms inference, 0.9ms postprocess per image at shape (1, 3, 480, 640)\n",
      "\n",
      "image 1/1 /home/ishant/Desktop/KeypointModelTest/New_test_img_2/images/PART_1482852216802389.jpg: 480x640 4 cars, 69.8ms\n",
      "Speed: 2.6ms preprocess, 69.8ms inference, 0.7ms postprocess per image at shape (1, 3, 480, 640)\n",
      "\n",
      "image 1/1 /home/ishant/Desktop/KeypointModelTest/New_test_img_2/images/part1600168252609604631156929.jpg: 480x640 4 cars, 76.3ms\n",
      "Speed: 2.9ms preprocess, 76.3ms inference, 1.9ms postprocess per image at shape (1, 3, 480, 640)\n"
     ]
    },
    {
     "name": "stdout",
     "output_type": "stream",
     "text": [
      "PART_1482487534261722.jpg\n",
      "PART_1482852216802389.jpg\n"
     ]
    },
    {
     "name": "stderr",
     "output_type": "stream",
     "text": [
      "\n",
      "image 1/1 /home/ishant/Desktop/KeypointModelTest/New_test_img_2/images/in292820231124100518-2.jpg: 384x640 1 car, 65.8ms\n",
      "Speed: 2.3ms preprocess, 65.8ms inference, 0.7ms postprocess per image at shape (1, 3, 384, 640)\n",
      "\n",
      "image 1/1 /home/ishant/Desktop/KeypointModelTest/New_test_img_2/images/in161920231119111435-2.jpg: 384x640 1 car, 51.1ms\n",
      "Speed: 1.8ms preprocess, 51.1ms inference, 0.7ms postprocess per image at shape (1, 3, 384, 640)\n",
      "\n"
     ]
    },
    {
     "name": "stdout",
     "output_type": "stream",
     "text": [
      "part1600168252609604631156929.jpg\n",
      "No keypoints detected in part1600168252609604631156929.jpg\n",
      "in292820231124100518-2.jpg\n",
      "in161920231119111435-2.jpg\n"
     ]
    },
    {
     "name": "stderr",
     "output_type": "stream",
     "text": [
      "image 1/1 /home/ishant/Desktop/KeypointModelTest/New_test_img_2/images/PART_1483803963334515.jpg: 384x640 2 cars, 64.6ms\n",
      "Speed: 1.8ms preprocess, 64.6ms inference, 0.8ms postprocess per image at shape (1, 3, 384, 640)\n",
      "\n",
      "image 1/1 /home/ishant/Desktop/KeypointModelTest/New_test_img_2/images/in642120231213085757-5.jpg: 384x640 2 cars, 59.6ms\n",
      "Speed: 1.7ms preprocess, 59.6ms inference, 1.0ms postprocess per image at shape (1, 3, 384, 640)\n",
      "\n",
      "image 1/1 /home/ishant/Desktop/KeypointModelTest/New_test_img_2/images/part1600168662435360421798415.jpg: 480x640 1 car, 76.3ms\n",
      "Speed: 4.1ms preprocess, 76.3ms inference, 1.0ms postprocess per image at shape (1, 3, 480, 640)\n"
     ]
    },
    {
     "name": "stdout",
     "output_type": "stream",
     "text": [
      "PART_1483803963334515.jpg\n",
      "in642120231213085757-5.jpg\n",
      "part1600168662435360421798415.jpg\n"
     ]
    },
    {
     "name": "stderr",
     "output_type": "stream",
     "text": [
      "\n",
      "image 1/1 /home/ishant/Desktop/KeypointModelTest/New_test_img_2/images/PART_1482366796132742.jpg: 480x640 2 cars, 91.0ms\n",
      "Speed: 2.3ms preprocess, 91.0ms inference, 1.6ms postprocess per image at shape (1, 3, 480, 640)\n",
      "\n",
      "image 1/1 /home/ishant/Desktop/KeypointModelTest/New_test_img_2/images/PART_3558863405494105.jpg: 480x640 3 cars, 149.3ms\n",
      "Speed: 7.1ms preprocess, 149.3ms inference, 1.7ms postprocess per image at shape (1, 3, 480, 640)\n"
     ]
    },
    {
     "name": "stdout",
     "output_type": "stream",
     "text": [
      "PART_1482366796132742.jpg\n"
     ]
    },
    {
     "name": "stderr",
     "output_type": "stream",
     "text": [
      "\n",
      "image 1/1 /home/ishant/Desktop/KeypointModelTest/New_test_img_2/images/in547220231123124841-7.jpg: 384x640 3 cars, 117.6ms\n",
      "Speed: 2.9ms preprocess, 117.6ms inference, 1.4ms postprocess per image at shape (1, 3, 384, 640)\n",
      "\n"
     ]
    },
    {
     "name": "stdout",
     "output_type": "stream",
     "text": [
      "PART_3558863405494105.jpg\n",
      "in547220231123124841-7.jpg\n"
     ]
    },
    {
     "name": "stderr",
     "output_type": "stream",
     "text": [
      "image 1/1 /home/ishant/Desktop/KeypointModelTest/New_test_img_2/images/PART_1481545463689331.jpg: 480x640 2 cars, 126.3ms\n",
      "Speed: 7.2ms preprocess, 126.3ms inference, 0.9ms postprocess per image at shape (1, 3, 480, 640)\n",
      "\n",
      "image 1/1 /home/ishant/Desktop/KeypointModelTest/New_test_img_2/images/part1600168283154369834518600.jpg: 480x640 2 cars, 101.3ms\n",
      "Speed: 34.6ms preprocess, 101.3ms inference, 1.1ms postprocess per image at shape (1, 3, 480, 640)\n",
      "\n"
     ]
    },
    {
     "name": "stdout",
     "output_type": "stream",
     "text": [
      "PART_1481545463689331.jpg\n",
      "part1600168283154369834518600.jpg\n"
     ]
    },
    {
     "name": "stderr",
     "output_type": "stream",
     "text": [
      "image 1/1 /home/ishant/Desktop/KeypointModelTest/New_test_img_2/images/in411620231220133737-1.jpg: 384x640 3 cars, 66.5ms\n",
      "Speed: 2.2ms preprocess, 66.5ms inference, 0.7ms postprocess per image at shape (1, 3, 384, 640)\n",
      "\n",
      "image 1/1 /home/ishant/Desktop/KeypointModelTest/New_test_img_2/images/PART_1477167228078692.jpg: 384x640 1 car, 48.3ms\n",
      "Speed: 1.5ms preprocess, 48.3ms inference, 0.7ms postprocess per image at shape (1, 3, 384, 640)\n",
      "\n",
      "image 1/1 /home/ishant/Desktop/KeypointModelTest/New_test_img_2/images/in547220231123124841-2.jpg: 384x640 2 cars, 44.8ms\n",
      "Speed: 1.4ms preprocess, 44.8ms inference, 0.7ms postprocess per image at shape (1, 3, 384, 640)\n",
      "\n"
     ]
    },
    {
     "name": "stdout",
     "output_type": "stream",
     "text": [
      "in411620231220133737-1.jpg\n",
      "PART_1477167228078692.jpg\n",
      "in547220231123124841-2.jpg\n"
     ]
    },
    {
     "name": "stderr",
     "output_type": "stream",
     "text": [
      "image 1/1 /home/ishant/Desktop/KeypointModelTest/New_test_img_2/images/PART_1479768679758253.jpg: 480x640 2 cars, 212.6ms\n",
      "Speed: 4.6ms preprocess, 212.6ms inference, 1.2ms postprocess per image at shape (1, 3, 480, 640)\n",
      "\n",
      "image 1/1 /home/ishant/Desktop/KeypointModelTest/New_test_img_2/images/part1600168923838974728586003.jpg: 480x640 4 cars, 53.1ms\n",
      "Speed: 2.3ms preprocess, 53.1ms inference, 0.8ms postprocess per image at shape (1, 3, 480, 640)\n",
      "\n",
      "image 1/1 /home/ishant/Desktop/KeypointModelTest/New_test_img_2/images/PART_1482595858580953.jpg: 480x640 2 cars, 61.2ms\n",
      "Speed: 2.1ms preprocess, 61.2ms inference, 0.7ms postprocess per image at shape (1, 3, 480, 640)\n",
      "\n"
     ]
    },
    {
     "name": "stdout",
     "output_type": "stream",
     "text": [
      "PART_1479768679758253.jpg\n",
      "No keypoints detected in PART_1479768679758253.jpg\n",
      "part1600168923838974728586003.jpg\n",
      "PART_1482595858580953.jpg\n"
     ]
    },
    {
     "name": "stderr",
     "output_type": "stream",
     "text": [
      "image 1/1 /home/ishant/Desktop/KeypointModelTest/New_test_img_2/images/part1600169062422420571213895.jpg: 480x640 3 cars, 59.3ms\n",
      "Speed: 2.7ms preprocess, 59.3ms inference, 0.8ms postprocess per image at shape (1, 3, 480, 640)\n",
      "\n",
      "image 1/1 /home/ishant/Desktop/KeypointModelTest/New_test_img_2/images/in646920231218133357-9.jpg: 384x640 1 car, 103.9ms\n",
      "Speed: 2.9ms preprocess, 103.9ms inference, 1.7ms postprocess per image at shape (1, 3, 384, 640)\n",
      "\n"
     ]
    },
    {
     "name": "stdout",
     "output_type": "stream",
     "text": [
      "part1600169062422420571213895.jpg\n",
      "in646920231218133357-9.jpg\n"
     ]
    },
    {
     "name": "stderr",
     "output_type": "stream",
     "text": [
      "image 1/1 /home/ishant/Desktop/KeypointModelTest/New_test_img_2/images/PART_1483788146793608.jpg: 480x640 4 cars, 109.0ms\n",
      "Speed: 4.4ms preprocess, 109.0ms inference, 1.7ms postprocess per image at shape (1, 3, 480, 640)\n",
      "\n",
      "image 1/1 /home/ishant/Desktop/KeypointModelTest/New_test_img_2/images/in975420231211105726-3.jpg: 384x640 2 cars, 124.0ms\n",
      "Speed: 5.2ms preprocess, 124.0ms inference, 1.8ms postprocess per image at shape (1, 3, 384, 640)\n",
      "\n"
     ]
    },
    {
     "name": "stdout",
     "output_type": "stream",
     "text": [
      "PART_1483788146793608.jpg\n",
      "in975420231211105726-3.jpg\n"
     ]
    },
    {
     "name": "stderr",
     "output_type": "stream",
     "text": [
      "image 1/1 /home/ishant/Desktop/KeypointModelTest/New_test_img_2/images/PART_1479382118154593.jpg: 480x640 4 cars, 135.8ms\n",
      "Speed: 7.6ms preprocess, 135.8ms inference, 1.4ms postprocess per image at shape (1, 3, 480, 640)\n",
      "\n",
      "image 1/1 /home/ishant/Desktop/KeypointModelTest/New_test_img_2/images/PART_1482640794032106.jpg: 480x640 2 cars, 151.9ms\n",
      "Speed: 3.6ms preprocess, 151.9ms inference, 1.3ms postprocess per image at shape (1, 3, 480, 640)\n"
     ]
    },
    {
     "name": "stdout",
     "output_type": "stream",
     "text": [
      "PART_1479382118154593.jpg\n"
     ]
    },
    {
     "name": "stderr",
     "output_type": "stream",
     "text": [
      "\n"
     ]
    },
    {
     "name": "stdout",
     "output_type": "stream",
     "text": [
      "PART_1482640794032106.jpg\n",
      "No keypoints detected in PART_1482640794032106.jpg\n"
     ]
    },
    {
     "name": "stderr",
     "output_type": "stream",
     "text": [
      "image 1/1 /home/ishant/Desktop/KeypointModelTest/New_test_img_2/images/part160016837502979981204271.jpg: 480x640 2 cars, 192.2ms\n",
      "Speed: 6.8ms preprocess, 192.2ms inference, 1.2ms postprocess per image at shape (1, 3, 480, 640)\n",
      "\n"
     ]
    },
    {
     "name": "stdout",
     "output_type": "stream",
     "text": [
      "part160016837502979981204271.jpg\n"
     ]
    },
    {
     "name": "stderr",
     "output_type": "stream",
     "text": [
      "image 1/1 /home/ishant/Desktop/KeypointModelTest/New_test_img_2/images/in821820231219130304-2.jpg: 384x640 1 car, 318.6ms\n",
      "Speed: 4.4ms preprocess, 318.6ms inference, 1.6ms postprocess per image at shape (1, 3, 384, 640)\n",
      "\n",
      "image 1/1 /home/ishant/Desktop/KeypointModelTest/New_test_img_2/images/PART_1478464287971743.jpg: 480x640 2 cars, 55.3ms\n",
      "Speed: 2.6ms preprocess, 55.3ms inference, 0.7ms postprocess per image at shape (1, 3, 480, 640)\n",
      "\n",
      "image 1/1 /home/ishant/Desktop/KeypointModelTest/New_test_img_2/images/in821820231219130304-5.jpg: 384x640 2 cars, 46.7ms\n",
      "Speed: 1.5ms preprocess, 46.7ms inference, 0.7ms postprocess per image at shape (1, 3, 384, 640)\n",
      "\n"
     ]
    },
    {
     "name": "stdout",
     "output_type": "stream",
     "text": [
      "in821820231219130304-2.jpg\n",
      "PART_1478464287971743.jpg\n",
      "in821820231219130304-5.jpg\n"
     ]
    },
    {
     "name": "stderr",
     "output_type": "stream",
     "text": [
      "image 1/1 /home/ishant/Desktop/KeypointModelTest/New_test_img_2/images/PART_1482847017922559.jpg: 480x640 2 cars, 81.2ms\n",
      "Speed: 2.6ms preprocess, 81.2ms inference, 0.8ms postprocess per image at shape (1, 3, 480, 640)\n",
      "\n",
      "image 1/1 /home/ishant/Desktop/KeypointModelTest/New_test_img_2/images/in646920231218133357-4.jpg: 384x640 1 car, 51.0ms\n",
      "Speed: 2.1ms preprocess, 51.0ms inference, 2.1ms postprocess per image at shape (1, 3, 384, 640)\n",
      "\n",
      "image 1/1 /home/ishant/Desktop/KeypointModelTest/New_test_img_2/images/PART_1480002566827727.jpg: 480x640 3 cars, 82.3ms\n",
      "Speed: 3.1ms preprocess, 82.3ms inference, 0.8ms postprocess per image at shape (1, 3, 480, 640)\n"
     ]
    },
    {
     "name": "stdout",
     "output_type": "stream",
     "text": [
      "PART_1482847017922559.jpg\n",
      "in646920231218133357-4.jpg\n",
      "PART_1480002566827727.jpg\n"
     ]
    },
    {
     "name": "stderr",
     "output_type": "stream",
     "text": [
      "\n",
      "image 1/1 /home/ishant/Desktop/KeypointModelTest/New_test_img_2/images/PART_1481908693906672.jpg: 480x640 4 cars, 105.0ms\n",
      "Speed: 23.7ms preprocess, 105.0ms inference, 1.3ms postprocess per image at shape (1, 3, 480, 640)\n",
      "\n",
      "image 1/1 /home/ishant/Desktop/KeypointModelTest/New_test_img_2/images/in214320231205082545-3.jpg: 384x640 2 cars, 71.8ms\n",
      "Speed: 3.0ms preprocess, 71.8ms inference, 0.7ms postprocess per image at shape (1, 3, 384, 640)\n",
      "\n",
      "image 1/1 /home/ishant/Desktop/KeypointModelTest/New_test_img_2/images/in745620231211145159-5.jpg: 384x640 1 car, 59.3ms\n",
      "Speed: 1.8ms preprocess, 59.3ms inference, 1.1ms postprocess per image at shape (1, 3, 384, 640)\n"
     ]
    },
    {
     "name": "stdout",
     "output_type": "stream",
     "text": [
      "PART_1481908693906672.jpg\n",
      "in214320231205082545-3.jpg\n"
     ]
    },
    {
     "name": "stderr",
     "output_type": "stream",
     "text": [
      "\n",
      "image 1/1 /home/ishant/Desktop/KeypointModelTest/New_test_img_2/images/in292820231124100518-7.jpg: 384x640 1 car, 110.4ms\n",
      "Speed: 3.3ms preprocess, 110.4ms inference, 2.1ms postprocess per image at shape (1, 3, 384, 640)\n",
      "\n"
     ]
    },
    {
     "name": "stdout",
     "output_type": "stream",
     "text": [
      "in745620231211145159-5.jpg\n",
      "in292820231124100518-7.jpg\n"
     ]
    },
    {
     "name": "stderr",
     "output_type": "stream",
     "text": [
      "image 1/1 /home/ishant/Desktop/KeypointModelTest/New_test_img_2/images/PART_1478058867586331.jpg: 480x640 4 cars, 150.1ms\n",
      "Speed: 12.9ms preprocess, 150.1ms inference, 1.6ms postprocess per image at shape (1, 3, 480, 640)\n",
      "\n",
      "image 1/1 /home/ishant/Desktop/KeypointModelTest/New_test_img_2/images/in642120231213085757-6.jpg: 384x640 1 car, 125.7ms\n",
      "Speed: 3.3ms preprocess, 125.7ms inference, 1.2ms postprocess per image at shape (1, 3, 384, 640)\n",
      "\n"
     ]
    },
    {
     "name": "stdout",
     "output_type": "stream",
     "text": [
      "PART_1478058867586331.jpg\n",
      "in642120231213085757-6.jpg\n"
     ]
    },
    {
     "name": "stderr",
     "output_type": "stream",
     "text": [
      "image 1/1 /home/ishant/Desktop/KeypointModelTest/New_test_img_2/images/PART_1479466445456510.jpg: 480x640 3 cars, 156.2ms\n",
      "Speed: 5.0ms preprocess, 156.2ms inference, 1.4ms postprocess per image at shape (1, 3, 480, 640)\n",
      "\n"
     ]
    },
    {
     "name": "stdout",
     "output_type": "stream",
     "text": [
      "PART_1479466445456510.jpg\n"
     ]
    },
    {
     "name": "stderr",
     "output_type": "stream",
     "text": [
      "image 1/1 /home/ishant/Desktop/KeypointModelTest/New_test_img_2/images/in411620231220133737-7.jpg: 384x640 2 cars, 407.7ms\n",
      "Speed: 4.8ms preprocess, 407.7ms inference, 1.1ms postprocess per image at shape (1, 3, 384, 640)\n",
      "\n"
     ]
    },
    {
     "name": "stdout",
     "output_type": "stream",
     "text": [
      "in411620231220133737-7.jpg\n"
     ]
    },
    {
     "name": "stderr",
     "output_type": "stream",
     "text": [
      "image 1/1 /home/ishant/Desktop/KeypointModelTest/New_test_img_2/images/PART_3562436545529405.jpg: 480x640 2 cars, 167.9ms\n",
      "Speed: 3.2ms preprocess, 167.9ms inference, 2.4ms postprocess per image at shape (1, 3, 480, 640)\n",
      "\n",
      "image 1/1 /home/ishant/Desktop/KeypointModelTest/New_test_img_2/images/PART_1478189478050087.jpg: 480x640 2 cars, 122.1ms\n",
      "Speed: 3.4ms preprocess, 122.1ms inference, 1.3ms postprocess per image at shape (1, 3, 480, 640)\n",
      "\n"
     ]
    },
    {
     "name": "stdout",
     "output_type": "stream",
     "text": [
      "PART_3562436545529405.jpg\n",
      "PART_1478189478050087.jpg\n"
     ]
    },
    {
     "name": "stderr",
     "output_type": "stream",
     "text": [
      "image 1/1 /home/ishant/Desktop/KeypointModelTest/New_test_img_2/images/PART_1478299856204165.jpg: 480x640 2 cars, 144.6ms\n",
      "Speed: 4.4ms preprocess, 144.6ms inference, 2.0ms postprocess per image at shape (1, 3, 480, 640)\n",
      "\n",
      "image 1/1 /home/ishant/Desktop/KeypointModelTest/New_test_img_2/images/in535020231211135109-2.jpg: 384x640 2 cars, 120.4ms\n",
      "Speed: 3.5ms preprocess, 120.4ms inference, 1.6ms postprocess per image at shape (1, 3, 384, 640)\n",
      "\n"
     ]
    },
    {
     "name": "stdout",
     "output_type": "stream",
     "text": [
      "PART_1478299856204165.jpg\n",
      "in535020231211135109-2.jpg\n"
     ]
    },
    {
     "name": "stderr",
     "output_type": "stream",
     "text": [
      "image 1/1 /home/ishant/Desktop/KeypointModelTest/New_test_img_2/images/part1600168588606433457854332.jpg: 480x640 3 cars, 154.3ms\n",
      "Speed: 5.0ms preprocess, 154.3ms inference, 1.5ms postprocess per image at shape (1, 3, 480, 640)\n",
      "\n",
      "image 1/1 /home/ishant/Desktop/KeypointModelTest/New_test_img_2/images/in502720231123120621-1.jpg: 384x640 2 cars, 102.9ms\n",
      "Speed: 2.7ms preprocess, 102.9ms inference, 1.0ms postprocess per image at shape (1, 3, 384, 640)\n",
      "\n"
     ]
    },
    {
     "name": "stdout",
     "output_type": "stream",
     "text": [
      "part1600168588606433457854332.jpg\n",
      "No keypoints detected in part1600168588606433457854332.jpg\n",
      "in502720231123120621-1.jpg\n"
     ]
    },
    {
     "name": "stderr",
     "output_type": "stream",
     "text": [
      "image 1/1 /home/ishant/Desktop/KeypointModelTest/New_test_img_2/images/in755420231116153659-3.jpg: 384x640 3 cars, 68.9ms\n",
      "Speed: 2.5ms preprocess, 68.9ms inference, 0.9ms postprocess per image at shape (1, 3, 384, 640)\n",
      "\n",
      "image 1/1 /home/ishant/Desktop/KeypointModelTest/New_test_img_2/images/PART_1477405746854617.jpg: 480x640 4 cars, 98.0ms\n",
      "Speed: 3.1ms preprocess, 98.0ms inference, 0.9ms postprocess per image at shape (1, 3, 480, 640)\n",
      "\n"
     ]
    },
    {
     "name": "stdout",
     "output_type": "stream",
     "text": [
      "in755420231116153659-3.jpg\n",
      "PART_1477405746854617.jpg\n"
     ]
    },
    {
     "name": "stderr",
     "output_type": "stream",
     "text": [
      "image 1/1 /home/ishant/Desktop/KeypointModelTest/New_test_img_2/images/part1600168350220297825094927.jpg: 480x640 4 cars, 80.5ms\n",
      "Speed: 2.4ms preprocess, 80.5ms inference, 1.0ms postprocess per image at shape (1, 3, 480, 640)\n",
      "\n",
      "image 1/1 /home/ishant/Desktop/KeypointModelTest/New_test_img_2/images/in763620231121114511-2.jpg: 384x640 1 car, 73.0ms\n",
      "Speed: 1.9ms preprocess, 73.0ms inference, 0.9ms postprocess per image at shape (1, 3, 384, 640)\n",
      "\n"
     ]
    },
    {
     "name": "stdout",
     "output_type": "stream",
     "text": [
      "part1600168350220297825094927.jpg\n",
      "in763620231121114511-2.jpg\n"
     ]
    },
    {
     "name": "stderr",
     "output_type": "stream",
     "text": [
      "image 1/1 /home/ishant/Desktop/KeypointModelTest/New_test_img_2/images/in957620231218121623-7.jpg: 384x640 1 car, 78.1ms\n",
      "Speed: 39.9ms preprocess, 78.1ms inference, 1.0ms postprocess per image at shape (1, 3, 384, 640)\n",
      "\n",
      "image 1/1 /home/ishant/Desktop/KeypointModelTest/New_test_img_2/images/in535020231211135109-6.jpg: 384x640 1 car, 88.3ms\n",
      "Speed: 3.0ms preprocess, 88.3ms inference, 1.1ms postprocess per image at shape (1, 3, 384, 640)\n",
      "\n"
     ]
    },
    {
     "name": "stdout",
     "output_type": "stream",
     "text": [
      "in957620231218121623-7.jpg\n",
      "in535020231211135109-6.jpg\n"
     ]
    },
    {
     "name": "stderr",
     "output_type": "stream",
     "text": [
      "image 1/1 /home/ishant/Desktop/KeypointModelTest/New_test_img_2/images/PART_3559764612050941.jpg: 480x640 4 cars, 90.9ms\n",
      "Speed: 3.5ms preprocess, 90.9ms inference, 1.1ms postprocess per image at shape (1, 3, 480, 640)\n",
      "\n"
     ]
    },
    {
     "name": "stdout",
     "output_type": "stream",
     "text": [
      "PART_3559764612050941.jpg\n",
      "No keypoints detected in PART_3559764612050941.jpg\n"
     ]
    },
    {
     "name": "stderr",
     "output_type": "stream",
     "text": [
      "image 1/1 /home/ishant/Desktop/KeypointModelTest/New_test_img_2/images/PART_1480738532743538.jpg: 512x640 3 cars, 264.7ms\n",
      "Speed: 10.0ms preprocess, 264.7ms inference, 1.1ms postprocess per image at shape (1, 3, 512, 640)\n",
      "\n",
      "image 1/1 /home/ishant/Desktop/KeypointModelTest/New_test_img_2/images/part160016877186097642093317.jpg: 480x640 1 car, 108.4ms\n",
      "Speed: 13.8ms preprocess, 108.4ms inference, 1.2ms postprocess per image at shape (1, 3, 480, 640)\n",
      "\n"
     ]
    },
    {
     "name": "stdout",
     "output_type": "stream",
     "text": [
      "PART_1480738532743538.jpg\n",
      "No keypoints detected in PART_1480738532743538.jpg\n",
      "part160016877186097642093317.jpg\n"
     ]
    },
    {
     "name": "stderr",
     "output_type": "stream",
     "text": [
      "image 1/1 /home/ishant/Desktop/KeypointModelTest/New_test_img_2/images/part1600168293598191588001496.jpg: 480x640 2 cars, 163.4ms\n",
      "Speed: 7.2ms preprocess, 163.4ms inference, 1.4ms postprocess per image at shape (1, 3, 480, 640)\n",
      "\n",
      "image 1/1 /home/ishant/Desktop/KeypointModelTest/New_test_img_2/images/PART_1480453911124456.jpg: 480x640 3 cars, 93.7ms\n",
      "Speed: 4.3ms preprocess, 93.7ms inference, 1.1ms postprocess per image at shape (1, 3, 480, 640)\n",
      "\n"
     ]
    },
    {
     "name": "stdout",
     "output_type": "stream",
     "text": [
      "part1600168293598191588001496.jpg\n",
      "PART_1480453911124456.jpg\n",
      "No keypoints detected in PART_1480453911124456.jpg\n"
     ]
    },
    {
     "name": "stderr",
     "output_type": "stream",
     "text": [
      "image 1/1 /home/ishant/Desktop/KeypointModelTest/New_test_img_2/images/in265220231119103239-6.jpg: 384x640 2 cars, 68.9ms\n",
      "Speed: 1.7ms preprocess, 68.9ms inference, 2.7ms postprocess per image at shape (1, 3, 384, 640)\n",
      "\n",
      "image 1/1 /home/ishant/Desktop/KeypointModelTest/New_test_img_2/images/in836320231214150909-7.jpg: 384x640 2 cars, 132.1ms\n"
     ]
    },
    {
     "name": "stdout",
     "output_type": "stream",
     "text": [
      "in265220231119103239-6.jpg\n"
     ]
    },
    {
     "name": "stderr",
     "output_type": "stream",
     "text": [
      "Speed: 31.0ms preprocess, 132.1ms inference, 1.8ms postprocess per image at shape (1, 3, 384, 640)\n",
      "\n",
      "image 1/1 /home/ishant/Desktop/KeypointModelTest/New_test_img_2/images/in161920231119111435-6.jpg: 384x640 1 car, 103.6ms\n",
      "Speed: 3.7ms preprocess, 103.6ms inference, 1.4ms postprocess per image at shape (1, 3, 384, 640)\n",
      "\n"
     ]
    },
    {
     "name": "stdout",
     "output_type": "stream",
     "text": [
      "in836320231214150909-7.jpg\n",
      "in161920231119111435-6.jpg\n"
     ]
    },
    {
     "name": "stderr",
     "output_type": "stream",
     "text": [
      "image 1/1 /home/ishant/Desktop/KeypointModelTest/New_test_img_2/images/in502720231123120621-3.jpg: 384x640 4 cars, 67.4ms\n",
      "Speed: 1.9ms preprocess, 67.4ms inference, 0.7ms postprocess per image at shape (1, 3, 384, 640)\n",
      "\n",
      "image 1/1 /home/ishant/Desktop/KeypointModelTest/New_test_img_2/images/part16001690477971644463261.jpg: 480x640 3 cars, 71.7ms\n",
      "Speed: 2.4ms preprocess, 71.7ms inference, 0.8ms postprocess per image at shape (1, 3, 480, 640)\n",
      "\n",
      "image 1/1 /home/ishant/Desktop/KeypointModelTest/New_test_img_2/images/in265220231119103239-7.jpg: 384x640 4 cars, 71.1ms\n",
      "Speed: 2.2ms preprocess, 71.1ms inference, 0.9ms postprocess per image at shape (1, 3, 384, 640)\n"
     ]
    },
    {
     "name": "stdout",
     "output_type": "stream",
     "text": [
      "in502720231123120621-3.jpg\n",
      "part16001690477971644463261.jpg\n"
     ]
    },
    {
     "name": "stderr",
     "output_type": "stream",
     "text": [
      "\n",
      "image 1/1 /home/ishant/Desktop/KeypointModelTest/New_test_img_2/images/PART_4395181456302878.jpg: 480x640 3 cars, 73.8ms\n",
      "Speed: 2.3ms preprocess, 73.8ms inference, 0.9ms postprocess per image at shape (1, 3, 480, 640)\n",
      "\n"
     ]
    },
    {
     "name": "stdout",
     "output_type": "stream",
     "text": [
      "in265220231119103239-7.jpg\n",
      "PART_4395181456302878.jpg\n"
     ]
    },
    {
     "name": "stderr",
     "output_type": "stream",
     "text": [
      "image 1/1 /home/ishant/Desktop/KeypointModelTest/New_test_img_2/images/PART_1478870985931474.jpg: 480x640 2 cars, 75.1ms\n",
      "Speed: 2.7ms preprocess, 75.1ms inference, 0.9ms postprocess per image at shape (1, 3, 480, 640)\n",
      "\n",
      "image 1/1 /home/ishant/Desktop/KeypointModelTest/New_test_img_2/images/in957620231218121623-6.jpg: 384x640 2 cars, 71.3ms\n",
      "Speed: 2.5ms preprocess, 71.3ms inference, 1.1ms postprocess per image at shape (1, 3, 384, 640)\n",
      "\n",
      "image 1/1 /home/ishant/Desktop/KeypointModelTest/New_test_img_2/images/in763620231121114511-5.jpg: 384x640 2 cars, 49.1ms\n",
      "Speed: 1.9ms preprocess, 49.1ms inference, 0.8ms postprocess per image at shape (1, 3, 384, 640)\n"
     ]
    },
    {
     "name": "stdout",
     "output_type": "stream",
     "text": [
      "PART_1478870985931474.jpg\n",
      "No keypoints detected in PART_1478870985931474.jpg\n",
      "in957620231218121623-6.jpg\n"
     ]
    },
    {
     "name": "stderr",
     "output_type": "stream",
     "text": [
      "\n",
      "image 1/1 /home/ishant/Desktop/KeypointModelTest/New_test_img_2/images/PART_1484079026295772.jpg: 480x640 2 cars, 96.7ms\n",
      "Speed: 24.0ms preprocess, 96.7ms inference, 0.9ms postprocess per image at shape (1, 3, 480, 640)\n",
      "\n"
     ]
    },
    {
     "name": "stdout",
     "output_type": "stream",
     "text": [
      "in763620231121114511-5.jpg\n",
      "PART_1484079026295772.jpg\n"
     ]
    },
    {
     "name": "stderr",
     "output_type": "stream",
     "text": [
      "image 1/1 /home/ishant/Desktop/KeypointModelTest/New_test_img_2/images/part1600168224745465570190870.jpg: 640x480 4 cars, 70.9ms\n",
      "Speed: 2.7ms preprocess, 70.9ms inference, 0.9ms postprocess per image at shape (1, 3, 640, 480)\n",
      "\n",
      "image 1/1 /home/ishant/Desktop/KeypointModelTest/New_test_img_2/images/PART_1478441604224371.jpg: 384x640 1 car, 70.4ms\n",
      "Speed: 1.6ms preprocess, 70.4ms inference, 1.2ms postprocess per image at shape (1, 3, 384, 640)\n",
      "\n",
      "image 1/1 /home/ishant/Desktop/KeypointModelTest/New_test_img_2/images/in642120231213085757-2.jpg: 384x640 1 car, 63.2ms\n",
      "Speed: 2.2ms preprocess, 63.2ms inference, 0.8ms postprocess per image at shape (1, 3, 384, 640)\n"
     ]
    },
    {
     "name": "stdout",
     "output_type": "stream",
     "text": [
      "part1600168224745465570190870.jpg\n",
      "No keypoints detected in part1600168224745465570190870.jpg\n",
      "PART_1478441604224371.jpg\n",
      "in642120231213085757-2.jpg\n"
     ]
    },
    {
     "name": "stderr",
     "output_type": "stream",
     "text": [
      "\n",
      "image 1/1 /home/ishant/Desktop/KeypointModelTest/New_test_img_2/images/in799620231218081737-2.jpg: 384x640 3 cars, 49.9ms\n",
      "Speed: 2.3ms preprocess, 49.9ms inference, 0.8ms postprocess per image at shape (1, 3, 384, 640)\n",
      "\n",
      "image 1/1 /home/ishant/Desktop/KeypointModelTest/New_test_img_2/images/PART_1477785823946919.jpg: 480x640 3 cars, 73.3ms\n",
      "Speed: 2.8ms preprocess, 73.3ms inference, 0.8ms postprocess per image at shape (1, 3, 480, 640)\n",
      "\n",
      "image 1/1 /home/ishant/Desktop/KeypointModelTest/New_test_img_2/images/PART_1481910397927490.jpg: 480x640 4 cars, 71.6ms\n",
      "Speed: 2.8ms preprocess, 71.6ms inference, 0.8ms postprocess per image at shape (1, 3, 480, 640)\n"
     ]
    },
    {
     "name": "stdout",
     "output_type": "stream",
     "text": [
      "in799620231218081737-2.jpg\n",
      "PART_1477785823946919.jpg\n",
      "No keypoints detected in PART_1477785823946919.jpg\n"
     ]
    },
    {
     "name": "stderr",
     "output_type": "stream",
     "text": [
      "\n",
      "image 1/1 /home/ishant/Desktop/KeypointModelTest/New_test_img_2/images/in646920231218133357-7.jpg: 384x640 4 cars, 56.0ms\n",
      "Speed: 1.6ms preprocess, 56.0ms inference, 0.9ms postprocess per image at shape (1, 3, 384, 640)\n",
      "\n",
      "image 1/1 /home/ishant/Desktop/KeypointModelTest/New_test_img_2/images/PART_1479255219713006.jpg: 480x640 2 cars, 74.4ms\n",
      "Speed: 3.6ms preprocess, 74.4ms inference, 0.8ms postprocess per image at shape (1, 3, 480, 640)\n"
     ]
    },
    {
     "name": "stdout",
     "output_type": "stream",
     "text": [
      "PART_1481910397927490.jpg\n",
      "in646920231218133357-7.jpg\n"
     ]
    },
    {
     "name": "stderr",
     "output_type": "stream",
     "text": [
      "\n",
      "image 1/1 /home/ishant/Desktop/KeypointModelTest/New_test_img_2/images/in821820231219130304-7.jpg: 384x640 1 car, 87.7ms\n",
      "Speed: 4.3ms preprocess, 87.7ms inference, 0.7ms postprocess per image at shape (1, 3, 384, 640)\n",
      "\n"
     ]
    },
    {
     "name": "stdout",
     "output_type": "stream",
     "text": [
      "PART_1479255219713006.jpg\n",
      "in821820231219130304-7.jpg\n"
     ]
    },
    {
     "name": "stderr",
     "output_type": "stream",
     "text": [
      "image 1/1 /home/ishant/Desktop/KeypointModelTest/New_test_img_2/images/PART_4495593076167055.jpg: 480x640 6 cars, 77.4ms\n",
      "Speed: 2.3ms preprocess, 77.4ms inference, 0.8ms postprocess per image at shape (1, 3, 480, 640)\n",
      "\n",
      "image 1/1 /home/ishant/Desktop/KeypointModelTest/New_test_img_2/images/in411620231220133737-3.jpg: 384x640 2 cars, 54.2ms\n",
      "Speed: 1.7ms preprocess, 54.2ms inference, 0.7ms postprocess per image at shape (1, 3, 384, 640)\n",
      "\n",
      "image 1/1 /home/ishant/Desktop/KeypointModelTest/New_test_img_2/images/PART_1479952879597662.jpg: 480x640 2 cars, 61.6ms\n",
      "Speed: 2.4ms preprocess, 61.6ms inference, 0.8ms postprocess per image at shape (1, 3, 480, 640)\n",
      "\n"
     ]
    },
    {
     "name": "stdout",
     "output_type": "stream",
     "text": [
      "PART_4495593076167055.jpg\n",
      "in411620231220133737-3.jpg\n",
      "PART_1479952879597662.jpg\n"
     ]
    },
    {
     "name": "stderr",
     "output_type": "stream",
     "text": [
      "image 1/1 /home/ishant/Desktop/KeypointModelTest/New_test_img_2/images/in547220231123124841-5.jpg: 384x640 1 car, 89.6ms\n",
      "Speed: 3.0ms preprocess, 89.6ms inference, 1.0ms postprocess per image at shape (1, 3, 384, 640)\n",
      "\n",
      "image 1/1 /home/ishant/Desktop/KeypointModelTest/New_test_img_2/images/in928020231220093827-2.jpg: 384x640 1 car, 120.3ms\n",
      "Speed: 2.0ms preprocess, 120.3ms inference, 1.2ms postprocess per image at shape (1, 3, 384, 640)\n",
      "\n"
     ]
    },
    {
     "name": "stdout",
     "output_type": "stream",
     "text": [
      "in547220231123124841-5.jpg\n",
      "in928020231220093827-2.jpg\n"
     ]
    },
    {
     "name": "stderr",
     "output_type": "stream",
     "text": [
      "image 1/1 /home/ishant/Desktop/KeypointModelTest/New_test_img_2/images/part1600168487347574271567380.jpg: 480x640 3 cars, 91.1ms\n",
      "Speed: 5.5ms preprocess, 91.1ms inference, 0.9ms postprocess per image at shape (1, 3, 480, 640)\n",
      "\n",
      "image 1/1 /home/ishant/Desktop/KeypointModelTest/New_test_img_2/images/PART_3560588209651776.jpg: 352x640 1 car, 52.9ms\n",
      "Speed: 1.8ms preprocess, 52.9ms inference, 0.7ms postprocess per image at shape (1, 3, 352, 640)\n",
      "\n",
      "image 1/1 /home/ishant/Desktop/KeypointModelTest/New_test_img_2/images/PART_1478411529869910.jpg: 480x640 2 cars, 53.4ms\n",
      "Speed: 2.0ms preprocess, 53.4ms inference, 0.7ms postprocess per image at shape (1, 3, 480, 640)\n",
      "\n"
     ]
    },
    {
     "name": "stdout",
     "output_type": "stream",
     "text": [
      "part1600168487347574271567380.jpg\n",
      "PART_3560588209651776.jpg\n",
      "PART_1478411529869910.jpg\n"
     ]
    },
    {
     "name": "stderr",
     "output_type": "stream",
     "text": [
      "image 1/1 /home/ishant/Desktop/KeypointModelTest/New_test_img_2/images/in957620231218121623-2.jpg: 384x640 1 car, 45.4ms\n",
      "Speed: 2.6ms preprocess, 45.4ms inference, 0.7ms postprocess per image at shape (1, 3, 384, 640)\n",
      "\n",
      "image 1/1 /home/ishant/Desktop/KeypointModelTest/New_test_img_2/images/in836320231214150909-5.jpg: 384x640 2 cars, 60.5ms\n",
      "Speed: 27.2ms preprocess, 60.5ms inference, 0.9ms postprocess per image at shape (1, 3, 384, 640)\n",
      "\n",
      "image 1/1 /home/ishant/Desktop/KeypointModelTest/New_test_img_2/images/in755420231116153659-2.jpg: 384x640 2 cars, 53.0ms\n",
      "Speed: 1.7ms preprocess, 53.0ms inference, 1.0ms postprocess per image at shape (1, 3, 384, 640)\n"
     ]
    },
    {
     "name": "stdout",
     "output_type": "stream",
     "text": [
      "in957620231218121623-2.jpg\n",
      "in836320231214150909-5.jpg\n"
     ]
    },
    {
     "name": "stderr",
     "output_type": "stream",
     "text": [
      "\n",
      "image 1/1 /home/ishant/Desktop/KeypointModelTest/New_test_img_2/images/in292820231124100518-1.jpg: 384x640 1 car, 44.4ms\n",
      "Speed: 1.7ms preprocess, 44.4ms inference, 0.7ms postprocess per image at shape (1, 3, 384, 640)\n",
      "\n",
      "image 1/1 /home/ishant/Desktop/KeypointModelTest/New_test_img_2/images/part1600168263144558438189588.jpg: 480x640 2 cars, 52.6ms\n",
      "Speed: 2.2ms preprocess, 52.6ms inference, 0.7ms postprocess per image at shape (1, 3, 480, 640)\n",
      "\n"
     ]
    },
    {
     "name": "stdout",
     "output_type": "stream",
     "text": [
      "in755420231116153659-2.jpg\n",
      "in292820231124100518-1.jpg\n",
      "part1600168263144558438189588.jpg\n"
     ]
    },
    {
     "name": "stderr",
     "output_type": "stream",
     "text": [
      "image 1/1 /home/ishant/Desktop/KeypointModelTest/New_test_img_2/images/PART_1479354265937997.jpg: 480x640 3 cars, 74.5ms\n",
      "Speed: 1.9ms preprocess, 74.5ms inference, 0.8ms postprocess per image at shape (1, 3, 480, 640)\n",
      "\n",
      "image 1/1 /home/ishant/Desktop/KeypointModelTest/New_test_img_2/images/PART_1482606483220424.jpg: 384x640 1 car, 54.8ms\n",
      "Speed: 2.0ms preprocess, 54.8ms inference, 0.9ms postprocess per image at shape (1, 3, 384, 640)\n",
      "\n",
      "image 1/1 /home/ishant/Desktop/KeypointModelTest/New_test_img_2/images/PART_1483210320995706.jpg: 512x640 2 cars, 60.1ms\n",
      "Speed: 3.0ms preprocess, 60.1ms inference, 1.0ms postprocess per image at shape (1, 3, 512, 640)\n",
      "\n"
     ]
    },
    {
     "name": "stdout",
     "output_type": "stream",
     "text": [
      "PART_1479354265937997.jpg\n",
      "PART_1482606483220424.jpg\n",
      "PART_1483210320995706.jpg\n"
     ]
    },
    {
     "name": "stderr",
     "output_type": "stream",
     "text": [
      "image 1/1 /home/ishant/Desktop/KeypointModelTest/New_test_img_2/images/in799620231218081737-5.jpg: 384x640 2 cars, 56.5ms\n",
      "Speed: 2.2ms preprocess, 56.5ms inference, 0.7ms postprocess per image at shape (1, 3, 384, 640)\n",
      "\n",
      "image 1/1 /home/ishant/Desktop/KeypointModelTest/New_test_img_2/images/PART_1483841811166102.jpg: 320x640 3 cars, 48.4ms\n",
      "Speed: 1.6ms preprocess, 48.4ms inference, 0.8ms postprocess per image at shape (1, 3, 320, 640)\n",
      "\n",
      "image 1/1 /home/ishant/Desktop/KeypointModelTest/New_test_img_2/images/PART_3559628291981744.jpg: 480x640 3 cars, 64.9ms\n",
      "Speed: 2.3ms preprocess, 64.9ms inference, 0.7ms postprocess per image at shape (1, 3, 480, 640)\n",
      "\n"
     ]
    },
    {
     "name": "stdout",
     "output_type": "stream",
     "text": [
      "in799620231218081737-5.jpg\n",
      "No keypoints detected in in799620231218081737-5.jpg\n",
      "PART_1483841811166102.jpg\n",
      "PART_3559628291981744.jpg\n"
     ]
    },
    {
     "name": "stderr",
     "output_type": "stream",
     "text": [
      "image 1/1 /home/ishant/Desktop/KeypointModelTest/New_test_img_2/images/PART_1483616823760075.jpg: 384x640 1 car, 53.3ms\n",
      "Speed: 1.6ms preprocess, 53.3ms inference, 0.7ms postprocess per image at shape (1, 3, 384, 640)\n",
      "\n",
      "image 1/1 /home/ishant/Desktop/KeypointModelTest/New_test_img_2/images/PART_3560577313968785.jpg: 480x640 2 cars, 76.1ms\n",
      "Speed: 2.6ms preprocess, 76.1ms inference, 0.9ms postprocess per image at shape (1, 3, 480, 640)\n",
      "\n"
     ]
    },
    {
     "name": "stdout",
     "output_type": "stream",
     "text": [
      "PART_1483616823760075.jpg\n",
      "PART_3560577313968785.jpg\n",
      "No keypoints detected in PART_3560577313968785.jpg\n"
     ]
    },
    {
     "name": "stderr",
     "output_type": "stream",
     "text": [
      "image 1/1 /home/ishant/Desktop/KeypointModelTest/New_test_img_2/images/PART_4408179695317297.jpg: 480x640 3 cars, 74.0ms\n",
      "Speed: 2.0ms preprocess, 74.0ms inference, 0.8ms postprocess per image at shape (1, 3, 480, 640)\n",
      "\n",
      "image 1/1 /home/ishant/Desktop/KeypointModelTest/New_test_img_2/images/PART_4394079952521361.jpg: 384x640 2 cars, 55.9ms\n",
      "Speed: 1.7ms preprocess, 55.9ms inference, 2.4ms postprocess per image at shape (1, 3, 384, 640)\n",
      "\n",
      "image 1/1 /home/ishant/Desktop/KeypointModelTest/New_test_img_2/images/in502720231123120621-7.jpg: 384x640 3 cars, 52.9ms\n",
      "Speed: 1.8ms preprocess, 52.9ms inference, 0.9ms postprocess per image at shape (1, 3, 384, 640)\n",
      "\n"
     ]
    },
    {
     "name": "stdout",
     "output_type": "stream",
     "text": [
      "PART_4408179695317297.jpg\n",
      "PART_4394079952521361.jpg\n",
      "in502720231123120621-7.jpg\n"
     ]
    },
    {
     "name": "stderr",
     "output_type": "stream",
     "text": [
      "image 1/1 /home/ishant/Desktop/KeypointModelTest/New_test_img_2/images/part1600168470297537621523720.jpg: 480x640 2 cars, 66.5ms\n",
      "Speed: 3.3ms preprocess, 66.5ms inference, 0.7ms postprocess per image at shape (1, 3, 480, 640)\n",
      "\n",
      "image 1/1 /home/ishant/Desktop/KeypointModelTest/New_test_img_2/images/in873320231124095011-3.jpg: 384x640 4 cars, 62.8ms\n",
      "Speed: 2.1ms preprocess, 62.8ms inference, 1.2ms postprocess per image at shape (1, 3, 384, 640)\n",
      "\n"
     ]
    },
    {
     "name": "stdout",
     "output_type": "stream",
     "text": [
      "part1600168470297537621523720.jpg\n",
      "in873320231124095011-3.jpg\n"
     ]
    },
    {
     "name": "stderr",
     "output_type": "stream",
     "text": [
      "image 1/1 /home/ishant/Desktop/KeypointModelTest/New_test_img_2/images/PART_1479475397923700.jpg: 480x640 3 cars, 76.8ms\n",
      "Speed: 2.3ms preprocess, 76.8ms inference, 0.7ms postprocess per image at shape (1, 3, 480, 640)\n",
      "\n",
      "image 1/1 /home/ishant/Desktop/KeypointModelTest/New_test_img_2/images/in214320231205082545-7.jpg: 384x640 3 cars, 42.1ms\n",
      "Speed: 1.8ms preprocess, 42.1ms inference, 0.7ms postprocess per image at shape (1, 3, 384, 640)\n",
      "\n",
      "image 1/1 /home/ishant/Desktop/KeypointModelTest/New_test_img_2/images/in975420231211105726-6.jpg: 384x640 1 car, 58.8ms\n",
      "Speed: 1.8ms preprocess, 58.8ms inference, 0.6ms postprocess per image at shape (1, 3, 384, 640)\n",
      "\n"
     ]
    },
    {
     "name": "stdout",
     "output_type": "stream",
     "text": [
      "PART_1479475397923700.jpg\n",
      "in214320231205082545-7.jpg\n",
      "in975420231211105726-6.jpg\n"
     ]
    },
    {
     "name": "stderr",
     "output_type": "stream",
     "text": [
      "image 1/1 /home/ishant/Desktop/KeypointModelTest/New_test_img_2/images/in646920231218133357-5.jpg: 384x640 2 cars, 65.3ms\n",
      "Speed: 1.5ms preprocess, 65.3ms inference, 1.0ms postprocess per image at shape (1, 3, 384, 640)\n",
      "\n",
      "image 1/1 /home/ishant/Desktop/KeypointModelTest/New_test_img_2/images/in836320231214150909-1.jpg: 384x640 1 car, 51.3ms\n",
      "Speed: 2.2ms preprocess, 51.3ms inference, 0.9ms postprocess per image at shape (1, 3, 384, 640)\n",
      "\n"
     ]
    },
    {
     "name": "stdout",
     "output_type": "stream",
     "text": [
      "in646920231218133357-5.jpg\n",
      "in836320231214150909-1.jpg\n"
     ]
    },
    {
     "name": "stderr",
     "output_type": "stream",
     "text": [
      "image 1/1 /home/ishant/Desktop/KeypointModelTest/New_test_img_2/images/part1600168340251687826694940.jpg: 480x640 2 cars, 99.3ms\n",
      "Speed: 3.2ms preprocess, 99.3ms inference, 1.3ms postprocess per image at shape (1, 3, 480, 640)\n",
      "\n",
      "image 1/1 /home/ishant/Desktop/KeypointModelTest/New_test_img_2/images/in502720231123120621-5.jpg: 384x640 2 cars, 98.3ms\n",
      "Speed: 3.2ms preprocess, 98.3ms inference, 1.0ms postprocess per image at shape (1, 3, 384, 640)\n",
      "\n"
     ]
    },
    {
     "name": "stdout",
     "output_type": "stream",
     "text": [
      "part1600168340251687826694940.jpg\n",
      "in502720231123120621-5.jpg\n"
     ]
    },
    {
     "name": "stderr",
     "output_type": "stream",
     "text": [
      "image 1/1 /home/ishant/Desktop/KeypointModelTest/New_test_img_2/images/PART_1483248120468209.jpg: 480x640 3 cars, 148.3ms\n",
      "Speed: 4.5ms preprocess, 148.3ms inference, 1.2ms postprocess per image at shape (1, 3, 480, 640)\n",
      "\n",
      "image 1/1 /home/ishant/Desktop/KeypointModelTest/New_test_img_2/images/PART_1478558445769340.jpg: 480x640 4 cars, 71.0ms\n",
      "Speed: 2.1ms preprocess, 71.0ms inference, 0.7ms postprocess per image at shape (1, 3, 480, 640)\n",
      "\n",
      "image 1/1 /home/ishant/Desktop/KeypointModelTest/New_test_img_2/images/PART_1482225318351645.jpg: 320x640 2 cars, 37.4ms\n",
      "Speed: 1.3ms preprocess, 37.4ms inference, 1.0ms postprocess per image at shape (1, 3, 320, 640)\n",
      "\n"
     ]
    },
    {
     "name": "stdout",
     "output_type": "stream",
     "text": [
      "PART_1483248120468209.jpg\n",
      "PART_1478558445769340.jpg\n",
      "No keypoints detected in PART_1478558445769340.jpg\n",
      "PART_1482225318351645.jpg\n"
     ]
    },
    {
     "name": "stderr",
     "output_type": "stream",
     "text": [
      "image 1/1 /home/ishant/Desktop/KeypointModelTest/New_test_img_2/images/in799620231218081737-3.jpg: 384x640 4 cars, 46.6ms\n",
      "Speed: 1.4ms preprocess, 46.6ms inference, 0.7ms postprocess per image at shape (1, 3, 384, 640)\n",
      "\n",
      "image 1/1 /home/ishant/Desktop/KeypointModelTest/New_test_img_2/images/PART_1483496885531519.jpg: 480x640 3 cars, 51.5ms\n",
      "Speed: 2.2ms preprocess, 51.5ms inference, 0.8ms postprocess per image at shape (1, 3, 480, 640)\n",
      "\n",
      "image 1/1 /home/ishant/Desktop/KeypointModelTest/New_test_img_2/images/PART_3561229220430928.jpg: 384x640 4 cars, 71.9ms\n",
      "Speed: 1.6ms preprocess, 71.9ms inference, 1.0ms postprocess per image at shape (1, 3, 384, 640)\n"
     ]
    },
    {
     "name": "stdout",
     "output_type": "stream",
     "text": [
      "in799620231218081737-3.jpg\n",
      "PART_1483496885531519.jpg\n",
      "PART_3561229220430928.jpg\n"
     ]
    },
    {
     "name": "stderr",
     "output_type": "stream",
     "text": [
      "\n",
      "image 1/1 /home/ishant/Desktop/KeypointModelTest/New_test_img_2/images/part1600168535186414285141985.jpg: 480x640 2 cars, 116.8ms\n",
      "Speed: 4.1ms preprocess, 116.8ms inference, 1.3ms postprocess per image at shape (1, 3, 480, 640)\n",
      "\n",
      "image 1/1 /home/ishant/Desktop/KeypointModelTest/New_test_img_2/images/part160016883371158994760719.jpg: 384x640 2 cars, 76.0ms\n",
      "Speed: 2.1ms preprocess, 76.0ms inference, 0.8ms postprocess per image at shape (1, 3, 384, 640)\n",
      "\n"
     ]
    },
    {
     "name": "stdout",
     "output_type": "stream",
     "text": [
      "part1600168535186414285141985.jpg\n",
      "part160016883371158994760719.jpg\n"
     ]
    },
    {
     "name": "stderr",
     "output_type": "stream",
     "text": [
      "image 1/1 /home/ishant/Desktop/KeypointModelTest/New_test_img_2/images/PART_1478134314872619.jpg: 480x640 2 cars, 68.6ms\n",
      "Speed: 3.0ms preprocess, 68.6ms inference, 0.7ms postprocess per image at shape (1, 3, 480, 640)\n",
      "\n",
      "image 1/1 /home/ishant/Desktop/KeypointModelTest/New_test_img_2/images/PART_3496373593011785.jpg: 320x640 1 car, 39.8ms\n",
      "Speed: 1.6ms preprocess, 39.8ms inference, 1.5ms postprocess per image at shape (1, 3, 320, 640)\n",
      "\n",
      "image 1/1 /home/ishant/Desktop/KeypointModelTest/New_test_img_2/images/PART_1477414637212916.jpg: 480x640 2 cars, 93.2ms\n",
      "Speed: 3.3ms preprocess, 93.2ms inference, 1.1ms postprocess per image at shape (1, 3, 480, 640)\n",
      "\n"
     ]
    },
    {
     "name": "stdout",
     "output_type": "stream",
     "text": [
      "PART_1478134314872619.jpg\n",
      "PART_3496373593011785.jpg\n",
      "PART_1477414637212916.jpg\n"
     ]
    },
    {
     "name": "stderr",
     "output_type": "stream",
     "text": [
      "image 1/1 /home/ishant/Desktop/KeypointModelTest/New_test_img_2/images/part1600168313507412441456967.jpg: 480x640 2 cars, 105.7ms\n",
      "Speed: 7.5ms preprocess, 105.7ms inference, 1.4ms postprocess per image at shape (1, 3, 480, 640)\n",
      "\n",
      "image 1/1 /home/ishant/Desktop/KeypointModelTest/New_test_img_2/images/PART_1481117392640398.jpg: 480x640 2 cars, 110.0ms\n",
      "Speed: 5.5ms preprocess, 110.0ms inference, 1.0ms postprocess per image at shape (1, 3, 480, 640)\n",
      "\n"
     ]
    },
    {
     "name": "stdout",
     "output_type": "stream",
     "text": [
      "part1600168313507412441456967.jpg\n",
      "PART_1481117392640398.jpg\n"
     ]
    },
    {
     "name": "stderr",
     "output_type": "stream",
     "text": [
      "image 1/1 /home/ishant/Desktop/KeypointModelTest/New_test_img_2/images/PART_1480147557590644.jpg: 384x640 1 car, 112.0ms\n",
      "Speed: 3.4ms preprocess, 112.0ms inference, 1.5ms postprocess per image at shape (1, 3, 384, 640)\n",
      "\n",
      "image 1/1 /home/ishant/Desktop/KeypointModelTest/New_test_img_2/images/PART_4411723625968720.jpg: 480x640 3 cars, 102.9ms\n",
      "Speed: 5.6ms preprocess, 102.9ms inference, 0.9ms postprocess per image at shape (1, 3, 480, 640)\n",
      "\n"
     ]
    },
    {
     "name": "stdout",
     "output_type": "stream",
     "text": [
      "PART_1480147557590644.jpg\n",
      "PART_4411723625968720.jpg\n"
     ]
    },
    {
     "name": "stderr",
     "output_type": "stream",
     "text": [
      "image 1/1 /home/ishant/Desktop/KeypointModelTest/New_test_img_2/images/PART_1479099483545485.jpg: 480x640 3 cars, 118.5ms\n",
      "Speed: 2.7ms preprocess, 118.5ms inference, 1.1ms postprocess per image at shape (1, 3, 480, 640)\n",
      "\n",
      "image 1/1 /home/ishant/Desktop/KeypointModelTest/New_test_img_2/images/PART_1483923120256926.jpg: 512x640 1 car, 116.7ms\n",
      "Speed: 39.4ms preprocess, 116.7ms inference, 2.3ms postprocess per image at shape (1, 3, 512, 640)\n",
      "\n"
     ]
    },
    {
     "name": "stdout",
     "output_type": "stream",
     "text": [
      "PART_1479099483545485.jpg\n",
      "PART_1483923120256926.jpg\n"
     ]
    },
    {
     "name": "stderr",
     "output_type": "stream",
     "text": [
      "image 1/1 /home/ishant/Desktop/KeypointModelTest/New_test_img_2/images/in161920231119111435-7.jpg: 384x640 1 car, 82.4ms\n",
      "Speed: 1.9ms preprocess, 82.4ms inference, 1.0ms postprocess per image at shape (1, 3, 384, 640)\n",
      "\n",
      "image 1/1 /home/ishant/Desktop/KeypointModelTest/New_test_img_2/images/part160016863579581974467775.jpg: 480x640 1 car, 65.4ms\n",
      "Speed: 2.2ms preprocess, 65.4ms inference, 0.8ms postprocess per image at shape (1, 3, 480, 640)\n",
      "\n",
      "image 1/1 /home/ishant/Desktop/KeypointModelTest/New_test_img_2/images/PART_1480786645946999.jpg: 384x640 2 cars, 66.8ms\n",
      "Speed: 2.1ms preprocess, 66.8ms inference, 1.1ms postprocess per image at shape (1, 3, 384, 640)\n",
      "\n"
     ]
    },
    {
     "name": "stdout",
     "output_type": "stream",
     "text": [
      "in161920231119111435-7.jpg\n",
      "part160016863579581974467775.jpg\n",
      "PART_1480786645946999.jpg\n"
     ]
    },
    {
     "name": "stderr",
     "output_type": "stream",
     "text": [
      "image 1/1 /home/ishant/Desktop/KeypointModelTest/New_test_img_2/images/PART_1484033936623199.jpg: 480x640 2 cars, 63.8ms\n",
      "Speed: 2.0ms preprocess, 63.8ms inference, 0.7ms postprocess per image at shape (1, 3, 480, 640)\n",
      "\n",
      "image 1/1 /home/ishant/Desktop/KeypointModelTest/New_test_img_2/images/PART_1478701545065743.jpg: 480x640 4 cars, 80.7ms\n",
      "Speed: 2.7ms preprocess, 80.7ms inference, 1.0ms postprocess per image at shape (1, 3, 480, 640)\n",
      "\n",
      "image 1/1 /home/ishant/Desktop/KeypointModelTest/New_test_img_2/images/PART_4396074210422407.jpg: 320x640 1 car, 47.3ms\n",
      "Speed: 3.2ms preprocess, 47.3ms inference, 1.4ms postprocess per image at shape (1, 3, 320, 640)\n"
     ]
    },
    {
     "name": "stdout",
     "output_type": "stream",
     "text": [
      "PART_1484033936623199.jpg\n",
      "PART_1478701545065743.jpg\n"
     ]
    },
    {
     "name": "stderr",
     "output_type": "stream",
     "text": [
      "\n",
      "image 1/1 /home/ishant/Desktop/KeypointModelTest/New_test_img_2/images/in292820231124100518-3.jpg: 384x640 3 cars, 71.4ms\n",
      "Speed: 1.7ms preprocess, 71.4ms inference, 0.8ms postprocess per image at shape (1, 3, 384, 640)\n",
      "\n"
     ]
    },
    {
     "name": "stdout",
     "output_type": "stream",
     "text": [
      "PART_4396074210422407.jpg\n",
      "in292820231124100518-3.jpg\n",
      "No keypoints detected in in292820231124100518-3.jpg\n"
     ]
    },
    {
     "name": "stderr",
     "output_type": "stream",
     "text": [
      "image 1/1 /home/ishant/Desktop/KeypointModelTest/New_test_img_2/images/in799620231218081737-7.jpg: 384x640 1 car, 95.7ms\n",
      "Speed: 4.9ms preprocess, 95.7ms inference, 1.0ms postprocess per image at shape (1, 3, 384, 640)\n",
      "\n",
      "image 1/1 /home/ishant/Desktop/KeypointModelTest/New_test_img_2/images/in957620231218121623-3.jpg: 384x640 1 car, 70.6ms\n",
      "Speed: 4.4ms preprocess, 70.6ms inference, 0.9ms postprocess per image at shape (1, 3, 384, 640)\n",
      "\n",
      "image 1/1 /home/ishant/Desktop/KeypointModelTest/New_test_img_2/images/PART_1481724691739913.jpg: 480x640 3 cars, 72.3ms\n"
     ]
    },
    {
     "name": "stdout",
     "output_type": "stream",
     "text": [
      "in799620231218081737-7.jpg\n",
      "in957620231218121623-3.jpg\n"
     ]
    },
    {
     "name": "stderr",
     "output_type": "stream",
     "text": [
      "Speed: 2.1ms preprocess, 72.3ms inference, 0.9ms postprocess per image at shape (1, 3, 480, 640)\n",
      "\n",
      "image 1/1 /home/ishant/Desktop/KeypointModelTest/New_test_img_2/images/PART_1478705006293172.jpg: 448x640 1 car, 74.2ms\n",
      "Speed: 2.3ms preprocess, 74.2ms inference, 1.0ms postprocess per image at shape (1, 3, 448, 640)\n",
      "\n"
     ]
    },
    {
     "name": "stdout",
     "output_type": "stream",
     "text": [
      "PART_1481724691739913.jpg\n",
      "PART_1478705006293172.jpg\n"
     ]
    },
    {
     "name": "stderr",
     "output_type": "stream",
     "text": [
      "image 1/1 /home/ishant/Desktop/KeypointModelTest/New_test_img_2/images/PART_1478630273066489.jpg: 480x640 3 cars, 123.6ms\n",
      "Speed: 2.6ms preprocess, 123.6ms inference, 0.8ms postprocess per image at shape (1, 3, 480, 640)\n",
      "\n",
      "image 1/1 /home/ishant/Desktop/KeypointModelTest/New_test_img_2/images/PART_1481478716227158.jpg: 480x640 3 cars, 93.2ms\n",
      "Speed: 3.2ms preprocess, 93.2ms inference, 1.0ms postprocess per image at shape (1, 3, 480, 640)\n",
      "\n"
     ]
    },
    {
     "name": "stdout",
     "output_type": "stream",
     "text": [
      "PART_1478630273066489.jpg\n",
      "PART_1481478716227158.jpg\n"
     ]
    },
    {
     "name": "stderr",
     "output_type": "stream",
     "text": [
      "image 1/1 /home/ishant/Desktop/KeypointModelTest/New_test_img_2/images/in836320231214150909-2.jpg: 384x640 1 car, 79.8ms\n",
      "Speed: 2.2ms preprocess, 79.8ms inference, 2.2ms postprocess per image at shape (1, 3, 384, 640)\n",
      "\n",
      "image 1/1 /home/ishant/Desktop/KeypointModelTest/New_test_img_2/images/PART_3559026759844316.jpg: 480x640 2 cars, 92.1ms\n",
      "Speed: 3.2ms preprocess, 92.1ms inference, 0.9ms postprocess per image at shape (1, 3, 480, 640)\n",
      "\n"
     ]
    },
    {
     "name": "stdout",
     "output_type": "stream",
     "text": [
      "in836320231214150909-2.jpg\n",
      "PART_3559026759844316.jpg\n"
     ]
    },
    {
     "name": "stderr",
     "output_type": "stream",
     "text": [
      "image 1/1 /home/ishant/Desktop/KeypointModelTest/New_test_img_2/images/in799620231218081737-6.jpg: 384x640 3 cars, 66.1ms\n",
      "Speed: 2.6ms preprocess, 66.1ms inference, 0.8ms postprocess per image at shape (1, 3, 384, 640)\n",
      "\n",
      "image 1/1 /home/ishant/Desktop/KeypointModelTest/New_test_img_2/images/in821820231219130304-3.jpg: 384x640 4 cars, 72.4ms\n",
      "Speed: 2.6ms preprocess, 72.4ms inference, 1.0ms postprocess per image at shape (1, 3, 384, 640)\n",
      "\n"
     ]
    },
    {
     "name": "stdout",
     "output_type": "stream",
     "text": [
      "in799620231218081737-6.jpg\n",
      "in821820231219130304-3.jpg\n"
     ]
    },
    {
     "name": "stderr",
     "output_type": "stream",
     "text": [
      "image 1/1 /home/ishant/Desktop/KeypointModelTest/New_test_img_2/images/in873320231124095011-6.jpg: 384x640 1 car, 74.5ms\n",
      "Speed: 2.1ms preprocess, 74.5ms inference, 0.8ms postprocess per image at shape (1, 3, 384, 640)\n",
      "\n",
      "image 1/1 /home/ishant/Desktop/KeypointModelTest/New_test_img_2/images/PART_1482832106532585.jpg: 480x640 2 cars, 94.4ms\n",
      "Speed: 3.6ms preprocess, 94.4ms inference, 1.1ms postprocess per image at shape (1, 3, 480, 640)\n",
      "\n"
     ]
    },
    {
     "name": "stdout",
     "output_type": "stream",
     "text": [
      "in873320231124095011-6.jpg\n",
      "PART_1482832106532585.jpg\n"
     ]
    },
    {
     "name": "stderr",
     "output_type": "stream",
     "text": [
      "image 1/1 /home/ishant/Desktop/KeypointModelTest/New_test_img_2/images/in642120231213085757-7.jpg: 384x640 3 cars, 96.9ms\n",
      "Speed: 2.3ms preprocess, 96.9ms inference, 1.5ms postprocess per image at shape (1, 3, 384, 640)\n",
      "\n",
      "image 1/1 /home/ishant/Desktop/KeypointModelTest/New_test_img_2/images/in745620231211145159-7.jpg: 384x640 1 car, 148.7ms\n",
      "Speed: 2.6ms preprocess, 148.7ms inference, 1.3ms postprocess per image at shape (1, 3, 384, 640)\n"
     ]
    },
    {
     "name": "stdout",
     "output_type": "stream",
     "text": [
      "in642120231213085757-7.jpg\n"
     ]
    },
    {
     "name": "stderr",
     "output_type": "stream",
     "text": [
      "\n",
      "image 1/1 /home/ishant/Desktop/KeypointModelTest/New_test_img_2/images/PART_1477607400418254.jpg: 448x640 1 car, 88.4ms\n",
      "Speed: 3.8ms preprocess, 88.4ms inference, 0.9ms postprocess per image at shape (1, 3, 448, 640)\n",
      "\n"
     ]
    },
    {
     "name": "stdout",
     "output_type": "stream",
     "text": [
      "in745620231211145159-7.jpg\n",
      "PART_1477607400418254.jpg\n"
     ]
    },
    {
     "name": "stderr",
     "output_type": "stream",
     "text": [
      "image 1/1 /home/ishant/Desktop/KeypointModelTest/New_test_img_2/images/PART_4397024580852166.jpg: 480x640 4 cars, 265.0ms\n",
      "Speed: 38.3ms preprocess, 265.0ms inference, 0.9ms postprocess per image at shape (1, 3, 480, 640)\n",
      "\n",
      "image 1/1 /home/ishant/Desktop/KeypointModelTest/New_test_img_2/images/PART_3558690236844843.jpg: 384x640 2 cars, 82.4ms\n",
      "Speed: 6.4ms preprocess, 82.4ms inference, 1.7ms postprocess per image at shape (1, 3, 384, 640)\n",
      "\n"
     ]
    },
    {
     "name": "stdout",
     "output_type": "stream",
     "text": [
      "PART_4397024580852166.jpg\n",
      "PART_3558690236844843.jpg\n"
     ]
    },
    {
     "name": "stderr",
     "output_type": "stream",
     "text": [
      "image 1/1 /home/ishant/Desktop/KeypointModelTest/New_test_img_2/images/in502720231123120621-6.jpg: 384x640 1 car, 80.2ms\n",
      "Speed: 2.2ms preprocess, 80.2ms inference, 0.9ms postprocess per image at shape (1, 3, 384, 640)\n",
      "\n",
      "image 1/1 /home/ishant/Desktop/KeypointModelTest/New_test_img_2/images/PART_1479759940598498.jpg: 480x640 3 cars, 73.2ms\n",
      "Speed: 2.5ms preprocess, 73.2ms inference, 0.7ms postprocess per image at shape (1, 3, 480, 640)\n",
      "\n",
      "image 1/1 /home/ishant/Desktop/KeypointModelTest/New_test_img_2/images/in975420231211105726-2.jpg: 384x640 1 car, 60.3ms\n",
      "Speed: 1.4ms preprocess, 60.3ms inference, 1.0ms postprocess per image at shape (1, 3, 384, 640)\n",
      "\n"
     ]
    },
    {
     "name": "stdout",
     "output_type": "stream",
     "text": [
      "in502720231123120621-6.jpg\n",
      "PART_1479759940598498.jpg\n",
      "in975420231211105726-2.jpg\n"
     ]
    },
    {
     "name": "stderr",
     "output_type": "stream",
     "text": [
      "image 1/1 /home/ishant/Desktop/KeypointModelTest/New_test_img_2/images/in763620231121114511-3.jpg: 384x640 2 cars, 55.4ms\n",
      "Speed: 1.5ms preprocess, 55.4ms inference, 0.7ms postprocess per image at shape (1, 3, 384, 640)\n",
      "\n",
      "image 1/1 /home/ishant/Desktop/KeypointModelTest/New_test_img_2/images/in957620231218121623-8.jpg: 384x640 1 car, 67.0ms\n",
      "Speed: 1.6ms preprocess, 67.0ms inference, 0.9ms postprocess per image at shape (1, 3, 384, 640)\n",
      "\n",
      "image 1/1 /home/ishant/Desktop/KeypointModelTest/New_test_img_2/images/in646920231218133357-8.jpg: 384x640 1 car, 58.1ms\n",
      "Speed: 1.8ms preprocess, 58.1ms inference, 0.8ms postprocess per image at shape (1, 3, 384, 640)\n",
      "\n"
     ]
    },
    {
     "name": "stdout",
     "output_type": "stream",
     "text": [
      "in763620231121114511-3.jpg\n",
      "in957620231218121623-8.jpg\n",
      "in646920231218133357-8.jpg\n"
     ]
    },
    {
     "name": "stderr",
     "output_type": "stream",
     "text": [
      "image 1/1 /home/ishant/Desktop/KeypointModelTest/New_test_img_2/images/in928020231220093827-6.jpg: 384x640 1 car, 61.1ms\n",
      "Speed: 1.7ms preprocess, 61.1ms inference, 0.8ms postprocess per image at shape (1, 3, 384, 640)\n",
      "\n",
      "image 1/1 /home/ishant/Desktop/KeypointModelTest/New_test_img_2/images/in821820231219130304-1.jpg: 384x640 1 car, 67.5ms\n",
      "Speed: 2.0ms preprocess, 67.5ms inference, 0.9ms postprocess per image at shape (1, 3, 384, 640)\n",
      "\n",
      "image 1/1 /home/ishant/Desktop/KeypointModelTest/New_test_img_2/images/part1600168555366341865634231.jpg: 320x640 1 car, 49.2ms\n",
      "Speed: 2.0ms preprocess, 49.2ms inference, 0.8ms postprocess per image at shape (1, 3, 320, 640)\n",
      "\n"
     ]
    },
    {
     "name": "stdout",
     "output_type": "stream",
     "text": [
      "in928020231220093827-6.jpg\n",
      "in821820231219130304-1.jpg\n",
      "part1600168555366341865634231.jpg\n"
     ]
    },
    {
     "name": "stderr",
     "output_type": "stream",
     "text": [
      "image 1/1 /home/ishant/Desktop/KeypointModelTest/New_test_img_2/images/PART_1479562395975901.jpg: 480x640 3 cars, 72.2ms\n",
      "Speed: 2.3ms preprocess, 72.2ms inference, 0.8ms postprocess per image at shape (1, 3, 480, 640)\n",
      "\n",
      "image 1/1 /home/ishant/Desktop/KeypointModelTest/New_test_img_2/images/in779120231119152124-6.jpg: 384x640 3 cars, 114.5ms\n",
      "Speed: 3.9ms preprocess, 114.5ms inference, 1.3ms postprocess per image at shape (1, 3, 384, 640)\n",
      "\n"
     ]
    },
    {
     "name": "stdout",
     "output_type": "stream",
     "text": [
      "PART_1479562395975901.jpg\n",
      "in779120231119152124-6.jpg\n"
     ]
    },
    {
     "name": "stderr",
     "output_type": "stream",
     "text": [
      "image 1/1 /home/ishant/Desktop/KeypointModelTest/New_test_img_2/images/part1600168503074404727423169.jpg: 480x640 3 cars, 70.2ms\n",
      "Speed: 2.5ms preprocess, 70.2ms inference, 0.7ms postprocess per image at shape (1, 3, 480, 640)\n",
      "\n",
      "image 1/1 /home/ishant/Desktop/KeypointModelTest/New_test_img_2/images/in755420231116153659-5.jpg: 384x640 2 cars, 55.3ms\n",
      "Speed: 1.4ms preprocess, 55.3ms inference, 0.9ms postprocess per image at shape (1, 3, 384, 640)\n",
      "\n",
      "image 1/1 /home/ishant/Desktop/KeypointModelTest/New_test_img_2/images/PART_1481672883470520.jpg: 480x640 1 car, 65.9ms\n",
      "Speed: 2.8ms preprocess, 65.9ms inference, 0.9ms postprocess per image at shape (1, 3, 480, 640)\n",
      "\n"
     ]
    },
    {
     "name": "stdout",
     "output_type": "stream",
     "text": [
      "part1600168503074404727423169.jpg\n",
      "in755420231116153659-5.jpg\n",
      "PART_1481672883470520.jpg\n"
     ]
    },
    {
     "name": "stderr",
     "output_type": "stream",
     "text": [
      "image 1/1 /home/ishant/Desktop/KeypointModelTest/New_test_img_2/images/PART_1478486328015152.jpg: 480x640 4 cars, 68.5ms\n",
      "Speed: 2.1ms preprocess, 68.5ms inference, 0.7ms postprocess per image at shape (1, 3, 480, 640)\n",
      "\n",
      "image 1/1 /home/ishant/Desktop/KeypointModelTest/New_test_img_2/images/in779120231119152124-7.jpg: 384x640 2 cars, 124.9ms\n",
      "Speed: 6.7ms preprocess, 124.9ms inference, 0.9ms postprocess per image at shape (1, 3, 384, 640)\n",
      "\n"
     ]
    },
    {
     "name": "stdout",
     "output_type": "stream",
     "text": [
      "PART_1478486328015152.jpg\n",
      "in779120231119152124-7.jpg\n"
     ]
    },
    {
     "name": "stderr",
     "output_type": "stream",
     "text": [
      "image 1/1 /home/ishant/Desktop/KeypointModelTest/New_test_img_2/images/in928020231220093827-1.jpg: 384x640 3 cars, 66.6ms\n",
      "Speed: 1.8ms preprocess, 66.6ms inference, 1.1ms postprocess per image at shape (1, 3, 384, 640)\n",
      "\n",
      "image 1/1 /home/ishant/Desktop/KeypointModelTest/New_test_img_2/images/in292820231124100518-6.jpg: 384x640 2 cars, 59.9ms\n",
      "Speed: 2.0ms preprocess, 59.9ms inference, 0.8ms postprocess per image at shape (1, 3, 384, 640)\n",
      "\n",
      "image 1/1 /home/ishant/Desktop/KeypointModelTest/New_test_img_2/images/in642120231213085757-1.jpg: 384x640 2 cars, 55.7ms\n",
      "Speed: 1.5ms preprocess, 55.7ms inference, 0.6ms postprocess per image at shape (1, 3, 384, 640)\n",
      "\n"
     ]
    },
    {
     "name": "stdout",
     "output_type": "stream",
     "text": [
      "in928020231220093827-1.jpg\n",
      "in292820231124100518-6.jpg\n",
      "in642120231213085757-1.jpg\n"
     ]
    },
    {
     "name": "stderr",
     "output_type": "stream",
     "text": [
      "image 1/1 /home/ishant/Desktop/KeypointModelTest/New_test_img_2/images/in265220231119103239-3.jpg: 384x640 4 cars, 59.1ms\n",
      "Speed: 2.0ms preprocess, 59.1ms inference, 1.0ms postprocess per image at shape (1, 3, 384, 640)\n",
      "\n",
      "image 1/1 /home/ishant/Desktop/KeypointModelTest/New_test_img_2/images/part160016850320663952748547.jpg: 480x640 2 cars, 72.6ms\n",
      "Speed: 2.1ms preprocess, 72.6ms inference, 0.7ms postprocess per image at shape (1, 3, 480, 640)\n",
      "\n"
     ]
    },
    {
     "name": "stdout",
     "output_type": "stream",
     "text": [
      "in265220231119103239-3.jpg\n",
      "part160016850320663952748547.jpg\n"
     ]
    },
    {
     "name": "stderr",
     "output_type": "stream",
     "text": [
      "image 1/1 /home/ishant/Desktop/KeypointModelTest/New_test_img_2/images/in826820231213123248-2.jpg: 384x640 2 cars, 72.2ms\n",
      "Speed: 1.9ms preprocess, 72.2ms inference, 1.0ms postprocess per image at shape (1, 3, 384, 640)\n",
      "\n",
      "image 1/1 /home/ishant/Desktop/KeypointModelTest/New_test_img_2/images/in755420231116153659-7.jpg: 384x640 2 cars, 71.8ms\n",
      "Speed: 9.7ms preprocess, 71.8ms inference, 0.9ms postprocess per image at shape (1, 3, 384, 640)\n",
      "\n"
     ]
    },
    {
     "name": "stdout",
     "output_type": "stream",
     "text": [
      "in826820231213123248-2.jpg\n",
      "in755420231116153659-7.jpg\n"
     ]
    },
    {
     "name": "stderr",
     "output_type": "stream",
     "text": [
      "image 1/1 /home/ishant/Desktop/KeypointModelTest/New_test_img_2/images/PART_1483040902570112.jpg: 512x640 3 cars, 77.1ms\n",
      "Speed: 3.1ms preprocess, 77.1ms inference, 0.9ms postprocess per image at shape (1, 3, 512, 640)\n",
      "\n",
      "image 1/1 /home/ishant/Desktop/KeypointModelTest/New_test_img_2/images/part1600168748451614186364646.jpg: 480x640 2 cars, 67.3ms\n",
      "Speed: 2.3ms preprocess, 67.3ms inference, 0.7ms postprocess per image at shape (1, 3, 480, 640)\n",
      "\n"
     ]
    },
    {
     "name": "stdout",
     "output_type": "stream",
     "text": [
      "PART_1483040902570112.jpg\n",
      "part1600168748451614186364646.jpg\n"
     ]
    },
    {
     "name": "stderr",
     "output_type": "stream",
     "text": [
      "image 1/1 /home/ishant/Desktop/KeypointModelTest/New_test_img_2/images/PART_4409875392172994.jpg: 480x640 3 cars, 69.2ms\n",
      "Speed: 2.2ms preprocess, 69.2ms inference, 0.7ms postprocess per image at shape (1, 3, 480, 640)\n",
      "\n",
      "image 1/1 /home/ishant/Desktop/KeypointModelTest/New_test_img_2/images/PART_1481902021627340.jpg: 480x640 2 cars, 66.6ms\n",
      "Speed: 1.9ms preprocess, 66.6ms inference, 0.7ms postprocess per image at shape (1, 3, 480, 640)\n",
      "\n",
      "image 1/1 /home/ishant/Desktop/KeypointModelTest/New_test_img_2/images/PART_3564205062841876.jpg: 480x640 2 cars, 68.6ms\n",
      "Speed: 2.3ms preprocess, 68.6ms inference, 0.7ms postprocess per image at shape (1, 3, 480, 640)\n"
     ]
    },
    {
     "name": "stdout",
     "output_type": "stream",
     "text": [
      "PART_4409875392172994.jpg\n",
      "PART_1481902021627340.jpg\n"
     ]
    },
    {
     "name": "stderr",
     "output_type": "stream",
     "text": [
      "\n",
      "image 1/1 /home/ishant/Desktop/KeypointModelTest/New_test_img_2/images/PART_1480211880582672.jpg: 480x640 2 cars, 71.9ms\n",
      "Speed: 2.5ms preprocess, 71.9ms inference, 0.8ms postprocess per image at shape (1, 3, 480, 640)\n",
      "\n",
      "image 1/1 /home/ishant/Desktop/KeypointModelTest/New_test_img_2/images/in243120231121121717-8.jpg: 384x640 1 car, 63.0ms\n",
      "Speed: 1.5ms preprocess, 63.0ms inference, 0.8ms postprocess per image at shape (1, 3, 384, 640)\n",
      "\n"
     ]
    },
    {
     "name": "stdout",
     "output_type": "stream",
     "text": [
      "PART_3564205062841876.jpg\n",
      "PART_1480211880582672.jpg\n",
      "in243120231121121717-8.jpg\n"
     ]
    },
    {
     "name": "stderr",
     "output_type": "stream",
     "text": [
      "image 1/1 /home/ishant/Desktop/KeypointModelTest/New_test_img_2/images/in292820231124100518-5.jpg: 384x640 6 cars, 62.5ms\n",
      "Speed: 2.1ms preprocess, 62.5ms inference, 0.7ms postprocess per image at shape (1, 3, 384, 640)\n",
      "\n",
      "image 1/1 /home/ishant/Desktop/KeypointModelTest/New_test_img_2/images/in826820231213123248-6.jpg: 384x640 1 car, 59.2ms\n",
      "Speed: 1.6ms preprocess, 59.2ms inference, 0.9ms postprocess per image at shape (1, 3, 384, 640)\n",
      "\n",
      "image 1/1 /home/ishant/Desktop/KeypointModelTest/New_test_img_2/images/part160016854286321624513875.jpg: 480x640 3 cars, 86.2ms\n",
      "Speed: 2.6ms preprocess, 86.2ms inference, 1.0ms postprocess per image at shape (1, 3, 480, 640)\n"
     ]
    },
    {
     "name": "stdout",
     "output_type": "stream",
     "text": [
      "in292820231124100518-5.jpg\n",
      "No keypoints detected in in292820231124100518-5.jpg\n",
      "in826820231213123248-6.jpg\n",
      "part160016854286321624513875.jpg\n"
     ]
    },
    {
     "name": "stderr",
     "output_type": "stream",
     "text": [
      "\n",
      "image 1/1 /home/ishant/Desktop/KeypointModelTest/New_test_img_2/images/PART_1479059081086908.jpg: 480x640 2 cars, 77.9ms\n",
      "Speed: 2.9ms preprocess, 77.9ms inference, 0.8ms postprocess per image at shape (1, 3, 480, 640)\n",
      "\n",
      "image 1/1 /home/ishant/Desktop/KeypointModelTest/New_test_img_2/images/part1600168366004084637756878.jpg: 480x640 2 cars, 81.8ms\n",
      "Speed: 4.8ms preprocess, 81.8ms inference, 0.9ms postprocess per image at shape (1, 3, 480, 640)\n",
      "\n",
      "image 1/1 /home/ishant/Desktop/KeypointModelTest/New_test_img_2/images/in755420231116153659-6.jpg: 384x640 1 car, 60.8ms\n",
      "Speed: 1.4ms preprocess, 60.8ms inference, 0.9ms postprocess per image at shape (1, 3, 384, 640)\n"
     ]
    },
    {
     "name": "stdout",
     "output_type": "stream",
     "text": [
      "PART_1479059081086908.jpg\n",
      "part1600168366004084637756878.jpg\n"
     ]
    },
    {
     "name": "stderr",
     "output_type": "stream",
     "text": [
      "\n",
      "image 1/1 /home/ishant/Desktop/KeypointModelTest/New_test_img_2/images/in821820231219130304-6.jpg: 384x640 1 car, 53.8ms\n",
      "Speed: 2.3ms preprocess, 53.8ms inference, 0.7ms postprocess per image at shape (1, 3, 384, 640)\n",
      "\n"
     ]
    },
    {
     "name": "stdout",
     "output_type": "stream",
     "text": [
      "in755420231116153659-6.jpg\n",
      "in821820231219130304-6.jpg\n"
     ]
    },
    {
     "name": "stderr",
     "output_type": "stream",
     "text": [
      "image 1/1 /home/ishant/Desktop/KeypointModelTest/New_test_img_2/images/PART_1481593495821827.jpg: 480x640 1 car, 107.1ms\n",
      "Speed: 2.7ms preprocess, 107.1ms inference, 1.4ms postprocess per image at shape (1, 3, 480, 640)\n",
      "\n",
      "image 1/1 /home/ishant/Desktop/KeypointModelTest/New_test_img_2/images/in411620231220133737-5.jpg: 384x640 1 car, 79.6ms\n",
      "Speed: 2.3ms preprocess, 79.6ms inference, 0.8ms postprocess per image at shape (1, 3, 384, 640)\n",
      "\n",
      "image 1/1 /home/ishant/Desktop/KeypointModelTest/New_test_img_2/images/PART_1478329502958288.jpg: 480x640 3 cars, 61.4ms\n",
      "Speed: 2.1ms preprocess, 61.4ms inference, 1.0ms postprocess per image at shape (1, 3, 480, 640)\n"
     ]
    },
    {
     "name": "stdout",
     "output_type": "stream",
     "text": [
      "PART_1481593495821827.jpg\n",
      "in411620231220133737-5.jpg\n"
     ]
    },
    {
     "name": "stderr",
     "output_type": "stream",
     "text": [
      "\n",
      "image 1/1 /home/ishant/Desktop/KeypointModelTest/New_test_img_2/images/PART_3560027113760653.jpg: 480x640 2 cars, 78.0ms\n",
      "Speed: 2.3ms preprocess, 78.0ms inference, 0.7ms postprocess per image at shape (1, 3, 480, 640)\n",
      "\n",
      "image 1/1 /home/ishant/Desktop/KeypointModelTest/New_test_img_2/images/in763620231121114511-7.jpg: 384x640 2 cars, 54.8ms\n",
      "Speed: 1.6ms preprocess, 54.8ms inference, 1.3ms postprocess per image at shape (1, 3, 384, 640)\n"
     ]
    },
    {
     "name": "stdout",
     "output_type": "stream",
     "text": [
      "PART_1478329502958288.jpg\n",
      "PART_3560027113760653.jpg\n",
      "in763620231121114511-7.jpg\n"
     ]
    },
    {
     "name": "stderr",
     "output_type": "stream",
     "text": [
      "\n",
      "image 1/1 /home/ishant/Desktop/KeypointModelTest/New_test_img_2/images/in826820231213123248-5.jpg: 384x640 1 car, 60.9ms\n",
      "Speed: 1.6ms preprocess, 60.9ms inference, 0.8ms postprocess per image at shape (1, 3, 384, 640)\n",
      "\n",
      "image 1/1 /home/ishant/Desktop/KeypointModelTest/New_test_img_2/images/PART_1480293754514517.jpg: 480x640 3 cars, 64.4ms\n",
      "Speed: 2.7ms preprocess, 64.4ms inference, 0.7ms postprocess per image at shape (1, 3, 480, 640)\n",
      "\n",
      "image 1/1 /home/ishant/Desktop/KeypointModelTest/New_test_img_2/images/in836320231214150909-6.jpg: 384x640 1 car, 59.4ms\n",
      "Speed: 1.9ms preprocess, 59.4ms inference, 1.0ms postprocess per image at shape (1, 3, 384, 640)\n",
      "\n"
     ]
    },
    {
     "name": "stdout",
     "output_type": "stream",
     "text": [
      "in826820231213123248-5.jpg\n",
      "PART_1480293754514517.jpg\n",
      "No keypoints detected in PART_1480293754514517.jpg\n",
      "in836320231214150909-6.jpg\n"
     ]
    },
    {
     "name": "stderr",
     "output_type": "stream",
     "text": [
      "image 1/1 /home/ishant/Desktop/KeypointModelTest/New_test_img_2/images/PART_1481446473131123.jpg: 480x640 2 cars, 165.9ms\n",
      "Speed: 6.7ms preprocess, 165.9ms inference, 1.9ms postprocess per image at shape (1, 3, 480, 640)\n",
      "\n",
      "image 1/1 /home/ishant/Desktop/KeypointModelTest/New_test_img_2/images/in265220231119103239-2.jpg: 384x640 2 cars, 140.1ms\n",
      "Speed: 4.2ms preprocess, 140.1ms inference, 1.6ms postprocess per image at shape (1, 3, 384, 640)\n",
      "\n"
     ]
    },
    {
     "name": "stdout",
     "output_type": "stream",
     "text": [
      "PART_1481446473131123.jpg\n",
      "in265220231119103239-2.jpg\n"
     ]
    },
    {
     "name": "stderr",
     "output_type": "stream",
     "text": [
      "image 1/1 /home/ishant/Desktop/KeypointModelTest/New_test_img_2/images/PART_1478141726362045.jpg: 480x640 3 cars, 72.9ms\n",
      "Speed: 3.3ms preprocess, 72.9ms inference, 0.7ms postprocess per image at shape (1, 3, 480, 640)\n",
      "\n",
      "image 1/1 /home/ishant/Desktop/KeypointModelTest/New_test_img_2/images/in763620231121114511-6.jpg: 384x640 1 car, 50.1ms\n",
      "Speed: 2.6ms preprocess, 50.1ms inference, 0.7ms postprocess per image at shape (1, 3, 384, 640)\n",
      "\n",
      "image 1/1 /home/ishant/Desktop/KeypointModelTest/New_test_img_2/images/in535020231211135109-7.jpg: 384x640 2 cars, 62.1ms\n",
      "Speed: 1.7ms preprocess, 62.1ms inference, 0.8ms postprocess per image at shape (1, 3, 384, 640)\n",
      "\n"
     ]
    },
    {
     "name": "stdout",
     "output_type": "stream",
     "text": [
      "PART_1478141726362045.jpg\n",
      "in763620231121114511-6.jpg\n",
      "in535020231211135109-7.jpg\n"
     ]
    },
    {
     "name": "stderr",
     "output_type": "stream",
     "text": [
      "image 1/1 /home/ishant/Desktop/KeypointModelTest/New_test_img_2/images/in411620231220133737-4.jpg: 384x640 5 cars, 88.2ms\n",
      "Speed: 4.0ms preprocess, 88.2ms inference, 1.0ms postprocess per image at shape (1, 3, 384, 640)\n",
      "\n",
      "image 1/1 /home/ishant/Desktop/KeypointModelTest/New_test_img_2/images/part1600168372784216486895332.jpg: 448x640 1 car, 67.9ms\n",
      "Speed: 2.3ms preprocess, 67.9ms inference, 1.4ms postprocess per image at shape (1, 3, 448, 640)\n",
      "\n",
      "image 1/1 /home/ishant/Desktop/KeypointModelTest/New_test_img_2/images/in535020231211135109-3.jpg: 384x640 2 cars, 59.6ms\n",
      "Speed: 2.1ms preprocess, 59.6ms inference, 0.8ms postprocess per image at shape (1, 3, 384, 640)\n"
     ]
    },
    {
     "name": "stdout",
     "output_type": "stream",
     "text": [
      "in411620231220133737-4.jpg\n",
      "part1600168372784216486895332.jpg\n"
     ]
    },
    {
     "name": "stderr",
     "output_type": "stream",
     "text": [
      "\n",
      "image 1/1 /home/ishant/Desktop/KeypointModelTest/New_test_img_2/images/PART_1477472546470809.jpg: 480x640 1 car, 103.6ms\n",
      "Speed: 5.0ms preprocess, 103.6ms inference, 0.9ms postprocess per image at shape (1, 3, 480, 640)\n",
      "\n"
     ]
    },
    {
     "name": "stdout",
     "output_type": "stream",
     "text": [
      "in535020231211135109-3.jpg\n",
      "PART_1477472546470809.jpg\n"
     ]
    },
    {
     "name": "stderr",
     "output_type": "stream",
     "text": [
      "image 1/1 /home/ishant/Desktop/KeypointModelTest/New_test_img_2/images/in243120231121121717-4.jpg: 384x640 1 car, 70.9ms\n",
      "Speed: 2.9ms preprocess, 70.9ms inference, 0.7ms postprocess per image at shape (1, 3, 384, 640)\n",
      "\n",
      "image 1/1 /home/ishant/Desktop/KeypointModelTest/New_test_img_2/images/PART_1483643331452636.jpg: 384x640 1 car, 58.8ms\n",
      "Speed: 2.1ms preprocess, 58.8ms inference, 0.8ms postprocess per image at shape (1, 3, 384, 640)\n",
      "\n",
      "image 1/1 /home/ishant/Desktop/KeypointModelTest/New_test_img_2/images/PART_1479515160134545.jpg: 480x640 1 car, 55.3ms\n",
      "Speed: 2.0ms preprocess, 55.3ms inference, 0.9ms postprocess per image at shape (1, 3, 480, 640)\n",
      "\n"
     ]
    },
    {
     "name": "stdout",
     "output_type": "stream",
     "text": [
      "in243120231121121717-4.jpg\n",
      "PART_1483643331452636.jpg\n",
      "PART_1479515160134545.jpg\n"
     ]
    },
    {
     "name": "stderr",
     "output_type": "stream",
     "text": [
      "image 1/1 /home/ishant/Desktop/KeypointModelTest/New_test_img_2/images/PART_1482641886229208.jpg: 480x640 2 cars, 64.8ms\n",
      "Speed: 3.1ms preprocess, 64.8ms inference, 0.8ms postprocess per image at shape (1, 3, 480, 640)\n",
      "\n",
      "image 1/1 /home/ishant/Desktop/KeypointModelTest/New_test_img_2/images/in779120231119152124-2.jpg: 384x640 4 cars, 64.0ms\n",
      "Speed: 2.0ms preprocess, 64.0ms inference, 0.7ms postprocess per image at shape (1, 3, 384, 640)\n",
      "\n",
      "image 1/1 /home/ishant/Desktop/KeypointModelTest/New_test_img_2/images/PART_1477786870210365.jpg: 480x640 1 car, 72.2ms\n",
      "Speed: 3.5ms preprocess, 72.2ms inference, 0.7ms postprocess per image at shape (1, 3, 480, 640)\n"
     ]
    },
    {
     "name": "stdout",
     "output_type": "stream",
     "text": [
      "PART_1482641886229208.jpg\n",
      "in779120231119152124-2.jpg\n"
     ]
    },
    {
     "name": "stderr",
     "output_type": "stream",
     "text": [
      "\n",
      "image 1/1 /home/ishant/Desktop/KeypointModelTest/New_test_img_2/images/in214320231205082545-5.jpg: 384x640 1 car, 68.7ms\n",
      "Speed: 1.8ms preprocess, 68.7ms inference, 0.9ms postprocess per image at shape (1, 3, 384, 640)\n",
      "\n",
      "image 1/1 /home/ishant/Desktop/KeypointModelTest/New_test_img_2/images/PART_1481664768556479.jpg: 448x640 3 cars, 68.7ms\n",
      "Speed: 2.7ms preprocess, 68.7ms inference, 0.7ms postprocess per image at shape (1, 3, 448, 640)\n"
     ]
    },
    {
     "name": "stdout",
     "output_type": "stream",
     "text": [
      "PART_1477786870210365.jpg\n",
      "in214320231205082545-5.jpg\n"
     ]
    },
    {
     "name": "stderr",
     "output_type": "stream",
     "text": [
      "\n",
      "image 1/1 /home/ishant/Desktop/KeypointModelTest/New_test_img_2/images/PART_1483441612726530.jpg: 320x640 1 car, 49.1ms\n",
      "Speed: 1.5ms preprocess, 49.1ms inference, 0.6ms postprocess per image at shape (1, 3, 320, 640)\n",
      "\n",
      "image 1/1 /home/ishant/Desktop/KeypointModelTest/New_test_img_2/images/in836320231214150909-3.jpg: 384x640 3 cars, 60.6ms\n",
      "Speed: 2.3ms preprocess, 60.6ms inference, 0.6ms postprocess per image at shape (1, 3, 384, 640)\n",
      "\n"
     ]
    },
    {
     "name": "stdout",
     "output_type": "stream",
     "text": [
      "PART_1481664768556479.jpg\n",
      "PART_1483441612726530.jpg\n",
      "in836320231214150909-3.jpg\n"
     ]
    },
    {
     "name": "stderr",
     "output_type": "stream",
     "text": [
      "image 1/1 /home/ishant/Desktop/KeypointModelTest/New_test_img_2/images/part1600169077456680518725884.jpg: 480x640 2 cars, 78.3ms\n",
      "Speed: 2.2ms preprocess, 78.3ms inference, 0.8ms postprocess per image at shape (1, 3, 480, 640)\n",
      "\n",
      "image 1/1 /home/ishant/Desktop/KeypointModelTest/New_test_img_2/images/PART_1483108249233619.jpg: 512x640 3 cars, 59.5ms\n",
      "Speed: 2.7ms preprocess, 59.5ms inference, 0.8ms postprocess per image at shape (1, 3, 512, 640)\n",
      "\n",
      "image 1/1 /home/ishant/Desktop/KeypointModelTest/New_test_img_2/images/part1600169090973281685103148.jpg: 480x640 3 cars, 76.0ms\n",
      "Speed: 2.7ms preprocess, 76.0ms inference, 0.8ms postprocess per image at shape (1, 3, 480, 640)\n"
     ]
    },
    {
     "name": "stdout",
     "output_type": "stream",
     "text": [
      "part1600169077456680518725884.jpg\n",
      "PART_1483108249233619.jpg\n"
     ]
    },
    {
     "name": "stderr",
     "output_type": "stream",
     "text": [
      "\n",
      "image 1/1 /home/ishant/Desktop/KeypointModelTest/New_test_img_2/images/part1600169008038940490818014.jpg: 480x640 2 cars, 114.3ms\n",
      "Speed: 7.7ms preprocess, 114.3ms inference, 1.4ms postprocess per image at shape (1, 3, 480, 640)\n",
      "\n"
     ]
    },
    {
     "name": "stdout",
     "output_type": "stream",
     "text": [
      "part1600169090973281685103148.jpg\n",
      "part1600169008038940490818014.jpg\n"
     ]
    },
    {
     "name": "stderr",
     "output_type": "stream",
     "text": [
      "image 1/1 /home/ishant/Desktop/KeypointModelTest/New_test_img_2/images/rear_right_view-20230803123236.jpeg: 384x640 2 cars, 64.5ms\n",
      "Speed: 2.2ms preprocess, 64.5ms inference, 0.8ms postprocess per image at shape (1, 3, 384, 640)\n",
      "\n",
      "image 1/1 /home/ishant/Desktop/KeypointModelTest/New_test_img_2/images/cover_image-20231008101255.jpg: 384x640 3 cars, 60.1ms\n",
      "Speed: 1.7ms preprocess, 60.1ms inference, 0.7ms postprocess per image at shape (1, 3, 384, 640)\n",
      "\n",
      "image 1/1 /home/ishant/Desktop/KeypointModelTest/New_test_img_2/images/cover_image-20230808130147.jpeg: 384x640 1 car, 62.1ms\n",
      "Speed: 1.5ms preprocess, 62.1ms inference, 0.7ms postprocess per image at shape (1, 3, 384, 640)\n",
      "\n"
     ]
    },
    {
     "name": "stdout",
     "output_type": "stream",
     "text": [
      "rear_right_view-20230803123236.jpeg\n",
      "cover_image-20231008101255.jpg\n",
      "cover_image-20230808130147.jpeg\n"
     ]
    },
    {
     "name": "stderr",
     "output_type": "stream",
     "text": [
      "image 1/1 /home/ishant/Desktop/KeypointModelTest/New_test_img_2/images/cover_image-20230922181923.jpeg: 384x640 2 cars, 79.2ms\n",
      "Speed: 2.2ms preprocess, 79.2ms inference, 2.0ms postprocess per image at shape (1, 3, 384, 640)\n",
      "\n",
      "image 1/1 /home/ishant/Desktop/KeypointModelTest/New_test_img_2/images/front_right_view-20231129110435.jpg: 384x640 1 car, 72.4ms\n",
      "Speed: 2.1ms preprocess, 72.4ms inference, 0.7ms postprocess per image at shape (1, 3, 384, 640)\n",
      "\n",
      "image 1/1 /home/ishant/Desktop/KeypointModelTest/New_test_img_2/images/rear_right_view-20230811143949.jpeg: 384x640 1 car, 57.0ms\n",
      "Speed: 1.8ms preprocess, 57.0ms inference, 0.8ms postprocess per image at shape (1, 3, 384, 640)\n"
     ]
    },
    {
     "name": "stdout",
     "output_type": "stream",
     "text": [
      "cover_image-20230922181923.jpeg\n",
      "front_right_view-20231129110435.jpg\n"
     ]
    },
    {
     "name": "stderr",
     "output_type": "stream",
     "text": [
      "\n",
      "image 1/1 /home/ishant/Desktop/KeypointModelTest/New_test_img_2/images/front_right_view-20231010184313.jpg: 384x640 2 cars, 65.2ms\n",
      "Speed: 2.4ms preprocess, 65.2ms inference, 0.8ms postprocess per image at shape (1, 3, 384, 640)\n",
      "\n",
      "image 1/1 /home/ishant/Desktop/KeypointModelTest/New_test_img_2/images/rear_left_view-20231214103426.jpg: 384x640 1 car, 53.9ms\n",
      "Speed: 3.2ms preprocess, 53.9ms inference, 0.8ms postprocess per image at shape (1, 3, 384, 640)\n",
      "\n"
     ]
    },
    {
     "name": "stdout",
     "output_type": "stream",
     "text": [
      "rear_right_view-20230811143949.jpeg\n",
      "front_right_view-20231010184313.jpg\n",
      "rear_left_view-20231214103426.jpg\n"
     ]
    },
    {
     "name": "stderr",
     "output_type": "stream",
     "text": [
      "image 1/1 /home/ishant/Desktop/KeypointModelTest/New_test_img_2/images/rear_right_view-20230808130415.jpeg: 384x640 1 car, 70.7ms\n",
      "Speed: 1.6ms preprocess, 70.7ms inference, 0.8ms postprocess per image at shape (1, 3, 384, 640)\n",
      "\n",
      "image 1/1 /home/ishant/Desktop/KeypointModelTest/New_test_img_2/images/rear_right_view-20230611142129.jpg: 384x640 3 cars, 63.3ms\n",
      "Speed: 1.6ms preprocess, 63.3ms inference, 0.8ms postprocess per image at shape (1, 3, 384, 640)\n",
      "\n",
      "image 1/1 /home/ishant/Desktop/KeypointModelTest/New_test_img_2/images/rear_left_view-20230910101658.jpg: 384x640 2 cars, 62.4ms\n",
      "Speed: 2.2ms preprocess, 62.4ms inference, 0.7ms postprocess per image at shape (1, 3, 384, 640)\n",
      "\n"
     ]
    },
    {
     "name": "stdout",
     "output_type": "stream",
     "text": [
      "rear_right_view-20230808130415.jpeg\n",
      "rear_right_view-20230611142129.jpg\n",
      "rear_left_view-20230910101658.jpg\n"
     ]
    },
    {
     "name": "stderr",
     "output_type": "stream",
     "text": [
      "image 1/1 /home/ishant/Desktop/KeypointModelTest/New_test_img_2/images/cover_image-20231006135947.jpeg: 384x640 3 cars, 49.9ms\n",
      "Speed: 1.8ms preprocess, 49.9ms inference, 0.7ms postprocess per image at shape (1, 3, 384, 640)\n",
      "\n",
      "image 1/1 /home/ishant/Desktop/KeypointModelTest/New_test_img_2/images/rear_left_view-20231016185751.jpg: 384x640 3 cars, 68.6ms\n",
      "Speed: 2.3ms preprocess, 68.6ms inference, 0.8ms postprocess per image at shape (1, 3, 384, 640)\n",
      "\n",
      "image 1/1 /home/ishant/Desktop/KeypointModelTest/New_test_img_2/images/front_right_view-20240103130714.jpg: 384x640 1 car, 59.4ms\n",
      "Speed: 1.5ms preprocess, 59.4ms inference, 0.9ms postprocess per image at shape (1, 3, 384, 640)\n",
      "\n"
     ]
    },
    {
     "name": "stdout",
     "output_type": "stream",
     "text": [
      "cover_image-20231006135947.jpeg\n",
      "rear_left_view-20231016185751.jpg\n",
      "front_right_view-20240103130714.jpg\n"
     ]
    },
    {
     "name": "stderr",
     "output_type": "stream",
     "text": [
      "image 1/1 /home/ishant/Desktop/KeypointModelTest/New_test_img_2/images/rear_right_view-20230929231239.jpg: 384x640 1 car, 48.9ms\n",
      "Speed: 1.4ms preprocess, 48.9ms inference, 0.8ms postprocess per image at shape (1, 3, 384, 640)\n",
      "\n",
      "image 1/1 /home/ishant/Desktop/KeypointModelTest/New_test_img_2/images/rear_right_view-20230522160751.jpg: 384x640 3 cars, 59.3ms\n",
      "Speed: 1.7ms preprocess, 59.3ms inference, 0.7ms postprocess per image at shape (1, 3, 384, 640)\n",
      "\n",
      "image 1/1 /home/ishant/Desktop/KeypointModelTest/New_test_img_2/images/left_side_view-20231010184240.jpg: 384x640 2 cars, 58.7ms\n",
      "Speed: 2.2ms preprocess, 58.7ms inference, 0.9ms postprocess per image at shape (1, 3, 384, 640)\n",
      "\n"
     ]
    },
    {
     "name": "stdout",
     "output_type": "stream",
     "text": [
      "rear_right_view-20230929231239.jpg\n",
      "rear_right_view-20230522160751.jpg\n",
      "left_side_view-20231010184240.jpg\n"
     ]
    },
    {
     "name": "stderr",
     "output_type": "stream",
     "text": [
      "image 1/1 /home/ishant/Desktop/KeypointModelTest/New_test_img_2/images/cover_image-20231005124746.jpeg: 384x640 3 cars, 53.7ms\n",
      "Speed: 1.6ms preprocess, 53.7ms inference, 0.7ms postprocess per image at shape (1, 3, 384, 640)\n",
      "\n",
      "image 1/1 /home/ishant/Desktop/KeypointModelTest/New_test_img_2/images/rear_left_view-20230331174028.jpg: 384x640 2 cars, 108.9ms\n",
      "Speed: 4.9ms preprocess, 108.9ms inference, 1.3ms postprocess per image at shape (1, 3, 384, 640)\n",
      "\n"
     ]
    },
    {
     "name": "stdout",
     "output_type": "stream",
     "text": [
      "cover_image-20231005124746.jpeg\n",
      "rear_left_view-20230331174028.jpg\n"
     ]
    },
    {
     "name": "stderr",
     "output_type": "stream",
     "text": [
      "image 1/1 /home/ishant/Desktop/KeypointModelTest/New_test_img_2/images/right_side_view-20231121170009.jpg: 384x640 1 car, 63.7ms\n",
      "Speed: 2.3ms preprocess, 63.7ms inference, 0.9ms postprocess per image at shape (1, 3, 384, 640)\n",
      "\n",
      "image 1/1 /home/ishant/Desktop/KeypointModelTest/New_test_img_2/images/right_side_view-20230611142059.jpg: 384x640 2 cars, 68.6ms\n",
      "Speed: 1.7ms preprocess, 68.6ms inference, 0.8ms postprocess per image at shape (1, 3, 384, 640)\n",
      "\n",
      "image 1/1 /home/ishant/Desktop/KeypointModelTest/New_test_img_2/images/left_side_view-20231129104249.jpg: 384x640 1 car, 70.1ms\n",
      "Speed: 3.4ms preprocess, 70.1ms inference, 1.1ms postprocess per image at shape (1, 3, 384, 640)\n"
     ]
    },
    {
     "name": "stdout",
     "output_type": "stream",
     "text": [
      "right_side_view-20231121170009.jpg\n",
      "right_side_view-20230611142059.jpg\n"
     ]
    },
    {
     "name": "stderr",
     "output_type": "stream",
     "text": [
      "\n",
      "image 1/1 /home/ishant/Desktop/KeypointModelTest/New_test_img_2/images/right_side_view-20230519173548.jpeg: 384x640 2 cars, 60.8ms\n",
      "Speed: 2.5ms preprocess, 60.8ms inference, 0.7ms postprocess per image at shape (1, 3, 384, 640)\n",
      "\n",
      "image 1/1 /home/ishant/Desktop/KeypointModelTest/New_test_img_2/images/rear_left_view-20230215190012.jpeg: 384x640 2 cars, 66.5ms\n",
      "Speed: 1.7ms preprocess, 66.5ms inference, 1.1ms postprocess per image at shape (1, 3, 384, 640)\n",
      "\n"
     ]
    },
    {
     "name": "stdout",
     "output_type": "stream",
     "text": [
      "left_side_view-20231129104249.jpg\n",
      "right_side_view-20230519173548.jpeg\n",
      "rear_left_view-20230215190012.jpeg\n"
     ]
    },
    {
     "name": "stderr",
     "output_type": "stream",
     "text": [
      "image 1/1 /home/ishant/Desktop/KeypointModelTest/New_test_img_2/images/rear_left_view-20221104130948.jpeg: 384x640 3 cars, 94.4ms\n",
      "Speed: 3.1ms preprocess, 94.4ms inference, 1.3ms postprocess per image at shape (1, 3, 384, 640)\n",
      "\n",
      "image 1/1 /home/ishant/Desktop/KeypointModelTest/New_test_img_2/images/cover_image-20231219133353.jpeg: 384x640 1 car, 97.0ms\n",
      "Speed: 3.1ms preprocess, 97.0ms inference, 1.3ms postprocess per image at shape (1, 3, 384, 640)\n",
      "\n"
     ]
    },
    {
     "name": "stdout",
     "output_type": "stream",
     "text": [
      "rear_left_view-20221104130948.jpeg\n",
      "cover_image-20231219133353.jpeg\n"
     ]
    },
    {
     "name": "stderr",
     "output_type": "stream",
     "text": [
      "image 1/1 /home/ishant/Desktop/KeypointModelTest/New_test_img_2/images/left_side_view-20231229091312.jpg: 384x640 1 car, 47.6ms\n",
      "Speed: 1.7ms preprocess, 47.6ms inference, 0.7ms postprocess per image at shape (1, 3, 384, 640)\n",
      "\n",
      "image 1/1 /home/ishant/Desktop/KeypointModelTest/New_test_img_2/images/left_side_view-20231129110404.jpg: 384x640 1 car, 69.2ms\n",
      "Speed: 1.8ms preprocess, 69.2ms inference, 0.9ms postprocess per image at shape (1, 3, 384, 640)\n",
      "\n"
     ]
    },
    {
     "name": "stdout",
     "output_type": "stream",
     "text": [
      "left_side_view-20231229091312.jpg\n",
      "left_side_view-20231129110404.jpg\n"
     ]
    },
    {
     "name": "stderr",
     "output_type": "stream",
     "text": [
      "image 1/1 /home/ishant/Desktop/KeypointModelTest/New_test_img_2/images/rear_right_view-20230526143323.jpeg: 384x640 2 cars, 88.2ms\n",
      "Speed: 2.1ms preprocess, 88.2ms inference, 0.9ms postprocess per image at shape (1, 3, 384, 640)\n",
      "\n",
      "image 1/1 /home/ishant/Desktop/KeypointModelTest/New_test_img_2/images/rear_left_view-20240109213150.jpg: 384x640 1 car, 63.6ms\n",
      "Speed: 2.3ms preprocess, 63.6ms inference, 0.7ms postprocess per image at shape (1, 3, 384, 640)\n",
      "\n",
      "image 1/1 /home/ishant/Desktop/KeypointModelTest/New_test_img_2/images/rear_left_view-20231229091423.jpg: 384x640 2 cars, 54.4ms\n",
      "Speed: 2.5ms preprocess, 54.4ms inference, 1.2ms postprocess per image at shape (1, 3, 384, 640)\n",
      "\n"
     ]
    },
    {
     "name": "stdout",
     "output_type": "stream",
     "text": [
      "rear_right_view-20230526143323.jpeg\n",
      "rear_left_view-20240109213150.jpg\n",
      "rear_left_view-20231229091423.jpg\n"
     ]
    },
    {
     "name": "stderr",
     "output_type": "stream",
     "text": [
      "image 1/1 /home/ishant/Desktop/KeypointModelTest/New_test_img_2/images/rear_right_view-20230623143227.jpg: 384x640 1 car, 76.0ms\n",
      "Speed: 3.3ms preprocess, 76.0ms inference, 0.9ms postprocess per image at shape (1, 3, 384, 640)\n",
      "\n",
      "image 1/1 /home/ishant/Desktop/KeypointModelTest/New_test_img_2/images/left_side_view-20230903153432.jpg: 384x640 1 car, 63.3ms\n",
      "Speed: 1.7ms preprocess, 63.3ms inference, 0.8ms postprocess per image at shape (1, 3, 384, 640)\n",
      "\n",
      "image 1/1 /home/ishant/Desktop/KeypointModelTest/New_test_img_2/images/rear_left_view-20230922182127.jpeg: 384x640 2 cars, 78.0ms\n",
      "Speed: 3.1ms preprocess, 78.0ms inference, 0.7ms postprocess per image at shape (1, 3, 384, 640)\n"
     ]
    },
    {
     "name": "stdout",
     "output_type": "stream",
     "text": [
      "rear_right_view-20230623143227.jpg\n",
      "left_side_view-20230903153432.jpg\n"
     ]
    },
    {
     "name": "stderr",
     "output_type": "stream",
     "text": [
      "\n",
      "image 1/1 /home/ishant/Desktop/KeypointModelTest/New_test_img_2/images/rear_right_view-20231016185803.jpg: 384x640 2 cars, 72.3ms\n",
      "Speed: 1.9ms preprocess, 72.3ms inference, 0.9ms postprocess per image at shape (1, 3, 384, 640)\n",
      "\n",
      "image 1/1 /home/ishant/Desktop/KeypointModelTest/New_test_img_2/images/right_side_view-20231008101347.jpg: 384x640 1 car, 62.4ms\n",
      "Speed: 2.4ms preprocess, 62.4ms inference, 0.7ms postprocess per image at shape (1, 3, 384, 640)\n"
     ]
    },
    {
     "name": "stdout",
     "output_type": "stream",
     "text": [
      "rear_left_view-20230922182127.jpeg\n",
      "rear_right_view-20231016185803.jpg\n",
      "right_side_view-20231008101347.jpg\n"
     ]
    },
    {
     "name": "stderr",
     "output_type": "stream",
     "text": [
      "\n",
      "image 1/1 /home/ishant/Desktop/KeypointModelTest/New_test_img_2/images/right_side_view-20230929231204.jpg: 384x640 1 car, 66.2ms\n",
      "Speed: 1.8ms preprocess, 66.2ms inference, 0.8ms postprocess per image at shape (1, 3, 384, 640)\n",
      "\n",
      "image 1/1 /home/ishant/Desktop/KeypointModelTest/New_test_img_2/images/rear_right_view-20221221130716.jpg: 384x640 2 cars, 62.6ms\n",
      "Speed: 1.9ms preprocess, 62.6ms inference, 0.9ms postprocess per image at shape (1, 3, 384, 640)\n",
      "\n"
     ]
    },
    {
     "name": "stdout",
     "output_type": "stream",
     "text": [
      "right_side_view-20230929231204.jpg\n",
      "rear_right_view-20221221130716.jpg\n"
     ]
    },
    {
     "name": "stderr",
     "output_type": "stream",
     "text": [
      "image 1/1 /home/ishant/Desktop/KeypointModelTest/New_test_img_2/images/right_side_view-20230307161432.jpg: 384x640 1 car, 115.2ms\n",
      "Speed: 2.2ms preprocess, 115.2ms inference, 1.5ms postprocess per image at shape (1, 3, 384, 640)\n",
      "\n",
      "image 1/1 /home/ishant/Desktop/KeypointModelTest/New_test_img_2/images/rear_left_view-20230611142123.jpg: 384x640 2 cars, 83.7ms\n",
      "Speed: 2.2ms preprocess, 83.7ms inference, 0.8ms postprocess per image at shape (1, 3, 384, 640)\n",
      "\n"
     ]
    },
    {
     "name": "stdout",
     "output_type": "stream",
     "text": [
      "right_side_view-20230307161432.jpg\n",
      "rear_left_view-20230611142123.jpg\n"
     ]
    },
    {
     "name": "stderr",
     "output_type": "stream",
     "text": [
      "image 1/1 /home/ishant/Desktop/KeypointModelTest/New_test_img_2/images/right_side_view-20230111141846.jpeg: 384x640 2 cars, 68.7ms\n",
      "Speed: 1.8ms preprocess, 68.7ms inference, 0.9ms postprocess per image at shape (1, 3, 384, 640)\n",
      "\n",
      "image 1/1 /home/ishant/Desktop/KeypointModelTest/New_test_img_2/images/front_right_view-20230215190023.jpeg: 384x640 2 cars, 77.7ms\n",
      "Speed: 2.1ms preprocess, 77.7ms inference, 0.9ms postprocess per image at shape (1, 3, 384, 640)\n",
      "\n"
     ]
    },
    {
     "name": "stdout",
     "output_type": "stream",
     "text": [
      "right_side_view-20230111141846.jpeg\n",
      "front_right_view-20230215190023.jpeg\n"
     ]
    },
    {
     "name": "stderr",
     "output_type": "stream",
     "text": [
      "image 1/1 /home/ishant/Desktop/KeypointModelTest/New_test_img_2/images/left_side_view-20240111121000.jpg: 384x640 1 car, 114.2ms\n",
      "Speed: 3.4ms preprocess, 114.2ms inference, 1.3ms postprocess per image at shape (1, 3, 384, 640)\n",
      "\n",
      "image 1/1 /home/ishant/Desktop/KeypointModelTest/New_test_img_2/images/rear_right_view-20231129104342.jpg: 384x640 1 car, 51.6ms\n",
      "Speed: 2.2ms preprocess, 51.6ms inference, 0.7ms postprocess per image at shape (1, 3, 384, 640)\n",
      "\n",
      "image 1/1 /home/ishant/Desktop/KeypointModelTest/New_test_img_2/images/cover_image-20230331173829.jpg: 384x640 1 car, 60.8ms\n",
      "Speed: 1.7ms preprocess, 60.8ms inference, 0.7ms postprocess per image at shape (1, 3, 384, 640)\n",
      "\n"
     ]
    },
    {
     "name": "stdout",
     "output_type": "stream",
     "text": [
      "left_side_view-20240111121000.jpg\n",
      "rear_right_view-20231129104342.jpg\n",
      "cover_image-20230331173829.jpg\n"
     ]
    },
    {
     "name": "stderr",
     "output_type": "stream",
     "text": [
      "image 1/1 /home/ishant/Desktop/KeypointModelTest/New_test_img_2/images/wheels_tyres-20230808130429.jpeg: 384x640 1 car, 49.5ms\n",
      "Speed: 1.9ms preprocess, 49.5ms inference, 1.0ms postprocess per image at shape (1, 3, 384, 640)\n",
      "\n",
      "image 1/1 /home/ishant/Desktop/KeypointModelTest/New_test_img_2/images/front_right_view-20230808130406.jpeg: 384x640 1 car, 64.2ms\n",
      "Speed: 1.6ms preprocess, 64.2ms inference, 0.8ms postprocess per image at shape (1, 3, 384, 640)\n",
      "\n",
      "image 1/1 /home/ishant/Desktop/KeypointModelTest/New_test_img_2/images/cover_image-20240109213019.jpg: 384x640 1 car, 59.7ms\n",
      "Speed: 1.5ms preprocess, 59.7ms inference, 1.0ms postprocess per image at shape (1, 3, 384, 640)\n",
      "\n"
     ]
    },
    {
     "name": "stdout",
     "output_type": "stream",
     "text": [
      "wheels_tyres-20230808130429.jpeg\n",
      "front_right_view-20230808130406.jpeg\n",
      "cover_image-20240109213019.jpg\n"
     ]
    },
    {
     "name": "stderr",
     "output_type": "stream",
     "text": [
      "image 1/1 /home/ishant/Desktop/KeypointModelTest/New_test_img_2/images/right_side_view-20230623143216.jpg: 384x640 1 car, 73.5ms\n",
      "Speed: 1.7ms preprocess, 73.5ms inference, 0.9ms postprocess per image at shape (1, 3, 384, 640)\n",
      "\n",
      "image 1/1 /home/ishant/Desktop/KeypointModelTest/New_test_img_2/images/cover_image-20240103130638.jpg: 384x640 1 car, 69.0ms\n",
      "Speed: 2.9ms preprocess, 69.0ms inference, 0.9ms postprocess per image at shape (1, 3, 384, 640)\n",
      "\n",
      "image 1/1 /home/ishant/Desktop/KeypointModelTest/New_test_img_2/images/rear_left_view-20230111141859.jpeg: 384x640 2 cars, 59.9ms\n",
      "Speed: 1.9ms preprocess, 59.9ms inference, 1.1ms postprocess per image at shape (1, 3, 384, 640)\n"
     ]
    },
    {
     "name": "stdout",
     "output_type": "stream",
     "text": [
      "right_side_view-20230623143216.jpg\n",
      "cover_image-20240103130638.jpg\n",
      "rear_left_view-20230111141859.jpeg"
     ]
    },
    {
     "name": "stderr",
     "output_type": "stream",
     "text": [
      "\n",
      "image 1/1 /home/ishant/Desktop/KeypointModelTest/New_test_img_2/images/right_side_view-20231129104301.jpg: 384x640 1 car, 66.9ms\n",
      "Speed: 3.0ms preprocess, 66.9ms inference, 0.8ms postprocess per image at shape (1, 3, 384, 640)\n",
      "\n",
      "image 1/1 /home/ishant/Desktop/KeypointModelTest/New_test_img_2/images/right_side_view-20240103130705.jpg: 384x640 1 car, 47.5ms\n",
      "Speed: 1.6ms preprocess, 47.5ms inference, 0.8ms postprocess per image at shape (1, 3, 384, 640)\n",
      "\n"
     ]
    },
    {
     "name": "stdout",
     "output_type": "stream",
     "text": [
      "\n",
      "right_side_view-20231129104301.jpg\n",
      "right_side_view-20240103130705.jpg\n"
     ]
    },
    {
     "name": "stderr",
     "output_type": "stream",
     "text": [
      "image 1/1 /home/ishant/Desktop/KeypointModelTest/New_test_img_2/images/cover_image-20231010184204.jpg: 384x640 3 cars, 64.4ms\n",
      "Speed: 1.8ms preprocess, 64.4ms inference, 1.0ms postprocess per image at shape (1, 3, 384, 640)\n",
      "\n",
      "image 1/1 /home/ishant/Desktop/KeypointModelTest/New_test_img_2/images/cover_image-20220502122645.jpg: 384x640 1 car, 57.8ms\n",
      "Speed: 1.8ms preprocess, 57.8ms inference, 0.7ms postprocess per image at shape (1, 3, 384, 640)\n",
      "\n",
      "image 1/1 /home/ishant/Desktop/KeypointModelTest/New_test_img_2/images/rear_left_view-20231129110445.jpg: 384x640 1 car, 67.7ms\n",
      "Speed: 1.7ms preprocess, 67.7ms inference, 0.8ms postprocess per image at shape (1, 3, 384, 640)\n",
      "\n"
     ]
    },
    {
     "name": "stdout",
     "output_type": "stream",
     "text": [
      "cover_image-20231010184204.jpg\n",
      "cover_image-20220502122645.jpg\n",
      "rear_left_view-20231129110445.jpg\n"
     ]
    },
    {
     "name": "stderr",
     "output_type": "stream",
     "text": [
      "image 1/1 /home/ishant/Desktop/KeypointModelTest/New_test_img_2/images/rear_left_view-20231129104327.jpg: 384x640 1 car, 82.2ms\n",
      "Speed: 1.7ms preprocess, 82.2ms inference, 1.4ms postprocess per image at shape (1, 3, 384, 640)\n",
      "\n",
      "image 1/1 /home/ishant/Desktop/KeypointModelTest/New_test_img_2/images/front_right_view-20230331173917.jpg: 384x640 2 cars, 55.2ms\n",
      "Speed: 1.6ms preprocess, 55.2ms inference, 0.7ms postprocess per image at shape (1, 3, 384, 640)\n",
      "\n",
      "image 1/1 /home/ishant/Desktop/KeypointModelTest/New_test_img_2/images/rear_left_view-20231008101403.jpg: 384x640 3 cars, 68.4ms\n",
      "Speed: 1.9ms preprocess, 68.4ms inference, 1.7ms postprocess per image at shape (1, 3, 384, 640)\n",
      "\n"
     ]
    },
    {
     "name": "stdout",
     "output_type": "stream",
     "text": [
      "rear_left_view-20231129104327.jpg\n",
      "front_right_view-20230331173917.jpg\n",
      "rear_left_view-20231008101403.jpg\n"
     ]
    },
    {
     "name": "stderr",
     "output_type": "stream",
     "text": [
      "image 1/1 /home/ishant/Desktop/KeypointModelTest/New_test_img_2/images/rear_left_view-20230811143930.jpeg: 384x640 1 car, 133.8ms\n",
      "Speed: 36.5ms preprocess, 133.8ms inference, 1.5ms postprocess per image at shape (1, 3, 384, 640)\n",
      "\n",
      "image 1/1 /home/ishant/Desktop/KeypointModelTest/New_test_img_2/images/left_side_view-20230522160726.jpg: 384x640 1 car, 69.4ms\n",
      "Speed: 1.6ms preprocess, 69.4ms inference, 0.9ms postprocess per image at shape (1, 3, 384, 640)\n",
      "\n",
      "image 1/1 /home/ishant/Desktop/KeypointModelTest/New_test_img_2/images/right_side_view-20221224131311.jpeg: 384x640 1 car, 72.1ms\n",
      "Speed: 1.6ms preprocess, 72.1ms inference, 1.2ms postprocess per image at shape (1, 3, 384, 640)\n"
     ]
    },
    {
     "name": "stdout",
     "output_type": "stream",
     "text": [
      "rear_left_view-20230811143930.jpeg\n",
      "left_side_view-20230522160726.jpg\n"
     ]
    },
    {
     "name": "stderr",
     "output_type": "stream",
     "text": [
      "\n",
      "image 1/1 /home/ishant/Desktop/KeypointModelTest/New_test_img_2/images/rear_left_view-20230519173630.jpeg: 384x640 1 car, 67.6ms\n",
      "Speed: 4.1ms preprocess, 67.6ms inference, 1.0ms postprocess per image at shape (1, 3, 384, 640)\n",
      "\n"
     ]
    },
    {
     "name": "stdout",
     "output_type": "stream",
     "text": [
      "right_side_view-20221224131311.jpeg\n",
      "rear_left_view-20230519173630.jpeg\n"
     ]
    },
    {
     "name": "stderr",
     "output_type": "stream",
     "text": [
      "image 1/1 /home/ishant/Desktop/KeypointModelTest/New_test_img_2/images/right_side_view-20230922182114.jpeg: 384x640 1 car, 75.5ms\n",
      "Speed: 3.6ms preprocess, 75.5ms inference, 0.7ms postprocess per image at shape (1, 3, 384, 640)\n",
      "\n",
      "image 1/1 /home/ishant/Desktop/KeypointModelTest/New_test_img_2/images/rear_left_view-20230522160746.jpg: 384x640 2 cars, 56.7ms\n",
      "Speed: 1.7ms preprocess, 56.7ms inference, 0.9ms postprocess per image at shape (1, 3, 384, 640)\n",
      "\n",
      "image 1/1 /home/ishant/Desktop/KeypointModelTest/New_test_img_2/images/rear_left_view-20230531180130.jpg: 384x640 3 cars, 69.3ms\n",
      "Speed: 2.6ms preprocess, 69.3ms inference, 0.9ms postprocess per image at shape (1, 3, 384, 640)\n",
      "\n"
     ]
    },
    {
     "name": "stdout",
     "output_type": "stream",
     "text": [
      "right_side_view-20230922182114.jpeg\n",
      "rear_left_view-20230522160746.jpg\n",
      "rear_left_view-20230531180130.jpg\n"
     ]
    },
    {
     "name": "stderr",
     "output_type": "stream",
     "text": [
      "image 1/1 /home/ishant/Desktop/KeypointModelTest/New_test_img_2/images/left_side_view-20230803123121.jpeg: 384x640 1 car, 69.1ms\n",
      "Speed: 1.9ms preprocess, 69.1ms inference, 1.1ms postprocess per image at shape (1, 3, 384, 640)\n",
      "\n",
      "image 1/1 /home/ishant/Desktop/KeypointModelTest/New_test_img_2/images/rear_left_view-20230331155119.jpeg: 384x640 2 cars, 93.7ms\n",
      "Speed: 2.7ms preprocess, 93.7ms inference, 1.5ms postprocess per image at shape (1, 3, 384, 640)\n",
      "\n"
     ]
    },
    {
     "name": "stdout",
     "output_type": "stream",
     "text": [
      "left_side_view-20230803123121.jpeg\n",
      "rear_left_view-20230331155119.jpeg\n"
     ]
    },
    {
     "name": "stderr",
     "output_type": "stream",
     "text": [
      "image 1/1 /home/ishant/Desktop/KeypointModelTest/New_test_img_2/images/cover_image-20210922134927.jpg: 384x640 1 car, 78.2ms\n",
      "Speed: 4.0ms preprocess, 78.2ms inference, 0.9ms postprocess per image at shape (1, 3, 384, 640)\n",
      "\n",
      "image 1/1 /home/ishant/Desktop/KeypointModelTest/New_test_img_2/images/left_side_view-20231008101326.jpg: 384x640 1 car, 68.1ms\n",
      "Speed: 2.0ms preprocess, 68.1ms inference, 0.8ms postprocess per image at shape (1, 3, 384, 640)\n",
      "\n",
      "image 1/1 /home/ishant/Desktop/KeypointModelTest/New_test_img_2/images/front_right_view-20231229091358.jpg: 384x640 2 cars, 70.6ms\n",
      "Speed: 2.4ms preprocess, 70.6ms inference, 0.8ms postprocess per image at shape (1, 3, 384, 640)\n"
     ]
    },
    {
     "name": "stdout",
     "output_type": "stream",
     "text": [
      "cover_image-20210922134927.jpg\n",
      "left_side_view-20231008101326.jpg\n"
     ]
    },
    {
     "name": "stderr",
     "output_type": "stream",
     "text": [
      "\n",
      "image 1/1 /home/ishant/Desktop/KeypointModelTest/New_test_img_2/images/left_side_view-20230531180105.jpg: 384x640 3 cars, 77.1ms\n",
      "Speed: 5.1ms preprocess, 77.1ms inference, 0.7ms postprocess per image at shape (1, 3, 384, 640)\n",
      "\n",
      "image 1/1 /home/ishant/Desktop/KeypointModelTest/New_test_img_2/images/left_side_view-20230307161424.jpg: 384x640 1 car, 55.1ms\n",
      "Speed: 1.7ms preprocess, 55.1ms inference, 0.7ms postprocess per image at shape (1, 3, 384, 640)\n"
     ]
    },
    {
     "name": "stdout",
     "output_type": "stream",
     "text": [
      "front_right_view-20231229091358.jpg\n",
      "left_side_view-20230531180105.jpg\n",
      "left_side_view-20230307161424.jpg\n"
     ]
    },
    {
     "name": "stderr",
     "output_type": "stream",
     "text": [
      "\n",
      "image 1/1 /home/ishant/Desktop/KeypointModelTest/New_test_img_2/images/rear_left_view-20231219133604.jpeg: 384x640 2 cars, 103.8ms\n",
      "Speed: 1.9ms preprocess, 103.8ms inference, 1.1ms postprocess per image at shape (1, 3, 384, 640)\n",
      "\n",
      "image 1/1 /home/ishant/Desktop/KeypointModelTest/New_test_img_2/images/front_right_view-20230331155111.jpeg: 384x640 3 cars, 102.5ms\n",
      "Speed: 3.6ms preprocess, 102.5ms inference, 1.2ms postprocess per image at shape (1, 3, 384, 640)\n",
      "\n"
     ]
    },
    {
     "name": "stdout",
     "output_type": "stream",
     "text": [
      "rear_left_view-20231219133604.jpeg\n",
      "front_right_view-20230331155111.jpeg\n"
     ]
    },
    {
     "name": "stderr",
     "output_type": "stream",
     "text": [
      "image 1/1 /home/ishant/Desktop/KeypointModelTest/New_test_img_2/images/front_right_view-20230522160738.jpg: 384x640 2 cars, 72.2ms\n",
      "Speed: 2.2ms preprocess, 72.2ms inference, 1.6ms postprocess per image at shape (1, 3, 384, 640)\n",
      "\n",
      "image 1/1 /home/ishant/Desktop/KeypointModelTest/New_test_img_2/images/front_right_view-20231129104316.jpg: 384x640 1 car, 74.7ms\n",
      "Speed: 2.7ms preprocess, 74.7ms inference, 0.7ms postprocess per image at shape (1, 3, 384, 640)\n",
      "\n",
      "image 1/1 /home/ishant/Desktop/KeypointModelTest/New_test_img_2/images/right_side_view-20231214103357.jpg: 384x640 2 cars, 59.5ms\n",
      "Speed: 1.5ms preprocess, 59.5ms inference, 0.6ms postprocess per image at shape (1, 3, 384, 640)\n"
     ]
    },
    {
     "name": "stdout",
     "output_type": "stream",
     "text": [
      "front_right_view-20230522160738.jpg\n",
      "front_right_view-20231129104316.jpg\n",
      "right_side_view-20231214103357.jpg\n"
     ]
    },
    {
     "name": "stderr",
     "output_type": "stream",
     "text": [
      "\n",
      "image 1/1 /home/ishant/Desktop/KeypointModelTest/New_test_img_2/images/rear_right_view-20230307161515.jpg: 384x640 1 car, 61.0ms\n",
      "Speed: 1.6ms preprocess, 61.0ms inference, 1.0ms postprocess per image at shape (1, 3, 384, 640)\n",
      "\n",
      "image 1/1 /home/ishant/Desktop/KeypointModelTest/New_test_img_2/images/rear_right_view-20231121170053.jpg: 384x640 1 car, 65.3ms\n",
      "Speed: 2.1ms preprocess, 65.3ms inference, 0.8ms postprocess per image at shape (1, 3, 384, 640)\n",
      "\n",
      "image 1/1 /home/ishant/Desktop/KeypointModelTest/New_test_img_2/images/rear_left_view-20230803123208.jpeg: 384x640 4 cars, 61.5ms\n",
      "Speed: 1.7ms preprocess, 61.5ms inference, 0.7ms postprocess per image at shape (1, 3, 384, 640)\n",
      "\n"
     ]
    },
    {
     "name": "stdout",
     "output_type": "stream",
     "text": [
      "rear_right_view-20230307161515.jpg\n",
      "rear_right_view-20231121170053.jpg\n",
      "rear_left_view-20230803123208.jpeg\n"
     ]
    },
    {
     "name": "stderr",
     "output_type": "stream",
     "text": [
      "image 1/1 /home/ishant/Desktop/KeypointModelTest/New_test_img_2/images/rear_right_view-20220502122742.jpg: 384x640 1 car, 64.4ms\n",
      "Speed: 1.9ms preprocess, 64.4ms inference, 0.7ms postprocess per image at shape (1, 3, 384, 640)\n",
      "\n",
      "image 1/1 /home/ishant/Desktop/KeypointModelTest/New_test_img_2/images/left_side_view-20240103130659.jpg: 384x640 1 car, 67.1ms\n",
      "Speed: 1.7ms preprocess, 67.1ms inference, 0.7ms postprocess per image at shape (1, 3, 384, 640)\n",
      "\n",
      "image 1/1 /home/ishant/Desktop/KeypointModelTest/New_test_img_2/images/left_side_view-20221104130944.jpeg: 384x640 1 car, 64.8ms\n",
      "Speed: 2.1ms preprocess, 64.8ms inference, 0.8ms postprocess per image at shape (1, 3, 384, 640)\n",
      "\n"
     ]
    },
    {
     "name": "stdout",
     "output_type": "stream",
     "text": [
      "rear_right_view-20220502122742.jpg\n",
      "left_side_view-20240103130659.jpg\n",
      "left_side_view-20221104130944.jpeg\n"
     ]
    },
    {
     "name": "stderr",
     "output_type": "stream",
     "text": [
      "image 1/1 /home/ishant/Desktop/KeypointModelTest/New_test_img_2/images/front_right_view-20231219133614.jpeg: 384x640 3 cars, 58.9ms\n",
      "Speed: 1.6ms preprocess, 58.9ms inference, 1.3ms postprocess per image at shape (1, 3, 384, 640)\n",
      "\n",
      "image 1/1 /home/ishant/Desktop/KeypointModelTest/New_test_img_2/images/rear_right_view-20240103130737.jpg: 384x640 1 car, 65.5ms\n",
      "Speed: 1.8ms preprocess, 65.5ms inference, 0.8ms postprocess per image at shape (1, 3, 384, 640)\n",
      "\n",
      "image 1/1 /home/ishant/Desktop/KeypointModelTest/New_test_img_2/images/left_side_view-20230215185956.jpeg: 384x640 1 car, 44.6ms\n",
      "Speed: 1.8ms preprocess, 44.6ms inference, 0.8ms postprocess per image at shape (1, 3, 384, 640)\n",
      "\n"
     ]
    },
    {
     "name": "stdout",
     "output_type": "stream",
     "text": [
      "front_right_view-20231219133614.jpeg\n",
      "rear_right_view-20240103130737.jpg\n",
      "left_side_view-20230215185956.jpeg\n"
     ]
    },
    {
     "name": "stderr",
     "output_type": "stream",
     "text": [
      "image 1/1 /home/ishant/Desktop/KeypointModelTest/New_test_img_2/images/cover_image-20221104130902.jpeg: 384x640 1 car, 82.5ms\n",
      "Speed: 1.8ms preprocess, 82.5ms inference, 1.2ms postprocess per image at shape (1, 3, 384, 640)\n",
      "\n",
      "image 1/1 /home/ishant/Desktop/KeypointModelTest/New_test_img_2/images/rear_left_view-20221221130641.jpg: 384x640 2 cars, 105.7ms\n",
      "Speed: 2.1ms preprocess, 105.7ms inference, 1.0ms postprocess per image at shape (1, 3, 384, 640)\n",
      "\n"
     ]
    },
    {
     "name": "stdout",
     "output_type": "stream",
     "text": [
      "cover_image-20221104130902.jpeg\n",
      "rear_left_view-20221221130641.jpg\n"
     ]
    },
    {
     "name": "stderr",
     "output_type": "stream",
     "text": [
      "image 1/1 /home/ishant/Desktop/KeypointModelTest/New_test_img_2/images/cover_image-20231214103315.jpg: 384x640 3 cars, 127.4ms\n",
      "Speed: 2.9ms preprocess, 127.4ms inference, 1.4ms postprocess per image at shape (1, 3, 384, 640)\n",
      "\n",
      "image 1/1 /home/ishant/Desktop/KeypointModelTest/New_test_img_2/images/cover_image-20230526143234.jpeg: 384x640 2 cars, 99.4ms\n",
      "Speed: 2.6ms preprocess, 99.4ms inference, 1.1ms postprocess per image at shape (1, 3, 384, 640)\n",
      "\n"
     ]
    },
    {
     "name": "stdout",
     "output_type": "stream",
     "text": [
      "cover_image-20231214103315.jpg\n",
      "cover_image-20230526143234.jpeg\n"
     ]
    },
    {
     "name": "stderr",
     "output_type": "stream",
     "text": [
      "image 1/1 /home/ishant/Desktop/KeypointModelTest/New_test_img_2/images/right_side_view-20230803123157.jpeg: 384x640 1 car, 68.3ms\n",
      "Speed: 2.1ms preprocess, 68.3ms inference, 1.1ms postprocess per image at shape (1, 3, 384, 640)\n",
      "\n",
      "image 1/1 /home/ishant/Desktop/KeypointModelTest/New_test_img_2/images/front_right_view-20230910101650.jpg: 384x640 1 car, 79.0ms\n",
      "Speed: 2.3ms preprocess, 79.0ms inference, 1.4ms postprocess per image at shape (1, 3, 384, 640)\n",
      "\n"
     ]
    },
    {
     "name": "stdout",
     "output_type": "stream",
     "text": [
      "right_side_view-20230803123157.jpeg\n",
      "front_right_view-20230910101650.jpg\n"
     ]
    },
    {
     "name": "stderr",
     "output_type": "stream",
     "text": [
      "image 1/1 /home/ishant/Desktop/KeypointModelTest/New_test_img_2/images/front_right_view-20230611142105.jpg: 384x640 2 cars, 107.7ms\n",
      "Speed: 3.4ms preprocess, 107.7ms inference, 1.7ms postprocess per image at shape (1, 3, 384, 640)\n",
      "\n",
      "image 1/1 /home/ishant/Desktop/KeypointModelTest/New_test_img_2/images/wheels_tyres-20231219133652.jpeg: 384x640 1 car, 63.1ms\n",
      "Speed: 1.9ms preprocess, 63.1ms inference, 0.7ms postprocess per image at shape (1, 3, 384, 640)\n",
      "\n",
      "image 1/1 /home/ishant/Desktop/KeypointModelTest/New_test_img_2/images/cover_image-20221224131231.jpeg: 384x640 3 cars, 46.0ms\n",
      "Speed: 2.4ms preprocess, 46.0ms inference, 0.7ms postprocess per image at shape (1, 3, 384, 640)\n",
      "\n"
     ]
    },
    {
     "name": "stdout",
     "output_type": "stream",
     "text": [
      "front_right_view-20230611142105.jpg\n",
      "wheels_tyres-20231219133652.jpeg\n",
      "cover_image-20221224131231.jpeg\n"
     ]
    },
    {
     "name": "stderr",
     "output_type": "stream",
     "text": [
      "image 1/1 /home/ishant/Desktop/KeypointModelTest/New_test_img_2/images/front_right_view-20230903153500.jpg: 384x640 1 car, 51.7ms\n",
      "Speed: 2.4ms preprocess, 51.7ms inference, 0.7ms postprocess per image at shape (1, 3, 384, 640)\n",
      "\n",
      "image 1/1 /home/ishant/Desktop/KeypointModelTest/New_test_img_2/images/cover_image-20240111120936.jpg: 384x640 3 cars, 64.0ms\n",
      "Speed: 2.2ms preprocess, 64.0ms inference, 0.8ms postprocess per image at shape (1, 3, 384, 640)\n",
      "\n",
      "image 1/1 /home/ishant/Desktop/KeypointModelTest/New_test_img_2/images/left_side_view-20230922182100.jpeg: 384x640 2 cars, 71.7ms\n",
      "Speed: 2.4ms preprocess, 71.7ms inference, 0.9ms postprocess per image at shape (1, 3, 384, 640)\n"
     ]
    },
    {
     "name": "stdout",
     "output_type": "stream",
     "text": [
      "front_right_view-20230903153500.jpg\n",
      "cover_image-20240111120936.jpg\n"
     ]
    },
    {
     "name": "stderr",
     "output_type": "stream",
     "text": [
      "\n",
      "image 1/1 /home/ishant/Desktop/KeypointModelTest/New_test_img_2/images/left_side_view-20231102120437.jpg: 384x640 1 car, 62.7ms\n",
      "Speed: 1.9ms preprocess, 62.7ms inference, 0.8ms postprocess per image at shape (1, 3, 384, 640)\n",
      "\n",
      "image 1/1 /home/ishant/Desktop/KeypointModelTest/New_test_img_2/images/rear_right_view-20230111141949.jpeg: 384x640 1 car, 60.8ms\n",
      "Speed: 1.9ms preprocess, 60.8ms inference, 0.8ms postprocess per image at shape (1, 3, 384, 640)\n",
      "\n"
     ]
    },
    {
     "name": "stdout",
     "output_type": "stream",
     "text": [
      "left_side_view-20230922182100.jpeg\n",
      "left_side_view-20231102120437.jpg\n",
      "rear_right_view-20230111141949.jpeg\n"
     ]
    },
    {
     "name": "stderr",
     "output_type": "stream",
     "text": [
      "image 1/1 /home/ishant/Desktop/KeypointModelTest/New_test_img_2/images/rear_left_view-20230903153516.jpg: 384x640 1 car, 67.7ms\n",
      "Speed: 5.0ms preprocess, 67.7ms inference, 0.8ms postprocess per image at shape (1, 3, 384, 640)\n",
      "\n",
      "image 1/1 /home/ishant/Desktop/KeypointModelTest/New_test_img_2/images/rear_right_view-20231006140120.jpeg: 384x640 2 cars, 50.3ms\n",
      "Speed: 1.8ms preprocess, 50.3ms inference, 0.9ms postprocess per image at shape (1, 3, 384, 640)\n",
      "\n",
      "image 1/1 /home/ishant/Desktop/KeypointModelTest/New_test_img_2/images/rear_left_view-20231121170028.jpg: 384x640 1 car, 81.9ms\n",
      "Speed: 1.9ms preprocess, 81.9ms inference, 0.9ms postprocess per image at shape (1, 3, 384, 640)\n"
     ]
    },
    {
     "name": "stdout",
     "output_type": "stream",
     "text": [
      "rear_left_view-20230903153516.jpg\n",
      "rear_right_view-20231006140120.jpeg\n"
     ]
    },
    {
     "name": "stderr",
     "output_type": "stream",
     "text": [
      "\n",
      "image 1/1 /home/ishant/Desktop/KeypointModelTest/New_test_img_2/images/cover_image-20230611142028.jpg: 384x640 3 cars, 60.6ms\n",
      "Speed: 3.2ms preprocess, 60.6ms inference, 0.8ms postprocess per image at shape (1, 3, 384, 640)\n",
      "\n",
      "image 1/1 /home/ishant/Desktop/KeypointModelTest/New_test_img_2/images/right_side_view-20221221130554.jpg: 384x640 1 car, 48.0ms\n",
      "Speed: 2.6ms preprocess, 48.0ms inference, 0.8ms postprocess per image at shape (1, 3, 384, 640)\n",
      "\n"
     ]
    },
    {
     "name": "stdout",
     "output_type": "stream",
     "text": [
      "rear_left_view-20231121170028.jpg\n",
      "cover_image-20230611142028.jpg\n",
      "right_side_view-20221221130554.jpg\n"
     ]
    },
    {
     "name": "stderr",
     "output_type": "stream",
     "text": [
      "image 1/1 /home/ishant/Desktop/KeypointModelTest/New_test_img_2/images/right_side_view-20231010184251.jpg: 384x640 2 cars, 61.9ms\n",
      "Speed: 1.6ms preprocess, 61.9ms inference, 0.7ms postprocess per image at shape (1, 3, 384, 640)\n",
      "\n",
      "image 1/1 /home/ishant/Desktop/KeypointModelTest/New_test_img_2/images/right_side_view-20231102120441.jpg: 384x640 1 car, 69.1ms\n",
      "Speed: 16.1ms preprocess, 69.1ms inference, 0.8ms postprocess per image at shape (1, 3, 384, 640)\n",
      "\n"
     ]
    },
    {
     "name": "stdout",
     "output_type": "stream",
     "text": [
      "right_side_view-20231010184251.jpg\n",
      "right_side_view-20231102120441.jpg\n"
     ]
    },
    {
     "name": "stderr",
     "output_type": "stream",
     "text": [
      "image 1/1 /home/ishant/Desktop/KeypointModelTest/New_test_img_2/images/left_side_view-20230623143209.jpg: 384x640 1 car, 63.3ms\n",
      "Speed: 1.7ms preprocess, 63.3ms inference, 0.8ms postprocess per image at shape (1, 3, 384, 640)\n",
      "\n",
      "image 1/1 /home/ishant/Desktop/KeypointModelTest/New_test_img_2/images/right_side_view-20231229091334.jpg: 384x640 2 cars, 63.2ms\n",
      "Speed: 1.5ms preprocess, 63.2ms inference, 0.8ms postprocess per image at shape (1, 3, 384, 640)\n",
      "\n",
      "image 1/1 /home/ishant/Desktop/KeypointModelTest/New_test_img_2/images/right_side_view-20231005125331.jpeg: 384x640 1 car, 63.4ms\n",
      "Speed: 1.7ms preprocess, 63.4ms inference, 0.8ms postprocess per image at shape (1, 3, 384, 640)\n",
      "\n"
     ]
    },
    {
     "name": "stdout",
     "output_type": "stream",
     "text": [
      "left_side_view-20230623143209.jpg\n",
      "right_side_view-20231229091334.jpg\n",
      "right_side_view-20231005125331.jpeg\n"
     ]
    },
    {
     "name": "stderr",
     "output_type": "stream",
     "text": [
      "image 1/1 /home/ishant/Desktop/KeypointModelTest/New_test_img_2/images/rear_right_view-20230903153523.jpg: 384x640 1 car, 65.4ms\n",
      "Speed: 2.1ms preprocess, 65.4ms inference, 0.7ms postprocess per image at shape (1, 3, 384, 640)\n",
      "\n",
      "image 1/1 /home/ishant/Desktop/KeypointModelTest/New_test_img_2/images/left_side_view-20240109213118.jpg: 384x640 3 cars, 116.9ms\n",
      "Speed: 3.4ms preprocess, 116.9ms inference, 1.4ms postprocess per image at shape (1, 3, 384, 640)\n",
      "\n"
     ]
    },
    {
     "name": "stdout",
     "output_type": "stream",
     "text": [
      "rear_right_view-20230903153523.jpg\n",
      "left_side_view-20240109213118.jpg\n"
     ]
    },
    {
     "name": "stderr",
     "output_type": "stream",
     "text": [
      "image 1/1 /home/ishant/Desktop/KeypointModelTest/New_test_img_2/images/left_side_view-20231219133450.jpeg: 384x640 3 cars, 212.4ms\n",
      "Speed: 3.1ms preprocess, 212.4ms inference, 4.9ms postprocess per image at shape (1, 3, 384, 640)\n",
      "\n",
      "image 1/1 /home/ishant/Desktop/KeypointModelTest/New_test_img_2/images/cover_image-20231129110331.jpg: 384x640 1 car, 103.3ms\n",
      "Speed: 45.2ms preprocess, 103.3ms inference, 1.0ms postprocess per image at shape (1, 3, 384, 640)\n"
     ]
    },
    {
     "name": "stdout",
     "output_type": "stream",
     "text": [
      "left_side_view-20231219133450.jpeg\n"
     ]
    },
    {
     "name": "stderr",
     "output_type": "stream",
     "text": [
      "\n",
      "image 1/1 /home/ishant/Desktop/KeypointModelTest/New_test_img_2/images/rear_left_view-20230929231222.jpg: 384x640 2 cars, 115.5ms\n",
      "Speed: 2.8ms preprocess, 115.5ms inference, 1.1ms postprocess per image at shape (1, 3, 384, 640)\n",
      "\n"
     ]
    },
    {
     "name": "stdout",
     "output_type": "stream",
     "text": [
      "cover_image-20231129110331.jpg\n",
      "rear_left_view-20230929231222.jpg\n"
     ]
    },
    {
     "name": "stderr",
     "output_type": "stream",
     "text": [
      "image 1/1 /home/ishant/Desktop/KeypointModelTest/New_test_img_2/images/front_right_view-20230811143939.jpeg: 384x640 3 cars, 65.5ms\n",
      "Speed: 1.6ms preprocess, 65.5ms inference, 0.7ms postprocess per image at shape (1, 3, 384, 640)\n",
      "\n",
      "image 1/1 /home/ishant/Desktop/KeypointModelTest/New_test_img_2/images/left_side_view-20220502122711.jpg: 384x640 1 car, 57.4ms\n",
      "Speed: 2.1ms preprocess, 57.4ms inference, 0.7ms postprocess per image at shape (1, 3, 384, 640)\n",
      "\n",
      "image 1/1 /home/ishant/Desktop/KeypointModelTest/New_test_img_2/images/left_side_view-20230611142053.jpg: 384x640 1 car, 45.2ms\n",
      "Speed: 2.0ms preprocess, 45.2ms inference, 0.7ms postprocess per image at shape (1, 3, 384, 640)\n",
      "\n"
     ]
    },
    {
     "name": "stdout",
     "output_type": "stream",
     "text": [
      "front_right_view-20230811143939.jpeg\n",
      "left_side_view-20220502122711.jpg\n",
      "left_side_view-20230611142053.jpg\n"
     ]
    },
    {
     "name": "stderr",
     "output_type": "stream",
     "text": [
      "image 1/1 /home/ishant/Desktop/KeypointModelTest/New_test_img_2/images/rear_left_view-20231006140051.jpeg: 384x640 2 cars, 68.9ms\n",
      "Speed: 2.2ms preprocess, 68.9ms inference, 0.8ms postprocess per image at shape (1, 3, 384, 640)\n",
      "\n",
      "image 1/1 /home/ishant/Desktop/KeypointModelTest/New_test_img_2/images/right_side_view-20230811143924.jpeg: 384x640 2 cars, 62.3ms\n",
      "Speed: 1.8ms preprocess, 62.3ms inference, 0.9ms postprocess per image at shape (1, 3, 384, 640)\n",
      "\n"
     ]
    },
    {
     "name": "stdout",
     "output_type": "stream",
     "text": [
      "rear_left_view-20231006140051.jpeg\n",
      "right_side_view-20230811143924.jpeg\n"
     ]
    },
    {
     "name": "stderr",
     "output_type": "stream",
     "text": [
      "image 1/1 /home/ishant/Desktop/KeypointModelTest/New_test_img_2/images/right_side_view-20231006140031.jpeg: 384x640 1 car, 100.5ms\n",
      "Speed: 8.0ms preprocess, 100.5ms inference, 1.0ms postprocess per image at shape (1, 3, 384, 640)\n",
      "\n",
      "image 1/1 /home/ishant/Desktop/KeypointModelTest/New_test_img_2/images/rear_left_view-20231102120451.jpg: 384x640 1 car, 50.5ms\n",
      "Speed: 1.8ms preprocess, 50.5ms inference, 0.7ms postprocess per image at shape (1, 3, 384, 640)\n",
      "\n",
      "image 1/1 /home/ishant/Desktop/KeypointModelTest/New_test_img_2/images/left_side_view-20231214103340.jpg: 384x640 1 car, 44.6ms\n",
      "Speed: 2.0ms preprocess, 44.6ms inference, 0.7ms postprocess per image at shape (1, 3, 384, 640)\n",
      "\n"
     ]
    },
    {
     "name": "stdout",
     "output_type": "stream",
     "text": [
      "right_side_view-20231006140031.jpeg\n",
      "rear_left_view-20231102120451.jpg\n",
      "left_side_view-20231214103340.jpg\n"
     ]
    },
    {
     "name": "stderr",
     "output_type": "stream",
     "text": [
      "image 1/1 /home/ishant/Desktop/KeypointModelTest/New_test_img_2/images/cover_image-20230215185935.jpeg: 384x640 4 cars, 62.0ms\n",
      "Speed: 1.7ms preprocess, 62.0ms inference, 0.8ms postprocess per image at shape (1, 3, 384, 640)\n",
      "\n",
      "image 1/1 /home/ishant/Desktop/KeypointModelTest/New_test_img_2/images/rear_right_view-20230215190038.jpeg: 384x640 2 cars, 53.8ms\n",
      "Speed: 2.0ms preprocess, 53.8ms inference, 0.7ms postprocess per image at shape (1, 3, 384, 640)\n",
      "\n",
      "image 1/1 /home/ishant/Desktop/KeypointModelTest/New_test_img_2/images/front_right_view-20230922182140.jpeg: 384x640 2 cars, 57.8ms\n",
      "Speed: 1.6ms preprocess, 57.8ms inference, 0.7ms postprocess per image at shape (1, 3, 384, 640)\n",
      "\n"
     ]
    },
    {
     "name": "stdout",
     "output_type": "stream",
     "text": [
      "cover_image-20230215185935.jpeg\n",
      "rear_right_view-20230215190038.jpeg\n",
      "front_right_view-20230922182140.jpeg\n"
     ]
    },
    {
     "name": "stderr",
     "output_type": "stream",
     "text": [
      "image 1/1 /home/ishant/Desktop/KeypointModelTest/New_test_img_2/images/cover_image-20231129104222.jpg: 384x640 1 car, 57.5ms\n",
      "Speed: 2.0ms preprocess, 57.5ms inference, 1.0ms postprocess per image at shape (1, 3, 384, 640)\n",
      "\n",
      "image 1/1 /home/ishant/Desktop/KeypointModelTest/New_test_img_2/images/right_side_view-20230526143254.jpeg: 384x640 2 cars, 56.2ms\n",
      "Speed: 1.9ms preprocess, 56.2ms inference, 1.2ms postprocess per image at shape (1, 3, 384, 640)\n",
      "\n",
      "image 1/1 /home/ishant/Desktop/KeypointModelTest/New_test_img_2/images/rear_right_view-20240111121050.jpg: 384x640 4 cars, 52.6ms\n",
      "Speed: 2.0ms preprocess, 52.6ms inference, 1.0ms postprocess per image at shape (1, 3, 384, 640)\n",
      "\n"
     ]
    },
    {
     "name": "stdout",
     "output_type": "stream",
     "text": [
      "cover_image-20231129104222.jpg\n",
      "right_side_view-20230526143254.jpeg\n",
      "rear_right_view-20240111121050.jpg\n"
     ]
    },
    {
     "name": "stderr",
     "output_type": "stream",
     "text": [
      "image 1/1 /home/ishant/Desktop/KeypointModelTest/New_test_img_2/images/rear_left_view-20230526143302.jpeg: 384x640 2 cars, 67.3ms\n",
      "Speed: 2.5ms preprocess, 67.3ms inference, 0.9ms postprocess per image at shape (1, 3, 384, 640)\n",
      "\n",
      "image 1/1 /home/ishant/Desktop/KeypointModelTest/New_test_img_2/images/cover_image-20230623143127.jpg: 384x640 1 car, 73.3ms\n",
      "Speed: 2.0ms preprocess, 73.3ms inference, 0.9ms postprocess per image at shape (1, 3, 384, 640)\n",
      "\n"
     ]
    },
    {
     "name": "stdout",
     "output_type": "stream",
     "text": [
      "rear_left_view-20230526143302.jpeg\n",
      "cover_image-20230623143127.jpg\n"
     ]
    },
    {
     "name": "stderr",
     "output_type": "stream",
     "text": [
      "image 1/1 /home/ishant/Desktop/KeypointModelTest/New_test_img_2/images/front_right_view-20221224131334.jpeg: 384x640 1 car, 138.2ms\n",
      "Speed: 4.7ms preprocess, 138.2ms inference, 1.1ms postprocess per image at shape (1, 3, 384, 640)\n",
      "\n",
      "image 1/1 /home/ishant/Desktop/KeypointModelTest/New_test_img_2/images/rear_right_view-20240109213215.jpg: 384x640 1 car, 62.1ms\n",
      "Speed: 2.6ms preprocess, 62.1ms inference, 0.8ms postprocess per image at shape (1, 3, 384, 640)\n",
      "\n",
      "image 1/1 /home/ishant/Desktop/KeypointModelTest/New_test_img_2/images/right_side_view-20230808130237.jpeg: 384x640 1 car, 47.2ms\n",
      "Speed: 1.5ms preprocess, 47.2ms inference, 0.7ms postprocess per image at shape (1, 3, 384, 640)\n",
      "\n"
     ]
    },
    {
     "name": "stdout",
     "output_type": "stream",
     "text": [
      "front_right_view-20221224131334.jpeg\n",
      "rear_right_view-20240109213215.jpg\n",
      "right_side_view-20230808130237.jpeg\n"
     ]
    },
    {
     "name": "stderr",
     "output_type": "stream",
     "text": [
      "image 1/1 /home/ishant/Desktop/KeypointModelTest/New_test_img_2/images/right_side_view-20221104130944.jpeg: 384x640 1 car, 61.9ms\n",
      "Speed: 16.9ms preprocess, 61.9ms inference, 0.7ms postprocess per image at shape (1, 3, 384, 640)\n",
      "\n",
      "image 1/1 /home/ishant/Desktop/KeypointModelTest/New_test_img_2/images/rear_right_view-20230910101708.jpg: 384x640 3 cars, 49.5ms\n",
      "Speed: 1.5ms preprocess, 49.5ms inference, 0.8ms postprocess per image at shape (1, 3, 384, 640)\n",
      "\n",
      "image 1/1 /home/ishant/Desktop/KeypointModelTest/New_test_img_2/images/rear_right_view-20221104131019.jpeg: 384x640 1 car, 48.0ms\n",
      "Speed: 1.6ms preprocess, 48.0ms inference, 0.9ms postprocess per image at shape (1, 3, 384, 640)\n",
      "\n"
     ]
    },
    {
     "name": "stdout",
     "output_type": "stream",
     "text": [
      "right_side_view-20221104130944.jpeg\n",
      "rear_right_view-20230910101708.jpg\n",
      "rear_right_view-20221104131019.jpeg\n"
     ]
    },
    {
     "name": "stderr",
     "output_type": "stream",
     "text": [
      "image 1/1 /home/ishant/Desktop/KeypointModelTest/New_test_img_2/images/right_side_view-20230910101643.jpg: 384x640 1 car, 58.9ms\n",
      "Speed: 1.9ms preprocess, 58.9ms inference, 1.1ms postprocess per image at shape (1, 3, 384, 640)\n",
      "\n",
      "image 1/1 /home/ishant/Desktop/KeypointModelTest/New_test_img_2/images/cover_image-20230910101613.jpg: 384x640 1 car, 55.9ms\n",
      "Speed: 1.5ms preprocess, 55.9ms inference, 0.9ms postprocess per image at shape (1, 3, 384, 640)\n",
      "\n",
      "image 1/1 /home/ishant/Desktop/KeypointModelTest/New_test_img_2/images/right_side_view-20231016185726.jpg: 384x640 1 car, 63.5ms\n",
      "Speed: 1.8ms preprocess, 63.5ms inference, 1.0ms postprocess per image at shape (1, 3, 384, 640)\n",
      "\n"
     ]
    },
    {
     "name": "stdout",
     "output_type": "stream",
     "text": [
      "right_side_view-20230910101643.jpg\n",
      "cover_image-20230910101613.jpg\n",
      "right_side_view-20231016185726.jpg\n"
     ]
    },
    {
     "name": "stderr",
     "output_type": "stream",
     "text": [
      "image 1/1 /home/ishant/Desktop/KeypointModelTest/New_test_img_2/images/right_side_view-20240109213133.jpg: 384x640 2 cars, 52.0ms\n",
      "Speed: 1.8ms preprocess, 52.0ms inference, 0.8ms postprocess per image at shape (1, 3, 384, 640)\n",
      "\n",
      "image 1/1 /home/ishant/Desktop/KeypointModelTest/New_test_img_2/images/cover_image-20231102120422.jpg: 384x640 1 car, 46.4ms\n",
      "Speed: 1.6ms preprocess, 46.4ms inference, 0.7ms postprocess per image at shape (1, 3, 384, 640)\n",
      "\n",
      "image 1/1 /home/ishant/Desktop/KeypointModelTest/New_test_img_2/images/front_right_view-20240111121017.jpg: 384x640 1 car, 63.1ms\n",
      "Speed: 1.5ms preprocess, 63.1ms inference, 0.9ms postprocess per image at shape (1, 3, 384, 640)\n",
      "\n"
     ]
    },
    {
     "name": "stdout",
     "output_type": "stream",
     "text": [
      "right_side_view-20240109213133.jpg\n",
      "cover_image-20231102120422.jpg\n",
      "front_right_view-20240111121017.jpg\n"
     ]
    },
    {
     "name": "stderr",
     "output_type": "stream",
     "text": [
      "image 1/1 /home/ishant/Desktop/KeypointModelTest/New_test_img_2/images/front_right_view-20231008101414.jpg: 384x640 3 cars, 65.1ms\n",
      "Speed: 1.8ms preprocess, 65.1ms inference, 0.8ms postprocess per image at shape (1, 3, 384, 640)\n",
      "\n",
      "image 1/1 /home/ishant/Desktop/KeypointModelTest/New_test_img_2/images/front_right_view-20230111141916.jpeg: 384x640 2 cars, 56.0ms\n",
      "Speed: 3.0ms preprocess, 56.0ms inference, 1.1ms postprocess per image at shape (1, 3, 384, 640)\n",
      "\n"
     ]
    },
    {
     "name": "stdout",
     "output_type": "stream",
     "text": [
      "front_right_view-20231008101414.jpg\n",
      "front_right_view-20230111141916.jpeg\n"
     ]
    },
    {
     "name": "stderr",
     "output_type": "stream",
     "text": [
      "image 1/1 /home/ishant/Desktop/KeypointModelTest/New_test_img_2/images/rear_view-20230903153427.jpg: 384x640 1 car, 127.4ms\n",
      "Speed: 3.9ms preprocess, 127.4ms inference, 2.1ms postprocess per image at shape (1, 3, 384, 640)\n",
      "\n",
      "image 1/1 /home/ishant/Desktop/KeypointModelTest/New_test_img_2/images/right_side_view-20240111121008.jpg: 384x640 1 car, 52.9ms\n",
      "Speed: 1.6ms preprocess, 52.9ms inference, 0.7ms postprocess per image at shape (1, 3, 384, 640)\n",
      "\n",
      "image 1/1 /home/ishant/Desktop/KeypointModelTest/New_test_img_2/images/rear_left_view-20231005125343.jpeg: 384x640 4 cars, 60.8ms\n",
      "Speed: 1.6ms preprocess, 60.8ms inference, 0.8ms postprocess per image at shape (1, 3, 384, 640)\n",
      "\n"
     ]
    },
    {
     "name": "stdout",
     "output_type": "stream",
     "text": [
      "rear_view-20230903153427.jpg\n",
      "right_side_view-20240111121008.jpg\n",
      "rear_left_view-20231005125343.jpeg\n"
     ]
    },
    {
     "name": "stderr",
     "output_type": "stream",
     "text": [
      "image 1/1 /home/ishant/Desktop/KeypointModelTest/New_test_img_2/images/rear_right_view-20231102120457.jpg: 384x640 1 car, 48.6ms\n",
      "Speed: 1.6ms preprocess, 48.6ms inference, 0.7ms postprocess per image at shape (1, 3, 384, 640)\n",
      "\n",
      "image 1/1 /home/ishant/Desktop/KeypointModelTest/New_test_img_2/images/rear_left_view-20231010184301.jpg: 384x640 2 cars, 97.9ms\n",
      "Speed: 4.9ms preprocess, 97.9ms inference, 0.8ms postprocess per image at shape (1, 3, 384, 640)\n",
      "\n"
     ]
    },
    {
     "name": "stdout",
     "output_type": "stream",
     "text": [
      "rear_right_view-20231102120457.jpg\n",
      "rear_left_view-20231010184301.jpg\n"
     ]
    },
    {
     "name": "stderr",
     "output_type": "stream",
     "text": [
      "image 1/1 /home/ishant/Desktop/KeypointModelTest/New_test_img_2/images/right_side_view-20231129110422.jpg: 384x640 1 car, 46.1ms\n",
      "Speed: 1.8ms preprocess, 46.1ms inference, 1.0ms postprocess per image at shape (1, 3, 384, 640)\n",
      "\n",
      "image 1/1 /home/ishant/Desktop/KeypointModelTest/New_test_img_2/images/front_right_view-20231005125356.jpeg: 384x640 1 car, 60.5ms\n",
      "Speed: 1.8ms preprocess, 60.5ms inference, 0.8ms postprocess per image at shape (1, 3, 384, 640)\n",
      "\n",
      "image 1/1 /home/ishant/Desktop/KeypointModelTest/New_test_img_2/images/right_side_view-20230215190002.jpeg: 384x640 2 cars, 60.7ms\n",
      "Speed: 1.9ms preprocess, 60.7ms inference, 0.7ms postprocess per image at shape (1, 3, 384, 640)\n",
      "\n"
     ]
    },
    {
     "name": "stdout",
     "output_type": "stream",
     "text": [
      "right_side_view-20231129110422.jpg\n",
      "front_right_view-20231005125356.jpeg\n",
      "right_side_view-20230215190002.jpeg\n"
     ]
    },
    {
     "name": "stderr",
     "output_type": "stream",
     "text": [
      "image 1/1 /home/ishant/Desktop/KeypointModelTest/New_test_img_2/images/rear_right_view-20230922182154.jpeg: 384x640 2 cars, 61.8ms\n",
      "Speed: 3.6ms preprocess, 61.8ms inference, 0.7ms postprocess per image at shape (1, 3, 384, 640)\n",
      "\n",
      "image 1/1 /home/ishant/Desktop/KeypointModelTest/New_test_img_2/images/left_side_view-20231006140020.jpeg: 384x640 1 car, 59.0ms\n",
      "Speed: 2.0ms preprocess, 59.0ms inference, 0.7ms postprocess per image at shape (1, 3, 384, 640)\n",
      "\n",
      "image 1/1 /home/ishant/Desktop/KeypointModelTest/New_test_img_2/images/left_side_view-20230929231153.jpg: 384x640 1 car, 66.2ms\n",
      "Speed: 5.9ms preprocess, 66.2ms inference, 0.9ms postprocess per image at shape (1, 3, 384, 640)\n",
      "\n"
     ]
    },
    {
     "name": "stdout",
     "output_type": "stream",
     "text": [
      "rear_right_view-20230922182154.jpeg\n",
      "left_side_view-20231006140020.jpeg\n",
      "left_side_view-20230929231153.jpg\n"
     ]
    },
    {
     "name": "stderr",
     "output_type": "stream",
     "text": [
      "image 1/1 /home/ishant/Desktop/KeypointModelTest/New_test_img_2/images/left_side_view-20221221130603.jpg: 384x640 1 car, 116.2ms\n",
      "Speed: 2.1ms preprocess, 116.2ms inference, 1.2ms postprocess per image at shape (1, 3, 384, 640)\n",
      "\n",
      "image 1/1 /home/ishant/Desktop/KeypointModelTest/New_test_img_2/images/left_side_view-20230910101636.jpg: 384x640 1 car, 83.5ms\n",
      "Speed: 3.8ms preprocess, 83.5ms inference, 0.9ms postprocess per image at shape (1, 3, 384, 640)\n",
      "\n"
     ]
    },
    {
     "name": "stdout",
     "output_type": "stream",
     "text": [
      "left_side_view-20221221130603.jpg\n",
      "left_side_view-20230910101636.jpg\n"
     ]
    },
    {
     "name": "stderr",
     "output_type": "stream",
     "text": [
      "image 1/1 /home/ishant/Desktop/KeypointModelTest/New_test_img_2/images/left_side_view-20231121165959.jpg: 384x640 1 car, 63.2ms\n",
      "Speed: 1.9ms preprocess, 63.2ms inference, 1.1ms postprocess per image at shape (1, 3, 384, 640)\n",
      "\n",
      "image 1/1 /home/ishant/Desktop/KeypointModelTest/New_test_img_2/images/front_right_view-20231016185738.jpg: 384x640 1 car, 66.0ms\n",
      "Speed: 2.2ms preprocess, 66.0ms inference, 0.8ms postprocess per image at shape (1, 3, 384, 640)\n",
      "\n",
      "image 1/1 /home/ishant/Desktop/KeypointModelTest/New_test_img_2/images/rear_right_view-20231129110454.jpg: 384x640 1 car, 48.2ms\n",
      "Speed: 1.6ms preprocess, 48.2ms inference, 0.7ms postprocess per image at shape (1, 3, 384, 640)\n",
      "\n"
     ]
    },
    {
     "name": "stdout",
     "output_type": "stream",
     "text": [
      "left_side_view-20231121165959.jpg\n",
      "front_right_view-20231016185738.jpg\n",
      "rear_right_view-20231129110454.jpg\n"
     ]
    },
    {
     "name": "stderr",
     "output_type": "stream",
     "text": [
      "image 1/1 /home/ishant/Desktop/KeypointModelTest/New_test_img_2/images/front_right_view-20230531180122.jpg: 384x640 3 cars, 51.3ms\n",
      "Speed: 1.6ms preprocess, 51.3ms inference, 0.7ms postprocess per image at shape (1, 3, 384, 640)\n",
      "\n",
      "image 1/1 /home/ishant/Desktop/KeypointModelTest/New_test_img_2/images/left_side_view-20230526143246.jpeg: 384x640 2 cars, 63.2ms\n",
      "Speed: 1.6ms preprocess, 63.2ms inference, 0.8ms postprocess per image at shape (1, 3, 384, 640)\n",
      "\n"
     ]
    },
    {
     "name": "stdout",
     "output_type": "stream",
     "text": [
      "front_right_view-20230531180122.jpg\n",
      "left_side_view-20230526143246.jpeg\n"
     ]
    },
    {
     "name": "stderr",
     "output_type": "stream",
     "text": [
      "image 1/1 /home/ishant/Desktop/KeypointModelTest/New_test_img_2/images/right_side_view-20230903153440.jpg: 384x640 1 car, 97.5ms\n",
      "Speed: 5.0ms preprocess, 97.5ms inference, 0.8ms postprocess per image at shape (1, 3, 384, 640)\n",
      "\n",
      "image 1/1 /home/ishant/Desktop/KeypointModelTest/New_test_img_2/images/left_side_view-20230811143910.jpeg: 384x640 2 cars, 62.3ms\n",
      "Speed: 1.9ms preprocess, 62.3ms inference, 1.1ms postprocess per image at shape (1, 3, 384, 640)\n",
      "\n",
      "image 1/1 /home/ishant/Desktop/KeypointModelTest/New_test_img_2/images/right_side_view-20231219133504.jpeg: 384x640 1 car, 53.6ms\n",
      "Speed: 2.3ms preprocess, 53.6ms inference, 0.7ms postprocess per image at shape (1, 3, 384, 640)\n",
      "\n"
     ]
    },
    {
     "name": "stdout",
     "output_type": "stream",
     "text": [
      "right_side_view-20230903153440.jpg\n",
      "left_side_view-20230811143910.jpeg\n",
      "right_side_view-20231219133504.jpeg\n"
     ]
    },
    {
     "name": "stderr",
     "output_type": "stream",
     "text": [
      "image 1/1 /home/ishant/Desktop/KeypointModelTest/New_test_img_2/images/right_side_view-20230522160731.jpg: 384x640 2 cars, 62.7ms\n",
      "Speed: 2.2ms preprocess, 62.7ms inference, 0.7ms postprocess per image at shape (1, 3, 384, 640)\n",
      "\n",
      "image 1/1 /home/ishant/Desktop/KeypointModelTest/New_test_img_2/images/left_side_view-20231005125319.jpeg: 384x640 1 car, 65.1ms\n",
      "Speed: 1.7ms preprocess, 65.1ms inference, 1.0ms postprocess per image at shape (1, 3, 384, 640)\n",
      "\n",
      "image 1/1 /home/ishant/Desktop/KeypointModelTest/New_test_img_2/images/left_side_view-20221224131258.jpeg: 384x640 2 cars, 48.4ms\n",
      "Speed: 2.1ms preprocess, 48.4ms inference, 0.7ms postprocess per image at shape (1, 3, 384, 640)\n",
      "\n"
     ]
    },
    {
     "name": "stdout",
     "output_type": "stream",
     "text": [
      "right_side_view-20230522160731.jpg\n",
      "left_side_view-20231005125319.jpeg\n",
      "left_side_view-20221224131258.jpeg\n"
     ]
    },
    {
     "name": "stderr",
     "output_type": "stream",
     "text": [
      "image 1/1 /home/ishant/Desktop/KeypointModelTest/New_test_img_2/images/front_right_view-20221221130635.jpg: 384x640 2 cars, 50.8ms\n",
      "Speed: 1.7ms preprocess, 50.8ms inference, 0.8ms postprocess per image at shape (1, 3, 384, 640)\n",
      "\n",
      "image 1/1 /home/ishant/Desktop/KeypointModelTest/New_test_img_2/images/cover_image-20230111141706.jpeg: 384x640 3 cars, 55.6ms\n",
      "Speed: 1.8ms preprocess, 55.6ms inference, 0.8ms postprocess per image at shape (1, 3, 384, 640)\n",
      "\n",
      "image 1/1 /home/ishant/Desktop/KeypointModelTest/New_test_img_2/images/left_side_view-20230331173857.jpg: 384x640 1 car, 58.7ms\n",
      "Speed: 1.5ms preprocess, 58.7ms inference, 0.7ms postprocess per image at shape (1, 3, 384, 640)\n",
      "\n"
     ]
    },
    {
     "name": "stdout",
     "output_type": "stream",
     "text": [
      "front_right_view-20221221130635.jpg\n",
      "cover_image-20230111141706.jpeg\n",
      "left_side_view-20230331173857.jpg\n"
     ]
    },
    {
     "name": "stderr",
     "output_type": "stream",
     "text": [
      "image 1/1 /home/ishant/Desktop/KeypointModelTest/New_test_img_2/images/front_right_view-20231006140106.jpeg: 384x640 1 car, 63.5ms\n",
      "Speed: 1.7ms preprocess, 63.5ms inference, 0.7ms postprocess per image at shape (1, 3, 384, 640)\n",
      "\n",
      "image 1/1 /home/ishant/Desktop/KeypointModelTest/New_test_img_2/images/cover_image-20231016185638.jpg: 384x640 1 car, 46.3ms\n",
      "Speed: 2.2ms preprocess, 46.3ms inference, 0.7ms postprocess per image at shape (1, 3, 384, 640)\n",
      "\n",
      "image 1/1 /home/ishant/Desktop/KeypointModelTest/New_test_img_2/images/front_right_view-20230803123230.jpeg: 384x640 2 cars, 58.6ms\n",
      "Speed: 1.7ms preprocess, 58.6ms inference, 0.7ms postprocess per image at shape (1, 3, 384, 640)\n",
      "\n"
     ]
    },
    {
     "name": "stdout",
     "output_type": "stream",
     "text": [
      "front_right_view-20231006140106.jpeg\n",
      "cover_image-20231016185638.jpg\n",
      "front_right_view-20230803123230.jpeg\n"
     ]
    },
    {
     "name": "stderr",
     "output_type": "stream",
     "text": [
      "image 1/1 /home/ishant/Desktop/KeypointModelTest/New_test_img_2/images/cover_image-20230929231111.jpg: 384x640 2 cars, 62.4ms\n",
      "Speed: 2.5ms preprocess, 62.4ms inference, 0.8ms postprocess per image at shape (1, 3, 384, 640)\n",
      "\n",
      "image 1/1 /home/ishant/Desktop/KeypointModelTest/New_test_img_2/images/right_side_view-20230531180111.jpg: 384x640 1 car, 53.4ms\n",
      "Speed: 1.7ms preprocess, 53.4ms inference, 0.7ms postprocess per image at shape (1, 3, 384, 640)\n",
      "\n",
      "image 1/1 /home/ishant/Desktop/KeypointModelTest/New_test_img_2/images/right_side_view-20220502122718.jpg: 384x640 1 car, 84.5ms\n",
      "Speed: 2.3ms preprocess, 84.5ms inference, 0.9ms postprocess per image at shape (1, 3, 384, 640)\n"
     ]
    },
    {
     "name": "stdout",
     "output_type": "stream",
     "text": [
      "cover_image-20230929231111.jpg\n",
      "right_side_view-20230531180111.jpg\n"
     ]
    },
    {
     "name": "stderr",
     "output_type": "stream",
     "text": [
      "\n",
      "image 1/1 /home/ishant/Desktop/KeypointModelTest/New_test_img_2/images/cover_image-20230519172809.jpeg: 384x640 1 car, 68.4ms\n",
      "Speed: 2.1ms preprocess, 68.4ms inference, 0.8ms postprocess per image at shape (1, 3, 384, 640)\n",
      "\n",
      "image 1/1 /home/ishant/Desktop/KeypointModelTest/New_test_img_2/images/rear_left_view-20230307161503.jpg: 384x640 1 car, 62.8ms\n",
      "Speed: 1.6ms preprocess, 62.8ms inference, 0.8ms postprocess per image at shape (1, 3, 384, 640)\n",
      "\n"
     ]
    },
    {
     "name": "stdout",
     "output_type": "stream",
     "text": [
      "right_side_view-20220502122718.jpg\n",
      "cover_image-20230519172809.jpeg\n",
      "rear_left_view-20230307161503.jpg\n"
     ]
    },
    {
     "name": "stderr",
     "output_type": "stream",
     "text": [
      "image 1/1 /home/ishant/Desktop/KeypointModelTest/New_test_img_2/images/cover_image-20230803123021.jpeg: 384x640 1 car, 69.7ms\n",
      "Speed: 1.6ms preprocess, 69.7ms inference, 0.8ms postprocess per image at shape (1, 3, 384, 640)\n",
      "\n",
      "image 1/1 /home/ishant/Desktop/KeypointModelTest/New_test_img_2/images/left_side_view-20231016185714.jpg: 384x640 1 car, 61.4ms\n",
      "Speed: 2.1ms preprocess, 61.4ms inference, 0.8ms postprocess per image at shape (1, 3, 384, 640)\n",
      "\n",
      "image 1/1 /home/ishant/Desktop/KeypointModelTest/New_test_img_2/images/front_right_view-20240109213214.jpg: 384x640 1 car, 66.4ms\n",
      "Speed: 1.6ms preprocess, 66.4ms inference, 0.9ms postprocess per image at shape (1, 3, 384, 640)\n",
      "\n"
     ]
    },
    {
     "name": "stdout",
     "output_type": "stream",
     "text": [
      "cover_image-20230803123021.jpeg\n",
      "left_side_view-20231016185714.jpg\n",
      "front_right_view-20240109213214.jpg\n"
     ]
    },
    {
     "name": "stderr",
     "output_type": "stream",
     "text": [
      "image 1/1 /home/ishant/Desktop/KeypointModelTest/New_test_img_2/images/cover_image-20230811143856.jpeg: 384x640 1 car, 65.6ms\n",
      "Speed: 1.6ms preprocess, 65.6ms inference, 0.8ms postprocess per image at shape (1, 3, 384, 640)\n",
      "\n",
      "image 1/1 /home/ishant/Desktop/KeypointModelTest/New_test_img_2/images/rear_right_view-20231005125408.jpeg: 384x640 3 cars, 66.0ms\n",
      "Speed: 1.9ms preprocess, 66.0ms inference, 1.0ms postprocess per image at shape (1, 3, 384, 640)\n",
      "\n",
      "image 1/1 /home/ishant/Desktop/KeypointModelTest/New_test_img_2/images/rear_left_view-20221224131323.jpeg: 384x640 1 car, 60.6ms\n",
      "Speed: 1.8ms preprocess, 60.6ms inference, 0.9ms postprocess per image at shape (1, 3, 384, 640)\n",
      "\n"
     ]
    },
    {
     "name": "stdout",
     "output_type": "stream",
     "text": [
      "cover_image-20230811143856.jpeg\n",
      "rear_right_view-20231005125408.jpeg\n",
      "rear_left_view-20221224131323.jpeg\n"
     ]
    },
    {
     "name": "stderr",
     "output_type": "stream",
     "text": [
      "image 1/1 /home/ishant/Desktop/KeypointModelTest/New_test_img_2/images/right_side_view-20230331173906.jpg: 384x640 1 car, 67.1ms\n",
      "Speed: 2.2ms preprocess, 67.1ms inference, 0.9ms postprocess per image at shape (1, 3, 384, 640)\n",
      "\n",
      "image 1/1 /home/ishant/Desktop/KeypointModelTest/New_test_img_2/images/front_right_view-20220502122727.jpg: 384x640 1 car, 58.7ms\n",
      "Speed: 1.6ms preprocess, 58.7ms inference, 0.9ms postprocess per image at shape (1, 3, 384, 640)\n",
      "\n",
      "image 1/1 /home/ishant/Desktop/KeypointModelTest/New_test_img_2/images/rear_right_view-20221224131344.jpeg: 384x640 3 cars, 59.0ms\n",
      "Speed: 1.8ms preprocess, 59.0ms inference, 0.9ms postprocess per image at shape (1, 3, 384, 640)\n",
      "\n"
     ]
    },
    {
     "name": "stdout",
     "output_type": "stream",
     "text": [
      "right_side_view-20230331173906.jpg\n",
      "front_right_view-20220502122727.jpg\n",
      "rear_right_view-20221224131344.jpeg\n"
     ]
    },
    {
     "name": "stderr",
     "output_type": "stream",
     "text": [
      "image 1/1 /home/ishant/Desktop/KeypointModelTest/New_test_img_2/images/cover_image-20230522160657.jpg: 384x640 3 cars, 50.1ms\n",
      "Speed: 1.5ms preprocess, 50.1ms inference, 0.7ms postprocess per image at shape (1, 3, 384, 640)\n",
      "\n",
      "image 1/1 /home/ishant/Desktop/KeypointModelTest/New_test_img_2/images/front_right_view-20230526143309.jpeg: 384x640 4 cars, 67.7ms\n",
      "Speed: 1.7ms preprocess, 67.7ms inference, 0.7ms postprocess per image at shape (1, 3, 384, 640)\n",
      "\n",
      "image 1/1 /home/ishant/Desktop/KeypointModelTest/New_test_img_2/images/rear_left_view-20240103130723.jpg: 384x640 3 cars, 44.3ms\n",
      "Speed: 2.3ms preprocess, 44.3ms inference, 0.7ms postprocess per image at shape (1, 3, 384, 640)\n",
      "\n"
     ]
    },
    {
     "name": "stdout",
     "output_type": "stream",
     "text": [
      "cover_image-20230522160657.jpg\n",
      "front_right_view-20230526143309.jpeg\n",
      "rear_left_view-20240103130723.jpg\n"
     ]
    },
    {
     "name": "stderr",
     "output_type": "stream",
     "text": [
      "image 1/1 /home/ishant/Desktop/KeypointModelTest/New_test_img_2/images/rear_right_view-20230331174019.jpg: 384x640 2 cars, 49.7ms\n",
      "Speed: 1.5ms preprocess, 49.7ms inference, 0.8ms postprocess per image at shape (1, 3, 384, 640)\n"
     ]
    },
    {
     "name": "stdout",
     "output_type": "stream",
     "text": [
      "rear_right_view-20230331174019.jpg\n"
     ]
    },
    {
     "name": "stderr",
     "output_type": "stream",
     "text": [
      "/home/ishant/.local/lib/python3.8/site-packages/_distutils_hack/__init__.py:33: UserWarning: Setuptools is replacing distutils.\n",
      "  warnings.warn(\"Setuptools is replacing distutils.\")\n"
     ]
    }
   ],
   "source": [
    "train_no = 44\n",
    "model_path = f'runs15Jan/train{train_no}/weights/best.pt'\n",
    "import torch\n",
    "device = torch.device('cpu')\n",
    "model = YOLO(model_path)  # Or 'path/to/best.pt'\n",
    "model.to(device)\n",
    "dis = check_avg_dis(model)\n",
    "name = f\"Train_No_{train_no}\"\n",
    "# Log the PyTorch model with MLflow\n",
    "with mlflow.start_run(run_name=name):\n",
    "    # Log model parameters if needed\n",
    "    # Log the PyTorch model\n",
    "    mlflow.pytorch.log_model(model, \"keypoint_model\")\n",
    "   \n",
    "    mlflow.log_metrics({\n",
    "        \"test_avg_distance\":dis \n",
    "    })"
   ]
  },
  {
   "cell_type": "code",
   "execution_count": 1,
   "metadata": {},
   "outputs": [],
   "source": [
    "import wandb"
   ]
  },
  {
   "cell_type": "code",
   "execution_count": 11,
   "metadata": {},
   "outputs": [
    {
     "data": {
      "text/html": [
       "Finishing last run (ID:pte8vew8) before initializing another..."
      ],
      "text/plain": [
       "<IPython.core.display.HTML object>"
      ]
     },
     "metadata": {},
     "output_type": "display_data"
    },
    {
     "data": {
      "text/html": [
       "Waiting for W&B process to finish... <strong style=\"color:green\">(success).</strong>"
      ],
      "text/plain": [
       "<IPython.core.display.HTML object>"
      ]
     },
     "metadata": {},
     "output_type": "display_data"
    },
    {
     "data": {
      "text/html": [
       "<style>\n",
       "    table.wandb td:nth-child(1) { padding: 0 10px; text-align: left ; width: auto;} td:nth-child(2) {text-align: left ; width: 100%}\n",
       "    .wandb-row { display: flex; flex-direction: row; flex-wrap: wrap; justify-content: flex-start; width: 100% }\n",
       "    .wandb-col { display: flex; flex-direction: column; flex-basis: 100%; flex: 1; padding: 10px; }\n",
       "    </style>\n",
       "<div class=\"wandb-row\"><div class=\"wandb-col\"><h3>Run history:</h3><br/><table class=\"wandb\"><tr><td>105_avg_distance</td><td>▁</td></tr><tr><td>120_avg_distance</td><td>▁</td></tr><tr><td>135_avg_distance</td><td>▁</td></tr><tr><td>150_avg_distance</td><td>▁</td></tr><tr><td>210_avg_distance</td><td>▁</td></tr><tr><td>225_avg_distance</td><td>▁</td></tr><tr><td>240_avg_distance</td><td>▁</td></tr><tr><td>255_avg_distance</td><td>▁</td></tr><tr><td>270_avg_distance</td><td>▁</td></tr><tr><td>285_avg_distance</td><td>▁</td></tr><tr><td>300_avg_distance</td><td>▁</td></tr><tr><td>30_avg_distance</td><td>▁</td></tr><tr><td>315_avg_distance</td><td>▁</td></tr><tr><td>45_avg_distance</td><td>▁</td></tr><tr><td>60_avg_distance</td><td>▁</td></tr><tr><td>75_avg_distance</td><td>▁</td></tr><tr><td>90_avg_distance</td><td>▁</td></tr><tr><td>test_avg_distance</td><td>▁</td></tr></table><br/></div><div class=\"wandb-col\"><h3>Run summary:</h3><br/><table class=\"wandb\"><tr><td>105_avg_distance</td><td>0.01443</td></tr><tr><td>120_avg_distance</td><td>0.01693</td></tr><tr><td>135_avg_distance</td><td>0.01687</td></tr><tr><td>150_avg_distance</td><td>0.02196</td></tr><tr><td>210_avg_distance</td><td>0.0208</td></tr><tr><td>225_avg_distance</td><td>0.02313</td></tr><tr><td>240_avg_distance</td><td>0.01609</td></tr><tr><td>255_avg_distance</td><td>0.01325</td></tr><tr><td>270_avg_distance</td><td>0.01315</td></tr><tr><td>285_avg_distance</td><td>0.01273</td></tr><tr><td>300_avg_distance</td><td>0.02895</td></tr><tr><td>30_avg_distance</td><td>0.03298</td></tr><tr><td>315_avg_distance</td><td>0.01568</td></tr><tr><td>45_avg_distance</td><td>0.01542</td></tr><tr><td>60_avg_distance</td><td>0.01481</td></tr><tr><td>75_avg_distance</td><td>0.01381</td></tr><tr><td>90_avg_distance</td><td>0.01453</td></tr><tr><td>test_avg_distance</td><td>0.01562</td></tr></table><br/></div></div>"
      ],
      "text/plain": [
       "<IPython.core.display.HTML object>"
      ]
     },
     "metadata": {},
     "output_type": "display_data"
    },
    {
     "data": {
      "text/html": [
       " View run <strong style=\"color:#cdcd00\">ishantkukreti2000</strong> at: <a href='https://wandb.ai/ik_zone/keypoint_test/runs/pte8vew8' target=\"_blank\">https://wandb.ai/ik_zone/keypoint_test/runs/pte8vew8</a><br/>Synced 5 W&B file(s), 0 media file(s), 0 artifact file(s) and 0 other file(s)"
      ],
      "text/plain": [
       "<IPython.core.display.HTML object>"
      ]
     },
     "metadata": {},
     "output_type": "display_data"
    },
    {
     "data": {
      "text/html": [
       "Find logs at: <code>./wandb/run-20240312_173701-pte8vew8/logs</code>"
      ],
      "text/plain": [
       "<IPython.core.display.HTML object>"
      ]
     },
     "metadata": {},
     "output_type": "display_data"
    },
    {
     "data": {
      "text/html": [
       "Successfully finished last run (ID:pte8vew8). Initializing new run:<br/>"
      ],
      "text/plain": [
       "<IPython.core.display.HTML object>"
      ]
     },
     "metadata": {},
     "output_type": "display_data"
    },
    {
     "data": {
      "application/vnd.jupyter.widget-view+json": {
       "model_id": "dde18d034ad6466a884bee7a9a38e9a8",
       "version_major": 2,
       "version_minor": 0
      },
      "text/plain": [
       "VBox(children=(Label(value='Waiting for wandb.init()...\\r'), FloatProgress(value=0.011113044699999994, max=1.0…"
      ]
     },
     "metadata": {},
     "output_type": "display_data"
    },
    {
     "data": {
      "text/html": [
       "wandb version 0.16.4 is available!  To upgrade, please run:\n",
       " $ pip install wandb --upgrade"
      ],
      "text/plain": [
       "<IPython.core.display.HTML object>"
      ]
     },
     "metadata": {},
     "output_type": "display_data"
    },
    {
     "data": {
      "text/html": [
       "Tracking run with wandb version 0.15.10"
      ],
      "text/plain": [
       "<IPython.core.display.HTML object>"
      ]
     },
     "metadata": {},
     "output_type": "display_data"
    },
    {
     "data": {
      "text/html": [
       "Run data is saved locally in <code>/home/ishant/Desktop/KeypointModelTest/wandb/run-20240312_175011-asoveaip</code>"
      ],
      "text/plain": [
       "<IPython.core.display.HTML object>"
      ]
     },
     "metadata": {},
     "output_type": "display_data"
    },
    {
     "data": {
      "text/html": [
       "Syncing run <strong><a href='https://wandb.ai/ik_zone/keypoint_test/runs/asoveaip' target=\"_blank\">ishantkukreti2000</a></strong> to <a href='https://wandb.ai/ik_zone/keypoint_test' target=\"_blank\">Weights & Biases</a> (<a href='https://wandb.me/run' target=\"_blank\">docs</a>)<br/>"
      ],
      "text/plain": [
       "<IPython.core.display.HTML object>"
      ]
     },
     "metadata": {},
     "output_type": "display_data"
    },
    {
     "data": {
      "text/html": [
       " View project at <a href='https://wandb.ai/ik_zone/keypoint_test' target=\"_blank\">https://wandb.ai/ik_zone/keypoint_test</a>"
      ],
      "text/plain": [
       "<IPython.core.display.HTML object>"
      ]
     },
     "metadata": {},
     "output_type": "display_data"
    },
    {
     "data": {
      "text/html": [
       " View run at <a href='https://wandb.ai/ik_zone/keypoint_test/runs/asoveaip' target=\"_blank\">https://wandb.ai/ik_zone/keypoint_test/runs/asoveaip</a>"
      ],
      "text/plain": [
       "<IPython.core.display.HTML object>"
      ]
     },
     "metadata": {},
     "output_type": "display_data"
    },
    {
     "data": {
      "text/html": [
       "<button onClick=\"this.nextSibling.style.display='block';this.style.display='none';\">Display W&B run</button><iframe src='https://wandb.ai/ik_zone/keypoint_test/runs/asoveaip?jupyter=true' style='border:none;width:100%;height:420px;display:none;'></iframe>"
      ],
      "text/plain": [
       "<wandb.sdk.wandb_run.Run at 0x7fc265d72fd0>"
      ]
     },
     "execution_count": 11,
     "metadata": {},
     "output_type": "execute_result"
    }
   ],
   "source": []
  },
  {
   "cell_type": "code",
   "execution_count": 3,
   "metadata": {},
   "outputs": [
    {
     "name": "stderr",
     "output_type": "stream",
     "text": [
      "UsageError: unrecognized arguments: --relogin\n"
     ]
    }
   ],
   "source": [
    "%wandb login --relogin"
   ]
  },
  {
   "cell_type": "code",
   "execution_count": 14,
   "metadata": {},
   "outputs": [
    {
     "data": {
      "image/png": "[encoded data removed]",
      "text/plain": [
       "<Figure size 1000x600 with 2 Axes>"
      ]
     },
     "metadata": {},
     "output_type": "display_data"
    }
   ],
   "source": [
    "if 1:\n",
    "    # Log model parameters if needed\n",
    "    # Log the PyTorch model\n",
    "    \n",
    "    \n",
    "    wandb.log({\"test_avg_distance\": dis})\n",
    "\n",
    "    # Your plotting code\n",
    "    summary_data = df.groupby('Angle')['Average Distance'].agg(['mean', 'count'])\n",
    "\n",
    "    custom_ticks = list(range(45, 361, 15))\n",
    "\n",
    "    fig, ax1 = plt.subplots(figsize=(10, 6))\n",
    "\n",
    "    color = 'tab:blue'\n",
    "    ax1.set_xlabel('Angle')\n",
    "    ax1.set_ylabel('Average Distance', color=color)\n",
    "    ax1.bar(summary_data.index, summary_data['mean'], color=color, edgecolor='black')\n",
    "    ax1.tick_params(axis='y', labelcolor=color)\n",
    "    ax1.set_xticks(custom_ticks)\n",
    "\n",
    "    ax2 = ax1.twinx()\n",
    "    color = 'tab:red'\n",
    "    ax2.set_ylabel('Count', color=color)\n",
    "    ax2.plot(summary_data.index, summary_data['count'], color=color, marker='o')\n",
    "    ax2.tick_params(axis='y', labelcolor=color)\n",
    "\n",
    "    plt.title('Average Distance and Count for Different Angles')\n",
    "\n",
    "    # Save the figure\n",
    "    plt.savefig('plot.png')\n",
    "\n",
    "    \n",
    "\n",
    "    for angle, values in summary_data.iterrows():\n",
    "        wandb.log({\n",
    "            f\"{angle}_avg_distance\": values['mean']\n",
    "        })"
   ]
  },
  {
   "cell_type": "code",
   "execution_count": 1,
   "metadata": {},
   "outputs": [],
   "source": [
    "# DVC \n",
    "from dvclive import Live"
   ]
  },
  {
   "cell_type": "code",
   "execution_count": 7,
   "metadata": {},
   "outputs": [
    {
     "name": "stderr",
     "output_type": "stream",
     "text": [
      "\n",
      "image 1/1 /home/ishant/Desktop/KeypointModelTest/New_test_img_2/images/cover_image-20230108161822.jpeg: 480x640 1 car, 127.1ms\n",
      "Speed: 5.9ms preprocess, 127.1ms inference, 4.8ms postprocess per image at shape (1, 3, 480, 640)\n"
     ]
    },
    {
     "name": "stdout",
     "output_type": "stream",
     "text": [
      "cover_image-20230108161822.jpeg\n"
     ]
    },
    {
     "name": "stderr",
     "output_type": "stream",
     "text": [
      "\n",
      "image 1/1 /home/ishant/Desktop/KeypointModelTest/New_test_img_2/images/right_side_view-20230822192008.jpeg: 480x640 1 car, 93.5ms\n",
      "Speed: 4.6ms preprocess, 93.5ms inference, 0.8ms postprocess per image at shape (1, 3, 480, 640)\n"
     ]
    },
    {
     "name": "stdout",
     "output_type": "stream",
     "text": [
      "right_side_view-20230822192008.jpeg\n"
     ]
    },
    {
     "name": "stderr",
     "output_type": "stream",
     "text": [
      "\n",
      "image 1/1 /home/ishant/Desktop/KeypointModelTest/New_test_img_2/images/front_right_view-20221223114144.jpeg: 480x640 1 car, 116.2ms\n",
      "Speed: 3.5ms preprocess, 116.2ms inference, 0.9ms postprocess per image at shape (1, 3, 480, 640)\n"
     ]
    },
    {
     "name": "stdout",
     "output_type": "stream",
     "text": [
      "front_right_view-20221223114144.jpeg\n"
     ]
    },
    {
     "name": "stderr",
     "output_type": "stream",
     "text": [
      "\n",
      "image 1/1 /home/ishant/Desktop/KeypointModelTest/New_test_img_2/images/rear_left_view-20230113131454.jpeg: 480x640 1 car, 108.9ms\n",
      "Speed: 4.4ms preprocess, 108.9ms inference, 1.0ms postprocess per image at shape (1, 3, 480, 640)\n"
     ]
    },
    {
     "name": "stdout",
     "output_type": "stream",
     "text": [
      "rear_left_view-20230113131454.jpeg\n"
     ]
    },
    {
     "name": "stderr",
     "output_type": "stream",
     "text": [
      "\n",
      "image 1/1 /home/ishant/Desktop/KeypointModelTest/New_test_img_2/images/left_side_view-20230424151412.jpg: 512x640 1 car, 117.8ms\n",
      "Speed: 3.1ms preprocess, 117.8ms inference, 0.8ms postprocess per image at shape (1, 3, 512, 640)\n"
     ]
    },
    {
     "name": "stdout",
     "output_type": "stream",
     "text": [
      "left_side_view-20230424151412.jpg\n"
     ]
    },
    {
     "name": "stderr",
     "output_type": "stream",
     "text": [
      "\n",
      "image 1/1 /home/ishant/Desktop/KeypointModelTest/New_test_img_2/images/rear_right_view-20231202151813.jpeg: 480x640 1 car, 99.0ms\n",
      "Speed: 3.3ms preprocess, 99.0ms inference, 0.9ms postprocess per image at shape (1, 3, 480, 640)\n"
     ]
    },
    {
     "name": "stdout",
     "output_type": "stream",
     "text": [
      "rear_right_view-20231202151813.jpeg\n"
     ]
    },
    {
     "name": "stderr",
     "output_type": "stream",
     "text": [
      "\n",
      "image 1/1 /home/ishant/Desktop/KeypointModelTest/New_test_img_2/images/cover_image-20230524174344.jpeg: 384x640 1 car, 88.5ms\n",
      "Speed: 3.0ms preprocess, 88.5ms inference, 1.0ms postprocess per image at shape (1, 3, 384, 640)\n"
     ]
    },
    {
     "name": "stdout",
     "output_type": "stream",
     "text": [
      "cover_image-20230524174344.jpeg\n"
     ]
    },
    {
     "name": "stderr",
     "output_type": "stream",
     "text": [
      "\n",
      "image 1/1 /home/ishant/Desktop/KeypointModelTest/New_test_img_2/images/left_side_view-20230505154931.jpg: 480x640 1 car, 102.0ms\n",
      "Speed: 3.8ms preprocess, 102.0ms inference, 0.9ms postprocess per image at shape (1, 3, 480, 640)\n"
     ]
    },
    {
     "name": "stdout",
     "output_type": "stream",
     "text": [
      "left_side_view-20230505154931.jpg\n"
     ]
    },
    {
     "name": "stderr",
     "output_type": "stream",
     "text": [
      "\n",
      "image 1/1 /home/ishant/Desktop/KeypointModelTest/New_test_img_2/images/right_side_view-20230122230748.jpeg: 480x640 1 car, 92.4ms\n",
      "Speed: 4.2ms preprocess, 92.4ms inference, 0.8ms postprocess per image at shape (1, 3, 480, 640)\n"
     ]
    },
    {
     "name": "stdout",
     "output_type": "stream",
     "text": [
      "right_side_view-20230122230748.jpeg\n"
     ]
    },
    {
     "name": "stderr",
     "output_type": "stream",
     "text": [
      "\n",
      "image 1/1 /home/ishant/Desktop/KeypointModelTest/New_test_img_2/images/cover_image-20221210190446.jpeg: 480x640 1 car, 104.0ms\n",
      "Speed: 2.9ms preprocess, 104.0ms inference, 1.8ms postprocess per image at shape (1, 3, 480, 640)\n"
     ]
    },
    {
     "name": "stdout",
     "output_type": "stream",
     "text": [
      "cover_image-20221210190446.jpeg\n"
     ]
    },
    {
     "name": "stderr",
     "output_type": "stream",
     "text": [
      "\n",
      "image 1/1 /home/ishant/Desktop/KeypointModelTest/New_test_img_2/images/right_side_view-20240103184831.jpg: 480x640 1 car, 123.6ms\n",
      "Speed: 4.5ms preprocess, 123.6ms inference, 0.7ms postprocess per image at shape (1, 3, 480, 640)\n"
     ]
    },
    {
     "name": "stdout",
     "output_type": "stream",
     "text": [
      "right_side_view-20240103184831.jpg\n"
     ]
    },
    {
     "name": "stderr",
     "output_type": "stream",
     "text": [
      "\n",
      "image 1/1 /home/ishant/Desktop/KeypointModelTest/New_test_img_2/images/front_right_view-20230113131505.jpeg: 480x640 1 car, 93.6ms\n",
      "Speed: 4.0ms preprocess, 93.6ms inference, 0.8ms postprocess per image at shape (1, 3, 480, 640)\n"
     ]
    },
    {
     "name": "stdout",
     "output_type": "stream",
     "text": [
      "front_right_view-20230113131505.jpeg\n"
     ]
    },
    {
     "name": "stderr",
     "output_type": "stream",
     "text": [
      "\n",
      "image 1/1 /home/ishant/Desktop/KeypointModelTest/New_test_img_2/images/rear_right_view-20230113131528.jpeg: 480x640 1 car, 104.9ms\n",
      "Speed: 4.7ms preprocess, 104.9ms inference, 0.9ms postprocess per image at shape (1, 3, 480, 640)\n"
     ]
    },
    {
     "name": "stdout",
     "output_type": "stream",
     "text": [
      "rear_right_view-20230113131528.jpeg\n"
     ]
    },
    {
     "name": "stderr",
     "output_type": "stream",
     "text": [
      "\n",
      "image 1/1 /home/ishant/Desktop/KeypointModelTest/New_test_img_2/images/front_right_view-20230612171611.jpeg: 480x640 1 car, 96.6ms\n",
      "Speed: 4.7ms preprocess, 96.6ms inference, 1.1ms postprocess per image at shape (1, 3, 480, 640)\n"
     ]
    },
    {
     "name": "stdout",
     "output_type": "stream",
     "text": [
      "front_right_view-20230612171611.jpeg\n"
     ]
    },
    {
     "name": "stderr",
     "output_type": "stream",
     "text": [
      "\n",
      "image 1/1 /home/ishant/Desktop/KeypointModelTest/New_test_img_2/images/front_right_view-20230424151425.jpg: 512x640 1 car, 110.0ms\n",
      "Speed: 3.3ms preprocess, 110.0ms inference, 0.9ms postprocess per image at shape (1, 3, 512, 640)\n"
     ]
    },
    {
     "name": "stdout",
     "output_type": "stream",
     "text": [
      "front_right_view-20230424151425.jpg\n"
     ]
    },
    {
     "name": "stderr",
     "output_type": "stream",
     "text": [
      "\n",
      "image 1/1 /home/ishant/Desktop/KeypointModelTest/New_test_img_2/images/rear_left_view-20230819134348.jpg: 480x640 1 car, 102.7ms\n",
      "Speed: 3.9ms preprocess, 102.7ms inference, 0.9ms postprocess per image at shape (1, 3, 480, 640)\n"
     ]
    },
    {
     "name": "stdout",
     "output_type": "stream",
     "text": [
      "rear_left_view-20230819134348.jpg\n"
     ]
    },
    {
     "name": "stderr",
     "output_type": "stream",
     "text": [
      "\n",
      "image 1/1 /home/ishant/Desktop/KeypointModelTest/New_test_img_2/images/left_side_view-20230612171512.jpeg: 480x640 1 car, 91.6ms\n",
      "Speed: 4.3ms preprocess, 91.6ms inference, 0.7ms postprocess per image at shape (1, 3, 480, 640)\n"
     ]
    },
    {
     "name": "stdout",
     "output_type": "stream",
     "text": [
      "left_side_view-20230612171512.jpeg\n"
     ]
    },
    {
     "name": "stderr",
     "output_type": "stream",
     "text": [
      "\n",
      "image 1/1 /home/ishant/Desktop/KeypointModelTest/New_test_img_2/images/front_right_view-20230221182625.jpeg: 480x640 1 car, 103.6ms\n",
      "Speed: 4.1ms preprocess, 103.6ms inference, 0.9ms postprocess per image at shape (1, 3, 480, 640)\n"
     ]
    },
    {
     "name": "stdout",
     "output_type": "stream",
     "text": [
      "front_right_view-20230221182625.jpeg\n"
     ]
    },
    {
     "name": "stderr",
     "output_type": "stream",
     "text": [
      "\n",
      "image 1/1 /home/ishant/Desktop/KeypointModelTest/New_test_img_2/images/front_right_view-20230822192036.jpeg: 480x640 1 car, 144.5ms\n",
      "Speed: 19.8ms preprocess, 144.5ms inference, 0.9ms postprocess per image at shape (1, 3, 480, 640)\n"
     ]
    },
    {
     "name": "stdout",
     "output_type": "stream",
     "text": [
      "front_right_view-20230822192036.jpeg\n"
     ]
    },
    {
     "name": "stderr",
     "output_type": "stream",
     "text": [
      "\n",
      "image 1/1 /home/ishant/Desktop/KeypointModelTest/New_test_img_2/images/rear_right_view-20221223114154.jpeg: 480x640 1 car, 89.0ms\n",
      "Speed: 3.3ms preprocess, 89.0ms inference, 0.9ms postprocess per image at shape (1, 3, 480, 640)\n"
     ]
    },
    {
     "name": "stdout",
     "output_type": "stream",
     "text": [
      "rear_right_view-20221223114154.jpeg\n"
     ]
    },
    {
     "name": "stderr",
     "output_type": "stream",
     "text": [
      "\n",
      "image 1/1 /home/ishant/Desktop/KeypointModelTest/New_test_img_2/images/right_side_view-20230819134335.jpg: 480x640 1 car, 100.4ms\n",
      "Speed: 4.5ms preprocess, 100.4ms inference, 1.5ms postprocess per image at shape (1, 3, 480, 640)\n"
     ]
    },
    {
     "name": "stdout",
     "output_type": "stream",
     "text": [
      "right_side_view-20230819134335.jpg\n"
     ]
    },
    {
     "name": "stderr",
     "output_type": "stream",
     "text": [
      "\n",
      "image 1/1 /home/ishant/Desktop/KeypointModelTest/New_test_img_2/images/rear_right_view-20221210190639.jpeg: 480x640 1 car, 93.5ms\n",
      "Speed: 4.9ms preprocess, 93.5ms inference, 0.7ms postprocess per image at shape (1, 3, 480, 640)\n"
     ]
    },
    {
     "name": "stdout",
     "output_type": "stream",
     "text": [
      "rear_right_view-20221210190639.jpeg\n"
     ]
    },
    {
     "name": "stderr",
     "output_type": "stream",
     "text": [
      "\n",
      "image 1/1 /home/ishant/Desktop/KeypointModelTest/New_test_img_2/images/rear_right_view-20230505154952.jpg: 480x640 1 car, 87.1ms\n",
      "Speed: 3.2ms preprocess, 87.1ms inference, 1.2ms postprocess per image at shape (1, 3, 480, 640)\n"
     ]
    },
    {
     "name": "stdout",
     "output_type": "stream",
     "text": [
      "rear_right_view-20230505154952.jpg\n"
     ]
    },
    {
     "name": "stderr",
     "output_type": "stream",
     "text": [
      "\n",
      "image 1/1 /home/ishant/Desktop/KeypointModelTest/New_test_img_2/images/left_side_view-20230819134319.jpg: 480x640 1 car, 99.9ms\n",
      "Speed: 3.9ms preprocess, 99.9ms inference, 1.0ms postprocess per image at shape (1, 3, 480, 640)\n"
     ]
    },
    {
     "name": "stdout",
     "output_type": "stream",
     "text": [
      "left_side_view-20230819134319.jpg\n"
     ]
    },
    {
     "name": "stderr",
     "output_type": "stream",
     "text": [
      "\n",
      "image 1/1 /home/ishant/Desktop/KeypointModelTest/New_test_img_2/images/cover_image-20240103184802.jpg: 480x640 1 car, 96.5ms\n",
      "Speed: 10.8ms preprocess, 96.5ms inference, 1.0ms postprocess per image at shape (1, 3, 480, 640)\n"
     ]
    },
    {
     "name": "stdout",
     "output_type": "stream",
     "text": [
      "cover_image-20240103184802.jpg\n"
     ]
    },
    {
     "name": "stderr",
     "output_type": "stream",
     "text": [
      "\n",
      "image 1/1 /home/ishant/Desktop/KeypointModelTest/New_test_img_2/images/rear_left_view-20230122230818.jpeg: 480x640 1 car, 94.3ms\n",
      "Speed: 3.1ms preprocess, 94.3ms inference, 0.9ms postprocess per image at shape (1, 3, 480, 640)\n"
     ]
    },
    {
     "name": "stdout",
     "output_type": "stream",
     "text": [
      "rear_left_view-20230122230818.jpeg\n"
     ]
    },
    {
     "name": "stderr",
     "output_type": "stream",
     "text": [
      "\n",
      "image 1/1 /home/ishant/Desktop/KeypointModelTest/New_test_img_2/images/left_side_view-20230302145907.jpg: 512x640 1 car, 161.4ms\n",
      "Speed: 4.7ms preprocess, 161.4ms inference, 0.9ms postprocess per image at shape (1, 3, 512, 640)\n"
     ]
    },
    {
     "name": "stdout",
     "output_type": "stream",
     "text": [
      "left_side_view-20230302145907.jpg\n"
     ]
    },
    {
     "name": "stderr",
     "output_type": "stream",
     "text": [
      "\n",
      "image 1/1 /home/ishant/Desktop/KeypointModelTest/New_test_img_2/images/front_right_view-20221210190629.jpeg: 480x640 1 car, 108.7ms\n",
      "Speed: 4.1ms preprocess, 108.7ms inference, 0.8ms postprocess per image at shape (1, 3, 480, 640)\n"
     ]
    },
    {
     "name": "stdout",
     "output_type": "stream",
     "text": [
      "front_right_view-20221210190629.jpeg\n"
     ]
    },
    {
     "name": "stderr",
     "output_type": "stream",
     "text": [
      "\n",
      "image 1/1 /home/ishant/Desktop/KeypointModelTest/New_test_img_2/images/cover_image-20231202151725.jpeg: 480x640 1 car, 90.5ms\n",
      "Speed: 2.9ms preprocess, 90.5ms inference, 0.8ms postprocess per image at shape (1, 3, 480, 640)\n"
     ]
    },
    {
     "name": "stdout",
     "output_type": "stream",
     "text": [
      "cover_image-20231202151725.jpeg\n"
     ]
    },
    {
     "name": "stderr",
     "output_type": "stream",
     "text": [
      "\n",
      "image 1/1 /home/ishant/Desktop/KeypointModelTest/New_test_img_2/images/rear_left_view-20230927134157.jpeg: 640x480 1 car, 110.6ms\n",
      "Speed: 3.9ms preprocess, 110.6ms inference, 1.3ms postprocess per image at shape (1, 3, 640, 480)\n"
     ]
    },
    {
     "name": "stdout",
     "output_type": "stream",
     "text": [
      "rear_left_view-20230927134157.jpeg\n"
     ]
    },
    {
     "name": "stderr",
     "output_type": "stream",
     "text": [
      "\n",
      "image 1/1 /home/ishant/Desktop/KeypointModelTest/New_test_img_2/images/front_right_view-20230108161943.jpeg: 480x640 1 car, 94.7ms\n",
      "Speed: 3.1ms preprocess, 94.7ms inference, 0.9ms postprocess per image at shape (1, 3, 480, 640)\n"
     ]
    },
    {
     "name": "stdout",
     "output_type": "stream",
     "text": [
      "front_right_view-20230108161943.jpeg\n"
     ]
    },
    {
     "name": "stderr",
     "output_type": "stream",
     "text": [
      "\n",
      "image 1/1 /home/ishant/Desktop/KeypointModelTest/New_test_img_2/images/front_right_view-20230705185128.jpeg: 480x640 1 car, 94.0ms\n",
      "Speed: 3.0ms preprocess, 94.0ms inference, 1.2ms postprocess per image at shape (1, 3, 480, 640)\n"
     ]
    },
    {
     "name": "stdout",
     "output_type": "stream",
     "text": [
      "front_right_view-20230705185128.jpeg\n"
     ]
    },
    {
     "name": "stderr",
     "output_type": "stream",
     "text": [
      "\n",
      "image 1/1 /home/ishant/Desktop/KeypointModelTest/New_test_img_2/images/rear_left_view-20230822192017.jpeg: 480x640 1 car, 85.7ms\n",
      "Speed: 7.0ms preprocess, 85.7ms inference, 1.7ms postprocess per image at shape (1, 3, 480, 640)\n"
     ]
    },
    {
     "name": "stdout",
     "output_type": "stream",
     "text": [
      "rear_left_view-20230822192017.jpeg\n"
     ]
    },
    {
     "name": "stderr",
     "output_type": "stream",
     "text": [
      "\n",
      "image 1/1 /home/ishant/Desktop/KeypointModelTest/New_test_img_2/images/right_side_view-20230524174418.jpeg: 384x640 1 car, 79.9ms\n",
      "Speed: 4.2ms preprocess, 79.9ms inference, 1.2ms postprocess per image at shape (1, 3, 384, 640)\n"
     ]
    },
    {
     "name": "stdout",
     "output_type": "stream",
     "text": [
      "right_side_view-20230524174418.jpeg\n"
     ]
    },
    {
     "name": "stderr",
     "output_type": "stream",
     "text": [
      "\n",
      "image 1/1 /home/ishant/Desktop/KeypointModelTest/New_test_img_2/images/right_side_view-20230307161432.jpg: 384x640 1 car, 134.8ms\n",
      "Speed: 2.4ms preprocess, 134.8ms inference, 1.1ms postprocess per image at shape (1, 3, 384, 640)\n"
     ]
    },
    {
     "name": "stdout",
     "output_type": "stream",
     "text": [
      "right_side_view-20230307161432.jpg\n"
     ]
    },
    {
     "name": "stderr",
     "output_type": "stream",
     "text": [
      "\n",
      "image 1/1 /home/ishant/Desktop/KeypointModelTest/New_test_img_2/images/rear_right_view-20230302145940.jpg: 512x640 1 car, 112.1ms\n",
      "Speed: 3.0ms preprocess, 112.1ms inference, 0.9ms postprocess per image at shape (1, 3, 512, 640)\n"
     ]
    },
    {
     "name": "stdout",
     "output_type": "stream",
     "text": [
      "rear_right_view-20230302145940.jpg\n"
     ]
    },
    {
     "name": "stderr",
     "output_type": "stream",
     "text": [
      "\n",
      "image 1/1 /home/ishant/Desktop/KeypointModelTest/New_test_img_2/images/left_side_view-20230201172302.jpg: 480x640 1 car, 103.7ms\n",
      "Speed: 3.9ms preprocess, 103.7ms inference, 1.0ms postprocess per image at shape (1, 3, 480, 640)\n"
     ]
    },
    {
     "name": "stdout",
     "output_type": "stream",
     "text": [
      "left_side_view-20230201172302.jpg\n"
     ]
    },
    {
     "name": "stderr",
     "output_type": "stream",
     "text": [
      "\n",
      "image 1/1 /home/ishant/Desktop/KeypointModelTest/New_test_img_2/images/cover_image-20230302155603.jpeg: 384x640 1 car, 70.2ms\n",
      "Speed: 3.4ms preprocess, 70.2ms inference, 0.8ms postprocess per image at shape (1, 3, 384, 640)\n"
     ]
    },
    {
     "name": "stdout",
     "output_type": "stream",
     "text": [
      "cover_image-20230302155603.jpeg\n"
     ]
    },
    {
     "name": "stderr",
     "output_type": "stream",
     "text": [
      "\n",
      "image 1/1 /home/ishant/Desktop/KeypointModelTest/New_test_img_2/images/left_side_view-20230927134142.jpeg: 480x640 1 car, 103.4ms\n",
      "Speed: 4.0ms preprocess, 103.4ms inference, 1.9ms postprocess per image at shape (1, 3, 480, 640)\n"
     ]
    },
    {
     "name": "stdout",
     "output_type": "stream",
     "text": [
      "left_side_view-20230927134142.jpeg\n"
     ]
    },
    {
     "name": "stderr",
     "output_type": "stream",
     "text": [
      "\n",
      "image 1/1 /home/ishant/Desktop/KeypointModelTest/New_test_img_2/images/cover_image-20230612171440.jpeg: 480x640 1 car, 115.1ms\n",
      "Speed: 7.6ms preprocess, 115.1ms inference, 0.9ms postprocess per image at shape (1, 3, 480, 640)\n"
     ]
    },
    {
     "name": "stdout",
     "output_type": "stream",
     "text": [
      "cover_image-20230612171440.jpeg\n"
     ]
    },
    {
     "name": "stderr",
     "output_type": "stream",
     "text": [
      "\n",
      "image 1/1 /home/ishant/Desktop/KeypointModelTest/New_test_img_2/images/rear_left_view-20221223114117.jpeg: 480x640 1 car, 99.1ms\n",
      "Speed: 3.2ms preprocess, 99.1ms inference, 0.9ms postprocess per image at shape (1, 3, 480, 640)\n"
     ]
    },
    {
     "name": "stdout",
     "output_type": "stream",
     "text": [
      "rear_left_view-20221223114117.jpeg\n"
     ]
    },
    {
     "name": "stderr",
     "output_type": "stream",
     "text": [
      "\n",
      "image 1/1 /home/ishant/Desktop/KeypointModelTest/New_test_img_2/images/cover_image-20231214125357.jpeg: 480x640 1 car, 106.8ms\n",
      "Speed: 3.6ms preprocess, 106.8ms inference, 1.5ms postprocess per image at shape (1, 3, 480, 640)\n"
     ]
    },
    {
     "name": "stdout",
     "output_type": "stream",
     "text": [
      "cover_image-20231214125357.jpeg\n"
     ]
    },
    {
     "name": "stderr",
     "output_type": "stream",
     "text": [
      "\n",
      "image 1/1 /home/ishant/Desktop/KeypointModelTest/New_test_img_2/images/rear_left_view-20230201172332.jpg: 480x640 1 car, 166.5ms\n",
      "Speed: 3.4ms preprocess, 166.5ms inference, 0.8ms postprocess per image at shape (1, 3, 480, 640)\n"
     ]
    },
    {
     "name": "stdout",
     "output_type": "stream",
     "text": [
      "rear_left_view-20230201172332.jpg\n"
     ]
    },
    {
     "name": "stderr",
     "output_type": "stream",
     "text": [
      "\n",
      "image 1/1 /home/ishant/Desktop/KeypointModelTest/New_test_img_2/images/cover_image-20230819134257.jpg: 480x640 1 car, 91.7ms\n",
      "Speed: 4.5ms preprocess, 91.7ms inference, 1.2ms postprocess per image at shape (1, 3, 480, 640)\n"
     ]
    },
    {
     "name": "stdout",
     "output_type": "stream",
     "text": [
      "cover_image-20230819134257.jpg\n"
     ]
    },
    {
     "name": "stderr",
     "output_type": "stream",
     "text": [
      "\n",
      "image 1/1 /home/ishant/Desktop/KeypointModelTest/New_test_img_2/images/right_side_view-20231202151746.jpeg: 480x640 1 car, 83.4ms\n",
      "Speed: 3.6ms preprocess, 83.4ms inference, 1.1ms postprocess per image at shape (1, 3, 480, 640)\n"
     ]
    },
    {
     "name": "stdout",
     "output_type": "stream",
     "text": [
      "right_side_view-20231202151746.jpeg\n"
     ]
    },
    {
     "name": "stderr",
     "output_type": "stream",
     "text": [
      "\n",
      "image 1/1 /home/ishant/Desktop/KeypointModelTest/New_test_img_2/images/left_side_view-20230108161859.jpeg: 480x640 1 car, 90.0ms\n",
      "Speed: 3.5ms preprocess, 90.0ms inference, 1.6ms postprocess per image at shape (1, 3, 480, 640)\n"
     ]
    },
    {
     "name": "stdout",
     "output_type": "stream",
     "text": [
      "left_side_view-20230108161859.jpeg\n"
     ]
    },
    {
     "name": "stderr",
     "output_type": "stream",
     "text": [
      "\n",
      "image 1/1 /home/ishant/Desktop/KeypointModelTest/New_test_img_2/images/right_side_view-20221210190611.jpeg: 480x640 1 car, 105.2ms\n",
      "Speed: 4.6ms preprocess, 105.2ms inference, 1.3ms postprocess per image at shape (1, 3, 480, 640)\n"
     ]
    },
    {
     "name": "stdout",
     "output_type": "stream",
     "text": [
      "right_side_view-20221210190611.jpeg\n"
     ]
    },
    {
     "name": "stderr",
     "output_type": "stream",
     "text": [
      "\n",
      "image 1/1 /home/ishant/Desktop/KeypointModelTest/New_test_img_2/images/rear_left_view-20230108161928.jpeg: 480x640 1 car, 92.3ms\n",
      "Speed: 3.1ms preprocess, 92.3ms inference, 0.9ms postprocess per image at shape (1, 3, 480, 640)\n"
     ]
    },
    {
     "name": "stdout",
     "output_type": "stream",
     "text": [
      "rear_left_view-20230108161928.jpeg\n"
     ]
    },
    {
     "name": "stderr",
     "output_type": "stream",
     "text": [
      "\n",
      "image 1/1 /home/ishant/Desktop/KeypointModelTest/New_test_img_2/images/cover_image-20221223114019.jpeg: 480x640 1 car, 92.1ms\n",
      "Speed: 2.9ms preprocess, 92.1ms inference, 0.7ms postprocess per image at shape (1, 3, 480, 640)\n"
     ]
    },
    {
     "name": "stdout",
     "output_type": "stream",
     "text": [
      "cover_image-20221223114019.jpeg\n"
     ]
    },
    {
     "name": "stderr",
     "output_type": "stream",
     "text": [
      "\n",
      "image 1/1 /home/ishant/Desktop/KeypointModelTest/New_test_img_2/images/rear_left_view-20230705185120.jpeg: 512x640 1 car, 94.1ms\n",
      "Speed: 3.4ms preprocess, 94.1ms inference, 2.3ms postprocess per image at shape (1, 3, 512, 640)\n"
     ]
    },
    {
     "name": "stdout",
     "output_type": "stream",
     "text": [
      "rear_left_view-20230705185120.jpeg\n"
     ]
    },
    {
     "name": "stderr",
     "output_type": "stream",
     "text": [
      "\n",
      "image 1/1 /home/ishant/Desktop/KeypointModelTest/New_test_img_2/images/rear_right_view-20230524174509.jpeg: 384x640 1 car, 100.0ms\n",
      "Speed: 24.4ms preprocess, 100.0ms inference, 1.5ms postprocess per image at shape (1, 3, 384, 640)\n"
     ]
    },
    {
     "name": "stdout",
     "output_type": "stream",
     "text": [
      "rear_right_view-20230524174509.jpeg\n"
     ]
    },
    {
     "name": "stderr",
     "output_type": "stream",
     "text": [
      "\n",
      "image 1/1 /home/ishant/Desktop/KeypointModelTest/New_test_img_2/images/cover_image-20230221182537.jpeg: 480x640 1 car, 107.0ms\n",
      "Speed: 2.8ms preprocess, 107.0ms inference, 1.6ms postprocess per image at shape (1, 3, 480, 640)\n"
     ]
    },
    {
     "name": "stdout",
     "output_type": "stream",
     "text": [
      "cover_image-20230221182537.jpeg\n"
     ]
    },
    {
     "name": "stderr",
     "output_type": "stream",
     "text": [
      "\n",
      "image 1/1 /home/ishant/Desktop/KeypointModelTest/New_test_img_2/images/right_side_view-20230108161912.jpeg: 480x640 1 car, 94.2ms\n",
      "Speed: 4.3ms preprocess, 94.2ms inference, 0.9ms postprocess per image at shape (1, 3, 480, 640)\n"
     ]
    },
    {
     "name": "stdout",
     "output_type": "stream",
     "text": [
      "right_side_view-20230108161912.jpeg\n"
     ]
    },
    {
     "name": "stderr",
     "output_type": "stream",
     "text": [
      "\n",
      "image 1/1 /home/ishant/Desktop/KeypointModelTest/New_test_img_2/images/left_side_view-20230307161424.jpg: 384x640 1 car, 82.6ms\n",
      "Speed: 2.3ms preprocess, 82.6ms inference, 1.3ms postprocess per image at shape (1, 3, 384, 640)\n"
     ]
    },
    {
     "name": "stdout",
     "output_type": "stream",
     "text": [
      "left_side_view-20230307161424.jpg\n"
     ]
    },
    {
     "name": "stderr",
     "output_type": "stream",
     "text": [
      "\n",
      "image 1/1 /home/ishant/Desktop/KeypointModelTest/New_test_img_2/images/left_side_view-20230302155640.jpeg: 384x640 1 car, 68.9ms\n",
      "Speed: 3.2ms preprocess, 68.9ms inference, 1.1ms postprocess per image at shape (1, 3, 384, 640)\n"
     ]
    },
    {
     "name": "stdout",
     "output_type": "stream",
     "text": [
      "left_side_view-20230302155640.jpeg\n"
     ]
    },
    {
     "name": "stderr",
     "output_type": "stream",
     "text": [
      "\n",
      "image 1/1 /home/ishant/Desktop/KeypointModelTest/New_test_img_2/images/rear_right_view-20230307161515.jpg: 384x640 1 car, 104.7ms\n",
      "Speed: 2.2ms preprocess, 104.7ms inference, 1.4ms postprocess per image at shape (1, 3, 384, 640)\n"
     ]
    },
    {
     "name": "stdout",
     "output_type": "stream",
     "text": [
      "rear_right_view-20230307161515.jpg\n"
     ]
    },
    {
     "name": "stderr",
     "output_type": "stream",
     "text": [
      "\n",
      "image 1/1 /home/ishant/Desktop/KeypointModelTest/New_test_img_2/images/left_side_view-20230221182558.jpeg: 480x640 1 car, 107.9ms\n",
      "Speed: 3.7ms preprocess, 107.9ms inference, 1.1ms postprocess per image at shape (1, 3, 480, 640)\n"
     ]
    },
    {
     "name": "stdout",
     "output_type": "stream",
     "text": [
      "left_side_view-20230221182558.jpeg\n"
     ]
    },
    {
     "name": "stderr",
     "output_type": "stream",
     "text": [
      "\n",
      "image 1/1 /home/ishant/Desktop/KeypointModelTest/New_test_img_2/images/left_side_view-20230705185101.jpeg: 480x640 1 car, 94.5ms\n",
      "Speed: 3.1ms preprocess, 94.5ms inference, 0.8ms postprocess per image at shape (1, 3, 480, 640)\n"
     ]
    },
    {
     "name": "stdout",
     "output_type": "stream",
     "text": [
      "left_side_view-20230705185101.jpeg\n"
     ]
    },
    {
     "name": "stderr",
     "output_type": "stream",
     "text": [
      "\n",
      "image 1/1 /home/ishant/Desktop/KeypointModelTest/New_test_img_2/images/right_side_view-20221223114105.jpeg: 480x640 1 car, 117.4ms\n",
      "Speed: 21.4ms preprocess, 117.4ms inference, 1.1ms postprocess per image at shape (1, 3, 480, 640)\n"
     ]
    },
    {
     "name": "stdout",
     "output_type": "stream",
     "text": [
      "right_side_view-20221223114105.jpeg\n"
     ]
    },
    {
     "name": "stderr",
     "output_type": "stream",
     "text": [
      "\n",
      "image 1/1 /home/ishant/Desktop/KeypointModelTest/New_test_img_2/images/cover_image-20230705185042.jpeg: 480x640 2 cars, 99.4ms\n",
      "Speed: 3.8ms preprocess, 99.4ms inference, 2.0ms postprocess per image at shape (1, 3, 480, 640)\n"
     ]
    },
    {
     "name": "stdout",
     "output_type": "stream",
     "text": [
      "cover_image-20230705185042.jpeg\n"
     ]
    },
    {
     "name": "stderr",
     "output_type": "stream",
     "text": [
      "\n",
      "image 1/1 /home/ishant/Desktop/KeypointModelTest/New_test_img_2/images/front_right_view-20230505154942.jpg: 480x640 1 car, 106.9ms\n",
      "Speed: 2.9ms preprocess, 106.9ms inference, 1.5ms postprocess per image at shape (1, 3, 480, 640)\n"
     ]
    },
    {
     "name": "stdout",
     "output_type": "stream",
     "text": [
      "front_right_view-20230505154942.jpg\n"
     ]
    },
    {
     "name": "stderr",
     "output_type": "stream",
     "text": [
      "\n",
      "image 1/1 /home/ishant/Desktop/KeypointModelTest/New_test_img_2/images/right_side_view-20230505154937.jpg: 480x640 1 car, 91.8ms\n",
      "Speed: 5.9ms preprocess, 91.8ms inference, 0.9ms postprocess per image at shape (1, 3, 480, 640)\n"
     ]
    },
    {
     "name": "stdout",
     "output_type": "stream",
     "text": [
      "right_side_view-20230505154937.jpg\n"
     ]
    },
    {
     "name": "stderr",
     "output_type": "stream",
     "text": [
      "\n",
      "image 1/1 /home/ishant/Desktop/KeypointModelTest/New_test_img_2/images/rear_right_view-20231205165549.jpeg: 480x640 1 car, 97.8ms\n",
      "Speed: 3.7ms preprocess, 97.8ms inference, 0.9ms postprocess per image at shape (1, 3, 480, 640)\n"
     ]
    },
    {
     "name": "stdout",
     "output_type": "stream",
     "text": [
      "rear_right_view-20231205165549.jpeg\n"
     ]
    },
    {
     "name": "stderr",
     "output_type": "stream",
     "text": [
      "\n",
      "image 1/1 /home/ishant/Desktop/KeypointModelTest/New_test_img_2/images/rear_left_view-20230302145917.jpg: 512x640 1 car, 121.2ms\n",
      "Speed: 4.2ms preprocess, 121.2ms inference, 1.3ms postprocess per image at shape (1, 3, 512, 640)\n"
     ]
    },
    {
     "name": "stdout",
     "output_type": "stream",
     "text": [
      "rear_left_view-20230302145917.jpg\n"
     ]
    },
    {
     "name": "stderr",
     "output_type": "stream",
     "text": [
      "\n",
      "image 1/1 /home/ishant/Desktop/KeypointModelTest/New_test_img_2/images/rear_right_view-20230424151441.jpg: 512x640 1 car, 114.4ms\n",
      "Speed: 4.3ms preprocess, 114.4ms inference, 0.8ms postprocess per image at shape (1, 3, 512, 640)\n"
     ]
    },
    {
     "name": "stdout",
     "output_type": "stream",
     "text": [
      "rear_right_view-20230424151441.jpg\n"
     ]
    },
    {
     "name": "stderr",
     "output_type": "stream",
     "text": [
      "\n",
      "image 1/1 /home/ishant/Desktop/KeypointModelTest/New_test_img_2/images/left_side_view-20221223114100.jpeg: 480x640 1 car, 82.6ms\n",
      "Speed: 3.0ms preprocess, 82.6ms inference, 1.3ms postprocess per image at shape (1, 3, 480, 640)\n"
     ]
    },
    {
     "name": "stdout",
     "output_type": "stream",
     "text": [
      "left_side_view-20221223114100.jpeg\n"
     ]
    },
    {
     "name": "stderr",
     "output_type": "stream",
     "text": [
      "\n",
      "image 1/1 /home/ishant/Desktop/KeypointModelTest/New_test_img_2/images/front_right_view-20231214125444.jpeg: 480x640 1 car, 102.1ms\n",
      "Speed: 4.9ms preprocess, 102.1ms inference, 2.3ms postprocess per image at shape (1, 3, 480, 640)\n"
     ]
    },
    {
     "name": "stdout",
     "output_type": "stream",
     "text": [
      "front_right_view-20231214125444.jpeg\n"
     ]
    },
    {
     "name": "stderr",
     "output_type": "stream",
     "text": [
      "\n",
      "image 1/1 /home/ishant/Desktop/KeypointModelTest/New_test_img_2/images/cover_image-20230822191933.jpeg: 480x640 1 car, 95.8ms\n",
      "Speed: 6.8ms preprocess, 95.8ms inference, 1.0ms postprocess per image at shape (1, 3, 480, 640)\n"
     ]
    },
    {
     "name": "stdout",
     "output_type": "stream",
     "text": [
      "cover_image-20230822191933.jpeg\n"
     ]
    },
    {
     "name": "stderr",
     "output_type": "stream",
     "text": [
      "\n",
      "image 1/1 /home/ishant/Desktop/KeypointModelTest/New_test_img_2/images/cover_image-20231205165445.jpeg: 480x640 1 car, 96.4ms\n",
      "Speed: 3.0ms preprocess, 96.4ms inference, 0.9ms postprocess per image at shape (1, 3, 480, 640)\n"
     ]
    },
    {
     "name": "stdout",
     "output_type": "stream",
     "text": [
      "cover_image-20231205165445.jpeg\n"
     ]
    },
    {
     "name": "stderr",
     "output_type": "stream",
     "text": [
      "\n",
      "image 1/1 /home/ishant/Desktop/KeypointModelTest/New_test_img_2/images/rear_left_view-20230424151433.jpg: 512x640 1 car, 117.1ms\n",
      "Speed: 3.5ms preprocess, 117.1ms inference, 2.5ms postprocess per image at shape (1, 3, 512, 640)\n"
     ]
    },
    {
     "name": "stdout",
     "output_type": "stream",
     "text": [
      "rear_left_view-20230424151433.jpg\n"
     ]
    },
    {
     "name": "stderr",
     "output_type": "stream",
     "text": [
      "\n",
      "image 1/1 /home/ishant/Desktop/KeypointModelTest/New_test_img_2/images/left_side_view-20240103184824.jpg: 480x640 1 car, 95.6ms\n",
      "Speed: 4.3ms preprocess, 95.6ms inference, 1.1ms postprocess per image at shape (1, 3, 480, 640)\n"
     ]
    },
    {
     "name": "stdout",
     "output_type": "stream",
     "text": [
      "left_side_view-20240103184824.jpg\n"
     ]
    },
    {
     "name": "stderr",
     "output_type": "stream",
     "text": [
      "\n",
      "image 1/1 /home/ishant/Desktop/KeypointModelTest/New_test_img_2/images/right_side_view-20230302145952.jpg: 512x640 1 car, 123.4ms\n",
      "Speed: 3.4ms preprocess, 123.4ms inference, 0.9ms postprocess per image at shape (1, 3, 512, 640)\n"
     ]
    },
    {
     "name": "stdout",
     "output_type": "stream",
     "text": [
      "right_side_view-20230302145952.jpg\n"
     ]
    },
    {
     "name": "stderr",
     "output_type": "stream",
     "text": [
      "\n",
      "image 1/1 /home/ishant/Desktop/KeypointModelTest/New_test_img_2/images/right_side_view-20230705185113.jpeg: 480x640 1 car, 96.4ms\n",
      "Speed: 3.8ms preprocess, 96.4ms inference, 0.9ms postprocess per image at shape (1, 3, 480, 640)\n"
     ]
    },
    {
     "name": "stdout",
     "output_type": "stream",
     "text": [
      "right_side_view-20230705185113.jpeg\n"
     ]
    },
    {
     "name": "stderr",
     "output_type": "stream",
     "text": [
      "\n",
      "image 1/1 /home/ishant/Desktop/KeypointModelTest/New_test_img_2/images/left_side_view-20230524174353.jpeg: 384x640 1 car, 65.2ms\n",
      "Speed: 2.8ms preprocess, 65.2ms inference, 1.6ms postprocess per image at shape (1, 3, 384, 640)\n"
     ]
    },
    {
     "name": "stdout",
     "output_type": "stream",
     "text": [
      "left_side_view-20230524174353.jpeg\n"
     ]
    },
    {
     "name": "stderr",
     "output_type": "stream",
     "text": [
      "\n",
      "image 1/1 /home/ishant/Desktop/KeypointModelTest/New_test_img_2/images/right_side_view-20231214125428.jpeg: 480x640 1 car, 122.1ms\n",
      "Speed: 4.5ms preprocess, 122.1ms inference, 1.1ms postprocess per image at shape (1, 3, 480, 640)\n"
     ]
    },
    {
     "name": "stdout",
     "output_type": "stream",
     "text": [
      "right_side_view-20231214125428.jpeg\n"
     ]
    },
    {
     "name": "stderr",
     "output_type": "stream",
     "text": [
      "\n",
      "image 1/1 /home/ishant/Desktop/KeypointModelTest/New_test_img_2/images/rear_left_view-20230524174505.jpeg: 384x640 1 car, 69.1ms\n",
      "Speed: 4.4ms preprocess, 69.1ms inference, 0.9ms postprocess per image at shape (1, 3, 384, 640)\n"
     ]
    },
    {
     "name": "stdout",
     "output_type": "stream",
     "text": [
      "rear_left_view-20230524174505.jpeg\n"
     ]
    },
    {
     "name": "stderr",
     "output_type": "stream",
     "text": [
      "\n",
      "image 1/1 /home/ishant/Desktop/KeypointModelTest/New_test_img_2/images/front_right_view-20230201172323.jpg: 480x640 1 car, 94.5ms\n",
      "Speed: 3.2ms preprocess, 94.5ms inference, 1.5ms postprocess per image at shape (1, 3, 480, 640)\n"
     ]
    },
    {
     "name": "stdout",
     "output_type": "stream",
     "text": [
      "front_right_view-20230201172323.jpg\n"
     ]
    },
    {
     "name": "stderr",
     "output_type": "stream",
     "text": [
      "\n",
      "image 1/1 /home/ishant/Desktop/KeypointModelTest/New_test_img_2/images/cover_image-20230302145830.jpg: 512x640 1 car, 116.5ms\n",
      "Speed: 4.1ms preprocess, 116.5ms inference, 1.0ms postprocess per image at shape (1, 3, 512, 640)\n"
     ]
    },
    {
     "name": "stdout",
     "output_type": "stream",
     "text": [
      "cover_image-20230302145830.jpg\n"
     ]
    },
    {
     "name": "stderr",
     "output_type": "stream",
     "text": [
      "\n",
      "image 1/1 /home/ishant/Desktop/KeypointModelTest/New_test_img_2/images/right_side_view-20230201172315.jpg: 480x640 1 car, 90.0ms\n",
      "Speed: 4.6ms preprocess, 90.0ms inference, 0.8ms postprocess per image at shape (1, 3, 480, 640)\n"
     ]
    },
    {
     "name": "stdout",
     "output_type": "stream",
     "text": [
      "right_side_view-20230201172315.jpg\n"
     ]
    },
    {
     "name": "stderr",
     "output_type": "stream",
     "text": [
      "\n",
      "image 1/1 /home/ishant/Desktop/KeypointModelTest/New_test_img_2/images/front_right_view-20230302150003.jpg: 512x640 1 car, 116.7ms\n",
      "Speed: 3.6ms preprocess, 116.7ms inference, 0.9ms postprocess per image at shape (1, 3, 512, 640)\n"
     ]
    },
    {
     "name": "stdout",
     "output_type": "stream",
     "text": [
      "front_right_view-20230302150003.jpg\n"
     ]
    },
    {
     "name": "stderr",
     "output_type": "stream",
     "text": [
      "\n",
      "image 1/1 /home/ishant/Desktop/KeypointModelTest/New_test_img_2/images/rear_right_view-20230822192049.jpeg: 480x640 1 car, 106.4ms\n",
      "Speed: 2.8ms preprocess, 106.4ms inference, 0.8ms postprocess per image at shape (1, 3, 480, 640)\n"
     ]
    },
    {
     "name": "stdout",
     "output_type": "stream",
     "text": [
      "rear_right_view-20230822192049.jpeg\n"
     ]
    },
    {
     "name": "stderr",
     "output_type": "stream",
     "text": [
      "\n",
      "image 1/1 /home/ishant/Desktop/KeypointModelTest/New_test_img_2/images/left_side_view-20231214125416.jpeg: 480x640 1 car, 102.4ms\n",
      "Speed: 4.1ms preprocess, 102.4ms inference, 1.0ms postprocess per image at shape (1, 3, 480, 640)\n"
     ]
    },
    {
     "name": "stdout",
     "output_type": "stream",
     "text": [
      "left_side_view-20231214125416.jpeg\n"
     ]
    },
    {
     "name": "stderr",
     "output_type": "stream",
     "text": [
      "\n",
      "image 1/1 /home/ishant/Desktop/KeypointModelTest/New_test_img_2/images/wheels_tyres-20230612171643.jpeg: 480x640 1 car, 102.3ms\n",
      "Speed: 4.7ms preprocess, 102.3ms inference, 1.0ms postprocess per image at shape (1, 3, 480, 640)\n"
     ]
    },
    {
     "name": "stdout",
     "output_type": "stream",
     "text": [
      "wheels_tyres-20230612171643.jpeg\n"
     ]
    },
    {
     "name": "stderr",
     "output_type": "stream",
     "text": [
      "\n",
      "image 1/1 /home/ishant/Desktop/KeypointModelTest/New_test_img_2/images/left_side_view-20231205165505.jpeg: 480x640 1 car, 85.5ms\n",
      "Speed: 9.2ms preprocess, 85.5ms inference, 0.7ms postprocess per image at shape (1, 3, 480, 640)\n"
     ]
    },
    {
     "name": "stdout",
     "output_type": "stream",
     "text": [
      "left_side_view-20231205165505.jpeg\n"
     ]
    },
    {
     "name": "stderr",
     "output_type": "stream",
     "text": [
      "\n",
      "image 1/1 /home/ishant/Desktop/KeypointModelTest/New_test_img_2/images/rear_right_view-20231214125451.jpeg: 480x640 2 cars, 100.2ms\n",
      "Speed: 3.6ms preprocess, 100.2ms inference, 2.3ms postprocess per image at shape (1, 3, 480, 640)\n"
     ]
    },
    {
     "name": "stdout",
     "output_type": "stream",
     "text": [
      "rear_right_view-20231214125451.jpeg\n"
     ]
    },
    {
     "name": "stderr",
     "output_type": "stream",
     "text": [
      "\n",
      "image 1/1 /home/ishant/Desktop/KeypointModelTest/New_test_img_2/images/rear_right_view-20240103184924.jpg: 480x640 1 car, 101.6ms\n",
      "Speed: 3.0ms preprocess, 101.6ms inference, 1.0ms postprocess per image at shape (1, 3, 480, 640)\n"
     ]
    },
    {
     "name": "stdout",
     "output_type": "stream",
     "text": [
      "rear_right_view-20240103184924.jpg\n"
     ]
    },
    {
     "name": "stderr",
     "output_type": "stream",
     "text": [
      "\n",
      "image 1/1 /home/ishant/Desktop/KeypointModelTest/New_test_img_2/images/rear_left_view-20231202151756.jpeg: 480x640 1 car, 89.0ms\n",
      "Speed: 2.7ms preprocess, 89.0ms inference, 0.7ms postprocess per image at shape (1, 3, 480, 640)\n"
     ]
    },
    {
     "name": "stdout",
     "output_type": "stream",
     "text": [
      "rear_left_view-20231202151756.jpeg\n"
     ]
    },
    {
     "name": "stderr",
     "output_type": "stream",
     "text": [
      "\n",
      "image 1/1 /home/ishant/Desktop/KeypointModelTest/New_test_img_2/images/rear_left_view-20240103184914.jpg: 480x640 1 car, 103.4ms\n",
      "Speed: 3.1ms preprocess, 103.4ms inference, 2.2ms postprocess per image at shape (1, 3, 480, 640)\n"
     ]
    },
    {
     "name": "stdout",
     "output_type": "stream",
     "text": [
      "rear_left_view-20240103184914.jpg\n"
     ]
    },
    {
     "name": "stderr",
     "output_type": "stream",
     "text": [
      "\n",
      "image 1/1 /home/ishant/Desktop/KeypointModelTest/New_test_img_2/images/rear_left_view-20231214125438.jpeg: 480x640 1 car, 104.7ms\n",
      "Speed: 5.0ms preprocess, 104.7ms inference, 1.0ms postprocess per image at shape (1, 3, 480, 640)\n"
     ]
    },
    {
     "name": "stdout",
     "output_type": "stream",
     "text": [
      "rear_left_view-20231214125438.jpeg\n"
     ]
    },
    {
     "name": "stderr",
     "output_type": "stream",
     "text": [
      "\n",
      "image 1/1 /home/ishant/Desktop/KeypointModelTest/New_test_img_2/images/left_side_view-20230122230433.jpeg: 480x640 1 car, 100.4ms\n",
      "Speed: 3.0ms preprocess, 100.4ms inference, 1.2ms postprocess per image at shape (1, 3, 480, 640)\n"
     ]
    },
    {
     "name": "stdout",
     "output_type": "stream",
     "text": [
      "left_side_view-20230122230433.jpeg\n"
     ]
    },
    {
     "name": "stderr",
     "output_type": "stream",
     "text": [
      "\n",
      "image 1/1 /home/ishant/Desktop/KeypointModelTest/New_test_img_2/images/right_side_view-20230113131436.jpeg: 480x640 1 car, 137.9ms\n",
      "Speed: 32.7ms preprocess, 137.9ms inference, 1.7ms postprocess per image at shape (1, 3, 480, 640)\n"
     ]
    },
    {
     "name": "stdout",
     "output_type": "stream",
     "text": [
      "right_side_view-20230113131436.jpeg\n"
     ]
    },
    {
     "name": "stderr",
     "output_type": "stream",
     "text": [
      "\n",
      "image 1/1 /home/ishant/Desktop/KeypointModelTest/New_test_img_2/images/rear_left_view-20230612171549.jpeg: 480x640 1 car, 128.1ms\n",
      "Speed: 3.9ms preprocess, 128.1ms inference, 1.1ms postprocess per image at shape (1, 3, 480, 640)\n"
     ]
    },
    {
     "name": "stdout",
     "output_type": "stream",
     "text": [
      "rear_left_view-20230612171549.jpeg\n"
     ]
    },
    {
     "name": "stderr",
     "output_type": "stream",
     "text": [
      "\n",
      "image 1/1 /home/ishant/Desktop/KeypointModelTest/New_test_img_2/images/front_right_view-20240103184839.jpg: 480x640 1 car, 111.6ms\n",
      "Speed: 4.2ms preprocess, 111.6ms inference, 0.8ms postprocess per image at shape (1, 3, 480, 640)\n"
     ]
    },
    {
     "name": "stdout",
     "output_type": "stream",
     "text": [
      "front_right_view-20240103184839.jpg\n"
     ]
    },
    {
     "name": "stderr",
     "output_type": "stream",
     "text": [
      "\n",
      "image 1/1 /home/ishant/Desktop/KeypointModelTest/New_test_img_2/images/rear_left_view-20231205165530.jpeg: 480x640 1 car, 91.1ms\n",
      "Speed: 3.9ms preprocess, 91.1ms inference, 0.8ms postprocess per image at shape (1, 3, 480, 640)\n"
     ]
    },
    {
     "name": "stdout",
     "output_type": "stream",
     "text": [
      "rear_left_view-20231205165530.jpeg\n"
     ]
    },
    {
     "name": "stderr",
     "output_type": "stream",
     "text": [
      "\n",
      "image 1/1 /home/ishant/Desktop/KeypointModelTest/New_test_img_2/images/left_side_view-20221210190605.jpeg: 480x640 1 car, 102.3ms\n",
      "Speed: 2.4ms preprocess, 102.3ms inference, 1.8ms postprocess per image at shape (1, 3, 480, 640)\n"
     ]
    },
    {
     "name": "stdout",
     "output_type": "stream",
     "text": [
      "left_side_view-20221210190605.jpeg\n"
     ]
    },
    {
     "name": "stderr",
     "output_type": "stream",
     "text": [
      "\n",
      "image 1/1 /home/ishant/Desktop/KeypointModelTest/New_test_img_2/images/right_side_view-20230612171532.jpeg: 480x640 1 car, 120.7ms\n",
      "Speed: 5.0ms preprocess, 120.7ms inference, 1.2ms postprocess per image at shape (1, 3, 480, 640)\n"
     ]
    },
    {
     "name": "stdout",
     "output_type": "stream",
     "text": [
      "right_side_view-20230612171532.jpeg\n"
     ]
    },
    {
     "name": "stderr",
     "output_type": "stream",
     "text": [
      "\n",
      "image 1/1 /home/ishant/Desktop/KeypointModelTest/New_test_img_2/images/front_right_view-20230927134206.jpeg: 640x480 1 car, 93.5ms\n",
      "Speed: 3.7ms preprocess, 93.5ms inference, 1.0ms postprocess per image at shape (1, 3, 640, 480)\n"
     ]
    },
    {
     "name": "stdout",
     "output_type": "stream",
     "text": [
      "front_right_view-20230927134206.jpeg\n"
     ]
    },
    {
     "name": "stderr",
     "output_type": "stream",
     "text": [
      "\n",
      "image 1/1 /home/ishant/Desktop/KeypointModelTest/New_test_img_2/images/rear_right_view-20230612171623.jpeg: 480x640 1 car, 94.5ms\n",
      "Speed: 2.7ms preprocess, 94.5ms inference, 1.0ms postprocess per image at shape (1, 3, 480, 640)\n"
     ]
    },
    {
     "name": "stdout",
     "output_type": "stream",
     "text": [
      "rear_right_view-20230612171623.jpeg\n"
     ]
    },
    {
     "name": "stderr",
     "output_type": "stream",
     "text": [
      "\n",
      "image 1/1 /home/ishant/Desktop/KeypointModelTest/New_test_img_2/images/cover_image-20230505154915.jpg: 480x640 1 car, 126.3ms\n",
      "Speed: 5.1ms preprocess, 126.3ms inference, 0.8ms postprocess per image at shape (1, 3, 480, 640)\n"
     ]
    },
    {
     "name": "stdout",
     "output_type": "stream",
     "text": [
      "cover_image-20230505154915.jpg\n"
     ]
    },
    {
     "name": "stderr",
     "output_type": "stream",
     "text": [
      "\n",
      "image 1/1 /home/ishant/Desktop/KeypointModelTest/New_test_img_2/images/left_side_view-20230822191952.jpeg: 480x640 1 car, 110.8ms\n",
      "Speed: 3.0ms preprocess, 110.8ms inference, 1.0ms postprocess per image at shape (1, 3, 480, 640)\n"
     ]
    },
    {
     "name": "stdout",
     "output_type": "stream",
     "text": [
      "left_side_view-20230822191952.jpeg\n"
     ]
    },
    {
     "name": "stderr",
     "output_type": "stream",
     "text": [
      "\n",
      "image 1/1 /home/ishant/Desktop/KeypointModelTest/New_test_img_2/images/cover_image-20230927134120.jpeg: 640x480 1 car, 97.5ms\n",
      "Speed: 5.3ms preprocess, 97.5ms inference, 0.9ms postprocess per image at shape (1, 3, 640, 480)\n"
     ]
    },
    {
     "name": "stdout",
     "output_type": "stream",
     "text": [
      "cover_image-20230927134120.jpeg\n"
     ]
    },
    {
     "name": "stderr",
     "output_type": "stream",
     "text": [
      "\n",
      "image 1/1 /home/ishant/Desktop/KeypointModelTest/New_test_img_2/images/cover_image-20230201172212.jpg: 480x640 1 car, 105.9ms\n",
      "Speed: 3.7ms preprocess, 105.9ms inference, 0.9ms postprocess per image at shape (1, 3, 480, 640)\n"
     ]
    },
    {
     "name": "stdout",
     "output_type": "stream",
     "text": [
      "cover_image-20230201172212.jpg\n"
     ]
    },
    {
     "name": "stderr",
     "output_type": "stream",
     "text": [
      "\n",
      "image 1/1 /home/ishant/Desktop/KeypointModelTest/New_test_img_2/images/rear_right_view-20230221182634.jpeg: 480x640 1 car, 109.2ms\n",
      "Speed: 2.8ms preprocess, 109.2ms inference, 0.9ms postprocess per image at shape (1, 3, 480, 640)\n"
     ]
    },
    {
     "name": "stdout",
     "output_type": "stream",
     "text": [
      "rear_right_view-20230221182634.jpeg\n"
     ]
    },
    {
     "name": "stderr",
     "output_type": "stream",
     "text": [
      "\n",
      "image 1/1 /home/ishant/Desktop/KeypointModelTest/New_test_img_2/images/right_side_view-20231205165516.jpeg: 480x640 1 car, 99.2ms\n",
      "Speed: 3.1ms preprocess, 99.2ms inference, 0.9ms postprocess per image at shape (1, 3, 480, 640)\n"
     ]
    },
    {
     "name": "stdout",
     "output_type": "stream",
     "text": [
      "right_side_view-20231205165516.jpeg\n"
     ]
    },
    {
     "name": "stderr",
     "output_type": "stream",
     "text": [
      "\n",
      "image 1/1 /home/ishant/Desktop/KeypointModelTest/New_test_img_2/images/rear_right_view-20230705185137.jpeg: 512x640 1 car, 109.5ms\n",
      "Speed: 3.5ms preprocess, 109.5ms inference, 1.5ms postprocess per image at shape (1, 3, 512, 640)\n"
     ]
    },
    {
     "name": "stdout",
     "output_type": "stream",
     "text": [
      "rear_right_view-20230705185137.jpeg\n"
     ]
    },
    {
     "name": "stderr",
     "output_type": "stream",
     "text": [
      "\n",
      "image 1/1 /home/ishant/Desktop/KeypointModelTest/New_test_img_2/images/rear_left_view-20221210190621.jpeg: 480x640 1 car, 107.3ms\n",
      "Speed: 2.9ms preprocess, 107.3ms inference, 1.0ms postprocess per image at shape (1, 3, 480, 640)\n"
     ]
    },
    {
     "name": "stdout",
     "output_type": "stream",
     "text": [
      "rear_left_view-20221210190621.jpeg\n"
     ]
    },
    {
     "name": "stderr",
     "output_type": "stream",
     "text": [
      "\n",
      "image 1/1 /home/ishant/Desktop/KeypointModelTest/New_test_img_2/images/front_right_view-20231205165540.jpeg: 480x640 1 car, 104.3ms\n",
      "Speed: 35.0ms preprocess, 104.3ms inference, 0.7ms postprocess per image at shape (1, 3, 480, 640)\n"
     ]
    },
    {
     "name": "stdout",
     "output_type": "stream",
     "text": [
      "front_right_view-20231205165540.jpeg\n"
     ]
    },
    {
     "name": "stderr",
     "output_type": "stream",
     "text": [
      "\n",
      "image 1/1 /home/ishant/Desktop/KeypointModelTest/New_test_img_2/images/right_side_view-20230221182606.jpeg: 480x640 1 car, 103.6ms\n",
      "Speed: 3.3ms preprocess, 103.6ms inference, 2.2ms postprocess per image at shape (1, 3, 480, 640)\n"
     ]
    },
    {
     "name": "stdout",
     "output_type": "stream",
     "text": [
      "right_side_view-20230221182606.jpeg\n"
     ]
    },
    {
     "name": "stderr",
     "output_type": "stream",
     "text": [
      "\n",
      "image 1/1 /home/ishant/Desktop/KeypointModelTest/New_test_img_2/images/rear_right_view-20230201172342.jpg: 480x640 1 car, 88.3ms\n",
      "Speed: 3.3ms preprocess, 88.3ms inference, 0.8ms postprocess per image at shape (1, 3, 480, 640)\n"
     ]
    },
    {
     "name": "stdout",
     "output_type": "stream",
     "text": [
      "rear_right_view-20230201172342.jpg\n"
     ]
    },
    {
     "name": "stderr",
     "output_type": "stream",
     "text": [
      "\n",
      "image 1/1 /home/ishant/Desktop/KeypointModelTest/New_test_img_2/images/rear_right_view-20230819134354.jpg: 480x640 1 car, 105.6ms\n",
      "Speed: 3.8ms preprocess, 105.6ms inference, 1.2ms postprocess per image at shape (1, 3, 480, 640)\n"
     ]
    },
    {
     "name": "stdout",
     "output_type": "stream",
     "text": [
      "rear_right_view-20230819134354.jpg\n"
     ]
    },
    {
     "name": "stderr",
     "output_type": "stream",
     "text": [
      "\n",
      "image 1/1 /home/ishant/Desktop/KeypointModelTest/New_test_img_2/images/cover_image-20230122230340.jpeg: 480x640 1 car, 125.0ms\n",
      "Speed: 3.7ms preprocess, 125.0ms inference, 1.1ms postprocess per image at shape (1, 3, 480, 640)\n"
     ]
    },
    {
     "name": "stdout",
     "output_type": "stream",
     "text": [
      "cover_image-20230122230340.jpeg\n"
     ]
    },
    {
     "name": "stderr",
     "output_type": "stream",
     "text": [
      "\n",
      "image 1/1 /home/ishant/Desktop/KeypointModelTest/New_test_img_2/images/right_side_view-20230424151418.jpg: 512x640 1 car, 115.6ms\n",
      "Speed: 7.9ms preprocess, 115.6ms inference, 1.8ms postprocess per image at shape (1, 3, 512, 640)\n"
     ]
    },
    {
     "name": "stdout",
     "output_type": "stream",
     "text": [
      "right_side_view-20230424151418.jpg\n"
     ]
    },
    {
     "name": "stderr",
     "output_type": "stream",
     "text": [
      "\n",
      "image 1/1 /home/ishant/Desktop/KeypointModelTest/New_test_img_2/images/rear_left_view-20230221182616.jpeg: 480x640 1 car, 100.6ms\n",
      "Speed: 4.9ms preprocess, 100.6ms inference, 1.3ms postprocess per image at shape (1, 3, 480, 640)\n"
     ]
    },
    {
     "name": "stdout",
     "output_type": "stream",
     "text": [
      "rear_left_view-20230221182616.jpeg\n"
     ]
    },
    {
     "name": "stderr",
     "output_type": "stream",
     "text": [
      "\n",
      "image 1/1 /home/ishant/Desktop/KeypointModelTest/New_test_img_2/images/front_right_view-20231202151806.jpeg: 480x640 1 car, 79.9ms\n",
      "Speed: 3.4ms preprocess, 79.9ms inference, 1.0ms postprocess per image at shape (1, 3, 480, 640)\n"
     ]
    },
    {
     "name": "stdout",
     "output_type": "stream",
     "text": [
      "front_right_view-20231202151806.jpeg\n"
     ]
    },
    {
     "name": "stderr",
     "output_type": "stream",
     "text": [
      "\n",
      "image 1/1 /home/ishant/Desktop/KeypointModelTest/New_test_img_2/images/left_side_view-20230113131414.jpeg: 480x640 1 car, 115.3ms\n",
      "Speed: 3.9ms preprocess, 115.3ms inference, 1.9ms postprocess per image at shape (1, 3, 480, 640)\n"
     ]
    },
    {
     "name": "stdout",
     "output_type": "stream",
     "text": [
      "left_side_view-20230113131414.jpeg\n"
     ]
    },
    {
     "name": "stderr",
     "output_type": "stream",
     "text": [
      "\n",
      "image 1/1 /home/ishant/Desktop/KeypointModelTest/New_test_img_2/images/rear_left_view-20230307161503.jpg: 384x640 1 car, 104.5ms\n",
      "Speed: 12.1ms preprocess, 104.5ms inference, 0.8ms postprocess per image at shape (1, 3, 384, 640)\n"
     ]
    },
    {
     "name": "stdout",
     "output_type": "stream",
     "text": [
      "rear_left_view-20230307161503.jpg\n"
     ]
    },
    {
     "name": "stderr",
     "output_type": "stream",
     "text": [
      "\n",
      "image 1/1 /home/ishant/Desktop/KeypointModelTest/New_test_img_2/images/front_right_view-20230122230835.jpeg: 480x640 1 car, 85.1ms\n",
      "Speed: 4.1ms preprocess, 85.1ms inference, 0.9ms postprocess per image at shape (1, 3, 480, 640)\n"
     ]
    },
    {
     "name": "stdout",
     "output_type": "stream",
     "text": [
      "front_right_view-20230122230835.jpeg\n"
     ]
    },
    {
     "name": "stderr",
     "output_type": "stream",
     "text": [
      "\n",
      "image 1/1 /home/ishant/Desktop/KeypointModelTest/New_test_img_2/images/cover_image-20230424151340.jpg: 512x640 1 car, 113.5ms\n",
      "Speed: 3.4ms preprocess, 113.5ms inference, 2.1ms postprocess per image at shape (1, 3, 512, 640)\n"
     ]
    },
    {
     "name": "stdout",
     "output_type": "stream",
     "text": [
      "cover_image-20230424151340.jpg\n"
     ]
    },
    {
     "name": "stderr",
     "output_type": "stream",
     "text": [
      "\n",
      "image 1/1 /home/ishant/Desktop/KeypointModelTest/New_test_img_2/images/rear_left_view-20230505154947.jpg: 480x640 1 car, 94.0ms\n",
      "Speed: 4.2ms preprocess, 94.0ms inference, 1.0ms postprocess per image at shape (1, 3, 480, 640)\n"
     ]
    },
    {
     "name": "stdout",
     "output_type": "stream",
     "text": [
      "rear_left_view-20230505154947.jpg\n"
     ]
    },
    {
     "name": "stderr",
     "output_type": "stream",
     "text": [
      "\n",
      "image 1/1 /home/ishant/Desktop/KeypointModelTest/New_test_img_2/images/left_side_view-20231202151741.jpeg: 480x640 1 car, 120.2ms\n",
      "Speed: 3.1ms preprocess, 120.2ms inference, 1.0ms postprocess per image at shape (1, 3, 480, 640)\n"
     ]
    },
    {
     "name": "stdout",
     "output_type": "stream",
     "text": [
      "left_side_view-20231202151741.jpeg\n"
     ]
    },
    {
     "name": "stderr",
     "output_type": "stream",
     "text": [
      "\n",
      "image 1/1 /home/ishant/Desktop/KeypointModelTest/New_test_img_2/images/rear_right_view-20230927134215.jpeg: 640x480 1 car, 105.4ms\n",
      "Speed: 4.0ms preprocess, 105.4ms inference, 2.4ms postprocess per image at shape (1, 3, 640, 480)\n"
     ]
    },
    {
     "name": "stdout",
     "output_type": "stream",
     "text": [
      "rear_right_view-20230927134215.jpeg\n"
     ]
    },
    {
     "name": "stderr",
     "output_type": "stream",
     "text": [
      "\n",
      "image 1/1 /home/ishant/Desktop/KeypointModelTest/New_test_img_2/images/right_side_view-20230927134146.jpeg: 480x640 1 car, 141.8ms\n",
      "Speed: 33.3ms preprocess, 141.8ms inference, 0.8ms postprocess per image at shape (1, 3, 480, 640)\n"
     ]
    },
    {
     "name": "stdout",
     "output_type": "stream",
     "text": [
      "right_side_view-20230927134146.jpeg\n"
     ]
    },
    {
     "name": "stderr",
     "output_type": "stream",
     "text": [
      "\n",
      "image 1/1 /home/ishant/Desktop/KeypointModelTest/New_test_img_2/images/PART_1477528098494460.jpg: 384x640 1 car, 91.5ms\n",
      "Speed: 2.3ms preprocess, 91.5ms inference, 1.0ms postprocess per image at shape (1, 3, 384, 640)\n"
     ]
    },
    {
     "name": "stdout",
     "output_type": "stream",
     "text": [
      "PART_1477528098494460.jpg\n"
     ]
    },
    {
     "name": "stderr",
     "output_type": "stream",
     "text": [
      "\n",
      "image 1/1 /home/ishant/Desktop/KeypointModelTest/New_test_img_2/images/PART_1477534685641985.jpg: 480x640 1 car, 111.5ms\n",
      "Speed: 5.8ms preprocess, 111.5ms inference, 1.0ms postprocess per image at shape (1, 3, 480, 640)\n"
     ]
    },
    {
     "name": "stdout",
     "output_type": "stream",
     "text": [
      "PART_1477534685641985.jpg\n"
     ]
    },
    {
     "name": "stderr",
     "output_type": "stream",
     "text": [
      "\n",
      "image 1/1 /home/ishant/Desktop/KeypointModelTest/New_test_img_2/images/in642120231213085757-3.jpg: 384x640 1 car, 98.3ms\n",
      "Speed: 2.4ms preprocess, 98.3ms inference, 0.9ms postprocess per image at shape (1, 3, 384, 640)\n"
     ]
    },
    {
     "name": "stdout",
     "output_type": "stream",
     "text": [
      "in642120231213085757-3.jpg\n"
     ]
    },
    {
     "name": "stderr",
     "output_type": "stream",
     "text": [
      "\n",
      "image 1/1 /home/ishant/Desktop/KeypointModelTest/New_test_img_2/images/PART_1481212012786903.jpg: 448x640 1 car, 143.6ms\n",
      "Speed: 2.7ms preprocess, 143.6ms inference, 1.1ms postprocess per image at shape (1, 3, 448, 640)\n"
     ]
    },
    {
     "name": "stdout",
     "output_type": "stream",
     "text": [
      "PART_1481212012786903.jpg\n"
     ]
    },
    {
     "name": "stderr",
     "output_type": "stream",
     "text": [
      "\n",
      "image 1/1 /home/ishant/Desktop/KeypointModelTest/New_test_img_2/images/in214320231205082545-2.jpg: 384x640 1 car, 81.0ms\n",
      "Speed: 23.5ms preprocess, 81.0ms inference, 1.1ms postprocess per image at shape (1, 3, 384, 640)\n"
     ]
    },
    {
     "name": "stdout",
     "output_type": "stream",
     "text": [
      "in214320231205082545-2.jpg\n"
     ]
    },
    {
     "name": "stderr",
     "output_type": "stream",
     "text": [
      "\n",
      "image 1/1 /home/ishant/Desktop/KeypointModelTest/New_test_img_2/images/PART_1477281278514983.jpg: 480x640 1 car, 105.8ms\n",
      "Speed: 3.4ms preprocess, 105.8ms inference, 0.9ms postprocess per image at shape (1, 3, 480, 640)\n"
     ]
    },
    {
     "name": "stdout",
     "output_type": "stream",
     "text": [
      "PART_1477281278514983.jpg\n"
     ]
    },
    {
     "name": "stderr",
     "output_type": "stream",
     "text": [
      "\n",
      "image 1/1 /home/ishant/Desktop/KeypointModelTest/New_test_img_2/images/in301020231219125953-2.jpg: 384x640 1 car, 85.7ms\n",
      "Speed: 7.8ms preprocess, 85.7ms inference, 1.0ms postprocess per image at shape (1, 3, 384, 640)\n"
     ]
    },
    {
     "name": "stdout",
     "output_type": "stream",
     "text": [
      "in301020231219125953-2.jpg\n"
     ]
    },
    {
     "name": "stderr",
     "output_type": "stream",
     "text": [
      "\n",
      "image 1/1 /home/ishant/Desktop/KeypointModelTest/New_test_img_2/images/in502720231123120621-2.jpg: 384x640 1 car, 181.9ms\n",
      "Speed: 2.0ms preprocess, 181.9ms inference, 0.9ms postprocess per image at shape (1, 3, 384, 640)\n"
     ]
    },
    {
     "name": "stdout",
     "output_type": "stream",
     "text": [
      "in502720231123120621-2.jpg\n"
     ]
    },
    {
     "name": "stderr",
     "output_type": "stream",
     "text": [
      "\n",
      "image 1/1 /home/ishant/Desktop/KeypointModelTest/New_test_img_2/images/PART_1481583051684227.jpg: 480x640 1 car, 106.9ms\n",
      "Speed: 4.6ms preprocess, 106.9ms inference, 1.0ms postprocess per image at shape (1, 3, 480, 640)\n"
     ]
    },
    {
     "name": "stdout",
     "output_type": "stream",
     "text": [
      "PART_1481583051684227.jpg\n"
     ]
    },
    {
     "name": "stderr",
     "output_type": "stream",
     "text": [
      "\n",
      "image 1/1 /home/ishant/Desktop/KeypointModelTest/New_test_img_2/images/PART_1477441913947488.jpg: 480x640 1 car, 109.3ms\n",
      "Speed: 8.5ms preprocess, 109.3ms inference, 0.9ms postprocess per image at shape (1, 3, 480, 640)\n"
     ]
    },
    {
     "name": "stdout",
     "output_type": "stream",
     "text": [
      "PART_1477441913947488.jpg\n"
     ]
    },
    {
     "name": "stderr",
     "output_type": "stream",
     "text": [
      "\n",
      "image 1/1 /home/ishant/Desktop/KeypointModelTest/New_test_img_2/images/in826820231213123248-3.jpg: 384x640 1 car, 90.9ms\n",
      "Speed: 2.9ms preprocess, 90.9ms inference, 1.2ms postprocess per image at shape (1, 3, 384, 640)\n"
     ]
    },
    {
     "name": "stdout",
     "output_type": "stream",
     "text": [
      "in826820231213123248-3.jpg\n"
     ]
    },
    {
     "name": "stderr",
     "output_type": "stream",
     "text": [
      "\n",
      "image 1/1 /home/ishant/Desktop/KeypointModelTest/New_test_img_2/images/PART_1478534944389907.jpg: 480x640 1 car, 113.0ms\n",
      "Speed: 3.2ms preprocess, 113.0ms inference, 0.9ms postprocess per image at shape (1, 3, 480, 640)\n"
     ]
    },
    {
     "name": "stdout",
     "output_type": "stream",
     "text": [
      "PART_1478534944389907.jpg\n"
     ]
    },
    {
     "name": "stderr",
     "output_type": "stream",
     "text": [
      "\n",
      "image 1/1 /home/ishant/Desktop/KeypointModelTest/New_test_img_2/images/in873320231124095011-2.jpg: 384x640 1 car, 93.3ms\n",
      "Speed: 5.1ms preprocess, 93.3ms inference, 1.1ms postprocess per image at shape (1, 3, 384, 640)\n"
     ]
    },
    {
     "name": "stdout",
     "output_type": "stream",
     "text": [
      "in873320231124095011-2.jpg\n"
     ]
    },
    {
     "name": "stderr",
     "output_type": "stream",
     "text": [
      "\n",
      "image 1/1 /home/ishant/Desktop/KeypointModelTest/New_test_img_2/images/part160016857709169136791652.jpg: 480x640 1 car, 112.2ms\n",
      "Speed: 3.6ms preprocess, 112.2ms inference, 0.9ms postprocess per image at shape (1, 3, 480, 640)\n"
     ]
    },
    {
     "name": "stdout",
     "output_type": "stream",
     "text": [
      "part160016857709169136791652.jpg\n"
     ]
    },
    {
     "name": "stderr",
     "output_type": "stream",
     "text": [
      "\n",
      "image 1/1 /home/ishant/Desktop/KeypointModelTest/New_test_img_2/images/PART_1477426201017406.jpg: 480x640 1 car, 154.2ms\n",
      "Speed: 6.7ms preprocess, 154.2ms inference, 1.1ms postprocess per image at shape (1, 3, 480, 640)\n"
     ]
    },
    {
     "name": "stdout",
     "output_type": "stream",
     "text": [
      "PART_1477426201017406.jpg\n"
     ]
    },
    {
     "name": "stderr",
     "output_type": "stream",
     "text": [
      "\n",
      "image 1/1 /home/ishant/Desktop/KeypointModelTest/New_test_img_2/images/part1600168907093361914891819.jpg: 480x640 1 car, 112.4ms\n",
      "Speed: 3.5ms preprocess, 112.4ms inference, 1.5ms postprocess per image at shape (1, 3, 480, 640)\n"
     ]
    },
    {
     "name": "stdout",
     "output_type": "stream",
     "text": [
      "part1600168907093361914891819.jpg\n"
     ]
    },
    {
     "name": "stderr",
     "output_type": "stream",
     "text": [
      "\n",
      "image 1/1 /home/ishant/Desktop/KeypointModelTest/New_test_img_2/images/in243120231121121717-9.jpg: 384x640 1 car, 96.4ms\n",
      "Speed: 2.7ms preprocess, 96.4ms inference, 0.9ms postprocess per image at shape (1, 3, 384, 640)\n"
     ]
    },
    {
     "name": "stdout",
     "output_type": "stream",
     "text": [
      "in243120231121121717-9.jpg\n"
     ]
    },
    {
     "name": "stderr",
     "output_type": "stream",
     "text": [
      "\n",
      "image 1/1 /home/ishant/Desktop/KeypointModelTest/New_test_img_2/images/part160016897900455272268222.jpg: 480x640 1 car, 112.4ms\n",
      "Speed: 3.0ms preprocess, 112.4ms inference, 1.3ms postprocess per image at shape (1, 3, 480, 640)\n"
     ]
    },
    {
     "name": "stdout",
     "output_type": "stream",
     "text": [
      "part160016897900455272268222.jpg\n"
     ]
    },
    {
     "name": "stderr",
     "output_type": "stream",
     "text": [
      "\n",
      "image 1/1 /home/ishant/Desktop/KeypointModelTest/New_test_img_2/images/in975420231211105726-7.jpg: 384x640 1 car, 107.0ms\n",
      "Speed: 2.5ms preprocess, 107.0ms inference, 1.1ms postprocess per image at shape (1, 3, 384, 640)\n"
     ]
    },
    {
     "name": "stdout",
     "output_type": "stream",
     "text": [
      "in975420231211105726-7.jpg\n"
     ]
    },
    {
     "name": "stderr",
     "output_type": "stream",
     "text": [
      "\n",
      "image 1/1 /home/ishant/Desktop/KeypointModelTest/New_test_img_2/images/in214320231205082545-6.jpg: 384x640 1 car, 103.2ms\n",
      "Speed: 1.9ms preprocess, 103.2ms inference, 1.1ms postprocess per image at shape (1, 3, 384, 640)\n"
     ]
    },
    {
     "name": "stdout",
     "output_type": "stream",
     "text": [
      "in214320231205082545-6.jpg\n"
     ]
    },
    {
     "name": "stderr",
     "output_type": "stream",
     "text": [
      "\n",
      "image 1/1 /home/ishant/Desktop/KeypointModelTest/New_test_img_2/images/in745620231211145159-4.jpg: 384x640 1 car, 93.2ms\n",
      "Speed: 2.0ms preprocess, 93.2ms inference, 1.1ms postprocess per image at shape (1, 3, 384, 640)\n"
     ]
    },
    {
     "name": "stdout",
     "output_type": "stream",
     "text": [
      "in745620231211145159-4.jpg\n"
     ]
    },
    {
     "name": "stderr",
     "output_type": "stream",
     "text": [
      "\n",
      "image 1/1 /home/ishant/Desktop/KeypointModelTest/New_test_img_2/images/PART_1481745169403126.jpg: 640x480 1 car, 107.0ms\n",
      "Speed: 4.5ms preprocess, 107.0ms inference, 1.2ms postprocess per image at shape (1, 3, 640, 480)\n"
     ]
    },
    {
     "name": "stdout",
     "output_type": "stream",
     "text": [
      "PART_1481745169403126.jpg\n"
     ]
    },
    {
     "name": "stderr",
     "output_type": "stream",
     "text": [
      "\n",
      "image 1/1 /home/ishant/Desktop/KeypointModelTest/New_test_img_2/images/in214320231205082545-1.jpg: 384x640 1 car, 131.3ms\n",
      "Speed: 10.7ms preprocess, 131.3ms inference, 0.9ms postprocess per image at shape (1, 3, 384, 640)\n"
     ]
    },
    {
     "name": "stdout",
     "output_type": "stream",
     "text": [
      "in214320231205082545-1.jpg\n"
     ]
    },
    {
     "name": "stderr",
     "output_type": "stream",
     "text": [
      "\n",
      "image 1/1 /home/ishant/Desktop/KeypointModelTest/New_test_img_2/images/PART_1481723760991902.jpg: 384x640 1 car, 96.5ms\n",
      "Speed: 3.9ms preprocess, 96.5ms inference, 0.7ms postprocess per image at shape (1, 3, 384, 640)\n"
     ]
    },
    {
     "name": "stdout",
     "output_type": "stream",
     "text": [
      "PART_1481723760991902.jpg\n"
     ]
    },
    {
     "name": "stderr",
     "output_type": "stream",
     "text": [
      "\n",
      "image 1/1 /home/ishant/Desktop/KeypointModelTest/New_test_img_2/images/PART_1477934840240950.jpg: 480x640 1 car, 107.6ms\n",
      "Speed: 2.7ms preprocess, 107.6ms inference, 0.9ms postprocess per image at shape (1, 3, 480, 640)\n"
     ]
    },
    {
     "name": "stdout",
     "output_type": "stream",
     "text": [
      "PART_1477934840240950.jpg\n"
     ]
    },
    {
     "name": "stderr",
     "output_type": "stream",
     "text": [
      "\n",
      "image 1/1 /home/ishant/Desktop/KeypointModelTest/New_test_img_2/images/PART_1479184799422426.jpg: 480x640 1 car, 101.4ms\n",
      "Speed: 4.0ms preprocess, 101.4ms inference, 1.0ms postprocess per image at shape (1, 3, 480, 640)\n"
     ]
    },
    {
     "name": "stdout",
     "output_type": "stream",
     "text": [
      "PART_1479184799422426.jpg\n"
     ]
    },
    {
     "name": "stderr",
     "output_type": "stream",
     "text": [
      "\n",
      "image 1/1 /home/ishant/Desktop/KeypointModelTest/New_test_img_2/images/in265220231119103239-1.jpg: 384x640 1 car, 89.5ms\n",
      "Speed: 6.2ms preprocess, 89.5ms inference, 0.9ms postprocess per image at shape (1, 3, 384, 640)\n"
     ]
    },
    {
     "name": "stdout",
     "output_type": "stream",
     "text": [
      "in265220231119103239-1.jpg\n"
     ]
    },
    {
     "name": "stderr",
     "output_type": "stream",
     "text": [
      "\n",
      "image 1/1 /home/ishant/Desktop/KeypointModelTest/New_test_img_2/images/in799620231218081737-1.jpg: 384x640 1 car, 92.3ms\n",
      "Speed: 3.0ms preprocess, 92.3ms inference, 1.2ms postprocess per image at shape (1, 3, 384, 640)\n"
     ]
    },
    {
     "name": "stdout",
     "output_type": "stream",
     "text": [
      "in799620231218081737-1.jpg\n"
     ]
    },
    {
     "name": "stderr",
     "output_type": "stream",
     "text": [
      "\n",
      "image 1/1 /home/ishant/Desktop/KeypointModelTest/New_test_img_2/images/in411620231220133737-6.jpg: 384x640 1 car, 82.7ms\n",
      "Speed: 2.8ms preprocess, 82.7ms inference, 0.9ms postprocess per image at shape (1, 3, 384, 640)\n"
     ]
    },
    {
     "name": "stdout",
     "output_type": "stream",
     "text": [
      "in411620231220133737-6.jpg\n"
     ]
    },
    {
     "name": "stderr",
     "output_type": "stream",
     "text": [
      "\n",
      "image 1/1 /home/ishant/Desktop/KeypointModelTest/New_test_img_2/images/in646920231218133357-3.jpg: 384x640 1 car, 140.6ms\n",
      "Speed: 2.1ms preprocess, 140.6ms inference, 1.1ms postprocess per image at shape (1, 3, 384, 640)\n"
     ]
    },
    {
     "name": "stdout",
     "output_type": "stream",
     "text": [
      "in646920231218133357-3.jpg\n"
     ]
    },
    {
     "name": "stderr",
     "output_type": "stream",
     "text": [
      "\n",
      "image 1/1 /home/ishant/Desktop/KeypointModelTest/New_test_img_2/images/in873320231124095011-7.jpg: 384x640 1 car, 82.2ms\n",
      "Speed: 2.8ms preprocess, 82.2ms inference, 1.1ms postprocess per image at shape (1, 3, 384, 640)\n"
     ]
    },
    {
     "name": "stdout",
     "output_type": "stream",
     "text": [
      "in873320231124095011-7.jpg\n"
     ]
    },
    {
     "name": "stderr",
     "output_type": "stream",
     "text": [
      "\n",
      "image 1/1 /home/ishant/Desktop/KeypointModelTest/New_test_img_2/images/PART_1482487534261722.jpg: 480x640 1 car, 104.3ms\n",
      "Speed: 4.2ms preprocess, 104.3ms inference, 1.1ms postprocess per image at shape (1, 3, 480, 640)\n"
     ]
    },
    {
     "name": "stdout",
     "output_type": "stream",
     "text": [
      "PART_1482487534261722.jpg\n"
     ]
    },
    {
     "name": "stderr",
     "output_type": "stream",
     "text": [
      "\n",
      "image 1/1 /home/ishant/Desktop/KeypointModelTest/New_test_img_2/images/PART_1482852216802389.jpg: 480x640 1 car, 103.9ms\n",
      "Speed: 3.4ms preprocess, 103.9ms inference, 0.8ms postprocess per image at shape (1, 3, 480, 640)\n"
     ]
    },
    {
     "name": "stdout",
     "output_type": "stream",
     "text": [
      "PART_1482852216802389.jpg\n"
     ]
    },
    {
     "name": "stderr",
     "output_type": "stream",
     "text": [
      "\n",
      "image 1/1 /home/ishant/Desktop/KeypointModelTest/New_test_img_2/images/part1600168252609604631156929.jpg: 480x640 1 car, 121.0ms\n",
      "Speed: 2.7ms preprocess, 121.0ms inference, 1.0ms postprocess per image at shape (1, 3, 480, 640)\n"
     ]
    },
    {
     "name": "stdout",
     "output_type": "stream",
     "text": [
      "part1600168252609604631156929.jpg\n"
     ]
    },
    {
     "name": "stderr",
     "output_type": "stream",
     "text": [
      "\n",
      "image 1/1 /home/ishant/Desktop/KeypointModelTest/New_test_img_2/images/in292820231124100518-2.jpg: 384x640 1 car, 90.9ms\n",
      "Speed: 2.7ms preprocess, 90.9ms inference, 1.1ms postprocess per image at shape (1, 3, 384, 640)\n"
     ]
    },
    {
     "name": "stdout",
     "output_type": "stream",
     "text": [
      "in292820231124100518-2.jpg\n"
     ]
    },
    {
     "name": "stderr",
     "output_type": "stream",
     "text": [
      "\n",
      "image 1/1 /home/ishant/Desktop/KeypointModelTest/New_test_img_2/images/in161920231119111435-2.jpg: 384x640 1 car, 82.8ms\n",
      "Speed: 2.8ms preprocess, 82.8ms inference, 1.0ms postprocess per image at shape (1, 3, 384, 640)\n"
     ]
    },
    {
     "name": "stdout",
     "output_type": "stream",
     "text": [
      "in161920231119111435-2.jpg\n"
     ]
    },
    {
     "name": "stderr",
     "output_type": "stream",
     "text": [
      "\n",
      "image 1/1 /home/ishant/Desktop/KeypointModelTest/New_test_img_2/images/PART_1483803963334515.jpg: 384x640 1 car, 116.6ms\n",
      "Speed: 3.1ms preprocess, 116.6ms inference, 2.4ms postprocess per image at shape (1, 3, 384, 640)\n"
     ]
    },
    {
     "name": "stdout",
     "output_type": "stream",
     "text": [
      "PART_1483803963334515.jpg\n"
     ]
    },
    {
     "name": "stderr",
     "output_type": "stream",
     "text": [
      "\n",
      "image 1/1 /home/ishant/Desktop/KeypointModelTest/New_test_img_2/images/in642120231213085757-5.jpg: 384x640 1 car, 108.5ms\n",
      "Speed: 2.7ms preprocess, 108.5ms inference, 1.0ms postprocess per image at shape (1, 3, 384, 640)\n"
     ]
    },
    {
     "name": "stdout",
     "output_type": "stream",
     "text": [
      "in642120231213085757-5.jpg\n"
     ]
    },
    {
     "name": "stderr",
     "output_type": "stream",
     "text": [
      "\n",
      "image 1/1 /home/ishant/Desktop/KeypointModelTest/New_test_img_2/images/part1600168662435360421798415.jpg: 480x640 1 car, 99.8ms\n",
      "Speed: 4.8ms preprocess, 99.8ms inference, 1.1ms postprocess per image at shape (1, 3, 480, 640)\n"
     ]
    },
    {
     "name": "stdout",
     "output_type": "stream",
     "text": [
      "part1600168662435360421798415.jpg\n"
     ]
    },
    {
     "name": "stderr",
     "output_type": "stream",
     "text": [
      "\n",
      "image 1/1 /home/ishant/Desktop/KeypointModelTest/New_test_img_2/images/PART_1482366796132742.jpg: 480x640 1 car, 104.0ms\n",
      "Speed: 4.2ms preprocess, 104.0ms inference, 1.3ms postprocess per image at shape (1, 3, 480, 640)\n"
     ]
    },
    {
     "name": "stdout",
     "output_type": "stream",
     "text": [
      "PART_1482366796132742.jpg\n"
     ]
    },
    {
     "name": "stderr",
     "output_type": "stream",
     "text": [
      "\n",
      "image 1/1 /home/ishant/Desktop/KeypointModelTest/New_test_img_2/images/PART_3558863405494105.jpg: 480x640 1 car, 113.3ms\n",
      "Speed: 3.6ms preprocess, 113.3ms inference, 1.1ms postprocess per image at shape (1, 3, 480, 640)\n"
     ]
    },
    {
     "name": "stdout",
     "output_type": "stream",
     "text": [
      "PART_3558863405494105.jpg\n"
     ]
    },
    {
     "name": "stderr",
     "output_type": "stream",
     "text": [
      "\n",
      "image 1/1 /home/ishant/Desktop/KeypointModelTest/New_test_img_2/images/in547220231123124841-7.jpg: 384x640 1 car, 95.9ms\n",
      "Speed: 3.4ms preprocess, 95.9ms inference, 1.1ms postprocess per image at shape (1, 3, 384, 640)\n"
     ]
    },
    {
     "name": "stdout",
     "output_type": "stream",
     "text": [
      "in547220231123124841-7.jpg\n"
     ]
    },
    {
     "name": "stderr",
     "output_type": "stream",
     "text": [
      "\n",
      "image 1/1 /home/ishant/Desktop/KeypointModelTest/New_test_img_2/images/PART_1481545463689331.jpg: 480x640 1 car, 111.7ms\n",
      "Speed: 4.4ms preprocess, 111.7ms inference, 0.8ms postprocess per image at shape (1, 3, 480, 640)\n"
     ]
    },
    {
     "name": "stdout",
     "output_type": "stream",
     "text": [
      "PART_1481545463689331.jpg\n"
     ]
    },
    {
     "name": "stderr",
     "output_type": "stream",
     "text": [
      "\n",
      "image 1/1 /home/ishant/Desktop/KeypointModelTest/New_test_img_2/images/part1600168283154369834518600.jpg: 480x640 1 car, 114.9ms\n",
      "Speed: 3.0ms preprocess, 114.9ms inference, 0.8ms postprocess per image at shape (1, 3, 480, 640)\n"
     ]
    },
    {
     "name": "stdout",
     "output_type": "stream",
     "text": [
      "part1600168283154369834518600.jpg\n"
     ]
    },
    {
     "name": "stderr",
     "output_type": "stream",
     "text": [
      "\n",
      "image 1/1 /home/ishant/Desktop/KeypointModelTest/New_test_img_2/images/in411620231220133737-1.jpg: 384x640 1 car, 129.0ms\n",
      "Speed: 2.2ms preprocess, 129.0ms inference, 1.0ms postprocess per image at shape (1, 3, 384, 640)\n"
     ]
    },
    {
     "name": "stdout",
     "output_type": "stream",
     "text": [
      "in411620231220133737-1.jpg\n"
     ]
    },
    {
     "name": "stderr",
     "output_type": "stream",
     "text": [
      "\n",
      "image 1/1 /home/ishant/Desktop/KeypointModelTest/New_test_img_2/images/PART_1477167228078692.jpg: 384x640 1 car, 86.1ms\n",
      "Speed: 3.0ms preprocess, 86.1ms inference, 0.9ms postprocess per image at shape (1, 3, 384, 640)\n"
     ]
    },
    {
     "name": "stdout",
     "output_type": "stream",
     "text": [
      "PART_1477167228078692.jpg\n"
     ]
    },
    {
     "name": "stderr",
     "output_type": "stream",
     "text": [
      "\n",
      "image 1/1 /home/ishant/Desktop/KeypointModelTest/New_test_img_2/images/in547220231123124841-2.jpg: 384x640 1 car, 93.1ms\n",
      "Speed: 6.3ms preprocess, 93.1ms inference, 1.0ms postprocess per image at shape (1, 3, 384, 640)\n"
     ]
    },
    {
     "name": "stdout",
     "output_type": "stream",
     "text": [
      "in547220231123124841-2.jpg\n"
     ]
    },
    {
     "name": "stderr",
     "output_type": "stream",
     "text": [
      "\n",
      "image 1/1 /home/ishant/Desktop/KeypointModelTest/New_test_img_2/images/PART_1479768679758253.jpg: 480x640 1 car, 110.4ms\n",
      "Speed: 6.9ms preprocess, 110.4ms inference, 1.1ms postprocess per image at shape (1, 3, 480, 640)\n"
     ]
    },
    {
     "name": "stdout",
     "output_type": "stream",
     "text": [
      "PART_1479768679758253.jpg\n"
     ]
    },
    {
     "name": "stderr",
     "output_type": "stream",
     "text": [
      "\n",
      "image 1/1 /home/ishant/Desktop/KeypointModelTest/New_test_img_2/images/part1600168923838974728586003.jpg: 480x640 1 car, 112.3ms\n",
      "Speed: 5.3ms preprocess, 112.3ms inference, 0.9ms postprocess per image at shape (1, 3, 480, 640)\n"
     ]
    },
    {
     "name": "stdout",
     "output_type": "stream",
     "text": [
      "part1600168923838974728586003.jpg\n"
     ]
    },
    {
     "name": "stderr",
     "output_type": "stream",
     "text": [
      "\n",
      "image 1/1 /home/ishant/Desktop/KeypointModelTest/New_test_img_2/images/PART_1482595858580953.jpg: 480x640 1 car, 101.3ms\n",
      "Speed: 2.8ms preprocess, 101.3ms inference, 1.1ms postprocess per image at shape (1, 3, 480, 640)\n"
     ]
    },
    {
     "name": "stdout",
     "output_type": "stream",
     "text": [
      "PART_1482595858580953.jpg\n"
     ]
    },
    {
     "name": "stderr",
     "output_type": "stream",
     "text": [
      "\n",
      "image 1/1 /home/ishant/Desktop/KeypointModelTest/New_test_img_2/images/part1600169062422420571213895.jpg: 480x640 1 car, 111.5ms\n",
      "Speed: 3.5ms preprocess, 111.5ms inference, 0.9ms postprocess per image at shape (1, 3, 480, 640)\n"
     ]
    },
    {
     "name": "stdout",
     "output_type": "stream",
     "text": [
      "part1600169062422420571213895.jpg\n"
     ]
    },
    {
     "name": "stderr",
     "output_type": "stream",
     "text": [
      "\n",
      "image 1/1 /home/ishant/Desktop/KeypointModelTest/New_test_img_2/images/in646920231218133357-9.jpg: 384x640 1 car, 152.8ms\n",
      "Speed: 3.4ms preprocess, 152.8ms inference, 1.1ms postprocess per image at shape (1, 3, 384, 640)\n"
     ]
    },
    {
     "name": "stdout",
     "output_type": "stream",
     "text": [
      "in646920231218133357-9.jpg\n"
     ]
    },
    {
     "name": "stderr",
     "output_type": "stream",
     "text": [
      "\n",
      "image 1/1 /home/ishant/Desktop/KeypointModelTest/New_test_img_2/images/PART_1483788146793608.jpg: 480x640 1 car, 159.7ms\n",
      "Speed: 2.7ms preprocess, 159.7ms inference, 1.0ms postprocess per image at shape (1, 3, 480, 640)\n"
     ]
    },
    {
     "name": "stdout",
     "output_type": "stream",
     "text": [
      "PART_1483788146793608.jpg\n"
     ]
    },
    {
     "name": "stderr",
     "output_type": "stream",
     "text": [
      "\n",
      "image 1/1 /home/ishant/Desktop/KeypointModelTest/New_test_img_2/images/in975420231211105726-3.jpg: 384x640 1 car, 92.9ms\n",
      "Speed: 2.9ms preprocess, 92.9ms inference, 1.2ms postprocess per image at shape (1, 3, 384, 640)\n"
     ]
    },
    {
     "name": "stdout",
     "output_type": "stream",
     "text": [
      "in975420231211105726-3.jpg\n"
     ]
    },
    {
     "name": "stderr",
     "output_type": "stream",
     "text": [
      "\n",
      "image 1/1 /home/ishant/Desktop/KeypointModelTest/New_test_img_2/images/PART_1479382118154593.jpg: 480x640 1 car, 111.1ms\n",
      "Speed: 4.0ms preprocess, 111.1ms inference, 0.9ms postprocess per image at shape (1, 3, 480, 640)\n"
     ]
    },
    {
     "name": "stdout",
     "output_type": "stream",
     "text": [
      "PART_1479382118154593.jpg\n"
     ]
    },
    {
     "name": "stderr",
     "output_type": "stream",
     "text": [
      "\n",
      "image 1/1 /home/ishant/Desktop/KeypointModelTest/New_test_img_2/images/PART_1482640794032106.jpg: 480x640 1 car, 112.3ms\n",
      "Speed: 4.3ms preprocess, 112.3ms inference, 1.0ms postprocess per image at shape (1, 3, 480, 640)\n"
     ]
    },
    {
     "name": "stdout",
     "output_type": "stream",
     "text": [
      "PART_1482640794032106.jpg\n"
     ]
    },
    {
     "name": "stderr",
     "output_type": "stream",
     "text": [
      "\n",
      "image 1/1 /home/ishant/Desktop/KeypointModelTest/New_test_img_2/images/part160016837502979981204271.jpg: 480x640 1 car, 106.7ms\n",
      "Speed: 2.6ms preprocess, 106.7ms inference, 1.0ms postprocess per image at shape (1, 3, 480, 640)\n"
     ]
    },
    {
     "name": "stdout",
     "output_type": "stream",
     "text": [
      "part160016837502979981204271.jpg\n"
     ]
    },
    {
     "name": "stderr",
     "output_type": "stream",
     "text": [
      "\n",
      "image 1/1 /home/ishant/Desktop/KeypointModelTest/New_test_img_2/images/in821820231219130304-2.jpg: 384x640 1 car, 93.8ms\n",
      "Speed: 2.6ms preprocess, 93.8ms inference, 1.2ms postprocess per image at shape (1, 3, 384, 640)\n"
     ]
    },
    {
     "name": "stdout",
     "output_type": "stream",
     "text": [
      "in821820231219130304-2.jpg\n"
     ]
    },
    {
     "name": "stderr",
     "output_type": "stream",
     "text": [
      "\n",
      "image 1/1 /home/ishant/Desktop/KeypointModelTest/New_test_img_2/images/PART_1478464287971743.jpg: 480x640 1 car, 113.8ms\n",
      "Speed: 3.2ms preprocess, 113.8ms inference, 1.1ms postprocess per image at shape (1, 3, 480, 640)\n"
     ]
    },
    {
     "name": "stdout",
     "output_type": "stream",
     "text": [
      "PART_1478464287971743.jpg\n"
     ]
    },
    {
     "name": "stderr",
     "output_type": "stream",
     "text": [
      "\n",
      "image 1/1 /home/ishant/Desktop/KeypointModelTest/New_test_img_2/images/in821820231219130304-5.jpg: 384x640 1 car, 168.0ms\n",
      "Speed: 3.6ms preprocess, 168.0ms inference, 0.9ms postprocess per image at shape (1, 3, 384, 640)\n"
     ]
    },
    {
     "name": "stdout",
     "output_type": "stream",
     "text": [
      "in821820231219130304-5.jpg\n"
     ]
    },
    {
     "name": "stderr",
     "output_type": "stream",
     "text": [
      "\n",
      "image 1/1 /home/ishant/Desktop/KeypointModelTest/New_test_img_2/images/PART_1482847017922559.jpg: 480x640 1 car, 108.4ms\n",
      "Speed: 2.5ms preprocess, 108.4ms inference, 1.4ms postprocess per image at shape (1, 3, 480, 640)\n"
     ]
    },
    {
     "name": "stdout",
     "output_type": "stream",
     "text": [
      "PART_1482847017922559.jpg\n"
     ]
    },
    {
     "name": "stderr",
     "output_type": "stream",
     "text": [
      "\n",
      "image 1/1 /home/ishant/Desktop/KeypointModelTest/New_test_img_2/images/in646920231218133357-4.jpg: 384x640 1 car, 90.9ms\n",
      "Speed: 4.3ms preprocess, 90.9ms inference, 1.0ms postprocess per image at shape (1, 3, 384, 640)\n"
     ]
    },
    {
     "name": "stdout",
     "output_type": "stream",
     "text": [
      "in646920231218133357-4.jpg\n"
     ]
    },
    {
     "name": "stderr",
     "output_type": "stream",
     "text": [
      "\n",
      "image 1/1 /home/ishant/Desktop/KeypointModelTest/New_test_img_2/images/PART_1480002566827727.jpg: 480x640 1 car, 113.5ms\n",
      "Speed: 5.2ms preprocess, 113.5ms inference, 1.0ms postprocess per image at shape (1, 3, 480, 640)\n"
     ]
    },
    {
     "name": "stdout",
     "output_type": "stream",
     "text": [
      "PART_1480002566827727.jpg\n"
     ]
    },
    {
     "name": "stderr",
     "output_type": "stream",
     "text": [
      "\n",
      "image 1/1 /home/ishant/Desktop/KeypointModelTest/New_test_img_2/images/PART_1481908693906672.jpg: 480x640 1 car, 108.9ms\n",
      "Speed: 5.0ms preprocess, 108.9ms inference, 1.1ms postprocess per image at shape (1, 3, 480, 640)\n"
     ]
    },
    {
     "name": "stdout",
     "output_type": "stream",
     "text": [
      "PART_1481908693906672.jpg\n"
     ]
    },
    {
     "name": "stderr",
     "output_type": "stream",
     "text": [
      "\n",
      "image 1/1 /home/ishant/Desktop/KeypointModelTest/New_test_img_2/images/in214320231205082545-3.jpg: 384x640 1 car, 92.5ms\n",
      "Speed: 3.1ms preprocess, 92.5ms inference, 0.9ms postprocess per image at shape (1, 3, 384, 640)\n"
     ]
    },
    {
     "name": "stdout",
     "output_type": "stream",
     "text": [
      "in214320231205082545-3.jpg\n"
     ]
    },
    {
     "name": "stderr",
     "output_type": "stream",
     "text": [
      "\n",
      "image 1/1 /home/ishant/Desktop/KeypointModelTest/New_test_img_2/images/in745620231211145159-5.jpg: 384x640 1 car, 91.4ms\n",
      "Speed: 2.9ms preprocess, 91.4ms inference, 1.1ms postprocess per image at shape (1, 3, 384, 640)\n"
     ]
    },
    {
     "name": "stdout",
     "output_type": "stream",
     "text": [
      "in745620231211145159-5.jpg\n"
     ]
    },
    {
     "name": "stderr",
     "output_type": "stream",
     "text": [
      "\n",
      "image 1/1 /home/ishant/Desktop/KeypointModelTest/New_test_img_2/images/in292820231124100518-7.jpg: 384x640 2 cars, 181.2ms\n",
      "Speed: 1.9ms preprocess, 181.2ms inference, 0.9ms postprocess per image at shape (1, 3, 384, 640)\n"
     ]
    },
    {
     "name": "stdout",
     "output_type": "stream",
     "text": [
      "in292820231124100518-7.jpg\n"
     ]
    },
    {
     "name": "stderr",
     "output_type": "stream",
     "text": [
      "\n",
      "image 1/1 /home/ishant/Desktop/KeypointModelTest/New_test_img_2/images/PART_1478058867586331.jpg: 480x640 1 car, 115.3ms\n",
      "Speed: 2.6ms preprocess, 115.3ms inference, 1.1ms postprocess per image at shape (1, 3, 480, 640)\n"
     ]
    },
    {
     "name": "stdout",
     "output_type": "stream",
     "text": [
      "PART_1478058867586331.jpg\n"
     ]
    },
    {
     "name": "stderr",
     "output_type": "stream",
     "text": [
      "\n",
      "image 1/1 /home/ishant/Desktop/KeypointModelTest/New_test_img_2/images/in642120231213085757-6.jpg: 384x640 1 car, 85.5ms\n",
      "Speed: 8.7ms preprocess, 85.5ms inference, 0.8ms postprocess per image at shape (1, 3, 384, 640)\n"
     ]
    },
    {
     "name": "stdout",
     "output_type": "stream",
     "text": [
      "in642120231213085757-6.jpg\n"
     ]
    },
    {
     "name": "stderr",
     "output_type": "stream",
     "text": [
      "\n",
      "image 1/1 /home/ishant/Desktop/KeypointModelTest/New_test_img_2/images/PART_1479466445456510.jpg: 480x640 1 car, 115.1ms\n",
      "Speed: 4.4ms preprocess, 115.1ms inference, 1.0ms postprocess per image at shape (1, 3, 480, 640)\n"
     ]
    },
    {
     "name": "stdout",
     "output_type": "stream",
     "text": [
      "PART_1479466445456510.jpg\n"
     ]
    },
    {
     "name": "stderr",
     "output_type": "stream",
     "text": [
      "\n",
      "image 1/1 /home/ishant/Desktop/KeypointModelTest/New_test_img_2/images/in411620231220133737-7.jpg: 384x640 1 car, 91.3ms\n",
      "Speed: 12.8ms preprocess, 91.3ms inference, 1.1ms postprocess per image at shape (1, 3, 384, 640)\n"
     ]
    },
    {
     "name": "stdout",
     "output_type": "stream",
     "text": [
      "in411620231220133737-7.jpg\n"
     ]
    },
    {
     "name": "stderr",
     "output_type": "stream",
     "text": [
      "\n",
      "image 1/1 /home/ishant/Desktop/KeypointModelTest/New_test_img_2/images/PART_3562436545529405.jpg: 480x640 1 car, 100.1ms\n",
      "Speed: 3.0ms preprocess, 100.1ms inference, 0.9ms postprocess per image at shape (1, 3, 480, 640)\n"
     ]
    },
    {
     "name": "stdout",
     "output_type": "stream",
     "text": [
      "PART_3562436545529405.jpg\n"
     ]
    },
    {
     "name": "stderr",
     "output_type": "stream",
     "text": [
      "\n",
      "image 1/1 /home/ishant/Desktop/KeypointModelTest/New_test_img_2/images/PART_1478189478050087.jpg: 480x640 1 car, 114.1ms\n",
      "Speed: 3.1ms preprocess, 114.1ms inference, 1.0ms postprocess per image at shape (1, 3, 480, 640)\n"
     ]
    },
    {
     "name": "stdout",
     "output_type": "stream",
     "text": [
      "PART_1478189478050087.jpg\n"
     ]
    },
    {
     "name": "stderr",
     "output_type": "stream",
     "text": [
      "\n",
      "image 1/1 /home/ishant/Desktop/KeypointModelTest/New_test_img_2/images/PART_1478299856204165.jpg: 480x640 1 car, 196.5ms\n",
      "Speed: 3.9ms preprocess, 196.5ms inference, 0.9ms postprocess per image at shape (1, 3, 480, 640)\n"
     ]
    },
    {
     "name": "stdout",
     "output_type": "stream",
     "text": [
      "PART_1478299856204165.jpg\n"
     ]
    },
    {
     "name": "stderr",
     "output_type": "stream",
     "text": [
      "\n",
      "image 1/1 /home/ishant/Desktop/KeypointModelTest/New_test_img_2/images/in535020231211135109-2.jpg: 384x640 1 car, 94.4ms\n",
      "Speed: 5.0ms preprocess, 94.4ms inference, 1.4ms postprocess per image at shape (1, 3, 384, 640)\n"
     ]
    },
    {
     "name": "stdout",
     "output_type": "stream",
     "text": [
      "in535020231211135109-2.jpg\n"
     ]
    },
    {
     "name": "stderr",
     "output_type": "stream",
     "text": [
      "\n",
      "image 1/1 /home/ishant/Desktop/KeypointModelTest/New_test_img_2/images/part1600168588606433457854332.jpg: 480x640 1 car, 113.8ms\n",
      "Speed: 3.6ms preprocess, 113.8ms inference, 1.0ms postprocess per image at shape (1, 3, 480, 640)\n"
     ]
    },
    {
     "name": "stdout",
     "output_type": "stream",
     "text": [
      "part1600168588606433457854332.jpg\n"
     ]
    },
    {
     "name": "stderr",
     "output_type": "stream",
     "text": [
      "\n",
      "image 1/1 /home/ishant/Desktop/KeypointModelTest/New_test_img_2/images/in502720231123120621-1.jpg: 384x640 1 car, 87.2ms\n",
      "Speed: 2.7ms preprocess, 87.2ms inference, 1.1ms postprocess per image at shape (1, 3, 384, 640)\n"
     ]
    },
    {
     "name": "stdout",
     "output_type": "stream",
     "text": [
      "in502720231123120621-1.jpg\n"
     ]
    },
    {
     "name": "stderr",
     "output_type": "stream",
     "text": [
      "\n",
      "image 1/1 /home/ishant/Desktop/KeypointModelTest/New_test_img_2/images/in755420231116153659-3.jpg: 384x640 1 car, 99.7ms\n",
      "Speed: 2.3ms preprocess, 99.7ms inference, 0.8ms postprocess per image at shape (1, 3, 384, 640)\n"
     ]
    },
    {
     "name": "stdout",
     "output_type": "stream",
     "text": [
      "in755420231116153659-3.jpg\n"
     ]
    },
    {
     "name": "stderr",
     "output_type": "stream",
     "text": [
      "\n",
      "image 1/1 /home/ishant/Desktop/KeypointModelTest/New_test_img_2/images/PART_1477405746854617.jpg: 480x640 1 car, 111.3ms\n",
      "Speed: 3.3ms preprocess, 111.3ms inference, 1.0ms postprocess per image at shape (1, 3, 480, 640)\n"
     ]
    },
    {
     "name": "stdout",
     "output_type": "stream",
     "text": [
      "PART_1477405746854617.jpg\n"
     ]
    },
    {
     "name": "stderr",
     "output_type": "stream",
     "text": [
      "\n",
      "image 1/1 /home/ishant/Desktop/KeypointModelTest/New_test_img_2/images/part1600168350220297825094927.jpg: 480x640 1 car, 108.3ms\n",
      "Speed: 2.5ms preprocess, 108.3ms inference, 1.3ms postprocess per image at shape (1, 3, 480, 640)\n"
     ]
    },
    {
     "name": "stdout",
     "output_type": "stream",
     "text": [
      "part1600168350220297825094927.jpg\n"
     ]
    },
    {
     "name": "stderr",
     "output_type": "stream",
     "text": [
      "\n",
      "image 1/1 /home/ishant/Desktop/KeypointModelTest/New_test_img_2/images/in763620231121114511-2.jpg: 384x640 1 car, 170.6ms\n",
      "Speed: 3.0ms preprocess, 170.6ms inference, 1.1ms postprocess per image at shape (1, 3, 384, 640)\n"
     ]
    },
    {
     "name": "stdout",
     "output_type": "stream",
     "text": [
      "in763620231121114511-2.jpg\n"
     ]
    },
    {
     "name": "stderr",
     "output_type": "stream",
     "text": [
      "\n",
      "image 1/1 /home/ishant/Desktop/KeypointModelTest/New_test_img_2/images/in957620231218121623-7.jpg: 384x640 1 car, 104.9ms\n",
      "Speed: 2.8ms preprocess, 104.9ms inference, 0.8ms postprocess per image at shape (1, 3, 384, 640)\n"
     ]
    },
    {
     "name": "stdout",
     "output_type": "stream",
     "text": [
      "in957620231218121623-7.jpg\n"
     ]
    },
    {
     "name": "stderr",
     "output_type": "stream",
     "text": [
      "\n",
      "image 1/1 /home/ishant/Desktop/KeypointModelTest/New_test_img_2/images/in535020231211135109-6.jpg: 384x640 1 car, 83.4ms\n",
      "Speed: 2.5ms preprocess, 83.4ms inference, 1.1ms postprocess per image at shape (1, 3, 384, 640)\n"
     ]
    },
    {
     "name": "stdout",
     "output_type": "stream",
     "text": [
      "in535020231211135109-6.jpg\n"
     ]
    },
    {
     "name": "stderr",
     "output_type": "stream",
     "text": [
      "\n",
      "image 1/1 /home/ishant/Desktop/KeypointModelTest/New_test_img_2/images/PART_3559764612050941.jpg: 480x640 1 car, 107.8ms\n",
      "Speed: 3.7ms preprocess, 107.8ms inference, 1.2ms postprocess per image at shape (1, 3, 480, 640)\n"
     ]
    },
    {
     "name": "stdout",
     "output_type": "stream",
     "text": [
      "PART_3559764612050941.jpg\n"
     ]
    },
    {
     "name": "stderr",
     "output_type": "stream",
     "text": [
      "\n",
      "image 1/1 /home/ishant/Desktop/KeypointModelTest/New_test_img_2/images/PART_1480738532743538.jpg: 512x640 1 car, 119.8ms\n",
      "Speed: 5.4ms preprocess, 119.8ms inference, 1.1ms postprocess per image at shape (1, 3, 512, 640)\n"
     ]
    },
    {
     "name": "stdout",
     "output_type": "stream",
     "text": [
      "PART_1480738532743538.jpg\n"
     ]
    },
    {
     "name": "stderr",
     "output_type": "stream",
     "text": [
      "\n",
      "image 1/1 /home/ishant/Desktop/KeypointModelTest/New_test_img_2/images/part160016877186097642093317.jpg: 480x640 1 car, 110.6ms\n",
      "Speed: 3.4ms preprocess, 110.6ms inference, 1.1ms postprocess per image at shape (1, 3, 480, 640)\n"
     ]
    },
    {
     "name": "stdout",
     "output_type": "stream",
     "text": [
      "part160016877186097642093317.jpg\n"
     ]
    },
    {
     "name": "stderr",
     "output_type": "stream",
     "text": [
      "\n",
      "image 1/1 /home/ishant/Desktop/KeypointModelTest/New_test_img_2/images/part1600168293598191588001496.jpg: 480x640 1 car, 110.4ms\n",
      "Speed: 5.0ms preprocess, 110.4ms inference, 1.2ms postprocess per image at shape (1, 3, 480, 640)\n"
     ]
    },
    {
     "name": "stdout",
     "output_type": "stream",
     "text": [
      "part1600168293598191588001496.jpg\n"
     ]
    },
    {
     "name": "stderr",
     "output_type": "stream",
     "text": [
      "\n",
      "image 1/1 /home/ishant/Desktop/KeypointModelTest/New_test_img_2/images/PART_1480453911124456.jpg: 480x640 1 car, 180.1ms\n",
      "Speed: 3.6ms preprocess, 180.1ms inference, 1.0ms postprocess per image at shape (1, 3, 480, 640)\n"
     ]
    },
    {
     "name": "stdout",
     "output_type": "stream",
     "text": [
      "PART_1480453911124456.jpg\n"
     ]
    },
    {
     "name": "stderr",
     "output_type": "stream",
     "text": [
      "\n",
      "image 1/1 /home/ishant/Desktop/KeypointModelTest/New_test_img_2/images/in265220231119103239-6.jpg: 384x640 1 car, 96.6ms\n",
      "Speed: 7.2ms preprocess, 96.6ms inference, 1.0ms postprocess per image at shape (1, 3, 384, 640)\n"
     ]
    },
    {
     "name": "stdout",
     "output_type": "stream",
     "text": [
      "in265220231119103239-6.jpg\n"
     ]
    },
    {
     "name": "stderr",
     "output_type": "stream",
     "text": [
      "\n",
      "image 1/1 /home/ishant/Desktop/KeypointModelTest/New_test_img_2/images/in836320231214150909-7.jpg: 384x640 1 car, 86.2ms\n",
      "Speed: 2.0ms preprocess, 86.2ms inference, 0.9ms postprocess per image at shape (1, 3, 384, 640)\n"
     ]
    },
    {
     "name": "stdout",
     "output_type": "stream",
     "text": [
      "in836320231214150909-7.jpg\n"
     ]
    },
    {
     "name": "stderr",
     "output_type": "stream",
     "text": [
      "\n",
      "image 1/1 /home/ishant/Desktop/KeypointModelTest/New_test_img_2/images/in161920231119111435-6.jpg: 384x640 1 car, 93.6ms\n",
      "Speed: 2.3ms preprocess, 93.6ms inference, 1.0ms postprocess per image at shape (1, 3, 384, 640)\n"
     ]
    },
    {
     "name": "stdout",
     "output_type": "stream",
     "text": [
      "in161920231119111435-6.jpg\n"
     ]
    },
    {
     "name": "stderr",
     "output_type": "stream",
     "text": [
      "\n",
      "image 1/1 /home/ishant/Desktop/KeypointModelTest/New_test_img_2/images/in502720231123120621-3.jpg: 384x640 1 car, 87.7ms\n",
      "Speed: 3.4ms preprocess, 87.7ms inference, 1.5ms postprocess per image at shape (1, 3, 384, 640)\n"
     ]
    },
    {
     "name": "stdout",
     "output_type": "stream",
     "text": [
      "in502720231123120621-3.jpg\n"
     ]
    },
    {
     "name": "stderr",
     "output_type": "stream",
     "text": [
      "\n",
      "image 1/1 /home/ishant/Desktop/KeypointModelTest/New_test_img_2/images/part16001690477971644463261.jpg: 480x640 1 car, 99.0ms\n",
      "Speed: 3.6ms preprocess, 99.0ms inference, 1.3ms postprocess per image at shape (1, 3, 480, 640)\n"
     ]
    },
    {
     "name": "stdout",
     "output_type": "stream",
     "text": [
      "part16001690477971644463261.jpg\n"
     ]
    },
    {
     "name": "stderr",
     "output_type": "stream",
     "text": [
      "\n",
      "image 1/1 /home/ishant/Desktop/KeypointModelTest/New_test_img_2/images/in265220231119103239-7.jpg: 384x640 1 car, 95.0ms\n",
      "Speed: 2.2ms preprocess, 95.0ms inference, 0.9ms postprocess per image at shape (1, 3, 384, 640)\n"
     ]
    },
    {
     "name": "stdout",
     "output_type": "stream",
     "text": [
      "in265220231119103239-7.jpg\n"
     ]
    },
    {
     "name": "stderr",
     "output_type": "stream",
     "text": [
      "\n",
      "image 1/1 /home/ishant/Desktop/KeypointModelTest/New_test_img_2/images/PART_4395181456302878.jpg: 480x640 1 car, 148.9ms\n",
      "Speed: 50.7ms preprocess, 148.9ms inference, 1.1ms postprocess per image at shape (1, 3, 480, 640)\n"
     ]
    },
    {
     "name": "stdout",
     "output_type": "stream",
     "text": [
      "PART_4395181456302878.jpg\n"
     ]
    },
    {
     "name": "stderr",
     "output_type": "stream",
     "text": [
      "\n",
      "image 1/1 /home/ishant/Desktop/KeypointModelTest/New_test_img_2/images/PART_1478870985931474.jpg: 480x640 1 car, 107.6ms\n",
      "Speed: 2.8ms preprocess, 107.6ms inference, 1.4ms postprocess per image at shape (1, 3, 480, 640)\n"
     ]
    },
    {
     "name": "stdout",
     "output_type": "stream",
     "text": [
      "PART_1478870985931474.jpg\n"
     ]
    },
    {
     "name": "stderr",
     "output_type": "stream",
     "text": [
      "\n",
      "image 1/1 /home/ishant/Desktop/KeypointModelTest/New_test_img_2/images/in957620231218121623-6.jpg: 384x640 2 cars, 95.1ms\n",
      "Speed: 2.5ms preprocess, 95.1ms inference, 1.1ms postprocess per image at shape (1, 3, 384, 640)\n"
     ]
    },
    {
     "name": "stdout",
     "output_type": "stream",
     "text": [
      "in957620231218121623-6.jpg\n"
     ]
    },
    {
     "name": "stderr",
     "output_type": "stream",
     "text": [
      "\n",
      "image 1/1 /home/ishant/Desktop/KeypointModelTest/New_test_img_2/images/in763620231121114511-5.jpg: 384x640 1 car, 91.2ms\n",
      "Speed: 2.6ms preprocess, 91.2ms inference, 1.3ms postprocess per image at shape (1, 3, 384, 640)\n"
     ]
    },
    {
     "name": "stdout",
     "output_type": "stream",
     "text": [
      "in763620231121114511-5.jpg\n"
     ]
    },
    {
     "name": "stderr",
     "output_type": "stream",
     "text": [
      "\n",
      "image 1/1 /home/ishant/Desktop/KeypointModelTest/New_test_img_2/images/PART_1484079026295772.jpg: 480x640 1 car, 127.7ms\n",
      "Speed: 3.8ms preprocess, 127.7ms inference, 1.4ms postprocess per image at shape (1, 3, 480, 640)\n"
     ]
    },
    {
     "name": "stdout",
     "output_type": "stream",
     "text": [
      "PART_1484079026295772.jpg\n"
     ]
    },
    {
     "name": "stderr",
     "output_type": "stream",
     "text": [
      "\n",
      "image 1/1 /home/ishant/Desktop/KeypointModelTest/New_test_img_2/images/part1600168224745465570190870.jpg: 640x480 1 car, 115.8ms\n",
      "Speed: 2.7ms preprocess, 115.8ms inference, 1.4ms postprocess per image at shape (1, 3, 640, 480)\n"
     ]
    },
    {
     "name": "stdout",
     "output_type": "stream",
     "text": [
      "part1600168224745465570190870.jpg\n"
     ]
    },
    {
     "name": "stderr",
     "output_type": "stream",
     "text": [
      "\n",
      "image 1/1 /home/ishant/Desktop/KeypointModelTest/New_test_img_2/images/PART_1478441604224371.jpg: 384x640 1 car, 98.2ms\n",
      "Speed: 2.6ms preprocess, 98.2ms inference, 1.0ms postprocess per image at shape (1, 3, 384, 640)\n"
     ]
    },
    {
     "name": "stdout",
     "output_type": "stream",
     "text": [
      "PART_1478441604224371.jpg\n"
     ]
    },
    {
     "name": "stderr",
     "output_type": "stream",
     "text": [
      "\n",
      "image 1/1 /home/ishant/Desktop/KeypointModelTest/New_test_img_2/images/in642120231213085757-2.jpg: 384x640 1 car, 158.0ms\n",
      "Speed: 3.7ms preprocess, 158.0ms inference, 0.9ms postprocess per image at shape (1, 3, 384, 640)\n"
     ]
    },
    {
     "name": "stdout",
     "output_type": "stream",
     "text": [
      "in642120231213085757-2.jpg\n"
     ]
    },
    {
     "name": "stderr",
     "output_type": "stream",
     "text": [
      "\n",
      "image 1/1 /home/ishant/Desktop/KeypointModelTest/New_test_img_2/images/in799620231218081737-2.jpg: 384x640 1 car, 85.5ms\n",
      "Speed: 1.8ms preprocess, 85.5ms inference, 1.0ms postprocess per image at shape (1, 3, 384, 640)\n"
     ]
    },
    {
     "name": "stdout",
     "output_type": "stream",
     "text": [
      "in799620231218081737-2.jpg\n"
     ]
    },
    {
     "name": "stderr",
     "output_type": "stream",
     "text": [
      "\n",
      "image 1/1 /home/ishant/Desktop/KeypointModelTest/New_test_img_2/images/PART_1477785823946919.jpg: 480x640 1 car, 101.2ms\n",
      "Speed: 4.8ms preprocess, 101.2ms inference, 1.3ms postprocess per image at shape (1, 3, 480, 640)\n"
     ]
    },
    {
     "name": "stdout",
     "output_type": "stream",
     "text": [
      "PART_1477785823946919.jpg\n"
     ]
    },
    {
     "name": "stderr",
     "output_type": "stream",
     "text": [
      "\n",
      "image 1/1 /home/ishant/Desktop/KeypointModelTest/New_test_img_2/images/PART_1481910397927490.jpg: 480x640 1 car, 100.8ms\n",
      "Speed: 3.6ms preprocess, 100.8ms inference, 1.2ms postprocess per image at shape (1, 3, 480, 640)\n"
     ]
    },
    {
     "name": "stdout",
     "output_type": "stream",
     "text": [
      "PART_1481910397927490.jpg\n"
     ]
    },
    {
     "name": "stderr",
     "output_type": "stream",
     "text": [
      "\n",
      "image 1/1 /home/ishant/Desktop/KeypointModelTest/New_test_img_2/images/in646920231218133357-7.jpg: 384x640 1 car, 88.3ms\n",
      "Speed: 2.1ms preprocess, 88.3ms inference, 1.4ms postprocess per image at shape (1, 3, 384, 640)\n"
     ]
    },
    {
     "name": "stdout",
     "output_type": "stream",
     "text": [
      "in646920231218133357-7.jpg\n"
     ]
    },
    {
     "name": "stderr",
     "output_type": "stream",
     "text": [
      "\n",
      "image 1/1 /home/ishant/Desktop/KeypointModelTest/New_test_img_2/images/PART_1479255219713006.jpg: 480x640 1 car, 107.7ms\n",
      "Speed: 5.9ms preprocess, 107.7ms inference, 1.0ms postprocess per image at shape (1, 3, 480, 640)\n"
     ]
    },
    {
     "name": "stdout",
     "output_type": "stream",
     "text": [
      "PART_1479255219713006.jpg\n"
     ]
    },
    {
     "name": "stderr",
     "output_type": "stream",
     "text": [
      "\n",
      "image 1/1 /home/ishant/Desktop/KeypointModelTest/New_test_img_2/images/in821820231219130304-7.jpg: 384x640 1 car, 92.2ms\n",
      "Speed: 2.0ms preprocess, 92.2ms inference, 1.0ms postprocess per image at shape (1, 3, 384, 640)\n"
     ]
    },
    {
     "name": "stdout",
     "output_type": "stream",
     "text": [
      "in821820231219130304-7.jpg\n"
     ]
    },
    {
     "name": "stderr",
     "output_type": "stream",
     "text": [
      "\n",
      "image 1/1 /home/ishant/Desktop/KeypointModelTest/New_test_img_2/images/PART_4495593076167055.jpg: 480x640 1 car, 153.2ms\n",
      "Speed: 17.4ms preprocess, 153.2ms inference, 1.0ms postprocess per image at shape (1, 3, 480, 640)\n"
     ]
    },
    {
     "name": "stdout",
     "output_type": "stream",
     "text": [
      "PART_4495593076167055.jpg\n"
     ]
    },
    {
     "name": "stderr",
     "output_type": "stream",
     "text": [
      "\n",
      "image 1/1 /home/ishant/Desktop/KeypointModelTest/New_test_img_2/images/in411620231220133737-3.jpg: 384x640 1 car, 105.4ms\n",
      "Speed: 6.4ms preprocess, 105.4ms inference, 1.1ms postprocess per image at shape (1, 3, 384, 640)\n"
     ]
    },
    {
     "name": "stdout",
     "output_type": "stream",
     "text": [
      "in411620231220133737-3.jpg\n"
     ]
    },
    {
     "name": "stderr",
     "output_type": "stream",
     "text": [
      "\n",
      "image 1/1 /home/ishant/Desktop/KeypointModelTest/New_test_img_2/images/PART_1479952879597662.jpg: 480x640 1 car, 102.6ms\n",
      "Speed: 4.4ms preprocess, 102.6ms inference, 1.1ms postprocess per image at shape (1, 3, 480, 640)\n"
     ]
    },
    {
     "name": "stdout",
     "output_type": "stream",
     "text": [
      "PART_1479952879597662.jpg\n"
     ]
    },
    {
     "name": "stderr",
     "output_type": "stream",
     "text": [
      "\n",
      "image 1/1 /home/ishant/Desktop/KeypointModelTest/New_test_img_2/images/in547220231123124841-5.jpg: 384x640 1 car, 96.2ms\n",
      "Speed: 3.7ms preprocess, 96.2ms inference, 0.9ms postprocess per image at shape (1, 3, 384, 640)\n"
     ]
    },
    {
     "name": "stdout",
     "output_type": "stream",
     "text": [
      "in547220231123124841-5.jpg\n"
     ]
    },
    {
     "name": "stderr",
     "output_type": "stream",
     "text": [
      "\n",
      "image 1/1 /home/ishant/Desktop/KeypointModelTest/New_test_img_2/images/in928020231220093827-2.jpg: 384x640 1 car, 94.4ms\n",
      "Speed: 6.3ms preprocess, 94.4ms inference, 1.2ms postprocess per image at shape (1, 3, 384, 640)\n"
     ]
    },
    {
     "name": "stdout",
     "output_type": "stream",
     "text": [
      "in928020231220093827-2.jpg\n"
     ]
    },
    {
     "name": "stderr",
     "output_type": "stream",
     "text": [
      "\n",
      "image 1/1 /home/ishant/Desktop/KeypointModelTest/New_test_img_2/images/part1600168487347574271567380.jpg: 480x640 1 car, 111.9ms\n",
      "Speed: 3.2ms preprocess, 111.9ms inference, 1.4ms postprocess per image at shape (1, 3, 480, 640)\n"
     ]
    },
    {
     "name": "stdout",
     "output_type": "stream",
     "text": [
      "part1600168487347574271567380.jpg\n"
     ]
    },
    {
     "name": "stderr",
     "output_type": "stream",
     "text": [
      "\n",
      "image 1/1 /home/ishant/Desktop/KeypointModelTest/New_test_img_2/images/PART_3560588209651776.jpg: 352x640 1 car, 153.3ms\n",
      "Speed: 2.9ms preprocess, 153.3ms inference, 1.2ms postprocess per image at shape (1, 3, 352, 640)\n"
     ]
    },
    {
     "name": "stdout",
     "output_type": "stream",
     "text": [
      "PART_3560588209651776.jpg\n"
     ]
    },
    {
     "name": "stderr",
     "output_type": "stream",
     "text": [
      "\n",
      "image 1/1 /home/ishant/Desktop/KeypointModelTest/New_test_img_2/images/PART_1478411529869910.jpg: 480x640 1 car, 132.9ms\n",
      "Speed: 3.9ms preprocess, 132.9ms inference, 0.9ms postprocess per image at shape (1, 3, 480, 640)\n"
     ]
    },
    {
     "name": "stdout",
     "output_type": "stream",
     "text": [
      "PART_1478411529869910.jpg\n"
     ]
    },
    {
     "name": "stderr",
     "output_type": "stream",
     "text": [
      "\n",
      "image 1/1 /home/ishant/Desktop/KeypointModelTest/New_test_img_2/images/in957620231218121623-2.jpg: 384x640 1 car, 112.7ms\n",
      "Speed: 3.8ms preprocess, 112.7ms inference, 0.8ms postprocess per image at shape (1, 3, 384, 640)\n"
     ]
    },
    {
     "name": "stdout",
     "output_type": "stream",
     "text": [
      "in957620231218121623-2.jpg\n"
     ]
    },
    {
     "name": "stderr",
     "output_type": "stream",
     "text": [
      "\n",
      "image 1/1 /home/ishant/Desktop/KeypointModelTest/New_test_img_2/images/in836320231214150909-5.jpg: 384x640 1 car, 105.7ms\n",
      "Speed: 2.6ms preprocess, 105.7ms inference, 0.9ms postprocess per image at shape (1, 3, 384, 640)\n"
     ]
    },
    {
     "name": "stdout",
     "output_type": "stream",
     "text": [
      "in836320231214150909-5.jpg\n"
     ]
    },
    {
     "name": "stderr",
     "output_type": "stream",
     "text": [
      "\n",
      "image 1/1 /home/ishant/Desktop/KeypointModelTest/New_test_img_2/images/in755420231116153659-2.jpg: 384x640 1 car, 88.4ms\n",
      "Speed: 4.9ms preprocess, 88.4ms inference, 1.1ms postprocess per image at shape (1, 3, 384, 640)\n"
     ]
    },
    {
     "name": "stdout",
     "output_type": "stream",
     "text": [
      "in755420231116153659-2.jpg\n"
     ]
    },
    {
     "name": "stderr",
     "output_type": "stream",
     "text": [
      "\n",
      "image 1/1 /home/ishant/Desktop/KeypointModelTest/New_test_img_2/images/in292820231124100518-1.jpg: 384x640 1 car, 90.2ms\n",
      "Speed: 2.8ms preprocess, 90.2ms inference, 0.9ms postprocess per image at shape (1, 3, 384, 640)\n"
     ]
    },
    {
     "name": "stdout",
     "output_type": "stream",
     "text": [
      "in292820231124100518-1.jpg\n"
     ]
    },
    {
     "name": "stderr",
     "output_type": "stream",
     "text": [
      "\n",
      "image 1/1 /home/ishant/Desktop/KeypointModelTest/New_test_img_2/images/part1600168263144558438189588.jpg: 480x640 1 car, 119.7ms\n",
      "Speed: 3.8ms preprocess, 119.7ms inference, 1.2ms postprocess per image at shape (1, 3, 480, 640)\n"
     ]
    },
    {
     "name": "stdout",
     "output_type": "stream",
     "text": [
      "part1600168263144558438189588.jpg\n"
     ]
    },
    {
     "name": "stderr",
     "output_type": "stream",
     "text": [
      "\n",
      "image 1/1 /home/ishant/Desktop/KeypointModelTest/New_test_img_2/images/PART_1479354265937997.jpg: 480x640 1 car, 107.8ms\n",
      "Speed: 4.7ms preprocess, 107.8ms inference, 0.8ms postprocess per image at shape (1, 3, 480, 640)\n"
     ]
    },
    {
     "name": "stdout",
     "output_type": "stream",
     "text": [
      "PART_1479354265937997.jpg\n"
     ]
    },
    {
     "name": "stderr",
     "output_type": "stream",
     "text": [
      "\n",
      "image 1/1 /home/ishant/Desktop/KeypointModelTest/New_test_img_2/images/PART_1482606483220424.jpg: 384x640 1 car, 198.0ms\n",
      "Speed: 4.0ms preprocess, 198.0ms inference, 1.8ms postprocess per image at shape (1, 3, 384, 640)\n"
     ]
    },
    {
     "name": "stdout",
     "output_type": "stream",
     "text": [
      "PART_1482606483220424.jpg\n"
     ]
    },
    {
     "name": "stderr",
     "output_type": "stream",
     "text": [
      "\n",
      "image 1/1 /home/ishant/Desktop/KeypointModelTest/New_test_img_2/images/PART_1483210320995706.jpg: 512x640 1 car, 111.4ms\n",
      "Speed: 4.9ms preprocess, 111.4ms inference, 1.2ms postprocess per image at shape (1, 3, 512, 640)\n"
     ]
    },
    {
     "name": "stdout",
     "output_type": "stream",
     "text": [
      "PART_1483210320995706.jpg\n"
     ]
    },
    {
     "name": "stderr",
     "output_type": "stream",
     "text": [
      "\n",
      "image 1/1 /home/ishant/Desktop/KeypointModelTest/New_test_img_2/images/in799620231218081737-5.jpg: 384x640 1 car, 88.7ms\n",
      "Speed: 9.1ms preprocess, 88.7ms inference, 0.9ms postprocess per image at shape (1, 3, 384, 640)\n"
     ]
    },
    {
     "name": "stdout",
     "output_type": "stream",
     "text": [
      "in799620231218081737-5.jpg\n"
     ]
    },
    {
     "name": "stderr",
     "output_type": "stream",
     "text": [
      "\n",
      "image 1/1 /home/ishant/Desktop/KeypointModelTest/New_test_img_2/images/PART_1483841811166102.jpg: 320x640 1 car, 106.1ms\n",
      "Speed: 1.6ms preprocess, 106.1ms inference, 1.1ms postprocess per image at shape (1, 3, 320, 640)\n"
     ]
    },
    {
     "name": "stdout",
     "output_type": "stream",
     "text": [
      "PART_1483841811166102.jpg\n"
     ]
    },
    {
     "name": "stderr",
     "output_type": "stream",
     "text": [
      "\n",
      "image 1/1 /home/ishant/Desktop/KeypointModelTest/New_test_img_2/images/PART_3559628291981744.jpg: 480x640 1 car, 111.5ms\n",
      "Speed: 3.2ms preprocess, 111.5ms inference, 1.0ms postprocess per image at shape (1, 3, 480, 640)\n"
     ]
    },
    {
     "name": "stdout",
     "output_type": "stream",
     "text": [
      "PART_3559628291981744.jpg\n"
     ]
    },
    {
     "name": "stderr",
     "output_type": "stream",
     "text": [
      "\n",
      "image 1/1 /home/ishant/Desktop/KeypointModelTest/New_test_img_2/images/PART_1483616823760075.jpg: 384x640 1 car, 99.5ms\n",
      "Speed: 2.7ms preprocess, 99.5ms inference, 1.0ms postprocess per image at shape (1, 3, 384, 640)\n"
     ]
    },
    {
     "name": "stdout",
     "output_type": "stream",
     "text": [
      "PART_1483616823760075.jpg\n"
     ]
    },
    {
     "name": "stderr",
     "output_type": "stream",
     "text": [
      "\n",
      "image 1/1 /home/ishant/Desktop/KeypointModelTest/New_test_img_2/images/PART_3560577313968785.jpg: 480x640 1 car, 97.5ms\n",
      "Speed: 4.0ms preprocess, 97.5ms inference, 0.8ms postprocess per image at shape (1, 3, 480, 640)\n"
     ]
    },
    {
     "name": "stdout",
     "output_type": "stream",
     "text": [
      "PART_3560577313968785.jpg\n"
     ]
    },
    {
     "name": "stderr",
     "output_type": "stream",
     "text": [
      "\n",
      "image 1/1 /home/ishant/Desktop/KeypointModelTest/New_test_img_2/images/PART_4408179695317297.jpg: 480x640 1 car, 91.5ms\n",
      "Speed: 2.8ms preprocess, 91.5ms inference, 0.9ms postprocess per image at shape (1, 3, 480, 640)\n"
     ]
    },
    {
     "name": "stdout",
     "output_type": "stream",
     "text": [
      "PART_4408179695317297.jpg\n"
     ]
    },
    {
     "name": "stderr",
     "output_type": "stream",
     "text": [
      "\n",
      "image 1/1 /home/ishant/Desktop/KeypointModelTest/New_test_img_2/images/PART_4394079952521361.jpg: 384x640 1 car, 134.6ms\n",
      "Speed: 2.2ms preprocess, 134.6ms inference, 2.0ms postprocess per image at shape (1, 3, 384, 640)\n"
     ]
    },
    {
     "name": "stdout",
     "output_type": "stream",
     "text": [
      "PART_4394079952521361.jpg\n"
     ]
    },
    {
     "name": "stderr",
     "output_type": "stream",
     "text": [
      "\n",
      "image 1/1 /home/ishant/Desktop/KeypointModelTest/New_test_img_2/images/in502720231123120621-7.jpg: 384x640 1 car, 72.3ms\n",
      "Speed: 2.0ms preprocess, 72.3ms inference, 1.1ms postprocess per image at shape (1, 3, 384, 640)\n"
     ]
    },
    {
     "name": "stdout",
     "output_type": "stream",
     "text": [
      "in502720231123120621-7.jpg\n"
     ]
    },
    {
     "name": "stderr",
     "output_type": "stream",
     "text": [
      "\n",
      "image 1/1 /home/ishant/Desktop/KeypointModelTest/New_test_img_2/images/part1600168470297537621523720.jpg: 480x640 1 car, 74.4ms\n",
      "Speed: 4.3ms preprocess, 74.4ms inference, 0.9ms postprocess per image at shape (1, 3, 480, 640)\n"
     ]
    },
    {
     "name": "stdout",
     "output_type": "stream",
     "text": [
      "part1600168470297537621523720.jpg\n"
     ]
    },
    {
     "name": "stderr",
     "output_type": "stream",
     "text": [
      "\n",
      "image 1/1 /home/ishant/Desktop/KeypointModelTest/New_test_img_2/images/in873320231124095011-3.jpg: 384x640 2 cars, 75.8ms\n",
      "Speed: 2.0ms preprocess, 75.8ms inference, 0.9ms postprocess per image at shape (1, 3, 384, 640)\n"
     ]
    },
    {
     "name": "stdout",
     "output_type": "stream",
     "text": [
      "in873320231124095011-3.jpg\n"
     ]
    },
    {
     "name": "stderr",
     "output_type": "stream",
     "text": [
      "\n",
      "image 1/1 /home/ishant/Desktop/KeypointModelTest/New_test_img_2/images/PART_1479475397923700.jpg: 480x640 1 car, 85.7ms\n",
      "Speed: 5.5ms preprocess, 85.7ms inference, 1.0ms postprocess per image at shape (1, 3, 480, 640)\n"
     ]
    },
    {
     "name": "stdout",
     "output_type": "stream",
     "text": [
      "PART_1479475397923700.jpg\n"
     ]
    },
    {
     "name": "stderr",
     "output_type": "stream",
     "text": [
      "\n",
      "image 1/1 /home/ishant/Desktop/KeypointModelTest/New_test_img_2/images/in214320231205082545-7.jpg: 384x640 1 car, 75.8ms\n",
      "Speed: 2.0ms preprocess, 75.8ms inference, 1.0ms postprocess per image at shape (1, 3, 384, 640)\n"
     ]
    },
    {
     "name": "stdout",
     "output_type": "stream",
     "text": [
      "in214320231205082545-7.jpg\n"
     ]
    },
    {
     "name": "stderr",
     "output_type": "stream",
     "text": [
      "\n",
      "image 1/1 /home/ishant/Desktop/KeypointModelTest/New_test_img_2/images/in975420231211105726-6.jpg: 384x640 1 car, 64.4ms\n",
      "Speed: 2.4ms preprocess, 64.4ms inference, 0.7ms postprocess per image at shape (1, 3, 384, 640)\n"
     ]
    },
    {
     "name": "stdout",
     "output_type": "stream",
     "text": [
      "in975420231211105726-6.jpg\n"
     ]
    },
    {
     "name": "stderr",
     "output_type": "stream",
     "text": [
      "\n",
      "image 1/1 /home/ishant/Desktop/KeypointModelTest/New_test_img_2/images/in646920231218133357-5.jpg: 384x640 1 car, 107.9ms\n",
      "Speed: 2.5ms preprocess, 107.9ms inference, 1.3ms postprocess per image at shape (1, 3, 384, 640)\n"
     ]
    },
    {
     "name": "stdout",
     "output_type": "stream",
     "text": [
      "in646920231218133357-5.jpg\n"
     ]
    },
    {
     "name": "stderr",
     "output_type": "stream",
     "text": [
      "\n",
      "image 1/1 /home/ishant/Desktop/KeypointModelTest/New_test_img_2/images/in836320231214150909-1.jpg: 384x640 1 car, 69.9ms\n",
      "Speed: 2.0ms preprocess, 69.9ms inference, 0.9ms postprocess per image at shape (1, 3, 384, 640)\n"
     ]
    },
    {
     "name": "stdout",
     "output_type": "stream",
     "text": [
      "in836320231214150909-1.jpg\n"
     ]
    },
    {
     "name": "stderr",
     "output_type": "stream",
     "text": [
      "\n",
      "image 1/1 /home/ishant/Desktop/KeypointModelTest/New_test_img_2/images/part1600168340251687826694940.jpg: 480x640 1 car, 80.0ms\n",
      "Speed: 3.0ms preprocess, 80.0ms inference, 1.3ms postprocess per image at shape (1, 3, 480, 640)\n"
     ]
    },
    {
     "name": "stdout",
     "output_type": "stream",
     "text": [
      "part1600168340251687826694940.jpg\n"
     ]
    },
    {
     "name": "stderr",
     "output_type": "stream",
     "text": [
      "\n",
      "image 1/1 /home/ishant/Desktop/KeypointModelTest/New_test_img_2/images/in502720231123120621-5.jpg: 384x640 1 car, 68.6ms\n",
      "Speed: 2.3ms preprocess, 68.6ms inference, 0.9ms postprocess per image at shape (1, 3, 384, 640)\n"
     ]
    },
    {
     "name": "stdout",
     "output_type": "stream",
     "text": [
      "in502720231123120621-5.jpg\n"
     ]
    },
    {
     "name": "stderr",
     "output_type": "stream",
     "text": [
      "\n",
      "image 1/1 /home/ishant/Desktop/KeypointModelTest/New_test_img_2/images/PART_1483248120468209.jpg: 480x640 1 car, 89.6ms\n",
      "Speed: 2.8ms preprocess, 89.6ms inference, 1.0ms postprocess per image at shape (1, 3, 480, 640)\n"
     ]
    },
    {
     "name": "stdout",
     "output_type": "stream",
     "text": [
      "PART_1483248120468209.jpg\n"
     ]
    },
    {
     "name": "stderr",
     "output_type": "stream",
     "text": [
      "\n",
      "image 1/1 /home/ishant/Desktop/KeypointModelTest/New_test_img_2/images/PART_1478558445769340.jpg: 480x640 1 car, 88.9ms\n",
      "Speed: 2.8ms preprocess, 88.9ms inference, 1.0ms postprocess per image at shape (1, 3, 480, 640)\n"
     ]
    },
    {
     "name": "stdout",
     "output_type": "stream",
     "text": [
      "PART_1478558445769340.jpg\n"
     ]
    },
    {
     "name": "stderr",
     "output_type": "stream",
     "text": [
      "\n",
      "image 1/1 /home/ishant/Desktop/KeypointModelTest/New_test_img_2/images/PART_1482225318351645.jpg: 320x640 1 car, 54.7ms\n",
      "Speed: 1.7ms preprocess, 54.7ms inference, 2.3ms postprocess per image at shape (1, 3, 320, 640)\n"
     ]
    },
    {
     "name": "stdout",
     "output_type": "stream",
     "text": [
      "PART_1482225318351645.jpg\n"
     ]
    },
    {
     "name": "stderr",
     "output_type": "stream",
     "text": [
      "\n",
      "image 1/1 /home/ishant/Desktop/KeypointModelTest/New_test_img_2/images/in799620231218081737-3.jpg: 384x640 1 car, 112.1ms\n",
      "Speed: 2.9ms preprocess, 112.1ms inference, 1.0ms postprocess per image at shape (1, 3, 384, 640)\n"
     ]
    },
    {
     "name": "stdout",
     "output_type": "stream",
     "text": [
      "in799620231218081737-3.jpg\n"
     ]
    },
    {
     "name": "stderr",
     "output_type": "stream",
     "text": [
      "\n",
      "image 1/1 /home/ishant/Desktop/KeypointModelTest/New_test_img_2/images/PART_1483496885531519.jpg: 480x640 1 car, 92.4ms\n",
      "Speed: 4.0ms preprocess, 92.4ms inference, 0.9ms postprocess per image at shape (1, 3, 480, 640)\n"
     ]
    },
    {
     "name": "stdout",
     "output_type": "stream",
     "text": [
      "PART_1483496885531519.jpg\n"
     ]
    },
    {
     "name": "stderr",
     "output_type": "stream",
     "text": [
      "\n",
      "image 1/1 /home/ishant/Desktop/KeypointModelTest/New_test_img_2/images/PART_3561229220430928.jpg: 384x640 1 car, 73.6ms\n",
      "Speed: 2.4ms preprocess, 73.6ms inference, 0.9ms postprocess per image at shape (1, 3, 384, 640)\n"
     ]
    },
    {
     "name": "stdout",
     "output_type": "stream",
     "text": [
      "PART_3561229220430928.jpg\n"
     ]
    },
    {
     "name": "stderr",
     "output_type": "stream",
     "text": [
      "\n",
      "image 1/1 /home/ishant/Desktop/KeypointModelTest/New_test_img_2/images/part1600168535186414285141985.jpg: 480x640 1 car, 85.6ms\n",
      "Speed: 3.6ms preprocess, 85.6ms inference, 0.7ms postprocess per image at shape (1, 3, 480, 640)\n"
     ]
    },
    {
     "name": "stdout",
     "output_type": "stream",
     "text": [
      "part1600168535186414285141985.jpg\n"
     ]
    },
    {
     "name": "stderr",
     "output_type": "stream",
     "text": [
      "\n",
      "image 1/1 /home/ishant/Desktop/KeypointModelTest/New_test_img_2/images/part160016883371158994760719.jpg: 384x640 1 car, 76.4ms\n",
      "Speed: 2.5ms preprocess, 76.4ms inference, 0.9ms postprocess per image at shape (1, 3, 384, 640)\n"
     ]
    },
    {
     "name": "stdout",
     "output_type": "stream",
     "text": [
      "part160016883371158994760719.jpg\n"
     ]
    },
    {
     "name": "stderr",
     "output_type": "stream",
     "text": [
      "\n",
      "image 1/1 /home/ishant/Desktop/KeypointModelTest/New_test_img_2/images/PART_1478134314872619.jpg: 480x640 1 car, 94.7ms\n",
      "Speed: 3.0ms preprocess, 94.7ms inference, 1.1ms postprocess per image at shape (1, 3, 480, 640)\n"
     ]
    },
    {
     "name": "stdout",
     "output_type": "stream",
     "text": [
      "PART_1478134314872619.jpg\n"
     ]
    },
    {
     "name": "stderr",
     "output_type": "stream",
     "text": [
      "\n",
      "image 1/1 /home/ishant/Desktop/KeypointModelTest/New_test_img_2/images/PART_3496373593011785.jpg: 320x640 1 car, 64.5ms\n",
      "Speed: 2.2ms preprocess, 64.5ms inference, 0.8ms postprocess per image at shape (1, 3, 320, 640)\n"
     ]
    },
    {
     "name": "stdout",
     "output_type": "stream",
     "text": [
      "PART_3496373593011785.jpg\n"
     ]
    },
    {
     "name": "stderr",
     "output_type": "stream",
     "text": [
      "\n",
      "image 1/1 /home/ishant/Desktop/KeypointModelTest/New_test_img_2/images/PART_1477414637212916.jpg: 480x640 1 car, 110.9ms\n",
      "Speed: 3.2ms preprocess, 110.9ms inference, 1.1ms postprocess per image at shape (1, 3, 480, 640)\n"
     ]
    },
    {
     "name": "stdout",
     "output_type": "stream",
     "text": [
      "PART_1477414637212916.jpg\n"
     ]
    },
    {
     "name": "stderr",
     "output_type": "stream",
     "text": [
      "\n",
      "image 1/1 /home/ishant/Desktop/KeypointModelTest/New_test_img_2/images/part1600168313507412441456967.jpg: 480x640 1 car, 89.3ms\n",
      "Speed: 3.0ms preprocess, 89.3ms inference, 0.9ms postprocess per image at shape (1, 3, 480, 640)\n"
     ]
    },
    {
     "name": "stdout",
     "output_type": "stream",
     "text": [
      "part1600168313507412441456967.jpg\n"
     ]
    },
    {
     "name": "stderr",
     "output_type": "stream",
     "text": [
      "\n",
      "image 1/1 /home/ishant/Desktop/KeypointModelTest/New_test_img_2/images/PART_1481117392640398.jpg: 480x640 1 car, 93.9ms\n",
      "Speed: 2.6ms preprocess, 93.9ms inference, 1.1ms postprocess per image at shape (1, 3, 480, 640)\n"
     ]
    },
    {
     "name": "stdout",
     "output_type": "stream",
     "text": [
      "PART_1481117392640398.jpg\n"
     ]
    },
    {
     "name": "stderr",
     "output_type": "stream",
     "text": [
      "\n",
      "image 1/1 /home/ishant/Desktop/KeypointModelTest/New_test_img_2/images/PART_1480147557590644.jpg: 384x640 1 car, 64.1ms\n",
      "Speed: 3.6ms preprocess, 64.1ms inference, 0.9ms postprocess per image at shape (1, 3, 384, 640)\n"
     ]
    },
    {
     "name": "stdout",
     "output_type": "stream",
     "text": [
      "PART_1480147557590644.jpg\n"
     ]
    },
    {
     "name": "stderr",
     "output_type": "stream",
     "text": [
      "\n",
      "image 1/1 /home/ishant/Desktop/KeypointModelTest/New_test_img_2/images/PART_4411723625968720.jpg: 480x640 1 car, 88.1ms\n",
      "Speed: 2.8ms preprocess, 88.1ms inference, 1.1ms postprocess per image at shape (1, 3, 480, 640)\n"
     ]
    },
    {
     "name": "stdout",
     "output_type": "stream",
     "text": [
      "PART_4411723625968720.jpg\n"
     ]
    },
    {
     "name": "stderr",
     "output_type": "stream",
     "text": [
      "\n",
      "image 1/1 /home/ishant/Desktop/KeypointModelTest/New_test_img_2/images/PART_1479099483545485.jpg: 480x640 1 car, 87.2ms\n",
      "Speed: 3.4ms preprocess, 87.2ms inference, 0.8ms postprocess per image at shape (1, 3, 480, 640)\n"
     ]
    },
    {
     "name": "stdout",
     "output_type": "stream",
     "text": [
      "PART_1479099483545485.jpg\n"
     ]
    },
    {
     "name": "stderr",
     "output_type": "stream",
     "text": [
      "\n",
      "image 1/1 /home/ishant/Desktop/KeypointModelTest/New_test_img_2/images/PART_1483923120256926.jpg: 512x640 1 car, 90.6ms\n",
      "Speed: 2.9ms preprocess, 90.6ms inference, 2.6ms postprocess per image at shape (1, 3, 512, 640)\n"
     ]
    },
    {
     "name": "stdout",
     "output_type": "stream",
     "text": [
      "PART_1483923120256926.jpg\n"
     ]
    },
    {
     "name": "stderr",
     "output_type": "stream",
     "text": [
      "\n",
      "image 1/1 /home/ishant/Desktop/KeypointModelTest/New_test_img_2/images/in161920231119111435-7.jpg: 384x640 1 car, 76.7ms\n",
      "Speed: 2.8ms preprocess, 76.7ms inference, 1.1ms postprocess per image at shape (1, 3, 384, 640)\n"
     ]
    },
    {
     "name": "stdout",
     "output_type": "stream",
     "text": [
      "in161920231119111435-7.jpg\n"
     ]
    },
    {
     "name": "stderr",
     "output_type": "stream",
     "text": [
      "\n",
      "image 1/1 /home/ishant/Desktop/KeypointModelTest/New_test_img_2/images/part160016863579581974467775.jpg: 480x640 1 car, 136.2ms\n",
      "Speed: 9.1ms preprocess, 136.2ms inference, 0.9ms postprocess per image at shape (1, 3, 480, 640)\n"
     ]
    },
    {
     "name": "stdout",
     "output_type": "stream",
     "text": [
      "part160016863579581974467775.jpg\n"
     ]
    },
    {
     "name": "stderr",
     "output_type": "stream",
     "text": [
      "\n",
      "image 1/1 /home/ishant/Desktop/KeypointModelTest/New_test_img_2/images/PART_1480786645946999.jpg: 384x640 1 car, 76.4ms\n",
      "Speed: 3.5ms preprocess, 76.4ms inference, 0.9ms postprocess per image at shape (1, 3, 384, 640)\n"
     ]
    },
    {
     "name": "stdout",
     "output_type": "stream",
     "text": [
      "PART_1480786645946999.jpg\n"
     ]
    },
    {
     "name": "stderr",
     "output_type": "stream",
     "text": [
      "\n",
      "image 1/1 /home/ishant/Desktop/KeypointModelTest/New_test_img_2/images/PART_1484033936623199.jpg: 480x640 1 car, 87.5ms\n",
      "Speed: 3.2ms preprocess, 87.5ms inference, 0.9ms postprocess per image at shape (1, 3, 480, 640)\n"
     ]
    },
    {
     "name": "stdout",
     "output_type": "stream",
     "text": [
      "PART_1484033936623199.jpg\n"
     ]
    },
    {
     "name": "stderr",
     "output_type": "stream",
     "text": [
      "\n",
      "image 1/1 /home/ishant/Desktop/KeypointModelTest/New_test_img_2/images/PART_1478701545065743.jpg: 480x640 1 car, 83.0ms\n",
      "Speed: 6.0ms preprocess, 83.0ms inference, 1.1ms postprocess per image at shape (1, 3, 480, 640)\n"
     ]
    },
    {
     "name": "stdout",
     "output_type": "stream",
     "text": [
      "PART_1478701545065743.jpg\n"
     ]
    },
    {
     "name": "stderr",
     "output_type": "stream",
     "text": [
      "\n",
      "image 1/1 /home/ishant/Desktop/KeypointModelTest/New_test_img_2/images/PART_4396074210422407.jpg: 320x640 1 car, 54.2ms\n",
      "Speed: 2.2ms preprocess, 54.2ms inference, 0.8ms postprocess per image at shape (1, 3, 320, 640)\n"
     ]
    },
    {
     "name": "stdout",
     "output_type": "stream",
     "text": [
      "PART_4396074210422407.jpg\n"
     ]
    },
    {
     "name": "stderr",
     "output_type": "stream",
     "text": [
      "\n",
      "image 1/1 /home/ishant/Desktop/KeypointModelTest/New_test_img_2/images/in292820231124100518-3.jpg: 384x640 1 car, 67.1ms\n",
      "Speed: 1.7ms preprocess, 67.1ms inference, 0.7ms postprocess per image at shape (1, 3, 384, 640)\n"
     ]
    },
    {
     "name": "stdout",
     "output_type": "stream",
     "text": [
      "in292820231124100518-3.jpg\n"
     ]
    },
    {
     "name": "stderr",
     "output_type": "stream",
     "text": [
      "\n",
      "image 1/1 /home/ishant/Desktop/KeypointModelTest/New_test_img_2/images/in799620231218081737-7.jpg: 384x640 1 car, 76.8ms\n",
      "Speed: 1.6ms preprocess, 76.8ms inference, 1.2ms postprocess per image at shape (1, 3, 384, 640)\n"
     ]
    },
    {
     "name": "stdout",
     "output_type": "stream",
     "text": [
      "in799620231218081737-7.jpg\n"
     ]
    },
    {
     "name": "stderr",
     "output_type": "stream",
     "text": [
      "\n",
      "image 1/1 /home/ishant/Desktop/KeypointModelTest/New_test_img_2/images/in957620231218121623-3.jpg: 384x640 1 car, 91.8ms\n",
      "Speed: 2.0ms preprocess, 91.8ms inference, 1.0ms postprocess per image at shape (1, 3, 384, 640)\n"
     ]
    },
    {
     "name": "stdout",
     "output_type": "stream",
     "text": [
      "in957620231218121623-3.jpg\n"
     ]
    },
    {
     "name": "stderr",
     "output_type": "stream",
     "text": [
      "\n",
      "image 1/1 /home/ishant/Desktop/KeypointModelTest/New_test_img_2/images/PART_1481724691739913.jpg: 480x640 1 car, 84.5ms\n",
      "Speed: 2.8ms preprocess, 84.5ms inference, 0.9ms postprocess per image at shape (1, 3, 480, 640)\n"
     ]
    },
    {
     "name": "stdout",
     "output_type": "stream",
     "text": [
      "PART_1481724691739913.jpg\n"
     ]
    },
    {
     "name": "stderr",
     "output_type": "stream",
     "text": [
      "\n",
      "image 1/1 /home/ishant/Desktop/KeypointModelTest/New_test_img_2/images/PART_1478705006293172.jpg: 448x640 1 car, 83.4ms\n",
      "Speed: 2.6ms preprocess, 83.4ms inference, 0.8ms postprocess per image at shape (1, 3, 448, 640)\n"
     ]
    },
    {
     "name": "stdout",
     "output_type": "stream",
     "text": [
      "PART_1478705006293172.jpg\n"
     ]
    },
    {
     "name": "stderr",
     "output_type": "stream",
     "text": [
      "\n",
      "image 1/1 /home/ishant/Desktop/KeypointModelTest/New_test_img_2/images/PART_1478630273066489.jpg: 480x640 1 car, 87.9ms\n",
      "Speed: 2.9ms preprocess, 87.9ms inference, 0.9ms postprocess per image at shape (1, 3, 480, 640)\n"
     ]
    },
    {
     "name": "stdout",
     "output_type": "stream",
     "text": [
      "PART_1478630273066489.jpg\n"
     ]
    },
    {
     "name": "stderr",
     "output_type": "stream",
     "text": [
      "\n",
      "image 1/1 /home/ishant/Desktop/KeypointModelTest/New_test_img_2/images/PART_1481478716227158.jpg: 480x640 1 car, 89.8ms\n",
      "Speed: 2.3ms preprocess, 89.8ms inference, 0.9ms postprocess per image at shape (1, 3, 480, 640)\n"
     ]
    },
    {
     "name": "stdout",
     "output_type": "stream",
     "text": [
      "PART_1481478716227158.jpg\n"
     ]
    },
    {
     "name": "stderr",
     "output_type": "stream",
     "text": [
      "\n",
      "image 1/1 /home/ishant/Desktop/KeypointModelTest/New_test_img_2/images/in836320231214150909-2.jpg: 384x640 1 car, 72.7ms\n",
      "Speed: 3.1ms preprocess, 72.7ms inference, 2.2ms postprocess per image at shape (1, 3, 384, 640)\n"
     ]
    },
    {
     "name": "stdout",
     "output_type": "stream",
     "text": [
      "in836320231214150909-2.jpg\n"
     ]
    },
    {
     "name": "stderr",
     "output_type": "stream",
     "text": [
      "\n",
      "image 1/1 /home/ishant/Desktop/KeypointModelTest/New_test_img_2/images/PART_3559026759844316.jpg: 480x640 1 car, 94.9ms\n",
      "Speed: 3.0ms preprocess, 94.9ms inference, 0.9ms postprocess per image at shape (1, 3, 480, 640)\n"
     ]
    },
    {
     "name": "stdout",
     "output_type": "stream",
     "text": [
      "PART_3559026759844316.jpg\n"
     ]
    },
    {
     "name": "stderr",
     "output_type": "stream",
     "text": [
      "\n",
      "image 1/1 /home/ishant/Desktop/KeypointModelTest/New_test_img_2/images/in799620231218081737-6.jpg: 384x640 1 car, 131.4ms\n",
      "Speed: 2.5ms preprocess, 131.4ms inference, 0.8ms postprocess per image at shape (1, 3, 384, 640)\n"
     ]
    },
    {
     "name": "stdout",
     "output_type": "stream",
     "text": [
      "in799620231218081737-6.jpg\n"
     ]
    },
    {
     "name": "stderr",
     "output_type": "stream",
     "text": [
      "\n",
      "image 1/1 /home/ishant/Desktop/KeypointModelTest/New_test_img_2/images/in821820231219130304-3.jpg: 384x640 1 car, 77.4ms\n",
      "Speed: 2.4ms preprocess, 77.4ms inference, 0.8ms postprocess per image at shape (1, 3, 384, 640)\n"
     ]
    },
    {
     "name": "stdout",
     "output_type": "stream",
     "text": [
      "in821820231219130304-3.jpg\n"
     ]
    },
    {
     "name": "stderr",
     "output_type": "stream",
     "text": [
      "\n",
      "image 1/1 /home/ishant/Desktop/KeypointModelTest/New_test_img_2/images/in873320231124095011-6.jpg: 384x640 1 car, 76.0ms\n",
      "Speed: 2.0ms preprocess, 76.0ms inference, 0.8ms postprocess per image at shape (1, 3, 384, 640)\n"
     ]
    },
    {
     "name": "stdout",
     "output_type": "stream",
     "text": [
      "in873320231124095011-6.jpg\n"
     ]
    },
    {
     "name": "stderr",
     "output_type": "stream",
     "text": [
      "\n",
      "image 1/1 /home/ishant/Desktop/KeypointModelTest/New_test_img_2/images/PART_1482832106532585.jpg: 480x640 1 car, 94.2ms\n",
      "Speed: 2.5ms preprocess, 94.2ms inference, 1.2ms postprocess per image at shape (1, 3, 480, 640)\n"
     ]
    },
    {
     "name": "stdout",
     "output_type": "stream",
     "text": [
      "PART_1482832106532585.jpg\n"
     ]
    },
    {
     "name": "stderr",
     "output_type": "stream",
     "text": [
      "\n",
      "image 1/1 /home/ishant/Desktop/KeypointModelTest/New_test_img_2/images/in642120231213085757-7.jpg: 384x640 1 car, 70.0ms\n",
      "Speed: 1.7ms preprocess, 70.0ms inference, 1.0ms postprocess per image at shape (1, 3, 384, 640)\n"
     ]
    },
    {
     "name": "stdout",
     "output_type": "stream",
     "text": [
      "in642120231213085757-7.jpg\n"
     ]
    },
    {
     "name": "stderr",
     "output_type": "stream",
     "text": [
      "\n",
      "image 1/1 /home/ishant/Desktop/KeypointModelTest/New_test_img_2/images/in745620231211145159-7.jpg: 384x640 1 car, 75.7ms\n",
      "Speed: 2.3ms preprocess, 75.7ms inference, 0.9ms postprocess per image at shape (1, 3, 384, 640)\n"
     ]
    },
    {
     "name": "stdout",
     "output_type": "stream",
     "text": [
      "in745620231211145159-7.jpg\n"
     ]
    },
    {
     "name": "stderr",
     "output_type": "stream",
     "text": [
      "\n",
      "image 1/1 /home/ishant/Desktop/KeypointModelTest/New_test_img_2/images/PART_1477607400418254.jpg: 448x640 1 car, 85.2ms\n",
      "Speed: 3.3ms preprocess, 85.2ms inference, 1.0ms postprocess per image at shape (1, 3, 448, 640)\n"
     ]
    },
    {
     "name": "stdout",
     "output_type": "stream",
     "text": [
      "PART_1477607400418254.jpg\n"
     ]
    },
    {
     "name": "stderr",
     "output_type": "stream",
     "text": [
      "\n",
      "image 1/1 /home/ishant/Desktop/KeypointModelTest/New_test_img_2/images/PART_4397024580852166.jpg: 480x640 1 car, 109.6ms\n",
      "Speed: 3.1ms preprocess, 109.6ms inference, 1.0ms postprocess per image at shape (1, 3, 480, 640)\n"
     ]
    },
    {
     "name": "stdout",
     "output_type": "stream",
     "text": [
      "PART_4397024580852166.jpg\n"
     ]
    },
    {
     "name": "stderr",
     "output_type": "stream",
     "text": [
      "\n",
      "image 1/1 /home/ishant/Desktop/KeypointModelTest/New_test_img_2/images/PART_3558690236844843.jpg: 384x640 1 car, 82.0ms\n",
      "Speed: 2.1ms preprocess, 82.0ms inference, 0.8ms postprocess per image at shape (1, 3, 384, 640)\n"
     ]
    },
    {
     "name": "stdout",
     "output_type": "stream",
     "text": [
      "PART_3558690236844843.jpg\n"
     ]
    },
    {
     "name": "stderr",
     "output_type": "stream",
     "text": [
      "\n",
      "image 1/1 /home/ishant/Desktop/KeypointModelTest/New_test_img_2/images/in502720231123120621-6.jpg: 384x640 1 car, 73.6ms\n",
      "Speed: 1.6ms preprocess, 73.6ms inference, 0.8ms postprocess per image at shape (1, 3, 384, 640)\n"
     ]
    },
    {
     "name": "stdout",
     "output_type": "stream",
     "text": [
      "in502720231123120621-6.jpg\n"
     ]
    },
    {
     "name": "stderr",
     "output_type": "stream",
     "text": [
      "\n",
      "image 1/1 /home/ishant/Desktop/KeypointModelTest/New_test_img_2/images/PART_1479759940598498.jpg: 480x640 1 car, 91.5ms\n",
      "Speed: 2.6ms preprocess, 91.5ms inference, 0.8ms postprocess per image at shape (1, 3, 480, 640)\n"
     ]
    },
    {
     "name": "stdout",
     "output_type": "stream",
     "text": [
      "PART_1479759940598498.jpg\n"
     ]
    },
    {
     "name": "stderr",
     "output_type": "stream",
     "text": [
      "\n",
      "image 1/1 /home/ishant/Desktop/KeypointModelTest/New_test_img_2/images/in975420231211105726-2.jpg: 384x640 1 car, 77.1ms\n",
      "Speed: 2.4ms preprocess, 77.1ms inference, 0.8ms postprocess per image at shape (1, 3, 384, 640)\n"
     ]
    },
    {
     "name": "stdout",
     "output_type": "stream",
     "text": [
      "in975420231211105726-2.jpg\n"
     ]
    },
    {
     "name": "stderr",
     "output_type": "stream",
     "text": [
      "\n",
      "image 1/1 /home/ishant/Desktop/KeypointModelTest/New_test_img_2/images/in763620231121114511-3.jpg: 384x640 1 car, 73.5ms\n",
      "Speed: 3.2ms preprocess, 73.5ms inference, 0.9ms postprocess per image at shape (1, 3, 384, 640)\n"
     ]
    },
    {
     "name": "stdout",
     "output_type": "stream",
     "text": [
      "in763620231121114511-3.jpg\n"
     ]
    },
    {
     "name": "stderr",
     "output_type": "stream",
     "text": [
      "\n",
      "image 1/1 /home/ishant/Desktop/KeypointModelTest/New_test_img_2/images/in957620231218121623-8.jpg: 384x640 1 car, 75.4ms\n",
      "Speed: 2.4ms preprocess, 75.4ms inference, 0.7ms postprocess per image at shape (1, 3, 384, 640)\n"
     ]
    },
    {
     "name": "stdout",
     "output_type": "stream",
     "text": [
      "in957620231218121623-8.jpg\n"
     ]
    },
    {
     "name": "stderr",
     "output_type": "stream",
     "text": [
      "\n",
      "image 1/1 /home/ishant/Desktop/KeypointModelTest/New_test_img_2/images/in646920231218133357-8.jpg: 384x640 1 car, 100.9ms\n",
      "Speed: 2.5ms preprocess, 100.9ms inference, 1.0ms postprocess per image at shape (1, 3, 384, 640)\n"
     ]
    },
    {
     "name": "stdout",
     "output_type": "stream",
     "text": [
      "in646920231218133357-8.jpg\n"
     ]
    },
    {
     "name": "stderr",
     "output_type": "stream",
     "text": [
      "\n",
      "image 1/1 /home/ishant/Desktop/KeypointModelTest/New_test_img_2/images/in928020231220093827-6.jpg: 384x640 1 car, 74.7ms\n",
      "Speed: 2.7ms preprocess, 74.7ms inference, 0.9ms postprocess per image at shape (1, 3, 384, 640)\n"
     ]
    },
    {
     "name": "stdout",
     "output_type": "stream",
     "text": [
      "in928020231220093827-6.jpg\n"
     ]
    },
    {
     "name": "stderr",
     "output_type": "stream",
     "text": [
      "\n",
      "image 1/1 /home/ishant/Desktop/KeypointModelTest/New_test_img_2/images/in821820231219130304-1.jpg: 384x640 1 car, 76.9ms\n",
      "Speed: 2.6ms preprocess, 76.9ms inference, 0.8ms postprocess per image at shape (1, 3, 384, 640)\n"
     ]
    },
    {
     "name": "stdout",
     "output_type": "stream",
     "text": [
      "in821820231219130304-1.jpg\n"
     ]
    },
    {
     "name": "stderr",
     "output_type": "stream",
     "text": [
      "\n",
      "image 1/1 /home/ishant/Desktop/KeypointModelTest/New_test_img_2/images/part1600168555366341865634231.jpg: 320x640 1 car, 64.1ms\n",
      "Speed: 2.0ms preprocess, 64.1ms inference, 1.1ms postprocess per image at shape (1, 3, 320, 640)\n"
     ]
    },
    {
     "name": "stdout",
     "output_type": "stream",
     "text": [
      "part1600168555366341865634231.jpg\n"
     ]
    },
    {
     "name": "stderr",
     "output_type": "stream",
     "text": [
      "\n",
      "image 1/1 /home/ishant/Desktop/KeypointModelTest/New_test_img_2/images/PART_1479562395975901.jpg: 480x640 1 car, 90.9ms\n",
      "Speed: 2.8ms preprocess, 90.9ms inference, 1.2ms postprocess per image at shape (1, 3, 480, 640)\n"
     ]
    },
    {
     "name": "stdout",
     "output_type": "stream",
     "text": [
      "PART_1479562395975901.jpg\n"
     ]
    },
    {
     "name": "stderr",
     "output_type": "stream",
     "text": [
      "\n",
      "image 1/1 /home/ishant/Desktop/KeypointModelTest/New_test_img_2/images/in779120231119152124-6.jpg: 384x640 1 car, 73.6ms\n",
      "Speed: 2.6ms preprocess, 73.6ms inference, 0.9ms postprocess per image at shape (1, 3, 384, 640)\n"
     ]
    },
    {
     "name": "stdout",
     "output_type": "stream",
     "text": [
      "in779120231119152124-6.jpg\n"
     ]
    },
    {
     "name": "stderr",
     "output_type": "stream",
     "text": [
      "\n",
      "image 1/1 /home/ishant/Desktop/KeypointModelTest/New_test_img_2/images/part1600168503074404727423169.jpg: 480x640 1 car, 87.3ms\n",
      "Speed: 2.6ms preprocess, 87.3ms inference, 1.2ms postprocess per image at shape (1, 3, 480, 640)\n"
     ]
    },
    {
     "name": "stdout",
     "output_type": "stream",
     "text": [
      "part1600168503074404727423169.jpg\n"
     ]
    },
    {
     "name": "stderr",
     "output_type": "stream",
     "text": [
      "\n",
      "image 1/1 /home/ishant/Desktop/KeypointModelTest/New_test_img_2/images/in755420231116153659-5.jpg: 384x640 1 car, 135.4ms\n",
      "Speed: 2.7ms preprocess, 135.4ms inference, 1.1ms postprocess per image at shape (1, 3, 384, 640)\n"
     ]
    },
    {
     "name": "stdout",
     "output_type": "stream",
     "text": [
      "in755420231116153659-5.jpg\n"
     ]
    },
    {
     "name": "stderr",
     "output_type": "stream",
     "text": [
      "\n",
      "image 1/1 /home/ishant/Desktop/KeypointModelTest/New_test_img_2/images/PART_1481672883470520.jpg: 480x640 1 car, 88.9ms\n",
      "Speed: 2.5ms preprocess, 88.9ms inference, 0.8ms postprocess per image at shape (1, 3, 480, 640)\n"
     ]
    },
    {
     "name": "stdout",
     "output_type": "stream",
     "text": [
      "PART_1481672883470520.jpg\n"
     ]
    },
    {
     "name": "stderr",
     "output_type": "stream",
     "text": [
      "\n",
      "image 1/1 /home/ishant/Desktop/KeypointModelTest/New_test_img_2/images/PART_1478486328015152.jpg: 480x640 1 car, 78.9ms\n",
      "Speed: 3.4ms preprocess, 78.9ms inference, 0.8ms postprocess per image at shape (1, 3, 480, 640)\n"
     ]
    },
    {
     "name": "stdout",
     "output_type": "stream",
     "text": [
      "PART_1478486328015152.jpg\n"
     ]
    },
    {
     "name": "stderr",
     "output_type": "stream",
     "text": [
      "\n",
      "image 1/1 /home/ishant/Desktop/KeypointModelTest/New_test_img_2/images/in779120231119152124-7.jpg: 384x640 1 car, 72.3ms\n",
      "Speed: 2.7ms preprocess, 72.3ms inference, 0.9ms postprocess per image at shape (1, 3, 384, 640)\n"
     ]
    },
    {
     "name": "stdout",
     "output_type": "stream",
     "text": [
      "in779120231119152124-7.jpg\n"
     ]
    },
    {
     "name": "stderr",
     "output_type": "stream",
     "text": [
      "\n",
      "image 1/1 /home/ishant/Desktop/KeypointModelTest/New_test_img_2/images/in928020231220093827-1.jpg: 384x640 1 car, 78.4ms\n",
      "Speed: 2.4ms preprocess, 78.4ms inference, 0.9ms postprocess per image at shape (1, 3, 384, 640)\n"
     ]
    },
    {
     "name": "stdout",
     "output_type": "stream",
     "text": [
      "in928020231220093827-1.jpg\n"
     ]
    },
    {
     "name": "stderr",
     "output_type": "stream",
     "text": [
      "\n",
      "image 1/1 /home/ishant/Desktop/KeypointModelTest/New_test_img_2/images/in292820231124100518-6.jpg: 384x640 1 car, 75.2ms\n",
      "Speed: 2.4ms preprocess, 75.2ms inference, 1.1ms postprocess per image at shape (1, 3, 384, 640)\n"
     ]
    },
    {
     "name": "stdout",
     "output_type": "stream",
     "text": [
      "in292820231124100518-6.jpg\n"
     ]
    },
    {
     "name": "stderr",
     "output_type": "stream",
     "text": [
      "\n",
      "image 1/1 /home/ishant/Desktop/KeypointModelTest/New_test_img_2/images/in642120231213085757-1.jpg: 384x640 1 car, 73.4ms\n",
      "Speed: 1.8ms preprocess, 73.4ms inference, 0.9ms postprocess per image at shape (1, 3, 384, 640)\n"
     ]
    },
    {
     "name": "stdout",
     "output_type": "stream",
     "text": [
      "in642120231213085757-1.jpg\n"
     ]
    },
    {
     "name": "stderr",
     "output_type": "stream",
     "text": [
      "\n",
      "image 1/1 /home/ishant/Desktop/KeypointModelTest/New_test_img_2/images/in265220231119103239-3.jpg: 384x640 1 car, 91.7ms\n",
      "Speed: 2.6ms preprocess, 91.7ms inference, 0.9ms postprocess per image at shape (1, 3, 384, 640)\n"
     ]
    },
    {
     "name": "stdout",
     "output_type": "stream",
     "text": [
      "in265220231119103239-3.jpg\n"
     ]
    },
    {
     "name": "stderr",
     "output_type": "stream",
     "text": [
      "\n",
      "image 1/1 /home/ishant/Desktop/KeypointModelTest/New_test_img_2/images/part160016850320663952748547.jpg: 480x640 1 car, 81.9ms\n",
      "Speed: 2.5ms preprocess, 81.9ms inference, 1.0ms postprocess per image at shape (1, 3, 480, 640)\n"
     ]
    },
    {
     "name": "stdout",
     "output_type": "stream",
     "text": [
      "part160016850320663952748547.jpg\n"
     ]
    },
    {
     "name": "stderr",
     "output_type": "stream",
     "text": [
      "\n",
      "image 1/1 /home/ishant/Desktop/KeypointModelTest/New_test_img_2/images/in826820231213123248-2.jpg: 384x640 1 car, 75.9ms\n",
      "Speed: 2.5ms preprocess, 75.9ms inference, 1.0ms postprocess per image at shape (1, 3, 384, 640)\n"
     ]
    },
    {
     "name": "stdout",
     "output_type": "stream",
     "text": [
      "in826820231213123248-2.jpg\n"
     ]
    },
    {
     "name": "stderr",
     "output_type": "stream",
     "text": [
      "\n",
      "image 1/1 /home/ishant/Desktop/KeypointModelTest/New_test_img_2/images/in755420231116153659-7.jpg: 384x640 1 car, 70.1ms\n",
      "Speed: 2.0ms preprocess, 70.1ms inference, 0.7ms postprocess per image at shape (1, 3, 384, 640)\n"
     ]
    },
    {
     "name": "stdout",
     "output_type": "stream",
     "text": [
      "in755420231116153659-7.jpg\n"
     ]
    },
    {
     "name": "stderr",
     "output_type": "stream",
     "text": [
      "\n",
      "image 1/1 /home/ishant/Desktop/KeypointModelTest/New_test_img_2/images/PART_1483040902570112.jpg: 512x640 1 car, 97.4ms\n",
      "Speed: 3.2ms preprocess, 97.4ms inference, 0.8ms postprocess per image at shape (1, 3, 512, 640)\n"
     ]
    },
    {
     "name": "stdout",
     "output_type": "stream",
     "text": [
      "PART_1483040902570112.jpg\n"
     ]
    },
    {
     "name": "stderr",
     "output_type": "stream",
     "text": [
      "\n",
      "image 1/1 /home/ishant/Desktop/KeypointModelTest/New_test_img_2/images/part1600168748451614186364646.jpg: 480x640 1 car, 94.6ms\n",
      "Speed: 2.8ms preprocess, 94.6ms inference, 0.8ms postprocess per image at shape (1, 3, 480, 640)\n"
     ]
    },
    {
     "name": "stdout",
     "output_type": "stream",
     "text": [
      "part1600168748451614186364646.jpg\n"
     ]
    },
    {
     "name": "stderr",
     "output_type": "stream",
     "text": [
      "\n",
      "image 1/1 /home/ishant/Desktop/KeypointModelTest/New_test_img_2/images/PART_4409875392172994.jpg: 480x640 1 car, 110.3ms\n",
      "Speed: 2.7ms preprocess, 110.3ms inference, 1.2ms postprocess per image at shape (1, 3, 480, 640)\n"
     ]
    },
    {
     "name": "stdout",
     "output_type": "stream",
     "text": [
      "PART_4409875392172994.jpg\n"
     ]
    },
    {
     "name": "stderr",
     "output_type": "stream",
     "text": [
      "\n",
      "image 1/1 /home/ishant/Desktop/KeypointModelTest/New_test_img_2/images/PART_1481902021627340.jpg: 480x640 1 car, 91.2ms\n",
      "Speed: 3.0ms preprocess, 91.2ms inference, 1.0ms postprocess per image at shape (1, 3, 480, 640)\n"
     ]
    },
    {
     "name": "stdout",
     "output_type": "stream",
     "text": [
      "PART_1481902021627340.jpg\n"
     ]
    },
    {
     "name": "stderr",
     "output_type": "stream",
     "text": [
      "\n",
      "image 1/1 /home/ishant/Desktop/KeypointModelTest/New_test_img_2/images/PART_3564205062841876.jpg: 480x640 1 car, 89.3ms\n",
      "Speed: 4.1ms preprocess, 89.3ms inference, 1.1ms postprocess per image at shape (1, 3, 480, 640)\n"
     ]
    },
    {
     "name": "stdout",
     "output_type": "stream",
     "text": [
      "PART_3564205062841876.jpg\n"
     ]
    },
    {
     "name": "stderr",
     "output_type": "stream",
     "text": [
      "\n",
      "image 1/1 /home/ishant/Desktop/KeypointModelTest/New_test_img_2/images/PART_1480211880582672.jpg: 480x640 1 car, 83.3ms\n",
      "Speed: 2.6ms preprocess, 83.3ms inference, 1.1ms postprocess per image at shape (1, 3, 480, 640)\n"
     ]
    },
    {
     "name": "stdout",
     "output_type": "stream",
     "text": [
      "PART_1480211880582672.jpg\n"
     ]
    },
    {
     "name": "stderr",
     "output_type": "stream",
     "text": [
      "\n",
      "image 1/1 /home/ishant/Desktop/KeypointModelTest/New_test_img_2/images/in243120231121121717-8.jpg: 384x640 1 car, 71.4ms\n",
      "Speed: 2.0ms preprocess, 71.4ms inference, 0.9ms postprocess per image at shape (1, 3, 384, 640)\n"
     ]
    },
    {
     "name": "stdout",
     "output_type": "stream",
     "text": [
      "in243120231121121717-8.jpg\n"
     ]
    },
    {
     "name": "stderr",
     "output_type": "stream",
     "text": [
      "\n",
      "image 1/1 /home/ishant/Desktop/KeypointModelTest/New_test_img_2/images/in292820231124100518-5.jpg: 384x640 1 car, 75.7ms\n",
      "Speed: 2.2ms preprocess, 75.7ms inference, 0.7ms postprocess per image at shape (1, 3, 384, 640)\n"
     ]
    },
    {
     "name": "stdout",
     "output_type": "stream",
     "text": [
      "in292820231124100518-5.jpg\n"
     ]
    },
    {
     "name": "stderr",
     "output_type": "stream",
     "text": [
      "\n",
      "image 1/1 /home/ishant/Desktop/KeypointModelTest/New_test_img_2/images/in826820231213123248-6.jpg: 384x640 1 car, 72.2ms\n",
      "Speed: 1.7ms preprocess, 72.2ms inference, 0.8ms postprocess per image at shape (1, 3, 384, 640)\n"
     ]
    },
    {
     "name": "stdout",
     "output_type": "stream",
     "text": [
      "in826820231213123248-6.jpg\n"
     ]
    },
    {
     "name": "stderr",
     "output_type": "stream",
     "text": [
      "\n",
      "image 1/1 /home/ishant/Desktop/KeypointModelTest/New_test_img_2/images/part160016854286321624513875.jpg: 480x640 1 car, 79.7ms\n",
      "Speed: 3.1ms preprocess, 79.7ms inference, 0.7ms postprocess per image at shape (1, 3, 480, 640)\n"
     ]
    },
    {
     "name": "stdout",
     "output_type": "stream",
     "text": [
      "part160016854286321624513875.jpg\n"
     ]
    },
    {
     "name": "stderr",
     "output_type": "stream",
     "text": [
      "\n",
      "image 1/1 /home/ishant/Desktop/KeypointModelTest/New_test_img_2/images/PART_1479059081086908.jpg: 480x640 1 car, 87.1ms\n",
      "Speed: 35.6ms preprocess, 87.1ms inference, 1.1ms postprocess per image at shape (1, 3, 480, 640)\n"
     ]
    },
    {
     "name": "stdout",
     "output_type": "stream",
     "text": [
      "PART_1479059081086908.jpg\n"
     ]
    },
    {
     "name": "stderr",
     "output_type": "stream",
     "text": [
      "\n",
      "image 1/1 /home/ishant/Desktop/KeypointModelTest/New_test_img_2/images/part1600168366004084637756878.jpg: 480x640 1 car, 70.5ms\n",
      "Speed: 3.2ms preprocess, 70.5ms inference, 1.1ms postprocess per image at shape (1, 3, 480, 640)\n"
     ]
    },
    {
     "name": "stdout",
     "output_type": "stream",
     "text": [
      "part1600168366004084637756878.jpg\n"
     ]
    },
    {
     "name": "stderr",
     "output_type": "stream",
     "text": [
      "\n",
      "image 1/1 /home/ishant/Desktop/KeypointModelTest/New_test_img_2/images/in755420231116153659-6.jpg: 384x640 1 car, 71.9ms\n",
      "Speed: 2.1ms preprocess, 71.9ms inference, 0.8ms postprocess per image at shape (1, 3, 384, 640)\n"
     ]
    },
    {
     "name": "stdout",
     "output_type": "stream",
     "text": [
      "in755420231116153659-6.jpg\n"
     ]
    },
    {
     "name": "stderr",
     "output_type": "stream",
     "text": [
      "\n",
      "image 1/1 /home/ishant/Desktop/KeypointModelTest/New_test_img_2/images/in821820231219130304-6.jpg: 384x640 1 car, 71.0ms\n",
      "Speed: 1.6ms preprocess, 71.0ms inference, 0.8ms postprocess per image at shape (1, 3, 384, 640)\n"
     ]
    },
    {
     "name": "stdout",
     "output_type": "stream",
     "text": [
      "in821820231219130304-6.jpg\n"
     ]
    },
    {
     "name": "stderr",
     "output_type": "stream",
     "text": [
      "\n",
      "image 1/1 /home/ishant/Desktop/KeypointModelTest/New_test_img_2/images/PART_1481593495821827.jpg: 480x640 1 car, 83.5ms\n",
      "Speed: 3.7ms preprocess, 83.5ms inference, 0.8ms postprocess per image at shape (1, 3, 480, 640)\n"
     ]
    },
    {
     "name": "stdout",
     "output_type": "stream",
     "text": [
      "PART_1481593495821827.jpg\n"
     ]
    },
    {
     "name": "stderr",
     "output_type": "stream",
     "text": [
      "\n",
      "image 1/1 /home/ishant/Desktop/KeypointModelTest/New_test_img_2/images/in411620231220133737-5.jpg: 384x640 1 car, 75.2ms\n",
      "Speed: 1.7ms preprocess, 75.2ms inference, 0.8ms postprocess per image at shape (1, 3, 384, 640)\n"
     ]
    },
    {
     "name": "stdout",
     "output_type": "stream",
     "text": [
      "in411620231220133737-5.jpg\n"
     ]
    },
    {
     "name": "stderr",
     "output_type": "stream",
     "text": [
      "\n",
      "image 1/1 /home/ishant/Desktop/KeypointModelTest/New_test_img_2/images/PART_1478329502958288.jpg: 480x640 1 car, 130.1ms\n",
      "Speed: 3.4ms preprocess, 130.1ms inference, 0.8ms postprocess per image at shape (1, 3, 480, 640)\n"
     ]
    },
    {
     "name": "stdout",
     "output_type": "stream",
     "text": [
      "PART_1478329502958288.jpg\n"
     ]
    },
    {
     "name": "stderr",
     "output_type": "stream",
     "text": [
      "\n",
      "image 1/1 /home/ishant/Desktop/KeypointModelTest/New_test_img_2/images/PART_3560027113760653.jpg: 480x640 1 car, 81.6ms\n",
      "Speed: 2.9ms preprocess, 81.6ms inference, 0.9ms postprocess per image at shape (1, 3, 480, 640)\n"
     ]
    },
    {
     "name": "stdout",
     "output_type": "stream",
     "text": [
      "PART_3560027113760653.jpg\n"
     ]
    },
    {
     "name": "stderr",
     "output_type": "stream",
     "text": [
      "\n",
      "image 1/1 /home/ishant/Desktop/KeypointModelTest/New_test_img_2/images/in763620231121114511-7.jpg: 384x640 1 car, 68.4ms\n",
      "Speed: 1.8ms preprocess, 68.4ms inference, 1.4ms postprocess per image at shape (1, 3, 384, 640)\n"
     ]
    },
    {
     "name": "stdout",
     "output_type": "stream",
     "text": [
      "in763620231121114511-7.jpg\n"
     ]
    },
    {
     "name": "stderr",
     "output_type": "stream",
     "text": [
      "\n",
      "image 1/1 /home/ishant/Desktop/KeypointModelTest/New_test_img_2/images/in826820231213123248-5.jpg: 384x640 1 car, 60.9ms\n",
      "Speed: 2.4ms preprocess, 60.9ms inference, 0.8ms postprocess per image at shape (1, 3, 384, 640)\n"
     ]
    },
    {
     "name": "stdout",
     "output_type": "stream",
     "text": [
      "in826820231213123248-5.jpg\n"
     ]
    },
    {
     "name": "stderr",
     "output_type": "stream",
     "text": [
      "\n",
      "image 1/1 /home/ishant/Desktop/KeypointModelTest/New_test_img_2/images/PART_1480293754514517.jpg: 480x640 1 car, 82.5ms\n",
      "Speed: 2.9ms preprocess, 82.5ms inference, 0.9ms postprocess per image at shape (1, 3, 480, 640)\n"
     ]
    },
    {
     "name": "stdout",
     "output_type": "stream",
     "text": [
      "PART_1480293754514517.jpg\n"
     ]
    },
    {
     "name": "stderr",
     "output_type": "stream",
     "text": [
      "\n",
      "image 1/1 /home/ishant/Desktop/KeypointModelTest/New_test_img_2/images/in836320231214150909-6.jpg: 384x640 1 car, 83.4ms\n",
      "Speed: 1.9ms preprocess, 83.4ms inference, 0.9ms postprocess per image at shape (1, 3, 384, 640)\n"
     ]
    },
    {
     "name": "stdout",
     "output_type": "stream",
     "text": [
      "in836320231214150909-6.jpg\n"
     ]
    },
    {
     "name": "stderr",
     "output_type": "stream",
     "text": [
      "\n",
      "image 1/1 /home/ishant/Desktop/KeypointModelTest/New_test_img_2/images/PART_1481446473131123.jpg: 480x640 1 car, 115.9ms\n",
      "Speed: 3.6ms preprocess, 115.9ms inference, 1.1ms postprocess per image at shape (1, 3, 480, 640)\n"
     ]
    },
    {
     "name": "stdout",
     "output_type": "stream",
     "text": [
      "PART_1481446473131123.jpg\n"
     ]
    },
    {
     "name": "stderr",
     "output_type": "stream",
     "text": [
      "\n",
      "image 1/1 /home/ishant/Desktop/KeypointModelTest/New_test_img_2/images/in265220231119103239-2.jpg: 384x640 1 car, 62.2ms\n",
      "Speed: 2.0ms preprocess, 62.2ms inference, 1.0ms postprocess per image at shape (1, 3, 384, 640)\n"
     ]
    },
    {
     "name": "stdout",
     "output_type": "stream",
     "text": [
      "in265220231119103239-2.jpg\n"
     ]
    },
    {
     "name": "stderr",
     "output_type": "stream",
     "text": [
      "\n",
      "image 1/1 /home/ishant/Desktop/KeypointModelTest/New_test_img_2/images/PART_1478141726362045.jpg: 480x640 1 car, 85.4ms\n",
      "Speed: 2.7ms preprocess, 85.4ms inference, 0.9ms postprocess per image at shape (1, 3, 480, 640)\n"
     ]
    },
    {
     "name": "stdout",
     "output_type": "stream",
     "text": [
      "PART_1478141726362045.jpg\n"
     ]
    },
    {
     "name": "stderr",
     "output_type": "stream",
     "text": [
      "\n",
      "image 1/1 /home/ishant/Desktop/KeypointModelTest/New_test_img_2/images/in763620231121114511-6.jpg: 384x640 1 car, 64.7ms\n",
      "Speed: 2.4ms preprocess, 64.7ms inference, 1.3ms postprocess per image at shape (1, 3, 384, 640)\n"
     ]
    },
    {
     "name": "stdout",
     "output_type": "stream",
     "text": [
      "in763620231121114511-6.jpg\n"
     ]
    },
    {
     "name": "stderr",
     "output_type": "stream",
     "text": [
      "\n",
      "image 1/1 /home/ishant/Desktop/KeypointModelTest/New_test_img_2/images/in535020231211135109-7.jpg: 384x640 1 car, 68.8ms\n",
      "Speed: 1.9ms preprocess, 68.8ms inference, 0.8ms postprocess per image at shape (1, 3, 384, 640)\n"
     ]
    },
    {
     "name": "stdout",
     "output_type": "stream",
     "text": [
      "in535020231211135109-7.jpg\n"
     ]
    },
    {
     "name": "stderr",
     "output_type": "stream",
     "text": [
      "\n",
      "image 1/1 /home/ishant/Desktop/KeypointModelTest/New_test_img_2/images/in411620231220133737-4.jpg: 384x640 1 car, 69.4ms\n",
      "Speed: 2.0ms preprocess, 69.4ms inference, 0.8ms postprocess per image at shape (1, 3, 384, 640)\n"
     ]
    },
    {
     "name": "stdout",
     "output_type": "stream",
     "text": [
      "in411620231220133737-4.jpg\n"
     ]
    },
    {
     "name": "stderr",
     "output_type": "stream",
     "text": [
      "\n",
      "image 1/1 /home/ishant/Desktop/KeypointModelTest/New_test_img_2/images/part1600168372784216486895332.jpg: 448x640 1 car, 138.5ms\n",
      "Speed: 2.4ms preprocess, 138.5ms inference, 0.9ms postprocess per image at shape (1, 3, 448, 640)\n"
     ]
    },
    {
     "name": "stdout",
     "output_type": "stream",
     "text": [
      "part1600168372784216486895332.jpg\n"
     ]
    },
    {
     "name": "stderr",
     "output_type": "stream",
     "text": [
      "\n",
      "image 1/1 /home/ishant/Desktop/KeypointModelTest/New_test_img_2/images/in535020231211135109-3.jpg: 384x640 1 car, 63.9ms\n",
      "Speed: 2.0ms preprocess, 63.9ms inference, 0.7ms postprocess per image at shape (1, 3, 384, 640)\n"
     ]
    },
    {
     "name": "stdout",
     "output_type": "stream",
     "text": [
      "in535020231211135109-3.jpg\n"
     ]
    },
    {
     "name": "stderr",
     "output_type": "stream",
     "text": [
      "\n",
      "image 1/1 /home/ishant/Desktop/KeypointModelTest/New_test_img_2/images/PART_1477472546470809.jpg: 480x640 1 car, 78.2ms\n",
      "Speed: 2.6ms preprocess, 78.2ms inference, 1.0ms postprocess per image at shape (1, 3, 480, 640)\n"
     ]
    },
    {
     "name": "stdout",
     "output_type": "stream",
     "text": [
      "PART_1477472546470809.jpg\n"
     ]
    },
    {
     "name": "stderr",
     "output_type": "stream",
     "text": [
      "\n",
      "image 1/1 /home/ishant/Desktop/KeypointModelTest/New_test_img_2/images/in243120231121121717-4.jpg: 384x640 1 car, 59.8ms\n",
      "Speed: 1.8ms preprocess, 59.8ms inference, 0.7ms postprocess per image at shape (1, 3, 384, 640)\n"
     ]
    },
    {
     "name": "stdout",
     "output_type": "stream",
     "text": [
      "in243120231121121717-4.jpg\n"
     ]
    },
    {
     "name": "stderr",
     "output_type": "stream",
     "text": [
      "\n",
      "image 1/1 /home/ishant/Desktop/KeypointModelTest/New_test_img_2/images/PART_1483643331452636.jpg: 384x640 1 car, 71.5ms\n",
      "Speed: 2.0ms preprocess, 71.5ms inference, 0.9ms postprocess per image at shape (1, 3, 384, 640)\n"
     ]
    },
    {
     "name": "stdout",
     "output_type": "stream",
     "text": [
      "PART_1483643331452636.jpg\n"
     ]
    },
    {
     "name": "stderr",
     "output_type": "stream",
     "text": [
      "\n",
      "image 1/1 /home/ishant/Desktop/KeypointModelTest/New_test_img_2/images/PART_1479515160134545.jpg: 480x640 1 car, 87.0ms\n",
      "Speed: 2.6ms preprocess, 87.0ms inference, 0.9ms postprocess per image at shape (1, 3, 480, 640)\n"
     ]
    },
    {
     "name": "stdout",
     "output_type": "stream",
     "text": [
      "PART_1479515160134545.jpg\n"
     ]
    },
    {
     "name": "stderr",
     "output_type": "stream",
     "text": [
      "\n",
      "image 1/1 /home/ishant/Desktop/KeypointModelTest/New_test_img_2/images/PART_1482641886229208.jpg: 480x640 1 car, 97.9ms\n",
      "Speed: 3.0ms preprocess, 97.9ms inference, 1.1ms postprocess per image at shape (1, 3, 480, 640)\n"
     ]
    },
    {
     "name": "stdout",
     "output_type": "stream",
     "text": [
      "PART_1482641886229208.jpg\n"
     ]
    },
    {
     "name": "stderr",
     "output_type": "stream",
     "text": [
      "\n",
      "image 1/1 /home/ishant/Desktop/KeypointModelTest/New_test_img_2/images/in779120231119152124-2.jpg: 384x640 2 cars, 74.3ms\n",
      "Speed: 2.1ms preprocess, 74.3ms inference, 0.9ms postprocess per image at shape (1, 3, 384, 640)\n"
     ]
    },
    {
     "name": "stdout",
     "output_type": "stream",
     "text": [
      "in779120231119152124-2.jpg\n"
     ]
    },
    {
     "name": "stderr",
     "output_type": "stream",
     "text": [
      "\n",
      "image 1/1 /home/ishant/Desktop/KeypointModelTest/New_test_img_2/images/PART_1477786870210365.jpg: 480x640 1 car, 83.8ms\n",
      "Speed: 2.6ms preprocess, 83.8ms inference, 1.1ms postprocess per image at shape (1, 3, 480, 640)\n"
     ]
    },
    {
     "name": "stdout",
     "output_type": "stream",
     "text": [
      "PART_1477786870210365.jpg\n"
     ]
    },
    {
     "name": "stderr",
     "output_type": "stream",
     "text": [
      "\n",
      "image 1/1 /home/ishant/Desktop/KeypointModelTest/New_test_img_2/images/in214320231205082545-5.jpg: 384x640 1 car, 66.4ms\n",
      "Speed: 1.8ms preprocess, 66.4ms inference, 0.7ms postprocess per image at shape (1, 3, 384, 640)\n"
     ]
    },
    {
     "name": "stdout",
     "output_type": "stream",
     "text": [
      "in214320231205082545-5.jpg\n"
     ]
    },
    {
     "name": "stderr",
     "output_type": "stream",
     "text": [
      "\n",
      "image 1/1 /home/ishant/Desktop/KeypointModelTest/New_test_img_2/images/PART_1481664768556479.jpg: 448x640 1 car, 76.4ms\n",
      "Speed: 4.0ms preprocess, 76.4ms inference, 1.0ms postprocess per image at shape (1, 3, 448, 640)\n"
     ]
    },
    {
     "name": "stdout",
     "output_type": "stream",
     "text": [
      "PART_1481664768556479.jpg\n"
     ]
    },
    {
     "name": "stderr",
     "output_type": "stream",
     "text": [
      "\n",
      "image 1/1 /home/ishant/Desktop/KeypointModelTest/New_test_img_2/images/PART_1483441612726530.jpg: 320x640 1 car, 57.3ms\n",
      "Speed: 2.2ms preprocess, 57.3ms inference, 1.0ms postprocess per image at shape (1, 3, 320, 640)\n"
     ]
    },
    {
     "name": "stdout",
     "output_type": "stream",
     "text": [
      "PART_1483441612726530.jpg\n"
     ]
    },
    {
     "name": "stderr",
     "output_type": "stream",
     "text": [
      "\n",
      "image 1/1 /home/ishant/Desktop/KeypointModelTest/New_test_img_2/images/in836320231214150909-3.jpg: 384x640 1 car, 71.0ms\n",
      "Speed: 3.2ms preprocess, 71.0ms inference, 0.8ms postprocess per image at shape (1, 3, 384, 640)\n"
     ]
    },
    {
     "name": "stdout",
     "output_type": "stream",
     "text": [
      "in836320231214150909-3.jpg\n"
     ]
    },
    {
     "name": "stderr",
     "output_type": "stream",
     "text": [
      "\n",
      "image 1/1 /home/ishant/Desktop/KeypointModelTest/New_test_img_2/images/part1600169077456680518725884.jpg: 480x640 1 car, 96.9ms\n",
      "Speed: 2.9ms preprocess, 96.9ms inference, 0.9ms postprocess per image at shape (1, 3, 480, 640)\n"
     ]
    },
    {
     "name": "stdout",
     "output_type": "stream",
     "text": [
      "part1600169077456680518725884.jpg\n"
     ]
    },
    {
     "name": "stderr",
     "output_type": "stream",
     "text": [
      "\n",
      "image 1/1 /home/ishant/Desktop/KeypointModelTest/New_test_img_2/images/PART_1483108249233619.jpg: 512x640 1 car, 93.8ms\n",
      "Speed: 2.8ms preprocess, 93.8ms inference, 0.9ms postprocess per image at shape (1, 3, 512, 640)\n"
     ]
    },
    {
     "name": "stdout",
     "output_type": "stream",
     "text": [
      "PART_1483108249233619.jpg\n"
     ]
    },
    {
     "name": "stderr",
     "output_type": "stream",
     "text": [
      "\n",
      "image 1/1 /home/ishant/Desktop/KeypointModelTest/New_test_img_2/images/part1600169090973281685103148.jpg: 480x640 1 car, 85.6ms\n",
      "Speed: 3.4ms preprocess, 85.6ms inference, 0.8ms postprocess per image at shape (1, 3, 480, 640)\n"
     ]
    },
    {
     "name": "stdout",
     "output_type": "stream",
     "text": [
      "part1600169090973281685103148.jpg\n"
     ]
    },
    {
     "name": "stderr",
     "output_type": "stream",
     "text": [
      "\n",
      "image 1/1 /home/ishant/Desktop/KeypointModelTest/New_test_img_2/images/part1600169008038940490818014.jpg: 480x640 1 car, 80.1ms\n",
      "Speed: 4.3ms preprocess, 80.1ms inference, 0.7ms postprocess per image at shape (1, 3, 480, 640)\n"
     ]
    },
    {
     "name": "stdout",
     "output_type": "stream",
     "text": [
      "part1600169008038940490818014.jpg\n"
     ]
    },
    {
     "name": "stderr",
     "output_type": "stream",
     "text": [
      "\n",
      "image 1/1 /home/ishant/Desktop/KeypointModelTest/New_test_img_2/images/rear_right_view-20230803123236.jpeg: 384x640 1 car, 69.7ms\n",
      "Speed: 2.6ms preprocess, 69.7ms inference, 0.8ms postprocess per image at shape (1, 3, 384, 640)\n"
     ]
    },
    {
     "name": "stdout",
     "output_type": "stream",
     "text": [
      "rear_right_view-20230803123236.jpeg\n"
     ]
    },
    {
     "name": "stderr",
     "output_type": "stream",
     "text": [
      "\n",
      "image 1/1 /home/ishant/Desktop/KeypointModelTest/New_test_img_2/images/cover_image-20231008101255.jpg: 384x640 1 car, 67.9ms\n",
      "Speed: 1.7ms preprocess, 67.9ms inference, 0.7ms postprocess per image at shape (1, 3, 384, 640)\n"
     ]
    },
    {
     "name": "stdout",
     "output_type": "stream",
     "text": [
      "cover_image-20231008101255.jpg\n"
     ]
    },
    {
     "name": "stderr",
     "output_type": "stream",
     "text": [
      "\n",
      "image 1/1 /home/ishant/Desktop/KeypointModelTest/New_test_img_2/images/cover_image-20230808130147.jpeg: 384x640 1 car, 68.6ms\n",
      "Speed: 1.7ms preprocess, 68.6ms inference, 0.8ms postprocess per image at shape (1, 3, 384, 640)\n"
     ]
    },
    {
     "name": "stdout",
     "output_type": "stream",
     "text": [
      "cover_image-20230808130147.jpeg\n"
     ]
    },
    {
     "name": "stderr",
     "output_type": "stream",
     "text": [
      "\n",
      "image 1/1 /home/ishant/Desktop/KeypointModelTest/New_test_img_2/images/cover_image-20230922181923.jpeg: 384x640 1 car, 77.3ms\n",
      "Speed: 21.9ms preprocess, 77.3ms inference, 0.8ms postprocess per image at shape (1, 3, 384, 640)\n"
     ]
    },
    {
     "name": "stdout",
     "output_type": "stream",
     "text": [
      "cover_image-20230922181923.jpeg\n"
     ]
    },
    {
     "name": "stderr",
     "output_type": "stream",
     "text": [
      "\n",
      "image 1/1 /home/ishant/Desktop/KeypointModelTest/New_test_img_2/images/front_right_view-20231129110435.jpg: 384x640 1 car, 70.5ms\n",
      "Speed: 2.0ms preprocess, 70.5ms inference, 0.8ms postprocess per image at shape (1, 3, 384, 640)\n"
     ]
    },
    {
     "name": "stdout",
     "output_type": "stream",
     "text": [
      "front_right_view-20231129110435.jpg\n"
     ]
    },
    {
     "name": "stderr",
     "output_type": "stream",
     "text": [
      "\n",
      "image 1/1 /home/ishant/Desktop/KeypointModelTest/New_test_img_2/images/rear_right_view-20230811143949.jpeg: 384x640 1 car, 69.2ms\n",
      "Speed: 1.9ms preprocess, 69.2ms inference, 0.7ms postprocess per image at shape (1, 3, 384, 640)\n"
     ]
    },
    {
     "name": "stdout",
     "output_type": "stream",
     "text": [
      "rear_right_view-20230811143949.jpeg\n"
     ]
    },
    {
     "name": "stderr",
     "output_type": "stream",
     "text": [
      "\n",
      "image 1/1 /home/ishant/Desktop/KeypointModelTest/New_test_img_2/images/front_right_view-20231010184313.jpg: 384x640 1 car, 73.0ms\n",
      "Speed: 2.0ms preprocess, 73.0ms inference, 0.9ms postprocess per image at shape (1, 3, 384, 640)\n"
     ]
    },
    {
     "name": "stdout",
     "output_type": "stream",
     "text": [
      "front_right_view-20231010184313.jpg\n"
     ]
    },
    {
     "name": "stderr",
     "output_type": "stream",
     "text": [
      "\n",
      "image 1/1 /home/ishant/Desktop/KeypointModelTest/New_test_img_2/images/rear_left_view-20231214103426.jpg: 384x640 1 car, 69.1ms\n",
      "Speed: 1.6ms preprocess, 69.1ms inference, 1.1ms postprocess per image at shape (1, 3, 384, 640)\n"
     ]
    },
    {
     "name": "stdout",
     "output_type": "stream",
     "text": [
      "rear_left_view-20231214103426.jpg\n"
     ]
    },
    {
     "name": "stderr",
     "output_type": "stream",
     "text": [
      "\n",
      "image 1/1 /home/ishant/Desktop/KeypointModelTest/New_test_img_2/images/rear_right_view-20230808130415.jpeg: 384x640 1 car, 60.6ms\n",
      "Speed: 2.0ms preprocess, 60.6ms inference, 0.7ms postprocess per image at shape (1, 3, 384, 640)\n"
     ]
    },
    {
     "name": "stdout",
     "output_type": "stream",
     "text": [
      "rear_right_view-20230808130415.jpeg\n"
     ]
    },
    {
     "name": "stderr",
     "output_type": "stream",
     "text": [
      "\n",
      "image 1/1 /home/ishant/Desktop/KeypointModelTest/New_test_img_2/images/rear_right_view-20230611142129.jpg: 384x640 1 car, 72.9ms\n",
      "Speed: 1.9ms preprocess, 72.9ms inference, 1.3ms postprocess per image at shape (1, 3, 384, 640)\n"
     ]
    },
    {
     "name": "stdout",
     "output_type": "stream",
     "text": [
      "rear_right_view-20230611142129.jpg\n"
     ]
    },
    {
     "name": "stderr",
     "output_type": "stream",
     "text": [
      "\n",
      "image 1/1 /home/ishant/Desktop/KeypointModelTest/New_test_img_2/images/rear_left_view-20230910101658.jpg: 384x640 1 car, 88.8ms\n",
      "Speed: 2.1ms preprocess, 88.8ms inference, 0.8ms postprocess per image at shape (1, 3, 384, 640)\n"
     ]
    },
    {
     "name": "stdout",
     "output_type": "stream",
     "text": [
      "rear_left_view-20230910101658.jpg\n"
     ]
    },
    {
     "name": "stderr",
     "output_type": "stream",
     "text": [
      "\n",
      "image 1/1 /home/ishant/Desktop/KeypointModelTest/New_test_img_2/images/cover_image-20231006135947.jpeg: 384x640 1 car, 62.2ms\n",
      "Speed: 2.0ms preprocess, 62.2ms inference, 0.7ms postprocess per image at shape (1, 3, 384, 640)\n"
     ]
    },
    {
     "name": "stdout",
     "output_type": "stream",
     "text": [
      "cover_image-20231006135947.jpeg\n"
     ]
    },
    {
     "name": "stderr",
     "output_type": "stream",
     "text": [
      "\n",
      "image 1/1 /home/ishant/Desktop/KeypointModelTest/New_test_img_2/images/rear_left_view-20231016185751.jpg: 384x640 1 car, 61.5ms\n",
      "Speed: 2.5ms preprocess, 61.5ms inference, 0.7ms postprocess per image at shape (1, 3, 384, 640)\n"
     ]
    },
    {
     "name": "stdout",
     "output_type": "stream",
     "text": [
      "rear_left_view-20231016185751.jpg\n"
     ]
    },
    {
     "name": "stderr",
     "output_type": "stream",
     "text": [
      "\n",
      "image 1/1 /home/ishant/Desktop/KeypointModelTest/New_test_img_2/images/front_right_view-20240103130714.jpg: 384x640 1 car, 62.5ms\n",
      "Speed: 1.8ms preprocess, 62.5ms inference, 1.0ms postprocess per image at shape (1, 3, 384, 640)\n"
     ]
    },
    {
     "name": "stdout",
     "output_type": "stream",
     "text": [
      "front_right_view-20240103130714.jpg\n"
     ]
    },
    {
     "name": "stderr",
     "output_type": "stream",
     "text": [
      "\n",
      "image 1/1 /home/ishant/Desktop/KeypointModelTest/New_test_img_2/images/rear_right_view-20230929231239.jpg: 384x640 1 car, 65.4ms\n",
      "Speed: 2.0ms preprocess, 65.4ms inference, 0.8ms postprocess per image at shape (1, 3, 384, 640)\n"
     ]
    },
    {
     "name": "stdout",
     "output_type": "stream",
     "text": [
      "rear_right_view-20230929231239.jpg\n"
     ]
    },
    {
     "name": "stderr",
     "output_type": "stream",
     "text": [
      "\n",
      "image 1/1 /home/ishant/Desktop/KeypointModelTest/New_test_img_2/images/rear_right_view-20230522160751.jpg: 384x640 1 car, 70.1ms\n",
      "Speed: 1.9ms preprocess, 70.1ms inference, 0.7ms postprocess per image at shape (1, 3, 384, 640)\n"
     ]
    },
    {
     "name": "stdout",
     "output_type": "stream",
     "text": [
      "rear_right_view-20230522160751.jpg\n"
     ]
    },
    {
     "name": "stderr",
     "output_type": "stream",
     "text": [
      "\n",
      "image 1/1 /home/ishant/Desktop/KeypointModelTest/New_test_img_2/images/left_side_view-20231010184240.jpg: 384x640 1 car, 84.1ms\n",
      "Speed: 1.9ms preprocess, 84.1ms inference, 1.6ms postprocess per image at shape (1, 3, 384, 640)\n"
     ]
    },
    {
     "name": "stdout",
     "output_type": "stream",
     "text": [
      "left_side_view-20231010184240.jpg\n"
     ]
    },
    {
     "name": "stderr",
     "output_type": "stream",
     "text": [
      "\n",
      "image 1/1 /home/ishant/Desktop/KeypointModelTest/New_test_img_2/images/cover_image-20231005124746.jpeg: 384x640 1 car, 72.9ms\n",
      "Speed: 3.2ms preprocess, 72.9ms inference, 0.7ms postprocess per image at shape (1, 3, 384, 640)\n"
     ]
    },
    {
     "name": "stdout",
     "output_type": "stream",
     "text": [
      "cover_image-20231005124746.jpeg\n"
     ]
    },
    {
     "name": "stderr",
     "output_type": "stream",
     "text": [
      "\n",
      "image 1/1 /home/ishant/Desktop/KeypointModelTest/New_test_img_2/images/rear_left_view-20230331174028.jpg: 384x640 1 car, 71.4ms\n",
      "Speed: 1.8ms preprocess, 71.4ms inference, 0.8ms postprocess per image at shape (1, 3, 384, 640)\n"
     ]
    },
    {
     "name": "stdout",
     "output_type": "stream",
     "text": [
      "rear_left_view-20230331174028.jpg\n"
     ]
    },
    {
     "name": "stderr",
     "output_type": "stream",
     "text": [
      "\n",
      "image 1/1 /home/ishant/Desktop/KeypointModelTest/New_test_img_2/images/right_side_view-20231121170009.jpg: 384x640 1 car, 73.0ms\n",
      "Speed: 2.0ms preprocess, 73.0ms inference, 0.9ms postprocess per image at shape (1, 3, 384, 640)\n"
     ]
    },
    {
     "name": "stdout",
     "output_type": "stream",
     "text": [
      "right_side_view-20231121170009.jpg\n"
     ]
    },
    {
     "name": "stderr",
     "output_type": "stream",
     "text": [
      "\n",
      "image 1/1 /home/ishant/Desktop/KeypointModelTest/New_test_img_2/images/right_side_view-20230611142059.jpg: 384x640 1 car, 75.5ms\n",
      "Speed: 1.8ms preprocess, 75.5ms inference, 0.7ms postprocess per image at shape (1, 3, 384, 640)\n"
     ]
    },
    {
     "name": "stdout",
     "output_type": "stream",
     "text": [
      "right_side_view-20230611142059.jpg\n"
     ]
    },
    {
     "name": "stderr",
     "output_type": "stream",
     "text": [
      "\n",
      "image 1/1 /home/ishant/Desktop/KeypointModelTest/New_test_img_2/images/left_side_view-20231129104249.jpg: 384x640 1 car, 67.5ms\n",
      "Speed: 1.8ms preprocess, 67.5ms inference, 0.8ms postprocess per image at shape (1, 3, 384, 640)\n"
     ]
    },
    {
     "name": "stdout",
     "output_type": "stream",
     "text": [
      "left_side_view-20231129104249.jpg\n"
     ]
    },
    {
     "name": "stderr",
     "output_type": "stream",
     "text": [
      "\n",
      "image 1/1 /home/ishant/Desktop/KeypointModelTest/New_test_img_2/images/right_side_view-20230519173548.jpeg: 384x640 1 car, 71.5ms\n",
      "Speed: 1.9ms preprocess, 71.5ms inference, 0.9ms postprocess per image at shape (1, 3, 384, 640)\n"
     ]
    },
    {
     "name": "stdout",
     "output_type": "stream",
     "text": [
      "right_side_view-20230519173548.jpeg\n"
     ]
    },
    {
     "name": "stderr",
     "output_type": "stream",
     "text": [
      "\n",
      "image 1/1 /home/ishant/Desktop/KeypointModelTest/New_test_img_2/images/rear_left_view-20230215190012.jpeg: 384x640 1 car, 72.9ms\n",
      "Speed: 2.0ms preprocess, 72.9ms inference, 1.3ms postprocess per image at shape (1, 3, 384, 640)\n"
     ]
    },
    {
     "name": "stdout",
     "output_type": "stream",
     "text": [
      "rear_left_view-20230215190012.jpeg\n"
     ]
    },
    {
     "name": "stderr",
     "output_type": "stream",
     "text": [
      "\n",
      "image 1/1 /home/ishant/Desktop/KeypointModelTest/New_test_img_2/images/rear_left_view-20221104130948.jpeg: 384x640 1 car, 74.9ms\n",
      "Speed: 2.4ms preprocess, 74.9ms inference, 0.8ms postprocess per image at shape (1, 3, 384, 640)\n"
     ]
    },
    {
     "name": "stdout",
     "output_type": "stream",
     "text": [
      "rear_left_view-20221104130948.jpeg\n"
     ]
    },
    {
     "name": "stderr",
     "output_type": "stream",
     "text": [
      "\n",
      "image 1/1 /home/ishant/Desktop/KeypointModelTest/New_test_img_2/images/cover_image-20231219133353.jpeg: 384x640 1 car, 69.3ms\n",
      "Speed: 2.1ms preprocess, 69.3ms inference, 0.7ms postprocess per image at shape (1, 3, 384, 640)\n"
     ]
    },
    {
     "name": "stdout",
     "output_type": "stream",
     "text": [
      "cover_image-20231219133353.jpeg\n"
     ]
    },
    {
     "name": "stderr",
     "output_type": "stream",
     "text": [
      "\n",
      "image 1/1 /home/ishant/Desktop/KeypointModelTest/New_test_img_2/images/left_side_view-20231229091312.jpg: 384x640 1 car, 73.6ms\n",
      "Speed: 1.9ms preprocess, 73.6ms inference, 0.8ms postprocess per image at shape (1, 3, 384, 640)\n"
     ]
    },
    {
     "name": "stdout",
     "output_type": "stream",
     "text": [
      "left_side_view-20231229091312.jpg\n"
     ]
    },
    {
     "name": "stderr",
     "output_type": "stream",
     "text": [
      "\n",
      "image 1/1 /home/ishant/Desktop/KeypointModelTest/New_test_img_2/images/left_side_view-20231129110404.jpg: 384x640 1 car, 67.3ms\n",
      "Speed: 1.6ms preprocess, 67.3ms inference, 0.8ms postprocess per image at shape (1, 3, 384, 640)\n"
     ]
    },
    {
     "name": "stdout",
     "output_type": "stream",
     "text": [
      "left_side_view-20231129110404.jpg\n"
     ]
    },
    {
     "name": "stderr",
     "output_type": "stream",
     "text": [
      "\n",
      "image 1/1 /home/ishant/Desktop/KeypointModelTest/New_test_img_2/images/rear_right_view-20230526143323.jpeg: 384x640 1 car, 67.6ms\n",
      "Speed: 1.6ms preprocess, 67.6ms inference, 1.0ms postprocess per image at shape (1, 3, 384, 640)\n"
     ]
    },
    {
     "name": "stdout",
     "output_type": "stream",
     "text": [
      "rear_right_view-20230526143323.jpeg\n"
     ]
    },
    {
     "name": "stderr",
     "output_type": "stream",
     "text": [
      "\n",
      "image 1/1 /home/ishant/Desktop/KeypointModelTest/New_test_img_2/images/rear_left_view-20240109213150.jpg: 384x640 1 car, 78.5ms\n",
      "Speed: 2.6ms preprocess, 78.5ms inference, 0.9ms postprocess per image at shape (1, 3, 384, 640)\n"
     ]
    },
    {
     "name": "stdout",
     "output_type": "stream",
     "text": [
      "rear_left_view-20240109213150.jpg\n"
     ]
    },
    {
     "name": "stderr",
     "output_type": "stream",
     "text": [
      "\n",
      "image 1/1 /home/ishant/Desktop/KeypointModelTest/New_test_img_2/images/rear_left_view-20231229091423.jpg: 384x640 1 car, 109.9ms\n",
      "Speed: 1.7ms preprocess, 109.9ms inference, 1.1ms postprocess per image at shape (1, 3, 384, 640)\n"
     ]
    },
    {
     "name": "stdout",
     "output_type": "stream",
     "text": [
      "rear_left_view-20231229091423.jpg\n"
     ]
    },
    {
     "name": "stderr",
     "output_type": "stream",
     "text": [
      "\n",
      "image 1/1 /home/ishant/Desktop/KeypointModelTest/New_test_img_2/images/rear_right_view-20230623143227.jpg: 384x640 1 car, 71.0ms\n",
      "Speed: 2.8ms preprocess, 71.0ms inference, 0.7ms postprocess per image at shape (1, 3, 384, 640)\n"
     ]
    },
    {
     "name": "stdout",
     "output_type": "stream",
     "text": [
      "rear_right_view-20230623143227.jpg\n"
     ]
    },
    {
     "name": "stderr",
     "output_type": "stream",
     "text": [
      "\n",
      "image 1/1 /home/ishant/Desktop/KeypointModelTest/New_test_img_2/images/left_side_view-20230903153432.jpg: 384x640 1 car, 73.9ms\n",
      "Speed: 1.8ms preprocess, 73.9ms inference, 0.8ms postprocess per image at shape (1, 3, 384, 640)\n"
     ]
    },
    {
     "name": "stdout",
     "output_type": "stream",
     "text": [
      "left_side_view-20230903153432.jpg\n"
     ]
    },
    {
     "name": "stderr",
     "output_type": "stream",
     "text": [
      "\n",
      "image 1/1 /home/ishant/Desktop/KeypointModelTest/New_test_img_2/images/rear_left_view-20230922182127.jpeg: 384x640 1 car, 68.9ms\n",
      "Speed: 2.0ms preprocess, 68.9ms inference, 0.9ms postprocess per image at shape (1, 3, 384, 640)\n"
     ]
    },
    {
     "name": "stdout",
     "output_type": "stream",
     "text": [
      "rear_left_view-20230922182127.jpeg\n"
     ]
    },
    {
     "name": "stderr",
     "output_type": "stream",
     "text": [
      "\n",
      "image 1/1 /home/ishant/Desktop/KeypointModelTest/New_test_img_2/images/rear_right_view-20231016185803.jpg: 384x640 1 car, 80.8ms\n",
      "Speed: 1.7ms preprocess, 80.8ms inference, 1.0ms postprocess per image at shape (1, 3, 384, 640)\n"
     ]
    },
    {
     "name": "stdout",
     "output_type": "stream",
     "text": [
      "rear_right_view-20231016185803.jpg\n"
     ]
    },
    {
     "name": "stderr",
     "output_type": "stream",
     "text": [
      "\n",
      "image 1/1 /home/ishant/Desktop/KeypointModelTest/New_test_img_2/images/right_side_view-20231008101347.jpg: 384x640 1 car, 72.5ms\n",
      "Speed: 2.0ms preprocess, 72.5ms inference, 0.9ms postprocess per image at shape (1, 3, 384, 640)\n"
     ]
    },
    {
     "name": "stdout",
     "output_type": "stream",
     "text": [
      "right_side_view-20231008101347.jpg\n"
     ]
    },
    {
     "name": "stderr",
     "output_type": "stream",
     "text": [
      "\n",
      "image 1/1 /home/ishant/Desktop/KeypointModelTest/New_test_img_2/images/right_side_view-20230929231204.jpg: 384x640 1 car, 83.2ms\n",
      "Speed: 2.1ms preprocess, 83.2ms inference, 1.3ms postprocess per image at shape (1, 3, 384, 640)\n"
     ]
    },
    {
     "name": "stdout",
     "output_type": "stream",
     "text": [
      "right_side_view-20230929231204.jpg\n"
     ]
    },
    {
     "name": "stderr",
     "output_type": "stream",
     "text": [
      "\n",
      "image 1/1 /home/ishant/Desktop/KeypointModelTest/New_test_img_2/images/rear_right_view-20221221130716.jpg: 384x640 1 car, 69.6ms\n",
      "Speed: 2.4ms preprocess, 69.6ms inference, 0.7ms postprocess per image at shape (1, 3, 384, 640)\n"
     ]
    },
    {
     "name": "stdout",
     "output_type": "stream",
     "text": [
      "rear_right_view-20221221130716.jpg\n"
     ]
    },
    {
     "name": "stderr",
     "output_type": "stream",
     "text": [
      "\n",
      "image 1/1 /home/ishant/Desktop/KeypointModelTest/New_test_img_2/images/right_side_view-20230307161432.jpg: 384x640 1 car, 65.1ms\n",
      "Speed: 1.8ms preprocess, 65.1ms inference, 1.0ms postprocess per image at shape (1, 3, 384, 640)\n"
     ]
    },
    {
     "name": "stdout",
     "output_type": "stream",
     "text": [
      "right_side_view-20230307161432.jpg\n"
     ]
    },
    {
     "name": "stderr",
     "output_type": "stream",
     "text": [
      "\n",
      "image 1/1 /home/ishant/Desktop/KeypointModelTest/New_test_img_2/images/rear_left_view-20230611142123.jpg: 384x640 1 car, 75.8ms\n",
      "Speed: 2.3ms preprocess, 75.8ms inference, 0.8ms postprocess per image at shape (1, 3, 384, 640)\n"
     ]
    },
    {
     "name": "stdout",
     "output_type": "stream",
     "text": [
      "rear_left_view-20230611142123.jpg\n"
     ]
    },
    {
     "name": "stderr",
     "output_type": "stream",
     "text": [
      "\n",
      "image 1/1 /home/ishant/Desktop/KeypointModelTest/New_test_img_2/images/right_side_view-20230111141846.jpeg: 384x640 1 car, 68.1ms\n",
      "Speed: 1.7ms preprocess, 68.1ms inference, 0.7ms postprocess per image at shape (1, 3, 384, 640)\n"
     ]
    },
    {
     "name": "stdout",
     "output_type": "stream",
     "text": [
      "right_side_view-20230111141846.jpeg\n"
     ]
    },
    {
     "name": "stderr",
     "output_type": "stream",
     "text": [
      "\n",
      "image 1/1 /home/ishant/Desktop/KeypointModelTest/New_test_img_2/images/front_right_view-20230215190023.jpeg: 384x640 1 car, 68.9ms\n",
      "Speed: 1.7ms preprocess, 68.9ms inference, 1.0ms postprocess per image at shape (1, 3, 384, 640)\n"
     ]
    },
    {
     "name": "stdout",
     "output_type": "stream",
     "text": [
      "front_right_view-20230215190023.jpeg\n"
     ]
    },
    {
     "name": "stderr",
     "output_type": "stream",
     "text": [
      "\n",
      "image 1/1 /home/ishant/Desktop/KeypointModelTest/New_test_img_2/images/left_side_view-20240111121000.jpg: 384x640 1 car, 67.6ms\n",
      "Speed: 2.7ms preprocess, 67.6ms inference, 0.8ms postprocess per image at shape (1, 3, 384, 640)\n"
     ]
    },
    {
     "name": "stdout",
     "output_type": "stream",
     "text": [
      "left_side_view-20240111121000.jpg\n"
     ]
    },
    {
     "name": "stderr",
     "output_type": "stream",
     "text": [
      "\n",
      "image 1/1 /home/ishant/Desktop/KeypointModelTest/New_test_img_2/images/rear_right_view-20231129104342.jpg: 384x640 1 car, 83.1ms\n",
      "Speed: 2.1ms preprocess, 83.1ms inference, 0.9ms postprocess per image at shape (1, 3, 384, 640)\n"
     ]
    },
    {
     "name": "stdout",
     "output_type": "stream",
     "text": [
      "rear_right_view-20231129104342.jpg\n"
     ]
    },
    {
     "name": "stderr",
     "output_type": "stream",
     "text": [
      "\n",
      "image 1/1 /home/ishant/Desktop/KeypointModelTest/New_test_img_2/images/cover_image-20230331173829.jpg: 384x640 1 car, 78.9ms\n",
      "Speed: 1.7ms preprocess, 78.9ms inference, 1.0ms postprocess per image at shape (1, 3, 384, 640)\n"
     ]
    },
    {
     "name": "stdout",
     "output_type": "stream",
     "text": [
      "cover_image-20230331173829.jpg\n"
     ]
    },
    {
     "name": "stderr",
     "output_type": "stream",
     "text": [
      "\n",
      "image 1/1 /home/ishant/Desktop/KeypointModelTest/New_test_img_2/images/wheels_tyres-20230808130429.jpeg: 384x640 1 car, 69.6ms\n",
      "Speed: 1.7ms preprocess, 69.6ms inference, 0.9ms postprocess per image at shape (1, 3, 384, 640)\n"
     ]
    },
    {
     "name": "stdout",
     "output_type": "stream",
     "text": [
      "wheels_tyres-20230808130429.jpeg\n"
     ]
    },
    {
     "name": "stderr",
     "output_type": "stream",
     "text": [
      "\n",
      "image 1/1 /home/ishant/Desktop/KeypointModelTest/New_test_img_2/images/front_right_view-20230808130406.jpeg: 384x640 1 car, 67.3ms\n",
      "Speed: 1.6ms preprocess, 67.3ms inference, 0.8ms postprocess per image at shape (1, 3, 384, 640)\n"
     ]
    },
    {
     "name": "stdout",
     "output_type": "stream",
     "text": [
      "front_right_view-20230808130406.jpeg\n"
     ]
    },
    {
     "name": "stderr",
     "output_type": "stream",
     "text": [
      "\n",
      "image 1/1 /home/ishant/Desktop/KeypointModelTest/New_test_img_2/images/cover_image-20240109213019.jpg: 384x640 1 car, 60.4ms\n",
      "Speed: 1.6ms preprocess, 60.4ms inference, 0.7ms postprocess per image at shape (1, 3, 384, 640)\n"
     ]
    },
    {
     "name": "stdout",
     "output_type": "stream",
     "text": [
      "cover_image-20240109213019.jpg\n"
     ]
    },
    {
     "name": "stderr",
     "output_type": "stream",
     "text": [
      "\n",
      "image 1/1 /home/ishant/Desktop/KeypointModelTest/New_test_img_2/images/right_side_view-20230623143216.jpg: 384x640 1 car, 67.4ms\n",
      "Speed: 1.6ms preprocess, 67.4ms inference, 0.7ms postprocess per image at shape (1, 3, 384, 640)\n"
     ]
    },
    {
     "name": "stdout",
     "output_type": "stream",
     "text": [
      "right_side_view-20230623143216.jpg\n"
     ]
    },
    {
     "name": "stderr",
     "output_type": "stream",
     "text": [
      "\n",
      "image 1/1 /home/ishant/Desktop/KeypointModelTest/New_test_img_2/images/cover_image-20240103130638.jpg: 384x640 1 car, 132.0ms\n",
      "Speed: 2.5ms preprocess, 132.0ms inference, 1.0ms postprocess per image at shape (1, 3, 384, 640)\n"
     ]
    },
    {
     "name": "stdout",
     "output_type": "stream",
     "text": [
      "cover_image-20240103130638.jpg\n"
     ]
    },
    {
     "name": "stderr",
     "output_type": "stream",
     "text": [
      "\n",
      "image 1/1 /home/ishant/Desktop/KeypointModelTest/New_test_img_2/images/rear_left_view-20230111141859.jpeg: 384x640 1 car, 68.0ms\n",
      "Speed: 2.2ms preprocess, 68.0ms inference, 0.8ms postprocess per image at shape (1, 3, 384, 640)\n"
     ]
    },
    {
     "name": "stdout",
     "output_type": "stream",
     "text": [
      "rear_left_view-20230111141859.jpeg\n"
     ]
    },
    {
     "name": "stderr",
     "output_type": "stream",
     "text": [
      "\n",
      "image 1/1 /home/ishant/Desktop/KeypointModelTest/New_test_img_2/images/right_side_view-20231129104301.jpg: 384x640 1 car, 56.8ms\n",
      "Speed: 1.8ms preprocess, 56.8ms inference, 0.8ms postprocess per image at shape (1, 3, 384, 640)\n"
     ]
    },
    {
     "name": "stdout",
     "output_type": "stream",
     "text": [
      "right_side_view-20231129104301.jpg\n"
     ]
    },
    {
     "name": "stderr",
     "output_type": "stream",
     "text": [
      "\n",
      "image 1/1 /home/ishant/Desktop/KeypointModelTest/New_test_img_2/images/right_side_view-20240103130705.jpg: 384x640 1 car, 70.0ms\n",
      "Speed: 2.9ms preprocess, 70.0ms inference, 0.7ms postprocess per image at shape (1, 3, 384, 640)\n"
     ]
    },
    {
     "name": "stdout",
     "output_type": "stream",
     "text": [
      "right_side_view-20240103130705.jpg\n"
     ]
    },
    {
     "name": "stderr",
     "output_type": "stream",
     "text": [
      "\n",
      "image 1/1 /home/ishant/Desktop/KeypointModelTest/New_test_img_2/images/cover_image-20231010184204.jpg: 384x640 1 car, 69.6ms\n",
      "Speed: 1.7ms preprocess, 69.6ms inference, 0.7ms postprocess per image at shape (1, 3, 384, 640)\n"
     ]
    },
    {
     "name": "stdout",
     "output_type": "stream",
     "text": [
      "cover_image-20231010184204.jpg\n"
     ]
    },
    {
     "name": "stderr",
     "output_type": "stream",
     "text": [
      "\n",
      "image 1/1 /home/ishant/Desktop/KeypointModelTest/New_test_img_2/images/cover_image-20220502122645.jpg: 384x640 1 car, 71.6ms\n",
      "Speed: 1.9ms preprocess, 71.6ms inference, 0.9ms postprocess per image at shape (1, 3, 384, 640)\n"
     ]
    },
    {
     "name": "stdout",
     "output_type": "stream",
     "text": [
      "cover_image-20220502122645.jpg\n"
     ]
    },
    {
     "name": "stderr",
     "output_type": "stream",
     "text": [
      "\n",
      "image 1/1 /home/ishant/Desktop/KeypointModelTest/New_test_img_2/images/rear_left_view-20231129110445.jpg: 384x640 1 car, 135.5ms\n",
      "Speed: 1.9ms preprocess, 135.5ms inference, 0.7ms postprocess per image at shape (1, 3, 384, 640)\n"
     ]
    },
    {
     "name": "stdout",
     "output_type": "stream",
     "text": [
      "rear_left_view-20231129110445.jpg\n"
     ]
    },
    {
     "name": "stderr",
     "output_type": "stream",
     "text": [
      "\n",
      "image 1/1 /home/ishant/Desktop/KeypointModelTest/New_test_img_2/images/rear_left_view-20231129104327.jpg: 384x640 1 car, 73.4ms\n",
      "Speed: 1.8ms preprocess, 73.4ms inference, 0.8ms postprocess per image at shape (1, 3, 384, 640)\n"
     ]
    },
    {
     "name": "stdout",
     "output_type": "stream",
     "text": [
      "rear_left_view-20231129104327.jpg\n"
     ]
    },
    {
     "name": "stderr",
     "output_type": "stream",
     "text": [
      "\n",
      "image 1/1 /home/ishant/Desktop/KeypointModelTest/New_test_img_2/images/front_right_view-20230331173917.jpg: 384x640 1 car, 73.3ms\n",
      "Speed: 2.0ms preprocess, 73.3ms inference, 0.8ms postprocess per image at shape (1, 3, 384, 640)\n"
     ]
    },
    {
     "name": "stdout",
     "output_type": "stream",
     "text": [
      "front_right_view-20230331173917.jpg\n"
     ]
    },
    {
     "name": "stderr",
     "output_type": "stream",
     "text": [
      "\n",
      "image 1/1 /home/ishant/Desktop/KeypointModelTest/New_test_img_2/images/rear_left_view-20231008101403.jpg: 384x640 1 car, 70.1ms\n",
      "Speed: 1.8ms preprocess, 70.1ms inference, 0.8ms postprocess per image at shape (1, 3, 384, 640)\n"
     ]
    },
    {
     "name": "stdout",
     "output_type": "stream",
     "text": [
      "rear_left_view-20231008101403.jpg\n"
     ]
    },
    {
     "name": "stderr",
     "output_type": "stream",
     "text": [
      "\n",
      "image 1/1 /home/ishant/Desktop/KeypointModelTest/New_test_img_2/images/rear_left_view-20230811143930.jpeg: 384x640 1 car, 78.1ms\n",
      "Speed: 1.9ms preprocess, 78.1ms inference, 0.7ms postprocess per image at shape (1, 3, 384, 640)\n"
     ]
    },
    {
     "name": "stdout",
     "output_type": "stream",
     "text": [
      "rear_left_view-20230811143930.jpeg\n"
     ]
    },
    {
     "name": "stderr",
     "output_type": "stream",
     "text": [
      "\n",
      "image 1/1 /home/ishant/Desktop/KeypointModelTest/New_test_img_2/images/left_side_view-20230522160726.jpg: 384x640 1 car, 72.8ms\n",
      "Speed: 2.3ms preprocess, 72.8ms inference, 0.7ms postprocess per image at shape (1, 3, 384, 640)\n"
     ]
    },
    {
     "name": "stdout",
     "output_type": "stream",
     "text": [
      "left_side_view-20230522160726.jpg\n"
     ]
    },
    {
     "name": "stderr",
     "output_type": "stream",
     "text": [
      "\n",
      "image 1/1 /home/ishant/Desktop/KeypointModelTest/New_test_img_2/images/right_side_view-20221224131311.jpeg: 384x640 1 car, 74.3ms\n",
      "Speed: 1.8ms preprocess, 74.3ms inference, 2.2ms postprocess per image at shape (1, 3, 384, 640)\n"
     ]
    },
    {
     "name": "stdout",
     "output_type": "stream",
     "text": [
      "right_side_view-20221224131311.jpeg\n"
     ]
    },
    {
     "name": "stderr",
     "output_type": "stream",
     "text": [
      "\n",
      "image 1/1 /home/ishant/Desktop/KeypointModelTest/New_test_img_2/images/rear_left_view-20230519173630.jpeg: 384x640 1 car, 64.8ms\n",
      "Speed: 2.1ms preprocess, 64.8ms inference, 0.7ms postprocess per image at shape (1, 3, 384, 640)\n"
     ]
    },
    {
     "name": "stdout",
     "output_type": "stream",
     "text": [
      "rear_left_view-20230519173630.jpeg\n"
     ]
    },
    {
     "name": "stderr",
     "output_type": "stream",
     "text": [
      "\n",
      "image 1/1 /home/ishant/Desktop/KeypointModelTest/New_test_img_2/images/right_side_view-20230922182114.jpeg: 384x640 1 car, 64.3ms\n",
      "Speed: 1.7ms preprocess, 64.3ms inference, 0.9ms postprocess per image at shape (1, 3, 384, 640)\n"
     ]
    },
    {
     "name": "stdout",
     "output_type": "stream",
     "text": [
      "right_side_view-20230922182114.jpeg\n"
     ]
    },
    {
     "name": "stderr",
     "output_type": "stream",
     "text": [
      "\n",
      "image 1/1 /home/ishant/Desktop/KeypointModelTest/New_test_img_2/images/rear_left_view-20230522160746.jpg: 384x640 1 car, 73.2ms\n",
      "Speed: 1.8ms preprocess, 73.2ms inference, 0.8ms postprocess per image at shape (1, 3, 384, 640)\n"
     ]
    },
    {
     "name": "stdout",
     "output_type": "stream",
     "text": [
      "rear_left_view-20230522160746.jpg\n"
     ]
    },
    {
     "name": "stderr",
     "output_type": "stream",
     "text": [
      "\n",
      "image 1/1 /home/ishant/Desktop/KeypointModelTest/New_test_img_2/images/rear_left_view-20230531180130.jpg: 384x640 1 car, 61.1ms\n",
      "Speed: 2.3ms preprocess, 61.1ms inference, 0.7ms postprocess per image at shape (1, 3, 384, 640)\n"
     ]
    },
    {
     "name": "stdout",
     "output_type": "stream",
     "text": [
      "rear_left_view-20230531180130.jpg\n"
     ]
    },
    {
     "name": "stderr",
     "output_type": "stream",
     "text": [
      "\n",
      "image 1/1 /home/ishant/Desktop/KeypointModelTest/New_test_img_2/images/left_side_view-20230803123121.jpeg: 384x640 1 car, 73.0ms\n",
      "Speed: 1.8ms preprocess, 73.0ms inference, 0.9ms postprocess per image at shape (1, 3, 384, 640)\n"
     ]
    },
    {
     "name": "stdout",
     "output_type": "stream",
     "text": [
      "left_side_view-20230803123121.jpeg\n"
     ]
    },
    {
     "name": "stderr",
     "output_type": "stream",
     "text": [
      "\n",
      "image 1/1 /home/ishant/Desktop/KeypointModelTest/New_test_img_2/images/rear_left_view-20230331155119.jpeg: 384x640 2 cars, 70.3ms\n",
      "Speed: 2.1ms preprocess, 70.3ms inference, 0.8ms postprocess per image at shape (1, 3, 384, 640)\n"
     ]
    },
    {
     "name": "stdout",
     "output_type": "stream",
     "text": [
      "rear_left_view-20230331155119.jpeg\n"
     ]
    },
    {
     "name": "stderr",
     "output_type": "stream",
     "text": [
      "\n",
      "image 1/1 /home/ishant/Desktop/KeypointModelTest/New_test_img_2/images/cover_image-20210922134927.jpg: 384x640 1 car, 69.5ms\n",
      "Speed: 2.4ms preprocess, 69.5ms inference, 0.8ms postprocess per image at shape (1, 3, 384, 640)\n"
     ]
    },
    {
     "name": "stdout",
     "output_type": "stream",
     "text": [
      "cover_image-20210922134927.jpg\n"
     ]
    },
    {
     "name": "stderr",
     "output_type": "stream",
     "text": [
      "\n",
      "image 1/1 /home/ishant/Desktop/KeypointModelTest/New_test_img_2/images/left_side_view-20231008101326.jpg: 384x640 1 car, 107.0ms\n",
      "Speed: 6.5ms preprocess, 107.0ms inference, 0.7ms postprocess per image at shape (1, 3, 384, 640)\n"
     ]
    },
    {
     "name": "stdout",
     "output_type": "stream",
     "text": [
      "left_side_view-20231008101326.jpg\n"
     ]
    },
    {
     "name": "stderr",
     "output_type": "stream",
     "text": [
      "\n",
      "image 1/1 /home/ishant/Desktop/KeypointModelTest/New_test_img_2/images/front_right_view-20231229091358.jpg: 384x640 1 car, 62.8ms\n",
      "Speed: 1.7ms preprocess, 62.8ms inference, 0.8ms postprocess per image at shape (1, 3, 384, 640)\n"
     ]
    },
    {
     "name": "stdout",
     "output_type": "stream",
     "text": [
      "front_right_view-20231229091358.jpg\n"
     ]
    },
    {
     "name": "stderr",
     "output_type": "stream",
     "text": [
      "\n",
      "image 1/1 /home/ishant/Desktop/KeypointModelTest/New_test_img_2/images/left_side_view-20230531180105.jpg: 384x640 1 car, 65.6ms\n",
      "Speed: 1.8ms preprocess, 65.6ms inference, 0.9ms postprocess per image at shape (1, 3, 384, 640)\n"
     ]
    },
    {
     "name": "stdout",
     "output_type": "stream",
     "text": [
      "left_side_view-20230531180105.jpg\n"
     ]
    },
    {
     "name": "stderr",
     "output_type": "stream",
     "text": [
      "\n",
      "image 1/1 /home/ishant/Desktop/KeypointModelTest/New_test_img_2/images/left_side_view-20230307161424.jpg: 384x640 1 car, 68.4ms\n",
      "Speed: 1.6ms preprocess, 68.4ms inference, 0.9ms postprocess per image at shape (1, 3, 384, 640)\n"
     ]
    },
    {
     "name": "stdout",
     "output_type": "stream",
     "text": [
      "left_side_view-20230307161424.jpg\n"
     ]
    },
    {
     "name": "stderr",
     "output_type": "stream",
     "text": [
      "\n",
      "image 1/1 /home/ishant/Desktop/KeypointModelTest/New_test_img_2/images/rear_left_view-20231219133604.jpeg: 384x640 1 car, 69.6ms\n",
      "Speed: 2.1ms preprocess, 69.6ms inference, 0.7ms postprocess per image at shape (1, 3, 384, 640)\n"
     ]
    },
    {
     "name": "stdout",
     "output_type": "stream",
     "text": [
      "rear_left_view-20231219133604.jpeg\n"
     ]
    },
    {
     "name": "stderr",
     "output_type": "stream",
     "text": [
      "\n",
      "image 1/1 /home/ishant/Desktop/KeypointModelTest/New_test_img_2/images/front_right_view-20230331155111.jpeg: 384x640 1 car, 75.3ms\n",
      "Speed: 1.8ms preprocess, 75.3ms inference, 0.8ms postprocess per image at shape (1, 3, 384, 640)\n"
     ]
    },
    {
     "name": "stdout",
     "output_type": "stream",
     "text": [
      "front_right_view-20230331155111.jpeg\n"
     ]
    },
    {
     "name": "stderr",
     "output_type": "stream",
     "text": [
      "\n",
      "image 1/1 /home/ishant/Desktop/KeypointModelTest/New_test_img_2/images/front_right_view-20230522160738.jpg: 384x640 1 car, 80.3ms\n",
      "Speed: 1.7ms preprocess, 80.3ms inference, 0.9ms postprocess per image at shape (1, 3, 384, 640)\n"
     ]
    },
    {
     "name": "stdout",
     "output_type": "stream",
     "text": [
      "front_right_view-20230522160738.jpg\n"
     ]
    },
    {
     "name": "stderr",
     "output_type": "stream",
     "text": [
      "\n",
      "image 1/1 /home/ishant/Desktop/KeypointModelTest/New_test_img_2/images/front_right_view-20231129104316.jpg: 384x640 1 car, 63.1ms\n",
      "Speed: 3.8ms preprocess, 63.1ms inference, 0.8ms postprocess per image at shape (1, 3, 384, 640)\n"
     ]
    },
    {
     "name": "stdout",
     "output_type": "stream",
     "text": [
      "front_right_view-20231129104316.jpg\n"
     ]
    },
    {
     "name": "stderr",
     "output_type": "stream",
     "text": [
      "\n",
      "image 1/1 /home/ishant/Desktop/KeypointModelTest/New_test_img_2/images/right_side_view-20231214103357.jpg: 384x640 1 car, 59.4ms\n",
      "Speed: 2.0ms preprocess, 59.4ms inference, 1.0ms postprocess per image at shape (1, 3, 384, 640)\n"
     ]
    },
    {
     "name": "stdout",
     "output_type": "stream",
     "text": [
      "right_side_view-20231214103357.jpg\n"
     ]
    },
    {
     "name": "stderr",
     "output_type": "stream",
     "text": [
      "\n",
      "image 1/1 /home/ishant/Desktop/KeypointModelTest/New_test_img_2/images/rear_right_view-20230307161515.jpg: 384x640 1 car, 72.9ms\n",
      "Speed: 2.2ms preprocess, 72.9ms inference, 0.7ms postprocess per image at shape (1, 3, 384, 640)\n"
     ]
    },
    {
     "name": "stdout",
     "output_type": "stream",
     "text": [
      "rear_right_view-20230307161515.jpg\n"
     ]
    },
    {
     "name": "stderr",
     "output_type": "stream",
     "text": [
      "\n",
      "image 1/1 /home/ishant/Desktop/KeypointModelTest/New_test_img_2/images/rear_right_view-20231121170053.jpg: 384x640 1 car, 71.3ms\n",
      "Speed: 1.7ms preprocess, 71.3ms inference, 1.0ms postprocess per image at shape (1, 3, 384, 640)\n"
     ]
    },
    {
     "name": "stdout",
     "output_type": "stream",
     "text": [
      "rear_right_view-20231121170053.jpg\n"
     ]
    },
    {
     "name": "stderr",
     "output_type": "stream",
     "text": [
      "\n",
      "image 1/1 /home/ishant/Desktop/KeypointModelTest/New_test_img_2/images/rear_left_view-20230803123208.jpeg: 384x640 1 car, 69.8ms\n",
      "Speed: 1.9ms preprocess, 69.8ms inference, 0.7ms postprocess per image at shape (1, 3, 384, 640)\n"
     ]
    },
    {
     "name": "stdout",
     "output_type": "stream",
     "text": [
      "rear_left_view-20230803123208.jpeg\n"
     ]
    },
    {
     "name": "stderr",
     "output_type": "stream",
     "text": [
      "\n",
      "image 1/1 /home/ishant/Desktop/KeypointModelTest/New_test_img_2/images/rear_right_view-20220502122742.jpg: 384x640 1 car, 90.1ms\n",
      "Speed: 1.9ms preprocess, 90.1ms inference, 1.2ms postprocess per image at shape (1, 3, 384, 640)\n"
     ]
    },
    {
     "name": "stdout",
     "output_type": "stream",
     "text": [
      "rear_right_view-20220502122742.jpg\n"
     ]
    },
    {
     "name": "stderr",
     "output_type": "stream",
     "text": [
      "\n",
      "image 1/1 /home/ishant/Desktop/KeypointModelTest/New_test_img_2/images/left_side_view-20240103130659.jpg: 384x640 1 car, 74.2ms\n",
      "Speed: 1.9ms preprocess, 74.2ms inference, 0.8ms postprocess per image at shape (1, 3, 384, 640)\n"
     ]
    },
    {
     "name": "stdout",
     "output_type": "stream",
     "text": [
      "left_side_view-20240103130659.jpg\n"
     ]
    },
    {
     "name": "stderr",
     "output_type": "stream",
     "text": [
      "\n",
      "image 1/1 /home/ishant/Desktop/KeypointModelTest/New_test_img_2/images/left_side_view-20221104130944.jpeg: 384x640 1 car, 68.8ms\n",
      "Speed: 2.4ms preprocess, 68.8ms inference, 0.8ms postprocess per image at shape (1, 3, 384, 640)\n"
     ]
    },
    {
     "name": "stdout",
     "output_type": "stream",
     "text": [
      "left_side_view-20221104130944.jpeg\n"
     ]
    },
    {
     "name": "stderr",
     "output_type": "stream",
     "text": [
      "\n",
      "image 1/1 /home/ishant/Desktop/KeypointModelTest/New_test_img_2/images/front_right_view-20231219133614.jpeg: 384x640 1 car, 76.0ms\n",
      "Speed: 1.8ms preprocess, 76.0ms inference, 0.8ms postprocess per image at shape (1, 3, 384, 640)\n"
     ]
    },
    {
     "name": "stdout",
     "output_type": "stream",
     "text": [
      "front_right_view-20231219133614.jpeg\n"
     ]
    },
    {
     "name": "stderr",
     "output_type": "stream",
     "text": [
      "\n",
      "image 1/1 /home/ishant/Desktop/KeypointModelTest/New_test_img_2/images/rear_right_view-20240103130737.jpg: 384x640 1 car, 69.2ms\n",
      "Speed: 1.9ms preprocess, 69.2ms inference, 1.0ms postprocess per image at shape (1, 3, 384, 640)\n"
     ]
    },
    {
     "name": "stdout",
     "output_type": "stream",
     "text": [
      "rear_right_view-20240103130737.jpg\n"
     ]
    },
    {
     "name": "stderr",
     "output_type": "stream",
     "text": [
      "\n",
      "image 1/1 /home/ishant/Desktop/KeypointModelTest/New_test_img_2/images/left_side_view-20230215185956.jpeg: 384x640 1 car, 87.8ms\n",
      "Speed: 2.8ms preprocess, 87.8ms inference, 1.2ms postprocess per image at shape (1, 3, 384, 640)\n"
     ]
    },
    {
     "name": "stdout",
     "output_type": "stream",
     "text": [
      "left_side_view-20230215185956.jpeg\n"
     ]
    },
    {
     "name": "stderr",
     "output_type": "stream",
     "text": [
      "\n",
      "image 1/1 /home/ishant/Desktop/KeypointModelTest/New_test_img_2/images/cover_image-20221104130902.jpeg: 384x640 1 car, 71.0ms\n",
      "Speed: 2.1ms preprocess, 71.0ms inference, 0.7ms postprocess per image at shape (1, 3, 384, 640)\n"
     ]
    },
    {
     "name": "stdout",
     "output_type": "stream",
     "text": [
      "cover_image-20221104130902.jpeg\n"
     ]
    },
    {
     "name": "stderr",
     "output_type": "stream",
     "text": [
      "\n",
      "image 1/1 /home/ishant/Desktop/KeypointModelTest/New_test_img_2/images/rear_left_view-20221221130641.jpg: 384x640 1 car, 68.7ms\n",
      "Speed: 1.7ms preprocess, 68.7ms inference, 0.7ms postprocess per image at shape (1, 3, 384, 640)\n"
     ]
    },
    {
     "name": "stdout",
     "output_type": "stream",
     "text": [
      "rear_left_view-20221221130641.jpg\n"
     ]
    },
    {
     "name": "stderr",
     "output_type": "stream",
     "text": [
      "\n",
      "image 1/1 /home/ishant/Desktop/KeypointModelTest/New_test_img_2/images/cover_image-20231214103315.jpg: 384x640 1 car, 72.7ms\n",
      "Speed: 1.7ms preprocess, 72.7ms inference, 1.1ms postprocess per image at shape (1, 3, 384, 640)\n"
     ]
    },
    {
     "name": "stdout",
     "output_type": "stream",
     "text": [
      "cover_image-20231214103315.jpg\n"
     ]
    },
    {
     "name": "stderr",
     "output_type": "stream",
     "text": [
      "\n",
      "image 1/1 /home/ishant/Desktop/KeypointModelTest/New_test_img_2/images/cover_image-20230526143234.jpeg: 384x640 1 car, 68.7ms\n",
      "Speed: 1.9ms preprocess, 68.7ms inference, 0.8ms postprocess per image at shape (1, 3, 384, 640)\n"
     ]
    },
    {
     "name": "stdout",
     "output_type": "stream",
     "text": [
      "cover_image-20230526143234.jpeg\n"
     ]
    },
    {
     "name": "stderr",
     "output_type": "stream",
     "text": [
      "\n",
      "image 1/1 /home/ishant/Desktop/KeypointModelTest/New_test_img_2/images/right_side_view-20230803123157.jpeg: 384x640 1 car, 61.9ms\n",
      "Speed: 1.7ms preprocess, 61.9ms inference, 0.8ms postprocess per image at shape (1, 3, 384, 640)\n"
     ]
    },
    {
     "name": "stdout",
     "output_type": "stream",
     "text": [
      "right_side_view-20230803123157.jpeg\n"
     ]
    },
    {
     "name": "stderr",
     "output_type": "stream",
     "text": [
      "\n",
      "image 1/1 /home/ishant/Desktop/KeypointModelTest/New_test_img_2/images/front_right_view-20230910101650.jpg: 384x640 1 car, 122.4ms\n",
      "Speed: 1.8ms preprocess, 122.4ms inference, 0.9ms postprocess per image at shape (1, 3, 384, 640)\n"
     ]
    },
    {
     "name": "stdout",
     "output_type": "stream",
     "text": [
      "front_right_view-20230910101650.jpg\n"
     ]
    },
    {
     "name": "stderr",
     "output_type": "stream",
     "text": [
      "\n",
      "image 1/1 /home/ishant/Desktop/KeypointModelTest/New_test_img_2/images/front_right_view-20230611142105.jpg: 384x640 1 car, 66.1ms\n",
      "Speed: 1.9ms preprocess, 66.1ms inference, 0.9ms postprocess per image at shape (1, 3, 384, 640)\n"
     ]
    },
    {
     "name": "stdout",
     "output_type": "stream",
     "text": [
      "front_right_view-20230611142105.jpg\n"
     ]
    },
    {
     "name": "stderr",
     "output_type": "stream",
     "text": [
      "\n",
      "image 1/1 /home/ishant/Desktop/KeypointModelTest/New_test_img_2/images/wheels_tyres-20231219133652.jpeg: 384x640 1 car, 75.6ms\n",
      "Speed: 1.8ms preprocess, 75.6ms inference, 0.9ms postprocess per image at shape (1, 3, 384, 640)\n"
     ]
    },
    {
     "name": "stdout",
     "output_type": "stream",
     "text": [
      "wheels_tyres-20231219133652.jpeg\n"
     ]
    },
    {
     "name": "stderr",
     "output_type": "stream",
     "text": [
      "\n",
      "image 1/1 /home/ishant/Desktop/KeypointModelTest/New_test_img_2/images/cover_image-20221224131231.jpeg: 384x640 1 car, 62.0ms\n",
      "Speed: 2.9ms preprocess, 62.0ms inference, 1.0ms postprocess per image at shape (1, 3, 384, 640)\n"
     ]
    },
    {
     "name": "stdout",
     "output_type": "stream",
     "text": [
      "cover_image-20221224131231.jpeg\n"
     ]
    },
    {
     "name": "stderr",
     "output_type": "stream",
     "text": [
      "\n",
      "image 1/1 /home/ishant/Desktop/KeypointModelTest/New_test_img_2/images/front_right_view-20230903153500.jpg: 384x640 1 car, 69.8ms\n",
      "Speed: 3.0ms preprocess, 69.8ms inference, 0.8ms postprocess per image at shape (1, 3, 384, 640)\n"
     ]
    },
    {
     "name": "stdout",
     "output_type": "stream",
     "text": [
      "front_right_view-20230903153500.jpg\n"
     ]
    },
    {
     "name": "stderr",
     "output_type": "stream",
     "text": [
      "\n",
      "image 1/1 /home/ishant/Desktop/KeypointModelTest/New_test_img_2/images/cover_image-20240111120936.jpg: 384x640 1 car, 66.4ms\n",
      "Speed: 1.6ms preprocess, 66.4ms inference, 0.7ms postprocess per image at shape (1, 3, 384, 640)\n"
     ]
    },
    {
     "name": "stdout",
     "output_type": "stream",
     "text": [
      "cover_image-20240111120936.jpg\n"
     ]
    },
    {
     "name": "stderr",
     "output_type": "stream",
     "text": [
      "\n",
      "image 1/1 /home/ishant/Desktop/KeypointModelTest/New_test_img_2/images/left_side_view-20230922182100.jpeg: 384x640 1 car, 84.9ms\n",
      "Speed: 26.5ms preprocess, 84.9ms inference, 1.1ms postprocess per image at shape (1, 3, 384, 640)\n"
     ]
    },
    {
     "name": "stdout",
     "output_type": "stream",
     "text": [
      "left_side_view-20230922182100.jpeg\n"
     ]
    },
    {
     "name": "stderr",
     "output_type": "stream",
     "text": [
      "\n",
      "image 1/1 /home/ishant/Desktop/KeypointModelTest/New_test_img_2/images/left_side_view-20231102120437.jpg: 384x640 1 car, 73.4ms\n",
      "Speed: 1.6ms preprocess, 73.4ms inference, 0.8ms postprocess per image at shape (1, 3, 384, 640)\n"
     ]
    },
    {
     "name": "stdout",
     "output_type": "stream",
     "text": [
      "left_side_view-20231102120437.jpg\n"
     ]
    },
    {
     "name": "stderr",
     "output_type": "stream",
     "text": [
      "\n",
      "image 1/1 /home/ishant/Desktop/KeypointModelTest/New_test_img_2/images/rear_right_view-20230111141949.jpeg: 384x640 1 car, 73.1ms\n",
      "Speed: 1.9ms preprocess, 73.1ms inference, 0.8ms postprocess per image at shape (1, 3, 384, 640)\n"
     ]
    },
    {
     "name": "stdout",
     "output_type": "stream",
     "text": [
      "rear_right_view-20230111141949.jpeg\n"
     ]
    },
    {
     "name": "stderr",
     "output_type": "stream",
     "text": [
      "\n",
      "image 1/1 /home/ishant/Desktop/KeypointModelTest/New_test_img_2/images/rear_left_view-20230903153516.jpg: 384x640 1 car, 61.1ms\n",
      "Speed: 2.3ms preprocess, 61.1ms inference, 0.7ms postprocess per image at shape (1, 3, 384, 640)\n"
     ]
    },
    {
     "name": "stdout",
     "output_type": "stream",
     "text": [
      "rear_left_view-20230903153516.jpg\n"
     ]
    },
    {
     "name": "stderr",
     "output_type": "stream",
     "text": [
      "\n",
      "image 1/1 /home/ishant/Desktop/KeypointModelTest/New_test_img_2/images/rear_right_view-20231006140120.jpeg: 384x640 1 car, 70.6ms\n",
      "Speed: 1.9ms preprocess, 70.6ms inference, 0.8ms postprocess per image at shape (1, 3, 384, 640)\n"
     ]
    },
    {
     "name": "stdout",
     "output_type": "stream",
     "text": [
      "rear_right_view-20231006140120.jpeg\n"
     ]
    },
    {
     "name": "stderr",
     "output_type": "stream",
     "text": [
      "\n",
      "image 1/1 /home/ishant/Desktop/KeypointModelTest/New_test_img_2/images/rear_left_view-20231121170028.jpg: 384x640 1 car, 64.6ms\n",
      "Speed: 1.7ms preprocess, 64.6ms inference, 0.8ms postprocess per image at shape (1, 3, 384, 640)\n"
     ]
    },
    {
     "name": "stdout",
     "output_type": "stream",
     "text": [
      "rear_left_view-20231121170028.jpg\n"
     ]
    },
    {
     "name": "stderr",
     "output_type": "stream",
     "text": [
      "\n",
      "image 1/1 /home/ishant/Desktop/KeypointModelTest/New_test_img_2/images/cover_image-20230611142028.jpg: 384x640 1 car, 104.6ms\n",
      "Speed: 2.5ms preprocess, 104.6ms inference, 0.8ms postprocess per image at shape (1, 3, 384, 640)\n"
     ]
    },
    {
     "name": "stdout",
     "output_type": "stream",
     "text": [
      "cover_image-20230611142028.jpg\n"
     ]
    },
    {
     "name": "stderr",
     "output_type": "stream",
     "text": [
      "\n",
      "image 1/1 /home/ishant/Desktop/KeypointModelTest/New_test_img_2/images/right_side_view-20221221130554.jpg: 384x640 1 car, 74.7ms\n",
      "Speed: 1.7ms preprocess, 74.7ms inference, 1.0ms postprocess per image at shape (1, 3, 384, 640)\n"
     ]
    },
    {
     "name": "stdout",
     "output_type": "stream",
     "text": [
      "right_side_view-20221221130554.jpg\n"
     ]
    },
    {
     "name": "stderr",
     "output_type": "stream",
     "text": [
      "\n",
      "image 1/1 /home/ishant/Desktop/KeypointModelTest/New_test_img_2/images/right_side_view-20231010184251.jpg: 384x640 1 car, 60.5ms\n",
      "Speed: 1.7ms preprocess, 60.5ms inference, 0.7ms postprocess per image at shape (1, 3, 384, 640)\n"
     ]
    },
    {
     "name": "stdout",
     "output_type": "stream",
     "text": [
      "right_side_view-20231010184251.jpg\n"
     ]
    },
    {
     "name": "stderr",
     "output_type": "stream",
     "text": [
      "\n",
      "image 1/1 /home/ishant/Desktop/KeypointModelTest/New_test_img_2/images/right_side_view-20231102120441.jpg: 384x640 1 car, 74.8ms\n",
      "Speed: 1.7ms preprocess, 74.8ms inference, 0.9ms postprocess per image at shape (1, 3, 384, 640)\n"
     ]
    },
    {
     "name": "stdout",
     "output_type": "stream",
     "text": [
      "right_side_view-20231102120441.jpg\n"
     ]
    },
    {
     "name": "stderr",
     "output_type": "stream",
     "text": [
      "\n",
      "image 1/1 /home/ishant/Desktop/KeypointModelTest/New_test_img_2/images/left_side_view-20230623143209.jpg: 384x640 1 car, 64.1ms\n",
      "Speed: 1.8ms preprocess, 64.1ms inference, 1.0ms postprocess per image at shape (1, 3, 384, 640)\n"
     ]
    },
    {
     "name": "stdout",
     "output_type": "stream",
     "text": [
      "left_side_view-20230623143209.jpg\n"
     ]
    },
    {
     "name": "stderr",
     "output_type": "stream",
     "text": [
      "\n",
      "image 1/1 /home/ishant/Desktop/KeypointModelTest/New_test_img_2/images/right_side_view-20231229091334.jpg: 384x640 1 car, 68.0ms\n",
      "Speed: 2.1ms preprocess, 68.0ms inference, 1.2ms postprocess per image at shape (1, 3, 384, 640)\n"
     ]
    },
    {
     "name": "stdout",
     "output_type": "stream",
     "text": [
      "right_side_view-20231229091334.jpg\n"
     ]
    },
    {
     "name": "stderr",
     "output_type": "stream",
     "text": [
      "\n",
      "image 1/1 /home/ishant/Desktop/KeypointModelTest/New_test_img_2/images/right_side_view-20231005125331.jpeg: 384x640 1 car, 69.3ms\n",
      "Speed: 2.7ms preprocess, 69.3ms inference, 0.9ms postprocess per image at shape (1, 3, 384, 640)\n"
     ]
    },
    {
     "name": "stdout",
     "output_type": "stream",
     "text": [
      "right_side_view-20231005125331.jpeg\n"
     ]
    },
    {
     "name": "stderr",
     "output_type": "stream",
     "text": [
      "\n",
      "image 1/1 /home/ishant/Desktop/KeypointModelTest/New_test_img_2/images/rear_right_view-20230903153523.jpg: 384x640 1 car, 76.5ms\n",
      "Speed: 3.7ms preprocess, 76.5ms inference, 0.7ms postprocess per image at shape (1, 3, 384, 640)\n"
     ]
    },
    {
     "name": "stdout",
     "output_type": "stream",
     "text": [
      "rear_right_view-20230903153523.jpg\n"
     ]
    },
    {
     "name": "stderr",
     "output_type": "stream",
     "text": [
      "\n",
      "image 1/1 /home/ishant/Desktop/KeypointModelTest/New_test_img_2/images/left_side_view-20240109213118.jpg: 384x640 1 car, 64.3ms\n",
      "Speed: 1.6ms preprocess, 64.3ms inference, 1.0ms postprocess per image at shape (1, 3, 384, 640)\n"
     ]
    },
    {
     "name": "stdout",
     "output_type": "stream",
     "text": [
      "left_side_view-20240109213118.jpg\n"
     ]
    },
    {
     "name": "stderr",
     "output_type": "stream",
     "text": [
      "\n",
      "image 1/1 /home/ishant/Desktop/KeypointModelTest/New_test_img_2/images/left_side_view-20231219133450.jpeg: 384x640 1 car, 70.3ms\n",
      "Speed: 2.0ms preprocess, 70.3ms inference, 0.8ms postprocess per image at shape (1, 3, 384, 640)\n"
     ]
    },
    {
     "name": "stdout",
     "output_type": "stream",
     "text": [
      "left_side_view-20231219133450.jpeg\n"
     ]
    },
    {
     "name": "stderr",
     "output_type": "stream",
     "text": [
      "\n",
      "image 1/1 /home/ishant/Desktop/KeypointModelTest/New_test_img_2/images/cover_image-20231129110331.jpg: 384x640 1 car, 71.5ms\n",
      "Speed: 1.8ms preprocess, 71.5ms inference, 0.8ms postprocess per image at shape (1, 3, 384, 640)\n"
     ]
    },
    {
     "name": "stdout",
     "output_type": "stream",
     "text": [
      "cover_image-20231129110331.jpg\n"
     ]
    },
    {
     "name": "stderr",
     "output_type": "stream",
     "text": [
      "\n",
      "image 1/1 /home/ishant/Desktop/KeypointModelTest/New_test_img_2/images/rear_left_view-20230929231222.jpg: 384x640 1 car, 70.3ms\n",
      "Speed: 2.0ms preprocess, 70.3ms inference, 0.7ms postprocess per image at shape (1, 3, 384, 640)\n"
     ]
    },
    {
     "name": "stdout",
     "output_type": "stream",
     "text": [
      "rear_left_view-20230929231222.jpg\n"
     ]
    },
    {
     "name": "stderr",
     "output_type": "stream",
     "text": [
      "\n",
      "image 1/1 /home/ishant/Desktop/KeypointModelTest/New_test_img_2/images/front_right_view-20230811143939.jpeg: 384x640 1 car, 136.6ms\n",
      "Speed: 2.1ms preprocess, 136.6ms inference, 0.9ms postprocess per image at shape (1, 3, 384, 640)\n"
     ]
    },
    {
     "name": "stdout",
     "output_type": "stream",
     "text": [
      "front_right_view-20230811143939.jpeg\n"
     ]
    },
    {
     "name": "stderr",
     "output_type": "stream",
     "text": [
      "\n",
      "image 1/1 /home/ishant/Desktop/KeypointModelTest/New_test_img_2/images/left_side_view-20220502122711.jpg: 384x640 1 car, 71.6ms\n",
      "Speed: 1.8ms preprocess, 71.6ms inference, 0.8ms postprocess per image at shape (1, 3, 384, 640)\n"
     ]
    },
    {
     "name": "stdout",
     "output_type": "stream",
     "text": [
      "left_side_view-20220502122711.jpg\n"
     ]
    },
    {
     "name": "stderr",
     "output_type": "stream",
     "text": [
      "\n",
      "image 1/1 /home/ishant/Desktop/KeypointModelTest/New_test_img_2/images/left_side_view-20230611142053.jpg: 384x640 1 car, 74.8ms\n",
      "Speed: 1.7ms preprocess, 74.8ms inference, 0.8ms postprocess per image at shape (1, 3, 384, 640)\n"
     ]
    },
    {
     "name": "stdout",
     "output_type": "stream",
     "text": [
      "left_side_view-20230611142053.jpg\n"
     ]
    },
    {
     "name": "stderr",
     "output_type": "stream",
     "text": [
      "\n",
      "image 1/1 /home/ishant/Desktop/KeypointModelTest/New_test_img_2/images/rear_left_view-20231006140051.jpeg: 384x640 1 car, 71.1ms\n",
      "Speed: 1.9ms preprocess, 71.1ms inference, 0.8ms postprocess per image at shape (1, 3, 384, 640)\n"
     ]
    },
    {
     "name": "stdout",
     "output_type": "stream",
     "text": [
      "rear_left_view-20231006140051.jpeg\n"
     ]
    },
    {
     "name": "stderr",
     "output_type": "stream",
     "text": [
      "\n",
      "image 1/1 /home/ishant/Desktop/KeypointModelTest/New_test_img_2/images/right_side_view-20230811143924.jpeg: 384x640 1 car, 62.3ms\n",
      "Speed: 1.6ms preprocess, 62.3ms inference, 0.9ms postprocess per image at shape (1, 3, 384, 640)\n"
     ]
    },
    {
     "name": "stdout",
     "output_type": "stream",
     "text": [
      "right_side_view-20230811143924.jpeg\n"
     ]
    },
    {
     "name": "stderr",
     "output_type": "stream",
     "text": [
      "\n",
      "image 1/1 /home/ishant/Desktop/KeypointModelTest/New_test_img_2/images/right_side_view-20231006140031.jpeg: 384x640 1 car, 65.5ms\n",
      "Speed: 1.8ms preprocess, 65.5ms inference, 0.7ms postprocess per image at shape (1, 3, 384, 640)\n"
     ]
    },
    {
     "name": "stdout",
     "output_type": "stream",
     "text": [
      "right_side_view-20231006140031.jpeg\n"
     ]
    },
    {
     "name": "stderr",
     "output_type": "stream",
     "text": [
      "\n",
      "image 1/1 /home/ishant/Desktop/KeypointModelTest/New_test_img_2/images/rear_left_view-20231102120451.jpg: 384x640 1 car, 86.3ms\n",
      "Speed: 2.1ms preprocess, 86.3ms inference, 1.0ms postprocess per image at shape (1, 3, 384, 640)\n"
     ]
    },
    {
     "name": "stdout",
     "output_type": "stream",
     "text": [
      "rear_left_view-20231102120451.jpg\n"
     ]
    },
    {
     "name": "stderr",
     "output_type": "stream",
     "text": [
      "\n",
      "image 1/1 /home/ishant/Desktop/KeypointModelTest/New_test_img_2/images/left_side_view-20231214103340.jpg: 384x640 1 car, 74.0ms\n",
      "Speed: 2.2ms preprocess, 74.0ms inference, 0.7ms postprocess per image at shape (1, 3, 384, 640)\n"
     ]
    },
    {
     "name": "stdout",
     "output_type": "stream",
     "text": [
      "left_side_view-20231214103340.jpg\n"
     ]
    },
    {
     "name": "stderr",
     "output_type": "stream",
     "text": [
      "\n",
      "image 1/1 /home/ishant/Desktop/KeypointModelTest/New_test_img_2/images/cover_image-20230215185935.jpeg: 384x640 1 car, 75.5ms\n",
      "Speed: 1.8ms preprocess, 75.5ms inference, 0.7ms postprocess per image at shape (1, 3, 384, 640)\n"
     ]
    },
    {
     "name": "stdout",
     "output_type": "stream",
     "text": [
      "cover_image-20230215185935.jpeg\n"
     ]
    },
    {
     "name": "stderr",
     "output_type": "stream",
     "text": [
      "\n",
      "image 1/1 /home/ishant/Desktop/KeypointModelTest/New_test_img_2/images/rear_right_view-20230215190038.jpeg: 384x640 1 car, 74.6ms\n",
      "Speed: 1.7ms preprocess, 74.6ms inference, 1.1ms postprocess per image at shape (1, 3, 384, 640)\n"
     ]
    },
    {
     "name": "stdout",
     "output_type": "stream",
     "text": [
      "rear_right_view-20230215190038.jpeg\n"
     ]
    },
    {
     "name": "stderr",
     "output_type": "stream",
     "text": [
      "\n",
      "image 1/1 /home/ishant/Desktop/KeypointModelTest/New_test_img_2/images/front_right_view-20230922182140.jpeg: 384x640 1 car, 69.9ms\n",
      "Speed: 1.7ms preprocess, 69.9ms inference, 0.8ms postprocess per image at shape (1, 3, 384, 640)\n"
     ]
    },
    {
     "name": "stdout",
     "output_type": "stream",
     "text": [
      "front_right_view-20230922182140.jpeg\n"
     ]
    },
    {
     "name": "stderr",
     "output_type": "stream",
     "text": [
      "\n",
      "image 1/1 /home/ishant/Desktop/KeypointModelTest/New_test_img_2/images/cover_image-20231129104222.jpg: 384x640 1 car, 74.2ms\n",
      "Speed: 1.7ms preprocess, 74.2ms inference, 0.9ms postprocess per image at shape (1, 3, 384, 640)\n"
     ]
    },
    {
     "name": "stdout",
     "output_type": "stream",
     "text": [
      "cover_image-20231129104222.jpg\n"
     ]
    },
    {
     "name": "stderr",
     "output_type": "stream",
     "text": [
      "\n",
      "image 1/1 /home/ishant/Desktop/KeypointModelTest/New_test_img_2/images/right_side_view-20230526143254.jpeg: 384x640 1 car, 79.6ms\n",
      "Speed: 1.8ms preprocess, 79.6ms inference, 2.3ms postprocess per image at shape (1, 3, 384, 640)\n"
     ]
    },
    {
     "name": "stdout",
     "output_type": "stream",
     "text": [
      "right_side_view-20230526143254.jpeg\n"
     ]
    },
    {
     "name": "stderr",
     "output_type": "stream",
     "text": [
      "\n",
      "image 1/1 /home/ishant/Desktop/KeypointModelTest/New_test_img_2/images/rear_right_view-20240111121050.jpg: 384x640 1 car, 87.9ms\n",
      "Speed: 2.4ms preprocess, 87.9ms inference, 0.8ms postprocess per image at shape (1, 3, 384, 640)\n"
     ]
    },
    {
     "name": "stdout",
     "output_type": "stream",
     "text": [
      "rear_right_view-20240111121050.jpg\n"
     ]
    },
    {
     "name": "stderr",
     "output_type": "stream",
     "text": [
      "\n",
      "image 1/1 /home/ishant/Desktop/KeypointModelTest/New_test_img_2/images/rear_left_view-20230526143302.jpeg: 384x640 1 car, 70.3ms\n",
      "Speed: 1.7ms preprocess, 70.3ms inference, 1.1ms postprocess per image at shape (1, 3, 384, 640)\n"
     ]
    },
    {
     "name": "stdout",
     "output_type": "stream",
     "text": [
      "rear_left_view-20230526143302.jpeg\n"
     ]
    },
    {
     "name": "stderr",
     "output_type": "stream",
     "text": [
      "\n",
      "image 1/1 /home/ishant/Desktop/KeypointModelTest/New_test_img_2/images/cover_image-20230623143127.jpg: 384x640 1 car, 61.3ms\n",
      "Speed: 1.9ms preprocess, 61.3ms inference, 0.7ms postprocess per image at shape (1, 3, 384, 640)\n"
     ]
    },
    {
     "name": "stdout",
     "output_type": "stream",
     "text": [
      "cover_image-20230623143127.jpg\n"
     ]
    },
    {
     "name": "stderr",
     "output_type": "stream",
     "text": [
      "\n",
      "image 1/1 /home/ishant/Desktop/KeypointModelTest/New_test_img_2/images/front_right_view-20221224131334.jpeg: 384x640 1 car, 71.8ms\n",
      "Speed: 1.8ms preprocess, 71.8ms inference, 0.9ms postprocess per image at shape (1, 3, 384, 640)\n"
     ]
    },
    {
     "name": "stdout",
     "output_type": "stream",
     "text": [
      "front_right_view-20221224131334.jpeg\n"
     ]
    },
    {
     "name": "stderr",
     "output_type": "stream",
     "text": [
      "\n",
      "image 1/1 /home/ishant/Desktop/KeypointModelTest/New_test_img_2/images/rear_right_view-20240109213215.jpg: 384x640 1 car, 69.8ms\n",
      "Speed: 1.8ms preprocess, 69.8ms inference, 0.8ms postprocess per image at shape (1, 3, 384, 640)\n"
     ]
    },
    {
     "name": "stdout",
     "output_type": "stream",
     "text": [
      "rear_right_view-20240109213215.jpg\n"
     ]
    },
    {
     "name": "stderr",
     "output_type": "stream",
     "text": [
      "\n",
      "image 1/1 /home/ishant/Desktop/KeypointModelTest/New_test_img_2/images/right_side_view-20230808130237.jpeg: 384x640 1 car, 132.8ms\n",
      "Speed: 1.6ms preprocess, 132.8ms inference, 0.9ms postprocess per image at shape (1, 3, 384, 640)\n"
     ]
    },
    {
     "name": "stdout",
     "output_type": "stream",
     "text": [
      "right_side_view-20230808130237.jpeg\n"
     ]
    },
    {
     "name": "stderr",
     "output_type": "stream",
     "text": [
      "\n",
      "image 1/1 /home/ishant/Desktop/KeypointModelTest/New_test_img_2/images/right_side_view-20221104130944.jpeg: 384x640 1 car, 69.2ms\n",
      "Speed: 1.7ms preprocess, 69.2ms inference, 0.8ms postprocess per image at shape (1, 3, 384, 640)\n"
     ]
    },
    {
     "name": "stdout",
     "output_type": "stream",
     "text": [
      "right_side_view-20221104130944.jpeg\n"
     ]
    },
    {
     "name": "stderr",
     "output_type": "stream",
     "text": [
      "\n",
      "image 1/1 /home/ishant/Desktop/KeypointModelTest/New_test_img_2/images/rear_right_view-20230910101708.jpg: 384x640 1 car, 65.7ms\n",
      "Speed: 2.9ms preprocess, 65.7ms inference, 0.8ms postprocess per image at shape (1, 3, 384, 640)\n"
     ]
    },
    {
     "name": "stdout",
     "output_type": "stream",
     "text": [
      "rear_right_view-20230910101708.jpg\n"
     ]
    },
    {
     "name": "stderr",
     "output_type": "stream",
     "text": [
      "\n",
      "image 1/1 /home/ishant/Desktop/KeypointModelTest/New_test_img_2/images/rear_right_view-20221104131019.jpeg: 384x640 1 car, 67.7ms\n",
      "Speed: 2.6ms preprocess, 67.7ms inference, 0.9ms postprocess per image at shape (1, 3, 384, 640)\n"
     ]
    },
    {
     "name": "stdout",
     "output_type": "stream",
     "text": [
      "rear_right_view-20221104131019.jpeg\n"
     ]
    },
    {
     "name": "stderr",
     "output_type": "stream",
     "text": [
      "\n",
      "image 1/1 /home/ishant/Desktop/KeypointModelTest/New_test_img_2/images/right_side_view-20230910101643.jpg: 384x640 1 car, 81.5ms\n",
      "Speed: 5.0ms preprocess, 81.5ms inference, 0.7ms postprocess per image at shape (1, 3, 384, 640)\n"
     ]
    },
    {
     "name": "stdout",
     "output_type": "stream",
     "text": [
      "right_side_view-20230910101643.jpg\n"
     ]
    },
    {
     "name": "stderr",
     "output_type": "stream",
     "text": [
      "\n",
      "image 1/1 /home/ishant/Desktop/KeypointModelTest/New_test_img_2/images/cover_image-20230910101613.jpg: 384x640 1 car, 130.0ms\n",
      "Speed: 2.3ms preprocess, 130.0ms inference, 0.9ms postprocess per image at shape (1, 3, 384, 640)\n"
     ]
    },
    {
     "name": "stdout",
     "output_type": "stream",
     "text": [
      "cover_image-20230910101613.jpg\n"
     ]
    },
    {
     "name": "stderr",
     "output_type": "stream",
     "text": [
      "\n",
      "image 1/1 /home/ishant/Desktop/KeypointModelTest/New_test_img_2/images/right_side_view-20231016185726.jpg: 384x640 1 car, 71.2ms\n",
      "Speed: 2.0ms preprocess, 71.2ms inference, 0.7ms postprocess per image at shape (1, 3, 384, 640)\n"
     ]
    },
    {
     "name": "stdout",
     "output_type": "stream",
     "text": [
      "right_side_view-20231016185726.jpg\n"
     ]
    },
    {
     "name": "stderr",
     "output_type": "stream",
     "text": [
      "\n",
      "image 1/1 /home/ishant/Desktop/KeypointModelTest/New_test_img_2/images/right_side_view-20240109213133.jpg: 384x640 1 car, 64.5ms\n",
      "Speed: 1.6ms preprocess, 64.5ms inference, 0.8ms postprocess per image at shape (1, 3, 384, 640)\n"
     ]
    },
    {
     "name": "stdout",
     "output_type": "stream",
     "text": [
      "right_side_view-20240109213133.jpg\n"
     ]
    },
    {
     "name": "stderr",
     "output_type": "stream",
     "text": [
      "\n",
      "image 1/1 /home/ishant/Desktop/KeypointModelTest/New_test_img_2/images/cover_image-20231102120422.jpg: 384x640 1 car, 67.4ms\n",
      "Speed: 2.1ms preprocess, 67.4ms inference, 0.8ms postprocess per image at shape (1, 3, 384, 640)\n"
     ]
    },
    {
     "name": "stdout",
     "output_type": "stream",
     "text": [
      "cover_image-20231102120422.jpg\n"
     ]
    },
    {
     "name": "stderr",
     "output_type": "stream",
     "text": [
      "\n",
      "image 1/1 /home/ishant/Desktop/KeypointModelTest/New_test_img_2/images/front_right_view-20240111121017.jpg: 384x640 1 car, 67.5ms\n",
      "Speed: 1.6ms preprocess, 67.5ms inference, 0.7ms postprocess per image at shape (1, 3, 384, 640)\n"
     ]
    },
    {
     "name": "stdout",
     "output_type": "stream",
     "text": [
      "front_right_view-20240111121017.jpg\n"
     ]
    },
    {
     "name": "stderr",
     "output_type": "stream",
     "text": [
      "\n",
      "image 1/1 /home/ishant/Desktop/KeypointModelTest/New_test_img_2/images/front_right_view-20231008101414.jpg: 384x640 1 car, 71.9ms\n",
      "Speed: 1.7ms preprocess, 71.9ms inference, 0.9ms postprocess per image at shape (1, 3, 384, 640)\n"
     ]
    },
    {
     "name": "stdout",
     "output_type": "stream",
     "text": [
      "front_right_view-20231008101414.jpg\n"
     ]
    },
    {
     "name": "stderr",
     "output_type": "stream",
     "text": [
      "\n",
      "image 1/1 /home/ishant/Desktop/KeypointModelTest/New_test_img_2/images/front_right_view-20230111141916.jpeg: 384x640 1 car, 84.4ms\n",
      "Speed: 2.6ms preprocess, 84.4ms inference, 0.9ms postprocess per image at shape (1, 3, 384, 640)\n"
     ]
    },
    {
     "name": "stdout",
     "output_type": "stream",
     "text": [
      "front_right_view-20230111141916.jpeg\n"
     ]
    },
    {
     "name": "stderr",
     "output_type": "stream",
     "text": [
      "\n",
      "image 1/1 /home/ishant/Desktop/KeypointModelTest/New_test_img_2/images/rear_view-20230903153427.jpg: 384x640 1 car, 73.4ms\n",
      "Speed: 2.4ms preprocess, 73.4ms inference, 0.9ms postprocess per image at shape (1, 3, 384, 640)\n"
     ]
    },
    {
     "name": "stdout",
     "output_type": "stream",
     "text": [
      "rear_view-20230903153427.jpg\n"
     ]
    },
    {
     "name": "stderr",
     "output_type": "stream",
     "text": [
      "\n",
      "image 1/1 /home/ishant/Desktop/KeypointModelTest/New_test_img_2/images/right_side_view-20240111121008.jpg: 384x640 1 car, 76.0ms\n",
      "Speed: 1.6ms preprocess, 76.0ms inference, 0.8ms postprocess per image at shape (1, 3, 384, 640)\n"
     ]
    },
    {
     "name": "stdout",
     "output_type": "stream",
     "text": [
      "right_side_view-20240111121008.jpg\n"
     ]
    },
    {
     "name": "stderr",
     "output_type": "stream",
     "text": [
      "\n",
      "image 1/1 /home/ishant/Desktop/KeypointModelTest/New_test_img_2/images/rear_left_view-20231005125343.jpeg: 384x640 1 car, 77.1ms\n",
      "Speed: 1.8ms preprocess, 77.1ms inference, 0.7ms postprocess per image at shape (1, 3, 384, 640)\n"
     ]
    },
    {
     "name": "stdout",
     "output_type": "stream",
     "text": [
      "rear_left_view-20231005125343.jpeg\n"
     ]
    },
    {
     "name": "stderr",
     "output_type": "stream",
     "text": [
      "\n",
      "image 1/1 /home/ishant/Desktop/KeypointModelTest/New_test_img_2/images/rear_right_view-20231102120457.jpg: 384x640 1 car, 66.0ms\n",
      "Speed: 1.7ms preprocess, 66.0ms inference, 0.9ms postprocess per image at shape (1, 3, 384, 640)\n"
     ]
    },
    {
     "name": "stdout",
     "output_type": "stream",
     "text": [
      "rear_right_view-20231102120457.jpg\n"
     ]
    },
    {
     "name": "stderr",
     "output_type": "stream",
     "text": [
      "\n",
      "image 1/1 /home/ishant/Desktop/KeypointModelTest/New_test_img_2/images/rear_left_view-20231010184301.jpg: 384x640 1 car, 74.7ms\n",
      "Speed: 1.8ms preprocess, 74.7ms inference, 1.5ms postprocess per image at shape (1, 3, 384, 640)\n"
     ]
    },
    {
     "name": "stdout",
     "output_type": "stream",
     "text": [
      "rear_left_view-20231010184301.jpg\n"
     ]
    },
    {
     "name": "stderr",
     "output_type": "stream",
     "text": [
      "\n",
      "image 1/1 /home/ishant/Desktop/KeypointModelTest/New_test_img_2/images/right_side_view-20231129110422.jpg: 384x640 1 car, 99.0ms\n",
      "Speed: 15.5ms preprocess, 99.0ms inference, 0.8ms postprocess per image at shape (1, 3, 384, 640)\n"
     ]
    },
    {
     "name": "stdout",
     "output_type": "stream",
     "text": [
      "right_side_view-20231129110422.jpg\n"
     ]
    },
    {
     "name": "stderr",
     "output_type": "stream",
     "text": [
      "\n",
      "image 1/1 /home/ishant/Desktop/KeypointModelTest/New_test_img_2/images/front_right_view-20231005125356.jpeg: 384x640 1 car, 71.0ms\n",
      "Speed: 1.7ms preprocess, 71.0ms inference, 0.9ms postprocess per image at shape (1, 3, 384, 640)\n"
     ]
    },
    {
     "name": "stdout",
     "output_type": "stream",
     "text": [
      "front_right_view-20231005125356.jpeg\n"
     ]
    },
    {
     "name": "stderr",
     "output_type": "stream",
     "text": [
      "\n",
      "image 1/1 /home/ishant/Desktop/KeypointModelTest/New_test_img_2/images/right_side_view-20230215190002.jpeg: 384x640 1 car, 70.9ms\n",
      "Speed: 1.8ms preprocess, 70.9ms inference, 0.8ms postprocess per image at shape (1, 3, 384, 640)\n"
     ]
    },
    {
     "name": "stdout",
     "output_type": "stream",
     "text": [
      "right_side_view-20230215190002.jpeg\n"
     ]
    },
    {
     "name": "stderr",
     "output_type": "stream",
     "text": [
      "\n",
      "image 1/1 /home/ishant/Desktop/KeypointModelTest/New_test_img_2/images/rear_right_view-20230922182154.jpeg: 384x640 1 car, 70.8ms\n",
      "Speed: 1.8ms preprocess, 70.8ms inference, 0.8ms postprocess per image at shape (1, 3, 384, 640)\n"
     ]
    },
    {
     "name": "stdout",
     "output_type": "stream",
     "text": [
      "rear_right_view-20230922182154.jpeg\n"
     ]
    },
    {
     "name": "stderr",
     "output_type": "stream",
     "text": [
      "\n",
      "image 1/1 /home/ishant/Desktop/KeypointModelTest/New_test_img_2/images/left_side_view-20231006140020.jpeg: 384x640 1 car, 70.6ms\n",
      "Speed: 2.5ms preprocess, 70.6ms inference, 0.7ms postprocess per image at shape (1, 3, 384, 640)\n"
     ]
    },
    {
     "name": "stdout",
     "output_type": "stream",
     "text": [
      "left_side_view-20231006140020.jpeg\n"
     ]
    },
    {
     "name": "stderr",
     "output_type": "stream",
     "text": [
      "\n",
      "image 1/1 /home/ishant/Desktop/KeypointModelTest/New_test_img_2/images/left_side_view-20230929231153.jpg: 384x640 1 car, 68.0ms\n",
      "Speed: 2.7ms preprocess, 68.0ms inference, 1.0ms postprocess per image at shape (1, 3, 384, 640)\n"
     ]
    },
    {
     "name": "stdout",
     "output_type": "stream",
     "text": [
      "left_side_view-20230929231153.jpg\n"
     ]
    },
    {
     "name": "stderr",
     "output_type": "stream",
     "text": [
      "\n",
      "image 1/1 /home/ishant/Desktop/KeypointModelTest/New_test_img_2/images/left_side_view-20221221130603.jpg: 384x640 1 car, 71.7ms\n",
      "Speed: 2.7ms preprocess, 71.7ms inference, 0.8ms postprocess per image at shape (1, 3, 384, 640)\n"
     ]
    },
    {
     "name": "stdout",
     "output_type": "stream",
     "text": [
      "left_side_view-20221221130603.jpg\n"
     ]
    },
    {
     "name": "stderr",
     "output_type": "stream",
     "text": [
      "\n",
      "image 1/1 /home/ishant/Desktop/KeypointModelTest/New_test_img_2/images/left_side_view-20230910101636.jpg: 384x640 1 car, 77.9ms\n",
      "Speed: 1.7ms preprocess, 77.9ms inference, 1.2ms postprocess per image at shape (1, 3, 384, 640)\n"
     ]
    },
    {
     "name": "stdout",
     "output_type": "stream",
     "text": [
      "left_side_view-20230910101636.jpg\n"
     ]
    },
    {
     "name": "stderr",
     "output_type": "stream",
     "text": [
      "\n",
      "image 1/1 /home/ishant/Desktop/KeypointModelTest/New_test_img_2/images/left_side_view-20231121165959.jpg: 384x640 1 car, 72.5ms\n",
      "Speed: 2.5ms preprocess, 72.5ms inference, 0.7ms postprocess per image at shape (1, 3, 384, 640)\n"
     ]
    },
    {
     "name": "stdout",
     "output_type": "stream",
     "text": [
      "left_side_view-20231121165959.jpg\n"
     ]
    },
    {
     "name": "stderr",
     "output_type": "stream",
     "text": [
      "\n",
      "image 1/1 /home/ishant/Desktop/KeypointModelTest/New_test_img_2/images/front_right_view-20231016185738.jpg: 384x640 1 car, 72.8ms\n",
      "Speed: 1.7ms preprocess, 72.8ms inference, 0.7ms postprocess per image at shape (1, 3, 384, 640)\n"
     ]
    },
    {
     "name": "stdout",
     "output_type": "stream",
     "text": [
      "front_right_view-20231016185738.jpg\n"
     ]
    },
    {
     "name": "stderr",
     "output_type": "stream",
     "text": [
      "\n",
      "image 1/1 /home/ishant/Desktop/KeypointModelTest/New_test_img_2/images/rear_right_view-20231129110454.jpg: 384x640 1 car, 72.9ms\n",
      "Speed: 1.8ms preprocess, 72.9ms inference, 0.7ms postprocess per image at shape (1, 3, 384, 640)\n"
     ]
    },
    {
     "name": "stdout",
     "output_type": "stream",
     "text": [
      "rear_right_view-20231129110454.jpg\n"
     ]
    },
    {
     "name": "stderr",
     "output_type": "stream",
     "text": [
      "\n",
      "image 1/1 /home/ishant/Desktop/KeypointModelTest/New_test_img_2/images/front_right_view-20230531180122.jpg: 384x640 1 car, 92.5ms\n",
      "Speed: 1.9ms preprocess, 92.5ms inference, 1.1ms postprocess per image at shape (1, 3, 384, 640)\n"
     ]
    },
    {
     "name": "stdout",
     "output_type": "stream",
     "text": [
      "front_right_view-20230531180122.jpg\n"
     ]
    },
    {
     "name": "stderr",
     "output_type": "stream",
     "text": [
      "\n",
      "image 1/1 /home/ishant/Desktop/KeypointModelTest/New_test_img_2/images/left_side_view-20230526143246.jpeg: 384x640 1 car, 79.6ms\n",
      "Speed: 1.9ms preprocess, 79.6ms inference, 1.0ms postprocess per image at shape (1, 3, 384, 640)\n"
     ]
    },
    {
     "name": "stdout",
     "output_type": "stream",
     "text": [
      "left_side_view-20230526143246.jpeg\n"
     ]
    },
    {
     "name": "stderr",
     "output_type": "stream",
     "text": [
      "\n",
      "image 1/1 /home/ishant/Desktop/KeypointModelTest/New_test_img_2/images/right_side_view-20230903153440.jpg: 384x640 1 car, 69.0ms\n",
      "Speed: 2.1ms preprocess, 69.0ms inference, 0.7ms postprocess per image at shape (1, 3, 384, 640)\n"
     ]
    },
    {
     "name": "stdout",
     "output_type": "stream",
     "text": [
      "right_side_view-20230903153440.jpg\n"
     ]
    },
    {
     "name": "stderr",
     "output_type": "stream",
     "text": [
      "\n",
      "image 1/1 /home/ishant/Desktop/KeypointModelTest/New_test_img_2/images/left_side_view-20230811143910.jpeg: 384x640 1 car, 71.0ms\n",
      "Speed: 1.6ms preprocess, 71.0ms inference, 0.9ms postprocess per image at shape (1, 3, 384, 640)\n"
     ]
    },
    {
     "name": "stdout",
     "output_type": "stream",
     "text": [
      "left_side_view-20230811143910.jpeg\n"
     ]
    },
    {
     "name": "stderr",
     "output_type": "stream",
     "text": [
      "\n",
      "image 1/1 /home/ishant/Desktop/KeypointModelTest/New_test_img_2/images/right_side_view-20231219133504.jpeg: 384x640 1 car, 70.0ms\n",
      "Speed: 1.6ms preprocess, 70.0ms inference, 0.8ms postprocess per image at shape (1, 3, 384, 640)\n"
     ]
    },
    {
     "name": "stdout",
     "output_type": "stream",
     "text": [
      "right_side_view-20231219133504.jpeg\n"
     ]
    },
    {
     "name": "stderr",
     "output_type": "stream",
     "text": [
      "\n",
      "image 1/1 /home/ishant/Desktop/KeypointModelTest/New_test_img_2/images/right_side_view-20230522160731.jpg: 384x640 1 car, 74.6ms\n",
      "Speed: 19.6ms preprocess, 74.6ms inference, 1.0ms postprocess per image at shape (1, 3, 384, 640)\n"
     ]
    },
    {
     "name": "stdout",
     "output_type": "stream",
     "text": [
      "right_side_view-20230522160731.jpg\n"
     ]
    },
    {
     "name": "stderr",
     "output_type": "stream",
     "text": [
      "\n",
      "image 1/1 /home/ishant/Desktop/KeypointModelTest/New_test_img_2/images/left_side_view-20231005125319.jpeg: 384x640 1 car, 70.6ms\n",
      "Speed: 2.3ms preprocess, 70.6ms inference, 1.1ms postprocess per image at shape (1, 3, 384, 640)\n"
     ]
    },
    {
     "name": "stdout",
     "output_type": "stream",
     "text": [
      "left_side_view-20231005125319.jpeg\n"
     ]
    },
    {
     "name": "stderr",
     "output_type": "stream",
     "text": [
      "\n",
      "image 1/1 /home/ishant/Desktop/KeypointModelTest/New_test_img_2/images/left_side_view-20221224131258.jpeg: 384x640 1 car, 138.8ms\n",
      "Speed: 2.0ms preprocess, 138.8ms inference, 0.8ms postprocess per image at shape (1, 3, 384, 640)\n"
     ]
    },
    {
     "name": "stdout",
     "output_type": "stream",
     "text": [
      "left_side_view-20221224131258.jpeg\n"
     ]
    },
    {
     "name": "stderr",
     "output_type": "stream",
     "text": [
      "\n",
      "image 1/1 /home/ishant/Desktop/KeypointModelTest/New_test_img_2/images/front_right_view-20221221130635.jpg: 384x640 1 car, 65.7ms\n",
      "Speed: 1.6ms preprocess, 65.7ms inference, 1.1ms postprocess per image at shape (1, 3, 384, 640)\n"
     ]
    },
    {
     "name": "stdout",
     "output_type": "stream",
     "text": [
      "front_right_view-20221221130635.jpg\n"
     ]
    },
    {
     "name": "stderr",
     "output_type": "stream",
     "text": [
      "\n",
      "image 1/1 /home/ishant/Desktop/KeypointModelTest/New_test_img_2/images/cover_image-20230111141706.jpeg: 384x640 1 car, 66.9ms\n",
      "Speed: 1.8ms preprocess, 66.9ms inference, 1.2ms postprocess per image at shape (1, 3, 384, 640)\n"
     ]
    },
    {
     "name": "stdout",
     "output_type": "stream",
     "text": [
      "cover_image-20230111141706.jpeg\n"
     ]
    },
    {
     "name": "stderr",
     "output_type": "stream",
     "text": [
      "\n",
      "image 1/1 /home/ishant/Desktop/KeypointModelTest/New_test_img_2/images/left_side_view-20230331173857.jpg: 384x640 1 car, 78.4ms\n",
      "Speed: 1.9ms preprocess, 78.4ms inference, 1.8ms postprocess per image at shape (1, 3, 384, 640)\n"
     ]
    },
    {
     "name": "stdout",
     "output_type": "stream",
     "text": [
      "left_side_view-20230331173857.jpg\n"
     ]
    },
    {
     "name": "stderr",
     "output_type": "stream",
     "text": [
      "\n",
      "image 1/1 /home/ishant/Desktop/KeypointModelTest/New_test_img_2/images/front_right_view-20231006140106.jpeg: 384x640 1 car, 70.1ms\n",
      "Speed: 1.7ms preprocess, 70.1ms inference, 0.9ms postprocess per image at shape (1, 3, 384, 640)\n"
     ]
    },
    {
     "name": "stdout",
     "output_type": "stream",
     "text": [
      "front_right_view-20231006140106.jpeg\n"
     ]
    },
    {
     "name": "stderr",
     "output_type": "stream",
     "text": [
      "\n",
      "image 1/1 /home/ishant/Desktop/KeypointModelTest/New_test_img_2/images/cover_image-20231016185638.jpg: 384x640 1 car, 102.2ms\n",
      "Speed: 1.6ms preprocess, 102.2ms inference, 0.8ms postprocess per image at shape (1, 3, 384, 640)\n"
     ]
    },
    {
     "name": "stdout",
     "output_type": "stream",
     "text": [
      "cover_image-20231016185638.jpg\n"
     ]
    },
    {
     "name": "stderr",
     "output_type": "stream",
     "text": [
      "\n",
      "image 1/1 /home/ishant/Desktop/KeypointModelTest/New_test_img_2/images/front_right_view-20230803123230.jpeg: 384x640 1 car, 66.1ms\n",
      "Speed: 2.4ms preprocess, 66.1ms inference, 1.1ms postprocess per image at shape (1, 3, 384, 640)\n"
     ]
    },
    {
     "name": "stdout",
     "output_type": "stream",
     "text": [
      "front_right_view-20230803123230.jpeg\n"
     ]
    },
    {
     "name": "stderr",
     "output_type": "stream",
     "text": [
      "\n",
      "image 1/1 /home/ishant/Desktop/KeypointModelTest/New_test_img_2/images/cover_image-20230929231111.jpg: 384x640 1 car, 66.9ms\n",
      "Speed: 2.3ms preprocess, 66.9ms inference, 0.9ms postprocess per image at shape (1, 3, 384, 640)\n"
     ]
    },
    {
     "name": "stdout",
     "output_type": "stream",
     "text": [
      "cover_image-20230929231111.jpg\n"
     ]
    },
    {
     "name": "stderr",
     "output_type": "stream",
     "text": [
      "\n",
      "image 1/1 /home/ishant/Desktop/KeypointModelTest/New_test_img_2/images/right_side_view-20230531180111.jpg: 384x640 1 car, 72.9ms\n",
      "Speed: 1.8ms preprocess, 72.9ms inference, 1.1ms postprocess per image at shape (1, 3, 384, 640)\n"
     ]
    },
    {
     "name": "stdout",
     "output_type": "stream",
     "text": [
      "right_side_view-20230531180111.jpg\n"
     ]
    },
    {
     "name": "stderr",
     "output_type": "stream",
     "text": [
      "\n",
      "image 1/1 /home/ishant/Desktop/KeypointModelTest/New_test_img_2/images/right_side_view-20220502122718.jpg: 384x640 1 car, 72.6ms\n",
      "Speed: 1.7ms preprocess, 72.6ms inference, 1.0ms postprocess per image at shape (1, 3, 384, 640)\n"
     ]
    },
    {
     "name": "stdout",
     "output_type": "stream",
     "text": [
      "right_side_view-20220502122718.jpg\n"
     ]
    },
    {
     "name": "stderr",
     "output_type": "stream",
     "text": [
      "\n",
      "image 1/1 /home/ishant/Desktop/KeypointModelTest/New_test_img_2/images/cover_image-20230519172809.jpeg: 384x640 1 car, 125.0ms\n",
      "Speed: 1.9ms preprocess, 125.0ms inference, 1.0ms postprocess per image at shape (1, 3, 384, 640)\n"
     ]
    },
    {
     "name": "stdout",
     "output_type": "stream",
     "text": [
      "cover_image-20230519172809.jpeg\n"
     ]
    },
    {
     "name": "stderr",
     "output_type": "stream",
     "text": [
      "\n",
      "image 1/1 /home/ishant/Desktop/KeypointModelTest/New_test_img_2/images/rear_left_view-20230307161503.jpg: 384x640 1 car, 75.4ms\n",
      "Speed: 1.9ms preprocess, 75.4ms inference, 0.7ms postprocess per image at shape (1, 3, 384, 640)\n"
     ]
    },
    {
     "name": "stdout",
     "output_type": "stream",
     "text": [
      "rear_left_view-20230307161503.jpg\n"
     ]
    },
    {
     "name": "stderr",
     "output_type": "stream",
     "text": [
      "\n",
      "image 1/1 /home/ishant/Desktop/KeypointModelTest/New_test_img_2/images/cover_image-20230803123021.jpeg: 384x640 1 car, 69.1ms\n",
      "Speed: 1.8ms preprocess, 69.1ms inference, 0.8ms postprocess per image at shape (1, 3, 384, 640)\n"
     ]
    },
    {
     "name": "stdout",
     "output_type": "stream",
     "text": [
      "cover_image-20230803123021.jpeg\n"
     ]
    },
    {
     "name": "stderr",
     "output_type": "stream",
     "text": [
      "\n",
      "image 1/1 /home/ishant/Desktop/KeypointModelTest/New_test_img_2/images/left_side_view-20231016185714.jpg: 384x640 1 car, 73.0ms\n",
      "Speed: 1.7ms preprocess, 73.0ms inference, 0.8ms postprocess per image at shape (1, 3, 384, 640)\n"
     ]
    },
    {
     "name": "stdout",
     "output_type": "stream",
     "text": [
      "left_side_view-20231016185714.jpg\n"
     ]
    },
    {
     "name": "stderr",
     "output_type": "stream",
     "text": [
      "\n",
      "image 1/1 /home/ishant/Desktop/KeypointModelTest/New_test_img_2/images/front_right_view-20240109213214.jpg: 384x640 1 car, 65.4ms\n",
      "Speed: 2.2ms preprocess, 65.4ms inference, 0.7ms postprocess per image at shape (1, 3, 384, 640)\n"
     ]
    },
    {
     "name": "stdout",
     "output_type": "stream",
     "text": [
      "front_right_view-20240109213214.jpg\n"
     ]
    },
    {
     "name": "stderr",
     "output_type": "stream",
     "text": [
      "\n",
      "image 1/1 /home/ishant/Desktop/KeypointModelTest/New_test_img_2/images/cover_image-20230811143856.jpeg: 384x640 1 car, 72.0ms\n",
      "Speed: 1.9ms preprocess, 72.0ms inference, 0.9ms postprocess per image at shape (1, 3, 384, 640)\n"
     ]
    },
    {
     "name": "stdout",
     "output_type": "stream",
     "text": [
      "cover_image-20230811143856.jpeg\n"
     ]
    },
    {
     "name": "stderr",
     "output_type": "stream",
     "text": [
      "\n",
      "image 1/1 /home/ishant/Desktop/KeypointModelTest/New_test_img_2/images/rear_right_view-20231005125408.jpeg: 384x640 1 car, 73.2ms\n",
      "Speed: 3.3ms preprocess, 73.2ms inference, 0.8ms postprocess per image at shape (1, 3, 384, 640)\n"
     ]
    },
    {
     "name": "stdout",
     "output_type": "stream",
     "text": [
      "rear_right_view-20231005125408.jpeg\n"
     ]
    },
    {
     "name": "stderr",
     "output_type": "stream",
     "text": [
      "\n",
      "image 1/1 /home/ishant/Desktop/KeypointModelTest/New_test_img_2/images/rear_left_view-20221224131323.jpeg: 384x640 1 car, 68.4ms\n",
      "Speed: 1.6ms preprocess, 68.4ms inference, 0.8ms postprocess per image at shape (1, 3, 384, 640)\n"
     ]
    },
    {
     "name": "stdout",
     "output_type": "stream",
     "text": [
      "rear_left_view-20221224131323.jpeg\n"
     ]
    },
    {
     "name": "stderr",
     "output_type": "stream",
     "text": [
      "\n",
      "image 1/1 /home/ishant/Desktop/KeypointModelTest/New_test_img_2/images/right_side_view-20230331173906.jpg: 384x640 1 car, 75.7ms\n",
      "Speed: 1.7ms preprocess, 75.7ms inference, 0.7ms postprocess per image at shape (1, 3, 384, 640)\n"
     ]
    },
    {
     "name": "stdout",
     "output_type": "stream",
     "text": [
      "right_side_view-20230331173906.jpg\n"
     ]
    },
    {
     "name": "stderr",
     "output_type": "stream",
     "text": [
      "\n",
      "image 1/1 /home/ishant/Desktop/KeypointModelTest/New_test_img_2/images/front_right_view-20220502122727.jpg: 384x640 1 car, 68.9ms\n",
      "Speed: 1.6ms preprocess, 68.9ms inference, 0.8ms postprocess per image at shape (1, 3, 384, 640)\n"
     ]
    },
    {
     "name": "stdout",
     "output_type": "stream",
     "text": [
      "front_right_view-20220502122727.jpg\n"
     ]
    },
    {
     "name": "stderr",
     "output_type": "stream",
     "text": [
      "\n",
      "image 1/1 /home/ishant/Desktop/KeypointModelTest/New_test_img_2/images/rear_right_view-20221224131344.jpeg: 384x640 1 car, 71.9ms\n",
      "Speed: 1.7ms preprocess, 71.9ms inference, 0.8ms postprocess per image at shape (1, 3, 384, 640)\n"
     ]
    },
    {
     "name": "stdout",
     "output_type": "stream",
     "text": [
      "rear_right_view-20221224131344.jpeg\n"
     ]
    },
    {
     "name": "stderr",
     "output_type": "stream",
     "text": [
      "\n",
      "image 1/1 /home/ishant/Desktop/KeypointModelTest/New_test_img_2/images/cover_image-20230522160657.jpg: 384x640 1 car, 70.8ms\n",
      "Speed: 1.9ms preprocess, 70.8ms inference, 0.8ms postprocess per image at shape (1, 3, 384, 640)\n"
     ]
    },
    {
     "name": "stdout",
     "output_type": "stream",
     "text": [
      "cover_image-20230522160657.jpg\n"
     ]
    },
    {
     "name": "stderr",
     "output_type": "stream",
     "text": [
      "\n",
      "image 1/1 /home/ishant/Desktop/KeypointModelTest/New_test_img_2/images/front_right_view-20230526143309.jpeg: 384x640 1 car, 84.5ms\n",
      "Speed: 1.9ms preprocess, 84.5ms inference, 0.8ms postprocess per image at shape (1, 3, 384, 640)\n"
     ]
    },
    {
     "name": "stdout",
     "output_type": "stream",
     "text": [
      "front_right_view-20230526143309.jpeg\n"
     ]
    },
    {
     "name": "stderr",
     "output_type": "stream",
     "text": [
      "\n",
      "image 1/1 /home/ishant/Desktop/KeypointModelTest/New_test_img_2/images/rear_left_view-20240103130723.jpg: 384x640 1 car, 73.6ms\n",
      "Speed: 2.3ms preprocess, 73.6ms inference, 1.0ms postprocess per image at shape (1, 3, 384, 640)\n"
     ]
    },
    {
     "name": "stdout",
     "output_type": "stream",
     "text": [
      "rear_left_view-20240103130723.jpg\n"
     ]
    },
    {
     "name": "stderr",
     "output_type": "stream",
     "text": [
      "\n",
      "image 1/1 /home/ishant/Desktop/KeypointModelTest/New_test_img_2/images/rear_right_view-20230331174019.jpg: 384x640 1 car, 68.7ms\n",
      "Speed: 1.8ms preprocess, 68.7ms inference, 0.9ms postprocess per image at shape (1, 3, 384, 640)\n"
     ]
    },
    {
     "name": "stdout",
     "output_type": "stream",
     "text": [
      "rear_right_view-20230331174019.jpg\n"
     ]
    },
    {
     "ename": "TypeError",
     "evalue": "__init__() got an unexpected keyword argument 'name'",
     "output_type": "error",
     "traceback": [
      "\u001b[0;31m---------------------------------------------------------------------------\u001b[0m",
      "\u001b[0;31mTypeError\u001b[0m                                 Traceback (most recent call last)",
      "Cell \u001b[0;32mIn[7], line 10\u001b[0m\n\u001b[1;32m      8\u001b[0m \u001b[38;5;66;03m# print(dis)\u001b[39;00m\n\u001b[1;32m      9\u001b[0m name \u001b[38;5;241m=\u001b[39m \u001b[38;5;124mf\u001b[39m\u001b[38;5;124m\"\u001b[39m\u001b[38;5;124mTrain_No_\u001b[39m\u001b[38;5;132;01m{\u001b[39;00mtrain_no\u001b[38;5;132;01m}\u001b[39;00m\u001b[38;5;124m\"\u001b[39m\n\u001b[0;32m---> 10\u001b[0m \u001b[38;5;28;01mwith\u001b[39;00m \u001b[43mLive\u001b[49m\u001b[43m(\u001b[49m\u001b[43mname\u001b[49m\u001b[38;5;241;43m=\u001b[39;49m\u001b[43mname\u001b[49m\u001b[43m)\u001b[49m \u001b[38;5;28;01mas\u001b[39;00m live:\n\u001b[1;32m     11\u001b[0m     \u001b[38;5;66;03m# Log model parameters if needed\u001b[39;00m\n\u001b[1;32m     12\u001b[0m     \u001b[38;5;66;03m# Log the PyTorch model\u001b[39;00m\n\u001b[1;32m     13\u001b[0m     live\u001b[38;5;241m.\u001b[39mlog_artifact(model_path)\n\u001b[1;32m     15\u001b[0m     live\u001b[38;5;241m.\u001b[39mlog_metrics({\n\u001b[1;32m     16\u001b[0m         \u001b[38;5;124m\"\u001b[39m\u001b[38;5;124mtest_avg_distance\u001b[39m\u001b[38;5;124m\"\u001b[39m:dis \n\u001b[1;32m     17\u001b[0m     })\n",
      "\u001b[0;31mTypeError\u001b[0m: __init__() got an unexpected keyword argument 'name'"
     ]
    }
   ],
   "source": [
    "train_no = 38\n",
    "model_path = f'runs15Jan/train{train_no}/weights/best.pt'\n",
    "import torch\n",
    "device = torch.device('cpu')\n",
    "model = YOLO(model_path)  # Or 'path/to/best.pt'\n",
    "model.to(device)\n",
    "dis = check_avg_dis(model)\n",
    "# print(dis)\n",
    "name = f\"Train_No_{train_no}\"\n"
   ]
  },
  {
   "cell_type": "code",
   "execution_count": 14,
   "metadata": {},
   "outputs": [
    {
     "name": "stderr",
     "output_type": "stream",
     "text": [
      "WARNING:dvclive:Can't save experiment without a Git Repo.\n",
      "Create a Git repo (`git init`) and commit (`git commit`).\n",
      "WARNING:dvclive:A DVC repo is required to log artifacts. Skipping `log_artifact(plot.png)`.\n"
     ]
    },
    {
     "data": {
      "image/png": "[encoded data removed]",
      "text/plain": [
       "<Figure size 1000x600 with 2 Axes>"
      ]
     },
     "metadata": {},
     "output_type": "display_data"
    }
   ],
   "source": [
    "with Live(save_dvc_exp=True) as live:\n",
    "    # Log model parameters if needed\n",
    "    # Log the PyTorch model\n",
    "    # live.log_artifact(model_path)\n",
    "    \n",
    "    live.log_metric(\n",
    "        \"test_avg_distance\" ,dis \n",
    "    )\n",
    "\n",
    "    # Your plotting code\n",
    "    summary_data = df.groupby('Angle')['Average Distance'].agg(['mean', 'count'])\n",
    "\n",
    "    custom_ticks = list(range(45, 361, 15))\n",
    "\n",
    "    fig, ax1 = plt.subplots(figsize=(10, 6))\n",
    "\n",
    "    color = 'tab:blue'\n",
    "    ax1.set_xlabel('Angle')\n",
    "    ax1.set_ylabel('Average Distance', color=color)\n",
    "    ax1.bar(summary_data.index, summary_data['mean'], color=color, edgecolor='black')\n",
    "    ax1.tick_params(axis='y', labelcolor=color)\n",
    "    ax1.set_xticks(custom_ticks)\n",
    "\n",
    "    ax2 = ax1.twinx()\n",
    "    color = 'tab:red'\n",
    "    ax2.set_ylabel('Count', color=color)\n",
    "    ax2.plot(summary_data.index, summary_data['count'], color=color, marker='o')\n",
    "    ax2.tick_params(axis='y', labelcolor=color)\n",
    "\n",
    "    plt.title('Average Distance and Count for Different Angles')\n",
    "\n",
    "    # Save the figure\n",
    "    plt.savefig('plot.png')\n",
    "\n",
    "    # Log the figure\n",
    "    # live.log_artifact('plot.png')\n",
    "\n",
    "    for angle, values in summary_data.iterrows():\n",
    "        live.log_metric(\n",
    "            f\"angle_{angle}_dis\" ,values['mean']\n",
    "        )"
   ]
  },
  {
   "cell_type": "code",
   "execution_count": null,
   "metadata": {},
   "outputs": [],
   "source": []
  }
 ],
 "metadata": {
  "kernelspec": {
   "display_name": "Python 3",
   "language": "python",
   "name": "python3"
  },
  "language_info": {
   "codemirror_mode": {
    "name": "ipython",
    "version": 3
   },
   "file_extension": ".py",
   "mimetype": "text/x-python",
   "name": "python",
   "nbconvert_exporter": "python",
   "pygments_lexer": "ipython3",
   "version": "3.8.10"
  }
 },
 "nbformat": 4,
 "nbformat_minor": 2
}
